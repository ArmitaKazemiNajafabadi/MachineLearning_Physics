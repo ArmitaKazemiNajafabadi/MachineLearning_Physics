{
  "nbformat": 4,
  "nbformat_minor": 0,
  "metadata": {
    "colab": {
      "name": "Logistic_Regression.ipynb",
      "version": "0.3.2",
      "provenance": [],
      "collapsed_sections": [
        "6cC5C4jjKNjd",
        "vUruVCz_8Y40"
      ],
      "include_colab_link": true
    },
    "kernelspec": {
      "display_name": "Python 3",
      "language": "python",
      "name": "python3"
    }
  },
  "cells": [
    {
      "cell_type": "markdown",
      "metadata": {
        "id": "view-in-github",
        "colab_type": "text"
      },
      "source": [
        "<a href=\"https://colab.research.google.com/github/sraeisi/MachineLearning_Physics/blob/master/Lec_6/NN_FeedForward.ipynb\" target=\"_parent\"><img src=\"https://colab.research.google.com/assets/colab-badge.svg\" alt=\"Open In Colab\"/></a>"
      ]
    },
    {
      "metadata": {
        "id": "pyRSpnrE8Y3E",
        "colab_type": "code",
        "colab": {}
      },
      "cell_type": "code",
      "source": [
        "import numpy as np\n",
        "import pandas as pd\n",
        "import matplotlib.pyplot as plt\n"
      ],
      "execution_count": 0,
      "outputs": []
    },
    {
      "metadata": {
        "id": "uVL1PyMllKdm",
        "colab_type": "code",
        "colab": {}
      },
      "cell_type": "code",
      "source": [
        "from matplotlib import style\n",
        "style.use('default')"
      ],
      "execution_count": 0,
      "outputs": []
    },
    {
      "metadata": {
        "id": "TIBU-WoF8Y3Q",
        "colab_type": "code",
        "colab": {}
      },
      "cell_type": "code",
      "source": [
        "def sigmoid(x):\n",
        "    return 1 / (1 + np.exp(-x))"
      ],
      "execution_count": 0,
      "outputs": []
    },
    {
      "metadata": {
        "id": "6cC5C4jjKNjd",
        "colab_type": "text"
      },
      "cell_type": "markdown",
      "source": [
        "# Logistic Regression: The simplest Neural Network (NN)"
      ]
    },
    {
      "metadata": {
        "id": "praJkn8I8Y3X",
        "colab_type": "text"
      },
      "cell_type": "markdown",
      "source": [
        "We start with a simple Logistic regression. \n",
        "\n",
        "We can use computation graphs for representation which would look like:\n",
        "\n",
        "![Simple Logistic Regression](https://www.dropbox.com/s/5ql7mpu9uwim8xk/computationGraph_LR.png?dl=1 )\n",
        "\n",
        "For our purposses, it is more convenient to seperate the parameters\n",
        "\n",
        "![alt text](https://www.dropbox.com/s/pxrmeyz3uwwb95i/computationGraph_LR_2.png?dl=1)\n",
        "\n",
        "We can simplify this a bit to get\n",
        "\n",
        "![alt text](https://www.dropbox.com/s/8hspbepvubgu1ia/computationGraph_LR_simplified.png?dl=1)\n",
        "\n",
        "\n",
        "\n"
      ]
    },
    {
      "metadata": {
        "id": "l83ITgxU8Y3Z",
        "colab_type": "code",
        "colab": {}
      },
      "cell_type": "code",
      "source": [
        "'''\n",
        "Ideally, we should train the estimator and find the\n",
        "w and b that minimizes the loss. However, the following\n",
        "function makes no assumption about the w and b. \n",
        "The inputs are numpy arrays and their shapes are\n",
        "x: (1, n_f)\n",
        "w: (1, n_f)  \n",
        "b: (1  , 1) \n",
        "'''\n",
        "def log_reg_predict(x, w, b ):\n",
        "    return sigmoid( np.dot(x, w.T) + b )"
      ],
      "execution_count": 0,
      "outputs": []
    },
    {
      "metadata": {
        "id": "HIdaSmaT8Y3f",
        "colab_type": "code",
        "outputId": "0c7ff722-81ba-4449-ddbe-acc116b35fc7",
        "colab": {
          "base_uri": "https://localhost:8080/",
          "height": 35
        }
      },
      "cell_type": "code",
      "source": [
        "x = np.random.uniform(-1,1,size=[1,2])\n",
        "w = np.random.uniform(-1,1,size=[1,2])\n",
        "b = np.random.uniform(-1,1,size=[1,1])\n",
        "predicted_y = log_reg_predict(x,w,b)\n",
        "predicted_y"
      ],
      "execution_count": 4,
      "outputs": [
        {
          "output_type": "execute_result",
          "data": {
            "text/plain": [
              "array([[0.39879776]])"
            ]
          },
          "metadata": {
            "tags": []
          },
          "execution_count": 4
        }
      ]
    },
    {
      "metadata": {
        "id": "G7oWbXBD-hSC",
        "colab_type": "code",
        "outputId": "692ad398-663d-4df8-fd97-cdb3d5ac68ac",
        "colab": {
          "base_uri": "https://localhost:8080/",
          "height": 35
        }
      },
      "cell_type": "code",
      "source": [
        "### This would work with a list of samples.\n",
        "n_s = 100  # number of samples\n",
        "\n",
        "x = np.random.uniform(-1,1,size=[n_s,2])\n",
        "w = np.random.uniform(-1,1,size=[1,2])\n",
        "b = np.random.uniform(-1,1,size=[1,1])\n",
        "predicted_y = log_reg_predict(x,w,b)\n",
        "predicted_y.shape\n"
      ],
      "execution_count": 5,
      "outputs": [
        {
          "output_type": "execute_result",
          "data": {
            "text/plain": [
              "(100, 1)"
            ]
          },
          "metadata": {
            "tags": []
          },
          "execution_count": 5
        }
      ]
    },
    {
      "metadata": {
        "id": "fa4rUSs1boYi",
        "colab_type": "text"
      },
      "cell_type": "markdown",
      "source": [
        "## Multi Class \n",
        "Consider the same problem, but with three classes instead of two. Now the computation graph would be like\n",
        "![alt text](https://www.dropbox.com/s/jryr9f7udnxuetq/computationGraph_LR_simplified_multi_class.png?dl=1)\n",
        "which means that there are three output nodes, one for the probability of each class. How would this work?\n",
        "\n",
        "As we discussed in the first part of the course, we need to train three distinct estimators, one for each class. \n",
        "\n",
        "{ w<sub>1</sub>, b<sub>1</sub> } => Class 1\n",
        "\n",
        "{ w<sub>2</sub>, b<sub>2</sub> } => Class 2\n",
        "\n",
        "{ w<sub>3</sub>, b<sub>3</sub> } => Class 3\n",
        "\n",
        "Just like before, each w<sub>i</sub> is a vector and each b<sub>i</sub> is a number. \n",
        "\n",
        "We can stack them together and make the matrix W with shape of (3,  n<sub>f</sub>) and \n",
        " the matrix B with shape of (3, 1). The rest would be the same. In fact our implementation of the logistic regression would not require any modification.  "
      ]
    },
    {
      "metadata": {
        "id": "wZl5ckz9sOn4",
        "colab_type": "code",
        "outputId": "06528c9a-a107-41fd-89b1-9bd095dd4381",
        "colab": {
          "base_uri": "https://localhost:8080/",
          "height": 35
        }
      },
      "cell_type": "code",
      "source": [
        "n_s = 100  # number of samples\n",
        "n_outputs = 3\n",
        "n_f= 2\n",
        "\n",
        "x = np.random.uniform(-1,1,size=[n_s,n_f])\n",
        "w = np.random.uniform(-1,1,size=[n_outputs,n_f])\n",
        "b = np.random.uniform(-1,1,size=[1, n_outputs])\n",
        "predicted_y = log_reg_predict(x,w,b)\n",
        "predicted_y.shape\n"
      ],
      "execution_count": 6,
      "outputs": [
        {
          "output_type": "execute_result",
          "data": {
            "text/plain": [
              "(100, 3)"
            ]
          },
          "metadata": {
            "tags": []
          },
          "execution_count": 6
        }
      ]
    },
    {
      "metadata": {
        "id": "CF9OFx9dszRz",
        "colab_type": "text"
      },
      "cell_type": "markdown",
      "source": [
        "## Multi Layer\n",
        "\n",
        "Now consider the situation where two logistic regressions are compined to make a new estimator. \n",
        "\n",
        "That is, LR1 is applied to that innput features  and determine the probabilities of different classes. Then LR2 takes these probabilities as an input and based on that determine the probabilities of  a second classification problem. \n",
        "The computation graph would look like\n",
        "\n",
        "![alt text](https://www.dropbox.com/s/9o01doidvs6hmj9/computationGraph_LR_simplified_multi_layer.png?dl=1)  \n",
        "  \n",
        "For charachterization of this estimator, we need two sets of W and B matrices, one for the LR1 and one for LR2. We use the following notation for that:\n",
        "\n",
        "W<sup>[1]</sup> => Weights for LR1\n",
        "\n",
        "B<sup>[1]</sup> => Biases for LR1\n",
        "\n",
        "W<sup>[2]</sup> => Weights for LR1\n",
        "\n",
        "W<sup>[2]</sup> => Biases for LR1\n",
        "\n",
        "As discussed before, W<sup>[1]</sup> is \n",
        "\n",
        "{ w<sup>[1]</sup><sub>1</sub>, b<sub>1</sub> } => Class 1\n",
        "\n",
        "{ w<sup>[1]</sup><sub>2</sub>, b<sub>2</sub> } => Class 2\n",
        "\n",
        "{ w<sup>[1]</sup><sub>3</sub>, b<sub>3</sub> } => Class 3\n",
        "\n",
        "So, each w<sup>[j]</sup><sub>i</sub> is a vector and each b<sup>[j]</sup><sub>i</sub> is a number and they correspond to classification of class i for LR_j. \n",
        "\n",
        "Use what we haev done so far to implement this! \n",
        "\n",
        "(Optional) Design your function such that it work for n_s samples. "
      ]
    },
    {
      "metadata": {
        "id": "S5cmPy9XpZMl",
        "colab_type": "code",
        "colab": {}
      },
      "cell_type": "code",
      "source": [
        "def NN_forward(X, w_list, b_list):\n",
        "  a = []\n",
        "  a += [X]\n",
        "  for i in range(len(w_list)):\n",
        "    a += [log_reg_predict(a[-1], w_list[i], b_list[i])]\n",
        "  \n",
        "  return a\n",
        "\n",
        "\n",
        "    "
      ],
      "execution_count": 0,
      "outputs": []
    },
    {
      "metadata": {
        "id": "AUuh38bzGtyj",
        "colab_type": "code",
        "outputId": "7a2631af-877b-4bfa-b0d4-0ce977300f9c",
        "colab": {
          "base_uri": "https://localhost:8080/",
          "height": 35
        }
      },
      "cell_type": "code",
      "source": [
        "n_s = 100  # number of samples\n",
        "n_outputs = 3\n",
        "n_f = 2\n",
        "n_l = [n_f, 5, 6, n_outputs ]\n",
        "\n",
        "x = np.random.uniform(-1,1,size=[n_s,n_f])\n",
        "w_list = [ np.random.uniform(-1,1,size=[ n_l[i+1] , n_l[i] ] ) for i in range(len(n_l) - 1 )  ]\n",
        "b_list = [ np.random.uniform(-1,1,size=[1, n_l[i+1]  ]) for i in range(len(n_l) - 1 )  ]\n",
        "\n",
        "# [print(w.shape) for w in w_list]\n",
        "# [print(w.shape) for w in b_list]\n",
        "\n",
        "a = NN_forward(x, w_list, b_list)\n",
        "a[-1].shape\n"
      ],
      "execution_count": 8,
      "outputs": [
        {
          "output_type": "execute_result",
          "data": {
            "text/plain": [
              "(100, 3)"
            ]
          },
          "metadata": {
            "tags": []
          },
          "execution_count": 8
        }
      ]
    },
    {
      "metadata": {
        "id": "1igZHpUfeoNG",
        "colab_type": "text"
      },
      "cell_type": "markdown",
      "source": [
        "### Functions for Feedforward"
      ]
    },
    {
      "metadata": {
        "id": "LbHjqPNefP1N",
        "colab_type": "code",
        "colab": {}
      },
      "cell_type": "code",
      "source": [
        "'''\n",
        "The same as log_reg_predict. The only difference is that \n",
        "we let it take the activation function as an input. \n",
        "Also note that here, x is not neccessarily the input, but \n",
        "could be the output of any of the previous layers. \n",
        "'''\n",
        "def single_layer(x, w, b ,  activation_func=(lambda x: sigmoid(x)  ) ):\n",
        "    z = np.dot(x, w.T) + b\n",
        "    return z , activation_func( z )\n",
        "\n",
        "'''\n",
        "We now define our general neural network function. \n",
        "\n",
        "The input shapes are\n",
        "x: (n_s, n_f)\n",
        "w_list: {w_l :  ( n_(l), n_(l-1) ) }\n",
        "b_list: {b_l :  (     1  , n_l ) }\n",
        "\n",
        "We return both z and a in all the layers for the output. \n",
        "This could be too much for a real data!!\n",
        "\n",
        "'''\n",
        "def NN_forward(x, w_list, b_list, activation_func_list=[(lambda x: sigmoid(x))]  ):\n",
        "    a = x\n",
        "    z_list = []\n",
        "    a_list = [a]\n",
        "    if len(activation_func_list) == 1:\n",
        "      for i in range(len(w_list)):\n",
        "          z, a = single_layer(a , w_list[i], b_list[i] , activation_func_list[0] )\n",
        "          z_list += [ z ]\n",
        "          a_list += [ a ]\n",
        "    else:\n",
        "      for i in range(len(w_list)):\n",
        "          z, a = single_layer(a , w_list[i], b_list[i] , activation_func_list[i] )\n",
        "          z_list += [ z ]\n",
        "          a_list += [ a ]\n",
        "      \n",
        "    return a_list, z_list\n",
        "  \n",
        "\n",
        "def NN_func(w_list, b_list,  activation_func_list=[(lambda x: sigmoid(x)) ] ):\n",
        "    def func(x):\n",
        "        return NN_forward(x, w_list, b_list, activation_func_list)\n",
        "    return(func)"
      ],
      "execution_count": 0,
      "outputs": []
    },
    {
      "metadata": {
        "id": "xK_wTA2Nb2Au",
        "colab_type": "text"
      },
      "cell_type": "markdown",
      "source": [
        "### Some simple toy models\n",
        "Let's see how this function works and what it can genereate. We try different depth for the function at this stage."
      ]
    },
    {
      "metadata": {
        "id": "VRV9hdk_cKWu",
        "colab_type": "code",
        "colab": {}
      },
      "cell_type": "code",
      "source": [
        "'''\n",
        "This will make a random network based on the nodes in each layer.\n",
        "The inputs are\n",
        "nl_list = [n_f, n_l1, n_l2, ..., n_c]: with n_li the number of nodes in layer i. \n",
        "\n",
        "We could add \n",
        "activation_func_list = [act_func_1, act_func_2, ... ]\n",
        "But for now, we keep it simple. \n",
        "\n",
        "'''\n",
        "\n",
        "def random_network_generator( nl_list ):\n",
        "    w_list = []\n",
        "    b_list = []\n",
        "    for i in range(len(nl_list)-1 ):\n",
        "        w_list += [ np.random.uniform(-1,1,size=[nl_list[i+1] , nl_list[i] ]) ]\n",
        "        b_list += [ np.random.uniform(-1,1,size=[1 , nl_list[i+1] ]) ]\n",
        "    return w_list, b_list"
      ],
      "execution_count": 0,
      "outputs": []
    },
    {
      "metadata": {
        "id": "GVVFRVmlcRQH",
        "colab_type": "code",
        "colab": {}
      },
      "cell_type": "code",
      "source": [
        "'''\n",
        "Let's start with a simple Logistic Regression with two features for the input data!\n",
        "'''\n",
        "\n",
        "ws, bs = random_network_generator([2,1])\n",
        "\n"
      ],
      "execution_count": 0,
      "outputs": []
    },
    {
      "metadata": {
        "id": "11DLbx34cRCv",
        "colab_type": "code",
        "colab": {}
      },
      "cell_type": "code",
      "source": [
        "'''\n",
        "We want to make a 2D grid and see what the NN does to each point. \n",
        "This is the main main reason we had to set n_f = 2. \n",
        "'''\n",
        "## Generate the grid\n",
        "n_points = 40  ## Number of points along each axis of the grid. \n",
        "xrange=np.linspace(-10,10,n_points)  ## We let the two features change from between -10 and 10 and we pick 40 points to sample.\n",
        "X0,X1=np.meshgrid(xrange,xrange)\n",
        "\n",
        "## Generate a random network\n",
        "ws, bs = random_network_generator([2,9,5,1])\n",
        "\n",
        "## And the NN function\n",
        "nn_f = NN_func(ws, bs , activation_func_list=[(lambda x: x)] ) ## For now, we use f(x)=x for activation. \n"
      ],
      "execution_count": 0,
      "outputs": []
    },
    {
      "metadata": {
        "id": "qI5lOQgxdCXJ",
        "colab_type": "code",
        "colab": {
          "base_uri": "https://localhost:8080/",
          "height": 53
        },
        "outputId": "515e06b6-fc5a-453c-f0ec-c95cd4591c08"
      },
      "cell_type": "code",
      "source": [
        "input_x = np.array([X0, X1]).T\n",
        "print('The input has a shape of: {}'.format(input_x.shape))\n",
        "\n",
        "Z = nn_f(input_x )\n",
        "print('The output has a shape of: {}'.format(Z[0][-1].shape))"
      ],
      "execution_count": 32,
      "outputs": [
        {
          "output_type": "stream",
          "text": [
            "The input has a shape of: (40, 40, 2)\n",
            "The output has a shape of: (40, 40, 1)\n"
          ],
          "name": "stdout"
        }
      ]
    },
    {
      "metadata": {
        "id": "LtVpughZjVLe",
        "colab_type": "code",
        "colab": {
          "base_uri": "https://localhost:8080/",
          "height": 508
        },
        "outputId": "9fd9cd8b-96bb-4915-9f03-6a565ac30953"
      },
      "cell_type": "code",
      "source": [
        "## Generate a random network\n",
        "ws, bs = random_network_generator([2,1])\n",
        "\n",
        "## And the NN function\n",
        "nn_f = NN_func(ws, bs , activation_func_list=[(lambda x: x)] ) ## For now, we use f(x)=x for activation. \n",
        "z =nn_f(input_x )[0][-1].reshape(n_points,n_points)\n",
        "\n",
        "fig = plt.figure(figsize=(14,5))\n",
        "ax = fig.add_subplot(121, xlabel='X1', ylabel='X2', title='Some random NN')\n",
        "plt.imshow(z,interpolation='nearest',origin='lower', extent=(-10,10,-10,10) , cmap=plt.cm.viridis )\n",
        "plt.colorbar()\n",
        "plt.contour(X0, X1, z, cmap = plt.cm.Accent, linewidths=5)\n",
        "ax.axhline(y=.25, color='r', linestyle='--', linewidth=5)\n",
        "\n",
        "ax = fig.add_subplot(122, xlabel='X1', ylabel='z', title='Some random NN \\n X2 = 0.25')\n",
        "ax.plot(X0[20], z[20], linewidth=5)\n",
        "\n",
        "plt.show()\n",
        "plt.close()"
      ],
      "execution_count": 52,
      "outputs": [
        {
          "output_type": "display_data",
          "data": {
            "image/png": "[encoded data removed]",
            "text/plain": [
              "<Figure size 1400x500 with 3 Axes>"
            ]
          },
          "metadata": {
            "tags": []
          }
        }
      ]
    },
    {
      "metadata": {
        "id": "_vniOtSb8Y4B",
        "colab_type": "text"
      },
      "cell_type": "markdown",
      "source": [
        "# Training a logistic regression"
      ]
    },
    {
      "metadata": {
        "id": "VD98XP_h8Y3p",
        "colab_type": "text"
      },
      "cell_type": "markdown",
      "source": [
        "## Loss"
      ]
    },
    {
      "metadata": {
        "id": "XVew7Bel8Y3r",
        "colab_type": "code",
        "colab": {}
      },
      "cell_type": "code",
      "source": [
        "'''\n",
        "We need to define our loss function for training. \n",
        "We use the cross-entropy. \n",
        "'''\n",
        "\n",
        "def cross_entropy(y, a):\n",
        "    return -y*np.log(a)- (1-y)*np.log(1-a)\n",
        "\n",
        "\n",
        "def cross_entropy_loss(y_list, x_list, w, bias=0):\n",
        "                  \n",
        "    ''' \n",
        "    First, you need to calculate the a = sig(z).\n",
        "    Then calculate the loss using the equation for cross entropy. \n",
        "    \n",
        "    '''\n",
        "    n_sample = len(y_list)\n",
        "    y_list = y_list.reshape(n_sample,1)\n",
        "    \n",
        "    z_list = ( np.dot(x_list, w.T ) + bias ).reshape( -1  , 1 )\n",
        "    a_list = sigmoid( z_list )\n",
        "    \n",
        "    loss = cross_entropy(y_list, a_list).sum() / n_sample\n",
        "    return loss\n",
        "\n"
      ],
      "execution_count": 0,
      "outputs": []
    },
    {
      "metadata": {
        "id": "tnVjWh-V8Y3x",
        "colab_type": "code",
        "outputId": "e7769fa7-717c-44cf-b221-c16cb6c08516",
        "colab": {
          "base_uri": "https://localhost:8080/",
          "height": 35
        }
      },
      "cell_type": "code",
      "source": [
        "n_s=1000\n",
        "x = np.random.uniform(-1,1,size=[n_s,2])\n",
        "w_list = np.random.uniform(-20,20,size=[100, 1, 2])\n",
        "ce_loss_list = [ cross_entropy_loss( predicted_y, x, w, b)  for w in w_list]\n",
        "\n",
        "w = np.random.uniform(-1,1,size=[1,2])\n",
        "b = np.random.uniform(-1,1,size=[1,1])\n",
        "\n",
        "predicted_y = log_reg_predict(x,w,b)\n",
        "print(w_list.shape)\n"
      ],
      "execution_count": 0,
      "outputs": [
        {
          "output_type": "stream",
          "text": [
            "(100, 1, 2)\n"
          ],
          "name": "stdout"
        }
      ]
    },
    {
      "metadata": {
        "id": "onfOYDmYLibw",
        "colab_type": "code",
        "outputId": "e27bea3d-1338-455c-f2b0-41074afdbd09",
        "colab": {
          "base_uri": "https://localhost:8080/",
          "height": 35
        }
      },
      "cell_type": "code",
      "source": [
        "w_list[:,:,0].reshape(-1).shape"
      ],
      "execution_count": 0,
      "outputs": [
        {
          "output_type": "execute_result",
          "data": {
            "text/plain": [
              "(100,)"
            ]
          },
          "metadata": {
            "tags": []
          },
          "execution_count": 22
        }
      ]
    },
    {
      "metadata": {
        "id": "3CdCKSZMJyTW",
        "colab_type": "code",
        "outputId": "0955e2e9-2694-4cf0-9cd5-6db9c68aa7b6",
        "colab": {
          "base_uri": "https://localhost:8080/",
          "height": 454
        }
      },
      "cell_type": "code",
      "source": [
        "# ce_loss_list = [ cross_entropy_loss( predicted_y, x, w, b)  for w in w_list]\n",
        "\n",
        "\n",
        "print('The true parameters are \\n w={} which is in dicated by the red point.'.format(w.reshape(1,-1)))\n",
        "\n",
        "fig = plt.figure(figsize=(8,6))\n",
        "ax1 = fig.add_subplot(111,title = 'Loss function \\n Cross_entropy', xlabel='w1', ylabel='w2')\n",
        "\n",
        "\n",
        "p1 = ax1.tricontourf(w_list[:,:,0].reshape(-1),w_list[:,:,1].reshape(-1), ce_loss_list)\n",
        "ax1.scatter(w[0,0], w[0,1], color='r')\n",
        "plt.colorbar(p1, ax=ax1)\n",
        "\n",
        "\n",
        "\n",
        "plt.show()"
      ],
      "execution_count": 0,
      "outputs": [
        {
          "output_type": "stream",
          "text": [
            "The true parameters are \n",
            " w=[[ 0.7613062  -0.58300925]] which is in dicated by the red point.\n"
          ],
          "name": "stdout"
        },
        {
          "output_type": "display_data",
          "data": {
            "image/png": "[encoded data removed]",
            "text/plain": [
              "<Figure size 576x432 with 2 Axes>"
            ]
          },
          "metadata": {
            "tags": []
          }
        }
      ]
    },
    {
      "metadata": {
        "id": "7nYEna4RJkj1",
        "colab_type": "text"
      },
      "cell_type": "markdown",
      "source": [
        "## Using an optimizer"
      ]
    },
    {
      "metadata": {
        "id": "LbMyB64W8Y4E",
        "colab_type": "code",
        "outputId": "e1a3c5bc-670a-4ad4-91e8-557ed656fff6",
        "colab": {
          "base_uri": "https://localhost:8080/",
          "height": 72
        }
      },
      "cell_type": "code",
      "source": [
        "from scipy.optimize import minimize\n",
        "print('The true parameters are \\n w = {}, \\n and b = {}. '.format(w.reshape(1,-1)[0] , b[0,0]))"
      ],
      "execution_count": 0,
      "outputs": [
        {
          "output_type": "stream",
          "text": [
            "The true parameters are \n",
            " w = [ 0.7613062  -0.58300925], \n",
            " and b = -0.025999105893764973. \n"
          ],
          "name": "stdout"
        }
      ]
    },
    {
      "metadata": {
        "id": "48_zzdKeM0KY",
        "colab_type": "code",
        "outputId": "b9fc9faf-074f-4648-ac83-5c1afe565515",
        "colab": {
          "base_uri": "https://localhost:8080/",
          "height": 35
        }
      },
      "cell_type": "code",
      "source": [
        "w = np.random.uniform(-1,1,size=[1,2])\n",
        "b = np.random.uniform(-1,1,size=[1,1])\n",
        "np.array([ [w[0,0],w[0,1]] ]).shape"
      ],
      "execution_count": 0,
      "outputs": [
        {
          "output_type": "execute_result",
          "data": {
            "text/plain": [
              "(1, 2)"
            ]
          },
          "metadata": {
            "tags": []
          },
          "execution_count": 36
        }
      ]
    },
    {
      "metadata": {
        "id": "91kzOXot8Y4M",
        "colab_type": "code",
        "outputId": "94b486e3-a5c0-48fb-dc38-abb4eacd8c6d",
        "colab": {
          "base_uri": "https://localhost:8080/",
          "height": 35
        }
      },
      "cell_type": "code",
      "source": [
        "min_w = minimize( (lambda w: cross_entropy_loss(predicted_y, x, np.array([ [w[0],w[1]] ]),w[2] )),[0,0, 0])\n",
        "print('The optimized values are: w1, w2, b = {}'.format(min_w.x))"
      ],
      "execution_count": 0,
      "outputs": [
        {
          "output_type": "stream",
          "text": [
            "The optimized values are: w1, w2, b = [ 0.76129796 -0.58296354 -0.0260065 ]\n"
          ],
          "name": "stdout"
        }
      ]
    },
    {
      "metadata": {
        "id": "ps8F7llJ8Y4T",
        "colab_type": "text"
      },
      "cell_type": "markdown",
      "source": [
        "# Step-by-Step GD for Logistic Regression"
      ]
    },
    {
      "metadata": {
        "id": "p69IwHv4NhFs",
        "colab_type": "text"
      },
      "cell_type": "markdown",
      "source": [
        "Now we want to do this ourselves, not using the optimizer. \n",
        "\n",
        "We will use a simple GD algorithm which basically does the following:\n",
        "\n",
        "w_1  -> w_1 - alpha * dL/dw_1\n",
        "\n",
        "w_2  -> w_2 - alpha * dL/dw_2"
      ]
    }
  ]
}