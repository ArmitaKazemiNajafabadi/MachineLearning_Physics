{
  "nbformat": 4,
  "nbformat_minor": 0,
  "metadata": {
    "accelerator": "GPU",
    "celltoolbar": "Initialization Cell",
    "colab": {
      "name": "NN_ModelEvaluationa&Tuning.ipynb",
      "provenance": [],
      "collapsed_sections": [
        "yXnhZYfU6NLv",
        "58SHJ2C26NMA"
      ],
      "toc_visible": true,
      "machine_shape": "hm",
      "include_colab_link": true
    },
    "kernelspec": {
      "display_name": "Python 3",
      "language": "python",
      "name": "python3"
    },
    "language_info": {
      "codemirror_mode": {
        "name": "ipython",
        "version": 3
      },
      "file_extension": ".py",
      "mimetype": "text/x-python",
      "name": "python",
      "nbconvert_exporter": "python",
      "pygments_lexer": "ipython3",
      "version": "3.6.10"
    },
    "latex_envs": {
      "LaTeX_envs_menu_present": true,
      "autoclose": false,
      "autocomplete": true,
      "bibliofile": "biblio.bib",
      "cite_by": "apalike",
      "current_citInitial": 1,
      "eqLabelWithNumbers": true,
      "eqNumInitial": 1,
      "hotkeys": {
        "equation": "Ctrl-E",
        "itemize": "Ctrl-I"
      },
      "labels_anchors": false,
      "latex_user_defs": false,
      "report_style_numbering": false,
      "user_envs_cfg": false
    },
    "toc": {
      "base_numbering": 1,
      "nav_menu": {},
      "number_sections": true,
      "sideBar": true,
      "skip_h1_title": false,
      "title_cell": "Table of Contents",
      "title_sidebar": "Contents",
      "toc_cell": false,
      "toc_position": {},
      "toc_section_display": true,
      "toc_window_display": false
    },
    "varInspector": {
      "cols": {
        "lenName": 16,
        "lenType": 16,
        "lenVar": 40
      },
      "kernels_config": {
        "python": {
          "delete_cmd_postfix": "",
          "delete_cmd_prefix": "del ",
          "library": "var_list.py",
          "varRefreshCmd": "print(var_dic_list())"
        },
        "r": {
          "delete_cmd_postfix": ") ",
          "delete_cmd_prefix": "rm(",
          "library": "var_list.r",
          "varRefreshCmd": "cat(var_dic_list()) "
        }
      },
      "types_to_exclude": [
        "module",
        "function",
        "builtin_function_or_method",
        "instance",
        "_Feature"
      ],
      "window_display": false
    }
  },
  "cells": [
    {
      "cell_type": "markdown",
      "metadata": {
        "id": "view-in-github",
        "colab_type": "text"
      },
      "source": [
        "<a href=\"https://colab.research.google.com/github/sraeisi/MachineLearning_Physics/blob/master/2/MLP_NN_ModelEvaluationa%26Tuning.ipynb\" target=\"_parent\"><img src=\"https://colab.research.google.com/assets/colab-badge.svg\" alt=\"Open In Colab\"/></a>"
      ]
    },
    {
      "cell_type": "code",
      "metadata": {
        "ExecuteTime": {
          "end_time": "2020-05-05T11:47:38.231635Z",
          "start_time": "2020-05-05T11:47:25.164920Z"
        },
        "id": "XyaKzVDuXLmF",
        "init_cell": true
      },
      "source": [
        "import numpy as np\n",
        "import matplotlib.pyplot as plt\n",
        "\n",
        "from matplotlib import style\n",
        "plt.style.use('seaborn-talk')\n",
        "\n",
        "import warnings\n",
        "warnings.filterwarnings('ignore')\n",
        "\n",
        "import tensorflow as tf\n",
        "from tensorflow import keras\n",
        "\n",
        "import requests\n",
        "import io"
      ],
      "execution_count": 1,
      "outputs": []
    },
    {
      "cell_type": "markdown",
      "metadata": {
        "heading_collapsed": true,
        "id": "yXnhZYfU6NLv"
      },
      "source": [
        "## GPU"
      ]
    },
    {
      "cell_type": "code",
      "metadata": {
        "ExecuteTime": {
          "end_time": "2020-05-05T11:47:40.404656Z",
          "start_time": "2020-05-05T11:47:38.235617Z"
        },
        "hidden": true,
        "id": "8pwuzWub6NLw",
        "init_cell": true,
        "colab": {
          "base_uri": "https://localhost:8080/"
        },
        "outputId": "1f0f70d2-3f17-4deb-fd54-5da8bae29b77"
      },
      "source": [
        "print(\"Num GPUs Available: \", len(tf.config.experimental.list_physical_devices('GPU')))"
      ],
      "execution_count": 2,
      "outputs": [
        {
          "output_type": "stream",
          "text": [
            "Num GPUs Available:  1\n"
          ],
          "name": "stdout"
        }
      ]
    },
    {
      "cell_type": "code",
      "metadata": {
        "id": "B0Z0-iXiIqM3",
        "colab": {
          "base_uri": "https://localhost:8080/"
        },
        "outputId": "1a08791e-856e-4f27-da18-443553cf5091"
      },
      "source": [
        "from tensorflow.python.client import device_lib\n",
        "device_lib.list_local_devices()"
      ],
      "execution_count": 3,
      "outputs": [
        {
          "output_type": "execute_result",
          "data": {
            "text/plain": [
              "[name: \"/device:CPU:0\"\n",
              " device_type: \"CPU\"\n",
              " memory_limit: 268435456\n",
              " locality {\n",
              " }\n",
              " incarnation: 12595709893173969491, name: \"/device:GPU:0\"\n",
              " device_type: \"GPU\"\n",
              " memory_limit: 14674281152\n",
              " locality {\n",
              "   bus_id: 1\n",
              "   links {\n",
              "   }\n",
              " }\n",
              " incarnation: 9354519784565611070\n",
              " physical_device_desc: \"device: 0, name: Tesla T4, pci bus id: 0000:00:04.0, compute capability: 7.5\"]"
            ]
          },
          "metadata": {
            "tags": []
          },
          "execution_count": 3
        }
      ]
    },
    {
      "cell_type": "code",
      "metadata": {
        "ExecuteTime": {
          "end_time": "2020-05-05T11:47:40.428703Z",
          "start_time": "2020-05-05T11:47:40.410488Z"
        },
        "hidden": true,
        "id": "_YkeLfS56NL0",
        "init_cell": true,
        "colab": {
          "base_uri": "https://localhost:8080/"
        },
        "outputId": "045cf6df-2765-4323-d981-df772512f9e4"
      },
      "source": [
        "gpus = tf.config.experimental.list_physical_devices('GPU')\n",
        "print(gpus)\n",
        "\n",
        "tf.config.experimental.set_memory_growth(gpus[0] , True)\n"
      ],
      "execution_count": 4,
      "outputs": [
        {
          "output_type": "stream",
          "text": [
            "[PhysicalDevice(name='/physical_device:GPU:0', device_type='GPU')]\n"
          ],
          "name": "stdout"
        }
      ]
    },
    {
      "cell_type": "markdown",
      "metadata": {
        "heading_collapsed": true,
        "id": "vPUjDX8ABoGc"
      },
      "source": [
        "## Data: Farsi Hand-written digits classification"
      ]
    },
    {
      "cell_type": "code",
      "metadata": {
        "ExecuteTime": {
          "end_time": "2020-05-05T11:49:24.322716Z",
          "start_time": "2020-05-05T11:49:19.069265Z"
        },
        "hidden": true,
        "id": "FE54NJdSXplU",
        "init_cell": true
      },
      "source": [
        "url = 'https://raw.githubusercontent.com/sraeisi/MachineLearning_Physics/master/Data/Farsi_digits_X.npz'\n",
        "s=requests.get(url, stream=True).content\n",
        "X = np.load(io.BytesIO(s) )['arr_0']\n",
        "url = 'https://raw.githubusercontent.com/sraeisi/MachineLearning_Physics/master/Data/Farsi_digits_Y.npz'\n",
        "s=requests.get(url, stream=True).content\n",
        "Y = np.load(io.BytesIO(s) )['arr_0']\n",
        "\n",
        "# X = np.load('X.npz')['arr_0']\n",
        "# Y = np.load('Y.npz')['arr_0']\n",
        "\n",
        "\n",
        "from sklearn.utils import shuffle\n",
        "X, Y = shuffle(X,Y, random_state = 0 )"
      ],
      "execution_count": 5,
      "outputs": []
    },
    {
      "cell_type": "code",
      "metadata": {
        "ExecuteTime": {
          "end_time": "2020-05-04T16:42:36.764489Z",
          "start_time": "2020-05-04T16:42:36.756468Z"
        },
        "hidden": true,
        "id": "ldLimT4BXqVg",
        "colab": {
          "base_uri": "https://localhost:8080/"
        },
        "outputId": "32f48b9a-d0ac-46e1-fb9f-03ca432c5531"
      },
      "source": [
        "print('Each image is of the form: {}'.format(X[0].shape ) )"
      ],
      "execution_count": 6,
      "outputs": [
        {
          "output_type": "stream",
          "text": [
            "Each image is of the form: (32, 32)\n"
          ],
          "name": "stdout"
        }
      ]
    },
    {
      "cell_type": "code",
      "metadata": {
        "ExecuteTime": {
          "end_time": "2020-05-04T11:07:23.903378Z",
          "start_time": "2020-05-04T11:07:23.525789Z"
        },
        "hidden": true,
        "id": "rNwqhBKg6NL7",
        "colab": {
          "base_uri": "https://localhost:8080/",
          "height": 293
        },
        "outputId": "cf787d47-0a6d-4b08-a498-a30f1762d565"
      },
      "source": [
        "plt.imshow(X[20])"
      ],
      "execution_count": 7,
      "outputs": [
        {
          "output_type": "execute_result",
          "data": {
            "text/plain": [
              "<matplotlib.image.AxesImage at 0x7f24253abdd0>"
            ]
          },
          "metadata": {
            "tags": []
          },
          "execution_count": 7
        },
        {
          "output_type": "display_data",
          "data": {
            "image/png": "[encoded data removed]",
            "text/plain": [
              "<Figure size 432x288 with 1 Axes>"
            ]
          },
          "metadata": {
            "tags": [],
            "needs_background": "light"
          }
        }
      ]
    },
    {
      "cell_type": "code",
      "metadata": {
        "ExecuteTime": {
          "end_time": "2020-05-05T11:49:31.463454Z",
          "start_time": "2020-05-05T11:49:30.652380Z"
        },
        "hidden": true,
        "id": "FyNX5FJRXx9V",
        "init_cell": true
      },
      "source": [
        "from sklearn.model_selection import train_test_split\n",
        "from sklearn.metrics import confusion_matrix\n",
        "\n",
        "X_train, X_test, Y_train, Y_test = train_test_split(X, Y, random_state=0)"
      ],
      "execution_count": 8,
      "outputs": []
    },
    {
      "cell_type": "markdown",
      "metadata": {
        "heading_collapsed": true,
        "id": "58SHJ2C26NMA"
      },
      "source": [
        "## Pytorch"
      ]
    },
    {
      "cell_type": "code",
      "metadata": {
        "id": "xPtgAvHgBabb"
      },
      "source": [
        "import torch\n",
        "import torch.nn as nn\n",
        "import torch.nn.functional as F\n",
        "import torch.optim as optim"
      ],
      "execution_count": 9,
      "outputs": []
    },
    {
      "cell_type": "code",
      "metadata": {
        "hidden": true,
        "id": "6lyCNkEz6NMB",
        "colab": {
          "base_uri": "https://localhost:8080/"
        },
        "outputId": "57f73237-d022-44be-f4b9-eef7283b90f3"
      },
      "source": [
        "class Net(nn.Module):\n",
        "\n",
        "    def __init__(self):\n",
        "        super(Net, self).__init__()\n",
        "        self.fc1 = nn.Linear(32 * 32, 120)  \n",
        "        self.fc2 = nn.Linear(120, 80)\n",
        "        self.fc3 = nn.Linear(80, 10)\n",
        "\n",
        "    def forward(self, x):\n",
        "        x = x.view(-1, self.num_flat_features(x))\n",
        "        x = F.relu(self.fc1(x))\n",
        "        x = F.relu(self.fc2(x))\n",
        "        x = self.fc3(x)\n",
        "\n",
        "        output = F.log_softmax(x, dim=1)\n",
        "\n",
        "        return output\n",
        "\n",
        "    def num_flat_features(self, x):\n",
        "        size = x.size()[1:]  # all dimensions except the batch dimension\n",
        "        num_features = 1\n",
        "        for s in size:\n",
        "            num_features *= s\n",
        "        return num_features\n",
        "\n",
        "\n",
        "net = Net()\n",
        "print(net)"
      ],
      "execution_count": 10,
      "outputs": [
        {
          "output_type": "stream",
          "text": [
            "Net(\n",
            "  (fc1): Linear(in_features=1024, out_features=120, bias=True)\n",
            "  (fc2): Linear(in_features=120, out_features=80, bias=True)\n",
            "  (fc3): Linear(in_features=80, out_features=10, bias=True)\n",
            ")\n"
          ],
          "name": "stdout"
        }
      ]
    },
    {
      "cell_type": "code",
      "metadata": {
        "id": "lUsLFp4iCRO4",
        "colab": {
          "base_uri": "https://localhost:8080/"
        },
        "outputId": "ebef8c06-88b9-4dfd-a2e2-1b59eb9a249c"
      },
      "source": [
        "input = torch.randn(1, 1, 32, 32)\n",
        "out = net(input)\n",
        "print(out)\n",
        "\n",
        "optimizer = optim.Adam(net.parameters(), lr=0.01, betas=(0.9, 0.999))"
      ],
      "execution_count": 11,
      "outputs": [
        {
          "output_type": "stream",
          "text": [
            "tensor([[-2.2430, -2.2526, -2.1602, -2.3981, -2.2462, -2.3054, -2.3571, -2.2598,\n",
            "         -2.5700, -2.2883]], grad_fn=<LogSoftmaxBackward>)\n"
          ],
          "name": "stdout"
        }
      ]
    },
    {
      "cell_type": "code",
      "metadata": {
        "id": "55UpWkDvDC1u"
      },
      "source": [
        "x_tr = torch.from_numpy(X_train).float()\n",
        "x_ts = torch.from_numpy(X_test).float()\n",
        "\n",
        "y_tr = torch.from_numpy(Y_train)\n",
        "y_ts = torch.from_numpy(Y_test)"
      ],
      "execution_count": 12,
      "outputs": []
    },
    {
      "cell_type": "code",
      "metadata": {
        "id": "8sMLx3cHDCoQ",
        "colab": {
          "base_uri": "https://localhost:8080/",
          "height": 274
        },
        "outputId": "5a4b6b9e-30ab-4551-a297-37c3068f1acc"
      },
      "source": [
        "epochs = 20\n",
        "\n",
        "#We also need to keep track of the loss. \n",
        "losses = []\n",
        "\n",
        "for i in range(epochs):\n",
        "    #Clear the previous gradients\n",
        "    optimizer.zero_grad()\n",
        "    \n",
        "    #Precit the output for Given input\n",
        "    y_pred = net.forward(x_tr)\n",
        "    \n",
        "    loss = F.nll_loss(y_pred, y_tr)\n",
        "    losses += [loss]\n",
        "\n",
        "\n",
        "    loss.backward()\n",
        "    optimizer.step()\n",
        "    \n",
        "    \n",
        "plt.plot(losses)\n",
        "plt.show()"
      ],
      "execution_count": 13,
      "outputs": [
        {
          "output_type": "display_data",
          "data": {
            "image/png": "[encoded data removed]",
            "text/plain": [
              "<Figure size 432x288 with 1 Axes>"
            ]
          },
          "metadata": {
            "tags": [],
            "needs_background": "light"
          }
        }
      ]
    },
    {
      "cell_type": "code",
      "metadata": {
        "colab": {
          "base_uri": "https://localhost:8080/",
          "height": 311
        },
        "id": "PJ6qbcAUtY7_",
        "outputId": "3b7de9cc-f6d9-438e-888f-e277df2efc4f"
      },
      "source": [
        "ind = 100\n",
        "plt.imshow(x_ts[ind] )\n",
        "pred = net.forward(x_ts[ind].view(-1,32,32)).argmax()\n",
        "print(f'This sample is a {pred}.\\n')"
      ],
      "execution_count": 31,
      "outputs": [
        {
          "output_type": "stream",
          "text": [
            "This sample is a 9.\n",
            "\n"
          ],
          "name": "stdout"
        },
        {
          "output_type": "display_data",
          "data": {
            "image/png": "[encoded data removed]",
            "text/plain": [
              "<Figure size 432x288 with 1 Axes>"
            ]
          },
          "metadata": {
            "tags": [],
            "needs_background": "light"
          }
        }
      ]
    },
    {
      "cell_type": "markdown",
      "metadata": {
        "id": "x9ZZhWnnTWh_"
      },
      "source": [
        "Let's add mini-batch optimization and keep track of the accuracy."
      ]
    },
    {
      "cell_type": "code",
      "metadata": {
        "id": "n_wam7aBWcKr",
        "colab": {
          "base_uri": "https://localhost:8080/"
        },
        "outputId": "5b1c60c2-ed76-4b6a-e50f-f8023a0d6fba"
      },
      "source": [
        "net = Net()\n",
        "optimizer = optim.Adam(net.parameters(), lr=0.01, betas=(0.9, 0.999))\n",
        "np.random.permutation(4)"
      ],
      "execution_count": 32,
      "outputs": [
        {
          "output_type": "execute_result",
          "data": {
            "text/plain": [
              "array([0, 2, 1, 3])"
            ]
          },
          "metadata": {
            "tags": []
          },
          "execution_count": 32
        }
      ]
    },
    {
      "cell_type": "code",
      "metadata": {
        "id": "z1EjNqfmTdDL"
      },
      "source": [
        "epochs = 5\n",
        "batch_size = 500\n",
        "n_s = len(x_tr)\n",
        "n_ts = len(x_ts)\n",
        "\n",
        "\n",
        "#We also need to keep track of the loss. \n",
        "sample_rate = 200\n",
        "training_losses = []\n",
        "val_losses = []\n",
        "\n",
        "training_accuracy = []\n",
        "val_accuracy = []\n",
        "\n",
        "for i in range(epochs):\n",
        "  permutation = np.random.permutation( n_s )  \n",
        "  for j in range( 0, n_s , batch_size ):\n",
        "    #Clear the previous gradients\n",
        "    optimizer.zero_grad()\n",
        "\n",
        "    ## Making the mini batches of data.\n",
        "    ind = permutation[j:j+batch_size]\n",
        "    X_batch, Y_batch = x_tr[ind], y_tr[ind]\n",
        "\n",
        "    \n",
        "    #Precit the output for Given input\n",
        "    y_pred = net.forward(X_batch)\n",
        "    \n",
        "    loss = F.nll_loss(y_pred, Y_batch)\n",
        "    loss.backward()\n",
        "    optimizer.step()\n",
        "\n",
        "    ## Every sample_rate, we record the loss and accuracy. \n",
        "    if j%(batch_size*sample_rate)==0:\n",
        "      y_tr_pred = net.forward(x_tr)\n",
        "      training_losses += [F.nll_loss( y_tr_pred, y_tr) ]\n",
        "      training_accuracy += [torch.sum( y_tr == \n",
        "                                      torch.argmax( y_tr_pred, axis=1 ) ).numpy()/n_s ]\n",
        "\n",
        "      # print(F.nll_loss( net.forward(x_ts) , y_ts) )\n",
        "      y_ts_pred = net.forward(x_ts)\n",
        "      val_losses += [F.nll_loss( y_ts_pred, y_ts) ]\n",
        "      val_accuracy += [torch.sum( y_ts == \n",
        "                                      torch.argmax( y_ts_pred, axis=1 )).numpy()/n_ts ]\n",
        "\n",
        "\n",
        "\n",
        "#  torch.cuda.empty_cache()    \n",
        "    "
      ],
      "execution_count": 33,
      "outputs": []
    },
    {
      "cell_type": "code",
      "metadata": {
        "id": "AXqxnQP4Tcqh",
        "colab": {
          "base_uri": "https://localhost:8080/",
          "height": 369
        },
        "outputId": "4ec6f8a3-b3b3-4685-bf43-bfb008b2fb53"
      },
      "source": [
        "# Plot training & validation accuracy values\n",
        "fig = plt.figure(figsize=(10,5))\n",
        "ax = fig.add_subplot(1,2,1, title = 'Model accuracy', ylabel= 'Accuracy')\n",
        "plt.plot(training_accuracy)\n",
        "plt.plot(val_accuracy)\n",
        "plt.legend(['Train', 'Test'], loc='upper left')\n",
        "\n",
        "# Plot training & validation loss values\n",
        "ax = fig.add_subplot(1,2,2, title = 'Model loss', ylabel= 'Loss', xlabel = 'Step')\n",
        "plt.plot(training_losses)\n",
        "plt.plot(val_losses )\n",
        "plt.legend(['Train', 'Test'], loc=0)\n",
        "\n",
        "plt.tight_layout()\n",
        "plt.show()"
      ],
      "execution_count": 34,
      "outputs": [
        {
          "output_type": "display_data",
          "data": {
            "image/png": "[encoded data removed]",
            "text/plain": [
              "<Figure size 720x360 with 2 Axes>"
            ]
          },
          "metadata": {
            "tags": [],
            "needs_background": "light"
          }
        }
      ]
    },
    {
      "cell_type": "markdown",
      "metadata": {
        "heading_collapsed": true,
        "id": "ycapc67R6NMD"
      },
      "source": [
        "## Keras"
      ]
    },
    {
      "cell_type": "code",
      "metadata": {
        "ExecuteTime": {
          "end_time": "2020-05-05T11:49:40.635641Z",
          "start_time": "2020-05-05T11:49:40.628939Z"
        },
        "hidden": true,
        "id": "rlMGKrVx6NME"
      },
      "source": [
        "import tensorflow as tf\n",
        "from tensorflow import keras"
      ],
      "execution_count": 35,
      "outputs": []
    },
    {
      "cell_type": "code",
      "metadata": {
        "ExecuteTime": {
          "end_time": "2020-05-05T11:50:20.064953Z",
          "start_time": "2020-05-05T11:50:13.798942Z"
        },
        "hidden": true,
        "id": "WSXG5PFOXtQC"
      },
      "source": [
        "model = keras.Sequential([\n",
        "    keras.layers.Flatten(input_shape=(32, 32)),\n",
        "    keras.layers.Dense(128, activation= 'relu' ),\n",
        "    keras.layers.Dense(10, activation='softmax'  )\n",
        "])"
      ],
      "execution_count": 36,
      "outputs": []
    },
    {
      "cell_type": "code",
      "metadata": {
        "ExecuteTime": {
          "end_time": "2020-05-05T11:50:20.974166Z",
          "start_time": "2020-05-05T11:50:20.881100Z"
        },
        "hidden": true,
        "id": "afDV3ofd6NMK"
      },
      "source": [
        "model.compile(optimizer='adam', \n",
        "              loss='sparse_categorical_crossentropy',\n",
        "              metrics=['accuracy'])"
      ],
      "execution_count": 37,
      "outputs": []
    },
    {
      "cell_type": "code",
      "metadata": {
        "ExecuteTime": {
          "end_time": "2020-05-05T11:50:31.731610Z",
          "start_time": "2020-05-05T11:50:23.871668Z"
        },
        "hidden": true,
        "id": "RPYBp6g9Xy23",
        "colab": {
          "base_uri": "https://localhost:8080/"
        },
        "outputId": "5612fbcd-ffdf-47e3-8649-96bb5697682f"
      },
      "source": [
        "history = model.fit(X_train,Y_train, validation_split=0.25, epochs=5, batch_size=500)"
      ],
      "execution_count": 38,
      "outputs": [
        {
          "output_type": "stream",
          "text": [
            "Epoch 1/5\n",
            "116/116 [==============================] - 4s 5ms/step - loss: 0.6811 - accuracy: 0.8075 - val_loss: 0.1655 - val_accuracy: 0.9547\n",
            "Epoch 2/5\n",
            "116/116 [==============================] - 0s 4ms/step - loss: 0.1458 - accuracy: 0.9598 - val_loss: 0.1223 - val_accuracy: 0.9665\n",
            "Epoch 3/5\n",
            "116/116 [==============================] - 0s 4ms/step - loss: 0.0997 - accuracy: 0.9729 - val_loss: 0.1015 - val_accuracy: 0.9709\n",
            "Epoch 4/5\n",
            "116/116 [==============================] - 0s 4ms/step - loss: 0.0758 - accuracy: 0.9784 - val_loss: 0.0853 - val_accuracy: 0.9750\n",
            "Epoch 5/5\n",
            "116/116 [==============================] - 0s 4ms/step - loss: 0.0617 - accuracy: 0.9840 - val_loss: 0.0840 - val_accuracy: 0.9743\n"
          ],
          "name": "stdout"
        }
      ]
    },
    {
      "cell_type": "code",
      "metadata": {
        "ExecuteTime": {
          "end_time": "2020-05-05T11:51:23.772854Z",
          "start_time": "2020-05-05T11:51:20.586855Z"
        },
        "hidden": true,
        "id": "soJviX78X19-",
        "colab": {
          "base_uri": "https://localhost:8080/"
        },
        "outputId": "7769cb96-7179-4792-e984-5b52ccc8a3f5"
      },
      "source": [
        "Y_predicted = np.argmax( model.predict(X_test) , axis=1 )\n",
        "cm = confusion_matrix(Y_test, Y_predicted)\n",
        "print(cm)"
      ],
      "execution_count": 39,
      "outputs": [
        {
          "output_type": "stream",
          "text": [
            "[[2515    0    2    0    0   16    1    1    1    0]\n",
            " [   2 2497    6    0    1    0    2    0    1    2]\n",
            " [   4   13 2441   10    9    0   10    3    0   10]\n",
            " [   1    0  129 2335   73    3    2    0    0    1]\n",
            " [   2    8   36   30 2575   18    7    6    2    8]\n",
            " [   6    1    2    1    5 2473    1    1    6    1]\n",
            " [   1    5   19    0    6    1 2520    7    2   47]\n",
            " [   6    4    8    0    3    5    3 2579    0    0]\n",
            " [   3    5    0    1    1    3    4    1 2512   18]\n",
            " [   0   13    3    0    2    0   13    0    7 2506]]\n"
          ],
          "name": "stdout"
        }
      ]
    },
    {
      "cell_type": "code",
      "metadata": {
        "ExecuteTime": {
          "end_time": "2020-05-05T11:51:28.386362Z",
          "start_time": "2020-05-05T11:51:27.221461Z"
        },
        "hidden": true,
        "id": "OW8pM1UVYI_H",
        "colab": {
          "base_uri": "https://localhost:8080/",
          "height": 369
        },
        "outputId": "5c7e072a-6618-4b4c-c61a-77cc9475289a"
      },
      "source": [
        "# Plot training & validation accuracy values\n",
        "fig = plt.figure(figsize=(10,5))\n",
        "ax = fig.add_subplot(1,2,1, title = 'Model accuracy', ylabel= 'Accuracy')\n",
        "plt.plot(history.history['accuracy'])\n",
        "plt.plot(history.history['val_accuracy'])\n",
        "plt.legend(['Train', 'Test'], loc='upper left')\n",
        "\n",
        "# Plot training & validation loss values\n",
        "ax = fig.add_subplot(1,2,2, title = 'Model loss', ylabel= 'Loss')\n",
        "plt.plot(history.history['loss'])\n",
        "plt.plot(history.history['val_loss'])\n",
        "plt.legend(['Train', 'Test'], loc='upper left')\n",
        "\n",
        "plt.tight_layout()\n",
        "plt.show()"
      ],
      "execution_count": 40,
      "outputs": [
        {
          "output_type": "display_data",
          "data": {
            "image/png": "[encoded data removed]",
            "text/plain": [
              "<Figure size 720x360 with 2 Axes>"
            ]
          },
          "metadata": {
            "tags": [],
            "needs_background": "light"
          }
        }
      ]
    },
    {
      "cell_type": "code",
      "metadata": {
        "ExecuteTime": {
          "end_time": "2020-05-05T11:57:09.626707Z",
          "start_time": "2020-05-05T11:57:07.655730Z"
        },
        "hidden": true,
        "id": "VUBhOlWvX5z7"
      },
      "source": [
        "Y_oh = keras.utils.to_categorical(Y, num_classes=10, dtype=int)\n",
        "\n",
        "X_train, X_test, Y_train, Y_test = train_test_split(X, Y_oh, random_state=0)\n",
        "\n",
        "model = keras.Sequential([\n",
        "    keras.layers.Flatten(input_shape=(32, 32)),\n",
        "    keras.layers.Dense(128, activation= 'relu' ),\n",
        "    keras.layers.Dense(10, activation='softmax'  )\n",
        "])\n",
        "\n",
        "## We need to change the loss function for the one-hot encoding\n",
        "model.compile(optimizer='adam', \n",
        "              loss='categorical_crossentropy',\n",
        "              metrics=['accuracy'])"
      ],
      "execution_count": 41,
      "outputs": []
    },
    {
      "cell_type": "code",
      "metadata": {
        "ExecuteTime": {
          "end_time": "2020-05-05T11:58:39.155545Z",
          "start_time": "2020-05-05T11:57:33.871344Z"
        },
        "hidden": true,
        "id": "xiy9_xdXYBIw",
        "colab": {
          "base_uri": "https://localhost:8080/"
        },
        "outputId": "220a1385-e6de-4f95-89ff-1e6981c38916"
      },
      "source": [
        "history = model.fit(X_train,Y_train, validation_split=0.25, epochs=50, batch_size=500, verbose=1)"
      ],
      "execution_count": 42,
      "outputs": [
        {
          "output_type": "stream",
          "text": [
            "Epoch 1/50\n",
            "116/116 [==============================] - 1s 6ms/step - loss: 0.6594 - accuracy: 0.8112 - val_loss: 0.1632 - val_accuracy: 0.9563\n",
            "Epoch 2/50\n",
            "116/116 [==============================] - 1s 4ms/step - loss: 0.1406 - accuracy: 0.9616 - val_loss: 0.1221 - val_accuracy: 0.9667\n",
            "Epoch 3/50\n",
            "116/116 [==============================] - 1s 5ms/step - loss: 0.0990 - accuracy: 0.9723 - val_loss: 0.1003 - val_accuracy: 0.9720\n",
            "Epoch 4/50\n",
            "116/116 [==============================] - 1s 5ms/step - loss: 0.0756 - accuracy: 0.9786 - val_loss: 0.0861 - val_accuracy: 0.9755\n",
            "Epoch 5/50\n",
            "116/116 [==============================] - 1s 4ms/step - loss: 0.0613 - accuracy: 0.9832 - val_loss: 0.0795 - val_accuracy: 0.9773\n",
            "Epoch 6/50\n",
            "116/116 [==============================] - 1s 4ms/step - loss: 0.0493 - accuracy: 0.9880 - val_loss: 0.0707 - val_accuracy: 0.9792\n",
            "Epoch 7/50\n",
            "116/116 [==============================] - 1s 4ms/step - loss: 0.0409 - accuracy: 0.9895 - val_loss: 0.0657 - val_accuracy: 0.9808\n",
            "Epoch 8/50\n",
            "116/116 [==============================] - 0s 4ms/step - loss: 0.0346 - accuracy: 0.9915 - val_loss: 0.0632 - val_accuracy: 0.9817\n",
            "Epoch 9/50\n",
            "116/116 [==============================] - 0s 4ms/step - loss: 0.0270 - accuracy: 0.9937 - val_loss: 0.0613 - val_accuracy: 0.9809\n",
            "Epoch 10/50\n",
            "116/116 [==============================] - 1s 4ms/step - loss: 0.0232 - accuracy: 0.9949 - val_loss: 0.0595 - val_accuracy: 0.9821\n",
            "Epoch 11/50\n",
            "116/116 [==============================] - 1s 5ms/step - loss: 0.0193 - accuracy: 0.9962 - val_loss: 0.0590 - val_accuracy: 0.9826\n",
            "Epoch 12/50\n",
            "116/116 [==============================] - 1s 4ms/step - loss: 0.0164 - accuracy: 0.9970 - val_loss: 0.0625 - val_accuracy: 0.9809\n",
            "Epoch 13/50\n",
            "116/116 [==============================] - 1s 4ms/step - loss: 0.0139 - accuracy: 0.9977 - val_loss: 0.0569 - val_accuracy: 0.9831\n",
            "Epoch 14/50\n",
            "116/116 [==============================] - 1s 5ms/step - loss: 0.0116 - accuracy: 0.9984 - val_loss: 0.0571 - val_accuracy: 0.9838\n",
            "Epoch 15/50\n",
            "116/116 [==============================] - 1s 5ms/step - loss: 0.0105 - accuracy: 0.9982 - val_loss: 0.0570 - val_accuracy: 0.9841\n",
            "Epoch 16/50\n",
            "116/116 [==============================] - 1s 4ms/step - loss: 0.0085 - accuracy: 0.9987 - val_loss: 0.0571 - val_accuracy: 0.9836\n",
            "Epoch 17/50\n",
            "116/116 [==============================] - 1s 4ms/step - loss: 0.0074 - accuracy: 0.9993 - val_loss: 0.0576 - val_accuracy: 0.9839\n",
            "Epoch 18/50\n",
            "116/116 [==============================] - 1s 4ms/step - loss: 0.0069 - accuracy: 0.9993 - val_loss: 0.0566 - val_accuracy: 0.9846\n",
            "Epoch 19/50\n",
            "116/116 [==============================] - 1s 4ms/step - loss: 0.0054 - accuracy: 0.9996 - val_loss: 0.0582 - val_accuracy: 0.9838\n",
            "Epoch 20/50\n",
            "116/116 [==============================] - 1s 4ms/step - loss: 0.0053 - accuracy: 0.9995 - val_loss: 0.0583 - val_accuracy: 0.9843\n",
            "Epoch 21/50\n",
            "116/116 [==============================] - 1s 4ms/step - loss: 0.0042 - accuracy: 0.9998 - val_loss: 0.0576 - val_accuracy: 0.9844\n",
            "Epoch 22/50\n",
            "116/116 [==============================] - 1s 4ms/step - loss: 0.0033 - accuracy: 0.9999 - val_loss: 0.0585 - val_accuracy: 0.9844\n",
            "Epoch 23/50\n",
            "116/116 [==============================] - 1s 4ms/step - loss: 0.0030 - accuracy: 1.0000 - val_loss: 0.0599 - val_accuracy: 0.9844\n",
            "Epoch 24/50\n",
            "116/116 [==============================] - 1s 5ms/step - loss: 0.0029 - accuracy: 1.0000 - val_loss: 0.0593 - val_accuracy: 0.9849\n",
            "Epoch 25/50\n",
            "116/116 [==============================] - 1s 4ms/step - loss: 0.0023 - accuracy: 1.0000 - val_loss: 0.0604 - val_accuracy: 0.9845\n",
            "Epoch 26/50\n",
            "116/116 [==============================] - 1s 4ms/step - loss: 0.0021 - accuracy: 1.0000 - val_loss: 0.0603 - val_accuracy: 0.9849\n",
            "Epoch 27/50\n",
            "116/116 [==============================] - 1s 5ms/step - loss: 0.0017 - accuracy: 1.0000 - val_loss: 0.0604 - val_accuracy: 0.9846\n",
            "Epoch 28/50\n",
            "116/116 [==============================] - 1s 4ms/step - loss: 0.0017 - accuracy: 1.0000 - val_loss: 0.0616 - val_accuracy: 0.9849\n",
            "Epoch 29/50\n",
            "116/116 [==============================] - 1s 4ms/step - loss: 0.0014 - accuracy: 1.0000 - val_loss: 0.0628 - val_accuracy: 0.9844\n",
            "Epoch 30/50\n",
            "116/116 [==============================] - 1s 5ms/step - loss: 0.0013 - accuracy: 1.0000 - val_loss: 0.0617 - val_accuracy: 0.9849\n",
            "Epoch 31/50\n",
            "116/116 [==============================] - 0s 4ms/step - loss: 0.0012 - accuracy: 1.0000 - val_loss: 0.0627 - val_accuracy: 0.9847\n",
            "Epoch 32/50\n",
            "116/116 [==============================] - 1s 4ms/step - loss: 0.0011 - accuracy: 1.0000 - val_loss: 0.0633 - val_accuracy: 0.9848\n",
            "Epoch 33/50\n",
            "116/116 [==============================] - 1s 4ms/step - loss: 0.0010 - accuracy: 1.0000 - val_loss: 0.0640 - val_accuracy: 0.9849\n",
            "Epoch 34/50\n",
            "116/116 [==============================] - 1s 4ms/step - loss: 8.9176e-04 - accuracy: 1.0000 - val_loss: 0.0644 - val_accuracy: 0.9848\n",
            "Epoch 35/50\n",
            "116/116 [==============================] - 1s 5ms/step - loss: 7.9446e-04 - accuracy: 1.0000 - val_loss: 0.0659 - val_accuracy: 0.9850\n",
            "Epoch 36/50\n",
            "116/116 [==============================] - 1s 4ms/step - loss: 7.5062e-04 - accuracy: 1.0000 - val_loss: 0.0651 - val_accuracy: 0.9847\n",
            "Epoch 37/50\n",
            "116/116 [==============================] - 1s 4ms/step - loss: 6.7509e-04 - accuracy: 1.0000 - val_loss: 0.0662 - val_accuracy: 0.9848\n",
            "Epoch 38/50\n",
            "116/116 [==============================] - 1s 5ms/step - loss: 6.1139e-04 - accuracy: 1.0000 - val_loss: 0.0668 - val_accuracy: 0.9849\n",
            "Epoch 39/50\n",
            "116/116 [==============================] - 1s 5ms/step - loss: 5.6494e-04 - accuracy: 1.0000 - val_loss: 0.0671 - val_accuracy: 0.9851\n",
            "Epoch 40/50\n",
            "116/116 [==============================] - 1s 5ms/step - loss: 5.2796e-04 - accuracy: 1.0000 - val_loss: 0.0676 - val_accuracy: 0.9850\n",
            "Epoch 41/50\n",
            "116/116 [==============================] - 1s 5ms/step - loss: 4.6548e-04 - accuracy: 1.0000 - val_loss: 0.0686 - val_accuracy: 0.9845\n",
            "Epoch 42/50\n",
            "116/116 [==============================] - 1s 5ms/step - loss: 4.3660e-04 - accuracy: 1.0000 - val_loss: 0.0687 - val_accuracy: 0.9847\n",
            "Epoch 43/50\n",
            "116/116 [==============================] - 1s 4ms/step - loss: 4.0687e-04 - accuracy: 1.0000 - val_loss: 0.0694 - val_accuracy: 0.9851\n",
            "Epoch 44/50\n",
            "116/116 [==============================] - 1s 5ms/step - loss: 3.7175e-04 - accuracy: 1.0000 - val_loss: 0.0699 - val_accuracy: 0.9851\n",
            "Epoch 45/50\n",
            "116/116 [==============================] - 1s 5ms/step - loss: 3.4006e-04 - accuracy: 1.0000 - val_loss: 0.0703 - val_accuracy: 0.9852\n",
            "Epoch 46/50\n",
            "116/116 [==============================] - 1s 5ms/step - loss: 3.1727e-04 - accuracy: 1.0000 - val_loss: 0.0706 - val_accuracy: 0.9854\n",
            "Epoch 47/50\n",
            "116/116 [==============================] - 1s 4ms/step - loss: 2.9211e-04 - accuracy: 1.0000 - val_loss: 0.0706 - val_accuracy: 0.9849\n",
            "Epoch 48/50\n",
            "116/116 [==============================] - 1s 5ms/step - loss: 2.7184e-04 - accuracy: 1.0000 - val_loss: 0.0717 - val_accuracy: 0.9849\n",
            "Epoch 49/50\n",
            "116/116 [==============================] - 1s 5ms/step - loss: 2.5325e-04 - accuracy: 1.0000 - val_loss: 0.0719 - val_accuracy: 0.9851\n",
            "Epoch 50/50\n",
            "116/116 [==============================] - 1s 5ms/step - loss: 2.2828e-04 - accuracy: 1.0000 - val_loss: 0.0723 - val_accuracy: 0.9851\n"
          ],
          "name": "stdout"
        }
      ]
    },
    {
      "cell_type": "code",
      "metadata": {
        "ExecuteTime": {
          "end_time": "2020-05-05T11:58:41.356026Z",
          "start_time": "2020-05-05T11:58:39.244982Z"
        },
        "hidden": true,
        "id": "x4XW7S7CYEOB",
        "colab": {
          "base_uri": "https://localhost:8080/"
        },
        "outputId": "04a97029-a7ef-414b-9129-35740ca9ec8f"
      },
      "source": [
        "Y_predicted = np.argmax( model.predict(X_test) , axis=1 )\n",
        "cm = confusion_matrix(np.argmax( Y_test , axis=1 ), Y_predicted)\n",
        "print(cm)\n"
      ],
      "execution_count": 43,
      "outputs": [
        {
          "output_type": "stream",
          "text": [
            "[[2520    0    0    0    0   15    0    1    0    0]\n",
            " [   1 2499    4    0    3    0    1    0    0    3]\n",
            " [   2    6 2442   30    8    0    5    6    0    1]\n",
            " [   1    0   42 2474   25    2    0    0    0    0]\n",
            " [   2    8   14   38 2610    8    6    3    2    1]\n",
            " [   5    2    1    3    5 2470    2    1    6    2]\n",
            " [   2    6    4    0    3    1 2573    3    1   15]\n",
            " [   4    3    2    1    3    4    2 2589    0    0]\n",
            " [   2    5    0    1    1    3    3    1 2519   13]\n",
            " [   0   11    1    0    0    0   15    0    6 2511]]\n"
          ],
          "name": "stdout"
        }
      ]
    },
    {
      "cell_type": "code",
      "metadata": {
        "ExecuteTime": {
          "end_time": "2020-05-05T11:58:55.861383Z",
          "start_time": "2020-05-05T11:58:55.069281Z"
        },
        "hidden": true,
        "id": "v5n5eQS4YHO4",
        "colab": {
          "base_uri": "https://localhost:8080/",
          "height": 369
        },
        "outputId": "540f3929-0e76-48d3-9a37-2bcc1989cec9"
      },
      "source": [
        "# Plot training & validation accuracy values\n",
        "fig = plt.figure(figsize=(10,5))\n",
        "ax = fig.add_subplot(1,2,1, title = 'Model accuracy', ylabel= 'Accuracy')\n",
        "plt.plot(history.history['accuracy'])\n",
        "plt.plot(history.history['val_accuracy'])\n",
        "plt.legend(['Train', 'Test'], loc='upper left')\n",
        "\n",
        "# Plot training & validation loss values\n",
        "ax = fig.add_subplot(1,2,2, title = 'Model loss', ylabel= 'Loss')\n",
        "plt.plot(history.history['loss'])\n",
        "plt.plot(history.history['val_loss'])\n",
        "plt.legend(['Train', 'Test'], loc='upper left')\n",
        "\n",
        "plt.tight_layout()\n",
        "plt.show()"
      ],
      "execution_count": 44,
      "outputs": [
        {
          "output_type": "display_data",
          "data": {
            "image/png": "[encoded data removed]",
            "text/plain": [
              "<Figure size 720x360 with 2 Axes>"
            ]
          },
          "metadata": {
            "tags": [],
            "needs_background": "light"
          }
        }
      ]
    },
    {
      "cell_type": "markdown",
      "metadata": {
        "heading_collapsed": true,
        "id": "-IMHpC3kWsOZ"
      },
      "source": [
        "## Handling Overfitting\n"
      ]
    },
    {
      "cell_type": "code",
      "metadata": {
        "ExecuteTime": {
          "end_time": "2020-05-05T12:08:09.707971Z",
          "start_time": "2020-05-05T12:07:42.447401Z"
        },
        "hidden": true,
        "id": "pmcI2PzPRrow",
        "colab": {
          "base_uri": "https://localhost:8080/"
        },
        "outputId": "e799d88d-598e-4ce3-9bbd-38946b81a45f"
      },
      "source": [
        "n_s = 100000\n",
        "model.reset_states()\n",
        "history_ovfit = model.fit(X_train[:n_s],Y_train[:n_s], \n",
        "#                           validation_split=0.05,\n",
        "                          validation_data = (X_test, Y_test),\n",
        "                          epochs=10 , \n",
        "                          batch_size=256, \n",
        "                          verbose=1)"
      ],
      "execution_count": 45,
      "outputs": [
        {
          "output_type": "stream",
          "text": [
            "Epoch 1/10\n",
            "300/300 [==============================] - 1s 4ms/step - loss: 0.0421 - accuracy: 0.9891 - val_loss: 0.0662 - val_accuracy: 0.9839\n",
            "Epoch 2/10\n",
            "300/300 [==============================] - 1s 4ms/step - loss: 0.0123 - accuracy: 0.9963 - val_loss: 0.0591 - val_accuracy: 0.9859\n",
            "Epoch 3/10\n",
            "300/300 [==============================] - 1s 4ms/step - loss: 0.0063 - accuracy: 0.9983 - val_loss: 0.0589 - val_accuracy: 0.9860\n",
            "Epoch 4/10\n",
            "300/300 [==============================] - 1s 4ms/step - loss: 0.0037 - accuracy: 0.9990 - val_loss: 0.0587 - val_accuracy: 0.9868\n",
            "Epoch 5/10\n",
            "300/300 [==============================] - 1s 4ms/step - loss: 0.0019 - accuracy: 0.9998 - val_loss: 0.0562 - val_accuracy: 0.9875\n",
            "Epoch 6/10\n",
            "300/300 [==============================] - 1s 4ms/step - loss: 0.0012 - accuracy: 0.9999 - val_loss: 0.0573 - val_accuracy: 0.9874\n",
            "Epoch 7/10\n",
            "300/300 [==============================] - 1s 4ms/step - loss: 0.0010 - accuracy: 0.9999 - val_loss: 0.0585 - val_accuracy: 0.9871\n",
            "Epoch 8/10\n",
            "300/300 [==============================] - 1s 4ms/step - loss: 6.4534e-04 - accuracy: 1.0000 - val_loss: 0.0590 - val_accuracy: 0.9879\n",
            "Epoch 9/10\n",
            "300/300 [==============================] - 1s 4ms/step - loss: 5.0884e-04 - accuracy: 1.0000 - val_loss: 0.0595 - val_accuracy: 0.9875\n",
            "Epoch 10/10\n",
            "300/300 [==============================] - 1s 4ms/step - loss: 4.2180e-04 - accuracy: 1.0000 - val_loss: 0.0603 - val_accuracy: 0.9876\n"
          ],
          "name": "stdout"
        }
      ]
    },
    {
      "cell_type": "code",
      "metadata": {
        "ExecuteTime": {
          "end_time": "2020-05-05T12:08:10.607668Z",
          "start_time": "2020-05-05T12:08:09.797730Z"
        },
        "hidden": true,
        "id": "FgWYWzQIUjuW",
        "colab": {
          "base_uri": "https://localhost:8080/",
          "height": 369
        },
        "outputId": "498c7e0e-f97c-41eb-d799-b1377dd72bb4"
      },
      "source": [
        "# Plot training & validation accuracy values\n",
        "fig = plt.figure(figsize=(10,5))\n",
        "ax = fig.add_subplot(1,2,1, title = 'Model accuracy', ylabel= 'Accuracy')\n",
        "plt.plot(history_ovfit.history['accuracy'])\n",
        "plt.plot(history_ovfit.history['val_accuracy'])\n",
        "plt.legend(['Train', 'Test'], loc='upper left')\n",
        "\n",
        "# Plot training & validation loss values\n",
        "ax = fig.add_subplot(1,2,2, title = 'Model loss', ylabel= 'Loss')\n",
        "plt.plot(history_ovfit.history['loss'])\n",
        "plt.plot(history_ovfit.history['val_loss'])\n",
        "plt.legend(['Train', 'Test'], loc='upper left')\n",
        "\n",
        "plt.tight_layout()\n",
        "plt.show()"
      ],
      "execution_count": 46,
      "outputs": [
        {
          "output_type": "display_data",
          "data": {
            "image/png": "[encoded data removed]",
            "text/plain": [
              "<Figure size 720x360 with 2 Axes>"
            ]
          },
          "metadata": {
            "tags": [],
            "needs_background": "light"
          }
        }
      ]
    },
    {
      "cell_type": "code",
      "metadata": {
        "id": "aUVj73LoKOC_"
      },
      "source": [
        "Y_oh = keras.utils.to_categorical(Y, num_classes=10, dtype=int)\n",
        "\n",
        "X_train, X_test, Y_train, Y_test = train_test_split(X, Y_oh, random_state=0)\n"
      ],
      "execution_count": null,
      "outputs": []
    },
    {
      "cell_type": "code",
      "metadata": {
        "ExecuteTime": {
          "end_time": "2020-05-05T12:16:43.297591Z",
          "start_time": "2020-05-05T12:16:41.864076Z"
        },
        "hidden": true,
        "id": "lsx6oQU4U7-M",
        "colab": {
          "base_uri": "https://localhost:8080/"
        },
        "outputId": "f079f75f-d7fe-4e07-f96f-889f430ce266"
      },
      "source": [
        "model_ovfit1 = keras.Sequential([\n",
        "    keras.layers.Flatten(input_shape=(32, 32)),    \n",
        "    keras.layers.Dense(128,activation=tf.nn.relu, kernel_regularizer=keras.regularizers.l2(.1) ),\n",
        "    keras.layers.Dense(128,activation=tf.nn.relu, kernel_regularizer=keras.regularizers.l2(.1)),\n",
        "#     keras.layers.Dropout(0.5),\n",
        "    keras.layers.Dense(128,activation=tf.nn.relu, kernel_regularizer=keras.regularizers.l2(.1)),\n",
        "    keras.layers.Dense(10, activation=tf.nn.softmax)\n",
        "])\n",
        "\n",
        "model_ovfit1.compile(optimizer='adam', \n",
        "              loss='categorical_crossentropy',\n",
        "              metrics=['accuracy'])\n",
        "\n",
        "model_ovfit1.build([None, 2])\n",
        "model_ovfit1.summary()"
      ],
      "execution_count": 59,
      "outputs": [
        {
          "output_type": "stream",
          "text": [
            "Model: \"sequential_5\"\n",
            "_________________________________________________________________\n",
            "Layer (type)                 Output Shape              Param #   \n",
            "=================================================================\n",
            "flatten_5 (Flatten)          (None, 1024)              0         \n",
            "_________________________________________________________________\n",
            "dense_16 (Dense)             (None, 128)               131200    \n",
            "_________________________________________________________________\n",
            "dense_17 (Dense)             (None, 128)               16512     \n",
            "_________________________________________________________________\n",
            "dense_18 (Dense)             (None, 128)               16512     \n",
            "_________________________________________________________________\n",
            "dense_19 (Dense)             (None, 10)                1290      \n",
            "=================================================================\n",
            "Total params: 165,514\n",
            "Trainable params: 165,514\n",
            "Non-trainable params: 0\n",
            "_________________________________________________________________\n"
          ],
          "name": "stdout"
        }
      ]
    },
    {
      "cell_type": "code",
      "metadata": {
        "ExecuteTime": {
          "end_time": "2020-05-05T12:18:08.469336Z",
          "start_time": "2020-05-05T12:17:15.899506Z"
        },
        "hidden": true,
        "id": "G2mbLBkwVUgd",
        "colab": {
          "base_uri": "https://localhost:8080/",
          "height": 369
        },
        "outputId": "4ea0ee6e-e020-4f8e-e4a7-c3ac9c4141d6"
      },
      "source": [
        "n_s = 1000000\n",
        "history_ovfit1 =  model_ovfit1.fit(X_train[:n_s],Y_train[:n_s], \n",
        "#                           validation_split=0.05,\n",
        "                          validation_data = (X_test, Y_test),\n",
        "                          epochs=20 , \n",
        "                          batch_size=256, \n",
        "                          verbose=0)\n",
        "\n",
        "# Plot training & validation accuracy values\n",
        "fig = plt.figure(figsize=(10,5))\n",
        "ax = fig.add_subplot(1,2,1, title = 'Model accuracy', ylabel= 'Accuracy')\n",
        "plt.plot(history_ovfit1.history['accuracy'])\n",
        "plt.plot(history_ovfit1.history['val_accuracy'])\n",
        "plt.legend(['Train', 'Test'], loc='upper left')\n",
        "\n",
        "# Plot training & validation loss values\n",
        "ax = fig.add_subplot(1,2,2, title = 'Model loss', ylabel= 'Loss')\n",
        "plt.plot(history_ovfit1.history['loss'])\n",
        "plt.plot(history_ovfit1.history['val_loss'])\n",
        "plt.legend(['Train', 'Test'], loc='upper left')\n",
        "\n",
        "plt.tight_layout()\n",
        "plt.show()"
      ],
      "execution_count": 60,
      "outputs": [
        {
          "output_type": "display_data",
          "data": {
            "image/png": "[encoded data removed]",
            "text/plain": [
              "<Figure size 720x360 with 2 Axes>"
            ]
          },
          "metadata": {
            "tags": [],
            "needs_background": "light"
          }
        }
      ]
    },
    {
      "cell_type": "code",
      "metadata": {
        "colab": {
          "base_uri": "https://localhost:8080/"
        },
        "id": "rgCvdQ2iwdEl",
        "outputId": "5f55826c-72c8-4f0d-eca9-68618afd075c"
      },
      "source": [
        "print(np.argmax(Y_test[:3],axis=1))\n",
        "model_ovfit1.predict(X_test[:3]).argmax(axis=1)\n"
      ],
      "execution_count": 61,
      "outputs": [
        {
          "output_type": "stream",
          "text": [
            "[1 8 6]\n"
          ],
          "name": "stdout"
        },
        {
          "output_type": "execute_result",
          "data": {
            "text/plain": [
              "array([1, 8, 6])"
            ]
          },
          "metadata": {
            "tags": []
          },
          "execution_count": 61
        }
      ]
    },
    {
      "cell_type": "code",
      "metadata": {
        "ExecuteTime": {
          "end_time": "2020-05-05T12:14:01.706395Z",
          "start_time": "2020-05-05T12:13:38.997520Z"
        },
        "hidden": true,
        "id": "ytDhXBtkVo-1",
        "colab": {
          "base_uri": "https://localhost:8080/",
          "height": 1000
        },
        "outputId": "e117b385-2a8e-4f77-a87b-9788ec36c3ba"
      },
      "source": [
        "model_ovfit2 = keras.Sequential([\n",
        "    keras.layers.Flatten(input_shape=(32, 32)),    \n",
        "    keras.layers.Dense(128,activation=tf.nn.relu ),\n",
        "    keras.layers.Dropout(0.5),\n",
        "    keras.layers.Dense(128,activation=tf.nn.relu ),\n",
        "    keras.layers.Dropout(0.5),\n",
        "    keras.layers.Dense(128,activation=tf.nn.relu ),\n",
        "    keras.layers.Dropout(0.5),\n",
        "    keras.layers.Dense(10, activation=tf.nn.softmax)\n",
        "])\n",
        "\n",
        "\n",
        "model_ovfit2.compile(optimizer='adam', \n",
        "              loss='categorical_crossentropy',\n",
        "              metrics=['accuracy'])\n",
        "\n",
        "\n",
        "history_ovfit2 = model_ovfit2.fit(X_train[:n_s],Y_train[:n_s], \n",
        "                                  validation_data = (X_test, Y_test),\n",
        "#                                   validation_split=0.05, \n",
        "                                  epochs=20 , \n",
        "                                  batch_size=256, verbose=1)\n",
        "\n",
        "# Plot training & validation accuracy values\n",
        "fig = plt.figure(figsize=(10,5))\n",
        "ax = fig.add_subplot(1,2,1, title = 'Model accuracy', ylabel= 'Accuracy')\n",
        "plt.plot(history_ovfit2.history['accuracy'])\n",
        "plt.plot(history_ovfit2.history['val_accuracy'])\n",
        "plt.legend(['Train', 'Test'], loc='upper left')\n",
        "\n",
        "# Plot training & validation loss values\n",
        "ax = fig.add_subplot(1,2,2, title = 'Model loss', ylabel= 'Loss')\n",
        "plt.plot(history_ovfit2.history['loss'])\n",
        "plt.plot(history_ovfit2.history['val_loss'])\n",
        "plt.legend(['Train', 'Test'], loc='upper left')\n",
        "\n",
        "plt.tight_layout()\n",
        "plt.show()"
      ],
      "execution_count": 62,
      "outputs": [
        {
          "output_type": "stream",
          "text": [
            "Epoch 1/20\n",
            "300/300 [==============================] - 2s 5ms/step - loss: 1.1514 - accuracy: 0.6099 - val_loss: 0.1574 - val_accuracy: 0.9555\n",
            "Epoch 2/20\n",
            "300/300 [==============================] - 1s 4ms/step - loss: 0.2543 - accuracy: 0.9302 - val_loss: 0.1150 - val_accuracy: 0.9672\n",
            "Epoch 3/20\n",
            "300/300 [==============================] - 1s 4ms/step - loss: 0.1964 - accuracy: 0.9467 - val_loss: 0.0967 - val_accuracy: 0.9722\n",
            "Epoch 4/20\n",
            "300/300 [==============================] - 1s 4ms/step - loss: 0.1510 - accuracy: 0.9571 - val_loss: 0.0906 - val_accuracy: 0.9757\n",
            "Epoch 5/20\n",
            "300/300 [==============================] - 1s 4ms/step - loss: 0.1389 - accuracy: 0.9602 - val_loss: 0.0824 - val_accuracy: 0.9771\n",
            "Epoch 6/20\n",
            "300/300 [==============================] - 1s 4ms/step - loss: 0.1330 - accuracy: 0.9630 - val_loss: 0.0804 - val_accuracy: 0.9779\n",
            "Epoch 7/20\n",
            "300/300 [==============================] - 1s 4ms/step - loss: 0.1204 - accuracy: 0.9662 - val_loss: 0.0750 - val_accuracy: 0.9797\n",
            "Epoch 8/20\n",
            "300/300 [==============================] - 1s 4ms/step - loss: 0.1118 - accuracy: 0.9690 - val_loss: 0.0734 - val_accuracy: 0.9812\n",
            "Epoch 9/20\n",
            "300/300 [==============================] - 1s 4ms/step - loss: 0.1027 - accuracy: 0.9696 - val_loss: 0.0756 - val_accuracy: 0.9794\n",
            "Epoch 10/20\n",
            "300/300 [==============================] - 1s 4ms/step - loss: 0.1040 - accuracy: 0.9697 - val_loss: 0.0722 - val_accuracy: 0.9804\n",
            "Epoch 11/20\n",
            "300/300 [==============================] - 1s 4ms/step - loss: 0.0980 - accuracy: 0.9718 - val_loss: 0.0682 - val_accuracy: 0.9812\n",
            "Epoch 12/20\n",
            "300/300 [==============================] - 1s 4ms/step - loss: 0.0939 - accuracy: 0.9733 - val_loss: 0.0694 - val_accuracy: 0.9816\n",
            "Epoch 13/20\n",
            "300/300 [==============================] - 1s 4ms/step - loss: 0.0921 - accuracy: 0.9729 - val_loss: 0.0698 - val_accuracy: 0.9819\n",
            "Epoch 14/20\n",
            "300/300 [==============================] - 1s 4ms/step - loss: 0.0904 - accuracy: 0.9741 - val_loss: 0.0696 - val_accuracy: 0.9819\n",
            "Epoch 15/20\n",
            "300/300 [==============================] - 1s 4ms/step - loss: 0.0826 - accuracy: 0.9755 - val_loss: 0.0676 - val_accuracy: 0.9826\n",
            "Epoch 16/20\n",
            "300/300 [==============================] - 1s 4ms/step - loss: 0.0827 - accuracy: 0.9760 - val_loss: 0.0658 - val_accuracy: 0.9826\n",
            "Epoch 17/20\n",
            "300/300 [==============================] - 1s 4ms/step - loss: 0.0851 - accuracy: 0.9747 - val_loss: 0.0653 - val_accuracy: 0.9829\n",
            "Epoch 18/20\n",
            "300/300 [==============================] - 1s 4ms/step - loss: 0.0791 - accuracy: 0.9768 - val_loss: 0.0638 - val_accuracy: 0.9827\n",
            "Epoch 19/20\n",
            "300/300 [==============================] - 1s 4ms/step - loss: 0.0783 - accuracy: 0.9769 - val_loss: 0.0648 - val_accuracy: 0.9835\n",
            "Epoch 20/20\n",
            "300/300 [==============================] - 1s 4ms/step - loss: 0.0758 - accuracy: 0.9774 - val_loss: 0.0689 - val_accuracy: 0.9826\n"
          ],
          "name": "stdout"
        },
        {
          "output_type": "display_data",
          "data": {
            "image/png": "[encoded data removed]",
            "text/plain": [
              "<Figure size 720x360 with 2 Axes>"
            ]
          },
          "metadata": {
            "tags": [],
            "needs_background": "light"
          }
        }
      ]
    },
    {
      "cell_type": "markdown",
      "metadata": {
        "id": "VwbHxmuD6NM0"
      },
      "source": [
        "***Assignment*** Play with these models and their hyperparameters to get a sense of how they affect the NN."
      ]
    },
    {
      "cell_type": "markdown",
      "metadata": {
        "heading_collapsed": true,
        "id": "P8vK4_a66NM0"
      },
      "source": [
        "## Full Pipeline"
      ]
    },
    {
      "cell_type": "markdown",
      "metadata": {
        "id": "T4Q02xlYSv-y"
      },
      "source": [
        "### Cross-Validation"
      ]
    },
    {
      "cell_type": "code",
      "metadata": {
        "ExecuteTime": {
          "end_time": "2020-05-05T11:47:41.623297Z",
          "start_time": "2020-05-05T11:47:25.185Z"
        },
        "hidden": true,
        "id": "pj648Rn26NM1",
        "init_cell": true
      },
      "source": [
        "from tensorflow.keras.wrappers.scikit_learn import KerasClassifier\n",
        "from sklearn.model_selection import StratifiedKFold\n",
        "from sklearn.model_selection import cross_val_score"
      ],
      "execution_count": 63,
      "outputs": []
    },
    {
      "cell_type": "code",
      "metadata": {
        "ExecuteTime": {
          "end_time": "2020-05-05T04:06:54.097523Z",
          "start_time": "2020-05-05T04:06:54.087520Z"
        },
        "hidden": true,
        "id": "Qt50--ib6NM4"
      },
      "source": [
        "def model_fn():\n",
        "    model = keras.Sequential([\n",
        "    keras.layers.Flatten(input_shape=(32, 32)),    \n",
        "    keras.layers.Dense(128,activation=tf.nn.relu, kernel_regularizer=keras.regularizers.l2(0.1) ),\n",
        "    keras.layers.Dense(128,activation=tf.nn.relu, kernel_regularizer=keras.regularizers.l2(0.1)),\n",
        "    keras.layers.Dense(128,activation=tf.nn.relu, kernel_regularizer=keras.regularizers.l2(0.1)),\n",
        "    keras.layers.Dense(10, activation=tf.nn.softmax)\n",
        "        ])\n",
        "    model.compile(loss='sparse_categorical_crossentropy', optimizer='adam', metrics=['accuracy'])\n",
        "\n",
        "    return model"
      ],
      "execution_count": 64,
      "outputs": []
    },
    {
      "cell_type": "code",
      "metadata": {
        "ExecuteTime": {
          "end_time": "2020-05-05T04:16:12.521139Z",
          "start_time": "2020-05-05T04:15:36.042575Z"
        },
        "hidden": true,
        "id": "LIYnElae6NM6"
      },
      "source": [
        "epch = 10\n",
        "batch_sz = 500\n",
        "\n",
        "from sklearn.model_selection import KFold\n",
        "n_folds = 3\n",
        "kf = KFold(n_splits=n_folds, shuffle=True)\n",
        "\n",
        "\n",
        "loss = []\n",
        "acc = []\n",
        "val_loss = []\n",
        "val_acc = []\n",
        "\n",
        "# cross validate:\n",
        "for train_index, val_index in kf.split(X):\n",
        "    model = model_fn()\n",
        "    hist = model.fit(X[train_index], Y[train_index],\n",
        "                     epochs=epch,\n",
        "                     batch_size=500,\n",
        "                     validation_data = (X[val_index], Y[val_index]),\n",
        "                     verbose=0)\n",
        "    loss.append(hist.history['loss'])\n",
        "    acc.append(hist.history['accuracy'])\n",
        "    val_loss.append([hist.history['val_loss']])\n",
        "    val_acc.append(hist.history['val_accuracy'])\n",
        "    \n",
        "loss = np.array(loss).reshape(n_folds, epch )    \n",
        "acc = np.array(acc).reshape(n_folds, epch )       \n",
        "val_loss = np.array(val_loss).reshape(n_folds, epch )      \n",
        "val_acc  = np.array(val_acc).reshape(n_folds, epch )       "
      ],
      "execution_count": 65,
      "outputs": []
    },
    {
      "cell_type": "code",
      "metadata": {
        "ExecuteTime": {
          "end_time": "2020-05-05T04:21:01.248603Z",
          "start_time": "2020-05-05T04:21:01.086563Z"
        },
        "hidden": true,
        "id": "DthArtMj6NM8",
        "colab": {
          "base_uri": "https://localhost:8080/",
          "height": 274
        },
        "outputId": "16f3ff6f-4d0f-4a5f-f710-8ec267ce4c72"
      },
      "source": [
        "loss_m = loss.mean(axis=0)\n",
        "loss_s = loss.var(axis=0)\n",
        "\n",
        "\n",
        "val_loss_m = val_loss.mean(axis=0)\n",
        "val_loss_s = val_loss.var(axis=0)\n",
        "\n",
        "plt.plot(loss_m, label = 'Training')\n",
        "plt.fill_between(range(len(loss_m)),loss_m-loss_s/2, loss_m+loss_s/2)\n",
        "plt.plot(val_loss_m, label = 'Validation')\n",
        "plt.fill_between(range(len(loss_m)),val_loss_m-loss_s/2, val_loss_m+loss_s/2)\n",
        "plt.legend(loc=0)\n",
        "plt.show()"
      ],
      "execution_count": 66,
      "outputs": [
        {
          "output_type": "display_data",
          "data": {
            "image/png": "[encoded data removed]",
            "text/plain": [
              "<Figure size 432x288 with 1 Axes>"
            ]
          },
          "metadata": {
            "tags": [],
            "needs_background": "light"
          }
        }
      ]
    },
    {
      "cell_type": "code",
      "metadata": {
        "ExecuteTime": {
          "end_time": "2020-05-04T18:00:31.915530Z",
          "start_time": "2020-05-04T17:51:58.408057Z"
        },
        "hidden": true,
        "id": "I2rhLAAY6NM_",
        "colab": {
          "base_uri": "https://localhost:8080/"
        },
        "outputId": "ccf0d19c-29e3-4d01-f1cd-230e800f19da"
      },
      "source": [
        "ks_model = KerasClassifier(build_fn=model_fn, epochs=10, batch_size=500, verbose=0)\n",
        "# evaluate using 10-fold cross validation\n",
        "kfold = StratifiedKFold(n_splits=10, shuffle=True, random_state=0)\n",
        "results = cross_val_score(ks_model, X, Y, cv=kfold)\n",
        "print(results.mean())"
      ],
      "execution_count": 67,
      "outputs": [
        {
          "output_type": "stream",
          "text": [
            "185/185 [==============================] - 1s 3ms/step - loss: 1.0863 - accuracy: 0.8747\n",
            "Epoch 5/10\n",
            "185/185 [==============================] - 1s 3ms/step - loss: 1.0307 - accuracy: 0.8774\n",
            "Epoch 6/10\n",
            "185/185 [==============================] - 1s 3ms/step - loss: 0.9866 - accuracy: 0.8791\n",
            "Epoch 7/10\n",
            "185/185 [==============================] - 1s 3ms/step - loss: 0.9589 - accuracy: 0.8792\n",
            "Epoch 8/10\n",
            "185/185 [==============================] - 1s 3ms/step - loss: 0.9314 - accuracy: 0.8814\n",
            "Epoch 9/10\n",
            "185/185 [==============================] - 1s 3ms/step - loss: 0.9105 - accuracy: 0.8828\n",
            "Epoch 10/10\n",
            "185/185 [==============================] - 1s 3ms/step - loss: 0.8932 - accuracy: 0.8840\n",
            "21/21 [==============================] - 0s 3ms/step - loss: 0.8872 - accuracy: 0.8837\n",
            "Epoch 1/10\n",
            "185/185 [==============================] - 1s 3ms/step - loss: 21.7063 - accuracy: 0.6687\n",
            "Epoch 2/10\n",
            "185/185 [==============================] - 1s 3ms/step - loss: 1.5076 - accuracy: 0.8679\n",
            "Epoch 3/10\n",
            "185/185 [==============================] - 1s 3ms/step - loss: 1.2157 - accuracy: 0.8791\n",
            "Epoch 4/10\n",
            "185/185 [==============================] - 1s 3ms/step - loss: 1.1130 - accuracy: 0.8777\n",
            "Epoch 5/10\n",
            "185/185 [==============================] - 1s 3ms/step - loss: 1.0412 - accuracy: 0.8778\n",
            "Epoch 6/10\n",
            "185/185 [==============================] - 1s 3ms/step - loss: 0.9971 - accuracy: 0.8789\n",
            "Epoch 7/10\n",
            "185/185 [==============================] - 1s 3ms/step - loss: 0.9597 - accuracy: 0.8809\n",
            "Epoch 8/10\n",
            "185/185 [==============================] - 1s 3ms/step - loss: 0.9356 - accuracy: 0.8821\n",
            "Epoch 9/10\n",
            "185/185 [==============================] - 1s 3ms/step - loss: 0.9195 - accuracy: 0.8823\n",
            "Epoch 10/10\n",
            "185/185 [==============================] - 1s 3ms/step - loss: 0.8975 - accuracy: 0.8844\n",
            "21/21 [==============================] - 0s 3ms/step - loss: 0.8965 - accuracy: 0.8900\n",
            "0.8914042711257935\n"
          ],
          "name": "stdout"
        }
      ]
    },
    {
      "cell_type": "code",
      "metadata": {
        "id": "nvd95MkYzdC7",
        "outputId": "44268a25-16db-41e1-e16b-18220610b861",
        "colab": {
          "base_uri": "https://localhost:8080/"
        }
      },
      "source": [
        "results"
      ],
      "execution_count": 68,
      "outputs": [
        {
          "output_type": "execute_result",
          "data": {
            "text/plain": [
              "array([0.88100821, 0.89292693, 0.89057159, 0.90327311, 0.89643383,\n",
              "       0.88754272, 0.90239376, 0.88617492, 0.88373232, 0.88998532])"
            ]
          },
          "metadata": {
            "tags": []
          },
          "execution_count": 68
        }
      ]
    },
    {
      "cell_type": "code",
      "metadata": {
        "ExecuteTime": {
          "end_time": "2020-05-05T01:27:06.263868Z",
          "start_time": "2020-05-05T01:27:06.256867Z"
        },
        "hidden": true,
        "id": "deo1n1Ht6NNA"
      },
      "source": [
        "from keras.callbacks import EarlyStopping, ModelCheckpoint, CSVLogger\n",
        "\n",
        "csv_logger = CSVLogger('training.log', append=True)\n",
        "calls=[csv_logger, EarlyStopping( patience=10), ModelCheckpoint('model_log', monitor='acc', save_best_only=True, mode='auto')]\n"
      ],
      "execution_count": 72,
      "outputs": []
    },
    {
      "cell_type": "code",
      "metadata": {
        "ExecuteTime": {
          "end_time": "2020-05-05T01:28:02.810941Z",
          "start_time": "2020-05-05T01:27:38.679688Z"
        },
        "hidden": true,
        "id": "GCv2K_up6NNC",
        "colab": {
          "base_uri": "https://localhost:8080/"
        },
        "outputId": "76069889-3c7c-496a-f3fc-5d4fe37cf964"
      },
      "source": [
        "ks_model = KerasClassifier(build_fn=model_fn, epochs=10, batch_size=500, verbose=0  )\n",
        "# evaluate using 10-fold cross validation\n",
        "kfold = StratifiedKFold(n_splits=3, shuffle=True, random_state=0 )\n",
        "results = cross_val_score(ks_model, X, Y, cv=kfold,\n",
        "                      fit_params = {'callbacks': calls})\n",
        "print(results.mean())\n"
      ],
      "execution_count": 73,
      "outputs": [
        {
          "output_type": "stream",
          "text": [
            "WARNING:tensorflow:Early stopping conditioned on metric `val_loss` which is not available. Available metrics are: loss,accuracy\n",
            "WARNING:tensorflow:Can save best model only with acc available, skipping.\n",
            "WARNING:tensorflow:Early stopping conditioned on metric `val_loss` which is not available. Available metrics are: loss,accuracy\n",
            "WARNING:tensorflow:Can save best model only with acc available, skipping.\n",
            "WARNING:tensorflow:Early stopping conditioned on metric `val_loss` which is not available. Available metrics are: loss,accuracy\n",
            "WARNING:tensorflow:Can save best model only with acc available, skipping.\n",
            "WARNING:tensorflow:Early stopping conditioned on metric `val_loss` which is not available. Available metrics are: loss,accuracy\n",
            "WARNING:tensorflow:Can save best model only with acc available, skipping.\n",
            "WARNING:tensorflow:Early stopping conditioned on metric `val_loss` which is not available. Available metrics are: loss,accuracy\n",
            "WARNING:tensorflow:Can save best model only with acc available, skipping.\n",
            "WARNING:tensorflow:Early stopping conditioned on metric `val_loss` which is not available. Available metrics are: loss,accuracy\n",
            "WARNING:tensorflow:Can save best model only with acc available, skipping.\n",
            "WARNING:tensorflow:Early stopping conditioned on metric `val_loss` which is not available. Available metrics are: loss,accuracy\n",
            "WARNING:tensorflow:Can save best model only with acc available, skipping.\n",
            "WARNING:tensorflow:Early stopping conditioned on metric `val_loss` which is not available. Available metrics are: loss,accuracy\n",
            "WARNING:tensorflow:Can save best model only with acc available, skipping.\n",
            "WARNING:tensorflow:Early stopping conditioned on metric `val_loss` which is not available. Available metrics are: loss,accuracy\n",
            "WARNING:tensorflow:Can save best model only with acc available, skipping.\n",
            "WARNING:tensorflow:Early stopping conditioned on metric `val_loss` which is not available. Available metrics are: loss,accuracy\n",
            "WARNING:tensorflow:Can save best model only with acc available, skipping.\n",
            "WARNING:tensorflow:Early stopping conditioned on metric `val_loss` which is not available. Available metrics are: loss,accuracy\n",
            "WARNING:tensorflow:Can save best model only with acc available, skipping.\n",
            "WARNING:tensorflow:Early stopping conditioned on metric `val_loss` which is not available. Available metrics are: loss,accuracy\n",
            "WARNING:tensorflow:Can save best model only with acc available, skipping.\n",
            "WARNING:tensorflow:Early stopping conditioned on metric `val_loss` which is not available. Available metrics are: loss,accuracy\n",
            "WARNING:tensorflow:Can save best model only with acc available, skipping.\n",
            "WARNING:tensorflow:Early stopping conditioned on metric `val_loss` which is not available. Available metrics are: loss,accuracy\n",
            "WARNING:tensorflow:Can save best model only with acc available, skipping.\n",
            "WARNING:tensorflow:Early stopping conditioned on metric `val_loss` which is not available. Available metrics are: loss,accuracy\n",
            "WARNING:tensorflow:Can save best model only with acc available, skipping.\n",
            "WARNING:tensorflow:Early stopping conditioned on metric `val_loss` which is not available. Available metrics are: loss,accuracy\n",
            "WARNING:tensorflow:Can save best model only with acc available, skipping.\n",
            "WARNING:tensorflow:Early stopping conditioned on metric `val_loss` which is not available. Available metrics are: loss,accuracy\n",
            "WARNING:tensorflow:Can save best model only with acc available, skipping.\n",
            "WARNING:tensorflow:Early stopping conditioned on metric `val_loss` which is not available. Available metrics are: loss,accuracy\n",
            "WARNING:tensorflow:Can save best model only with acc available, skipping.\n",
            "WARNING:tensorflow:Early stopping conditioned on metric `val_loss` which is not available. Available metrics are: loss,accuracy\n",
            "WARNING:tensorflow:Can save best model only with acc available, skipping.\n",
            "WARNING:tensorflow:Early stopping conditioned on metric `val_loss` which is not available. Available metrics are: loss,accuracy\n",
            "WARNING:tensorflow:Can save best model only with acc available, skipping.\n",
            "WARNING:tensorflow:Early stopping conditioned on metric `val_loss` which is not available. Available metrics are: loss,accuracy\n",
            "WARNING:tensorflow:Can save best model only with acc available, skipping.\n",
            "WARNING:tensorflow:Early stopping conditioned on metric `val_loss` which is not available. Available metrics are: loss,accuracy\n",
            "WARNING:tensorflow:Can save best model only with acc available, skipping.\n",
            "WARNING:tensorflow:Early stopping conditioned on metric `val_loss` which is not available. Available metrics are: loss,accuracy\n",
            "WARNING:tensorflow:Can save best model only with acc available, skipping.\n",
            "WARNING:tensorflow:Early stopping conditioned on metric `val_loss` which is not available. Available metrics are: loss,accuracy\n",
            "WARNING:tensorflow:Can save best model only with acc available, skipping.\n",
            "WARNING:tensorflow:Early stopping conditioned on metric `val_loss` which is not available. Available metrics are: loss,accuracy\n",
            "WARNING:tensorflow:Can save best model only with acc available, skipping.\n",
            "WARNING:tensorflow:Early stopping conditioned on metric `val_loss` which is not available. Available metrics are: loss,accuracy\n",
            "WARNING:tensorflow:Can save best model only with acc available, skipping.\n",
            "WARNING:tensorflow:Early stopping conditioned on metric `val_loss` which is not available. Available metrics are: loss,accuracy\n",
            "WARNING:tensorflow:Can save best model only with acc available, skipping.\n",
            "WARNING:tensorflow:Early stopping conditioned on metric `val_loss` which is not available. Available metrics are: loss,accuracy\n",
            "WARNING:tensorflow:Can save best model only with acc available, skipping.\n",
            "WARNING:tensorflow:Early stopping conditioned on metric `val_loss` which is not available. Available metrics are: loss,accuracy\n",
            "WARNING:tensorflow:Can save best model only with acc available, skipping.\n",
            "WARNING:tensorflow:Early stopping conditioned on metric `val_loss` which is not available. Available metrics are: loss,accuracy\n",
            "WARNING:tensorflow:Can save best model only with acc available, skipping.\n",
            "0.8944719632466634\n"
          ],
          "name": "stdout"
        }
      ]
    },
    {
      "cell_type": "code",
      "metadata": {
        "ExecuteTime": {
          "end_time": "2020-05-05T01:28:18.736188Z",
          "start_time": "2020-05-05T01:28:18.708073Z"
        },
        "hidden": true,
        "id": "uyLEhShY6NND",
        "colab": {
          "base_uri": "https://localhost:8080/",
          "height": 387
        },
        "outputId": "1fb42087-ae4d-467c-d5ab-fed2e2cf6ff0"
      },
      "source": [
        "import pandas as pd\n",
        "df = pd.read_csv('training.log')\n",
        "df.groupby('epoch').mean()"
      ],
      "execution_count": 74,
      "outputs": [
        {
          "output_type": "execute_result",
          "data": {
            "text/html": [
              "<div>\n",
              "<style scoped>\n",
              "    .dataframe tbody tr th:only-of-type {\n",
              "        vertical-align: middle;\n",
              "    }\n",
              "\n",
              "    .dataframe tbody tr th {\n",
              "        vertical-align: top;\n",
              "    }\n",
              "\n",
              "    .dataframe thead th {\n",
              "        text-align: right;\n",
              "    }\n",
              "</style>\n",
              "<table border=\"1\" class=\"dataframe\">\n",
              "  <thead>\n",
              "    <tr style=\"text-align: right;\">\n",
              "      <th></th>\n",
              "      <th>accuracy</th>\n",
              "      <th>loss</th>\n",
              "    </tr>\n",
              "    <tr>\n",
              "      <th>epoch</th>\n",
              "      <th></th>\n",
              "      <th></th>\n",
              "    </tr>\n",
              "  </thead>\n",
              "  <tbody>\n",
              "    <tr>\n",
              "      <th>0</th>\n",
              "      <td>0.782080</td>\n",
              "      <td>13.249882</td>\n",
              "    </tr>\n",
              "    <tr>\n",
              "      <th>1</th>\n",
              "      <td>0.867118</td>\n",
              "      <td>1.668942</td>\n",
              "    </tr>\n",
              "    <tr>\n",
              "      <th>2</th>\n",
              "      <td>0.874416</td>\n",
              "      <td>1.277532</td>\n",
              "    </tr>\n",
              "    <tr>\n",
              "      <th>3</th>\n",
              "      <td>0.878708</td>\n",
              "      <td>1.164508</td>\n",
              "    </tr>\n",
              "    <tr>\n",
              "      <th>4</th>\n",
              "      <td>0.881251</td>\n",
              "      <td>1.095763</td>\n",
              "    </tr>\n",
              "    <tr>\n",
              "      <th>5</th>\n",
              "      <td>0.882750</td>\n",
              "      <td>1.047852</td>\n",
              "    </tr>\n",
              "    <tr>\n",
              "      <th>6</th>\n",
              "      <td>0.883016</td>\n",
              "      <td>1.012776</td>\n",
              "    </tr>\n",
              "    <tr>\n",
              "      <th>7</th>\n",
              "      <td>0.885239</td>\n",
              "      <td>0.984225</td>\n",
              "    </tr>\n",
              "    <tr>\n",
              "      <th>8</th>\n",
              "      <td>0.887276</td>\n",
              "      <td>0.959125</td>\n",
              "    </tr>\n",
              "    <tr>\n",
              "      <th>9</th>\n",
              "      <td>0.888178</td>\n",
              "      <td>0.938982</td>\n",
              "    </tr>\n",
              "  </tbody>\n",
              "</table>\n",
              "</div>"
            ],
            "text/plain": [
              "       accuracy       loss\n",
              "epoch                     \n",
              "0      0.782080  13.249882\n",
              "1      0.867118   1.668942\n",
              "2      0.874416   1.277532\n",
              "3      0.878708   1.164508\n",
              "4      0.881251   1.095763\n",
              "5      0.882750   1.047852\n",
              "6      0.883016   1.012776\n",
              "7      0.885239   0.984225\n",
              "8      0.887276   0.959125\n",
              "9      0.888178   0.938982"
            ]
          },
          "metadata": {
            "tags": []
          },
          "execution_count": 74
        }
      ]
    },
    {
      "cell_type": "code",
      "metadata": {
        "ExecuteTime": {
          "end_time": "2020-05-05T01:28:20.445902Z",
          "start_time": "2020-05-05T01:28:20.248378Z"
        },
        "hidden": true,
        "id": "IpgHf74L6NNG",
        "colab": {
          "base_uri": "https://localhost:8080/",
          "height": 309
        },
        "outputId": "94d1cd09-3cb9-400e-c5e1-d8c16bb8fda5"
      },
      "source": [
        "plt.plot(df.groupby('epoch').mean())"
      ],
      "execution_count": 75,
      "outputs": [
        {
          "output_type": "execute_result",
          "data": {
            "text/plain": [
              "[<matplotlib.lines.Line2D at 0x7f23be6f67d0>,\n",
              " <matplotlib.lines.Line2D at 0x7f23be6f69d0>]"
            ]
          },
          "metadata": {
            "tags": []
          },
          "execution_count": 75
        },
        {
          "output_type": "display_data",
          "data": {
            "image/png": "[encoded data removed]",
            "text/plain": [
              "<Figure size 432x288 with 1 Axes>"
            ]
          },
          "metadata": {
            "tags": [],
            "needs_background": "light"
          }
        }
      ]
    },
    {
      "cell_type": "markdown",
      "metadata": {
        "heading_collapsed": true,
        "id": "S18FYblP6NNI"
      },
      "source": [
        "### Tuning"
      ]
    },
    {
      "cell_type": "code",
      "metadata": {
        "ExecuteTime": {
          "end_time": "2020-05-05T08:10:05.814848Z",
          "start_time": "2020-05-05T08:10:05.503260Z"
        },
        "hidden": true,
        "id": "DtnAiqBx6NNK",
        "colab": {
          "base_uri": "https://localhost:8080/"
        },
        "outputId": "6b00282b-3af1-475b-a625-03b02e15fc51"
      },
      "source": [
        "def model_fn(dense_layer_sizes, regularizations, dropouts, lr=.1):\n",
        "    model = keras.Sequential() \n",
        "    \n",
        "    model.add(  keras.layers.Flatten(input_shape=(32, 32)) )\n",
        "    \n",
        "    for i in range( len(dense_layer_sizes )):\n",
        "        model.add( keras.layers.Dense( dense_layer_sizes[i], \n",
        "                                      activation=tf.nn.relu, \n",
        "                                      kernel_regularizer=keras.regularizers.l2(regularizations[i]) \n",
        "                                     ) )\n",
        "        model.add(keras.layers.Dropout( dropouts[i] ) )\n",
        "        \n",
        "       \n",
        "    model.add(keras.layers.Dense(10, activation=tf.nn.softmax))\n",
        "        \n",
        "    model.compile(loss='sparse_categorical_crossentropy', \n",
        "                  optimizer=keras.optimizers.Adam(learning_rate=lr), \n",
        "                  metrics=['accuracy'])\n",
        "    \n",
        "\n",
        "    return model\n",
        "\n",
        "mdl = model_fn([100, 30], [.001, .001], [.001, .001], .1)\n",
        "# mdl = model_fn([128], [.01], [.01])\n",
        "mdl.summary()"
      ],
      "execution_count": 76,
      "outputs": [
        {
          "output_type": "stream",
          "text": [
            "Model: \"sequential_26\"\n",
            "_________________________________________________________________\n",
            "Layer (type)                 Output Shape              Param #   \n",
            "=================================================================\n",
            "flatten_26 (Flatten)         (None, 1024)              0         \n",
            "_________________________________________________________________\n",
            "dense_100 (Dense)            (None, 100)               102500    \n",
            "_________________________________________________________________\n",
            "dropout_3 (Dropout)          (None, 100)               0         \n",
            "_________________________________________________________________\n",
            "dense_101 (Dense)            (None, 30)                3030      \n",
            "_________________________________________________________________\n",
            "dropout_4 (Dropout)          (None, 30)                0         \n",
            "_________________________________________________________________\n",
            "dense_102 (Dense)            (None, 10)                310       \n",
            "=================================================================\n",
            "Total params: 105,840\n",
            "Trainable params: 105,840\n",
            "Non-trainable params: 0\n",
            "_________________________________________________________________\n"
          ],
          "name": "stdout"
        }
      ]
    },
    {
      "cell_type": "code",
      "metadata": {
        "hidden": true,
        "id": "Be-I-Tae_8au",
        "colab": {
          "base_uri": "https://localhost:8080/"
        },
        "outputId": "fc9f8ca6-ec2d-4669-a196-29195a542543"
      },
      "source": [
        "def model_fn(dense_layer_sizes, lr=.1):\n",
        "    model = keras.Sequential() \n",
        "    \n",
        "    model.add(  keras.layers.Flatten(input_shape=(32, 32)) )\n",
        "    \n",
        "    for i in range( len(dense_layer_sizes )):\n",
        "        model.add( keras.layers.Dense( dense_layer_sizes[i], \n",
        "                                      activation=tf.nn.relu #, \n",
        "                                      # kernel_regularizer=keras.regularizers.l2(regularizations[i]) \n",
        "                                     ) )\n",
        "        # model.add(keras.layers.Dropout( dropouts[i] ) )\n",
        "        \n",
        "       \n",
        "    model.add(keras.layers.Dense(10, activation=tf.nn.softmax))\n",
        "        \n",
        "    model.compile(loss='categorical_crossentropy', \n",
        "                  optimizer=keras.optimizers.Adam(learning_rate=lr), \n",
        "                  metrics=['accuracy'])\n",
        "    \n",
        "\n",
        "    return model\n",
        "\n",
        "mdl = model_fn([100, 30], .1)\n",
        "# mdl = model_fn([128], [.01], [.01])\n",
        "mdl.summary()"
      ],
      "execution_count": 80,
      "outputs": [
        {
          "output_type": "stream",
          "text": [
            "Model: \"sequential_28\"\n",
            "_________________________________________________________________\n",
            "Layer (type)                 Output Shape              Param #   \n",
            "=================================================================\n",
            "flatten_28 (Flatten)         (None, 1024)              0         \n",
            "_________________________________________________________________\n",
            "dense_106 (Dense)            (None, 100)               102500    \n",
            "_________________________________________________________________\n",
            "dense_107 (Dense)            (None, 30)                3030      \n",
            "_________________________________________________________________\n",
            "dense_108 (Dense)            (None, 10)                310       \n",
            "=================================================================\n",
            "Total params: 105,840\n",
            "Trainable params: 105,840\n",
            "Non-trainable params: 0\n",
            "_________________________________________________________________\n"
          ],
          "name": "stdout"
        }
      ]
    },
    {
      "cell_type": "code",
      "metadata": {
        "id": "x7X9j-L20yQI",
        "outputId": "027c982d-9d9a-4677-bbf5-7ea97c3f8cb0",
        "colab": {
          "base_uri": "https://localhost:8080/"
        }
      },
      "source": [
        "Y_train.shape"
      ],
      "execution_count": 81,
      "outputs": [
        {
          "output_type": "execute_result",
          "data": {
            "text/plain": [
              "(76764, 10)"
            ]
          },
          "metadata": {
            "tags": []
          },
          "execution_count": 81
        }
      ]
    },
    {
      "cell_type": "code",
      "metadata": {
        "ExecuteTime": {
          "end_time": "2020-05-05T07:58:30.095309Z",
          "start_time": "2020-05-05T07:58:25.423506Z"
        },
        "hidden": true,
        "id": "54hdiyCJ6NNM",
        "colab": {
          "base_uri": "https://localhost:8080/"
        },
        "outputId": "d762cf13-1541-4c4f-9b0c-045652efa095"
      },
      "source": [
        "btch_size = 500\n",
        "epch = 3\n",
        "history = mdl.fit(X_train, Y_train, batch_size=btch_size, epochs=epch )"
      ],
      "execution_count": 82,
      "outputs": [
        {
          "output_type": "stream",
          "text": [
            "Epoch 1/3\n",
            "154/154 [==============================] - 1s 3ms/step - loss: 3.0966 - accuracy: 0.2302\n",
            "Epoch 2/3\n",
            "154/154 [==============================] - 1s 3ms/step - loss: 1.4589 - accuracy: 0.3688\n",
            "Epoch 3/3\n",
            "154/154 [==============================] - 1s 3ms/step - loss: 1.4039 - accuracy: 0.4468\n"
          ],
          "name": "stdout"
        }
      ]
    },
    {
      "cell_type": "code",
      "metadata": {
        "ExecuteTime": {
          "end_time": "2020-05-05T08:09:12.538655Z",
          "start_time": "2020-05-05T08:09:09.671588Z"
        },
        "hidden": true,
        "id": "dsYdfxHU6NNN"
      },
      "source": [
        "# Grid search over these:\n",
        "dense_size_candidates = [(10, 40), (50) , (20) ]\n",
        "# regularizations_candidates = [ (.01), (.01), (.001) ]\n",
        "# dropouts_candidates = [  (.005), (.01), (.003) ]\n",
        "lr_candidates = [.1]\n",
        "# epch_list = [4, 10]\n",
        "batch_size_candidates = 500\n",
        "\n",
        "from tensorflow.keras.wrappers.scikit_learn import KerasClassifier\n",
        "from sklearn.model_selection import StratifiedKFold, cross_val_score, GridSearchCV\n",
        "# from sklearn.model_selection import \n",
        "\n",
        "gs_classifier = KerasClassifier(model_fn, batch_size=500, epochs=5)\n"
      ],
      "execution_count": 83,
      "outputs": []
    },
    {
      "cell_type": "code",
      "metadata": {
        "ExecuteTime": {
          "start_time": "2020-05-05T08:08:30.103Z"
        },
        "hidden": true,
        "id": "wg2QxTSa6NNO",
        "colab": {
          "base_uri": "https://localhost:8080/"
        },
        "outputId": "c32830f5-0dfa-4280-a3a8-6d6cd8de000a"
      },
      "source": [
        "validator = GridSearchCV(gs_classifier,\n",
        "                         param_grid={'dense_layer_sizes': dense_size_candidates,\n",
        "                                     # epochs is avail for tuning even when not\n",
        "                                     # an argument to model building function\n",
        "                                     'epochs': [3],\n",
        "                                    #  'regularizations': regularizations_candidates,\n",
        "                                    #  'dropouts': dropouts_candidates,\n",
        "                                     'lr': lr_candidates},\n",
        "                         scoring='neg_log_loss',\n",
        "                         n_jobs= 1,  )\n",
        "validator.fit(X_train, Y_train)"
      ],
      "execution_count": 84,
      "outputs": [
        {
          "output_type": "stream",
          "text": [
            "Epoch 1/3\n",
            "123/123 [==============================] - 1s 3ms/step - loss: 2.1302 - accuracy: 0.2106\n",
            "Epoch 2/3\n",
            "123/123 [==============================] - 0s 3ms/step - loss: 1.5675 - accuracy: 0.3712\n",
            "Epoch 3/3\n",
            "123/123 [==============================] - 0s 3ms/step - loss: 1.4028 - accuracy: 0.4360\n",
            "Epoch 1/3\n",
            "123/123 [==============================] - 1s 3ms/step - loss: 2.4252 - accuracy: 0.1331\n",
            "Epoch 2/3\n",
            "123/123 [==============================] - 0s 3ms/step - loss: 2.0549 - accuracy: 0.1869\n",
            "Epoch 3/3\n",
            "123/123 [==============================] - 0s 3ms/step - loss: 2.0436 - accuracy: 0.1891\n",
            "Epoch 1/3\n",
            "123/123 [==============================] - 1s 3ms/step - loss: 2.1963 - accuracy: 0.2215\n",
            "Epoch 2/3\n",
            "123/123 [==============================] - 0s 3ms/step - loss: 1.4566 - accuracy: 0.3992\n",
            "Epoch 3/3\n",
            "123/123 [==============================] - 0s 3ms/step - loss: 1.3532 - accuracy: 0.4463\n",
            "Epoch 1/3\n",
            "123/123 [==============================] - 1s 3ms/step - loss: 1.7422 - accuracy: 0.3871\n",
            "Epoch 2/3\n",
            "123/123 [==============================] - 0s 3ms/step - loss: 1.0245 - accuracy: 0.5714\n",
            "Epoch 3/3\n",
            "123/123 [==============================] - 0s 3ms/step - loss: 1.0696 - accuracy: 0.5450\n",
            "Epoch 1/3\n",
            "123/123 [==============================] - 1s 3ms/step - loss: 2.1755 - accuracy: 0.3088\n",
            "Epoch 2/3\n",
            "123/123 [==============================] - 0s 3ms/step - loss: 1.4210 - accuracy: 0.4377\n",
            "Epoch 3/3\n",
            "123/123 [==============================] - 0s 3ms/step - loss: 1.1393 - accuracy: 0.5199\n",
            "Epoch 1/3\n",
            "154/154 [==============================] - 1s 3ms/step - loss: 2.1110 - accuracy: 0.2652\n",
            "Epoch 2/3\n",
            "154/154 [==============================] - 1s 3ms/step - loss: 1.2125 - accuracy: 0.5106\n",
            "Epoch 3/3\n",
            "154/154 [==============================] - 0s 3ms/step - loss: 1.1541 - accuracy: 0.5324\n"
          ],
          "name": "stdout"
        },
        {
          "output_type": "execute_result",
          "data": {
            "text/plain": [
              "GridSearchCV(cv=None, error_score=nan,\n",
              "             estimator=<tensorflow.python.keras.wrappers.scikit_learn.KerasClassifier object at 0x7f23a84c2ed0>,\n",
              "             iid='deprecated', n_jobs=1,\n",
              "             param_grid={'dense_layer_sizes': [(10, 40), 50, 20], 'epochs': [3],\n",
              "                         'lr': [0.1]},\n",
              "             pre_dispatch='2*n_jobs', refit=True, return_train_score=False,\n",
              "             scoring='neg_log_loss', verbose=0)"
            ]
          },
          "metadata": {
            "tags": []
          },
          "execution_count": 84
        }
      ]
    },
    {
      "cell_type": "code",
      "metadata": {
        "hidden": true,
        "id": "7Ukq727P6NNR",
        "colab": {
          "base_uri": "https://localhost:8080/"
        },
        "outputId": "8fa28c7d-51f4-49e4-c784-e3a2d3458f0c"
      },
      "source": [
        "print('The parameters of the best model are: ')\n",
        "print(validator.best_params_)\n",
        "\n",
        "# validator.best_estimator_ returns sklearn-wrapped version of best model.\n",
        "# validator.best_estimator_.model returns the (unwrapped) keras model\n",
        "best_model = validator.best_estimator_.model"
      ],
      "execution_count": 85,
      "outputs": [
        {
          "output_type": "stream",
          "text": [
            "The parameters of the best model are: \n",
            "{'dense_layer_sizes': (10, 40), 'epochs': 3, 'lr': 0.1}\n"
          ],
          "name": "stdout"
        }
      ]
    },
    {
      "cell_type": "code",
      "metadata": {
        "hidden": true,
        "id": "YlFEcqM_6NNU",
        "colab": {
          "base_uri": "https://localhost:8080/"
        },
        "outputId": "4d8aee31-344c-4cb5-cb20-a082e6f3574e"
      },
      "source": [
        "best_model.save('best_model')"
      ],
      "execution_count": 86,
      "outputs": [
        {
          "output_type": "stream",
          "text": [
            "INFO:tensorflow:Assets written to: best_model/assets\n"
          ],
          "name": "stdout"
        }
      ]
    },
    {
      "cell_type": "markdown",
      "metadata": {
        "heading_collapsed": true,
        "id": "PvZd8dNkagLl"
      },
      "source": [
        "## Try this for the particle identification problem."
      ]
    },
    {
      "cell_type": "code",
      "metadata": {
        "hidden": true,
        "id": "ipUS-xGwafLK",
        "colab": {
          "base_uri": "https://localhost:8080/",
          "height": 204
        },
        "outputId": "a1fde19e-511e-4dac-81d9-1b0c025ff322"
      },
      "source": [
        "import pandas as pd\n",
        "url = 'https://www.dropbox.com/s/66dbhxl93y41coe/particle-identification-from-detector-responses.zip?dl=1'\n",
        "s=requests.get(url, stream=True).content\n",
        "data=pd.read_csv(io.BytesIO(s) , compression='zip' )\n",
        " \n",
        "'''\n",
        "Alternatively, you can download the file into your computer and run the following code. \n",
        "You need to uncomment it first. \n",
        "'''    \n",
        "\n",
        "# data = pd.read_csv('particle-identification-from-detector-responses.zip', compression='zip')\n",
        "data.head()"
      ],
      "execution_count": null,
      "outputs": [
        {
          "output_type": "execute_result",
          "data": {
            "text/html": [
              "<div>\n",
              "<style scoped>\n",
              "    .dataframe tbody tr th:only-of-type {\n",
              "        vertical-align: middle;\n",
              "    }\n",
              "\n",
              "    .dataframe tbody tr th {\n",
              "        vertical-align: top;\n",
              "    }\n",
              "\n",
              "    .dataframe thead th {\n",
              "        text-align: right;\n",
              "    }\n",
              "</style>\n",
              "<table border=\"1\" class=\"dataframe\">\n",
              "  <thead>\n",
              "    <tr style=\"text-align: right;\">\n",
              "      <th></th>\n",
              "      <th>id</th>\n",
              "      <th>p</th>\n",
              "      <th>theta</th>\n",
              "      <th>beta</th>\n",
              "      <th>nphe</th>\n",
              "      <th>ein</th>\n",
              "      <th>eout</th>\n",
              "    </tr>\n",
              "  </thead>\n",
              "  <tbody>\n",
              "    <tr>\n",
              "      <th>0</th>\n",
              "      <td>211</td>\n",
              "      <td>0.780041</td>\n",
              "      <td>1.081480</td>\n",
              "      <td>0.989962</td>\n",
              "      <td>0</td>\n",
              "      <td>0.000000</td>\n",
              "      <td>0.000000</td>\n",
              "    </tr>\n",
              "    <tr>\n",
              "      <th>1</th>\n",
              "      <td>211</td>\n",
              "      <td>0.260929</td>\n",
              "      <td>0.778892</td>\n",
              "      <td>0.902450</td>\n",
              "      <td>0</td>\n",
              "      <td>0.000000</td>\n",
              "      <td>0.000000</td>\n",
              "    </tr>\n",
              "    <tr>\n",
              "      <th>2</th>\n",
              "      <td>2212</td>\n",
              "      <td>0.773022</td>\n",
              "      <td>0.185953</td>\n",
              "      <td>0.642428</td>\n",
              "      <td>4</td>\n",
              "      <td>0.101900</td>\n",
              "      <td>0.000000</td>\n",
              "    </tr>\n",
              "    <tr>\n",
              "      <th>3</th>\n",
              "      <td>211</td>\n",
              "      <td>0.476997</td>\n",
              "      <td>0.445561</td>\n",
              "      <td>0.951471</td>\n",
              "      <td>0</td>\n",
              "      <td>0.000000</td>\n",
              "      <td>0.000000</td>\n",
              "    </tr>\n",
              "    <tr>\n",
              "      <th>4</th>\n",
              "      <td>2212</td>\n",
              "      <td>2.123290</td>\n",
              "      <td>0.337332</td>\n",
              "      <td>0.908652</td>\n",
              "      <td>0</td>\n",
              "      <td>0.034379</td>\n",
              "      <td>0.049256</td>\n",
              "    </tr>\n",
              "  </tbody>\n",
              "</table>\n",
              "</div>"
            ],
            "text/plain": [
              "     id         p     theta      beta  nphe       ein      eout\n",
              "0   211  0.780041  1.081480  0.989962     0  0.000000  0.000000\n",
              "1   211  0.260929  0.778892  0.902450     0  0.000000  0.000000\n",
              "2  2212  0.773022  0.185953  0.642428     4  0.101900  0.000000\n",
              "3   211  0.476997  0.445561  0.951471     0  0.000000  0.000000\n",
              "4  2212  2.123290  0.337332  0.908652     0  0.034379  0.049256"
            ]
          },
          "metadata": {
            "tags": []
          },
          "execution_count": 36
        }
      ]
    },
    {
      "cell_type": "code",
      "metadata": {
        "hidden": true,
        "id": "1lc1lU1xa87h",
        "colab": {
          "base_uri": "https://localhost:8080/",
          "height": 204
        },
        "outputId": "b90b3e70-15ef-4e64-fae9-3ba9ce7bbf1d"
      },
      "source": [
        "n_s = len(data)\n",
        "targets = list(set(data['id']))\n",
        "# mini_data = data.sample(n_s, axis=0, random_state=0)\n",
        "# data['target'] = data['id'].apply(lambda x: targets.index(x)) \n",
        "data['id'] = pd.Categorical(data.id)\n",
        "# data.drop('id',axis=1, inplace=True)\n",
        "\n",
        "data.head()"
      ],
      "execution_count": null,
      "outputs": [
        {
          "output_type": "execute_result",
          "data": {
            "text/html": [
              "<div>\n",
              "<style scoped>\n",
              "    .dataframe tbody tr th:only-of-type {\n",
              "        vertical-align: middle;\n",
              "    }\n",
              "\n",
              "    .dataframe tbody tr th {\n",
              "        vertical-align: top;\n",
              "    }\n",
              "\n",
              "    .dataframe thead th {\n",
              "        text-align: right;\n",
              "    }\n",
              "</style>\n",
              "<table border=\"1\" class=\"dataframe\">\n",
              "  <thead>\n",
              "    <tr style=\"text-align: right;\">\n",
              "      <th></th>\n",
              "      <th>id</th>\n",
              "      <th>p</th>\n",
              "      <th>theta</th>\n",
              "      <th>beta</th>\n",
              "      <th>nphe</th>\n",
              "      <th>ein</th>\n",
              "      <th>eout</th>\n",
              "    </tr>\n",
              "  </thead>\n",
              "  <tbody>\n",
              "    <tr>\n",
              "      <th>0</th>\n",
              "      <td>211</td>\n",
              "      <td>0.780041</td>\n",
              "      <td>1.081480</td>\n",
              "      <td>0.989962</td>\n",
              "      <td>0</td>\n",
              "      <td>0.000000</td>\n",
              "      <td>0.000000</td>\n",
              "    </tr>\n",
              "    <tr>\n",
              "      <th>1</th>\n",
              "      <td>211</td>\n",
              "      <td>0.260929</td>\n",
              "      <td>0.778892</td>\n",
              "      <td>0.902450</td>\n",
              "      <td>0</td>\n",
              "      <td>0.000000</td>\n",
              "      <td>0.000000</td>\n",
              "    </tr>\n",
              "    <tr>\n",
              "      <th>2</th>\n",
              "      <td>2212</td>\n",
              "      <td>0.773022</td>\n",
              "      <td>0.185953</td>\n",
              "      <td>0.642428</td>\n",
              "      <td>4</td>\n",
              "      <td>0.101900</td>\n",
              "      <td>0.000000</td>\n",
              "    </tr>\n",
              "    <tr>\n",
              "      <th>3</th>\n",
              "      <td>211</td>\n",
              "      <td>0.476997</td>\n",
              "      <td>0.445561</td>\n",
              "      <td>0.951471</td>\n",
              "      <td>0</td>\n",
              "      <td>0.000000</td>\n",
              "      <td>0.000000</td>\n",
              "    </tr>\n",
              "    <tr>\n",
              "      <th>4</th>\n",
              "      <td>2212</td>\n",
              "      <td>2.123290</td>\n",
              "      <td>0.337332</td>\n",
              "      <td>0.908652</td>\n",
              "      <td>0</td>\n",
              "      <td>0.034379</td>\n",
              "      <td>0.049256</td>\n",
              "    </tr>\n",
              "  </tbody>\n",
              "</table>\n",
              "</div>"
            ],
            "text/plain": [
              "     id         p     theta      beta  nphe       ein      eout\n",
              "0   211  0.780041  1.081480  0.989962     0  0.000000  0.000000\n",
              "1   211  0.260929  0.778892  0.902450     0  0.000000  0.000000\n",
              "2  2212  0.773022  0.185953  0.642428     4  0.101900  0.000000\n",
              "3   211  0.476997  0.445561  0.951471     0  0.000000  0.000000\n",
              "4  2212  2.123290  0.337332  0.908652     0  0.034379  0.049256"
            ]
          },
          "metadata": {
            "tags": []
          },
          "execution_count": 37
        }
      ]
    },
    {
      "cell_type": "code",
      "metadata": {
        "id": "NrPV5zhTMHWy"
      },
      "source": [
        "from sklearn.model_selection import train_test_split\n",
        "Y_oh = keras.utils.to_categorical(data.id.cat.codes, num_classes=4, dtype=int)\n",
        "ind_to_keep = ['p', 'beta']\n",
        "X = data[ind_to_keep].values\n",
        "\n",
        "X_train, X_test, Y_train, Y_test = train_test_split( data[ind_to_keep], Y_oh, random_state=0)"
      ],
      "execution_count": null,
      "outputs": []
    },
    {
      "cell_type": "code",
      "metadata": {
        "hidden": true,
        "id": "mQYrlegQe7lW",
        "colab": {
          "base_uri": "https://localhost:8080/",
          "height": 34
        },
        "outputId": "31624c5d-d3d3-4a92-a5a0-36974c3b661b"
      },
      "source": [
        "Y_train.shape"
      ],
      "execution_count": null,
      "outputs": [
        {
          "output_type": "execute_result",
          "data": {
            "text/plain": [
              "(3750000, 4)"
            ]
          },
          "metadata": {
            "tags": []
          },
          "execution_count": 40
        }
      ]
    },
    {
      "cell_type": "code",
      "metadata": {
        "id": "Cm7dqIvHM6tL"
      },
      "source": [
        ""
      ],
      "execution_count": null,
      "outputs": []
    }
  ]
}