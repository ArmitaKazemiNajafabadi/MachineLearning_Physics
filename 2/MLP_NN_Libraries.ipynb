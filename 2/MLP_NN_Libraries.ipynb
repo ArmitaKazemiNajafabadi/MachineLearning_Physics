{
  "nbformat": 4,
  "nbformat_minor": 0,
  "metadata": {
    "accelerator": "GPU",
    "celltoolbar": "Initialization Cell",
    "colab": {
      "name": "MLP_NN_Libraries.ipynb",
      "provenance": [],
      "collapsed_sections": [
        "DHsgox0o117V",
        "i57n75TH8hps",
        "up0G4Hqm1z7S",
        "4pBsRp0S1z7a",
        "sTy_cs4Q1z7o",
        "5ns2Pq871z73",
        "AvJuZGcu1z7_",
        "HV2AO9Yx1z8Z",
        "Pw3EoyFJ8hsR"
      ],
      "toc_visible": true,
      "include_colab_link": true
    },
    "kernelspec": {
      "display_name": "Python 3",
      "language": "python",
      "name": "python3"
    },
    "language_info": {
      "codemirror_mode": {
        "name": "ipython",
        "version": 3
      },
      "file_extension": ".py",
      "mimetype": "text/x-python",
      "name": "python",
      "nbconvert_exporter": "python",
      "pygments_lexer": "ipython3",
      "version": "3.6.10"
    },
    "latex_envs": {
      "LaTeX_envs_menu_present": true,
      "autoclose": false,
      "autocomplete": true,
      "bibliofile": "biblio.bib",
      "cite_by": "apalike",
      "current_citInitial": 1,
      "eqLabelWithNumbers": true,
      "eqNumInitial": 1,
      "hotkeys": {
        "equation": "Ctrl-E",
        "itemize": "Ctrl-I"
      },
      "labels_anchors": false,
      "latex_user_defs": false,
      "report_style_numbering": false,
      "user_envs_cfg": false
    },
    "toc": {
      "base_numbering": 1,
      "nav_menu": {},
      "number_sections": true,
      "sideBar": true,
      "skip_h1_title": false,
      "title_cell": "Table of Contents",
      "title_sidebar": "Contents",
      "toc_cell": false,
      "toc_position": {},
      "toc_section_display": true,
      "toc_window_display": false
    },
    "varInspector": {
      "cols": {
        "lenName": 16,
        "lenType": 16,
        "lenVar": 40
      },
      "kernels_config": {
        "python": {
          "delete_cmd_postfix": "",
          "delete_cmd_prefix": "del ",
          "library": "var_list.py",
          "varRefreshCmd": "print(var_dic_list())"
        },
        "r": {
          "delete_cmd_postfix": ") ",
          "delete_cmd_prefix": "rm(",
          "library": "var_list.r",
          "varRefreshCmd": "cat(var_dic_list()) "
        }
      },
      "types_to_exclude": [
        "module",
        "function",
        "builtin_function_or_method",
        "instance",
        "_Feature"
      ],
      "window_display": false
    }
  },
  "cells": [
    {
      "cell_type": "markdown",
      "metadata": {
        "id": "view-in-github",
        "colab_type": "text"
      },
      "source": [
        "<a href=\"https://colab.research.google.com/github/sraeisi/MachineLearning_Physics/blob/master/2/MLP_NN_Libraries.ipynb\" target=\"_parent\"><img src=\"https://colab.research.google.com/assets/colab-badge.svg\" alt=\"Open In Colab\"/></a>"
      ]
    },
    {
      "cell_type": "markdown",
      "metadata": {
        "id": "DHsgox0o117V"
      },
      "source": [
        "# Pre"
      ]
    },
    {
      "cell_type": "code",
      "metadata": {
        "ExecuteTime": {
          "end_time": "2020-04-26T10:02:49.473349Z",
          "start_time": "2020-04-26T10:02:49.469347Z"
        },
        "id": "0e_arpYe1z6X",
        "init_cell": true
      },
      "source": [
        "import numpy as np\n",
        "import pandas as pd\n",
        "import matplotlib.pyplot as plt\n",
        "plt.style.use('seaborn-talk')\n",
        "\n",
        "import datetime\n",
        "\n",
        "import io, requests, zipfile\n",
        "\n",
        "\n",
        "\n",
        "'''Set the defaults for your plots.'''\n",
        "# plt.rcParams.update({'font.size': 20, 'figsize':(8,6)})\n",
        "SMALL_SIZE = 12\n",
        "MEDIUM_SIZE = 15\n",
        "BIGGER_SIZE = 18\n",
        "\n",
        "plt.rc('font', size=BIGGER_SIZE)          # controls default text sizes\n",
        "plt.rc('axes', titlesize=MEDIUM_SIZE)     # fontsize of the axes title\n",
        "plt.rc('axes', labelsize=BIGGER_SIZE)    # fontsize of the x and y labels\n",
        "plt.rc('xtick', labelsize=SMALL_SIZE)    # fontsize of the tick labels\n",
        "plt.rc('ytick', labelsize=SMALL_SIZE)    # fontsize of the tick labels\n",
        "plt.rc('legend', fontsize=MEDIUM_SIZE)    # legend fontsize\n",
        "plt.rc('figure', titlesize=BIGGER_SIZE)  # fontsize of the figure title\n",
        "\n",
        "plt.rc('axes', linewidth = 5 )\n",
        "plt.rc('lines', linewidth = 5 )\n",
        "\n",
        "plt.rc('lines', markersize = 5 )\n",
        "\n",
        "plt.rc('figure', figsize=(8,4) )         # Image size\n",
        "\n",
        "from zipfile import ZipFile\n",
        "\n",
        "\n",
        "from collections import Counter\n",
        "\n",
        "import warnings\n",
        "warnings.filterwarnings('ignore')\n",
        "\n",
        "from sklearn.utils import shuffle\n",
        "\n"
      ],
      "execution_count": 1,
      "outputs": []
    },
    {
      "cell_type": "code",
      "metadata": {
        "ExecuteTime": {
          "end_time": "2020-04-26T10:02:49.492349Z",
          "start_time": "2020-04-26T10:02:49.475349Z"
        },
        "init_cell": true,
        "id": "UzYne0CK8hpo"
      },
      "source": [
        "def grid(x1, x2, off_set = .1, n_points = 100):\n",
        "    ## d s show the range in the two varible. \n",
        "    d1 = x1.max() - x1.min()\n",
        "    d2 = x2.max() - x2.min()\n",
        "    \n",
        "    x1_min, x1_max = x1.min() - off_set * d1 , x1.max() + off_set * d1\n",
        "    x2_min, x2_max = x2.min() - off_set * d2 , x2.max() + off_set * d2\n",
        "\n",
        "    ## This function from numpy gives a list of coordinates that are the points on the grid. \n",
        "    x, y = np.meshgrid(np.arange(x1_min, x1_max , d1/n_points), np.arange(x2_min, x2_max , d2/n_points) )\n",
        "\n",
        "    return x , y "
      ],
      "execution_count": 2,
      "outputs": []
    },
    {
      "cell_type": "markdown",
      "metadata": {
        "id": "mfNj91Ci6eI9"
      },
      "source": [
        "### Data"
      ]
    },
    {
      "cell_type": "code",
      "metadata": {
        "id": "jOjbPWEhUSf6",
        "colab": {
          "base_uri": "https://localhost:8080/",
          "height": 0
        },
        "outputId": "5910e6f3-b50d-4e46-fecf-5851e54d9539"
      },
      "source": [
        "## First load the data from the following url\n",
        "url = 'https://www.dropbox.com/s/66dbhxl93y41coe/particle-identification-from-detector-responses.zip?dl=1'\n",
        "s=requests.get(url, stream=True).content\n",
        "data=pd.read_csv(io.BytesIO(s) , compression='zip' )\n",
        "\n",
        "data = shuffle(data)\n",
        "\n",
        "'''\n",
        "Alternatively, you can download the file into your computer and run the following code. \n",
        "You need to uncomment it first. \n",
        "'''    \n",
        "\n",
        "# data = pd.read_csv('particle-identification-from-detector-responses.zip', compression='zip')\n",
        "data.head()"
      ],
      "execution_count": 3,
      "outputs": [
        {
          "output_type": "execute_result",
          "data": {
            "text/html": [
              "<div>\n",
              "<style scoped>\n",
              "    .dataframe tbody tr th:only-of-type {\n",
              "        vertical-align: middle;\n",
              "    }\n",
              "\n",
              "    .dataframe tbody tr th {\n",
              "        vertical-align: top;\n",
              "    }\n",
              "\n",
              "    .dataframe thead th {\n",
              "        text-align: right;\n",
              "    }\n",
              "</style>\n",
              "<table border=\"1\" class=\"dataframe\">\n",
              "  <thead>\n",
              "    <tr style=\"text-align: right;\">\n",
              "      <th></th>\n",
              "      <th>id</th>\n",
              "      <th>p</th>\n",
              "      <th>theta</th>\n",
              "      <th>beta</th>\n",
              "      <th>nphe</th>\n",
              "      <th>ein</th>\n",
              "      <th>eout</th>\n",
              "    </tr>\n",
              "  </thead>\n",
              "  <tbody>\n",
              "    <tr>\n",
              "      <th>571485</th>\n",
              "      <td>211</td>\n",
              "      <td>0.295262</td>\n",
              "      <td>0.465100</td>\n",
              "      <td>0.888242</td>\n",
              "      <td>0</td>\n",
              "      <td>0.000000</td>\n",
              "      <td>0.000000</td>\n",
              "    </tr>\n",
              "    <tr>\n",
              "      <th>2472582</th>\n",
              "      <td>211</td>\n",
              "      <td>0.603647</td>\n",
              "      <td>0.548753</td>\n",
              "      <td>0.996533</td>\n",
              "      <td>0</td>\n",
              "      <td>0.000000</td>\n",
              "      <td>0.000000</td>\n",
              "    </tr>\n",
              "    <tr>\n",
              "      <th>4885318</th>\n",
              "      <td>2212</td>\n",
              "      <td>1.420610</td>\n",
              "      <td>0.489178</td>\n",
              "      <td>0.819076</td>\n",
              "      <td>0</td>\n",
              "      <td>0.047059</td>\n",
              "      <td>0.120119</td>\n",
              "    </tr>\n",
              "    <tr>\n",
              "      <th>2544915</th>\n",
              "      <td>211</td>\n",
              "      <td>2.158540</td>\n",
              "      <td>0.510878</td>\n",
              "      <td>1.014270</td>\n",
              "      <td>0</td>\n",
              "      <td>0.068849</td>\n",
              "      <td>0.276951</td>\n",
              "    </tr>\n",
              "    <tr>\n",
              "      <th>217855</th>\n",
              "      <td>211</td>\n",
              "      <td>1.094530</td>\n",
              "      <td>0.553431</td>\n",
              "      <td>0.988226</td>\n",
              "      <td>0</td>\n",
              "      <td>0.027420</td>\n",
              "      <td>0.261479</td>\n",
              "    </tr>\n",
              "  </tbody>\n",
              "</table>\n",
              "</div>"
            ],
            "text/plain": [
              "           id         p     theta      beta  nphe       ein      eout\n",
              "571485    211  0.295262  0.465100  0.888242     0  0.000000  0.000000\n",
              "2472582   211  0.603647  0.548753  0.996533     0  0.000000  0.000000\n",
              "4885318  2212  1.420610  0.489178  0.819076     0  0.047059  0.120119\n",
              "2544915   211  2.158540  0.510878  1.014270     0  0.068849  0.276951\n",
              "217855    211  1.094530  0.553431  0.988226     0  0.027420  0.261479"
            ]
          },
          "metadata": {
            "tags": []
          },
          "execution_count": 3
        }
      ]
    },
    {
      "cell_type": "code",
      "metadata": {
        "id": "_qmdVz5EW7pr",
        "colab": {
          "base_uri": "https://localhost:8080/"
        },
        "outputId": "78ac7fd9-b44a-403b-c6ce-99b040445a22"
      },
      "source": [
        "## Targets\n",
        "targets = list(set(data['id']))\n",
        "print(targets)\n",
        "target_freq = Counter(data['id'])\n",
        "\n",
        "\n",
        "features =  data.columns \n",
        "print(features)\n"
      ],
      "execution_count": 4,
      "outputs": [
        {
          "output_type": "stream",
          "text": [
            "[321, 211, 2212, -11]\n",
            "Index(['id', 'p', 'theta', 'beta', 'nphe', 'ein', 'eout'], dtype='object')\n"
          ],
          "name": "stdout"
        }
      ]
    },
    {
      "cell_type": "code",
      "metadata": {
        "id": "rJqKWQtTWToZ",
        "colab": {
          "base_uri": "https://localhost:8080/",
          "height": 0
        },
        "outputId": "6f632f68-3c9d-4512-b26d-739fd11ced2f"
      },
      "source": [
        "## We only keep two features, this is for simplicity and also for visulaization purposes. \n",
        "features_2d = features[[0,1,3]]\n",
        "\n",
        "\n",
        "## To speed things up in the class we take a small sample of the data\n",
        "\n",
        "n_s = 10000  ## number of samples we keep. \n",
        "\n",
        "mini_data = data[features_2d].sample(n_s, axis=0, random_state=0)\n",
        "\n",
        "mini_data['target'] = mini_data['id'].apply(lambda x: targets.index(x)) ## We add a label/target/class col which is the index of the id in the list of ids.\n",
        "\n",
        "mini_data.drop('id',axis=1, inplace=True)\n",
        "mini_data.head()\n"
      ],
      "execution_count": 5,
      "outputs": [
        {
          "output_type": "execute_result",
          "data": {
            "text/html": [
              "<div>\n",
              "<style scoped>\n",
              "    .dataframe tbody tr th:only-of-type {\n",
              "        vertical-align: middle;\n",
              "    }\n",
              "\n",
              "    .dataframe tbody tr th {\n",
              "        vertical-align: top;\n",
              "    }\n",
              "\n",
              "    .dataframe thead th {\n",
              "        text-align: right;\n",
              "    }\n",
              "</style>\n",
              "<table border=\"1\" class=\"dataframe\">\n",
              "  <thead>\n",
              "    <tr style=\"text-align: right;\">\n",
              "      <th></th>\n",
              "      <th>p</th>\n",
              "      <th>beta</th>\n",
              "      <th>target</th>\n",
              "    </tr>\n",
              "  </thead>\n",
              "  <tbody>\n",
              "    <tr>\n",
              "      <th>699728</th>\n",
              "      <td>0.751659</td>\n",
              "      <td>0.981749</td>\n",
              "      <td>1</td>\n",
              "    </tr>\n",
              "    <tr>\n",
              "      <th>4023129</th>\n",
              "      <td>2.110480</td>\n",
              "      <td>1.010420</td>\n",
              "      <td>1</td>\n",
              "    </tr>\n",
              "    <tr>\n",
              "      <th>625720</th>\n",
              "      <td>2.005800</td>\n",
              "      <td>0.984279</td>\n",
              "      <td>0</td>\n",
              "    </tr>\n",
              "    <tr>\n",
              "      <th>3482741</th>\n",
              "      <td>1.176170</td>\n",
              "      <td>0.779154</td>\n",
              "      <td>2</td>\n",
              "    </tr>\n",
              "    <tr>\n",
              "      <th>364406</th>\n",
              "      <td>0.975967</td>\n",
              "      <td>0.721335</td>\n",
              "      <td>2</td>\n",
              "    </tr>\n",
              "  </tbody>\n",
              "</table>\n",
              "</div>"
            ],
            "text/plain": [
              "                p      beta  target\n",
              "699728   0.751659  0.981749       1\n",
              "4023129  2.110480  1.010420       1\n",
              "625720   2.005800  0.984279       0\n",
              "3482741  1.176170  0.779154       2\n",
              "364406   0.975967  0.721335       2"
            ]
          },
          "metadata": {
            "tags": []
          },
          "execution_count": 5
        }
      ]
    },
    {
      "cell_type": "code",
      "metadata": {
        "id": "M8f8ltboxXLX"
      },
      "source": [
        "X, Y = mini_data[['p','beta']].values, mini_data.target.values\n",
        "\n",
        "from sklearn.model_selection import train_test_split\n",
        "X_train, X_test, Y_train, Y_test  = train_test_split(X, Y, random_state= 0)"
      ],
      "execution_count": 6,
      "outputs": []
    },
    {
      "cell_type": "code",
      "metadata": {
        "colab": {
          "base_uri": "https://localhost:8080/"
        },
        "id": "vVwOMU09y_8h",
        "outputId": "61f745a3-5a05-4393-b1be-9df870973bdc"
      },
      "source": [
        "## We only keep the following two targets\n",
        "## We intentionally pick two classes with the largest bias. \n",
        "ind_1 = 1\n",
        "ind_2 =  2\n",
        "print('The ratio of the number of the samples of the two classes are {}'.format( target_freq[targets[ind_1]]/target_freq[targets[ind_2]] ) )\n",
        "\n",
        "\n",
        "## Only keep the part of the data with one of the two target classes. \n",
        "bmd = mini_data[ (mini_data['target']==ind_1) | (mini_data['target']==ind_2) ].copy()\n",
        "\n",
        "\n",
        "X = bmd.drop('target', axis=1).values\n",
        "Y = (bmd['target'].values >1.5).astype(int)\n",
        "print(Counter(Y))\n",
        "\n",
        "from sklearn.model_selection import train_test_split\n",
        "X_train, X_test, Y_train, Y_test  = train_test_split(X, Y, random_state= 0)"
      ],
      "execution_count": 7,
      "outputs": [
        {
          "output_type": "stream",
          "text": [
            "The ratio of the number of the samples of the two classes are 1.4424721548280468\n",
            "Counter({0: 5571, 1: 3931})\n"
          ],
          "name": "stdout"
        }
      ]
    },
    {
      "cell_type": "markdown",
      "metadata": {
        "id": "sXyJ6nLB8hpr"
      },
      "source": [
        "# Tensorflow\n",
        "\n",
        "There are many different frameworks and APIs for deep learning and neural networks. \n",
        "\n",
        "Here you learn more about them and how they compare to each other:  \n",
        "https://wiki.pathmind.com/comparison-frameworks-dl4j-tensorflow-pytorch\n",
        "\n",
        "Here we focus on Tensorflow (Keras) and Pytorch as the two main tools that we'll be using."
      ]
    },
    {
      "cell_type": "markdown",
      "metadata": {
        "id": "i57n75TH8hps"
      },
      "source": [
        "## Old version and the computation graph"
      ]
    },
    {
      "cell_type": "code",
      "metadata": {
        "id": "a_Fcdf7X8hps",
        "colab": {
          "base_uri": "https://localhost:8080/"
        },
        "outputId": "c384f51f-9ce9-4573-f9ad-9343ca470ff5"
      },
      "source": [
        "%tensorflow_version 1.x\n",
        "import tensorflow as tf\n",
        "print(tf.__version__)\n",
        "\n",
        "%load_ext tensorboard\n"
      ],
      "execution_count": null,
      "outputs": [
        {
          "output_type": "stream",
          "text": [
            "TensorFlow 1.x selected.\n",
            "1.15.2\n"
          ],
          "name": "stdout"
        }
      ]
    },
    {
      "cell_type": "code",
      "metadata": {
        "id": "bIGHFLRGH4ZQ"
      },
      "source": [
        "del( f, init)"
      ],
      "execution_count": null,
      "outputs": []
    },
    {
      "cell_type": "code",
      "metadata": {
        "id": "e-ix6fzV8hpv",
        "colab": {
          "base_uri": "https://localhost:8080/"
        },
        "outputId": "202a3043-8dad-4097-bb8c-747480decd01"
      },
      "source": [
        "###1. Simple Algebra\n",
        "\n",
        "a = tf.Variable(1, name='a')\n",
        "b = tf.Variable(2, name='b')\n",
        "\n",
        "f = a + b\n",
        "\n",
        "print(f)"
      ],
      "execution_count": null,
      "outputs": [
        {
          "output_type": "stream",
          "text": [
            "Tensor(\"add:0\", shape=(), dtype=int32)\n"
          ],
          "name": "stdout"
        }
      ]
    },
    {
      "cell_type": "code",
      "metadata": {
        "colab": {
          "base_uri": "https://localhost:8080/"
        },
        "id": "rVyePJAubvaS",
        "outputId": "7401eed2-b832-4500-a1a6-7408df820417"
      },
      "source": [
        "a"
      ],
      "execution_count": null,
      "outputs": [
        {
          "output_type": "execute_result",
          "data": {
            "text/plain": [
              "<tf.Variable 'a:0' shape=() dtype=int32_ref>"
            ]
          },
          "metadata": {
            "tags": []
          },
          "execution_count": 10
        }
      ]
    },
    {
      "cell_type": "code",
      "metadata": {
        "id": "e9D0lP-Q8hpx",
        "colab": {
          "base_uri": "https://localhost:8080/"
        },
        "outputId": "ef8c365e-0e32-441c-f35a-8e2848bb53a4"
      },
      "source": [
        "init = tf.global_variables_initializer()\n",
        "\n",
        "with tf.Session() as s:\n",
        "    init.run()\n",
        "    print(b.eval())\n",
        "    \n",
        "\n",
        "    print(f.eval() )\n"
      ],
      "execution_count": null,
      "outputs": [
        {
          "output_type": "stream",
          "text": [
            "2\n",
            "3\n"
          ],
          "name": "stdout"
        }
      ]
    },
    {
      "cell_type": "code",
      "metadata": {
        "id": "CiZJdZjA8hp1",
        "colab": {
          "base_uri": "https://localhost:8080/"
        },
        "outputId": "ce830381-980a-4a9a-b8f3-5722abd2e9c8"
      },
      "source": [
        "init = tf.global_variables_initializer()\n",
        " \n",
        "# Clear any logs from previous runs\n",
        "!rm -rf ./logs/ \n",
        "\n",
        "log_file = \"logs/fit/\" + datetime.datetime.now().strftime(\"%Y%m%d-%H%M%S\")\n",
        "# log_Name = 'Simple_Addition'\n",
        "\n",
        "with tf.Session() as s:\n",
        "    file_writer = tf.summary.FileWriter(log_file, s.graph)\n",
        "    init.run()\n",
        "    print(f.eval() )"
      ],
      "execution_count": null,
      "outputs": [
        {
          "output_type": "stream",
          "text": [
            "3\n"
          ],
          "name": "stdout"
        }
      ]
    },
    {
      "cell_type": "code",
      "metadata": {
        "id": "yDMdzMGr9IFp"
      },
      "source": [
        "%tensorboard --logdir logs/fit\n"
      ],
      "execution_count": null,
      "outputs": []
    },
    {
      "cell_type": "code",
      "metadata": {
        "id": "7jgzL4qF8hp4",
        "colab": {
          "base_uri": "https://localhost:8080/"
        },
        "outputId": "f6ad8ddf-a634-46fa-d6b4-d6ea61b3b49f"
      },
      "source": [
        "###2. Simple Optimization Problem\n",
        "\n",
        "w = tf.Variable([0], dtype=tf.float32)\n",
        "f = w**2 -10 * w + 25\n",
        "\n",
        "optimize = tf.train.GradientDescentOptimizer(0.01).minimize(f)\n",
        "\n",
        "init = tf.global_variables_initializer()\n",
        "\n",
        "## Add Tensor board\n",
        "# Clear any logs from previous runs\n",
        "!rm -rf ./logs/ \n",
        "\n",
        "log_file = \"logs/fit/\" + datetime.datetime.now().strftime(\"%Y%m%d-%H%M%S\")\n",
        "# log_Name = 'Simple_Addition'\n",
        "\n",
        "\n",
        "with tf.Session() as s:\n",
        "    file_writer = tf.summary.FileWriter(log_file, s.graph)\n",
        "    init.run()\n",
        "    print(w.eval() )\n",
        "    \n",
        "    for i in range(1000):\n",
        "        s.run(optimize)\n",
        "    \n",
        "    print(w.eval())"
      ],
      "execution_count": null,
      "outputs": [
        {
          "output_type": "stream",
          "text": [
            "WARNING:tensorflow:From /tensorflow-1.15.2/python3.7/tensorflow_core/python/ops/math_grad.py:1375: where (from tensorflow.python.ops.array_ops) is deprecated and will be removed in a future version.\n",
            "Instructions for updating:\n",
            "Use tf.where in 2.0, which has the same broadcast rule as np.where\n",
            "[0.]\n",
            "[4.999988]\n"
          ],
          "name": "stdout"
        }
      ]
    },
    {
      "cell_type": "code",
      "metadata": {
        "id": "CoLdoMn_J3tK"
      },
      "source": [
        "!kill 206"
      ],
      "execution_count": null,
      "outputs": []
    },
    {
      "cell_type": "code",
      "metadata": {
        "id": "KLaeE0uWAkOI"
      },
      "source": [
        "%tensorboard --logdir logs/fit"
      ],
      "execution_count": null,
      "outputs": []
    },
    {
      "cell_type": "code",
      "metadata": {
        "id": "TGr2A5MC8hp7",
        "colab": {
          "base_uri": "https://localhost:8080/"
        },
        "outputId": "bcd3e5ff-6ddc-45bb-e534-50d2ab19c640"
      },
      "source": [
        "###3. Optimization with Variable inputs\n",
        "\n",
        "X = tf.placeholder(tf.float32, [3,1])\n",
        "w = tf.Variable([0], dtype=tf.float32)\n",
        "f = X[0][0] * w**2 -X[1][0] * w + X[2][0] \n",
        "\n",
        "coefs = np.array( [[1] , [-12], [36] ] )\n",
        "\n",
        "optimize = tf.train.GradientDescentOptimizer(0.01).minimize(f)\n",
        "\n",
        "init = tf.global_variables_initializer()\n",
        "\n",
        "## Add Tensor board\n",
        "# Clear any logs from previous runs\n",
        "!rm -rf ./logs/ \n",
        "\n",
        "log_file = \"logs/fit/\" + datetime.datetime.now().strftime(\"%Y%m%d-%H%M%S\")\n",
        "# log_Name = 'Simple_Addition'\n",
        "\n",
        "\n",
        "with tf.Session() as s:\n",
        "  file_writer = tf.summary.FileWriter(log_file, s.graph)\n",
        "  init.run()\n",
        "  print(w.eval() )\n",
        "  \n",
        "  for i in range(1000):\n",
        "      s.run(optimize, feed_dict = {X:coefs})\n",
        "  \n",
        "  print(w.eval())\t\n",
        "\n"
      ],
      "execution_count": null,
      "outputs": [
        {
          "output_type": "stream",
          "text": [
            "[0.]\n",
            "[-5.999988]\n"
          ],
          "name": "stdout"
        }
      ]
    },
    {
      "cell_type": "code",
      "metadata": {
        "id": "tTIwtpr8KzgO"
      },
      "source": [
        "!kill 869"
      ],
      "execution_count": null,
      "outputs": []
    },
    {
      "cell_type": "code",
      "metadata": {
        "id": "hKKksCXi8hp9"
      },
      "source": [
        "%tensorboard --logdir logs/fit"
      ],
      "execution_count": null,
      "outputs": []
    },
    {
      "cell_type": "markdown",
      "metadata": {
        "id": "BfLrohni8hqA"
      },
      "source": [
        "## Keras"
      ]
    },
    {
      "cell_type": "code",
      "metadata": {
        "id": "W_N3YEeG1uW9"
      },
      "source": [
        "from tensorflow import keras as ks"
      ],
      "execution_count": null,
      "outputs": []
    },
    {
      "cell_type": "code",
      "metadata": {
        "colab": {
          "base_uri": "https://localhost:8080/"
        },
        "id": "wuT8k9gO2ipO",
        "outputId": "5fecfdee-266e-4f85-8578-94933ad1b9e7"
      },
      "source": [
        "print(X_train.shape)\n",
        "print( Counter(Y_train) )"
      ],
      "execution_count": null,
      "outputs": [
        {
          "output_type": "stream",
          "text": [
            "(7146, 2)\n",
            "Counter({0: 4182, 1: 2964})\n"
          ],
          "name": "stdout"
        }
      ]
    },
    {
      "cell_type": "code",
      "metadata": {
        "id": "N6xMa6Ps2JqJ"
      },
      "source": [
        "model = ks.models.Sequential()\n",
        "model.add( ks.layers.Dense(  10, activation=ks.activations.relu, input_dim = 2  ) )\n",
        "model.add( ks.layers.Dense(5, activation=ks.layers.LeakyReLU() )  )\n",
        "model.add( ks.layers.Dense(1, activation=ks.activations.sigmoid))"
      ],
      "execution_count": null,
      "outputs": []
    },
    {
      "cell_type": "code",
      "metadata": {
        "colab": {
          "base_uri": "https://localhost:8080/"
        },
        "id": "ldC7x9jf3aYK",
        "outputId": "eb9f951f-f449-4a68-c4ba-7274f52c16a5"
      },
      "source": [
        "model.summary()"
      ],
      "execution_count": null,
      "outputs": [
        {
          "output_type": "stream",
          "text": [
            "Model: \"sequential_3\"\n",
            "_________________________________________________________________\n",
            "Layer (type)                 Output Shape              Param #   \n",
            "=================================================================\n",
            "dense_2 (Dense)              (None, 10)                30        \n",
            "_________________________________________________________________\n",
            "dense_3 (Dense)              (None, 5)                 55        \n",
            "_________________________________________________________________\n",
            "dense_4 (Dense)              (None, 1)                 6         \n",
            "=================================================================\n",
            "Total params: 91\n",
            "Trainable params: 91\n",
            "Non-trainable params: 0\n",
            "_________________________________________________________________\n"
          ],
          "name": "stdout"
        }
      ]
    },
    {
      "cell_type": "code",
      "metadata": {
        "id": "8vxPS3r33d3p"
      },
      "source": [
        "model.compile(  optimizer=ks.optimizers.SGD(), \n",
        "              loss = ks.losses.binary_crossentropy, \n",
        "              metrics = 'acc'\n",
        "    \n",
        ")"
      ],
      "execution_count": null,
      "outputs": []
    },
    {
      "cell_type": "code",
      "metadata": {
        "id": "SFKvm5zRz7y4"
      },
      "source": [
        "from tensorflow import keras as ks\n",
        "\n",
        "model = ks.Sequential()\n",
        "model.add(ks.layers.Dense(10, activation=ks.activations.relu, input_dim = 2)  )\n",
        "model.add(ks.layers.Dense(10, activation=ks.activations.relu)  )\n",
        "model.add(ks.layers.Dense(1, activation=ks.activations.sigmoid)  )\n",
        "model.summary()"
      ],
      "execution_count": null,
      "outputs": []
    },
    {
      "cell_type": "code",
      "metadata": {
        "id": "67dHIZyd8hqG"
      },
      "source": [
        "model.compile( loss=ks.losses.binary_crossentropy  , \n",
        "              optimizer = ks.optimizers.SGD() ,  \n",
        "              metrics = ks.metrics.binary_accuracy )"
      ],
      "execution_count": null,
      "outputs": []
    },
    {
      "cell_type": "code",
      "metadata": {
        "colab": {
          "base_uri": "https://localhost:8080/"
        },
        "id": "bcgTpiqayqN2",
        "outputId": "f1cfc222-c3e2-460b-eb05-c4a1850c7a86"
      },
      "source": [
        "Counter(Y)\n",
        "model.predict(X_test[:3])"
      ],
      "execution_count": null,
      "outputs": [
        {
          "output_type": "execute_result",
          "data": {
            "text/plain": [
              "array([[0.29310393],\n",
              "       [0.33792806],\n",
              "       [0.28414965]], dtype=float32)"
            ]
          },
          "metadata": {
            "tags": []
          },
          "execution_count": 45
        }
      ]
    },
    {
      "cell_type": "code",
      "metadata": {
        "id": "7AfdgqVf8hqJ",
        "colab": {
          "base_uri": "https://localhost:8080/",
          "height": 1000
        },
        "outputId": "38cdd7a4-3dc5-4075-ca40-08d0c732fed4"
      },
      "source": [
        "## Let's try this for the particle identification \n",
        "history = model.fit(X_train, Y_train, epochs=50)\n",
        "plt.plot(history.history['loss'])"
      ],
      "execution_count": null,
      "outputs": [
        {
          "output_type": "stream",
          "text": [
            "Epoch 1/50\n",
            "224/224 [==============================] - 3s 2ms/step - loss: 0.6638 - acc: 0.5903\n",
            "Epoch 2/50\n",
            "224/224 [==============================] - 0s 2ms/step - loss: 0.6187 - acc: 0.6138\n",
            "Epoch 3/50\n",
            "224/224 [==============================] - 0s 2ms/step - loss: 0.5782 - acc: 0.6439\n",
            "Epoch 4/50\n",
            "224/224 [==============================] - 0s 2ms/step - loss: 0.5479 - acc: 0.6609\n",
            "Epoch 5/50\n",
            "224/224 [==============================] - 0s 2ms/step - loss: 0.5154 - acc: 0.6912\n",
            "Epoch 6/50\n",
            "224/224 [==============================] - 0s 2ms/step - loss: 0.4947 - acc: 0.7054\n",
            "Epoch 7/50\n",
            "224/224 [==============================] - 0s 2ms/step - loss: 0.4672 - acc: 0.7483\n",
            "Epoch 8/50\n",
            "224/224 [==============================] - 0s 2ms/step - loss: 0.4413 - acc: 0.7922\n",
            "Epoch 9/50\n",
            "224/224 [==============================] - 0s 2ms/step - loss: 0.4102 - acc: 0.8471\n",
            "Epoch 10/50\n",
            "224/224 [==============================] - 0s 2ms/step - loss: 0.3855 - acc: 0.8543\n",
            "Epoch 11/50\n",
            "224/224 [==============================] - 0s 2ms/step - loss: 0.3626 - acc: 0.8529\n",
            "Epoch 12/50\n",
            "224/224 [==============================] - 0s 2ms/step - loss: 0.3319 - acc: 0.8655\n",
            "Epoch 13/50\n",
            "224/224 [==============================] - 0s 2ms/step - loss: 0.2955 - acc: 0.8759\n",
            "Epoch 14/50\n",
            "224/224 [==============================] - 0s 2ms/step - loss: 0.2756 - acc: 0.9092\n",
            "Epoch 15/50\n",
            "224/224 [==============================] - 0s 2ms/step - loss: 0.2505 - acc: 0.9211\n",
            "Epoch 16/50\n",
            "224/224 [==============================] - 0s 2ms/step - loss: 0.2327 - acc: 0.9393\n",
            "Epoch 17/50\n",
            "224/224 [==============================] - 0s 2ms/step - loss: 0.2084 - acc: 0.9583\n",
            "Epoch 18/50\n",
            "224/224 [==============================] - 0s 2ms/step - loss: 0.1933 - acc: 0.9698\n",
            "Epoch 19/50\n",
            "224/224 [==============================] - 0s 2ms/step - loss: 0.1820 - acc: 0.9689\n",
            "Epoch 20/50\n",
            "224/224 [==============================] - 0s 2ms/step - loss: 0.1701 - acc: 0.9741\n",
            "Epoch 21/50\n",
            "224/224 [==============================] - 0s 2ms/step - loss: 0.1513 - acc: 0.9752\n",
            "Epoch 22/50\n",
            "224/224 [==============================] - 0s 2ms/step - loss: 0.1451 - acc: 0.9791\n",
            "Epoch 23/50\n",
            "224/224 [==============================] - 0s 2ms/step - loss: 0.1386 - acc: 0.9763\n",
            "Epoch 24/50\n",
            "224/224 [==============================] - 0s 2ms/step - loss: 0.1325 - acc: 0.9793\n",
            "Epoch 25/50\n",
            "224/224 [==============================] - 0s 2ms/step - loss: 0.1240 - acc: 0.9823\n",
            "Epoch 26/50\n",
            "224/224 [==============================] - 0s 2ms/step - loss: 0.1163 - acc: 0.9795\n",
            "Epoch 27/50\n",
            "224/224 [==============================] - 0s 2ms/step - loss: 0.1098 - acc: 0.9845\n",
            "Epoch 28/50\n",
            "224/224 [==============================] - 0s 2ms/step - loss: 0.1183 - acc: 0.9817\n",
            "Epoch 29/50\n",
            "224/224 [==============================] - 0s 2ms/step - loss: 0.1154 - acc: 0.9800\n",
            "Epoch 30/50\n",
            "224/224 [==============================] - 0s 2ms/step - loss: 0.1064 - acc: 0.9811\n",
            "Epoch 31/50\n",
            "224/224 [==============================] - 0s 2ms/step - loss: 0.1061 - acc: 0.9813\n",
            "Epoch 32/50\n",
            "224/224 [==============================] - 0s 2ms/step - loss: 0.1005 - acc: 0.9816\n",
            "Epoch 33/50\n",
            "224/224 [==============================] - 0s 2ms/step - loss: 0.1041 - acc: 0.9851\n",
            "Epoch 34/50\n",
            "224/224 [==============================] - 0s 2ms/step - loss: 0.1030 - acc: 0.9818\n",
            "Epoch 35/50\n",
            "224/224 [==============================] - 0s 2ms/step - loss: 0.1024 - acc: 0.9823\n",
            "Epoch 36/50\n",
            "224/224 [==============================] - 0s 2ms/step - loss: 0.0968 - acc: 0.9826\n",
            "Epoch 37/50\n",
            "224/224 [==============================] - 0s 2ms/step - loss: 0.0921 - acc: 0.9859\n",
            "Epoch 38/50\n",
            "224/224 [==============================] - 0s 2ms/step - loss: 0.0884 - acc: 0.9832\n",
            "Epoch 39/50\n",
            "224/224 [==============================] - 0s 2ms/step - loss: 0.0938 - acc: 0.9848\n",
            "Epoch 40/50\n",
            "224/224 [==============================] - 0s 2ms/step - loss: 0.0928 - acc: 0.9810\n",
            "Epoch 41/50\n",
            "224/224 [==============================] - 0s 2ms/step - loss: 0.0899 - acc: 0.9819\n",
            "Epoch 42/50\n",
            "224/224 [==============================] - 0s 2ms/step - loss: 0.0893 - acc: 0.9847\n",
            "Epoch 43/50\n",
            "224/224 [==============================] - 0s 2ms/step - loss: 0.0917 - acc: 0.9844\n",
            "Epoch 44/50\n",
            "224/224 [==============================] - 0s 2ms/step - loss: 0.0853 - acc: 0.9862\n",
            "Epoch 45/50\n",
            "224/224 [==============================] - 0s 2ms/step - loss: 0.0949 - acc: 0.9812\n",
            "Epoch 46/50\n",
            "224/224 [==============================] - 0s 2ms/step - loss: 0.0903 - acc: 0.9819\n",
            "Epoch 47/50\n",
            "224/224 [==============================] - 0s 2ms/step - loss: 0.0853 - acc: 0.9841\n",
            "Epoch 48/50\n",
            "224/224 [==============================] - 0s 2ms/step - loss: 0.0797 - acc: 0.9855\n",
            "Epoch 49/50\n",
            "224/224 [==============================] - 0s 2ms/step - loss: 0.0791 - acc: 0.9856\n",
            "Epoch 50/50\n",
            "224/224 [==============================] - 0s 2ms/step - loss: 0.0801 - acc: 0.9841\n"
          ],
          "name": "stdout"
        },
        {
          "output_type": "execute_result",
          "data": {
            "text/plain": [
              "[<matplotlib.lines.Line2D at 0x7f5249d8ae90>]"
            ]
          },
          "metadata": {
            "tags": []
          },
          "execution_count": 18
        },
        {
          "output_type": "display_data",
          "data": {
            "image/png": "[encoded data removed]",
            "text/plain": [
              "<Figure size 576x288 with 1 Axes>"
            ]
          },
          "metadata": {
            "tags": [],
            "needs_background": "light"
          }
        }
      ]
    },
    {
      "cell_type": "code",
      "metadata": {
        "id": "xzgfOmqX8hqL",
        "colab": {
          "base_uri": "https://localhost:8080/",
          "height": 352
        },
        "outputId": "d91f4869-3398-4bf9-e546-a091ddc75ca3"
      },
      "source": [
        "#predictions of the model for test set\n",
        "y_predict = (model.predict(X_test)>.5).astype(int)\n",
        "\n",
        "x1_list, x2_list = grid(X[:,0], X[:,1], n_points=70)\n",
        "X_grid = np.vstack([x1_list.reshape(-1),x2_list.reshape(-1)]).T\n",
        "Y_grid = model.predict( X_grid ).reshape(x1_list.shape )\n",
        "\n",
        "fig = plt.figure(figsize=(15,5))\n",
        "ax = fig.add_subplot(121 , xlabel = 'X1', ylabel='X2', title = 'Result of the Classification')\n",
        "    \n",
        "ax.contourf(x1_list, x2_list, Y_grid, alpha=.4, cmap=plt.cm.coolwarm)\n",
        "ax.scatter(*X.T, c=Y)    \n",
        "# ax.text(3, 1.4, f'Accuracy: {np.round( model.score(X_test.T, Y_test) , 3)}' , fontsize=20)\n",
        "\n",
        "ax = fig.add_subplot(122 , xlabel = 'X1', ylabel='X2', title = 'Predicitions of the NN')\n",
        "plt.scatter(*X_test.T, c = y_predict.reshape(-1))\n",
        "\n",
        "\n",
        "plt.tight_layout()\n",
        "plt.show()"
      ],
      "execution_count": null,
      "outputs": [
        {
          "output_type": "display_data",
          "data": {
            "image/png": "[encoded data removed]",
            "text/plain": [
              "<Figure size 1080x360 with 2 Axes>"
            ]
          },
          "metadata": {
            "tags": [],
            "needs_background": "light"
          }
        }
      ]
    },
    {
      "cell_type": "markdown",
      "metadata": {
        "id": "18y41-saEmPr"
      },
      "source": [
        "### More structured"
      ]
    },
    {
      "cell_type": "code",
      "metadata": {
        "id": "7qhQ32B557Z9"
      },
      "source": [
        "n_epoch=20\n",
        "btch_size = 100\n",
        "lr = .1"
      ],
      "execution_count": null,
      "outputs": []
    },
    {
      "cell_type": "code",
      "metadata": {
        "id": "4AX4mq3_4baU"
      },
      "source": [
        "from tensorflow import keras as ks\n",
        "\n",
        "model = ks.Sequential()\n",
        "model.add(ks.layers.Dense(10, activation=ks.activations.relu, input_dim = 2)  )\n",
        "model.add(ks.layers.Dense(10, activation=ks.activations.relu)  )\n",
        "model.add(ks.layers.Dense(1, activation=ks.activations.sigmoid)  )\n",
        "\n",
        "\n",
        "model.compile(  \n",
        "    optimizer=ks.optimizers.SGD(learning_rate=lr ), \n",
        "    loss = ks.losses.mse, \n",
        "    metrics = 'acc'    \n",
        ")"
      ],
      "execution_count": null,
      "outputs": []
    },
    {
      "cell_type": "code",
      "metadata": {
        "id": "7XI8-JcI8hqQ",
        "colab": {
          "base_uri": "https://localhost:8080/"
        },
        "outputId": "0719540a-8f53-4619-b8fc-198ffe2fe8d2"
      },
      "source": [
        "# Tensorboard\n",
        "# https://www.tensorflow.org/tensorboard/get_started\n",
        "# Load the TensorBoard notebook extension\n",
        "%load_ext tensorboard\n",
        "\n",
        "# Clear any logs from previous runs\n",
        "!rm -rf ./logs/ \n",
        "\n",
        "log_dir = \"logs/fit/\" + datetime.datetime.now().strftime(\"%Y%m%d-%H%M%S\")\n",
        "tensorboard_callback = ks.callbacks.TensorBoard(log_dir=log_dir, histogram_freq=1)\n",
        "\n",
        "history = model.fit( x=X_train, \n",
        "          y=Y_train, \n",
        "          epochs=n_epoch,\n",
        "          batch_size = btch_size, \n",
        "          validation_data=(X_test, Y_test), \n",
        "          callbacks=[tensorboard_callback])\n"
      ],
      "execution_count": null,
      "outputs": [
        {
          "output_type": "stream",
          "text": [
            "The tensorboard extension is already loaded. To reload it, use:\n",
            "  %reload_ext tensorboard\n",
            "Epoch 1/20\n",
            "72/72 [==============================] - 1s 9ms/step - loss: 0.2224 - acc: 0.5909 - val_loss: 0.1929 - val_acc: 0.6772\n",
            "Epoch 2/20\n",
            "72/72 [==============================] - 0s 3ms/step - loss: 0.1888 - acc: 0.6758 - val_loss: 0.1681 - val_acc: 0.7347\n",
            "Epoch 3/20\n",
            "72/72 [==============================] - 0s 3ms/step - loss: 0.1661 - acc: 0.7381 - val_loss: 0.1541 - val_acc: 0.7939\n",
            "Epoch 4/20\n",
            "72/72 [==============================] - 0s 3ms/step - loss: 0.1520 - acc: 0.8084 - val_loss: 0.1431 - val_acc: 0.8371\n",
            "Epoch 5/20\n",
            "72/72 [==============================] - 0s 3ms/step - loss: 0.1413 - acc: 0.8414 - val_loss: 0.1330 - val_acc: 0.8346\n",
            "Epoch 6/20\n",
            "72/72 [==============================] - 0s 3ms/step - loss: 0.1315 - acc: 0.8416 - val_loss: 0.1206 - val_acc: 0.8514\n",
            "Epoch 7/20\n",
            "72/72 [==============================] - 0s 3ms/step - loss: 0.1188 - acc: 0.8549 - val_loss: 0.1080 - val_acc: 0.8568\n",
            "Epoch 8/20\n",
            "72/72 [==============================] - 0s 3ms/step - loss: 0.1064 - acc: 0.8673 - val_loss: 0.0933 - val_acc: 0.8875\n",
            "Epoch 9/20\n",
            "72/72 [==============================] - 0s 3ms/step - loss: 0.0909 - acc: 0.8964 - val_loss: 0.0787 - val_acc: 0.9207\n",
            "Epoch 10/20\n",
            "72/72 [==============================] - 0s 3ms/step - loss: 0.0759 - acc: 0.9340 - val_loss: 0.0670 - val_acc: 0.9748\n",
            "Epoch 11/20\n",
            "72/72 [==============================] - 0s 4ms/step - loss: 0.0695 - acc: 0.9458 - val_loss: 0.0646 - val_acc: 0.8950\n",
            "Epoch 12/20\n",
            "72/72 [==============================] - 0s 3ms/step - loss: 0.0609 - acc: 0.9498 - val_loss: 0.0545 - val_acc: 0.9249\n",
            "Epoch 13/20\n",
            "72/72 [==============================] - 0s 3ms/step - loss: 0.0532 - acc: 0.9529 - val_loss: 0.0478 - val_acc: 0.9811\n",
            "Epoch 14/20\n",
            "72/72 [==============================] - 0s 3ms/step - loss: 0.0495 - acc: 0.9564 - val_loss: 0.0442 - val_acc: 0.9442\n",
            "Epoch 15/20\n",
            "72/72 [==============================] - 0s 3ms/step - loss: 0.0489 - acc: 0.9500 - val_loss: 0.0442 - val_acc: 0.9358\n",
            "Epoch 16/20\n",
            "72/72 [==============================] - 0s 3ms/step - loss: 0.0457 - acc: 0.9480 - val_loss: 0.0551 - val_acc: 0.9312\n",
            "Epoch 17/20\n",
            "72/72 [==============================] - 0s 3ms/step - loss: 0.0425 - acc: 0.9590 - val_loss: 0.0386 - val_acc: 0.9475\n",
            "Epoch 18/20\n",
            "72/72 [==============================] - 0s 3ms/step - loss: 0.0464 - acc: 0.9465 - val_loss: 0.0616 - val_acc: 0.9043\n",
            "Epoch 19/20\n",
            "72/72 [==============================] - 0s 3ms/step - loss: 0.0375 - acc: 0.9621 - val_loss: 0.0669 - val_acc: 0.8808\n",
            "Epoch 20/20\n",
            "72/72 [==============================] - 0s 3ms/step - loss: 0.0438 - acc: 0.9465 - val_loss: 0.0574 - val_acc: 0.9228\n"
          ],
          "name": "stdout"
        }
      ]
    },
    {
      "cell_type": "markdown",
      "metadata": {
        "id": "9vgQj9l88hqP"
      },
      "source": [
        "### Visualization"
      ]
    },
    {
      "cell_type": "code",
      "metadata": {
        "colab": {
          "base_uri": "https://localhost:8080/"
        },
        "id": "QX22Upsn5SQL",
        "outputId": "1d5ee557-72d8-4560-8c4f-2a702a6968be"
      },
      "source": [
        "print(type(history.history))\n",
        "print(history.history.keys())"
      ],
      "execution_count": null,
      "outputs": [
        {
          "output_type": "stream",
          "text": [
            "<class 'dict'>\n",
            "dict_keys(['loss', 'acc', 'val_loss', 'val_acc'])\n"
          ],
          "name": "stdout"
        }
      ]
    },
    {
      "cell_type": "code",
      "metadata": {
        "colab": {
          "base_uri": "https://localhost:8080/",
          "height": 352
        },
        "id": "fkFb4UwC5IW5",
        "outputId": "b59609f7-4153-4e6b-c8f7-3bd4211810a3"
      },
      "source": [
        "# Plot training & validation accuracy values\n",
        "fig = plt.figure(figsize=(14,5))\n",
        "ax = fig.add_subplot(1,2,1, title = 'Model accuracy', ylabel= 'Accuracy')\n",
        "plt.plot(history.history['acc'])\n",
        "plt.plot(history.history['val_acc'])\n",
        "plt.legend(['Train', 'Test'], loc='upper left')\n",
        "\n",
        "# Plot training & validation loss values\n",
        "ax = fig.add_subplot(1,2,2, title = 'Model loss', ylabel= 'Loss')\n",
        "plt.plot(history.history['loss'])\n",
        "plt.plot(history.history['val_loss'])\n",
        "plt.legend(['Train', 'Test'], loc='upper left')\n",
        "\n",
        "plt.tight_layout()\n",
        "plt.show()"
      ],
      "execution_count": null,
      "outputs": [
        {
          "output_type": "display_data",
          "data": {
            "image/png": "[encoded data removed]",
            "text/plain": [
              "<Figure size 720x360 with 2 Axes>"
            ]
          },
          "metadata": {
            "tags": [],
            "needs_background": "light"
          }
        }
      ]
    },
    {
      "cell_type": "code",
      "metadata": {
        "id": "BTOr2Mip5nZR"
      },
      "source": [
        "%tensorboard --logdir logs/fit"
      ],
      "execution_count": null,
      "outputs": []
    },
    {
      "cell_type": "markdown",
      "metadata": {
        "id": "hVYW5F7oErmw"
      },
      "source": [
        "### Saving and loading models\n",
        "\n",
        "For more info see\n",
        "\n",
        "https://www.tensorflow.org/guide/keras/save_and_serialize"
      ]
    },
    {
      "cell_type": "code",
      "metadata": {
        "colab": {
          "base_uri": "https://localhost:8080/"
        },
        "id": "s76khAA6EvlA",
        "outputId": "646617e3-3505-458f-d422-8eed795537fa"
      },
      "source": [
        "path = 'keras_test_model'\n",
        "model.save(path)\n"
      ],
      "execution_count": null,
      "outputs": [
        {
          "output_type": "stream",
          "text": [
            "INFO:tensorflow:Assets written to: keras_test_model/assets\n"
          ],
          "name": "stdout"
        }
      ]
    },
    {
      "cell_type": "code",
      "metadata": {
        "colab": {
          "base_uri": "https://localhost:8080/"
        },
        "id": "bZsZ1kGhGBgg",
        "outputId": "348f6f06-d2d4-4b0f-e375-c23e5eed1042"
      },
      "source": [
        "new_model = ks.models.load_model(path)\n",
        "new_model.predict(X_test[:3])"
      ],
      "execution_count": null,
      "outputs": [
        {
          "output_type": "execute_result",
          "data": {
            "text/plain": [
              "array([[0.10377856],\n",
              "       [0.20484449],\n",
              "       [0.03866791]], dtype=float32)"
            ]
          },
          "metadata": {
            "tags": []
          },
          "execution_count": 94
        }
      ]
    },
    {
      "cell_type": "markdown",
      "metadata": {
        "id": "_myzYSTV1z7S"
      },
      "source": [
        "# Pytorch"
      ]
    },
    {
      "cell_type": "code",
      "metadata": {
        "ExecuteTime": {
          "end_time": "2020-04-26T10:02:49.506457Z",
          "start_time": "2020-04-26T10:02:49.494349Z"
        },
        "init_cell": true,
        "id": "_rmOlVVc8hqW"
      },
      "source": [
        "import torch"
      ],
      "execution_count": null,
      "outputs": []
    },
    {
      "cell_type": "markdown",
      "metadata": {
        "id": "Rf2HrDXA1z7R"
      },
      "source": [
        "This is prepared mainly based on the tutorial from the official website and some other sources:\n",
        "\n",
        "https://pytorch.org/tutorials/beginner/deep_learning_60min_blitz.html"
      ]
    },
    {
      "cell_type": "markdown",
      "metadata": {
        "ExecuteTime": {
          "end_time": "2020-04-26T08:17:41.229158Z",
          "start_time": "2020-04-26T08:17:41.222586Z"
        },
        "heading_collapsed": true,
        "id": "Y62PJjYC8hqb"
      },
      "source": [
        "## Basics"
      ]
    },
    {
      "cell_type": "markdown",
      "metadata": {
        "heading_collapsed": true,
        "hidden": true,
        "id": "up0G4Hqm1z7S"
      },
      "source": [
        "### Pytorch as alternative to numpy"
      ]
    },
    {
      "cell_type": "code",
      "metadata": {
        "hidden": true,
        "id": "qNJk5g46MOaR",
        "colab": {
          "base_uri": "https://localhost:8080/"
        },
        "outputId": "fada4f17-0725-4356-e006-c2cd1f83860f"
      },
      "source": [
        "np.zeros((2,3))"
      ],
      "execution_count": null,
      "outputs": [
        {
          "output_type": "execute_result",
          "data": {
            "text/plain": [
              "array([[0., 0., 0.],\n",
              "       [0., 0., 0.]])"
            ]
          },
          "metadata": {
            "tags": []
          },
          "execution_count": 52
        }
      ]
    },
    {
      "cell_type": "code",
      "metadata": {
        "ExecuteTime": {
          "end_time": "2020-03-27T11:27:30.937142Z",
          "start_time": "2020-03-27T11:27:30.903632Z"
        },
        "hidden": true,
        "id": "nyW7HeLK1z7T",
        "colab": {
          "base_uri": "https://localhost:8080/"
        },
        "outputId": "404d5b0d-a842-4f63-94dc-5a6f652b8e1e"
      },
      "source": [
        "### A bunch of zeros\n",
        "a = torch.zeros( (2,3))\n",
        "a"
      ],
      "execution_count": null,
      "outputs": [
        {
          "output_type": "execute_result",
          "data": {
            "text/plain": [
              "tensor([[0., 0., 0.],\n",
              "        [0., 0., 0.]])"
            ]
          },
          "metadata": {
            "tags": []
          },
          "execution_count": 55
        }
      ]
    },
    {
      "cell_type": "code",
      "metadata": {
        "hidden": true,
        "id": "iwdD07Pt1z7Y",
        "colab": {
          "base_uri": "https://localhost:8080/"
        },
        "outputId": "a0341520-405c-4367-cad6-4a54bd403661"
      },
      "source": [
        "a = torch.rand( 2,3 )\n",
        "a"
      ],
      "execution_count": null,
      "outputs": [
        {
          "output_type": "execute_result",
          "data": {
            "text/plain": [
              "tensor([[0.7108, 0.2265, 0.6202],\n",
              "        [0.7468, 0.3269, 0.8445]])"
            ]
          },
          "metadata": {
            "tags": []
          },
          "execution_count": 56
        }
      ]
    },
    {
      "cell_type": "markdown",
      "metadata": {
        "heading_collapsed": true,
        "hidden": true,
        "id": "4pBsRp0S1z7a"
      },
      "source": [
        "### Converting numpy array to tensor and reverse"
      ]
    },
    {
      "cell_type": "code",
      "metadata": {
        "ExecuteTime": {
          "end_time": "2020-03-27T12:08:43.905962Z",
          "start_time": "2020-03-27T12:08:43.891787Z"
        },
        "hidden": true,
        "id": "-gUQfePv1z7b",
        "colab": {
          "base_uri": "https://localhost:8080/"
        },
        "outputId": "6cc6c718-6464-462f-b5bd-f2d6f552a10c"
      },
      "source": [
        "# We can convert our np arrays to tensors\n",
        "a = np.random.uniform(0,3, size = (2,3))\n",
        "a = torch.tensor(a)\n",
        "# a = torch.from_numpy(a)\n",
        "a"
      ],
      "execution_count": null,
      "outputs": [
        {
          "output_type": "execute_result",
          "data": {
            "text/plain": [
              "tensor([[1.2405, 2.1901, 1.9317],\n",
              "        [2.2465, 1.5680, 2.7360]], dtype=torch.float64)"
            ]
          },
          "metadata": {
            "tags": []
          },
          "execution_count": 58
        }
      ]
    },
    {
      "cell_type": "code",
      "metadata": {
        "ExecuteTime": {
          "end_time": "2020-03-27T12:17:31.129948Z",
          "start_time": "2020-03-27T12:17:31.113807Z"
        },
        "hidden": true,
        "id": "m7NStrrJ1z7e",
        "colab": {
          "base_uri": "https://localhost:8080/"
        },
        "outputId": "0237c23a-df2c-4558-b0d7-6d0e8c7b00e0"
      },
      "source": [
        "a.numpy()"
      ],
      "execution_count": null,
      "outputs": [
        {
          "output_type": "execute_result",
          "data": {
            "text/plain": [
              "array([[1.24047137, 2.19009652, 1.93174697],\n",
              "       [2.24648329, 1.56796091, 2.73597713]])"
            ]
          },
          "metadata": {
            "tags": []
          },
          "execution_count": 59
        }
      ]
    },
    {
      "cell_type": "code",
      "metadata": {
        "ExecuteTime": {
          "end_time": "2020-03-27T12:17:35.794914Z",
          "start_time": "2020-03-27T12:17:35.780994Z"
        },
        "hidden": true,
        "id": "5xE1iD5H1z7i",
        "colab": {
          "base_uri": "https://localhost:8080/"
        },
        "outputId": "12f6e4de-fa30-4973-f574-9464fe56999d"
      },
      "source": [
        "a"
      ],
      "execution_count": null,
      "outputs": [
        {
          "output_type": "execute_result",
          "data": {
            "text/plain": [
              "tensor([[1.2405, 2.1901, 1.9317],\n",
              "        [2.2465, 1.5680, 2.7360]], dtype=torch.float64)"
            ]
          },
          "metadata": {
            "tags": []
          },
          "execution_count": 60
        }
      ]
    },
    {
      "cell_type": "code",
      "metadata": {
        "ExecuteTime": {
          "end_time": "2020-03-27T12:21:49.418221Z",
          "start_time": "2020-03-27T12:21:49.392384Z"
        },
        "hidden": true,
        "id": "KBItngSY1z7l",
        "colab": {
          "base_uri": "https://localhost:8080/"
        },
        "outputId": "79389cde-8054-478c-af79-ff72852e34f8"
      },
      "source": [
        "print(a)\n",
        "\n",
        "a_np = a.numpy()\n",
        "print(a_np)\n",
        "\n",
        "\n",
        "# The value of the numpy version is linked to the original tensor. \n",
        "a+=1\n",
        "print('\\n The value of a is updated. \\n')\n",
        "print(a)\n",
        "\n",
        "print(a_np)\n",
        "\n"
      ],
      "execution_count": null,
      "outputs": [
        {
          "output_type": "stream",
          "text": [
            "tensor([[1.2405, 2.1901, 1.9317],\n",
            "        [2.2465, 1.5680, 2.7360]], dtype=torch.float64)\n",
            "[[1.24047137 2.19009652 1.93174697]\n",
            " [2.24648329 1.56796091 2.73597713]]\n",
            "\n",
            " The value of a is updated. \n",
            "\n",
            "tensor([[2.2405, 3.1901, 2.9317],\n",
            "        [3.2465, 2.5680, 3.7360]], dtype=torch.float64)\n",
            "[[2.24047137 3.19009652 2.93174697]\n",
            " [3.24648329 2.56796091 3.73597713]]\n"
          ],
          "name": "stdout"
        }
      ]
    },
    {
      "cell_type": "markdown",
      "metadata": {
        "heading_collapsed": true,
        "hidden": true,
        "id": "sTy_cs4Q1z7o"
      },
      "source": [
        "### Tensor operations"
      ]
    },
    {
      "cell_type": "code",
      "metadata": {
        "ExecuteTime": {
          "end_time": "2020-03-27T12:19:02.975705Z",
          "start_time": "2020-03-27T12:19:02.958196Z"
        },
        "hidden": true,
        "id": "xv3BqMk31z7p",
        "colab": {
          "base_uri": "https://localhost:8080/"
        },
        "outputId": "77d909fa-49c1-4778-8af3-f28d2464b526"
      },
      "source": [
        "print(a)\n",
        "\n",
        "## Similar to numpy, values are broadcasted.\n",
        "print(a+1)"
      ],
      "execution_count": null,
      "outputs": [
        {
          "output_type": "stream",
          "text": [
            "tensor([[2.2405, 3.1901, 2.9317],\n",
            "        [3.2465, 2.5680, 3.7360]], dtype=torch.float64)\n",
            "tensor([[3.2405, 4.1901, 3.9317],\n",
            "        [4.2465, 3.5680, 4.7360]], dtype=torch.float64)\n"
          ],
          "name": "stdout"
        }
      ]
    },
    {
      "cell_type": "code",
      "metadata": {
        "ExecuteTime": {
          "end_time": "2020-03-27T12:05:06.818639Z",
          "start_time": "2020-03-27T12:05:06.803436Z"
        },
        "hidden": true,
        "id": "wE1BBkmN1z7r",
        "colab": {
          "base_uri": "https://localhost:8080/"
        },
        "outputId": "3beb810e-c14a-4ac6-9d33-b2e57997a29c"
      },
      "source": [
        "b = torch.tensor(np.random.uniform( 0,3, (2,3) )  )\n",
        "\n",
        "#Transposition\n",
        "b.t()"
      ],
      "execution_count": null,
      "outputs": [
        {
          "output_type": "execute_result",
          "data": {
            "text/plain": [
              "tensor([[1.4833, 2.0360],\n",
              "        [1.5494, 2.0776],\n",
              "        [0.0355, 2.8031]], dtype=torch.float64)"
            ]
          },
          "metadata": {
            "tags": []
          },
          "execution_count": 63
        }
      ]
    },
    {
      "cell_type": "code",
      "metadata": {
        "ExecuteTime": {
          "end_time": "2020-03-27T12:06:49.163858Z",
          "start_time": "2020-03-27T12:06:49.152715Z"
        },
        "hidden": true,
        "id": "NBlyn3571z7u",
        "colab": {
          "base_uri": "https://localhost:8080/"
        },
        "outputId": "5eeceebf-0d34-429e-8a64-ff756d1bd4b3"
      },
      "source": [
        "#Shape\n",
        "print(f\"The shape of b is {b.size()}.\"  )\n",
        "\n",
        "#Reshape\n",
        "print(f\"We can flatten b to {b.view(-1)}.\"  )"
      ],
      "execution_count": null,
      "outputs": [
        {
          "output_type": "stream",
          "text": [
            "The shape of b is torch.Size([2, 3]).\n",
            "We can flatten b to tensor([1.4833, 1.5494, 0.0355, 2.0360, 2.0776, 2.8031], dtype=torch.float64).\n"
          ],
          "name": "stdout"
        }
      ]
    },
    {
      "cell_type": "code",
      "metadata": {
        "ExecuteTime": {
          "end_time": "2020-03-27T12:14:24.340356Z",
          "start_time": "2020-03-27T12:14:24.329970Z"
        },
        "hidden": true,
        "id": "I8el3Koh1z7x",
        "colab": {
          "base_uri": "https://localhost:8080/"
        },
        "outputId": "2f0fb741-c5fa-4abb-890a-5891839c5d82"
      },
      "source": [
        "# Matrix Multipication\n",
        "print(f\"The matrix multipication of a.b is \\n{torch.mm(a , b.t())  }.\"  )\n"
      ],
      "execution_count": null,
      "outputs": [
        {
          "output_type": "stream",
          "text": [
            "The matrix multipication of a.b is \n",
            "tensor([[ 8.3698, 19.4075],\n",
            "        [ 8.9266, 22.4176]], dtype=torch.float64).\n"
          ],
          "name": "stdout"
        }
      ]
    },
    {
      "cell_type": "code",
      "metadata": {
        "ExecuteTime": {
          "end_time": "2020-03-27T12:15:09.150939Z",
          "start_time": "2020-03-27T12:15:09.124561Z"
        },
        "hidden": true,
        "id": "NWYXCeXh1z71",
        "colab": {
          "base_uri": "https://localhost:8080/"
        },
        "outputId": "1310a09d-e1eb-4252-f9eb-ddc378351d22"
      },
      "source": [
        "# Or we can do\n",
        "a.mm(b.t())"
      ],
      "execution_count": null,
      "outputs": [
        {
          "output_type": "execute_result",
          "data": {
            "text/plain": [
              "tensor([[ 8.3698, 19.4075],\n",
              "        [ 8.9266, 22.4176]], dtype=torch.float64)"
            ]
          },
          "metadata": {
            "tags": []
          },
          "execution_count": 66
        }
      ]
    },
    {
      "cell_type": "markdown",
      "metadata": {
        "heading_collapsed": true,
        "hidden": true,
        "id": "5ns2Pq871z73"
      },
      "source": [
        "### Empty tensors"
      ]
    },
    {
      "cell_type": "code",
      "metadata": {
        "ExecuteTime": {
          "end_time": "2020-03-27T12:12:39.386468Z",
          "start_time": "2020-03-27T12:12:39.370821Z"
        },
        "hidden": true,
        "id": "f0pg2Uui1z74"
      },
      "source": [
        "x = torch.empty((2,2),dtype=torch.float64)\n",
        "\n",
        "x"
      ],
      "execution_count": null,
      "outputs": []
    },
    {
      "cell_type": "code",
      "metadata": {
        "ExecuteTime": {
          "end_time": "2020-03-27T12:13:57.387850Z",
          "start_time": "2020-03-27T12:13:57.376574Z"
        },
        "hidden": true,
        "id": "XgnC39dv1z76"
      },
      "source": [
        "torch.mm(a , b.t(), out = x)\n",
        "\n",
        "print(f\"x is now updated to\\n{x}.\")"
      ],
      "execution_count": null,
      "outputs": []
    },
    {
      "cell_type": "code",
      "metadata": {
        "hidden": true,
        "id": "lZVWpWBW1z78"
      },
      "source": [
        ""
      ],
      "execution_count": null,
      "outputs": []
    },
    {
      "cell_type": "markdown",
      "metadata": {
        "heading_collapsed": true,
        "hidden": true,
        "id": "AvJuZGcu1z7_"
      },
      "source": [
        "### GPU\n",
        "\n",
        "One cool feature of pytorch is that it presents a cool alternative to numpy but with the advantage that the operations can be run on GPU. Note that that numpy arrays and operations are not GPU enabled (at least not out of the box)."
      ]
    },
    {
      "cell_type": "code",
      "metadata": {
        "ExecuteTime": {
          "end_time": "2020-03-27T12:47:09.377042Z",
          "start_time": "2020-03-27T12:47:08.028134Z"
        },
        "hidden": true,
        "id": "9aUzArhD1z7_",
        "colab": {
          "base_uri": "https://localhost:8080/"
        },
        "outputId": "3c9258be-3d11-4d92-d8da-48d97666fa7f"
      },
      "source": [
        "device = torch.device(\"cuda:0\" if torch.cuda.is_available() else \"cpu\")\n",
        "print(device)"
      ],
      "execution_count": null,
      "outputs": [
        {
          "output_type": "stream",
          "text": [
            "cuda:0\n"
          ],
          "name": "stdout"
        }
      ]
    },
    {
      "cell_type": "code",
      "metadata": {
        "ExecuteTime": {
          "end_time": "2020-03-27T12:33:45.142021Z",
          "start_time": "2020-03-27T12:33:45.122144Z"
        },
        "hidden": true,
        "id": "Sv_75HOx1z8C",
        "colab": {
          "base_uri": "https://localhost:8080/"
        },
        "outputId": "aa0b6d96-1d5c-489b-a6b5-cb25a2e2e746"
      },
      "source": [
        "a = np.random.uniform(0,3, size = (2,3))\n",
        "print(a)\n",
        "# a = torch.tensor(a, device=device, dtype = torch.int)\n",
        "a = torch.from_numpy(a).to(device)\n",
        "a"
      ],
      "execution_count": null,
      "outputs": [
        {
          "output_type": "stream",
          "text": [
            "[[2.73908044 0.02034653 1.9997543 ]\n",
            " [2.7812298  2.71276099 0.46972765]]\n"
          ],
          "name": "stdout"
        },
        {
          "output_type": "execute_result",
          "data": {
            "text/plain": [
              "tensor([[2.7391, 0.0203, 1.9998],\n",
              "        [2.7812, 2.7128, 0.4697]], device='cuda:0', dtype=torch.float64)"
            ]
          },
          "metadata": {
            "tags": []
          },
          "execution_count": 69
        }
      ]
    },
    {
      "cell_type": "markdown",
      "metadata": {
        "heading_collapsed": true,
        "hidden": true,
        "id": "-CLURPvt1z8E"
      },
      "source": [
        "#### Speedup over GPU."
      ]
    },
    {
      "cell_type": "code",
      "metadata": {
        "ExecuteTime": {
          "end_time": "2020-03-27T12:47:18.569000Z",
          "start_time": "2020-03-27T12:47:13.507010Z"
        },
        "hidden": true,
        "id": "QdijhTx11z8F",
        "colab": {
          "base_uri": "https://localhost:8080/"
        },
        "outputId": "322aba79-9e9a-4275-911e-c6ccda38cba0"
      },
      "source": [
        "%%time\n",
        "d_mat = 10**4\n",
        "a = np.random.rand(d_mat, d_mat)\n",
        "b = np.random.rand(d_mat, d_mat)\n"
      ],
      "execution_count": null,
      "outputs": [
        {
          "output_type": "stream",
          "text": [
            "CPU times: user 1.59 s, sys: 1.38 ms, total: 1.59 s\n",
            "Wall time: 1.59 s\n"
          ],
          "name": "stdout"
        }
      ]
    },
    {
      "cell_type": "code",
      "metadata": {
        "ExecuteTime": {
          "end_time": "2020-03-27T12:47:19.836108Z",
          "start_time": "2020-03-27T12:47:18.869375Z"
        },
        "hidden": true,
        "id": "hP-SpjQa1z8H",
        "colab": {
          "base_uri": "https://localhost:8080/"
        },
        "outputId": "6e78f07a-08bf-485a-c691-fcfc1d63fb98"
      },
      "source": [
        "%%time\n",
        "for i in range(100):\n",
        "  c = a+b"
      ],
      "execution_count": null,
      "outputs": [
        {
          "output_type": "stream",
          "text": [
            "CPU times: user 20.2 s, sys: 777 µs, total: 20.2 s\n",
            "Wall time: 20.1 s\n"
          ],
          "name": "stdout"
        }
      ]
    },
    {
      "cell_type": "code",
      "metadata": {
        "colab": {
          "base_uri": "https://localhost:8080/"
        },
        "id": "pawSjOcl8eUH",
        "outputId": "24952e2f-6705-459a-cef2-593e34f866d9"
      },
      "source": [
        "c"
      ],
      "execution_count": null,
      "outputs": [
        {
          "output_type": "execute_result",
          "data": {
            "text/plain": [
              "array([[0.57286131, 1.55657011, 0.70364837, ..., 1.04040419, 1.30565322,\n",
              "        1.10246441],\n",
              "       [1.72079537, 0.86933379, 0.50991075, ..., 1.31911001, 0.95020259,\n",
              "        0.77249157],\n",
              "       [1.33956897, 0.87872835, 0.14989924, ..., 1.18413445, 1.32930997,\n",
              "        0.8011871 ],\n",
              "       ...,\n",
              "       [1.27633202, 0.2628485 , 0.93149642, ..., 0.67235471, 0.9119505 ,\n",
              "        0.59184198],\n",
              "       [1.00619455, 1.8868236 , 1.10057246, ..., 1.27610208, 0.76405012,\n",
              "        0.21556736],\n",
              "       [1.44306816, 0.66267446, 1.16253041, ..., 1.66536906, 0.88473399,\n",
              "        0.86747902]])"
            ]
          },
          "metadata": {
            "tags": []
          },
          "execution_count": 96
        }
      ]
    },
    {
      "cell_type": "code",
      "metadata": {
        "ExecuteTime": {
          "end_time": "2020-03-27T12:48:12.494518Z",
          "start_time": "2020-03-27T12:48:11.955368Z"
        },
        "hidden": true,
        "id": "6e0SVKbO1z8J"
      },
      "source": [
        "a_t = torch.tensor(a)\n",
        "b_t = torch.tensor(b)"
      ],
      "execution_count": null,
      "outputs": []
    },
    {
      "cell_type": "code",
      "metadata": {
        "ExecuteTime": {
          "end_time": "2020-03-27T12:48:13.108729Z",
          "start_time": "2020-03-27T12:48:12.740109Z"
        },
        "hidden": true,
        "id": "6qrBrteO1z8L",
        "colab": {
          "base_uri": "https://localhost:8080/"
        },
        "outputId": "4f999085-4b6a-4142-846b-b14fff6d913b"
      },
      "source": [
        "%%time\n",
        "# np.dot(a,a)\n",
        "c_t = a_t+b_t"
      ],
      "execution_count": null,
      "outputs": [
        {
          "output_type": "stream",
          "text": [
            "CPU times: user 235 ms, sys: 0 ns, total: 235 ms\n",
            "Wall time: 237 ms\n"
          ],
          "name": "stdout"
        }
      ]
    },
    {
      "cell_type": "code",
      "metadata": {
        "ExecuteTime": {
          "end_time": "2020-03-27T12:47:37.279737Z",
          "start_time": "2020-03-27T12:47:26.638381Z"
        },
        "hidden": true,
        "id": "85zrjxbK1z8O"
      },
      "source": [
        "a_t = torch.tensor(a, device=device)\n",
        "b_t = torch.tensor(b, device=device)"
      ],
      "execution_count": null,
      "outputs": []
    },
    {
      "cell_type": "code",
      "metadata": {
        "id": "GVxUiQfR8LMP"
      },
      "source": [
        "del( b)"
      ],
      "execution_count": null,
      "outputs": []
    },
    {
      "cell_type": "code",
      "metadata": {
        "ExecuteTime": {
          "end_time": "2020-03-27T12:47:38.237113Z",
          "start_time": "2020-03-27T12:47:38.183692Z"
        },
        "hidden": true,
        "id": "uW8zLJkX1z8Q",
        "colab": {
          "base_uri": "https://localhost:8080/"
        },
        "outputId": "3cebe432-c23a-4cc9-ff03-a48c8ebd29f3"
      },
      "source": [
        "%%time\n",
        "for i in range(100):\n",
        "  c_t = a_t+b_t"
      ],
      "execution_count": null,
      "outputs": [
        {
          "output_type": "stream",
          "text": [
            "CPU times: user 2.1 ms, sys: 3 µs, total: 2.1 ms\n",
            "Wall time: 2.02 ms\n"
          ],
          "name": "stdout"
        }
      ]
    },
    {
      "cell_type": "code",
      "metadata": {
        "colab": {
          "base_uri": "https://localhost:8080/"
        },
        "id": "6wb6gh--8bia",
        "outputId": "1c7f3838-be7f-40e6-abdd-ba65851cfcac"
      },
      "source": [
        "c_t"
      ],
      "execution_count": null,
      "outputs": [
        {
          "output_type": "execute_result",
          "data": {
            "text/plain": [
              "tensor([[0.5729, 1.5566, 0.7036,  ..., 1.0404, 1.3057, 1.1025],\n",
              "        [1.7208, 0.8693, 0.5099,  ..., 1.3191, 0.9502, 0.7725],\n",
              "        [1.3396, 0.8787, 0.1499,  ..., 1.1841, 1.3293, 0.8012],\n",
              "        ...,\n",
              "        [1.2763, 0.2628, 0.9315,  ..., 0.6724, 0.9120, 0.5918],\n",
              "        [1.0062, 1.8868, 1.1006,  ..., 1.2761, 0.7641, 0.2156],\n",
              "        [1.4431, 0.6627, 1.1625,  ..., 1.6654, 0.8847, 0.8675]],\n",
              "       device='cuda:0', dtype=torch.float64)"
            ]
          },
          "metadata": {
            "tags": []
          },
          "execution_count": 95
        }
      ]
    },
    {
      "cell_type": "markdown",
      "metadata": {
        "heading_collapsed": true,
        "hidden": true,
        "id": "TOCTbJ6u1z8S"
      },
      "source": [
        "#### But be careful, it is not always wise to use GPU."
      ]
    },
    {
      "cell_type": "code",
      "metadata": {
        "ExecuteTime": {
          "end_time": "2020-03-27T12:36:05.901022Z",
          "start_time": "2020-03-27T12:36:00.284021Z"
        },
        "hidden": true,
        "id": "Z5rdtrh31z8T",
        "colab": {
          "base_uri": "https://localhost:8080/"
        },
        "outputId": "fd44ce7b-4704-4bd2-e2e4-9a120061a32b"
      },
      "source": [
        "%%time\n",
        "## Let's compare the speed. \n",
        "n_run = 10**6\n",
        "a = np.ones((3,3))\n",
        "\n",
        "for i in range(n_run):\n",
        "    np.matmul(a,a)\n",
        "\n"
      ],
      "execution_count": null,
      "outputs": [
        {
          "output_type": "stream",
          "text": [
            "CPU times: user 1.34 s, sys: 9.46 ms, total: 1.35 s\n",
            "Wall time: 1.35 s\n"
          ],
          "name": "stdout"
        }
      ]
    },
    {
      "cell_type": "code",
      "metadata": {
        "ExecuteTime": {
          "end_time": "2020-03-27T12:36:00.249262Z",
          "start_time": "2020-03-27T12:35:55.126009Z"
        },
        "hidden": true,
        "id": "yZWKxwLc1z8V",
        "colab": {
          "base_uri": "https://localhost:8080/"
        },
        "outputId": "ad01d1d6-59fd-4a3e-bb2d-f1570d081df2"
      },
      "source": [
        "%%time\n",
        "## Let's compare the speed. \n",
        "n_run = 10**6\n",
        "a = np.ones((3,3))\n",
        "\n",
        "for i in range(n_run):\n",
        "    np.dot(a,a)\n",
        "\n"
      ],
      "execution_count": null,
      "outputs": [
        {
          "output_type": "stream",
          "text": [
            "CPU times: user 1.22 s, sys: 1.78 ms, total: 1.22 s\n",
            "Wall time: 1.22 s\n"
          ],
          "name": "stdout"
        }
      ]
    },
    {
      "cell_type": "code",
      "metadata": {
        "ExecuteTime": {
          "end_time": "2020-03-27T12:36:29.337407Z",
          "start_time": "2020-03-27T12:36:18.331727Z"
        },
        "hidden": true,
        "id": "YtsBeyGr1z8X",
        "colab": {
          "base_uri": "https://localhost:8080/"
        },
        "outputId": "fd82c354-92d5-49c7-df56-5b6aa5a3a34d"
      },
      "source": [
        "%%time\n",
        "## Let's compare the speed. \n",
        "n_run = 10**6\n",
        "a = torch.ones((3,3), device=device)\n",
        "\n",
        "for i in range(n_run):\n",
        "    torch.mm(a,a)\n",
        "\n"
      ],
      "execution_count": null,
      "outputs": [
        {
          "output_type": "stream",
          "text": [
            "CPU times: user 8.28 s, sys: 437 µs, total: 8.28 s\n",
            "Wall time: 8.3 s\n"
          ],
          "name": "stdout"
        }
      ]
    },
    {
      "cell_type": "markdown",
      "metadata": {
        "heading_collapsed": true,
        "id": "HV2AO9Yx1z8Z"
      },
      "source": [
        "## Autograd"
      ]
    },
    {
      "cell_type": "code",
      "metadata": {
        "id": "SeK_CJDo2427"
      },
      "source": [
        "import torch"
      ],
      "execution_count": 8,
      "outputs": []
    },
    {
      "cell_type": "code",
      "metadata": {
        "ExecuteTime": {
          "end_time": "2020-04-26T08:37:38.867218Z",
          "start_time": "2020-04-26T08:37:38.855540Z"
        },
        "hidden": true,
        "id": "qS7R1i8q1z8a",
        "colab": {
          "base_uri": "https://localhost:8080/"
        },
        "outputId": "2f9456cd-e4b6-4041-d505-8355200f8c41"
      },
      "source": [
        "'''\n",
        "We can specify the parameters that we want to track for optimization. \n",
        "For this we set the requires_grad to True. \n",
        "This means that for all the following computations, for any function \n",
        "of the variable, the respective derivatives will be kept. \n",
        "'''\n",
        "a = torch.rand(1,3, requires_grad=True)\n",
        "b = torch.rand(3,1, requires_grad = True)\n",
        "print(a)\n",
        "print(b)"
      ],
      "execution_count": 9,
      "outputs": [
        {
          "output_type": "stream",
          "text": [
            "tensor([[0.9370, 0.3636, 0.9968]], requires_grad=True)\n",
            "tensor([[0.0030],\n",
            "        [0.2350],\n",
            "        [0.8858]], requires_grad=True)\n"
          ],
          "name": "stdout"
        }
      ]
    },
    {
      "cell_type": "code",
      "metadata": {
        "ExecuteTime": {
          "end_time": "2020-04-26T08:37:46.286177Z",
          "start_time": "2020-04-26T08:37:46.274178Z"
        },
        "hidden": true,
        "id": "YNrCVIUT8g5_",
        "colab": {
          "base_uri": "https://localhost:8080/"
        },
        "outputId": "8f821688-68a0-4e0e-e57f-e222a9b6c31c"
      },
      "source": [
        "'''\n",
        "Take this function for example. \n",
        "If you look at it, you'll see that it has an extra element, the grad_fn. \n",
        "This is in fact dy(a)/da.\n",
        "'''\n",
        "y = (a + 2).mean()\n",
        "# y = torch.mm(a,b)\n",
        "print( f'The gradient function is {y.grad_fn}.\\n' )\n",
        "y"
      ],
      "execution_count": null,
      "outputs": [
        {
          "output_type": "stream",
          "text": [
            "The gradient function is <MeanBackward0 object at 0x7fed101a3d50>.\n",
            "\n"
          ],
          "name": "stdout"
        },
        {
          "output_type": "execute_result",
          "data": {
            "text/plain": [
              "tensor(2.7462, grad_fn=<MeanBackward0>)"
            ]
          },
          "metadata": {
            "tags": []
          },
          "execution_count": 104
        }
      ]
    },
    {
      "cell_type": "code",
      "metadata": {
        "ExecuteTime": {
          "end_time": "2020-04-26T08:37:49.348842Z",
          "start_time": "2020-04-26T08:37:49.336311Z"
        },
        "hidden": true,
        "id": "YARE75D88kik",
        "colab": {
          "base_uri": "https://localhost:8080/"
        },
        "outputId": "3e631681-7adc-40ad-b68a-812834e1af61"
      },
      "source": [
        "'''\n",
        "Now if we want to calculate the derivatives with respect to the variable, \n",
        "we can simply call the backward() method on the output/final variable. \n",
        "'''\n",
        "y.backward()\n",
        "print(a.grad)\n",
        "print(b.grad)"
      ],
      "execution_count": null,
      "outputs": [
        {
          "output_type": "stream",
          "text": [
            "tensor([[0.3333, 0.3333, 0.3333]])\n",
            "None\n"
          ],
          "name": "stdout"
        }
      ]
    },
    {
      "cell_type": "code",
      "metadata": {
        "ExecuteTime": {
          "end_time": "2020-04-26T08:33:34.126451Z",
          "start_time": "2020-04-26T08:33:34.104977Z"
        },
        "hidden": true,
        "id": "nUAYm-kv8trN",
        "colab": {
          "base_uri": "https://localhost:8080/"
        },
        "outputId": "fcaeb757-8fe0-41f7-ab96-9c3d1e81bb7c"
      },
      "source": [
        "'''\n",
        "You need to be careful when you calculate the gradients with this. \n",
        "It accumulates the gradients, \n",
        "'''\n",
        "for i in range(3):\n",
        "    y.backward()\n",
        "    print(a.grad, '\\n')"
      ],
      "execution_count": null,
      "outputs": [
        {
          "output_type": "stream",
          "text": [
            "tensor([[0.6667, 0.6667, 0.6667]]) \n",
            "\n",
            "tensor([[1., 1., 1.]]) \n",
            "\n",
            "tensor([[1.3333, 1.3333, 1.3333]]) \n",
            "\n"
          ],
          "name": "stdout"
        }
      ]
    },
    {
      "cell_type": "code",
      "metadata": {
        "ExecuteTime": {
          "end_time": "2020-04-26T08:36:47.990810Z",
          "start_time": "2020-04-26T08:36:47.976741Z"
        },
        "hidden": true,
        "id": "jkenmZZ68hrx",
        "colab": {
          "base_uri": "https://localhost:8080/"
        },
        "outputId": "4f19c947-96c6-4b28-baab-393238f1719b"
      },
      "source": [
        "'''\n",
        "So we would need to reset the grad of the variable, i.e.\n",
        "'''\n",
        "a.grad.zero_()\n",
        "\n",
        "print(a.grad, '\\n')\n",
        "\n",
        "y.backward()\n",
        "print(a.grad)\n",
        "\n"
      ],
      "execution_count": null,
      "outputs": [
        {
          "output_type": "stream",
          "text": [
            "tensor([[0., 0., 0.]]) \n",
            "\n",
            "tensor([[0.3333, 0.3333, 0.3333]])\n"
          ],
          "name": "stdout"
        }
      ]
    },
    {
      "cell_type": "code",
      "metadata": {
        "id": "p2sFRY3T5N_T",
        "outputId": "21bedb9a-d1d0-4d96-f110-00826e6b137c",
        "colab": {
          "base_uri": "https://localhost:8080/"
        }
      },
      "source": [
        "### Multidimensional output\n",
        "z = 2 * a\n",
        "print(z)\n",
        "\n",
        "z.backward(torch.tensor([[1,1,1]])  )\n",
        "\n",
        "a.grad"
      ],
      "execution_count": 38,
      "outputs": [
        {
          "output_type": "stream",
          "text": [
            "tensor([[1.8739, 0.7271, 1.9935]], grad_fn=<MulBackward0>)\n"
          ],
          "name": "stdout"
        },
        {
          "output_type": "execute_result",
          "data": {
            "text/plain": [
              "tensor([[6.6667, 4.6667, 4.6667]])"
            ]
          },
          "metadata": {
            "tags": []
          },
          "execution_count": 38
        }
      ]
    },
    {
      "cell_type": "markdown",
      "metadata": {
        "hidden": true,
        "id": "JmggY9G-8hry"
      },
      "source": [
        "#### Simple Optimization Example"
      ]
    },
    {
      "cell_type": "code",
      "metadata": {
        "ExecuteTime": {
          "end_time": "2020-04-26T08:52:10.713472Z",
          "start_time": "2020-04-26T08:52:10.580439Z"
        },
        "hidden": true,
        "id": "A5knHx1U8hry",
        "colab": {
          "base_uri": "https://localhost:8080/",
          "height": 291
        },
        "outputId": "ab5f496b-fed9-479b-e86d-f01eee1fdedd"
      },
      "source": [
        "x_list = np.arange(-1,1.1,.1)\n",
        "y_list = x_list**2\n",
        "\n",
        "plt.plot(x_list, y_list)"
      ],
      "execution_count": null,
      "outputs": [
        {
          "output_type": "execute_result",
          "data": {
            "text/plain": [
              "[<matplotlib.lines.Line2D at 0x7fecbd2fa750>]"
            ]
          },
          "metadata": {
            "tags": []
          },
          "execution_count": 112
        },
        {
          "output_type": "display_data",
          "data": {
            "image/png": "[encoded data removed]",
            "text/plain": [
              "<Figure size 576x288 with 1 Axes>"
            ]
          },
          "metadata": {
            "tags": [],
            "needs_background": "light"
          }
        }
      ]
    },
    {
      "cell_type": "code",
      "metadata": {
        "id": "3uyHfXoEiOwW",
        "colab": {
          "base_uri": "https://localhost:8080/"
        },
        "outputId": "ea8da9ad-1c81-4929-e36c-fe0ce05bea13"
      },
      "source": [
        "import torch\n",
        "import numpy as np\n",
        "# y.backward()\n",
        "# x.grad + x\n",
        "\n",
        "\n",
        "n_itr = 10\n",
        "lr = .1\n",
        "\n",
        "x = torch.tensor(.5, requires_grad=True)\n",
        "x_hist = [x.detach().numpy().copy() ]\n",
        "\n",
        "for i in range(n_itr):\n",
        "  y = x**2\n",
        "  print(f'for iteration {i}, we get:')\n",
        "  y.backward()\n",
        "  print(f' The derivative is: {x.grad}')\n",
        "  print(f' and x is {x}. \\n')\n",
        "  with torch.no_grad():\n",
        "    x -= lr * x.grad\n",
        "  # x.requires_grad_ = True\n",
        "  # print(x.grad)\n",
        "  x.grad.zero_()\n",
        "  x_hist +=[x.detach().numpy().copy() ]\n",
        "    \n",
        "\n",
        "x_hist = np.array(x_hist)"
      ],
      "execution_count": null,
      "outputs": [
        {
          "output_type": "stream",
          "text": [
            "for iteration 0, we get:\n",
            " The derivative is: 1.0\n",
            " and x is 0.5. \n",
            "\n",
            "for iteration 1, we get:\n",
            " The derivative is: 0.800000011920929\n",
            " and x is 0.4000000059604645. \n",
            "\n",
            "for iteration 2, we get:\n",
            " The derivative is: 0.6399999856948853\n",
            " and x is 0.3199999928474426. \n",
            "\n",
            "for iteration 3, we get:\n",
            " The derivative is: 0.5119999647140503\n",
            " and x is 0.25599998235702515. \n",
            "\n",
            "for iteration 4, we get:\n",
            " The derivative is: 0.4095999598503113\n",
            " and x is 0.20479997992515564. \n",
            "\n",
            "for iteration 5, we get:\n",
            " The derivative is: 0.32767996191978455\n",
            " and x is 0.16383998095989227. \n",
            "\n",
            "for iteration 6, we get:\n",
            " The derivative is: 0.26214396953582764\n",
            " and x is 0.13107198476791382. \n",
            "\n",
            "for iteration 7, we get:\n",
            " The derivative is: 0.20971517264842987\n",
            " and x is 0.10485758632421494. \n",
            "\n",
            "for iteration 8, we get:\n",
            " The derivative is: 0.16777214407920837\n",
            " and x is 0.08388607203960419. \n",
            "\n",
            "for iteration 9, we get:\n",
            " The derivative is: 0.13421770930290222\n",
            " and x is 0.06710885465145111. \n",
            "\n"
          ],
          "name": "stdout"
        }
      ]
    },
    {
      "cell_type": "code",
      "metadata": {
        "ExecuteTime": {
          "end_time": "2020-04-26T09:17:00.995552Z",
          "start_time": "2020-04-26T09:17:00.984553Z"
        },
        "hidden": true,
        "id": "pfye3Eck8hr4"
      },
      "source": [
        "x = torch.tensor(.5, requires_grad=True)\n",
        "y = x**2\n",
        "\n",
        "x_opt = x.detach().numpy()\n",
        "x_hist = [x_opt.copy() ]\n",
        "n_itr = 10\n",
        "lr = .1\n",
        "\n",
        "\n",
        "for i in range(n_itr):\n",
        "\n",
        "    x = torch.tensor(x_opt , requires_grad=True)\n",
        "#     print(x)\n",
        "    y = x**2\n",
        "    \n",
        "    y.backward()\n",
        "#     print(x.grad)\n",
        "    # x_opt = x_opt - lr*dy/dx\n",
        "    x_opt -= lr * x.grad.numpy()\n",
        "    x_hist +=[x_opt.copy()]\n",
        "    \n",
        "\n",
        "x_hist = np.array(x_hist)"
      ],
      "execution_count": null,
      "outputs": []
    },
    {
      "cell_type": "code",
      "metadata": {
        "ExecuteTime": {
          "end_time": "2020-04-26T09:35:08.234473Z",
          "start_time": "2020-04-26T09:35:08.019416Z"
        },
        "hidden": true,
        "id": "JbaEEMVo8hr9",
        "colab": {
          "base_uri": "https://localhost:8080/"
        },
        "outputId": "db85ab4c-d537-48cc-a761-d322ff5c528c"
      },
      "source": [
        "x_hist\n",
        "y_hist = x_hist**2\n",
        "\n",
        "fig = plt.figure(figsize=(15,5))\n",
        "ax = fig.add_subplot(111 , xlabel = 'X1', ylabel='X2', title = 'Result of the Classification')\n",
        "ax.plot(x_list, y_list)\n",
        "ax.scatter(x_hist, y_hist, s=20, c = 'r' )\n",
        "\n",
        "for i in range(len(x_hist)):\n",
        "    ax.annotate(i+1, (x_hist[i], y_hist[i]), fontsize = 12)\n",
        "\n",
        "    \n",
        "print(f'The value of the x after {n_itr} iterations is {x}.\\n')    "
      ],
      "execution_count": null,
      "outputs": [
        {
          "output_type": "stream",
          "text": [
            "The value of the x after 10 iterations is 0.06710885465145111.\n",
            "\n"
          ],
          "name": "stdout"
        },
        {
          "output_type": "display_data",
          "data": {
            "image/png": "[encoded data removed]",
            "text/plain": [
              "<Figure size 1080x360 with 1 Axes>"
            ]
          },
          "metadata": {
            "tags": [],
            "needs_background": "light"
          }
        }
      ]
    },
    {
      "cell_type": "markdown",
      "metadata": {
        "hidden": true,
        "id": "9x-m2XnH8hr_"
      },
      "source": [
        "***Question***\n",
        "\n",
        "Implement a simple Logistic Regression with pytorch. \n"
      ]
    },
    {
      "cell_type": "markdown",
      "metadata": {
        "heading_collapsed": true,
        "id": "9sd39TDC8hsA"
      },
      "source": [
        "## Simple NN with Pytorch\n",
        "\n",
        "We'll come back to this with more details. This is just to give an idea of how this works in practice for a NN."
      ]
    },
    {
      "cell_type": "code",
      "metadata": {
        "hidden": true,
        "id": "JCCBibP-8hsD"
      },
      "source": [
        "# https://pytorch.org/tutorials/beginner/blitz/neural_networks_tutorial.html#sphx-glr-beginner-blitz-neural-networks-tutorial-py\n",
        "# https://pytorch.org/tutorials/beginner/basics/buildmodel_tutorial.html\n",
        "\n",
        "import torch.nn as nn\n",
        "import torch.nn.functional as F\n",
        "import torch.optim as optim"
      ],
      "execution_count": null,
      "outputs": []
    },
    {
      "cell_type": "code",
      "metadata": {
        "id": "SpXBilWDKhWb"
      },
      "source": [
        "n_epoch=20\n",
        "btch_size = 100\n",
        "lr = .1"
      ],
      "execution_count": null,
      "outputs": []
    },
    {
      "cell_type": "code",
      "metadata": {
        "hidden": true,
        "id": "9VeSvX3N8hsF"
      },
      "source": [
        "class Net(nn.Module):\n",
        "    \n",
        "    def __init__(self):\n",
        "        super().__init__()\n",
        "        self.fc1 = nn.Linear(2,10)\n",
        "        self.fc2 = nn.Linear(10,4)\n",
        "        self.out = nn.Linear(4, 1)\n",
        "        \n",
        "        \n",
        "    def forward(self,x):\n",
        "            #The first layer\n",
        "            x = self.fc1(x)\n",
        "            #Activation function is Relu. Feel free to experiment with this\n",
        "            x = F.relu(x)\n",
        "                       \n",
        "            #The second layer\n",
        "            x = self.fc2(x)\n",
        "            x = F.relu(x)\n",
        "            \n",
        "            #This produces output\n",
        "            x = self.out(x)\n",
        "            x = F.sigmoid(x)\n",
        "            \n",
        "            return x\n",
        "\n",
        "    \n",
        "net = Net()\n"
      ],
      "execution_count": null,
      "outputs": []
    },
    {
      "cell_type": "code",
      "metadata": {
        "colab": {
          "base_uri": "https://localhost:8080/"
        },
        "id": "4ofmyd8PK3SH",
        "outputId": "7f07562d-c26c-498d-cccd-288615097ae2"
      },
      "source": [
        "net(x_ts[:3])"
      ],
      "execution_count": null,
      "outputs": [
        {
          "output_type": "execute_result",
          "data": {
            "text/plain": [
              "tensor([[0.5773],\n",
              "        [0.5803],\n",
              "        [0.5743]], grad_fn=<SigmoidBackward>)"
            ]
          },
          "metadata": {
            "tags": []
          },
          "execution_count": 103
        }
      ]
    },
    {
      "cell_type": "code",
      "metadata": {
        "colab": {
          "base_uri": "https://localhost:8080/"
        },
        "id": "SDLbbwDqKqMF",
        "outputId": "fc229e35-ff63-4201-eed0-c22b8ab3ab6c"
      },
      "source": [
        "for name, param in net.named_parameters():\n",
        "    print(f\"Layer: {name} | Size: {param.size()} | Values : {param[:2]} \\n\")"
      ],
      "execution_count": null,
      "outputs": [
        {
          "output_type": "stream",
          "text": [
            "Layer: fc1.weight | Size: torch.Size([10, 2]) | Values : tensor([[-0.6403,  0.5197],\n",
            "        [ 0.5793, -0.5930]], grad_fn=<SliceBackward>) \n",
            "\n",
            "Layer: fc1.bias | Size: torch.Size([10]) | Values : tensor([-0.6086,  0.4667], grad_fn=<SliceBackward>) \n",
            "\n",
            "Layer: fc2.weight | Size: torch.Size([4, 10]) | Values : tensor([[ 0.2978, -0.0966, -0.0282, -0.0686, -0.0121, -0.2458,  0.3004,  0.1984,\n",
            "         -0.1808,  0.2792],\n",
            "        [-0.1501,  0.1891,  0.1741, -0.0261,  0.1432, -0.2559, -0.2559,  0.1901,\n",
            "         -0.1456, -0.0958]], grad_fn=<SliceBackward>) \n",
            "\n",
            "Layer: fc2.bias | Size: torch.Size([4]) | Values : tensor([-0.2399, -0.3083], grad_fn=<SliceBackward>) \n",
            "\n",
            "Layer: out.weight | Size: torch.Size([1, 4]) | Values : tensor([[ 0.1556,  0.3289, -0.0452, -0.2537]], grad_fn=<SliceBackward>) \n",
            "\n",
            "Layer: out.bias | Size: torch.Size([1]) | Values : tensor([0.3002], grad_fn=<SliceBackward>) \n",
            "\n"
          ],
          "name": "stdout"
        }
      ]
    },
    {
      "cell_type": "markdown",
      "metadata": {
        "id": "td6mYc54Lcia"
      },
      "source": [
        "### Loss"
      ]
    },
    {
      "cell_type": "code",
      "metadata": {
        "id": "Vl3VfLOqLjfg"
      },
      "source": [
        "## Define a loss function: WE are using binary cross-entropy \n",
        "criterion = nn.BCELoss()\n",
        "# criterion = nn.CrossEntropyLoss()\n"
      ],
      "execution_count": null,
      "outputs": []
    },
    {
      "cell_type": "markdown",
      "metadata": {
        "id": "0AncpbvZLfEZ"
      },
      "source": [
        "### Optimizer"
      ]
    },
    {
      "cell_type": "code",
      "metadata": {
        "id": "4CsIDhpMKpn0"
      },
      "source": [
        "# optim.SGD(model.parameters(), lr=lr)\n",
        "## Here I am using adam for optimizer\n",
        "optimizer = optim.Adam(net.parameters(), lr= lr , betas=(0.9, 0.999))\n"
      ],
      "execution_count": null,
      "outputs": []
    },
    {
      "cell_type": "code",
      "metadata": {
        "hidden": true,
        "id": "5FXcQ0hW8hsH"
      },
      "source": [
        "x_tr = torch.from_numpy(X_train).float()\n",
        "x_ts = torch.from_numpy(X_test).float()\n",
        "\n",
        "y_tr = torch.from_numpy(Y_train.reshape(-1,1)).float()\n",
        "y_ts = torch.from_numpy(Y_test.reshape(-1,1)).float()"
      ],
      "execution_count": null,
      "outputs": []
    },
    {
      "cell_type": "code",
      "metadata": {
        "colab": {
          "base_uri": "https://localhost:8080/"
        },
        "id": "VJKUeWpZES8z",
        "outputId": "7ea16a69-42f5-4593-966e-5111f16d5da9"
      },
      "source": [
        "y_tr.size()"
      ],
      "execution_count": null,
      "outputs": [
        {
          "output_type": "execute_result",
          "data": {
            "text/plain": [
              "torch.Size([7146])"
            ]
          },
          "metadata": {
            "tags": []
          },
          "execution_count": 112
        }
      ]
    },
    {
      "cell_type": "code",
      "metadata": {
        "hidden": true,
        "id": "KI1jhWpp8hsL",
        "colab": {
          "base_uri": "https://localhost:8080/",
          "height": 295
        },
        "outputId": "f1f735d9-59bf-469b-c73a-03f9b597b2ab"
      },
      "source": [
        "#We also need to keep track of the loss. \n",
        "losses = []\n",
        "\n",
        "for i in range(100):\n",
        "    \n",
        "    #Precit the output for Given input\n",
        "    y_pred = net.forward(x_tr)\n",
        "    \n",
        "    #Compute Cross entropy loss\n",
        "    loss = criterion( y_pred , y_tr)\n",
        "    losses += [loss]\n",
        "    \n",
        "   \n",
        "    #Clear the previous gradients\n",
        "    optimizer.zero_grad()\n",
        "\n",
        "    #Compute gradients\n",
        "    loss.backward()\n",
        "\n",
        "    #Update the weights\n",
        "    optimizer.step()\n",
        "\n",
        "    \n",
        "    \n",
        "plt.plot(losses)    "
      ],
      "execution_count": null,
      "outputs": [
        {
          "output_type": "execute_result",
          "data": {
            "text/plain": [
              "[<matplotlib.lines.Line2D at 0x7f523dd05850>]"
            ]
          },
          "metadata": {
            "tags": []
          },
          "execution_count": 119
        },
        {
          "output_type": "display_data",
          "data": {
            "image/png": "[encoded data removed]",
            "text/plain": [
              "<Figure size 576x288 with 1 Axes>"
            ]
          },
          "metadata": {
            "tags": [],
            "needs_background": "light"
          }
        }
      ]
    },
    {
      "cell_type": "code",
      "metadata": {
        "hidden": true,
        "id": "iyZQzMPO8hsO",
        "colab": {
          "base_uri": "https://localhost:8080/",
          "height": 352
        },
        "outputId": "62ccd438-a956-4283-b639-09c21cd4a73f"
      },
      "source": [
        "#predictions of the model for test set\n",
        "y_predict = (net.forward(x_ts)>.5).numpy().astype(int)\n",
        "\n",
        "x1_list, x2_list = grid(X[:,0], X[:,1], n_points=70)\n",
        "X_grid = np.vstack([x1_list.reshape(-1),x2_list.reshape(-1)]).T\n",
        "Y_grid = net.forward( torch.from_numpy(X_grid).float() )\n",
        "Y_grid = Y_grid.detach().numpy().reshape(x1_list.shape )\n",
        "\n",
        "fig = plt.figure(figsize=(15,5))\n",
        "ax = fig.add_subplot(121 , xlabel = 'X1', ylabel='X2', title = 'Result of the Classification')\n",
        "    \n",
        "ax.contourf(x1_list, x2_list, Y_grid, alpha=.4, cmap=plt.cm.coolwarm)\n",
        "ax.scatter(*X.T, c=Y)    \n",
        "# ax.text(3, 1.4, f'Accuracy: {np.round( model.score(X_test.T, Y_test) , 3)}' , fontsize=20)\n",
        "\n",
        "ax = fig.add_subplot(122 , xlabel = 'X1', ylabel='X2', title = 'Predicitions of the NN')\n",
        "plt.scatter(*X_test.T, c = y_predict.reshape(-1))\n",
        "\n",
        "\n",
        "plt.tight_layout()\n",
        "plt.show()"
      ],
      "execution_count": null,
      "outputs": [
        {
          "output_type": "display_data",
          "data": {
            "image/png": "[encoded data removed]",
            "text/plain": [
              "<Figure size 1080x360 with 2 Axes>"
            ]
          },
          "metadata": {
            "tags": [],
            "needs_background": "light"
          }
        }
      ]
    },
    {
      "cell_type": "markdown",
      "metadata": {
        "id": "8i5W417bNK-B"
      },
      "source": [
        "## Cleaned up"
      ]
    },
    {
      "cell_type": "code",
      "metadata": {
        "id": "K6XL0cscNN9G"
      },
      "source": [
        "import torch\n",
        "from torch import nn\n",
        "# from torch.utils.data import DataLoader\n"
      ],
      "execution_count": null,
      "outputs": []
    },
    {
      "cell_type": "markdown",
      "metadata": {
        "id": "Bg0eBkSPPEd8"
      },
      "source": [
        "### Data"
      ]
    },
    {
      "cell_type": "code",
      "metadata": {
        "id": "HsEHfRvUPV3h"
      },
      "source": [
        "x_tr = torch.from_numpy(X_train).float()\n",
        "x_ts = torch.from_numpy(X_test).float()\n",
        "\n",
        "y_tr = torch.from_numpy(Y_train.reshape(-1,1)).float()\n",
        "y_ts = torch.from_numpy(Y_test.reshape(-1,1)).float()"
      ],
      "execution_count": null,
      "outputs": []
    },
    {
      "cell_type": "code",
      "metadata": {
        "id": "YBBeD60TNW2T"
      },
      "source": [
        "## Training data\n",
        "training_dataset = torch.utils.data.TensorDataset(x_tr, y_tr)\n",
        "train_loader = torch.utils.data.DataLoader(training_dataset, batch_size=btch_size, shuffle=True)\n",
        "\n",
        "## Test data\n",
        "test_dataset = torch.utils.data.TensorDataset(x_ts, y_ts)\n",
        "test_loader = torch.utils.data.DataLoader(test_dataset, batch_size=btch_size, shuffle=True)"
      ],
      "execution_count": null,
      "outputs": []
    },
    {
      "cell_type": "markdown",
      "metadata": {
        "id": "JcUP1dAoRZ_T"
      },
      "source": [
        "### Hyper-parameters"
      ]
    },
    {
      "cell_type": "code",
      "metadata": {
        "id": "9TNt_YQfRdYr"
      },
      "source": [
        "n_epoch=30\n",
        "btch_size = 100\n",
        "lr = .2"
      ],
      "execution_count": null,
      "outputs": []
    },
    {
      "cell_type": "markdown",
      "metadata": {
        "id": "ZFhW0tIJPmiT"
      },
      "source": [
        "### Model definition"
      ]
    },
    {
      "cell_type": "code",
      "metadata": {
        "id": "O0Tmje5PPsyF"
      },
      "source": [
        "### This is slightly simplified compared to the earlier version.\n",
        "\n",
        "class NeuralNet(nn.Module):\n",
        "    \n",
        "    def __init__(self):\n",
        "        super().__init__()\n",
        "        self.ff = nn.Sequential( \n",
        "            nn.Linear(2,10), \n",
        "            nn.ReLU(), \n",
        "            nn.Linear(10,5), \n",
        "            nn.ReLU(), \n",
        "            nn.Linear(5,1), \n",
        "            nn.Sigmoid()         \n",
        "        )\n",
        "        \n",
        "    def forward(self,x):\n",
        "            return self.ff(x)\n",
        "\n",
        "    \n",
        "model = NeuralNet()"
      ],
      "execution_count": null,
      "outputs": []
    },
    {
      "cell_type": "code",
      "metadata": {
        "id": "1jp7ltuARhIP"
      },
      "source": [
        "### Loss\n",
        "criterion = nn.BCELoss()\n",
        "\n",
        "### Optimizer\n",
        "optimizer = torch.optim.SGD(model.parameters(), lr=lr)\n"
      ],
      "execution_count": null,
      "outputs": []
    },
    {
      "cell_type": "markdown",
      "metadata": {
        "id": "1d2gL6rNPqQl"
      },
      "source": [
        "### Training loops"
      ]
    },
    {
      "cell_type": "code",
      "metadata": {
        "id": "R2Vk5fA_R0E3"
      },
      "source": [
        "## https://pytorch.org/tutorials/beginner/basics/optimization_tutorial.html\n",
        "\n",
        "def train_loop(dataloader, model, criterion, optimizer):\n",
        "    size = len(dataloader.dataset)\n",
        "    for batch, (X, y) in enumerate(dataloader):\n",
        "        # print(batch)\n",
        "        # Compute prediction and loss\n",
        "        pred = model(X)\n",
        "        loss = criterion(pred, y)\n",
        "\n",
        "        # Backpropagation\n",
        "        optimizer.zero_grad()\n",
        "        loss.backward()\n",
        "        optimizer.step()\n",
        "\n",
        "        # if batch % 100 == 0:\n",
        "        #     loss, current = loss.item(), batch * len(X)\n",
        "        #     print(f\"loss: {loss:>7f}  [{current:>5d}/{size:>5d}]\")\n",
        "            \n",
        "    print(f\"loss: {loss:>4f}\")\n",
        "    return loss.item()\n",
        "\n",
        "\n",
        "def test_loop(dataloader, model, criterion):\n",
        "    size = len(dataloader.dataset)\n",
        "    test_loss, correct = 0, 0\n",
        "\n",
        "    with torch.no_grad():\n",
        "        for X, y in dataloader:\n",
        "            pred = model(X)\n",
        "            test_loss += criterion(pred, y).item()\n",
        "            correct += ( (pred>.4) == y).type(torch.float).sum().item()\n",
        "\n",
        "    test_loss /= size\n",
        "    correct /= size\n",
        "    \n",
        "    print(f\"Test Error: \\n Accuracy: {(100*correct):>0.1f}%, Avg loss: {test_loss:>8f} \\n\")\n",
        "\n",
        "    return [test_loss, correct]"
      ],
      "execution_count": null,
      "outputs": []
    },
    {
      "cell_type": "code",
      "metadata": {
        "colab": {
          "base_uri": "https://localhost:8080/"
        },
        "id": "xes7fZ5xUPdJ",
        "outputId": "42996bd3-62f7-431b-823f-627a3726efa2"
      },
      "source": [
        "train_loop(train_loader, model, criterion, optimizer)"
      ],
      "execution_count": null,
      "outputs": [
        {
          "output_type": "stream",
          "text": [
            "loss: 0.464904\n"
          ],
          "name": "stdout"
        },
        {
          "output_type": "execute_result",
          "data": {
            "text/plain": [
              "tensor(0.4649, grad_fn=<BinaryCrossEntropyBackward>)"
            ]
          },
          "metadata": {
            "tags": []
          },
          "execution_count": 204
        }
      ]
    },
    {
      "cell_type": "code",
      "metadata": {
        "id": "odmS9x8rVLay"
      },
      "source": [
        "print(net(x_ts[:5]))\n",
        "print(net(x_ts[:5])>.5)\n",
        "print(y_ts[:5])"
      ],
      "execution_count": null,
      "outputs": []
    },
    {
      "cell_type": "markdown",
      "metadata": {
        "id": "ExRuZUOKSUwK"
      },
      "source": [
        "#### Training"
      ]
    },
    {
      "cell_type": "code",
      "metadata": {
        "colab": {
          "base_uri": "https://localhost:8080/"
        },
        "id": "NJfHJ5SESUV9",
        "outputId": "5023dddc-dd21-45a4-ba98-ebcd543b585d"
      },
      "source": [
        "training_hist = []\n",
        "test_hist = []\n",
        "\n",
        "for t in range(n_epoch):\n",
        "    print(f\"Epoch {t+1}\\n-------------------------------\")\n",
        "    training_hist += [train_loop(train_loader, model, criterion, optimizer)]\n",
        "    test_hist += [test_loop(test_loader, model, criterion)]\n",
        "print(\"Done!\")"
      ],
      "execution_count": null,
      "outputs": [
        {
          "output_type": "stream",
          "text": [
            "Epoch 1\n",
            "-------------------------------\n",
            "loss: 0.665622\n",
            "Test Error: \n",
            " Accuracy: 69.0%, Avg loss: 0.006433 \n",
            "\n",
            "Epoch 2\n",
            "-------------------------------\n",
            "loss: 0.587382\n",
            "Test Error: \n",
            " Accuracy: 75.2%, Avg loss: 0.005788 \n",
            "\n",
            "Epoch 3\n",
            "-------------------------------\n",
            "loss: 0.458216\n",
            "Test Error: \n",
            " Accuracy: 77.5%, Avg loss: 0.005148 \n",
            "\n",
            "Epoch 4\n",
            "-------------------------------\n",
            "loss: 0.342561\n",
            "Test Error: \n",
            " Accuracy: 82.9%, Avg loss: 0.003551 \n",
            "\n",
            "Epoch 5\n",
            "-------------------------------\n",
            "loss: 0.259337\n",
            "Test Error: \n",
            " Accuracy: 80.8%, Avg loss: 0.003549 \n",
            "\n",
            "Epoch 6\n",
            "-------------------------------\n",
            "loss: 0.402788\n",
            "Test Error: \n",
            " Accuracy: 72.0%, Avg loss: 0.005419 \n",
            "\n",
            "Epoch 7\n",
            "-------------------------------\n",
            "loss: 0.173298\n",
            "Test Error: \n",
            " Accuracy: 88.8%, Avg loss: 0.002038 \n",
            "\n",
            "Epoch 8\n",
            "-------------------------------\n",
            "loss: 0.248813\n",
            "Test Error: \n",
            " Accuracy: 95.1%, Avg loss: 0.002033 \n",
            "\n",
            "Epoch 9\n",
            "-------------------------------\n",
            "loss: 0.148233\n",
            "Test Error: \n",
            " Accuracy: 86.4%, Avg loss: 0.002161 \n",
            "\n",
            "Epoch 10\n",
            "-------------------------------\n",
            "loss: 0.108495\n",
            "Test Error: \n",
            " Accuracy: 96.0%, Avg loss: 0.001535 \n",
            "\n",
            "Epoch 11\n",
            "-------------------------------\n",
            "loss: 0.360438\n",
            "Test Error: \n",
            " Accuracy: 92.9%, Avg loss: 0.002595 \n",
            "\n",
            "Epoch 12\n",
            "-------------------------------\n",
            "loss: 0.351691\n",
            "Test Error: \n",
            " Accuracy: 89.2%, Avg loss: 0.001780 \n",
            "\n",
            "Epoch 13\n",
            "-------------------------------\n",
            "loss: 0.086882\n",
            "Test Error: \n",
            " Accuracy: 96.3%, Avg loss: 0.001311 \n",
            "\n",
            "Epoch 14\n",
            "-------------------------------\n",
            "loss: 0.117812\n",
            "Test Error: \n",
            " Accuracy: 95.8%, Avg loss: 0.001269 \n",
            "\n",
            "Epoch 15\n",
            "-------------------------------\n",
            "loss: 0.088837\n",
            "Test Error: \n",
            " Accuracy: 90.1%, Avg loss: 0.001610 \n",
            "\n",
            "Epoch 16\n",
            "-------------------------------\n",
            "loss: 0.160154\n",
            "Test Error: \n",
            " Accuracy: 96.0%, Avg loss: 0.001544 \n",
            "\n",
            "Epoch 17\n",
            "-------------------------------\n",
            "loss: 0.160018\n",
            "Test Error: \n",
            " Accuracy: 88.0%, Avg loss: 0.001838 \n",
            "\n",
            "Epoch 18\n",
            "-------------------------------\n",
            "loss: 0.161287\n",
            "Test Error: \n",
            " Accuracy: 89.1%, Avg loss: 0.001761 \n",
            "\n",
            "Epoch 19\n",
            "-------------------------------\n",
            "loss: 0.098383\n",
            "Test Error: \n",
            " Accuracy: 97.6%, Avg loss: 0.001339 \n",
            "\n",
            "Epoch 20\n",
            "-------------------------------\n",
            "loss: 0.107731\n",
            "Test Error: \n",
            " Accuracy: 89.0%, Avg loss: 0.001797 \n",
            "\n",
            "Epoch 21\n",
            "-------------------------------\n",
            "loss: 0.698640\n",
            "Test Error: \n",
            " Accuracy: 78.8%, Avg loss: 0.005110 \n",
            "\n",
            "Epoch 22\n",
            "-------------------------------\n",
            "loss: 0.078520\n",
            "Test Error: \n",
            " Accuracy: 95.2%, Avg loss: 0.001290 \n",
            "\n",
            "Epoch 23\n",
            "-------------------------------\n",
            "loss: 0.314072\n",
            "Test Error: \n",
            " Accuracy: 97.9%, Avg loss: 0.001183 \n",
            "\n",
            "Epoch 24\n",
            "-------------------------------\n",
            "loss: 0.300119\n",
            "Test Error: \n",
            " Accuracy: 80.6%, Avg loss: 0.005539 \n",
            "\n",
            "Epoch 25\n",
            "-------------------------------\n",
            "loss: 0.144485\n",
            "Test Error: \n",
            " Accuracy: 88.3%, Avg loss: 0.001891 \n",
            "\n",
            "Epoch 26\n",
            "-------------------------------\n",
            "loss: 0.081120\n",
            "Test Error: \n",
            " Accuracy: 97.8%, Avg loss: 0.001005 \n",
            "\n",
            "Epoch 27\n",
            "-------------------------------\n",
            "loss: 0.751913\n",
            "Test Error: \n",
            " Accuracy: 82.5%, Avg loss: 0.004638 \n",
            "\n",
            "Epoch 28\n",
            "-------------------------------\n",
            "loss: 0.075057\n",
            "Test Error: \n",
            " Accuracy: 94.5%, Avg loss: 0.001245 \n",
            "\n",
            "Epoch 29\n",
            "-------------------------------\n",
            "loss: 0.114252\n",
            "Test Error: \n",
            " Accuracy: 88.9%, Avg loss: 0.002874 \n",
            "\n",
            "Epoch 30\n",
            "-------------------------------\n",
            "loss: 0.116984\n",
            "Test Error: \n",
            " Accuracy: 96.5%, Avg loss: 0.001359 \n",
            "\n",
            "Done!\n"
          ],
          "name": "stdout"
        }
      ]
    },
    {
      "cell_type": "code",
      "metadata": {
        "colab": {
          "base_uri": "https://localhost:8080/",
          "height": 352
        },
        "id": "P9JWaf0dS0VN",
        "outputId": "d2a9f217-ac1c-4636-8d8a-81450d74a468"
      },
      "source": [
        "test_hist = np.array(test_hist)\n",
        "# Plot training & validation accuracy values\n",
        "fig = plt.figure(figsize=(14,5))\n",
        "ax = fig.add_subplot(1,2,1, title = 'Model accuracy', ylabel= 'Accuracy')\n",
        "# plt.plot(history.history['acc'])\n",
        "plt.plot(test_hist[:, 1])\n",
        "# plt.legend(['Train', 'Test'], loc='upper left')\n",
        "\n",
        "# Plot training & validation loss values\n",
        "ax = fig.add_subplot(1,2,2, title = 'Model loss', ylabel= 'Loss')\n",
        "# plt.plot(training_hist)\n",
        "plt.plot(test_hist[:, 0])\n",
        "plt.legend(['Train', 'Test'], loc='upper left')\n",
        "\n",
        "plt.tight_layout()\n",
        "plt.show()"
      ],
      "execution_count": null,
      "outputs": [
        {
          "output_type": "display_data",
          "data": {
            "image/png": "[encoded data removed]",
            "text/plain": [
              "<Figure size 1008x360 with 2 Axes>"
            ]
          },
          "metadata": {
            "tags": [],
            "needs_background": "light"
          }
        }
      ]
    },
    {
      "cell_type": "code",
      "metadata": {
        "colab": {
          "base_uri": "https://localhost:8080/"
        },
        "id": "Z3dSjwq1gr6F",
        "outputId": "beef7c98-74d8-4dee-8b7c-d1004b210d04"
      },
      "source": [
        "# test_hist[:,0]\n",
        "training_hist"
      ],
      "execution_count": null,
      "outputs": [
        {
          "output_type": "execute_result",
          "data": {
            "text/plain": [
              "[0.6656219363212585,\n",
              " 0.5873822569847107,\n",
              " 0.45821622014045715,\n",
              " 0.34256085753440857,\n",
              " 0.2593371868133545,\n",
              " 0.4027877748012543,\n",
              " 0.17329804599285126,\n",
              " 0.24881255626678467,\n",
              " 0.148233100771904,\n",
              " 0.10849485546350479,\n",
              " 0.36043792963027954,\n",
              " 0.35169121623039246,\n",
              " 0.0868823304772377,\n",
              " 0.11781207472085953,\n",
              " 0.08883737772703171,\n",
              " 0.1601538360118866,\n",
              " 0.16001847386360168,\n",
              " 0.16128693521022797,\n",
              " 0.09838341921567917,\n",
              " 0.10773145407438278,\n",
              " 0.6986396908760071,\n",
              " 0.07851952314376831,\n",
              " 0.3140723705291748,\n",
              " 0.300119012594223,\n",
              " 0.1444852352142334,\n",
              " 0.08112049102783203,\n",
              " 0.7519134283065796,\n",
              " 0.0750567689538002,\n",
              " 0.114252470433712,\n",
              " 0.11698377877473831]"
            ]
          },
          "metadata": {
            "tags": []
          },
          "execution_count": 232
        }
      ]
    },
    {
      "cell_type": "markdown",
      "metadata": {
        "id": "BNUsUpNUPk29"
      },
      "source": [
        "### Saving the model"
      ]
    },
    {
      "cell_type": "code",
      "metadata": {
        "colab": {
          "base_uri": "https://localhost:8080/"
        },
        "id": "rwUon-BYhz6S",
        "outputId": "e9de4d28-4c24-4527-fe3f-d1c6d3434d39"
      },
      "source": [
        "model.state_dict()"
      ],
      "execution_count": null,
      "outputs": [
        {
          "output_type": "execute_result",
          "data": {
            "text/plain": [
              "OrderedDict([('ff.0.weight', tensor([[-0.4001, -0.2440],\n",
              "                      [-1.5957,  2.8248],\n",
              "                      [-0.1274, -3.7339],\n",
              "                      [-0.2673, -2.6122],\n",
              "                      [-0.5428, -0.4914],\n",
              "                      [-0.1250, -0.8184],\n",
              "                      [-0.2351, -0.2457],\n",
              "                      [-0.5847,  4.5600],\n",
              "                      [ 0.3747, -0.6526],\n",
              "                      [-0.3081, -0.0214]])),\n",
              "             ('ff.0.bias',\n",
              "              tensor([-0.4267, -0.0697,  3.9587,  3.2864,  0.1098,  1.1430,  0.2335, -2.5888,\n",
              "                      -0.4114, -0.0459])),\n",
              "             ('ff.2.weight',\n",
              "              tensor([[ 0.1100, -0.2462, -0.1850,  0.1019, -0.0646,  0.1667,  0.1621, -0.0547,\n",
              "                        0.2602, -0.2313],\n",
              "                      [ 0.0358,  0.0240,  0.3414,  0.1370,  0.0609, -0.2692, -0.3113, -0.3691,\n",
              "                        0.1738, -0.2239],\n",
              "                      [-0.1722,  0.2702, -0.2292,  0.0779,  0.3135,  0.2095,  0.2281, -0.2602,\n",
              "                        0.1974, -0.3149],\n",
              "                      [ 0.0230, -1.5270,  0.6698,  0.6909, -0.3045,  0.3145, -0.2608, -0.7974,\n",
              "                        0.2851, -0.2162],\n",
              "                      [ 0.2052, -1.8510,  1.0981,  0.8190, -0.0379,  0.2254,  0.1687, -1.3981,\n",
              "                        0.3483,  0.2240]])),\n",
              "             ('ff.2.bias',\n",
              "              tensor([-0.2584, -0.1146, -0.2427,  0.8046,  1.2552])),\n",
              "             ('ff.4.weight',\n",
              "              tensor([[-3.7025e-01, -4.9902e-01,  1.0619e-03,  1.7703e+00,  2.4660e+00]])),\n",
              "             ('ff.4.bias', tensor([-4.9614]))])"
            ]
          },
          "metadata": {
            "tags": []
          },
          "execution_count": 233
        }
      ]
    },
    {
      "cell_type": "code",
      "metadata": {
        "id": "lgVgBwvaDbOr"
      },
      "source": [
        "## Save the model\n",
        "# https://pytorch.org/docs/stable/notes/serialization.html\n",
        "\n",
        "PATH = 'test_model'\n",
        "torch.save(model.state_dict(), PATH)"
      ],
      "execution_count": null,
      "outputs": []
    },
    {
      "cell_type": "code",
      "metadata": {
        "colab": {
          "base_uri": "https://localhost:8080/"
        },
        "id": "n31qmKtXh32I",
        "outputId": "1702b383-b53c-49ac-af4c-12fce276393c"
      },
      "source": [
        "## Load a saved model\n",
        "nn_state_dict = torch.load('test_model')\n",
        "new_model = NeuralNet()\n",
        "new_model.load_state_dict(nn_state_dict)\n",
        "new_model(x_ts[:3])"
      ],
      "execution_count": null,
      "outputs": [
        {
          "output_type": "execute_result",
          "data": {
            "text/plain": [
              "tensor([[0.0070],\n",
              "        [0.0070],\n",
              "        [0.0070]], grad_fn=<SigmoidBackward>)"
            ]
          },
          "metadata": {
            "tags": []
          },
          "execution_count": 240
        }
      ]
    },
    {
      "cell_type": "markdown",
      "metadata": {
        "heading_collapsed": true,
        "id": "Pw3EoyFJ8hsR"
      },
      "source": [
        "## Visualization"
      ]
    },
    {
      "cell_type": "code",
      "metadata": {
        "hidden": true,
        "id": "SdAiG5nC8hsS",
        "colab": {
          "base_uri": "https://localhost:8080/",
          "height": 979
        },
        "outputId": "06e830d4-69a4-4c02-e1c9-d39ef595dcb3"
      },
      "source": [
        "'''\n",
        "Later, we will use tensorboard for more visualization. \n",
        "'''\n",
        "# https://github.com/szagoruyko/pytorchviz\n",
        "!pip install torchviz\n",
        "from torchviz import make_dot\n",
        "\n",
        "\n",
        "y_predict = (net.forward(x_ts) )\n",
        "make_dot( y_predict.mean(),  params=dict(net.named_parameters() )  , \n",
        "          # show_attrs=True, show_saved=True\n",
        "         )"
      ],
      "execution_count": null,
      "outputs": [
        {
          "output_type": "stream",
          "text": [
            "Requirement already satisfied: torchviz in /usr/local/lib/python3.7/dist-packages (0.0.2)\n",
            "Requirement already satisfied: graphviz in /usr/local/lib/python3.7/dist-packages (from torchviz) (0.10.1)\n",
            "Requirement already satisfied: torch in /usr/local/lib/python3.7/dist-packages (from torchviz) (1.8.1+cu101)\n",
            "Requirement already satisfied: typing-extensions in /usr/local/lib/python3.7/dist-packages (from torch->torchviz) (3.7.4.3)\n",
            "Requirement already satisfied: numpy in /usr/local/lib/python3.7/dist-packages (from torch->torchviz) (1.19.5)\n"
          ],
          "name": "stdout"
        },
        {
          "output_type": "execute_result",
          "data": {
            "text/plain": [
              "<graphviz.dot.Digraph at 0x7feca4294d10>"
            ],
            "image/svg+xml": "<?xml version=\"1.0\" encoding=\"UTF-8\" standalone=\"no\"?>\n<!DOCTYPE svg PUBLIC \"-//W3C//DTD SVG 1.1//EN\"\n \"http://www.w3.org/Graphics/SVG/1.1/DTD/svg11.dtd\">\n<!-- Generated by graphviz version 2.40.1 (20161225.0304)\n -->\n<!-- Title: %3 Pages: 1 -->\n<svg width=\"408pt\" height=\"655pt\"\n viewBox=\"0.00 0.00 408.00 655.00\" xmlns=\"http://www.w3.org/2000/svg\" xmlns:xlink=\"http://www.w3.org/1999/xlink\">\n<g id=\"graph0\" class=\"graph\" transform=\"scale(1 1) rotate(0) translate(4 651)\">\n<title>%3</title>\n<polygon fill=\"#ffffff\" stroke=\"transparent\" points=\"-4,4 -4,-651 404,-651 404,4 -4,4\"/>\n<!-- 140654746537728 -->\n<g id=\"node1\" class=\"node\">\n<title>140654746537728</title>\n<polygon fill=\"#caff70\" stroke=\"#000000\" points=\"229.5,-31 175.5,-31 175.5,0 229.5,0 229.5,-31\"/>\n<text text-anchor=\"middle\" x=\"202.5\" y=\"-7\" font-family=\"monospace\" font-size=\"10.00\" fill=\"#000000\"> ()</text>\n</g>\n<!-- 140654743986384 -->\n<g id=\"node2\" class=\"node\">\n<title>140654743986384</title>\n<polygon fill=\"#d3d3d3\" stroke=\"#000000\" points=\"250,-86 155,-86 155,-67 250,-67 250,-86\"/>\n<text text-anchor=\"middle\" x=\"202.5\" y=\"-74\" font-family=\"monospace\" font-size=\"10.00\" fill=\"#000000\">MeanBackward0</text>\n</g>\n<!-- 140654743986384&#45;&gt;140654746537728 -->\n<g id=\"edge22\" class=\"edge\">\n<title>140654743986384&#45;&gt;140654746537728</title>\n<path fill=\"none\" stroke=\"#000000\" d=\"M202.5,-66.9688C202.5,-60.1289 202.5,-50.5621 202.5,-41.5298\"/>\n<polygon fill=\"#000000\" stroke=\"#000000\" points=\"206.0001,-41.3678 202.5,-31.3678 199.0001,-41.3678 206.0001,-41.3678\"/>\n</g>\n<!-- 140654744942736 -->\n<g id=\"node3\" class=\"node\">\n<title>140654744942736</title>\n<polygon fill=\"#d3d3d3\" stroke=\"#000000\" points=\"256,-141 149,-141 149,-122 256,-122 256,-141\"/>\n<text text-anchor=\"middle\" x=\"202.5\" y=\"-129\" font-family=\"monospace\" font-size=\"10.00\" fill=\"#000000\">SigmoidBackward</text>\n</g>\n<!-- 140654744942736&#45;&gt;140654743986384 -->\n<g id=\"edge1\" class=\"edge\">\n<title>140654744942736&#45;&gt;140654743986384</title>\n<path fill=\"none\" stroke=\"#000000\" d=\"M202.5,-121.9197C202.5,-114.9083 202.5,-105.1442 202.5,-96.4652\"/>\n<polygon fill=\"#000000\" stroke=\"#000000\" points=\"206.0001,-96.3408 202.5,-86.3408 199.0001,-96.3409 206.0001,-96.3408\"/>\n</g>\n<!-- 140654743988880 -->\n<g id=\"node4\" class=\"node\">\n<title>140654743988880</title>\n<polygon fill=\"#d3d3d3\" stroke=\"#000000\" points=\"250,-196 155,-196 155,-177 250,-177 250,-196\"/>\n<text text-anchor=\"middle\" x=\"202.5\" y=\"-184\" font-family=\"monospace\" font-size=\"10.00\" fill=\"#000000\">AddmmBackward</text>\n</g>\n<!-- 140654743988880&#45;&gt;140654744942736 -->\n<g id=\"edge2\" class=\"edge\">\n<title>140654743988880&#45;&gt;140654744942736</title>\n<path fill=\"none\" stroke=\"#000000\" d=\"M202.5,-176.9197C202.5,-169.9083 202.5,-160.1442 202.5,-151.4652\"/>\n<polygon fill=\"#000000\" stroke=\"#000000\" points=\"206.0001,-151.3408 202.5,-141.3408 199.0001,-151.3409 206.0001,-151.3408\"/>\n</g>\n<!-- 140654743987344 -->\n<g id=\"node5\" class=\"node\">\n<title>140654743987344</title>\n<polygon fill=\"#d3d3d3\" stroke=\"#000000\" points=\"137,-251 36,-251 36,-232 137,-232 137,-251\"/>\n<text text-anchor=\"middle\" x=\"86.5\" y=\"-239\" font-family=\"monospace\" font-size=\"10.00\" fill=\"#000000\">AccumulateGrad</text>\n</g>\n<!-- 140654743987344&#45;&gt;140654743988880 -->\n<g id=\"edge3\" class=\"edge\">\n<title>140654743987344&#45;&gt;140654743988880</title>\n<path fill=\"none\" stroke=\"#000000\" d=\"M106.7057,-231.9197C124.9737,-223.2581 152.1018,-210.3957 172.8304,-200.5675\"/>\n<polygon fill=\"#000000\" stroke=\"#000000\" points=\"174.6004,-203.6018 182.1367,-196.155 171.6014,-197.2768 174.6004,-203.6018\"/>\n</g>\n<!-- 140654763060912 -->\n<g id=\"node6\" class=\"node\">\n<title>140654763060912</title>\n<polygon fill=\"#add8e6\" stroke=\"#000000\" points=\"119,-317 54,-317 54,-287 119,-287 119,-317\"/>\n<text text-anchor=\"middle\" x=\"86.5\" y=\"-305\" font-family=\"monospace\" font-size=\"10.00\" fill=\"#000000\">out.bias</text>\n<text text-anchor=\"middle\" x=\"86.5\" y=\"-294\" font-family=\"monospace\" font-size=\"10.00\" fill=\"#000000\"> (1)</text>\n</g>\n<!-- 140654763060912&#45;&gt;140654743987344 -->\n<g id=\"edge4\" class=\"edge\">\n<title>140654763060912&#45;&gt;140654743987344</title>\n<path fill=\"none\" stroke=\"#000000\" d=\"M86.5,-286.7333C86.5,-279.0322 86.5,-269.5977 86.5,-261.3414\"/>\n<polygon fill=\"#000000\" stroke=\"#000000\" points=\"90.0001,-261.0864 86.5,-251.0864 83.0001,-261.0864 90.0001,-261.0864\"/>\n</g>\n<!-- 140654745157072 -->\n<g id=\"node7\" class=\"node\">\n<title>140654745157072</title>\n<polygon fill=\"#d3d3d3\" stroke=\"#000000\" points=\"250,-251 155,-251 155,-232 250,-232 250,-251\"/>\n<text text-anchor=\"middle\" x=\"202.5\" y=\"-239\" font-family=\"monospace\" font-size=\"10.00\" fill=\"#000000\">ReluBackward0</text>\n</g>\n<!-- 140654745157072&#45;&gt;140654743988880 -->\n<g id=\"edge5\" class=\"edge\">\n<title>140654745157072&#45;&gt;140654743988880</title>\n<path fill=\"none\" stroke=\"#000000\" d=\"M202.5,-231.9197C202.5,-224.9083 202.5,-215.1442 202.5,-206.4652\"/>\n<polygon fill=\"#000000\" stroke=\"#000000\" points=\"206.0001,-206.3408 202.5,-196.3408 199.0001,-206.3409 206.0001,-206.3408\"/>\n</g>\n<!-- 140654745153936 -->\n<g id=\"node8\" class=\"node\">\n<title>140654745153936</title>\n<polygon fill=\"#d3d3d3\" stroke=\"#000000\" points=\"233,-311.5 138,-311.5 138,-292.5 233,-292.5 233,-311.5\"/>\n<text text-anchor=\"middle\" x=\"185.5\" y=\"-299.5\" font-family=\"monospace\" font-size=\"10.00\" fill=\"#000000\">AddmmBackward</text>\n</g>\n<!-- 140654745153936&#45;&gt;140654745157072 -->\n<g id=\"edge6\" class=\"edge\">\n<title>140654745153936&#45;&gt;140654745157072</title>\n<path fill=\"none\" stroke=\"#000000\" d=\"M188.2313,-292.2796C190.5719,-283.9499 194.0174,-271.688 196.9363,-261.3004\"/>\n<polygon fill=\"#000000\" stroke=\"#000000\" points=\"200.3832,-261.9712 199.719,-251.3972 193.6442,-260.0776 200.3832,-261.9712\"/>\n</g>\n<!-- 140654745154896 -->\n<g id=\"node9\" class=\"node\">\n<title>140654745154896</title>\n<polygon fill=\"#d3d3d3\" stroke=\"#000000\" points=\"101,-377.5 0,-377.5 0,-358.5 101,-358.5 101,-377.5\"/>\n<text text-anchor=\"middle\" x=\"50.5\" y=\"-365.5\" font-family=\"monospace\" font-size=\"10.00\" fill=\"#000000\">AccumulateGrad</text>\n</g>\n<!-- 140654745154896&#45;&gt;140654745153936 -->\n<g id=\"edge7\" class=\"edge\">\n<title>140654745154896&#45;&gt;140654745153936</title>\n<path fill=\"none\" stroke=\"#000000\" d=\"M70.1302,-358.403C92.9258,-347.2585 130.7283,-328.7773 156.8149,-316.0238\"/>\n<polygon fill=\"#000000\" stroke=\"#000000\" points=\"158.3995,-319.1451 165.8461,-311.6085 155.325,-312.8564 158.3995,-319.1451\"/>\n</g>\n<!-- 140654763060672 -->\n<g id=\"node10\" class=\"node\">\n<title>140654763060672</title>\n<polygon fill=\"#add8e6\" stroke=\"#000000\" points=\"83,-449 18,-449 18,-419 83,-419 83,-449\"/>\n<text text-anchor=\"middle\" x=\"50.5\" y=\"-437\" font-family=\"monospace\" font-size=\"10.00\" fill=\"#000000\">fc2.bias</text>\n<text text-anchor=\"middle\" x=\"50.5\" y=\"-426\" font-family=\"monospace\" font-size=\"10.00\" fill=\"#000000\"> (4)</text>\n</g>\n<!-- 140654763060672&#45;&gt;140654745154896 -->\n<g id=\"edge8\" class=\"edge\">\n<title>140654763060672&#45;&gt;140654745154896</title>\n<path fill=\"none\" stroke=\"#000000\" d=\"M50.5,-418.6924C50.5,-409.5067 50.5,-397.7245 50.5,-387.8312\"/>\n<polygon fill=\"#000000\" stroke=\"#000000\" points=\"54.0001,-387.703 50.5,-377.7031 47.0001,-387.7031 54.0001,-387.703\"/>\n</g>\n<!-- 140654745157328 -->\n<g id=\"node11\" class=\"node\">\n<title>140654745157328</title>\n<polygon fill=\"#d3d3d3\" stroke=\"#000000\" points=\"214,-377.5 119,-377.5 119,-358.5 214,-358.5 214,-377.5\"/>\n<text text-anchor=\"middle\" x=\"166.5\" y=\"-365.5\" font-family=\"monospace\" font-size=\"10.00\" fill=\"#000000\">ReluBackward0</text>\n</g>\n<!-- 140654745157328&#45;&gt;140654745153936 -->\n<g id=\"edge9\" class=\"edge\">\n<title>140654745157328&#45;&gt;140654745153936</title>\n<path fill=\"none\" stroke=\"#000000\" d=\"M169.3035,-358.2615C172.0819,-348.6102 176.4151,-333.558 179.9006,-321.4506\"/>\n<polygon fill=\"#000000\" stroke=\"#000000\" points=\"183.2819,-322.3565 182.685,-311.7785 176.5551,-320.4199 183.2819,-322.3565\"/>\n</g>\n<!-- 140654745156176 -->\n<g id=\"node12\" class=\"node\">\n<title>140654745156176</title>\n<polygon fill=\"#d3d3d3\" stroke=\"#000000\" points=\"206,-443.5 111,-443.5 111,-424.5 206,-424.5 206,-443.5\"/>\n<text text-anchor=\"middle\" x=\"158.5\" y=\"-431.5\" font-family=\"monospace\" font-size=\"10.00\" fill=\"#000000\">AddmmBackward</text>\n</g>\n<!-- 140654745156176&#45;&gt;140654745157328 -->\n<g id=\"edge10\" class=\"edge\">\n<title>140654745156176&#45;&gt;140654745157328</title>\n<path fill=\"none\" stroke=\"#000000\" d=\"M159.6804,-424.2615C160.8385,-414.7077 162.638,-399.8615 164.0978,-387.8183\"/>\n<polygon fill=\"#000000\" stroke=\"#000000\" points=\"167.5859,-388.127 165.3147,-377.7785 160.6368,-387.2846 167.5859,-388.127\"/>\n</g>\n<!-- 140654745153680 -->\n<g id=\"node13\" class=\"node\">\n<title>140654745153680</title>\n<polygon fill=\"#d3d3d3\" stroke=\"#000000\" points=\"117,-509.5 16,-509.5 16,-490.5 117,-490.5 117,-509.5\"/>\n<text text-anchor=\"middle\" x=\"66.5\" y=\"-497.5\" font-family=\"monospace\" font-size=\"10.00\" fill=\"#000000\">AccumulateGrad</text>\n</g>\n<!-- 140654745153680&#45;&gt;140654745156176 -->\n<g id=\"edge11\" class=\"edge\">\n<title>140654745153680&#45;&gt;140654745156176</title>\n<path fill=\"none\" stroke=\"#000000\" d=\"M80.0749,-490.2615C94.9722,-479.5743 119.1011,-462.2644 136.6655,-449.6639\"/>\n<polygon fill=\"#000000\" stroke=\"#000000\" points=\"139.0833,-452.2369 145.1685,-443.5639 135.0029,-446.5491 139.0833,-452.2369\"/>\n</g>\n<!-- 140654763073120 -->\n<g id=\"node14\" class=\"node\">\n<title>140654763073120</title>\n<polygon fill=\"#add8e6\" stroke=\"#000000\" points=\"99,-581 34,-581 34,-551 99,-551 99,-581\"/>\n<text text-anchor=\"middle\" x=\"66.5\" y=\"-569\" font-family=\"monospace\" font-size=\"10.00\" fill=\"#000000\">fc1.bias</text>\n<text text-anchor=\"middle\" x=\"66.5\" y=\"-558\" font-family=\"monospace\" font-size=\"10.00\" fill=\"#000000\"> (10)</text>\n</g>\n<!-- 140654763073120&#45;&gt;140654745153680 -->\n<g id=\"edge12\" class=\"edge\">\n<title>140654763073120&#45;&gt;140654745153680</title>\n<path fill=\"none\" stroke=\"#000000\" d=\"M66.5,-550.6924C66.5,-541.5067 66.5,-529.7245 66.5,-519.8312\"/>\n<polygon fill=\"#000000\" stroke=\"#000000\" points=\"70.0001,-519.703 66.5,-509.7031 63.0001,-519.7031 70.0001,-519.703\"/>\n</g>\n<!-- 140654745154768 -->\n<g id=\"node15\" class=\"node\">\n<title>140654745154768</title>\n<polygon fill=\"#d3d3d3\" stroke=\"#000000\" points=\"206,-509.5 135,-509.5 135,-490.5 206,-490.5 206,-509.5\"/>\n<text text-anchor=\"middle\" x=\"170.5\" y=\"-497.5\" font-family=\"monospace\" font-size=\"10.00\" fill=\"#000000\">TBackward</text>\n</g>\n<!-- 140654745154768&#45;&gt;140654745156176 -->\n<g id=\"edge13\" class=\"edge\">\n<title>140654745154768&#45;&gt;140654745156176</title>\n<path fill=\"none\" stroke=\"#000000\" d=\"M168.7294,-490.2615C166.9923,-480.7077 164.293,-465.8615 162.1033,-453.8183\"/>\n<polygon fill=\"#000000\" stroke=\"#000000\" points=\"165.5104,-452.9911 160.2779,-443.7785 158.6233,-454.2433 165.5104,-452.9911\"/>\n</g>\n<!-- 140654745155600 -->\n<g id=\"node16\" class=\"node\">\n<title>140654745155600</title>\n<polygon fill=\"#d3d3d3\" stroke=\"#000000\" points=\"221,-575.5 120,-575.5 120,-556.5 221,-556.5 221,-575.5\"/>\n<text text-anchor=\"middle\" x=\"170.5\" y=\"-563.5\" font-family=\"monospace\" font-size=\"10.00\" fill=\"#000000\">AccumulateGrad</text>\n</g>\n<!-- 140654745155600&#45;&gt;140654745154768 -->\n<g id=\"edge14\" class=\"edge\">\n<title>140654745155600&#45;&gt;140654745154768</title>\n<path fill=\"none\" stroke=\"#000000\" d=\"M170.5,-556.2615C170.5,-546.7077 170.5,-531.8615 170.5,-519.8183\"/>\n<polygon fill=\"#000000\" stroke=\"#000000\" points=\"174.0001,-519.7784 170.5,-509.7785 167.0001,-519.7785 174.0001,-519.7784\"/>\n</g>\n<!-- 140654762124704 -->\n<g id=\"node17\" class=\"node\">\n<title>140654762124704</title>\n<polygon fill=\"#add8e6\" stroke=\"#000000\" points=\"209,-647 132,-647 132,-617 209,-617 209,-647\"/>\n<text text-anchor=\"middle\" x=\"170.5\" y=\"-635\" font-family=\"monospace\" font-size=\"10.00\" fill=\"#000000\">fc1.weight</text>\n<text text-anchor=\"middle\" x=\"170.5\" y=\"-624\" font-family=\"monospace\" font-size=\"10.00\" fill=\"#000000\"> (10, 2)</text>\n</g>\n<!-- 140654762124704&#45;&gt;140654745155600 -->\n<g id=\"edge15\" class=\"edge\">\n<title>140654762124704&#45;&gt;140654745155600</title>\n<path fill=\"none\" stroke=\"#000000\" d=\"M170.5,-616.6924C170.5,-607.5067 170.5,-595.7245 170.5,-585.8312\"/>\n<polygon fill=\"#000000\" stroke=\"#000000\" points=\"174.0001,-585.703 170.5,-575.7031 167.0001,-585.7031 174.0001,-585.703\"/>\n</g>\n<!-- 140654745154256 -->\n<g id=\"node18\" class=\"node\">\n<title>140654745154256</title>\n<polygon fill=\"#d3d3d3\" stroke=\"#000000\" points=\"303,-377.5 232,-377.5 232,-358.5 303,-358.5 303,-377.5\"/>\n<text text-anchor=\"middle\" x=\"267.5\" y=\"-365.5\" font-family=\"monospace\" font-size=\"10.00\" fill=\"#000000\">TBackward</text>\n</g>\n<!-- 140654745154256&#45;&gt;140654745153936 -->\n<g id=\"edge16\" class=\"edge\">\n<title>140654745154256&#45;&gt;140654745153936</title>\n<path fill=\"none\" stroke=\"#000000\" d=\"M255.4006,-358.2615C242.2444,-347.6723 221.0104,-330.5815 205.3935,-318.0119\"/>\n<polygon fill=\"#000000\" stroke=\"#000000\" points=\"207.3671,-315.1075 197.3824,-311.5639 202.978,-320.5606 207.3671,-315.1075\"/>\n</g>\n<!-- 140654744453392 -->\n<g id=\"node19\" class=\"node\">\n<title>140654744453392</title>\n<polygon fill=\"#d3d3d3\" stroke=\"#000000\" points=\"325,-443.5 224,-443.5 224,-424.5 325,-424.5 325,-443.5\"/>\n<text text-anchor=\"middle\" x=\"274.5\" y=\"-431.5\" font-family=\"monospace\" font-size=\"10.00\" fill=\"#000000\">AccumulateGrad</text>\n</g>\n<!-- 140654744453392&#45;&gt;140654745154256 -->\n<g id=\"edge17\" class=\"edge\">\n<title>140654744453392&#45;&gt;140654745154256</title>\n<path fill=\"none\" stroke=\"#000000\" d=\"M273.4671,-424.2615C272.4538,-414.7077 270.8793,-399.8615 269.6019,-387.8183\"/>\n<polygon fill=\"#000000\" stroke=\"#000000\" points=\"273.0724,-387.3535 268.5371,-377.7785 266.1114,-388.0919 273.0724,-387.3535\"/>\n</g>\n<!-- 140654763069520 -->\n<g id=\"node20\" class=\"node\">\n<title>140654763069520</title>\n<polygon fill=\"#add8e6\" stroke=\"#000000\" points=\"313,-515 236,-515 236,-485 313,-485 313,-515\"/>\n<text text-anchor=\"middle\" x=\"274.5\" y=\"-503\" font-family=\"monospace\" font-size=\"10.00\" fill=\"#000000\">fc2.weight</text>\n<text text-anchor=\"middle\" x=\"274.5\" y=\"-492\" font-family=\"monospace\" font-size=\"10.00\" fill=\"#000000\"> (4, 10)</text>\n</g>\n<!-- 140654763069520&#45;&gt;140654744453392 -->\n<g id=\"edge18\" class=\"edge\">\n<title>140654763069520&#45;&gt;140654744453392</title>\n<path fill=\"none\" stroke=\"#000000\" d=\"M274.5,-484.6924C274.5,-475.5067 274.5,-463.7245 274.5,-453.8312\"/>\n<polygon fill=\"#000000\" stroke=\"#000000\" points=\"278.0001,-453.703 274.5,-443.7031 271.0001,-453.7031 278.0001,-453.703\"/>\n</g>\n<!-- 140654745155024 -->\n<g id=\"node21\" class=\"node\">\n<title>140654745155024</title>\n<polygon fill=\"#d3d3d3\" stroke=\"#000000\" points=\"376,-251 305,-251 305,-232 376,-232 376,-251\"/>\n<text text-anchor=\"middle\" x=\"340.5\" y=\"-239\" font-family=\"monospace\" font-size=\"10.00\" fill=\"#000000\">TBackward</text>\n</g>\n<!-- 140654745155024&#45;&gt;140654743988880 -->\n<g id=\"edge19\" class=\"edge\">\n<title>140654745155024&#45;&gt;140654743988880</title>\n<path fill=\"none\" stroke=\"#000000\" d=\"M316.4622,-231.9197C294.2378,-223.0622 260.9907,-209.8115 236.1348,-199.9052\"/>\n<polygon fill=\"#000000\" stroke=\"#000000\" points=\"237.3106,-196.6061 226.7253,-196.155 234.7189,-203.1087 237.3106,-196.6061\"/>\n</g>\n<!-- 140654745155344 -->\n<g id=\"node22\" class=\"node\">\n<title>140654745155344</title>\n<polygon fill=\"#d3d3d3\" stroke=\"#000000\" points=\"400,-311.5 299,-311.5 299,-292.5 400,-292.5 400,-311.5\"/>\n<text text-anchor=\"middle\" x=\"349.5\" y=\"-299.5\" font-family=\"monospace\" font-size=\"10.00\" fill=\"#000000\">AccumulateGrad</text>\n</g>\n<!-- 140654745155344&#45;&gt;140654745155024 -->\n<g id=\"edge20\" class=\"edge\">\n<title>140654745155344&#45;&gt;140654745155024</title>\n<path fill=\"none\" stroke=\"#000000\" d=\"M348.054,-292.2796C346.8149,-283.9499 344.9908,-271.688 343.4455,-261.3004\"/>\n<polygon fill=\"#000000\" stroke=\"#000000\" points=\"346.9057,-260.7734 341.9723,-251.3972 339.9819,-261.8034 346.9057,-260.7734\"/>\n</g>\n<!-- 140654763059392 -->\n<g id=\"node23\" class=\"node\">\n<title>140654763059392</title>\n<polygon fill=\"#add8e6\" stroke=\"#000000\" points=\"398,-383 321,-383 321,-353 398,-353 398,-383\"/>\n<text text-anchor=\"middle\" x=\"359.5\" y=\"-371\" font-family=\"monospace\" font-size=\"10.00\" fill=\"#000000\">out.weight</text>\n<text text-anchor=\"middle\" x=\"359.5\" y=\"-360\" font-family=\"monospace\" font-size=\"10.00\" fill=\"#000000\"> (1, 4)</text>\n</g>\n<!-- 140654763059392&#45;&gt;140654745155344 -->\n<g id=\"edge21\" class=\"edge\">\n<title>140654763059392&#45;&gt;140654745155344</title>\n<path fill=\"none\" stroke=\"#000000\" d=\"M357.1807,-352.6924C355.7889,-343.5067 354.0037,-331.7245 352.5047,-321.8312\"/>\n<polygon fill=\"#000000\" stroke=\"#000000\" points=\"355.9288,-321.0659 350.9702,-311.7031 349.0078,-322.1146 355.9288,-321.0659\"/>\n</g>\n</g>\n</svg>\n"
          },
          "metadata": {
            "tags": []
          },
          "execution_count": 126
        }
      ]
    },
    {
      "cell_type": "code",
      "metadata": {
        "id": "b1Eah-juWAcH"
      },
      "source": [
        ""
      ],
      "execution_count": null,
      "outputs": []
    },
    {
      "cell_type": "markdown",
      "metadata": {
        "heading_collapsed": true,
        "id": "vPUjDX8ABoGc"
      },
      "source": [
        "## Data: Farsi Hand-written digits classification"
      ]
    },
    {
      "cell_type": "code",
      "metadata": {
        "ExecuteTime": {
          "end_time": "2020-05-05T11:49:24.322716Z",
          "start_time": "2020-05-05T11:49:19.069265Z"
        },
        "hidden": true,
        "id": "FE54NJdSXplU",
        "init_cell": true
      },
      "source": [
        "url = 'https://raw.githubusercontent.com/sraeisi/MachineLearning_Physics/master/Data/Farsi_digits_X.npz'\n",
        "s=requests.get(url, stream=True).content\n",
        "X = np.load(io.BytesIO(s) )['arr_0']\n",
        "url = 'https://raw.githubusercontent.com/sraeisi/MachineLearning_Physics/master/Data/Farsi_digits_Y.npz'\n",
        "s=requests.get(url, stream=True).content\n",
        "Y = np.load(io.BytesIO(s) )['arr_0']\n",
        "\n",
        "# X = np.load('X.npz')['arr_0']\n",
        "# Y = np.load('Y.npz')['arr_0']\n",
        "\n",
        "\n",
        "from sklearn.utils import shuffle\n",
        "X, Y = shuffle(X,Y, random_state = 0 )"
      ],
      "execution_count": null,
      "outputs": []
    },
    {
      "cell_type": "code",
      "metadata": {
        "ExecuteTime": {
          "end_time": "2020-05-04T16:42:36.764489Z",
          "start_time": "2020-05-04T16:42:36.756468Z"
        },
        "hidden": true,
        "id": "ldLimT4BXqVg",
        "colab": {
          "base_uri": "https://localhost:8080/"
        },
        "outputId": "32f48b9a-d0ac-46e1-fb9f-03ca432c5531"
      },
      "source": [
        "print('Each image is of the form: {}'.format(X[0].shape ) )"
      ],
      "execution_count": null,
      "outputs": [
        {
          "output_type": "stream",
          "text": [
            "Each image is of the form: (32, 32)\n"
          ],
          "name": "stdout"
        }
      ]
    },
    {
      "cell_type": "code",
      "metadata": {
        "ExecuteTime": {
          "end_time": "2020-05-04T11:07:23.903378Z",
          "start_time": "2020-05-04T11:07:23.525789Z"
        },
        "hidden": true,
        "id": "rNwqhBKg6NL7",
        "colab": {
          "base_uri": "https://localhost:8080/",
          "height": 293
        },
        "outputId": "cf787d47-0a6d-4b08-a498-a30f1762d565"
      },
      "source": [
        "plt.imshow(X[20])"
      ],
      "execution_count": null,
      "outputs": [
        {
          "output_type": "execute_result",
          "data": {
            "text/plain": [
              "<matplotlib.image.AxesImage at 0x7f24253abdd0>"
            ]
          },
          "metadata": {
            "tags": []
          },
          "execution_count": 7
        },
        {
          "output_type": "display_data",
          "data": {
            "image/png": "[encoded data removed]",
            "text/plain": [
              "<Figure size 432x288 with 1 Axes>"
            ]
          },
          "metadata": {
            "tags": [],
            "needs_background": "light"
          }
        }
      ]
    },
    {
      "cell_type": "code",
      "metadata": {
        "ExecuteTime": {
          "end_time": "2020-05-05T11:49:31.463454Z",
          "start_time": "2020-05-05T11:49:30.652380Z"
        },
        "hidden": true,
        "id": "FyNX5FJRXx9V",
        "init_cell": true
      },
      "source": [
        "from sklearn.model_selection import train_test_split\n",
        "from sklearn.metrics import confusion_matrix\n",
        "\n",
        "X_train, X_test, Y_train, Y_test = train_test_split(X, Y, random_state=0)"
      ],
      "execution_count": null,
      "outputs": []
    }
  ]
}