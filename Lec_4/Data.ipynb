{
  "nbformat": 4,
  "nbformat_minor": 0,
  "metadata": {
    "colab": {
      "name": "Data",
      "version": "0.3.2",
      "provenance": [],
      "collapsed_sections": [],
      "include_colab_link": true
    },
    "kernelspec": {
      "name": "python3",
      "display_name": "Python 3"
    }
  },
  "cells": [
    {
      "cell_type": "markdown",
      "metadata": {
        "id": "view-in-github",
        "colab_type": "text"
      },
      "source": [
        "<a href=\"https://colab.research.google.com/github/sraeisi/MachineLearning_Physics/blob/master/Lec_4/Data.ipynb\" target=\"_parent\"><img src=\"https://colab.research.google.com/assets/colab-badge.svg\" alt=\"Open In Colab\"/></a>"
      ]
    },
    {
      "metadata": {
        "id": "y7lzeE4RPSOW",
        "colab_type": "code",
        "colab": {}
      },
      "cell_type": "code",
      "source": [
        "# %load https://raw.githubusercontent.com/sraeisi/MachineLearning_Physics/master/pre.py\n",
        "import numpy as np\n",
        "import pandas as pd\n",
        "import matplotlib.pyplot as plt\n",
        "\n",
        "from google.colab import files\n",
        "import io, requests, zipfile\n",
        "\n",
        "\n",
        "\n",
        "'''Set the defaults for your plots.'''\n",
        "# plt.rcParams.update({'font.size': 20, 'figsize':(8,6)})\n",
        "SMALL_SIZE = 12\n",
        "MEDIUM_SIZE = 15\n",
        "BIGGER_SIZE = 18\n",
        "\n",
        "plt.rc('font', size=BIGGER_SIZE)          # controls default text sizes\n",
        "plt.rc('axes', titlesize=MEDIUM_SIZE)     # fontsize of the axes title\n",
        "plt.rc('axes', labelsize=BIGGER_SIZE)    # fontsize of the x and y labels\n",
        "plt.rc('xtick', labelsize=SMALL_SIZE)    # fontsize of the tick labels\n",
        "plt.rc('ytick', labelsize=SMALL_SIZE)    # fontsize of the tick labels\n",
        "plt.rc('legend', fontsize=MEDIUM_SIZE)    # legend fontsize\n",
        "plt.rc('figure', titlesize=BIGGER_SIZE)  # fontsize of the figure title\n",
        "\n",
        "plt.rc('axes', linewidth = 5 )\n",
        "plt.rc('lines', linewidth = 5 )\n",
        "\n",
        "plt.rc('lines', markersize = 5 )\n",
        "\n",
        "plt.rc('figure', figsize=(8,4) )         # Image size\n",
        "\n",
        "from zipfile import ZipFile\n",
        "\n",
        "\n",
        "from collections import Counter\n",
        "\n",
        "import warnings\n",
        "warnings.filterwarnings('ignore')\n",
        "\n",
        "from sklearn.utils import shuffle\n",
        "\n",
        "from sklearn.neighbors import KNeighborsRegressor\n",
        "from sklearn.linear_model import LinearRegression, Ridge, SGDClassifier\n",
        "from sklearn.svm import SVR\n",
        "from sklearn.model_selection import train_test_split\n",
        "from sklearn.preprocessing import PolynomialFeatures , StandardScaler, RobustScaler\n",
        "from sklearn.metrics import mean_squared_error  ## To calculate the loss\n",
        "from sklearn.naive_bayes import GaussianNB\n",
        "from sklearn.tree import DecisionTreeRegressor\n",
        "\n",
        "from sklearn.model_selection import GridSearchCV, RandomizedSearchCV, cross_val_score, cross_validate\n",
        "\n",
        "from sklearn.svm import SVC\n",
        "from sklearn.neighbors import KNeighborsClassifier\n",
        "\n",
        "from sklearn.model_selection import learning_curve, validation_curve"
      ],
      "execution_count": 0,
      "outputs": []
    },
    {
      "metadata": {
        "id": "c1yerrNoQ0TO",
        "colab_type": "text"
      },
      "cell_type": "markdown",
      "source": [
        "Data\n",
        "===\n",
        "In this part of the course, we review a few important step that should be taken before a ML project. \n",
        "It involves the following items:\n",
        "\n",
        "*  Data clean-up\n",
        "\n",
        ">  \n",
        "*   The missing info\n",
        "*   Non-numeric values \n",
        "\n",
        "* Scaling\n",
        "\n",
        "* Data reduction\n",
        "\n",
        ">  \n",
        "* Feature Selection\n",
        "* PCA\n",
        "* Manifold Learning\n",
        "* ...\n",
        "\n",
        "* ...\n",
        "\n",
        "\n",
        "Here we load the GS data again and try to apply some of these techniques to it. \n",
        "\n"
      ]
    },
    {
      "metadata": {
        "id": "JCfZwzf-Qzt7",
        "colab_type": "code",
        "outputId": "7816bbd0-adad-4af7-98ee-8fd05514748a",
        "colab": {
          "base_uri": "https://localhost:8080/",
          "height": 256
        }
      },
      "cell_type": "code",
      "source": [
        "## First load the data from the following url\n",
        "url = 'https://www.dropbox.com/s/das9t6vwp7t4b7f/roboBohr.csv.zip?dl=1'\n",
        "s=requests.get(url, stream=True).content\n",
        "data=pd.read_csv(io.BytesIO(s) , compression='zip' , index_col=0)\n",
        "\n",
        "data = shuffle(data)\n",
        "\n",
        "X = data.drop('Eat', axis=1)\n",
        "Y = data['Eat']\n",
        "\n",
        "all_features = X.columns\n",
        " \n",
        "data.head()"
      ],
      "execution_count": 3,
      "outputs": [
        {
          "output_type": "execute_result",
          "data": {
            "text/html": [
              "<div>\n",
              "<style scoped>\n",
              "    .dataframe tbody tr th:only-of-type {\n",
              "        vertical-align: middle;\n",
              "    }\n",
              "\n",
              "    .dataframe tbody tr th {\n",
              "        vertical-align: top;\n",
              "    }\n",
              "\n",
              "    .dataframe thead th {\n",
              "        text-align: right;\n",
              "    }\n",
              "</style>\n",
              "<table border=\"1\" class=\"dataframe\">\n",
              "  <thead>\n",
              "    <tr style=\"text-align: right;\">\n",
              "      <th></th>\n",
              "      <th>0</th>\n",
              "      <th>1</th>\n",
              "      <th>2</th>\n",
              "      <th>3</th>\n",
              "      <th>4</th>\n",
              "      <th>5</th>\n",
              "      <th>6</th>\n",
              "      <th>7</th>\n",
              "      <th>8</th>\n",
              "      <th>9</th>\n",
              "      <th>...</th>\n",
              "      <th>1267</th>\n",
              "      <th>1268</th>\n",
              "      <th>1269</th>\n",
              "      <th>1270</th>\n",
              "      <th>1271</th>\n",
              "      <th>1272</th>\n",
              "      <th>1273</th>\n",
              "      <th>1274</th>\n",
              "      <th>pubchem_id</th>\n",
              "      <th>Eat</th>\n",
              "    </tr>\n",
              "  </thead>\n",
              "  <tbody>\n",
              "    <tr>\n",
              "      <th>8318</th>\n",
              "      <td>73.516695</td>\n",
              "      <td>20.610011</td>\n",
              "      <td>17.964076</td>\n",
              "      <td>17.854074</td>\n",
              "      <td>17.816316</td>\n",
              "      <td>17.799672</td>\n",
              "      <td>17.783035</td>\n",
              "      <td>17.679314</td>\n",
              "      <td>12.715848</td>\n",
              "      <td>12.556981</td>\n",
              "      <td>...</td>\n",
              "      <td>0.0</td>\n",
              "      <td>0.0</td>\n",
              "      <td>0.0</td>\n",
              "      <td>0.0</td>\n",
              "      <td>0.0</td>\n",
              "      <td>0.0</td>\n",
              "      <td>0.0</td>\n",
              "      <td>0.0</td>\n",
              "      <td>12600</td>\n",
              "      <td>-11.266384</td>\n",
              "    </tr>\n",
              "    <tr>\n",
              "      <th>15040</th>\n",
              "      <td>73.516695</td>\n",
              "      <td>21.098462</td>\n",
              "      <td>21.065638</td>\n",
              "      <td>21.063983</td>\n",
              "      <td>13.794685</td>\n",
              "      <td>13.794358</td>\n",
              "      <td>13.624088</td>\n",
              "      <td>13.623584</td>\n",
              "      <td>13.552518</td>\n",
              "      <td>13.508296</td>\n",
              "      <td>...</td>\n",
              "      <td>0.0</td>\n",
              "      <td>0.0</td>\n",
              "      <td>0.0</td>\n",
              "      <td>0.0</td>\n",
              "      <td>0.0</td>\n",
              "      <td>0.0</td>\n",
              "      <td>0.0</td>\n",
              "      <td>0.0</td>\n",
              "      <td>70309</td>\n",
              "      <td>-8.170973</td>\n",
              "    </tr>\n",
              "    <tr>\n",
              "      <th>10224</th>\n",
              "      <td>53.358707</td>\n",
              "      <td>16.494999</td>\n",
              "      <td>16.494171</td>\n",
              "      <td>15.632383</td>\n",
              "      <td>13.711133</td>\n",
              "      <td>13.710272</td>\n",
              "      <td>13.684318</td>\n",
              "      <td>13.683492</td>\n",
              "      <td>13.677657</td>\n",
              "      <td>13.677079</td>\n",
              "      <td>...</td>\n",
              "      <td>0.0</td>\n",
              "      <td>0.0</td>\n",
              "      <td>0.0</td>\n",
              "      <td>0.0</td>\n",
              "      <td>0.0</td>\n",
              "      <td>0.0</td>\n",
              "      <td>0.0</td>\n",
              "      <td>0.0</td>\n",
              "      <td>19081</td>\n",
              "      <td>-13.641745</td>\n",
              "    </tr>\n",
              "    <tr>\n",
              "      <th>10051</th>\n",
              "      <td>388.023441</td>\n",
              "      <td>46.641395</td>\n",
              "      <td>46.635173</td>\n",
              "      <td>41.509083</td>\n",
              "      <td>28.782711</td>\n",
              "      <td>22.843483</td>\n",
              "      <td>20.794705</td>\n",
              "      <td>18.729096</td>\n",
              "      <td>15.952351</td>\n",
              "      <td>15.833592</td>\n",
              "      <td>...</td>\n",
              "      <td>0.0</td>\n",
              "      <td>0.0</td>\n",
              "      <td>0.0</td>\n",
              "      <td>0.0</td>\n",
              "      <td>0.0</td>\n",
              "      <td>0.0</td>\n",
              "      <td>0.0</td>\n",
              "      <td>0.0</td>\n",
              "      <td>18462</td>\n",
              "      <td>-12.820475</td>\n",
              "    </tr>\n",
              "    <tr>\n",
              "      <th>5376</th>\n",
              "      <td>73.516695</td>\n",
              "      <td>23.607712</td>\n",
              "      <td>23.607578</td>\n",
              "      <td>20.755649</td>\n",
              "      <td>18.681404</td>\n",
              "      <td>15.646909</td>\n",
              "      <td>15.422418</td>\n",
              "      <td>14.912034</td>\n",
              "      <td>13.653182</td>\n",
              "      <td>13.653157</td>\n",
              "      <td>...</td>\n",
              "      <td>0.0</td>\n",
              "      <td>0.0</td>\n",
              "      <td>0.0</td>\n",
              "      <td>0.0</td>\n",
              "      <td>0.0</td>\n",
              "      <td>0.0</td>\n",
              "      <td>0.0</td>\n",
              "      <td>0.0</td>\n",
              "      <td>4661</td>\n",
              "      <td>-9.307906</td>\n",
              "    </tr>\n",
              "  </tbody>\n",
              "</table>\n",
              "<p>5 rows × 1277 columns</p>\n",
              "</div>"
            ],
            "text/plain": [
              "                0          1          2          3          4          5  \\\n",
              "8318    73.516695  20.610011  17.964076  17.854074  17.816316  17.799672   \n",
              "15040   73.516695  21.098462  21.065638  21.063983  13.794685  13.794358   \n",
              "10224   53.358707  16.494999  16.494171  15.632383  13.711133  13.710272   \n",
              "10051  388.023441  46.641395  46.635173  41.509083  28.782711  22.843483   \n",
              "5376    73.516695  23.607712  23.607578  20.755649  18.681404  15.646909   \n",
              "\n",
              "               6          7          8          9    ...      1267  1268  \\\n",
              "8318   17.783035  17.679314  12.715848  12.556981    ...       0.0   0.0   \n",
              "15040  13.624088  13.623584  13.552518  13.508296    ...       0.0   0.0   \n",
              "10224  13.684318  13.683492  13.677657  13.677079    ...       0.0   0.0   \n",
              "10051  20.794705  18.729096  15.952351  15.833592    ...       0.0   0.0   \n",
              "5376   15.422418  14.912034  13.653182  13.653157    ...       0.0   0.0   \n",
              "\n",
              "       1269  1270  1271  1272  1273  1274  pubchem_id        Eat  \n",
              "8318    0.0   0.0   0.0   0.0   0.0   0.0       12600 -11.266384  \n",
              "15040   0.0   0.0   0.0   0.0   0.0   0.0       70309  -8.170973  \n",
              "10224   0.0   0.0   0.0   0.0   0.0   0.0       19081 -13.641745  \n",
              "10051   0.0   0.0   0.0   0.0   0.0   0.0       18462 -12.820475  \n",
              "5376    0.0   0.0   0.0   0.0   0.0   0.0        4661  -9.307906  \n",
              "\n",
              "[5 rows x 1277 columns]"
            ]
          },
          "metadata": {
            "tags": []
          },
          "execution_count": 3
        }
      ]
    },
    {
      "metadata": {
        "id": "nSDMftTPQGKJ",
        "colab_type": "code",
        "outputId": "9974bd3d-7e02-4d59-baff-82a98bce8a3a",
        "colab": {
          "base_uri": "https://localhost:8080/",
          "height": 107
        }
      },
      "cell_type": "code",
      "source": [
        "data.info()"
      ],
      "execution_count": 0,
      "outputs": [
        {
          "output_type": "stream",
          "text": [
            "<class 'pandas.core.frame.DataFrame'>\n",
            "RangeIndex: 16242 entries, 0 to 16241\n",
            "Columns: 1278 entries, Unnamed: 0 to Eat\n",
            "dtypes: float64(1276), int64(2)\n",
            "memory usage: 158.4 MB\n"
          ],
          "name": "stdout"
        }
      ]
    },
    {
      "metadata": {
        "id": "FzKxr8cISqv8",
        "colab_type": "code",
        "outputId": "d8fe87b8-2fe1-42e6-a007-0451d9b5cb9b",
        "colab": {
          "base_uri": "https://localhost:8080/",
          "height": 71
        }
      },
      "cell_type": "code",
      "source": [
        "print('This data has {} samples, \\n {} features and \\n {} data in total'.format( len(data) , len(data.columns), data.size ) )\n"
      ],
      "execution_count": 0,
      "outputs": [
        {
          "output_type": "stream",
          "text": [
            "This data has 16242 samples, \n",
            " 1278 features and \n",
            " 20757276 data in total\n"
          ],
          "name": "stdout"
        }
      ]
    },
    {
      "metadata": {
        "id": "nUaDnP-PfAbj",
        "colab_type": "text"
      },
      "cell_type": "markdown",
      "source": [
        "Data Preparation\n",
        "===\n",
        "Here we mainly focus on scalars and standardization of our data"
      ]
    },
    {
      "metadata": {
        "id": "Xr3Y6K7c4nII",
        "colab_type": "text"
      },
      "cell_type": "markdown",
      "source": [
        "## Missing data \n",
        "\n",
        "You can drop nan values or replace (impute) them. \n",
        "pandas offeres tools like dropna for removing data instances with nan values. \n",
        "\n",
        "The better alternative is to replace the missing data: Here are a list of strategies that people use:\n",
        "\n",
        "* mean\n",
        "* median \n",
        "* most frequent\n",
        "* out of range => Turn into outliers\n",
        "\n",
        "Look into the SimpleImputer from imput class in sklearn. "
      ]
    },
    {
      "metadata": {
        "id": "AiWYcQZG4uNI",
        "colab_type": "text"
      },
      "cell_type": "markdown",
      "source": [
        "## Non-numerics\n",
        "\n",
        "If the data is of categorical type, then it should be replaced with numbers. \n",
        "One easy way is to make a set of all the possible categories and then replace each value with the index of that specific value in the set list. \n",
        "We did this for the targets in the particle identification example, where we replaced the four ids of particles with numbers 0,1,2,3.\n",
        "\n",
        "You can also simply use the OrdinalEncoder() from preprocessing class in sklearn. "
      ]
    },
    {
      "metadata": {
        "id": "CXbav_DGfRHJ",
        "colab_type": "text"
      },
      "cell_type": "markdown",
      "source": [
        "## Standardization and scaling the data"
      ]
    },
    {
      "metadata": {
        "id": "npzp89cqfX-p",
        "colab_type": "code",
        "colab": {}
      },
      "cell_type": "code",
      "source": [
        "from sklearn.preprocessing import scale, MinMaxScaler, StandardScaler, RobustScaler\n",
        "\n",
        "\n",
        "'''\n",
        "With scaler, it is fairly simple, just tranforms your data. \n",
        "You need to do this before splitting the data, since everytime \n",
        "you apply this, it scales the input (It does different things to different inputs).\n",
        "'''\n",
        "X_scaled = scale(X) \n",
        "\n",
        "\n",
        "'''\n",
        "With standardScaler, it is like any other tranformation in sklearn. \n",
        "'''\n",
        "s_scaler = StandardScaler()\n",
        "X_sscaled = s_scaler.fit_transform(X) \n",
        "\n",
        "'''\n",
        "We can also scale such that instead of unit variance, the whole data is fit \n",
        "between 0 and 1. For that we use minmax scalers. There's an alternative for \n",
        "absvalue of the data.\n",
        "'''\n",
        "mm_scaler = MinMaxScaler()\n",
        "mm_scaler.fit(X)\n",
        "X_mmscaled = mm_scaler.transform(X) \n",
        "\n",
        "'''\n",
        "When we have outliers, scaling could be worsen the situation, \n",
        "For these situations, it is best to use a different scaler called Robust Scaler.\n",
        "'''\n",
        "r_scaler = RobustScaler()\n",
        "r_scaler.fit(X)\n",
        "X_rscaled = r_scaler.transform(X) "
      ],
      "execution_count": 0,
      "outputs": []
    },
    {
      "metadata": {
        "id": "EjPKxTYri1PM",
        "colab_type": "text"
      },
      "cell_type": "markdown",
      "source": [
        "Often, the significance of scalers is more pronounced when data has features on very different scales. \n",
        "We'll come back to this. "
      ]
    },
    {
      "metadata": {
        "id": "tmHlaaGQtdL4",
        "colab_type": "code",
        "colab": {
          "base_uri": "https://localhost:8080/",
          "height": 89
        },
        "outputId": "cb62d884-d2d5-48c5-c4e0-d9334d89bb97"
      },
      "cell_type": "code",
      "source": [
        "from sklearn.model_selection import cross_validate\n",
        "reg = Ridge()\n",
        "cv=10\n",
        "scores = cross_validate(reg , X, Y, n_jobs=-1, scoring='neg_mean_squared_error' , cv=cv)\n",
        "scores = pd.DataFrame(scores)\n",
        "print('The result on the original data is: \\n {}'.format(  scores.describe().loc[['mean','std']] ) )\n"
      ],
      "execution_count": 40,
      "outputs": [
        {
          "output_type": "stream",
          "text": [
            "The result on the original data is: \n",
            "       fit_time  score_time  test_score  train_score\n",
            "mean  2.450141    0.024242   -1.148769    -0.501688\n",
            "std   0.163864    0.007228    1.714142     0.005430\n"
          ],
          "name": "stdout"
        }
      ]
    },
    {
      "metadata": {
        "id": "S8bkB6tyvs_V",
        "colab_type": "code",
        "colab": {
          "base_uri": "https://localhost:8080/",
          "height": 89
        },
        "outputId": "9e4e3bed-8d8a-4665-ca34-a97aa8cfab4b"
      },
      "cell_type": "code",
      "source": [
        "s_scores = cross_validate(reg , X_sscaled, Y, n_jobs=-1, scoring='neg_mean_squared_error' , cv=cv)\n",
        "s_scores = pd.DataFrame(s_scores)\n",
        "print('The result on the original data is: \\n {}'.format(  s_scores.describe().loc[['mean','std']] ) )\n"
      ],
      "execution_count": 41,
      "outputs": [
        {
          "output_type": "stream",
          "text": [
            "The result on the original data is: \n",
            "       fit_time  score_time  test_score  train_score\n",
            "mean   3.27475    0.013890   -2.277049    -0.446539\n",
            "std    0.11135    0.005985    4.818208     0.003904\n"
          ],
          "name": "stdout"
        }
      ]
    },
    {
      "metadata": {
        "id": "D5HYrfulyOxv",
        "colab_type": "code",
        "colab": {
          "base_uri": "https://localhost:8080/",
          "height": 160
        },
        "outputId": "e39dc1e7-6066-4386-d911-5fd9e65a06fb"
      },
      "cell_type": "code",
      "source": [
        "mm_scores = cross_validate(reg , X_mmscaled, Y, n_jobs=-1, scoring='neg_mean_squared_error' , cv=cv)\n",
        "mm_scores = pd.DataFrame(mm_scores)\n",
        "print('The result on the original data is: \\n {}\\n'.format(  mm_scores.describe().loc[['mean','std']] ) )\n",
        "\n",
        "r_scores = cross_validate(reg , X_rscaled, Y, n_jobs=-1, scoring='neg_mean_squared_error' , cv=cv)\n",
        "r_scores = pd.DataFrame(r_scores)\n",
        "print('The result on the original data is: \\n {}'.format(  r_scores.describe().loc[['mean','std']] ) )\n"
      ],
      "execution_count": 39,
      "outputs": [
        {
          "output_type": "stream",
          "text": [
            "The result on the original data is: \n",
            "       fit_time  score_time  test_score  train_score\n",
            "mean  2.724573    0.016162   -0.605744    -0.548376\n",
            "std   0.584353    0.004885    0.025272     0.004122\n",
            "The result on the original data is: \n",
            "       fit_time  score_time  test_score  train_score\n",
            "mean  2.883882    0.020853   -1.240747    -0.483316\n",
            "std   0.281386    0.007641    1.379802     0.005752\n"
          ],
          "name": "stdout"
        }
      ]
    },
    {
      "metadata": {
        "id": "AbcxWiC01zIn",
        "colab_type": "code",
        "colab": {
          "base_uri": "https://localhost:8080/",
          "height": 357
        },
        "outputId": "5c2847aa-acbc-428b-9bee-12dbf110a92e"
      },
      "cell_type": "code",
      "source": [
        "from sklearn.svm import LinearSVR\n",
        "reg = LinearSVR()\n",
        "cv=2\n",
        "\n",
        "scores = cross_validate(reg , X, Y, n_jobs=-1 , cv=cv)\n",
        "scores = pd.DataFrame(scores)\n",
        "print('The result on the original data is: \\n {}'.format(  scores.describe().loc[['mean','std']] ) )\n",
        "\n",
        "s_scores = cross_validate(reg , X_sscaled, Y, n_jobs=-1 , cv=cv)\n",
        "s_scores = pd.DataFrame(s_scores)\n",
        "print('The result on the original data is: \\n {}\\n'.format(  s_scores.describe().loc[['mean','std']] ) )\n",
        "\n",
        "mm_scores = cross_validate(reg , X_mmscaled, Y, n_jobs=-1 , cv=cv)\n",
        "mm_scores = pd.DataFrame(mm_scores)\n",
        "print('The result on the original data is: \\n {}\\n'.format(  mm_scores.describe().loc[['mean','std']] ) )\n",
        "\n",
        "r_scores = cross_validate(reg , X_rscaled, Y, n_jobs=-1,  cv=cv)\n",
        "r_scores = pd.DataFrame(r_scores)\n",
        "print('The result on the original data is: \\n {}\\n'.format(  r_scores.describe().loc[['mean','std']] ) )\n"
      ],
      "execution_count": 44,
      "outputs": [
        {
          "output_type": "stream",
          "text": [
            "The result on the original data is: \n",
            "        fit_time  score_time  test_score  train_score\n",
            "mean  24.790814    0.046578    0.564481     0.583107\n",
            "std    0.158760    0.003242    0.261963     0.273355\n",
            "The result on the original data is: \n",
            "        fit_time  score_time  test_score  train_score\n",
            "mean  69.949260    0.029260    0.632964     0.939056\n",
            "std    0.001719    0.014713    0.385885     0.001274\n",
            "\n",
            "The result on the original data is: \n",
            "        fit_time  score_time  test_score  train_score\n",
            "mean  12.014392    0.020903    0.939986     0.945003\n",
            "std    0.459249    0.006323    0.003826     0.001362\n",
            "\n",
            "The result on the original data is: \n",
            "        fit_time  score_time  test_score  train_score\n",
            "mean  26.997427    0.019735    0.795659     0.876470\n",
            "std    0.132235    0.005373    0.131394     0.006659\n",
            "\n"
          ],
          "name": "stdout"
        }
      ]
    },
    {
      "metadata": {
        "id": "dMzh999QUE78",
        "colab_type": "text"
      },
      "cell_type": "markdown",
      "source": [
        "Data Reduction\n",
        "===\n",
        "\n",
        "## Important Features\n",
        "We can use different technqiues to identify the more important features. \n",
        "Here we use a couple of those techniques"
      ]
    },
    {
      "metadata": {
        "id": "WdJIHr0FUSg3",
        "colab_type": "text"
      },
      "cell_type": "markdown",
      "source": [
        "### Decision Tree and Random Forest"
      ]
    },
    {
      "metadata": {
        "id": "Pv3Qn1CGS74Q",
        "colab_type": "code",
        "colab": {}
      },
      "cell_type": "code",
      "source": [
        "from sklearn.ensemble import RandomForestRegressor\n",
        "from sklearn.tree import DecisionTreeRegressor\n",
        "\n",
        "X_train, X_test, Y_train, Y_test = train_test_split( X, Y, random_state=0 )"
      ],
      "execution_count": 0,
      "outputs": []
    },
    {
      "metadata": {
        "id": "tHeyTeEwWe40",
        "colab_type": "code",
        "outputId": "db324340-154b-4182-e79a-345043afc7f2",
        "colab": {
          "base_uri": "https://localhost:8080/",
          "height": 107
        }
      },
      "cell_type": "code",
      "source": [
        "%%time\n",
        "dt_reg = DecisionTreeRegressor()\n",
        "\n",
        "params = {'max_depth': [1,3,5, 10, 20, 50]}\n",
        "opt_dt_reg = GridSearchCV(dt_reg, param_grid=params, n_jobs=-1, verbose=1)\n",
        "opt_dt_reg.fit(X,Y)"
      ],
      "execution_count": 0,
      "outputs": [
        {
          "output_type": "stream",
          "text": [
            "Fitting 3 folds for each of 6 candidates, totalling 18 fits\n"
          ],
          "name": "stdout"
        },
        {
          "output_type": "stream",
          "text": [
            "[Parallel(n_jobs=-1)]: Using backend LokyBackend with 2 concurrent workers.\n",
            "[Parallel(n_jobs=-1)]: Done  18 out of  18 | elapsed:   45.8s finished\n"
          ],
          "name": "stderr"
        },
        {
          "output_type": "stream",
          "text": [
            "CPU times: user 8.59 s, sys: 262 ms, total: 8.85 s\n",
            "Wall time: 54.3 s\n"
          ],
          "name": "stdout"
        }
      ]
    },
    {
      "metadata": {
        "id": "Q2VhApy-Xhx2",
        "colab_type": "code",
        "outputId": "60f3cee6-0465-44ef-e2c0-c0a67a062e6f",
        "colab": {
          "base_uri": "https://localhost:8080/",
          "height": 267
        }
      },
      "cell_type": "code",
      "source": [
        "dt_feature_importances = opt_dt_reg.best_estimator_.feature_importances_\n",
        "\n",
        "plt.plot(  dt_feature_importances  )\n",
        "plt.show()"
      ],
      "execution_count": 0,
      "outputs": [
        {
          "output_type": "display_data",
          "data": {
            "image/png": "[encoded data removed]",
            "text/plain": [
              "<Figure size 576x288 with 1 Axes>"
            ]
          },
          "metadata": {
            "tags": []
          }
        }
      ]
    },
    {
      "metadata": {
        "id": "EqNwENHGYSIc",
        "colab_type": "code",
        "outputId": "08617bd0-2d55-43e8-c5b7-4b2d2873e9fb",
        "colab": {
          "base_uri": "https://localhost:8080/",
          "height": 53
        }
      },
      "cell_type": "code",
      "source": [
        "'''\n",
        "Let's pick the first m more important features. \n",
        "'''\n",
        "m=200\n",
        "\n",
        "index_imfr = np.argsort( dt_feature_importances   )[:m]\n",
        "important_feature_list = all_features[   index_imfr   ]\n",
        "\n",
        "dt_reg.fit(X_train, Y_train)\n",
        "print('Score without data reduction is: {}'.format(  dt_reg.score(X_test, Y_test)  ))\n",
        "\n",
        "reduced_X_train = X_train[ important_feature_list ]\n",
        "reduced_X_test = X_test[ important_feature_list ]\n",
        "\n",
        "dt_reg.fit(reduced_X_train, Y_train)\n",
        "print('Score without data reduction is: {}'.format(  dt_reg.score(reduced_X_test, Y_test)  ))\n",
        "\n",
        "\n",
        "## Plot how the score changes with the number of feartures we keep. \n",
        "\n"
      ],
      "execution_count": 0,
      "outputs": [
        {
          "output_type": "stream",
          "text": [
            "Score without data reduction is: 0.9965002506636973\n",
            "Score without data reduction is: 0.9653715642291926\n"
          ],
          "name": "stdout"
        }
      ]
    },
    {
      "metadata": {
        "id": "uw_iB-tkZ1pj",
        "colab_type": "code",
        "outputId": "e276634f-199e-4626-a2a6-1b90867399f8",
        "colab": {
          "base_uri": "https://localhost:8080/",
          "height": 53
        }
      },
      "cell_type": "code",
      "source": [
        "dt_200_scores = cross_val_score(dt_reg,  X[ important_feature_list ] , Y , cv=10, n_jobs=-1)\n",
        "print(dt_200_scores)"
      ],
      "execution_count": 0,
      "outputs": [
        {
          "output_type": "stream",
          "text": [
            "[0.96196497 0.96274876 0.96386685 0.96448277 0.96700257 0.9619719\n",
            " 0.96736675 0.96397436 0.9680196  0.9631105 ]\n"
          ],
          "name": "stdout"
        }
      ]
    },
    {
      "metadata": {
        "id": "oI47-93WiA-8",
        "colab_type": "text"
      },
      "cell_type": "markdown",
      "source": [
        "### Using sklearn"
      ]
    },
    {
      "metadata": {
        "id": "NJzw_InAi5gq",
        "colab_type": "code",
        "outputId": "24821dd6-0f92-420b-89f2-e82d68542307",
        "colab": {
          "base_uri": "https://localhost:8080/",
          "height": 89
        }
      },
      "cell_type": "code",
      "source": [
        "model = SelectFromModel(dt_reg, threshold='median')\n",
        "tr_X = model.fit_transform(X,Y)\n",
        "print('Decision Tree feature selection: with {} features.'.format(tr_X.shape[1] ))\n",
        "\n",
        "sm_scores = cross_val_score(dt_reg,  tr_X , Y , cv=10, n_jobs=-1)\n",
        "\n",
        "print('The cv scores are:\\n {}'.format(sm_scores))"
      ],
      "execution_count": 0,
      "outputs": [
        {
          "output_type": "stream",
          "text": [
            "With 639 features.\n",
            "The cv scores are:\n",
            " [0.99656587 0.99667043 0.99655016 0.99679885 0.99685368 0.99681324\n",
            " 0.99704546 0.99695583 0.99683359 0.99687416]\n"
          ],
          "name": "stdout"
        }
      ]
    },
    {
      "metadata": {
        "id": "AyhyEjIflwSv",
        "colab_type": "code",
        "outputId": "4dcb0165-e3db-4372-d761-a82c26bbfa97",
        "colab": {
          "base_uri": "https://localhost:8080/",
          "height": 89
        }
      },
      "cell_type": "code",
      "source": [
        "model = SelectFromModel(dt_reg, max_features=100, threshold=-np.inf)\n",
        "tr_X = model.fit_transform(X,Y)\n",
        "print('Decision Tree feature selection: with {} features.'.format(tr_X.shape[1] ))\n",
        "\n",
        "sm_scores = cross_val_score(dt_reg,  tr_X , Y , cv=10, n_jobs=-1)\n",
        "\n",
        "print('The cv scores are:\\n {}'.format(sm_scores))"
      ],
      "execution_count": 0,
      "outputs": [
        {
          "output_type": "stream",
          "text": [
            "Decision Tree feature selection: with 100 features.\n",
            "The cv scores are:\n",
            " [0.99686261 0.99674216 0.99712008 0.99686053 0.99685988 0.99712153\n",
            " 0.99749723 0.99728431 0.99696552 0.99715389]\n"
          ],
          "name": "stdout"
        }
      ]
    },
    {
      "metadata": {
        "id": "dqfPqBtIiC2y",
        "colab_type": "code",
        "outputId": "8a408509-98f2-4f34-a40d-1d7a0a36a258",
        "colab": {
          "base_uri": "https://localhost:8080/",
          "height": 89
        }
      },
      "cell_type": "code",
      "source": [
        "from sklearn.feature_selection import SelectFromModel\n",
        "\n",
        "model = SelectFromModel(dt_reg, threshold='mean')\n",
        "tr_X = model.fit_transform(X,Y)\n",
        "print('Decision Tree feature selection: with {} features.'.format(tr_X.shape[1] ))\n",
        "\n",
        "sm_scores = cross_val_score(dt_reg,  tr_X , Y , cv=10, n_jobs=-1)\n",
        "\n",
        "print('The cv scores are:\\n {}'.format(sm_scores))"
      ],
      "execution_count": 0,
      "outputs": [
        {
          "output_type": "stream",
          "text": [
            "With 18 features.\n",
            "The cv scores are:\n",
            " [0.99325773 0.99359497 0.9931116  0.99351741 0.99459773 0.99426679\n",
            " 0.99430907 0.99310287 0.99438323 0.99378704]\n"
          ],
          "name": "stdout"
        }
      ]
    },
    {
      "metadata": {
        "id": "9zbkdGEejlHE",
        "colab_type": "code",
        "outputId": "f2e96350-945c-4032-e4e7-05bf7e0708fa",
        "colab": {
          "base_uri": "https://localhost:8080/",
          "height": 89
        }
      },
      "cell_type": "code",
      "source": [
        "### With Ridge\n",
        "\n",
        "model = SelectFromModel(Ridge() )\n",
        "tr_X = model.fit_transform(X,Y)\n",
        "print('Ridge feature selection: with {} features.'.format(tr_X.shape[1] ))\n",
        "\n",
        "sm_scores = cross_val_score(Ridge(),  tr_X , Y , cv=10, n_jobs=-1)\n",
        "\n",
        "print('The cv scores are:\\n {}'.format(sm_scores))"
      ],
      "execution_count": 0,
      "outputs": [
        {
          "output_type": "stream",
          "text": [
            "Ridge feature selection: with 388 features.\n",
            "The cv scores are:\n",
            " [0.98834363 0.98847938 0.9886359  0.98927644 0.99073162 0.99030298\n",
            " 0.98948163 0.98926519 0.98957052 0.98950002]\n"
          ],
          "name": "stdout"
        }
      ]
    },
    {
      "metadata": {
        "id": "YPZEa7cKmMS7",
        "colab_type": "text"
      },
      "cell_type": "markdown",
      "source": [
        "### Recursive Feature selection"
      ]
    },
    {
      "metadata": {
        "id": "u3q-9i9xk0i9",
        "colab_type": "code",
        "outputId": "226d040b-1849-4419-f192-2a10a1cf724d",
        "colab": {
          "base_uri": "https://localhost:8080/",
          "height": 125
        }
      },
      "cell_type": "code",
      "source": [
        "%%time\n",
        "from sklearn.feature_selection import RFE, RFECV\n",
        "\n",
        "rfe = RFE(estimator=Ridge() , step=10  )\n",
        "rfe.fit(X, Y)\n",
        "rfs_X = rfe.transform(X)\n",
        "print('Ridge feature selection: with {} features.'.format(rfs_X.shape[1] ))\n",
        "\n",
        "rfs_scores = cross_val_score(Ridge(),  rfs_X , Y , cv=10, n_jobs=-1)\n",
        "\n",
        "print('The cv scores are:\\n {}'.format(rfs_scores))"
      ],
      "execution_count": 0,
      "outputs": [
        {
          "output_type": "stream",
          "text": [
            "Ridge feature selection: with 638 features.\n",
            "The cv scores are:\n",
            " [0.92913818 0.93175822 0.92430026 0.92936232 0.01762791 0.93416802\n",
            " 0.93647594 0.91884961 0.92903547 0.92340594]\n",
            "CPU times: user 1min 27s, sys: 13.2 s, total: 1min 40s\n",
            "Wall time: 1min 1s\n"
          ],
          "name": "stdout"
        }
      ]
    },
    {
      "metadata": {
        "id": "v8dQ7_xWnzeK",
        "colab_type": "code",
        "outputId": "87989ecd-5f65-4317-b15b-324d299975f3",
        "colab": {
          "base_uri": "https://localhost:8080/",
          "height": 285
        }
      },
      "cell_type": "code",
      "source": [
        "plt.plot(rfe.ranking_)"
      ],
      "execution_count": 0,
      "outputs": [
        {
          "output_type": "execute_result",
          "data": {
            "text/plain": [
              "[<matplotlib.lines.Line2D at 0x7f0e9639f518>]"
            ]
          },
          "metadata": {
            "tags": []
          },
          "execution_count": 108
        },
        {
          "output_type": "display_data",
          "data": {
            "image/png": "[encoded data removed]",
            "text/plain": [
              "<Figure size 576x288 with 1 Axes>"
            ]
          },
          "metadata": {
            "tags": []
          }
        }
      ]
    },
    {
      "metadata": {
        "id": "RNqaSImDtyLZ",
        "colab_type": "text"
      },
      "cell_type": "markdown",
      "source": [
        "## Variance Threshold"
      ]
    },
    {
      "metadata": {
        "id": "Ub_Bx1KSt0RT",
        "colab_type": "code",
        "outputId": "0b86702c-8848-4cb8-9f22-66b3d1ca9cef",
        "colab": {
          "base_uri": "https://localhost:8080/",
          "height": 35
        }
      },
      "cell_type": "code",
      "source": [
        "feature_variance = X.var(axis=0)\n",
        "\n",
        "var_threshold = feature_variance.median()\n",
        "var_thsld_ind_list = [i for i in range(len( feature_variance )) if feature_variance.iloc[i] > var_threshold]\n",
        "len(var_thsld_ind_list)"
      ],
      "execution_count": 0,
      "outputs": [
        {
          "output_type": "execute_result",
          "data": {
            "text/plain": [
              "638"
            ]
          },
          "metadata": {
            "tags": []
          },
          "execution_count": 125
        }
      ]
    },
    {
      "metadata": {
        "id": "KmLO_bkCvDWC",
        "colab_type": "code",
        "outputId": "055830d0-a2e8-4215-ca86-c34a424d6e46",
        "colab": {
          "base_uri": "https://localhost:8080/",
          "height": 89
        }
      },
      "cell_type": "code",
      "source": [
        "var_thrshld_X = X[all_features[var_thsld_ind_list]]\n",
        "print(\"The reduced X has a shape of {}\".format(var_thrshld_X.shape))\n",
        "\n",
        "vt_scores = cross_val_score(Ridge(),  var_thrshld_X , Y , cv=10, n_jobs=-1)\n",
        "\n",
        "print('The cv scores are:\\n {}'.format(vt_scores))"
      ],
      "execution_count": 0,
      "outputs": [
        {
          "output_type": "stream",
          "text": [
            "The reduced X has a shape of (16242, 638)\n",
            "The cv scores are:\n",
            " [0.95459706 0.95449945 0.95009096 0.95876266 0.60367057 0.95400455\n",
            " 0.95923474 0.9516424  0.95097499 0.94798321]\n"
          ],
          "name": "stdout"
        }
      ]
    },
    {
      "metadata": {
        "id": "pvLyhj7ovgol",
        "colab_type": "code",
        "outputId": "af70f787-96fa-4cef-90e2-0f41a2e3fdeb",
        "colab": {
          "base_uri": "https://localhost:8080/",
          "height": 89
        }
      },
      "cell_type": "code",
      "source": [
        "from sklearn.feature_selection import VarianceThreshold\n",
        "VT = VarianceThreshold(threshold=var_threshold)\n",
        "var_thrshld_X = VT.fit_transform(X)\n",
        "\n",
        "print(\"The reduced X has a shape of {}\".format(var_thrshld_X.shape))\n",
        "\n",
        "vt_scores = cross_val_score(Ridge(),  var_thrshld_X , Y , cv=10, n_jobs=-1)\n",
        "\n",
        "print('The cv scores are:\\n {}'.format(vt_scores))"
      ],
      "execution_count": 0,
      "outputs": [
        {
          "output_type": "stream",
          "text": [
            "The reduced X has a shape of (16242, 638)\n",
            "The cv scores are:\n",
            " [0.95459706 0.95449945 0.95009096 0.95876266 0.60367057 0.95400455\n",
            " 0.95923474 0.9516424  0.95097499 0.94798321]\n"
          ],
          "name": "stdout"
        }
      ]
    },
    {
      "metadata": {
        "id": "FOSxgtCRxyRe",
        "colab_type": "text"
      },
      "cell_type": "markdown",
      "source": [
        "## PCA"
      ]
    },
    {
      "metadata": {
        "id": "JDbmQnL-xR-T",
        "colab_type": "code",
        "outputId": "8dc4ef18-cb15-4937-fee8-abf2344d7152",
        "colab": {
          "base_uri": "https://localhost:8080/",
          "height": 89
        }
      },
      "cell_type": "code",
      "source": [
        "from sklearn.decomposition import PCA\n",
        "\n",
        "pca = PCA()\n",
        "pca_X = pca.fit_transform(X)\n",
        "\n",
        "print(\"The reduced X has a shape of {}\".format(pca_X.shape))\n",
        "\n",
        "pca_scores = cross_val_score(Ridge(),  pca_X , Y , cv=10, n_jobs=-1)\n",
        "\n",
        "print('The cv scores are:\\n {}'.format(pca_scores))"
      ],
      "execution_count": 45,
      "outputs": [
        {
          "output_type": "stream",
          "text": [
            "The reduced X has a shape of (16242, 1276)\n",
            "The cv scores are:\n",
            " [0.95732331 0.54396561 0.95268506 0.95343912 0.95549755 0.95987494\n",
            " 0.94733592 0.96033903 0.94285837 0.9613456 ]\n"
          ],
          "name": "stdout"
        }
      ]
    },
    {
      "metadata": {
        "id": "OfwOgLosx6mH",
        "colab_type": "code",
        "outputId": "32453733-fde3-4f66-a030-6c09583fdba1",
        "colab": {
          "base_uri": "https://localhost:8080/",
          "height": 89
        }
      },
      "cell_type": "code",
      "source": [
        "pca = PCA(n_components=100)\n",
        "pca_X = pca.fit_transform(X)\n",
        "\n",
        "print(\"The reduced X has a shape of {}\".format(pca_X.shape))\n",
        "\n",
        "pca_scores = cross_val_score(Ridge(),  pca_X , Y , cv=10, n_jobs=-1)\n",
        "\n",
        "print('The cv scores are:\\n {}'.format(pca_scores))"
      ],
      "execution_count": 46,
      "outputs": [
        {
          "output_type": "stream",
          "text": [
            "The reduced X has a shape of (16242, 100)\n",
            "The cv scores are:\n",
            " [0.95512229 0.84334716 0.94692975 0.94705779 0.95025843 0.95554468\n",
            " 0.95216048 0.95654178 0.93524693 0.9573783 ]\n"
          ],
          "name": "stdout"
        }
      ]
    },
    {
      "metadata": {
        "id": "e2aUGmIYAdqG",
        "colab_type": "code",
        "colab": {
          "base_uri": "https://localhost:8080/",
          "height": 89
        },
        "outputId": "56ad8511-ca87-40f3-8e27-e6e7cece3075"
      },
      "cell_type": "code",
      "source": [
        "pca = PCA(n_components=25)\n",
        "pca_X = pca.fit_transform(X)\n",
        "\n",
        "print(\"The reduced X has a shape of {}\".format(pca_X.shape))\n",
        "\n",
        "pca_scores = cross_val_score(Ridge(),  pca_X , Y , cv=10, n_jobs=-1)\n",
        "\n",
        "print('The cv scores are:\\n {}'.format(pca_scores))"
      ],
      "execution_count": 54,
      "outputs": [
        {
          "output_type": "stream",
          "text": [
            "The reduced X has a shape of (16242, 25)\n",
            "The cv scores are:\n",
            " [0.86893508 0.83994759 0.85324419 0.84148699 0.85877951 0.88038538\n",
            " 0.87003325 0.86661873 0.7612402  0.87429528]\n"
          ],
          "name": "stdout"
        }
      ]
    },
    {
      "metadata": {
        "id": "ekNiC_nhAubK",
        "colab_type": "code",
        "colab": {
          "base_uri": "https://localhost:8080/",
          "height": 89
        },
        "outputId": "f36c4e94-421a-4c20-f3cb-a7ada7edfc46"
      },
      "cell_type": "code",
      "source": [
        "pca = PCA(n_components=25)\n",
        "pca_mm_X = pca.fit_transform(X_mmscaled )\n",
        "\n",
        "print(\"The reduced X has a shape of {}\".format(pca_mm_X.shape))\n",
        "\n",
        "pca_mm_scores = cross_val_score(Ridge(),  pca_mm_X , Y , cv=10, n_jobs=-1)\n",
        "\n",
        "print('The cv scores are:\\n {}'.format(pca_mm_scores))"
      ],
      "execution_count": 55,
      "outputs": [
        {
          "output_type": "stream",
          "text": [
            "The reduced X has a shape of (16242, 25)\n",
            "The cv scores are:\n",
            " [0.92392859 0.9219673  0.92124395 0.9245228  0.9263212  0.93622132\n",
            " 0.90856261 0.92486341 0.90031409 0.93263729]\n"
          ],
          "name": "stdout"
        }
      ]
    },
    {
      "metadata": {
        "id": "POdyFR8Qe3JP",
        "colab_type": "text"
      },
      "cell_type": "markdown",
      "source": [
        "## Maniforld Learning"
      ]
    },
    {
      "metadata": {
        "id": "1C3GlcXzydin",
        "colab_type": "code",
        "colab": {}
      },
      "cell_type": "code",
      "source": [
        ""
      ],
      "execution_count": 0,
      "outputs": []
    }
  ]
}