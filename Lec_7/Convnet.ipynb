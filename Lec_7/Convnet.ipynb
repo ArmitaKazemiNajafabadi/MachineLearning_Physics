{
  "nbformat": 4,
  "nbformat_minor": 0,
  "metadata": {
    "colab": {
      "name": "Convnet.ipynb",
      "version": "0.3.2",
      "provenance": [],
      "collapsed_sections": [],
      "include_colab_link": true
    },
    "kernelspec": {
      "name": "python3",
      "display_name": "Python 3"
    },
    "accelerator": "GPU"
  },
  "cells": [
    {
      "cell_type": "markdown",
      "metadata": {
        "id": "view-in-github",
        "colab_type": "text"
      },
      "source": [
        "<a href=\"https://colab.research.google.com/github/sraeisi/MachineLearning_Physics/blob/master/Lec_7/Convnet.ipynb\" target=\"_parent\"><img src=\"https://colab.research.google.com/assets/colab-badge.svg\" alt=\"Open In Colab\"/></a>"
      ]
    },
    {
      "cell_type": "code",
      "metadata": {
        "id": "XyaKzVDuXLmF",
        "colab_type": "code",
        "colab": {}
      },
      "source": [
        "import numpy as np\n",
        "import matplotlib.pyplot as plt\n",
        "\n",
        "# TensorFlow and tf.keras\n",
        "import tensorflow as tf\n",
        "from tensorflow import keras\n",
        "\n",
        "import requests\n",
        "import io"
      ],
      "execution_count": 0,
      "outputs": []
    },
    {
      "cell_type": "markdown",
      "metadata": {
        "id": "vPUjDX8ABoGc",
        "colab_type": "text"
      },
      "source": [
        "## Farsi Hand-written digits classification"
      ]
    },
    {
      "cell_type": "code",
      "metadata": {
        "id": "FE54NJdSXplU",
        "colab_type": "code",
        "colab": {}
      },
      "source": [
        "'''\n",
        "Let's import the Farsi digits (your assignment)\n",
        "'''\n",
        "\n",
        "url = 'https://raw.githubusercontent.com/sraeisi/MachineLearning_Physics/master/Assignments/A3/X.npz'\n",
        "s=requests.get(url, stream=True).content\n",
        "X = np.load(io.BytesIO(s) )['arr_0']\n",
        "url = 'https://raw.githubusercontent.com/sraeisi/MachineLearning_Physics/master/Assignments/A3/Y.npz'\n",
        "s=requests.get(url, stream=True).content\n",
        "Y = np.load(io.BytesIO(s) )['arr_0']\n",
        "\n",
        "from sklearn.utils import shuffle\n",
        "X, Y = shuffle(X,Y, random_state = 0 )"
      ],
      "execution_count": 0,
      "outputs": []
    },
    {
      "cell_type": "code",
      "metadata": {
        "id": "ldLimT4BXqVg",
        "colab_type": "code",
        "outputId": "c09b4586-0ce1-4422-8fc8-2c77a864cc4b",
        "colab": {
          "base_uri": "https://localhost:8080/",
          "height": 35
        }
      },
      "source": [
        "print('Each image is of the form: {}'.format(X[0].shape ) )"
      ],
      "execution_count": 4,
      "outputs": [
        {
          "output_type": "stream",
          "text": [
            "Each image is of the form: (32, 32)\n"
          ],
          "name": "stdout"
        }
      ]
    },
    {
      "cell_type": "code",
      "metadata": {
        "id": "FwIhgVtTvgBW",
        "colab_type": "code",
        "colab": {}
      },
      "source": [
        "n_w, n_h = X[0].shape"
      ],
      "execution_count": 0,
      "outputs": []
    },
    {
      "cell_type": "code",
      "metadata": {
        "id": "WSXG5PFOXtQC",
        "colab_type": "code",
        "outputId": "75780946-b5a2-4e93-ea41-8ede75df905e",
        "colab": {
          "base_uri": "https://localhost:8080/",
          "height": 315
        }
      },
      "source": [
        "# model = keras.Sequential([\n",
        "#     keras.layers.Flatten(input_shape=(32, 32)),\n",
        "#     keras.layers.Dense(128, activation=tf.nn.relu),\n",
        "#     keras.layers.Dense(10, activation=tf.nn.softmax)\n",
        "# ])\n",
        "\n",
        "from keras import layers\n",
        "from keras import models\n",
        "\n",
        "model = models.Sequential()\n",
        "model.add(layers.Flatten(input_shape=(n_w , n_h) ))\n",
        "model.add(layers.Dense(128, activation='relu'))\n",
        "model.add(layers.Dense(10, activation='softmax'))\n",
        "\n",
        "model.summary()\n"
      ],
      "execution_count": 7,
      "outputs": [
        {
          "output_type": "stream",
          "text": [
            "WARNING:tensorflow:From /usr/local/lib/python3.6/dist-packages/tensorflow/python/framework/op_def_library.py:263: colocate_with (from tensorflow.python.framework.ops) is deprecated and will be removed in a future version.\n",
            "Instructions for updating:\n",
            "Colocations handled automatically by placer.\n",
            "_________________________________________________________________\n",
            "Layer (type)                 Output Shape              Param #   \n",
            "=================================================================\n",
            "flatten_1 (Flatten)          (None, 1024)              0         \n",
            "_________________________________________________________________\n",
            "dense_1 (Dense)              (None, 128)               131200    \n",
            "_________________________________________________________________\n",
            "dense_2 (Dense)              (None, 10)                1290      \n",
            "=================================================================\n",
            "Total params: 132,490\n",
            "Trainable params: 132,490\n",
            "Non-trainable params: 0\n",
            "_________________________________________________________________\n"
          ],
          "name": "stdout"
        }
      ]
    },
    {
      "cell_type": "code",
      "metadata": {
        "id": "FyNX5FJRXx9V",
        "colab_type": "code",
        "colab": {}
      },
      "source": [
        "from sklearn.model_selection import train_test_split\n",
        "from sklearn.metrics import confusion_matrix\n",
        "\n",
        "X_train, X_test, Y_train, Y_test = train_test_split(X, Y, random_state=0)"
      ],
      "execution_count": 0,
      "outputs": []
    },
    {
      "cell_type": "code",
      "metadata": {
        "id": "RPYBp6g9Xy23",
        "colab_type": "code",
        "outputId": "dfb58db6-58b8-4a7e-afdc-1ab6ba625e5f",
        "colab": {
          "base_uri": "https://localhost:8080/",
          "height": 280
        }
      },
      "source": [
        "model.compile(optimizer='adam', \n",
        "              loss='sparse_categorical_crossentropy',\n",
        "              metrics=['accuracy'])\n",
        "\n",
        "history = model.fit(X_train,Y_train, \n",
        "                    epochs=5, batch_size = 64, \n",
        "                   validation_data = (X_test, Y_test))"
      ],
      "execution_count": 9,
      "outputs": [
        {
          "output_type": "stream",
          "text": [
            "WARNING:tensorflow:From /usr/local/lib/python3.6/dist-packages/tensorflow/python/ops/math_ops.py:3066: to_int32 (from tensorflow.python.ops.math_ops) is deprecated and will be removed in a future version.\n",
            "Instructions for updating:\n",
            "Use tf.cast instead.\n",
            "Train on 76764 samples, validate on 25588 samples\n",
            "Epoch 1/5\n",
            "76764/76764 [==============================] - 6s 83us/step - loss: 0.1518 - acc: 0.9562 - val_loss: 0.0819 - val_acc: 0.9759\n",
            "Epoch 2/5\n",
            "76764/76764 [==============================] - 4s 46us/step - loss: 0.0568 - acc: 0.9834 - val_loss: 0.0640 - val_acc: 0.9805\n",
            "Epoch 3/5\n",
            "76764/76764 [==============================] - 4s 46us/step - loss: 0.0359 - acc: 0.9895 - val_loss: 0.0560 - val_acc: 0.9825\n",
            "Epoch 4/5\n",
            "76764/76764 [==============================] - 4s 50us/step - loss: 0.0256 - acc: 0.9919 - val_loss: 0.0499 - val_acc: 0.9855\n",
            "Epoch 5/5\n",
            "76764/76764 [==============================] - 4s 52us/step - loss: 0.0174 - acc: 0.9947 - val_loss: 0.0531 - val_acc: 0.9845\n"
          ],
          "name": "stdout"
        }
      ]
    },
    {
      "cell_type": "code",
      "metadata": {
        "id": "soJviX78X19-",
        "colab_type": "code",
        "outputId": "97668ab3-1004-4151-97c2-f2817b7270e7",
        "colab": {
          "base_uri": "https://localhost:8080/",
          "height": 191
        }
      },
      "source": [
        "Y_predicted = np.argmax( model.predict(X_test) , axis=1 )\n",
        "cm = confusion_matrix(Y_test, Y_predicted)\n",
        "print(cm)"
      ],
      "execution_count": 10,
      "outputs": [
        {
          "output_type": "stream",
          "text": [
            "[[2522    0    0    0    0   12    1    1    0    0]\n",
            " [   1 2505    0    0    1    0    4    0    0    0]\n",
            " [   2    8 2425   37    9    0   16    2    0    1]\n",
            " [   0    0   37 2465   39    1    2    0    0    0]\n",
            " [   3    4   12   29 2615   12   10    5    2    0]\n",
            " [   4    1    1    1    1 2481    3    1    4    0]\n",
            " [   1    2    1    0    1    1 2590    3    0    9]\n",
            " [   2    3    4    0    3    3    9 2584    0    0]\n",
            " [   0    5    0    1    1    1    5    1 2526    8]\n",
            " [   0    9    0    0    2    0   48    0    7 2478]]\n"
          ],
          "name": "stdout"
        }
      ]
    },
    {
      "cell_type": "markdown",
      "metadata": {
        "id": "RqfxR2sWVCW6",
        "colab_type": "text"
      },
      "source": [
        "## Convnet"
      ]
    },
    {
      "cell_type": "code",
      "metadata": {
        "id": "TK3q5d4RVXqx",
        "colab_type": "code",
        "outputId": "e8387a0c-1d33-4eaf-88ba-12a452e442b6",
        "colab": {
          "base_uri": "https://localhost:8080/",
          "height": 34
        }
      },
      "source": [
        "X_train[0].shape"
      ],
      "execution_count": 0,
      "outputs": [
        {
          "output_type": "execute_result",
          "data": {
            "text/plain": [
              "(32, 32)"
            ]
          },
          "metadata": {
            "tags": []
          },
          "execution_count": 10
        }
      ]
    },
    {
      "cell_type": "code",
      "metadata": {
        "id": "YANB90b-VFEl",
        "colab_type": "code",
        "outputId": "316a6ab9-110d-486c-e0f4-f35b7cf3510a",
        "colab": {
          "base_uri": "https://localhost:8080/",
          "height": 442
        }
      },
      "source": [
        "n_w , n_h = X[0].shape\n",
        "from keras import layers\n",
        "from keras import models\n",
        "\n",
        "model = models.Sequential()\n",
        "\n",
        "model.add(layers.Conv2D(16, (3, 3), activation='relu', input_shape=(n_w , n_h, 1)))\n",
        "model.add(layers.MaxPooling2D((2, 2)))\n",
        "\n",
        "model.add(layers.Conv2D(32, (3, 3), activation='relu'))\n",
        "model.add(layers.MaxPooling2D((2, 2)))\n",
        "\n",
        "model.add(layers.Conv2D(64, (3, 3), activation='relu'))\n",
        "model.add(layers.MaxPooling2D((2, 2)))\n",
        "\n",
        "model.add(layers.Flatten())\n",
        "\n",
        "model.add(layers.Dense(64, activation='relu'))\n",
        "model.add(layers.Dense(10, activation='softmax'))\n",
        "\n",
        "model.summary()"
      ],
      "execution_count": 11,
      "outputs": [
        {
          "output_type": "stream",
          "text": [
            "_________________________________________________________________\n",
            "Layer (type)                 Output Shape              Param #   \n",
            "=================================================================\n",
            "conv2d_1 (Conv2D)            (None, 30, 30, 16)        160       \n",
            "_________________________________________________________________\n",
            "max_pooling2d_1 (MaxPooling2 (None, 15, 15, 16)        0         \n",
            "_________________________________________________________________\n",
            "conv2d_2 (Conv2D)            (None, 13, 13, 32)        4640      \n",
            "_________________________________________________________________\n",
            "max_pooling2d_2 (MaxPooling2 (None, 6, 6, 32)          0         \n",
            "_________________________________________________________________\n",
            "conv2d_3 (Conv2D)            (None, 4, 4, 64)          18496     \n",
            "_________________________________________________________________\n",
            "max_pooling2d_3 (MaxPooling2 (None, 2, 2, 64)          0         \n",
            "_________________________________________________________________\n",
            "flatten_2 (Flatten)          (None, 256)               0         \n",
            "_________________________________________________________________\n",
            "dense_3 (Dense)              (None, 64)                16448     \n",
            "_________________________________________________________________\n",
            "dense_4 (Dense)              (None, 10)                650       \n",
            "=================================================================\n",
            "Total params: 40,394\n",
            "Trainable params: 40,394\n",
            "Non-trainable params: 0\n",
            "_________________________________________________________________\n"
          ],
          "name": "stdout"
        }
      ]
    },
    {
      "cell_type": "code",
      "metadata": {
        "id": "LYen5XkbVFHr",
        "colab_type": "code",
        "outputId": "fceee463-01b1-46f7-c8c2-5795d4970b47",
        "colab": {
          "base_uri": "https://localhost:8080/",
          "height": 204
        }
      },
      "source": [
        "model.compile(optimizer='adam', \n",
        "              loss='sparse_categorical_crossentropy',\n",
        "              metrics=['accuracy'])\n",
        "\n",
        "X_train = X_train.reshape(-1, n_w, n_h, 1)\n",
        "X_test = X_test.reshape(-1, n_w, n_h, 1)\n",
        "\n",
        "history = model.fit(X_train,Y_train, \n",
        "                    epochs=5, batch_size = 64, \n",
        "                   validation_data = (X_test, Y_test))"
      ],
      "execution_count": 13,
      "outputs": [
        {
          "output_type": "stream",
          "text": [
            "Train on 76764 samples, validate on 25588 samples\n",
            "Epoch 1/5\n",
            "76764/76764 [==============================] - 9s 117us/step - loss: 0.1501 - acc: 0.9534 - val_loss: 0.0490 - val_acc: 0.9844\n",
            "Epoch 2/5\n",
            "76764/76764 [==============================] - 6s 76us/step - loss: 0.0348 - acc: 0.9888 - val_loss: 0.0296 - val_acc: 0.9905\n",
            "Epoch 3/5\n",
            "76764/76764 [==============================] - 6s 80us/step - loss: 0.0244 - acc: 0.9923 - val_loss: 0.0313 - val_acc: 0.9898\n",
            "Epoch 4/5\n",
            "76764/76764 [==============================] - 6s 77us/step - loss: 0.0180 - acc: 0.9942 - val_loss: 0.0197 - val_acc: 0.9944\n",
            "Epoch 5/5\n",
            "76764/76764 [==============================] - 6s 74us/step - loss: 0.0144 - acc: 0.9952 - val_loss: 0.0171 - val_acc: 0.9947\n"
          ],
          "name": "stdout"
        }
      ]
    },
    {
      "cell_type": "code",
      "metadata": {
        "id": "QHxKv5_wVFKQ",
        "colab_type": "code",
        "outputId": "e0eb7af0-4742-4d4c-f148-8863b134ef1b",
        "colab": {
          "base_uri": "https://localhost:8080/",
          "height": 187
        }
      },
      "source": [
        "Y_predicted = np.argmax( model.predict(X_test ), axis=1 )\n",
        "cm = confusion_matrix(Y_test, Y_predicted)\n",
        "print(cm)"
      ],
      "execution_count": 14,
      "outputs": [
        {
          "output_type": "stream",
          "text": [
            "[[2519    1    0    0    0   15    0    1    0    0]\n",
            " [   0 2509    2    0    0    0    0    0    0    0]\n",
            " [   1    1 2492    2    3    0    1    0    0    0]\n",
            " [   0    0   27 2503   12    1    1    0    0    0]\n",
            " [   0    0   10    6 2670    1    5    0    0    0]\n",
            " [   2    0    0    0    0 2492    3    0    0    0]\n",
            " [   0    1    0    0    1    1 2597    1    0    7]\n",
            " [   0    1    3    0    1    0    1 2602    0    0]\n",
            " [   0    4    0    0    0    0    0    0 2544    0]\n",
            " [   0    5    0    0    1    0   12    0    1 2525]]\n"
          ],
          "name": "stdout"
        }
      ]
    },
    {
      "cell_type": "code",
      "metadata": {
        "id": "6e1cmJetbSqj",
        "colab_type": "code",
        "colab": {}
      },
      "source": [
        "'''Implement LeNet-5'''"
      ],
      "execution_count": 0,
      "outputs": []
    }
  ]
}