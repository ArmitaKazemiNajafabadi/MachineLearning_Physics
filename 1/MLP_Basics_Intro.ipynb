{
  "nbformat": 4,
  "nbformat_minor": 0,
  "metadata": {
    "colab": {
      "name": "MLP_lec1_Basics_Regression.ipynb",
      "provenance": [],
      "collapsed_sections": [
        "1gyfloy9BVjG"
      ],
      "include_colab_link": true
    },
    "kernelspec": {
      "display_name": "Python 3",
      "language": "python",
      "name": "python3"
    },
    "widgets": {
      "application/vnd.jupyter.widget-state+json": {
        "0c4826b3c8e24774b53e27ad4e0510a6": {
          "model_module": "@jupyter-widgets/controls",
          "model_name": "VBoxModel",
          "model_module_version": "1.5.0",
          "state": {
            "_view_name": "VBoxView",
            "_dom_classes": [
              "widget-interact"
            ],
            "_model_name": "VBoxModel",
            "_view_module": "@jupyter-widgets/controls",
            "_model_module_version": "1.5.0",
            "_view_count": null,
            "_view_module_version": "1.5.0",
            "box_style": "",
            "layout": "IPY_MODEL_ffd71078c811413787f5f7aa0def4bab",
            "_model_module": "@jupyter-widgets/controls",
            "children": [
              "IPY_MODEL_9dbb71ea6b5f4217b8c5ce38761aaeaa",
              "IPY_MODEL_2ba92bab74fe46a5a748d2cb8471363c"
            ]
          }
        },
        "ffd71078c811413787f5f7aa0def4bab": {
          "model_module": "@jupyter-widgets/base",
          "model_name": "LayoutModel",
          "model_module_version": "1.2.0",
          "state": {
            "_view_name": "LayoutView",
            "grid_template_rows": null,
            "right": null,
            "justify_content": null,
            "_view_module": "@jupyter-widgets/base",
            "overflow": null,
            "_model_module_version": "1.2.0",
            "_view_count": null,
            "flex_flow": null,
            "width": null,
            "min_width": null,
            "border": null,
            "align_items": null,
            "bottom": null,
            "_model_module": "@jupyter-widgets/base",
            "top": null,
            "grid_column": null,
            "overflow_y": null,
            "overflow_x": null,
            "grid_auto_flow": null,
            "grid_area": null,
            "grid_template_columns": null,
            "flex": null,
            "_model_name": "LayoutModel",
            "justify_items": null,
            "grid_row": null,
            "max_height": null,
            "align_content": null,
            "visibility": null,
            "align_self": null,
            "height": null,
            "min_height": null,
            "padding": null,
            "grid_auto_rows": null,
            "grid_gap": null,
            "max_width": null,
            "order": null,
            "_view_module_version": "1.2.0",
            "grid_template_areas": null,
            "object_position": null,
            "object_fit": null,
            "grid_auto_columns": null,
            "margin": null,
            "display": null,
            "left": null
          }
        },
        "9dbb71ea6b5f4217b8c5ce38761aaeaa": {
          "model_module": "@jupyter-widgets/controls",
          "model_name": "FloatSliderModel",
          "model_module_version": "1.5.0",
          "state": {
            "_view_name": "FloatSliderView",
            "style": "IPY_MODEL_bd4838712c684b7c9d1e59fda81e3f1c",
            "_dom_classes": [],
            "description": "w",
            "step": 0.0001,
            "_model_name": "FloatSliderModel",
            "orientation": "horizontal",
            "max": 0.05,
            "_view_module": "@jupyter-widgets/controls",
            "_model_module_version": "1.5.0",
            "value": 0.05,
            "_view_count": null,
            "disabled": false,
            "_view_module_version": "1.5.0",
            "min": 0,
            "continuous_update": true,
            "readout_format": ".2f",
            "description_tooltip": null,
            "readout": true,
            "_model_module": "@jupyter-widgets/controls",
            "layout": "IPY_MODEL_f89455f57d4a4dfaa63eea559b679ffc"
          }
        },
        "2ba92bab74fe46a5a748d2cb8471363c": {
          "model_module": "@jupyter-widgets/output",
          "model_name": "OutputModel",
          "model_module_version": "1.0.0",
          "state": {
            "_view_name": "OutputView",
            "msg_id": "",
            "_dom_classes": [],
            "_model_name": "OutputModel",
            "outputs": [
              {
                "output_type": "display_data",
                "data": {
                  "image/png": "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\n",
                  "text/plain": "<Figure size 720x360 with 1 Axes>"
                },
                "metadata": {}
              }
            ],
            "_view_module": "@jupyter-widgets/output",
            "_model_module_version": "1.0.0",
            "_view_count": null,
            "_view_module_version": "1.0.0",
            "layout": "IPY_MODEL_c9290eafca194317bda3fea5cf610351",
            "_model_module": "@jupyter-widgets/output"
          }
        },
        "bd4838712c684b7c9d1e59fda81e3f1c": {
          "model_module": "@jupyter-widgets/controls",
          "model_name": "SliderStyleModel",
          "model_module_version": "1.5.0",
          "state": {
            "_view_name": "StyleView",
            "handle_color": null,
            "_model_name": "SliderStyleModel",
            "description_width": "",
            "_view_module": "@jupyter-widgets/base",
            "_model_module_version": "1.5.0",
            "_view_count": null,
            "_view_module_version": "1.2.0",
            "_model_module": "@jupyter-widgets/controls"
          }
        },
        "f89455f57d4a4dfaa63eea559b679ffc": {
          "model_module": "@jupyter-widgets/base",
          "model_name": "LayoutModel",
          "model_module_version": "1.2.0",
          "state": {
            "_view_name": "LayoutView",
            "grid_template_rows": null,
            "right": null,
            "justify_content": null,
            "_view_module": "@jupyter-widgets/base",
            "overflow": null,
            "_model_module_version": "1.2.0",
            "_view_count": null,
            "flex_flow": null,
            "width": null,
            "min_width": null,
            "border": null,
            "align_items": null,
            "bottom": null,
            "_model_module": "@jupyter-widgets/base",
            "top": null,
            "grid_column": null,
            "overflow_y": null,
            "overflow_x": null,
            "grid_auto_flow": null,
            "grid_area": null,
            "grid_template_columns": null,
            "flex": null,
            "_model_name": "LayoutModel",
            "justify_items": null,
            "grid_row": null,
            "max_height": null,
            "align_content": null,
            "visibility": null,
            "align_self": null,
            "height": null,
            "min_height": null,
            "padding": null,
            "grid_auto_rows": null,
            "grid_gap": null,
            "max_width": null,
            "order": null,
            "_view_module_version": "1.2.0",
            "grid_template_areas": null,
            "object_position": null,
            "object_fit": null,
            "grid_auto_columns": null,
            "margin": null,
            "display": null,
            "left": null
          }
        },
        "c9290eafca194317bda3fea5cf610351": {
          "model_module": "@jupyter-widgets/base",
          "model_name": "LayoutModel",
          "model_module_version": "1.2.0",
          "state": {
            "_view_name": "LayoutView",
            "grid_template_rows": null,
            "right": null,
            "justify_content": null,
            "_view_module": "@jupyter-widgets/base",
            "overflow": null,
            "_model_module_version": "1.2.0",
            "_view_count": null,
            "flex_flow": null,
            "width": null,
            "min_width": null,
            "border": null,
            "align_items": null,
            "bottom": null,
            "_model_module": "@jupyter-widgets/base",
            "top": null,
            "grid_column": null,
            "overflow_y": null,
            "overflow_x": null,
            "grid_auto_flow": null,
            "grid_area": null,
            "grid_template_columns": null,
            "flex": null,
            "_model_name": "LayoutModel",
            "justify_items": null,
            "grid_row": null,
            "max_height": null,
            "align_content": null,
            "visibility": null,
            "align_self": null,
            "height": null,
            "min_height": null,
            "padding": null,
            "grid_auto_rows": null,
            "grid_gap": null,
            "max_width": null,
            "order": null,
            "_view_module_version": "1.2.0",
            "grid_template_areas": null,
            "object_position": null,
            "object_fit": null,
            "grid_auto_columns": null,
            "margin": null,
            "display": null,
            "left": null
          }
        },
        "f9e55f9a634c4d55bb6b63d64f3c75ed": {
          "model_module": "@jupyter-widgets/controls",
          "model_name": "VBoxModel",
          "model_module_version": "1.5.0",
          "state": {
            "_view_name": "VBoxView",
            "_dom_classes": [
              "widget-interact"
            ],
            "_model_name": "VBoxModel",
            "_view_module": "@jupyter-widgets/controls",
            "_model_module_version": "1.5.0",
            "_view_count": null,
            "_view_module_version": "1.5.0",
            "box_style": "",
            "layout": "IPY_MODEL_4e04b3cb8ea34824993e015b7ad98485",
            "_model_module": "@jupyter-widgets/controls",
            "children": [
              "IPY_MODEL_dc0dad4ae39c46759ec102f2e6ac7d89",
              "IPY_MODEL_a7d2c014387842f8b999be13b68cf3c7",
              "IPY_MODEL_7570447d16f24557a76390627657ec69"
            ]
          }
        },
        "4e04b3cb8ea34824993e015b7ad98485": {
          "model_module": "@jupyter-widgets/base",
          "model_name": "LayoutModel",
          "model_module_version": "1.2.0",
          "state": {
            "_view_name": "LayoutView",
            "grid_template_rows": null,
            "right": null,
            "justify_content": null,
            "_view_module": "@jupyter-widgets/base",
            "overflow": null,
            "_model_module_version": "1.2.0",
            "_view_count": null,
            "flex_flow": null,
            "width": null,
            "min_width": null,
            "border": null,
            "align_items": null,
            "bottom": null,
            "_model_module": "@jupyter-widgets/base",
            "top": null,
            "grid_column": null,
            "overflow_y": null,
            "overflow_x": null,
            "grid_auto_flow": null,
            "grid_area": null,
            "grid_template_columns": null,
            "flex": null,
            "_model_name": "LayoutModel",
            "justify_items": null,
            "grid_row": null,
            "max_height": null,
            "align_content": null,
            "visibility": null,
            "align_self": null,
            "height": null,
            "min_height": null,
            "padding": null,
            "grid_auto_rows": null,
            "grid_gap": null,
            "max_width": null,
            "order": null,
            "_view_module_version": "1.2.0",
            "grid_template_areas": null,
            "object_position": null,
            "object_fit": null,
            "grid_auto_columns": null,
            "margin": null,
            "display": null,
            "left": null
          }
        },
        "dc0dad4ae39c46759ec102f2e6ac7d89": {
          "model_module": "@jupyter-widgets/controls",
          "model_name": "FloatSliderModel",
          "model_module_version": "1.5.0",
          "state": {
            "_view_name": "FloatSliderView",
            "style": "IPY_MODEL_8b76d92df2e64b7185bdf4df820fb0cd",
            "_dom_classes": [],
            "description": "w",
            "step": 0.0001,
            "_model_name": "FloatSliderModel",
            "orientation": "horizontal",
            "max": 0.05,
            "_view_module": "@jupyter-widgets/controls",
            "_model_module_version": "1.5.0",
            "value": 0,
            "_view_count": null,
            "disabled": false,
            "_view_module_version": "1.5.0",
            "min": 0,
            "continuous_update": true,
            "readout_format": ".2f",
            "description_tooltip": null,
            "readout": true,
            "_model_module": "@jupyter-widgets/controls",
            "layout": "IPY_MODEL_be6723e8fd734275a6589e27c82f38e2"
          }
        },
        "a7d2c014387842f8b999be13b68cf3c7": {
          "model_module": "@jupyter-widgets/controls",
          "model_name": "FloatSliderModel",
          "model_module_version": "1.5.0",
          "state": {
            "_view_name": "FloatSliderView",
            "style": "IPY_MODEL_e63f29b66b3d48639888621dc67d9b0c",
            "_dom_classes": [],
            "description": "b",
            "step": 0.0001,
            "_model_name": "FloatSliderModel",
            "orientation": "horizontal",
            "max": 1,
            "_view_module": "@jupyter-widgets/controls",
            "_model_module_version": "1.5.0",
            "value": 0,
            "_view_count": null,
            "disabled": false,
            "_view_module_version": "1.5.0",
            "min": -1,
            "continuous_update": true,
            "readout_format": ".2f",
            "description_tooltip": null,
            "readout": true,
            "_model_module": "@jupyter-widgets/controls",
            "layout": "IPY_MODEL_b71a51762de74eb38dbc3736a92ed4fe"
          }
        },
        "7570447d16f24557a76390627657ec69": {
          "model_module": "@jupyter-widgets/output",
          "model_name": "OutputModel",
          "model_module_version": "1.0.0",
          "state": {
            "_view_name": "OutputView",
            "msg_id": "",
            "_dom_classes": [],
            "_model_name": "OutputModel",
            "outputs": [
              {
                "output_type": "display_data",
                "metadata": {
                  "tags": []
                },
                "image/png": "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\n",
                "text/plain": "<Figure size 576x288 with 1 Axes>"
              }
            ],
            "_view_module": "@jupyter-widgets/output",
            "_model_module_version": "1.0.0",
            "_view_count": null,
            "_view_module_version": "1.0.0",
            "layout": "IPY_MODEL_300e9e09d1454856a714fc016503481c",
            "_model_module": "@jupyter-widgets/output"
          }
        },
        "8b76d92df2e64b7185bdf4df820fb0cd": {
          "model_module": "@jupyter-widgets/controls",
          "model_name": "SliderStyleModel",
          "model_module_version": "1.5.0",
          "state": {
            "_view_name": "StyleView",
            "handle_color": null,
            "_model_name": "SliderStyleModel",
            "description_width": "",
            "_view_module": "@jupyter-widgets/base",
            "_model_module_version": "1.5.0",
            "_view_count": null,
            "_view_module_version": "1.2.0",
            "_model_module": "@jupyter-widgets/controls"
          }
        },
        "be6723e8fd734275a6589e27c82f38e2": {
          "model_module": "@jupyter-widgets/base",
          "model_name": "LayoutModel",
          "model_module_version": "1.2.0",
          "state": {
            "_view_name": "LayoutView",
            "grid_template_rows": null,
            "right": null,
            "justify_content": null,
            "_view_module": "@jupyter-widgets/base",
            "overflow": null,
            "_model_module_version": "1.2.0",
            "_view_count": null,
            "flex_flow": null,
            "width": null,
            "min_width": null,
            "border": null,
            "align_items": null,
            "bottom": null,
            "_model_module": "@jupyter-widgets/base",
            "top": null,
            "grid_column": null,
            "overflow_y": null,
            "overflow_x": null,
            "grid_auto_flow": null,
            "grid_area": null,
            "grid_template_columns": null,
            "flex": null,
            "_model_name": "LayoutModel",
            "justify_items": null,
            "grid_row": null,
            "max_height": null,
            "align_content": null,
            "visibility": null,
            "align_self": null,
            "height": null,
            "min_height": null,
            "padding": null,
            "grid_auto_rows": null,
            "grid_gap": null,
            "max_width": null,
            "order": null,
            "_view_module_version": "1.2.0",
            "grid_template_areas": null,
            "object_position": null,
            "object_fit": null,
            "grid_auto_columns": null,
            "margin": null,
            "display": null,
            "left": null
          }
        },
        "e63f29b66b3d48639888621dc67d9b0c": {
          "model_module": "@jupyter-widgets/controls",
          "model_name": "SliderStyleModel",
          "model_module_version": "1.5.0",
          "state": {
            "_view_name": "StyleView",
            "handle_color": null,
            "_model_name": "SliderStyleModel",
            "description_width": "",
            "_view_module": "@jupyter-widgets/base",
            "_model_module_version": "1.5.0",
            "_view_count": null,
            "_view_module_version": "1.2.0",
            "_model_module": "@jupyter-widgets/controls"
          }
        },
        "b71a51762de74eb38dbc3736a92ed4fe": {
          "model_module": "@jupyter-widgets/base",
          "model_name": "LayoutModel",
          "model_module_version": "1.2.0",
          "state": {
            "_view_name": "LayoutView",
            "grid_template_rows": null,
            "right": null,
            "justify_content": null,
            "_view_module": "@jupyter-widgets/base",
            "overflow": null,
            "_model_module_version": "1.2.0",
            "_view_count": null,
            "flex_flow": null,
            "width": null,
            "min_width": null,
            "border": null,
            "align_items": null,
            "bottom": null,
            "_model_module": "@jupyter-widgets/base",
            "top": null,
            "grid_column": null,
            "overflow_y": null,
            "overflow_x": null,
            "grid_auto_flow": null,
            "grid_area": null,
            "grid_template_columns": null,
            "flex": null,
            "_model_name": "LayoutModel",
            "justify_items": null,
            "grid_row": null,
            "max_height": null,
            "align_content": null,
            "visibility": null,
            "align_self": null,
            "height": null,
            "min_height": null,
            "padding": null,
            "grid_auto_rows": null,
            "grid_gap": null,
            "max_width": null,
            "order": null,
            "_view_module_version": "1.2.0",
            "grid_template_areas": null,
            "object_position": null,
            "object_fit": null,
            "grid_auto_columns": null,
            "margin": null,
            "display": null,
            "left": null
          }
        },
        "300e9e09d1454856a714fc016503481c": {
          "model_module": "@jupyter-widgets/base",
          "model_name": "LayoutModel",
          "model_module_version": "1.2.0",
          "state": {
            "_view_name": "LayoutView",
            "grid_template_rows": null,
            "right": null,
            "justify_content": null,
            "_view_module": "@jupyter-widgets/base",
            "overflow": null,
            "_model_module_version": "1.2.0",
            "_view_count": null,
            "flex_flow": null,
            "width": null,
            "min_width": null,
            "border": null,
            "align_items": null,
            "bottom": null,
            "_model_module": "@jupyter-widgets/base",
            "top": null,
            "grid_column": null,
            "overflow_y": null,
            "overflow_x": null,
            "grid_auto_flow": null,
            "grid_area": null,
            "grid_template_columns": null,
            "flex": null,
            "_model_name": "LayoutModel",
            "justify_items": null,
            "grid_row": null,
            "max_height": null,
            "align_content": null,
            "visibility": null,
            "align_self": null,
            "height": null,
            "min_height": null,
            "padding": null,
            "grid_auto_rows": null,
            "grid_gap": null,
            "max_width": null,
            "order": null,
            "_view_module_version": "1.2.0",
            "grid_template_areas": null,
            "object_position": null,
            "object_fit": null,
            "grid_auto_columns": null,
            "margin": null,
            "display": null,
            "left": null
          }
        }
      }
    }
  },
  "cells": [
    {
      "cell_type": "markdown",
      "metadata": {
        "id": "view-in-github",
        "colab_type": "text"
      },
      "source": [
        "<a href=\"https://colab.research.google.com/github/sraeisi/MachineLearning_Physics/blob/master/1/MLP_Basics_Intro.ipynb\" target=\"_parent\"><img src=\"https://colab.research.google.com/assets/colab-badge.svg\" alt=\"Open In Colab\"/></a>"
      ]
    },
    {
      "cell_type": "markdown",
      "metadata": {
        "id": "9LF5jKQTBViw"
      },
      "source": [
        "Lecture 1, 2: Introduction\n",
        "======\n",
        "\n",
        "\n",
        "\n",
        "*   What is Machine Learning?\n",
        "*   Unsupervised ML vs Supervised ML\n",
        "*   Introduction to Supervised ML\n",
        "\n"
      ]
    },
    {
      "cell_type": "markdown",
      "metadata": {
        "id": "Jh0Fb3qAaEkS"
      },
      "source": [
        "## Preliminaries"
      ]
    },
    {
      "cell_type": "code",
      "metadata": {
        "id": "Mgcv9i0PaEkW"
      },
      "source": [
        "import numpy as np\n",
        "import pandas as pd\n",
        "import matplotlib.pyplot as plt\n",
        "plt.style.use('seaborn-talk')\n",
        "\n",
        "import seaborn as sns\n",
        "\n",
        "\n",
        "import warnings\n",
        "warnings.filterwarnings('ignore')\n",
        "\n",
        "import requests, io"
      ],
      "execution_count": 1,
      "outputs": []
    },
    {
      "cell_type": "code",
      "metadata": {
        "id": "fwaL-MKseR3d"
      },
      "source": [
        "'''Set the defaults for your plots.'''\n",
        "# plt.rcParams.update({'font.size': 20, 'figsize':(8,6)})\n",
        "SMALL_SIZE = 12\n",
        "MEDIUM_SIZE = 15\n",
        "BIGGER_SIZE = 18\n",
        "\n",
        "plt.rc('font', size=BIGGER_SIZE)          # controls default text sizes\n",
        "plt.rc('axes', titlesize=MEDIUM_SIZE)     # fontsize of the axes title\n",
        "plt.rc('axes', labelsize=BIGGER_SIZE)    # fontsize of the x and y labels\n",
        "plt.rc('xtick', labelsize=SMALL_SIZE)    # fontsize of the tick labels\n",
        "plt.rc('ytick', labelsize=SMALL_SIZE)    # fontsize of the tick labels\n",
        "plt.rc('legend', fontsize=MEDIUM_SIZE)    # legend fontsize\n",
        "plt.rc('figure', titlesize=BIGGER_SIZE)  # fontsize of the figure title\n",
        "\n",
        "plt.rc('axes', linewidth = 3 )\n",
        "plt.rc('lines', linewidth = 5 )\n",
        "\n",
        "plt.rc('lines', markersize = 10 )\n",
        "\n",
        "plt.rc('figure', figsize=(10,5) )         # Image size"
      ],
      "execution_count": 2,
      "outputs": []
    },
    {
      "cell_type": "markdown",
      "metadata": {
        "id": "k6rYUnkUbp1o"
      },
      "source": [
        "# Unsupervised ML"
      ]
    },
    {
      "cell_type": "markdown",
      "metadata": {
        "id": "z5ebYfSfbux6"
      },
      "source": [
        "## Clustering"
      ]
    },
    {
      "cell_type": "markdown",
      "metadata": {
        "id": "EC5BDMhVbzWm"
      },
      "source": [
        "### Data\n",
        "\n",
        "We first generate some data"
      ]
    },
    {
      "cell_type": "code",
      "metadata": {
        "id": "z7BtTrK9bobE"
      },
      "source": [
        "from sklearn.datasets import make_biclusters\n",
        "X_cls = make_biclusters(shape=(100, 2), n_clusters=2 , noise=10 )[0]"
      ],
      "execution_count": null,
      "outputs": []
    },
    {
      "cell_type": "markdown",
      "metadata": {
        "id": "vHUL8buadecd"
      },
      "source": [
        "### Visualization of a clustering problem"
      ]
    },
    {
      "cell_type": "code",
      "metadata": {
        "colab": {
          "base_uri": "https://localhost:8080/",
          "height": 350
        },
        "id": "SrvNBxBBcYL8",
        "outputId": "a4299567-55ed-4ef3-a274-c078508af741"
      },
      "source": [
        "plt.scatter(*X.T)\n",
        "plt.xlabel('Feature 1')\n",
        "plt.ylabel('Feature 2');"
      ],
      "execution_count": null,
      "outputs": [
        {
          "output_type": "display_data",
          "data": {
            "image/png": "[encoded data removed]",
            "text/plain": [
              "<Figure size 720x360 with 1 Axes>"
            ]
          },
          "metadata": {
            "needs_background": "light"
          }
        }
      ]
    },
    {
      "cell_type": "markdown",
      "metadata": {
        "id": "5fYfzxtLe30I"
      },
      "source": [
        "What do you see in this plot?"
      ]
    },
    {
      "cell_type": "markdown",
      "metadata": {
        "id": "OkY9ZZdEfEPH"
      },
      "source": [
        "### A real example"
      ]
    },
    {
      "cell_type": "code",
      "metadata": {
        "colab": {
          "base_uri": "https://localhost:8080/",
          "height": 346
        },
        "cellView": "form",
        "id": "v3H1kheIdiGY",
        "outputId": "d6c64ad0-3db7-4b1b-90df-f20c0db15572"
      },
      "source": [
        "#@title Data for Particle identification (Binary)\n",
        "\n",
        "\n",
        "url = 'https://raw.githubusercontent.com/sraeisi/Machine_Learning_Physics_Winter20/master/Lec1/particle_mini.npz'\n",
        "s=requests.get(url, stream=True).content\n",
        "data=np.load(io.BytesIO(s) )\n",
        "\n",
        "\n",
        "## If want to run locally\n",
        "# data= np.load('particle_mini.npz')\n",
        "\n",
        "X, Y = data['X'], data['Y']\n",
        "\n",
        "x_label='p'\n",
        "y_label = 'beta'\n",
        "fig = plt.figure(figsize=(8,5))\n",
        "ax = fig.add_subplot(111, xlabel = 'p', ylabel='beta')\n",
        "ax.scatter(X[:,0], X[:,1], \n",
        "           #c= Y , cmap=plt.cm.coolwarm, \n",
        "           s=20)\n",
        "\n",
        "plt.show()"
      ],
      "execution_count": null,
      "outputs": [
        {
          "output_type": "display_data",
          "data": {
            "image/png": "[encoded data removed]",
            "text/plain": [
              "<Figure size 576x360 with 1 Axes>"
            ]
          },
          "metadata": {
            "needs_background": "light"
          }
        }
      ]
    },
    {
      "cell_type": "markdown",
      "metadata": {
        "id": "gn07zmCEfwXk"
      },
      "source": [
        "## Dimensionality reduction"
      ]
    },
    {
      "cell_type": "code",
      "metadata": {
        "colab": {
          "base_uri": "https://localhost:8080/",
          "height": 346
        },
        "cellView": "form",
        "id": "Pit1jA4jgCqJ",
        "outputId": "e217e8f4-059c-433a-efdd-d1d8e0848ab4"
      },
      "source": [
        "#@title Constant velocity motion\n",
        "\n",
        "#@markdown How many degrees of freedom are there? \n",
        "\n",
        "#@markdown Do we need both time and position?\n",
        "\n",
        "v = 5\n",
        "t_list = np.arange(0,10,.5)\n",
        "x_list = v * np.arange(0,10,.5)\n",
        "\n",
        "\n",
        "x_label='Time'\n",
        "y_label = 'Position'\n",
        "fig = plt.figure(figsize=(8,5))\n",
        "ax = fig.add_subplot(111, xlabel = x_label, ylabel=y_label)\n",
        "ax.scatter(t_list, x_list, marker='*',\n",
        "           s=50)\n",
        "\n",
        "plt.show()"
      ],
      "execution_count": null,
      "outputs": [
        {
          "output_type": "display_data",
          "data": {
            "image/png": "[encoded data removed]",
            "text/plain": [
              "<Figure size 576x360 with 1 Axes>"
            ]
          },
          "metadata": {
            "needs_background": "light"
          }
        }
      ]
    },
    {
      "cell_type": "markdown",
      "metadata": {
        "id": "80nmc276hTil"
      },
      "source": [
        "This is a 2D example that can be mapped into 1D (just time). "
      ]
    },
    {
      "cell_type": "markdown",
      "metadata": {
        "id": "40ZUyFK8hYlQ"
      },
      "source": [
        "## Annomoly detection"
      ]
    },
    {
      "cell_type": "code",
      "metadata": {
        "colab": {
          "base_uri": "https://localhost:8080/",
          "height": 346
        },
        "id": "nQxiBPDLiW-G",
        "cellView": "form",
        "outputId": "e1615a24-e21b-46d7-ff86-908a76816bce"
      },
      "source": [
        "#@title Data for Particle identification (Binary)\n",
        "\n",
        "\n",
        "url = 'https://raw.githubusercontent.com/sraeisi/Machine_Learning_Physics_Winter20/master/Lec1/particle_mini.npz'\n",
        "s=requests.get(url, stream=True).content\n",
        "data=np.load(io.BytesIO(s) )\n",
        "\n",
        "\n",
        "## If want to run locally\n",
        "# data= np.load('particle_mini.npz')\n",
        "\n",
        "X, Y = data['X'], data['Y']\n",
        "\n",
        "x_label='p'\n",
        "y_label = 'beta'\n",
        "fig = plt.figure(figsize=(8,5))\n",
        "ax = fig.add_subplot(111, xlabel = 'p', ylabel='beta')\n",
        "ax.scatter(X[Y==1,0], X[Y==1,1], \n",
        "           #c= Y , cmap=plt.cm.coolwarm, \n",
        "           s=20)\n",
        "\n",
        "plt.show()"
      ],
      "execution_count": null,
      "outputs": [
        {
          "output_type": "display_data",
          "data": {
            "image/png": "[encoded data removed]",
            "text/plain": [
              "<Figure size 576x360 with 1 Axes>"
            ]
          },
          "metadata": {
            "needs_background": "light"
          }
        }
      ]
    },
    {
      "cell_type": "code",
      "metadata": {
        "colab": {
          "base_uri": "https://localhost:8080/",
          "height": 346
        },
        "cellView": "form",
        "id": "Lg2uKYZSjIBT",
        "outputId": "d0bfaa7e-1eba-42b1-dbe3-3d697b3a36de"
      },
      "source": [
        "#@title Let's color the outliers \n",
        "\n",
        "from sklearn.covariance import EllipticEnvelope\n",
        "clf = EllipticEnvelope( contamination=.3)\n",
        "clf.fit(X)\n",
        "\n",
        "fig = plt.figure(figsize=(8,5))\n",
        "ax = fig.add_subplot(111, xlabel = 'p', ylabel='beta')\n",
        "ax.scatter(X[Y==1,0], X[Y==1,1], \n",
        "           c= clf.predict(X[Y==1]) , \n",
        "           cmap=plt.cm.coolwarm, \n",
        "           s=20)\n",
        "\n",
        "plt.show()"
      ],
      "execution_count": null,
      "outputs": [
        {
          "output_type": "display_data",
          "data": {
            "image/png": "[encoded data removed]",
            "text/plain": [
              "<Figure size 576x360 with 1 Axes>"
            ]
          },
          "metadata": {
            "needs_background": "light"
          }
        }
      ]
    },
    {
      "cell_type": "markdown",
      "metadata": {
        "id": "Q9BU1r3H2-d4"
      },
      "source": [
        "# Supervised ML"
      ]
    },
    {
      "cell_type": "code",
      "metadata": {
        "colab": {
          "base_uri": "https://localhost:8080/",
          "height": 481
        },
        "id": "6NFysrr1jZ8m",
        "cellView": "form",
        "outputId": "cfe1fcd7-fc62-487d-b081-9da68c41f4da"
      },
      "source": [
        "#@title Black-body radition\n",
        "\n",
        "\n",
        "#####BBR###### \n",
        "## This data is collected from galileo.phys.virginia.edu/classes/252\n",
        "url = \"https://github.com/sraeisi/MachineLearning_Physics/blob/master/Data/bbr.xls?raw=true\"\n",
        "data_bbr = pd.read_excel(url)\n",
        "\n",
        "##Scaling the data\n",
        "data_bbr['T'] = 10**20 * data_bbr['T']\n",
        "data_bbr[0] = 10**(-13) * data_bbr[0]\n",
        "\n",
        "from matplotlib.patches import Rectangle\n",
        "\n",
        "x_label = 'Frequency'\n",
        "y_label = 'Radiation'\n",
        "plt_title = 'Black Body Radiation'\n",
        "fig = plt.figure()\n",
        "ax = fig.add_subplot(111, xlabel=x_label, ylabel=y_label, title=plt_title)\n",
        "ax.scatter(data_bbr[0], data_bbr['T'])\n",
        "ax.add_patch(Rectangle((3.5, 0), 1, 21,\n",
        "            #  edgecolor = 'pink',\n",
        "             facecolor = 'gray',\n",
        "             fill=True,\n",
        "             lw=5))\n",
        "\n",
        "# ax.scatter(data_bbr[0][::n_s_rate], 10**20*data_bbr['T/2'][::n_s_rate])\n",
        "plt.show()"
      ],
      "execution_count": null,
      "outputs": [
        {
          "output_type": "display_data",
          "data": {
            "image/png": "[encoded data removed]",
            "text/plain": [
              "<Figure size 748.8x514.8 with 1 Axes>"
            ]
          },
          "metadata": {
            "needs_background": "light"
          }
        }
      ]
    },
    {
      "cell_type": "markdown",
      "metadata": {
        "id": "F7G6vbJp6y2v"
      },
      "source": [
        "Two types of questions:\n",
        "\n",
        "\n",
        "\n",
        "*   What is the value (radiation) at X (or frequency) = 4?\n",
        "*   How does the radition depend on the frequency? Or what is f in Y = f(X) ?\n",
        "\n"
      ]
    },
    {
      "cell_type": "markdown",
      "metadata": {
        "id": "wIkKtblV-bFV"
      },
      "source": [
        "## Classification"
      ]
    },
    {
      "cell_type": "code",
      "metadata": {
        "colab": {
          "base_uri": "https://localhost:8080/",
          "height": 346
        },
        "id": "o_sLk7XT-dG7",
        "cellView": "form",
        "outputId": "141d6d65-ae66-4665-9e59-552487eda519"
      },
      "source": [
        "#@title Data for Particle identification (Binary)\n",
        "\n",
        "\n",
        "url = 'https://raw.githubusercontent.com/sraeisi/Machine_Learning_Physics_Winter20/master/Lec1/particle_mini.npz'\n",
        "s=requests.get(url, stream=True).content\n",
        "data=np.load(io.BytesIO(s) )\n",
        "\n",
        "\n",
        "## If want to run locally\n",
        "# data= np.load('particle_mini.npz')\n",
        "\n",
        "X, Y = data['X'], data['Y']\n",
        "\n",
        "x_label='p'\n",
        "y_label = 'beta'\n",
        "fig = plt.figure(figsize=(8,5))\n",
        "ax = fig.add_subplot(111, xlabel = 'p', ylabel='beta')\n",
        "ax.scatter(X[:,0], X[:,1], \n",
        "           c= Y , cmap=plt.cm.coolwarm, \n",
        "           s=20, alpha = .3)\n",
        "plt.scatter(1.5,1, c='black',  s=100)\n",
        "plt.show()"
      ],
      "execution_count": null,
      "outputs": [
        {
          "output_type": "display_data",
          "data": {
            "image/png": "[encoded data removed]",
            "text/plain": [
              "<Figure size 576x360 with 1 Axes>"
            ]
          },
          "metadata": {
            "needs_background": "light"
          }
        }
      ]
    },
    {
      "cell_type": "markdown",
      "metadata": {
        "id": "Q6JfuQgRBVkE"
      },
      "source": [
        "# Introduction to Supervised ML\n",
        "\n",
        "Consider the spring example in the notes. \n",
        "Let's see how the actual data would look like. \n"
      ]
    },
    {
      "cell_type": "code",
      "metadata": {
        "id": "o5lst5OZBVoW",
        "colab": {
          "base_uri": "https://localhost:8080/",
          "height": 235
        },
        "outputId": "f4122a12-327c-4bc3-ccbb-753ce42fbb2a"
      },
      "source": [
        "'''This data is taken from lab report of students in Phys_Lab 3.'''\n",
        "\n",
        "import io, requests\n",
        "\n",
        "url = 'https://raw.githubusercontent.com/sraeisi/MachineLearning_Physics/master/Data/Spring.csv'\n",
        "s = requests.get(url).content\n",
        "exp_data = pd.read_csv(io.StringIO(s.decode('utf-8')))\n",
        "\n",
        "\n",
        "exp_data"
      ],
      "execution_count": 3,
      "outputs": [
        {
          "output_type": "execute_result",
          "data": {
            "text/html": [
              "<div>\n",
              "<style scoped>\n",
              "    .dataframe tbody tr th:only-of-type {\n",
              "        vertical-align: middle;\n",
              "    }\n",
              "\n",
              "    .dataframe tbody tr th {\n",
              "        vertical-align: top;\n",
              "    }\n",
              "\n",
              "    .dataframe thead th {\n",
              "        text-align: right;\n",
              "    }\n",
              "</style>\n",
              "<table border=\"1\" class=\"dataframe\">\n",
              "  <thead>\n",
              "    <tr style=\"text-align: right;\">\n",
              "      <th></th>\n",
              "      <th>Displacement</th>\n",
              "      <th>Force</th>\n",
              "    </tr>\n",
              "  </thead>\n",
              "  <tbody>\n",
              "    <tr>\n",
              "      <th>0</th>\n",
              "      <td>11.5</td>\n",
              "      <td>0.0</td>\n",
              "    </tr>\n",
              "    <tr>\n",
              "      <th>1</th>\n",
              "      <td>14.7</td>\n",
              "      <td>0.1</td>\n",
              "    </tr>\n",
              "    <tr>\n",
              "      <th>2</th>\n",
              "      <td>18.0</td>\n",
              "      <td>0.2</td>\n",
              "    </tr>\n",
              "    <tr>\n",
              "      <th>3</th>\n",
              "      <td>21.3</td>\n",
              "      <td>0.3</td>\n",
              "    </tr>\n",
              "    <tr>\n",
              "      <th>4</th>\n",
              "      <td>24.5</td>\n",
              "      <td>0.4</td>\n",
              "    </tr>\n",
              "    <tr>\n",
              "      <th>5</th>\n",
              "      <td>27.6</td>\n",
              "      <td>0.5</td>\n",
              "    </tr>\n",
              "  </tbody>\n",
              "</table>\n",
              "</div>"
            ],
            "text/plain": [
              "   Displacement  Force\n",
              "0          11.5    0.0\n",
              "1          14.7    0.1\n",
              "2          18.0    0.2\n",
              "3          21.3    0.3\n",
              "4          24.5    0.4\n",
              "5          27.6    0.5"
            ]
          },
          "metadata": {},
          "execution_count": 3
        }
      ]
    },
    {
      "cell_type": "code",
      "metadata": {
        "colab": {
          "base_uri": "https://localhost:8080/",
          "height": 367
        },
        "id": "TEQaRcnWFRFI",
        "outputId": "b09bc83a-0b8b-46b5-d2f9-73bc4cb9a80f"
      },
      "source": [
        "sns.scatterplot(data=exp_data, x='Displacement', y='Force')"
      ],
      "execution_count": 4,
      "outputs": [
        {
          "output_type": "execute_result",
          "data": {
            "text/plain": [
              "<matplotlib.axes._subplots.AxesSubplot at 0x7f2c33aac750>"
            ]
          },
          "metadata": {},
          "execution_count": 4
        },
        {
          "output_type": "display_data",
          "data": {
            "image/png": "[encoded data removed]",
            "text/plain": [
              "<Figure size 720x360 with 1 Axes>"
            ]
          },
          "metadata": {
            "needs_background": "light"
          }
        }
      ]
    },
    {
      "cell_type": "code",
      "metadata": {
        "id": "nezrGlCTG0oA"
      },
      "source": [
        "## Build a simple model\n",
        "\n",
        "def model(displacement):\n",
        "  ## design your model here\n",
        "  f= .01*(displacement - 11.5)\n",
        "  return f"
      ],
      "execution_count": 22,
      "outputs": []
    },
    {
      "cell_type": "code",
      "metadata": {
        "colab": {
          "base_uri": "https://localhost:8080/",
          "height": 235
        },
        "id": "gSeLN4pmIcUm",
        "outputId": "a7144803-c99f-4397-fe57-821c653b9172"
      },
      "source": [
        "exp_data['Model_Prediction'] = exp_data.Displacement.apply(model)\n",
        "exp_data"
      ],
      "execution_count": 23,
      "outputs": [
        {
          "output_type": "execute_result",
          "data": {
            "text/html": [
              "<div>\n",
              "<style scoped>\n",
              "    .dataframe tbody tr th:only-of-type {\n",
              "        vertical-align: middle;\n",
              "    }\n",
              "\n",
              "    .dataframe tbody tr th {\n",
              "        vertical-align: top;\n",
              "    }\n",
              "\n",
              "    .dataframe thead th {\n",
              "        text-align: right;\n",
              "    }\n",
              "</style>\n",
              "<table border=\"1\" class=\"dataframe\">\n",
              "  <thead>\n",
              "    <tr style=\"text-align: right;\">\n",
              "      <th></th>\n",
              "      <th>Displacement</th>\n",
              "      <th>Force</th>\n",
              "      <th>Model_Prediction</th>\n",
              "    </tr>\n",
              "  </thead>\n",
              "  <tbody>\n",
              "    <tr>\n",
              "      <th>0</th>\n",
              "      <td>11.5</td>\n",
              "      <td>0.0</td>\n",
              "      <td>0.000</td>\n",
              "    </tr>\n",
              "    <tr>\n",
              "      <th>1</th>\n",
              "      <td>14.7</td>\n",
              "      <td>0.1</td>\n",
              "      <td>0.032</td>\n",
              "    </tr>\n",
              "    <tr>\n",
              "      <th>2</th>\n",
              "      <td>18.0</td>\n",
              "      <td>0.2</td>\n",
              "      <td>0.065</td>\n",
              "    </tr>\n",
              "    <tr>\n",
              "      <th>3</th>\n",
              "      <td>21.3</td>\n",
              "      <td>0.3</td>\n",
              "      <td>0.098</td>\n",
              "    </tr>\n",
              "    <tr>\n",
              "      <th>4</th>\n",
              "      <td>24.5</td>\n",
              "      <td>0.4</td>\n",
              "      <td>0.130</td>\n",
              "    </tr>\n",
              "    <tr>\n",
              "      <th>5</th>\n",
              "      <td>27.6</td>\n",
              "      <td>0.5</td>\n",
              "      <td>0.161</td>\n",
              "    </tr>\n",
              "  </tbody>\n",
              "</table>\n",
              "</div>"
            ],
            "text/plain": [
              "   Displacement  Force  Model_Prediction\n",
              "0          11.5    0.0             0.000\n",
              "1          14.7    0.1             0.032\n",
              "2          18.0    0.2             0.065\n",
              "3          21.3    0.3             0.098\n",
              "4          24.5    0.4             0.130\n",
              "5          27.6    0.5             0.161"
            ]
          },
          "metadata": {},
          "execution_count": 23
        }
      ]
    },
    {
      "cell_type": "code",
      "metadata": {
        "colab": {
          "base_uri": "https://localhost:8080/",
          "height": 368
        },
        "id": "luw80rJpHKOU",
        "outputId": "a7ce8ba7-afe4-4bd6-9a4c-67b7069a6e51"
      },
      "source": [
        "fig = plt.figure()\n",
        "ax = fig.add_subplot(111, xlabel='Displacement', ylabel='Force', title='Force vs Displacement')\n",
        "\n",
        "plt.scatter(exp_data.Displacement, exp_data.Force, label='Real data')\n",
        "plt.plot(exp_data.Displacement, exp_data.Model_Prediction, label='Prediction', c='r')\n",
        "plt.legend(loc=0)\n",
        "plt.show()\n"
      ],
      "execution_count": 24,
      "outputs": [
        {
          "output_type": "display_data",
          "data": {
            "image/png": "[encoded data removed]",
            "text/plain": [
              "<Figure size 720x360 with 1 Axes>"
            ]
          },
          "metadata": {
            "needs_background": "light"
          }
        }
      ]
    },
    {
      "cell_type": "code",
      "metadata": {
        "id": "zKEgg_kbJym8",
        "colab": {
          "base_uri": "https://localhost:8080/"
        },
        "outputId": "ff33417d-9f2e-47e3-f16b-e6b86e25b78e"
      },
      "source": [
        "## Calculate the distance between the prediction and the real data  => Loss\n",
        "\n",
        "def dist(Y, Y_pred):\n",
        "\n",
        "  d = np.sum(np.abs( Y - Y_pred ))  ## replace this with what you think is good for the loss\n",
        "\n",
        "  return d \n",
        "\n",
        "## now calculate the distance between your prediction and the actual force. \n",
        "dist( exp_data.Force , exp_data.Model_Prediction )  "
      ],
      "execution_count": 25,
      "outputs": [
        {
          "output_type": "execute_result",
          "data": {
            "text/plain": [
              "1.014"
            ]
          },
          "metadata": {},
          "execution_count": 25
        }
      ]
    },
    {
      "cell_type": "markdown",
      "metadata": {
        "id": "s8RQxgVGLSvy"
      },
      "source": [
        "## Finding a better model\n",
        "\n",
        "Try to play with your model to improve it. \n",
        "\n",
        "What does it mean to improve the model?\n",
        "\n"
      ]
    },
    {
      "cell_type": "code",
      "metadata": {
        "id": "C6CN-qX9Lh_c"
      },
      "source": [
        "'''\n",
        "Parametric Model:\n",
        "Here I make a model that has some parameters that we can play with. \n",
        "'''\n",
        "\n",
        "def model(displacement, w=0):\n",
        "  ## Let's make a linear model with 0 interception. \n",
        "  f = w * (displacement -11.5)\n",
        "\n",
        "  return f\n"
      ],
      "execution_count": 26,
      "outputs": []
    },
    {
      "cell_type": "code",
      "metadata": {
        "colab": {
          "base_uri": "https://localhost:8080/",
          "height": 235
        },
        "id": "MvkPAjR8MbaH",
        "outputId": "b62d9b2e-2250-47a3-8ad8-44c234775606"
      },
      "source": [
        "## Let's see what the predictions are:\n",
        "exp_data['Model_Prediction'] = exp_data.Displacement.apply(lambda x: model(x, .01))\n",
        "exp_data\n"
      ],
      "execution_count": 27,
      "outputs": [
        {
          "output_type": "execute_result",
          "data": {
            "text/html": [
              "<div>\n",
              "<style scoped>\n",
              "    .dataframe tbody tr th:only-of-type {\n",
              "        vertical-align: middle;\n",
              "    }\n",
              "\n",
              "    .dataframe tbody tr th {\n",
              "        vertical-align: top;\n",
              "    }\n",
              "\n",
              "    .dataframe thead th {\n",
              "        text-align: right;\n",
              "    }\n",
              "</style>\n",
              "<table border=\"1\" class=\"dataframe\">\n",
              "  <thead>\n",
              "    <tr style=\"text-align: right;\">\n",
              "      <th></th>\n",
              "      <th>Displacement</th>\n",
              "      <th>Force</th>\n",
              "      <th>Model_Prediction</th>\n",
              "    </tr>\n",
              "  </thead>\n",
              "  <tbody>\n",
              "    <tr>\n",
              "      <th>0</th>\n",
              "      <td>11.5</td>\n",
              "      <td>0.0</td>\n",
              "      <td>0.000</td>\n",
              "    </tr>\n",
              "    <tr>\n",
              "      <th>1</th>\n",
              "      <td>14.7</td>\n",
              "      <td>0.1</td>\n",
              "      <td>0.032</td>\n",
              "    </tr>\n",
              "    <tr>\n",
              "      <th>2</th>\n",
              "      <td>18.0</td>\n",
              "      <td>0.2</td>\n",
              "      <td>0.065</td>\n",
              "    </tr>\n",
              "    <tr>\n",
              "      <th>3</th>\n",
              "      <td>21.3</td>\n",
              "      <td>0.3</td>\n",
              "      <td>0.098</td>\n",
              "    </tr>\n",
              "    <tr>\n",
              "      <th>4</th>\n",
              "      <td>24.5</td>\n",
              "      <td>0.4</td>\n",
              "      <td>0.130</td>\n",
              "    </tr>\n",
              "    <tr>\n",
              "      <th>5</th>\n",
              "      <td>27.6</td>\n",
              "      <td>0.5</td>\n",
              "      <td>0.161</td>\n",
              "    </tr>\n",
              "  </tbody>\n",
              "</table>\n",
              "</div>"
            ],
            "text/plain": [
              "   Displacement  Force  Model_Prediction\n",
              "0          11.5    0.0             0.000\n",
              "1          14.7    0.1             0.032\n",
              "2          18.0    0.2             0.065\n",
              "3          21.3    0.3             0.098\n",
              "4          24.5    0.4             0.130\n",
              "5          27.6    0.5             0.161"
            ]
          },
          "metadata": {},
          "execution_count": 27
        }
      ]
    },
    {
      "cell_type": "code",
      "metadata": {
        "colab": {
          "base_uri": "https://localhost:8080/",
          "height": 385
        },
        "id": "baGtia4sMGIY",
        "outputId": "4c3e1845-dd61-40e7-f9f1-b854e774b422"
      },
      "source": [
        "\n",
        "fig = plt.figure()\n",
        "ax = fig.add_subplot(111, xlabel='Displacement', ylabel='Force', title='Force vs Displacement')\n",
        "\n",
        "plt.scatter(exp_data.Displacement, exp_data.Force, label='Real data')\n",
        "plt.plot(exp_data.Displacement, exp_data.Model_Prediction, label='Prediction',c='r')\n",
        "plt.legend(loc=0)\n",
        "plt.show()\n",
        "print(f'The distance between prediction and real data is {dist( exp_data.Force , exp_data.Model_Prediction )   }.')"
      ],
      "execution_count": 28,
      "outputs": [
        {
          "output_type": "display_data",
          "data": {
            "image/png": "[encoded data removed]",
            "text/plain": [
              "<Figure size 720x360 with 1 Axes>"
            ]
          },
          "metadata": {
            "needs_background": "light"
          }
        },
        {
          "output_type": "stream",
          "name": "stdout",
          "text": [
            "The distance between prediction and real data is 1.014.\n"
          ]
        }
      ]
    },
    {
      "cell_type": "code",
      "metadata": {
        "colab": {
          "base_uri": "https://localhost:8080/",
          "height": 417,
          "referenced_widgets": [
            "0c4826b3c8e24774b53e27ad4e0510a6",
            "ffd71078c811413787f5f7aa0def4bab",
            "9dbb71ea6b5f4217b8c5ce38761aaeaa",
            "2ba92bab74fe46a5a748d2cb8471363c",
            "bd4838712c684b7c9d1e59fda81e3f1c",
            "f89455f57d4a4dfaa63eea559b679ffc",
            "c9290eafca194317bda3fea5cf610351"
          ]
        },
        "id": "2m1jPUjjPswQ",
        "outputId": "92c5bbd7-5a43-4efa-f46d-7f60a1894cc4"
      },
      "source": [
        "from ipywidgets import interact, fixed, FloatSlider\n",
        "\n",
        "def plot_both(w):\n",
        "  exp_data['Model_Prediction'] = exp_data.Displacement.apply(lambda x: model(x, w))\n",
        "  \n",
        "  fig = plt.figure()\n",
        "  ax = fig.add_subplot(111, xlabel='Displacement', ylabel='Force', title='Force vs Displacement')\n",
        "\n",
        "  plt.scatter(exp_data.Displacement, exp_data.Force, label='Real data')\n",
        "  plt.plot(exp_data.Displacement, exp_data.Model_Prediction, label='Prediction', c='r')\n",
        "  # plt.ylim(-.1,.7)\n",
        "  plt.legend(loc=0)\n",
        "  # plt.show()\n",
        "  plt.close(fig)\n",
        "  return fig\n",
        "\n",
        "interact(plot_both, w=FloatSlider(min=0.0, max=.07, step=.0001, value=0))"
      ],
      "execution_count": 29,
      "outputs": [
        {
          "output_type": "display_data",
          "data": {
            "application/vnd.jupyter.widget-view+json": {
              "model_id": "0c4826b3c8e24774b53e27ad4e0510a6",
              "version_minor": 0,
              "version_major": 2
            },
            "text/plain": [
              "interactive(children=(FloatSlider(value=0.0, description='w', max=0.05, step=0.0001), Output()), _dom_classes=…"
            ]
          },
          "metadata": {}
        },
        {
          "output_type": "execute_result",
          "data": {
            "text/plain": [
              "<function __main__.plot_both>"
            ]
          },
          "metadata": {},
          "execution_count": 29
        }
      ]
    },
    {
      "cell_type": "markdown",
      "metadata": {
        "id": "V4Opf9aRBVor"
      },
      "source": [
        "### Learning\n",
        "\n",
        "Find the best model that you can!\n",
        "\n",
        "Explain the process!\n"
      ]
    },
    {
      "cell_type": "code",
      "metadata": {
        "id": "pHJgTkgbythK",
        "colab": {
          "base_uri": "https://localhost:8080/",
          "height": 308
        },
        "outputId": "61a4de48-3230-4460-dd1a-0b3c14526e06"
      },
      "source": [
        "%%time\n",
        "## Plot distance vs param\n",
        "dparam = .001\n",
        "dist_list = [dist( exp_data.Force , model(exp_data.Displacement , p) )  for p in np.arange(-1,1,dparam)  ]\n",
        "plt.plot(np.arange(-1,1,dparam), dist_list )"
      ],
      "execution_count": null,
      "outputs": [
        {
          "output_type": "stream",
          "text": [
            "CPU times: user 1.72 s, sys: 0 ns, total: 1.72 s\n",
            "Wall time: 1.78 s\n"
          ],
          "name": "stdout"
        },
        {
          "output_type": "display_data",
          "data": {
            "image/png": "[encoded data removed]",
            "text/plain": [
              "<Figure size 576x288 with 1 Axes>"
            ]
          },
          "metadata": {
            "tags": [],
            "needs_background": "light"
          }
        }
      ]
    },
    {
      "cell_type": "code",
      "metadata": {
        "colab": {
          "base_uri": "https://localhost:8080/"
        },
        "id": "cKSjybkgBWk5",
        "outputId": "3d22c3f0-628e-4fa0-abb8-42bd1c6536f9"
      },
      "source": [
        "print(f'The optimal value for w seems to be around {np.arange(-1,1,.0001)[np.argmin(dist_list)]}.\\n')\n",
        "print(f'For this value of w, the loss is {dist( exp_data.Force , model(exp_data.Displacement , 0.0141) )}.' )\n"
      ],
      "execution_count": null,
      "outputs": [
        {
          "output_type": "stream",
          "text": [
            "The optimal value for w seems to be around -0.8986000000000112.\n",
            "\n",
            "For this value of w, the loss is 0.48894.\n"
          ],
          "name": "stdout"
        }
      ]
    },
    {
      "cell_type": "code",
      "metadata": {
        "id": "GvgIvSwhOhkx"
      },
      "source": [
        "### Two parameter model:\n",
        "\n",
        "'''\n",
        "Parametric Model:\n",
        "Here I make a model that has some parameters that we can play with. \n",
        "'''\n",
        "\n",
        "def model(displacement, w=0, b=0):\n",
        "  ## Let's make a linear model with 0 interception. \n",
        "  f = w * displacement + b\n",
        "\n",
        "  return f\n"
      ],
      "execution_count": null,
      "outputs": []
    },
    {
      "cell_type": "code",
      "metadata": {
        "colab": {
          "base_uri": "https://localhost:8080/"
        },
        "id": "M1fCR6tPOhk_",
        "outputId": "0d937e1c-e39c-4a0c-e2ae-d8a5a6db2bae"
      },
      "source": [
        "## Let's see what the predictions are:\n",
        "[model(x, .1,.1) for x in exp_data.Displacement]"
      ],
      "execution_count": null,
      "outputs": [
        {
          "output_type": "execute_result",
          "data": {
            "text/plain": [
              "[1.2500000000000002,\n",
              " 1.57,\n",
              " 1.9000000000000001,\n",
              " 2.2300000000000004,\n",
              " 2.5500000000000003,\n",
              " 2.8600000000000003]"
            ]
          },
          "metadata": {
            "tags": []
          },
          "execution_count": 27
        }
      ]
    },
    {
      "cell_type": "code",
      "metadata": {
        "colab": {
          "base_uri": "https://localhost:8080/",
          "height": 327
        },
        "id": "MsId10fyOhlB",
        "outputId": "fa572dcd-60e3-495f-d7a0-5f154477266d"
      },
      "source": [
        "exp_data['Model_Prediction'] = exp_data.Displacement.apply(lambda x: model(x, .01, .1))\n",
        "exp_data\n",
        "\n",
        "fig = plt.figure()\n",
        "ax = fig.add_subplot(111, xlabel='Displacement', ylabel='Force', title='Force vs Displacement')\n",
        "\n",
        "plt.scatter(exp_data.Displacement, exp_data.Force, label='Real data')\n",
        "plt.plot(exp_data.Displacement, exp_data.Model_Prediction, label='Prediction', c='r')\n",
        "plt.legend(loc=0)\n",
        "plt.show()\n",
        "print(f'The distance between prediction and real data is {dist( exp_data.Force , exp_data.Model_Prediction )   }.')"
      ],
      "execution_count": null,
      "outputs": [
        {
          "output_type": "display_data",
          "data": {
            "image/png": "[encoded data removed]",
            "text/plain": [
              "<Figure size 576x288 with 1 Axes>"
            ]
          },
          "metadata": {
            "tags": [],
            "needs_background": "light"
          }
        },
        {
          "output_type": "stream",
          "text": [
            "The distance between prediction and real data is 0.6340000000000001.\n"
          ],
          "name": "stdout"
        }
      ]
    },
    {
      "cell_type": "code",
      "metadata": {
        "colab": {
          "base_uri": "https://localhost:8080/",
          "height": 391,
          "referenced_widgets": [
            "f9e55f9a634c4d55bb6b63d64f3c75ed",
            "4e04b3cb8ea34824993e015b7ad98485",
            "dc0dad4ae39c46759ec102f2e6ac7d89",
            "a7d2c014387842f8b999be13b68cf3c7",
            "7570447d16f24557a76390627657ec69",
            "8b76d92df2e64b7185bdf4df820fb0cd",
            "be6723e8fd734275a6589e27c82f38e2",
            "e63f29b66b3d48639888621dc67d9b0c",
            "b71a51762de74eb38dbc3736a92ed4fe",
            "300e9e09d1454856a714fc016503481c"
          ]
        },
        "id": "NwuC6Sn0OhlC",
        "outputId": "acc358d9-5e97-4bae-c447-cb0ed95f85e9"
      },
      "source": [
        "from ipywidgets import interact, fixed, FloatSlider\n",
        "\n",
        "# @interact\n",
        "def plot_both(w,b):\n",
        "  exp_data['Model_Prediction'] = exp_data.Displacement.apply(lambda x: model(x, w,b))\n",
        "  \n",
        "  fig = plt.figure()\n",
        "  ax = fig.add_subplot(111, xlabel='Displacement', ylabel='Force', title='Force vs Displacement')\n",
        "\n",
        "  plt.scatter(exp_data.Displacement, exp_data.Force, label='Real data')\n",
        "  plt.plot(exp_data.Displacement, exp_data.Model_Prediction, label='Prediction', c='r')\n",
        "  # plt.ylim(-.1,.7)\n",
        "  plt.legend(loc=0)\n",
        "  # plt.show()\n",
        "  plt.close(fig)\n",
        "  return fig\n",
        "\n",
        "interact(plot_both, w=FloatSlider(min=0.0, max=.05, step=.0001, value=0),\n",
        "         b=FloatSlider(min=-1, max=1.0, step=.0001, value=0))"
      ],
      "execution_count": null,
      "outputs": [
        {
          "output_type": "display_data",
          "data": {
            "application/vnd.jupyter.widget-view+json": {
              "model_id": "f9e55f9a634c4d55bb6b63d64f3c75ed",
              "version_minor": 0,
              "version_major": 2
            },
            "text/plain": [
              "interactive(children=(FloatSlider(value=0.0, description='w', max=0.05, step=0.0001), FloatSlider(value=0.0, d…"
            ]
          },
          "metadata": {
            "tags": []
          }
        },
        {
          "output_type": "execute_result",
          "data": {
            "text/plain": [
              "<function __main__.plot_both>"
            ]
          },
          "metadata": {
            "tags": []
          },
          "execution_count": 29
        }
      ]
    },
    {
      "cell_type": "code",
      "metadata": {
        "colab": {
          "base_uri": "https://localhost:8080/",
          "height": 500
        },
        "id": "NIjFDmRPOhlD",
        "outputId": "68b493ed-b7a3-4efc-9e8a-d06bc99972f1"
      },
      "source": [
        "%%time\n",
        "## Plot distance vs param\n",
        "dist_list = np.array([[dist( exp_data.Force , \n",
        "                   model(exp_data.Displacement , w,b) )  for w in np.arange(-.1,.1,.01)  ] for b in np.arange(-1,1,.01)])\n",
        "\n",
        "## The index for the optimal values are:\n",
        "opt_ind = np.unravel_index( np.argmin(dist_list ), dist_list.shape )\n",
        "print(f'The index for the optimal values are {opt_ind[::-1]}.\\n')\n",
        "\n",
        "## The optimal values are :\n",
        "opt_param = np.arange(-.1,.1,.01)[opt_ind[1]], np.arange(-1,1,.01)[opt_ind[0]]\n",
        "print(f'The optimal values are {opt_param}.\\n')\n",
        "\n",
        "# The min loss values is :\n",
        "print(f'The min loss values is {dist_list[opt_ind]:.4f}.\\n')\n",
        "\n",
        "\n",
        "fig = plt.figure(figsize=(15,5))\n",
        "ax = fig.add_subplot(121, xlabel='w', ylabel='b', title='Loss vs w and b')\n",
        "\n",
        "plt.imshow(dist_list, extent=[-.1,.1,-1,1], aspect=.10, origin='lower')\n",
        "plt.scatter(*opt_param, c='r')\n",
        "plt.colorbar()\n",
        "\n",
        "ax = fig.add_subplot(122, xlabel='Displacement', ylabel='Force', title='Force vs Displacement')\n",
        "plt.scatter(exp_data.Displacement, exp_data.Force, label='Real data')\n",
        "plt.plot(exp_data.Displacement, model(exp_data.Displacement , opt_param[0], opt_param[1]) , label='Prediction', c='r')\n",
        "plt.legend(loc=0)\n"
      ],
      "execution_count": null,
      "outputs": [
        {
          "output_type": "stream",
          "text": [
            "The index for the optimal values are (13, 66).\n",
            "\n",
            "The optimal values are (0.029999999999999943, -0.3399999999999994).\n",
            "\n",
            "The min loss values is 0.0240.\n",
            "\n",
            "CPU times: user 57.5 ms, sys: 1.01 ms, total: 58.5 ms\n",
            "Wall time: 57 ms\n"
          ],
          "name": "stdout"
        },
        {
          "output_type": "display_data",
          "data": {
            "image/png": "[encoded data removed]",
            "text/plain": [
              "<Figure size 1080x360 with 3 Axes>"
            ]
          },
          "metadata": {
            "tags": [],
            "needs_background": "light"
          }
        }
      ]
    },
    {
      "cell_type": "markdown",
      "metadata": {
        "id": "JznhhH_uBVnh"
      },
      "source": [
        "### Using sklearn"
      ]
    },
    {
      "cell_type": "code",
      "metadata": {
        "id": "bGVHl7LHBVnm"
      },
      "source": [
        "from sklearn.linear_model import LinearRegression"
      ],
      "execution_count": null,
      "outputs": []
    },
    {
      "cell_type": "code",
      "metadata": {
        "id": "3PkqzfqlBVn5",
        "colab": {
          "base_uri": "https://localhost:8080/",
          "height": 310
        },
        "outputId": "616188fa-cb2e-4dd6-98c3-77008a468ff5"
      },
      "source": [
        "'''\n",
        "We first train an estimator which  finds a good fit to the data.\n",
        "'''\n",
        "\n",
        "reg = LinearRegression()  ## Defines/Constructs the estimator\n",
        "reg.fit(exp_data.Displacement.values.reshape(-1,1), exp_data.Force)  ##Trains the estimator\n",
        "\n",
        "x = np.arange(0,5,.1).reshape(50,1)  \n",
        "\n",
        "### Now we plot the \n",
        "fig = plt.figure()\n",
        "ax = fig.add_subplot(111, xlabel='Displacement', ylabel='Force', title='Force vs Displacement')\n",
        "\n",
        "plt.scatter(exp_data.Displacement, exp_data.Force, label='Real data')\n",
        "ax.plot(exp_data.Displacement, reg.predict( exp_data.Displacement.values.reshape(-1,1) ) ,  \n",
        "        label='Linear Regression Fit' , c= 'r')\n",
        "plt.legend(loc=0)\n",
        "plt.show()\n"
      ],
      "execution_count": null,
      "outputs": [
        {
          "output_type": "display_data",
          "data": {
            "image/png": "[encoded data removed]",
            "text/plain": [
              "<Figure size 576x288 with 1 Axes>"
            ]
          },
          "metadata": {
            "tags": [],
            "needs_background": "light"
          }
        }
      ]
    },
    {
      "cell_type": "code",
      "metadata": {
        "id": "Uh_W3Yir1AlZ",
        "colab": {
          "base_uri": "https://localhost:8080/"
        },
        "outputId": "d2dee438-6567-4293-c54c-39853c0b37c7"
      },
      "source": [
        "print(f'The optimal w is {reg.coef_} and the optimal b is {reg.intercept_}.\\n')\n",
        "print('This is in reasonable agreement with the ones we got.')"
      ],
      "execution_count": null,
      "outputs": [
        {
          "output_type": "stream",
          "text": [
            "The optimal w is [0.03091545] and the optimal b is -0.3559427572645836.\n",
            "\n",
            "This is in reasonable agreement with the ones we got.\n"
          ],
          "name": "stdout"
        }
      ]
    },
    {
      "cell_type": "code",
      "metadata": {
        "id": "4Zv5gLnWHnkq"
      },
      "source": [
        ""
      ],
      "execution_count": null,
      "outputs": []
    },
    {
      "cell_type": "markdown",
      "metadata": {
        "id": "txfdCNUBcZ00"
      },
      "source": [
        "#Exercise \n",
        "\n",
        "\n",
        "### Balck Body Radiation\n",
        "Do the same for the black body radiation. "
      ]
    },
    {
      "cell_type": "code",
      "metadata": {
        "colab": {
          "base_uri": "https://localhost:8080/",
          "height": 310
        },
        "id": "zBCiN0ivcYsD",
        "outputId": "77c9ccd9-70ca-4ec9-b5f5-ad6d564ef221"
      },
      "source": [
        "#####BBR###### \n",
        "## This data is collected from galileo.phys.virginia.edu/classes/252\n",
        "url = \"https://github.com/sraeisi/MachineLearning_Physics/blob/master/Data/bbr.xls?raw=true\"\n",
        "data_bbr = pd.read_excel(url)\n",
        "\n",
        "n_s_rate=1\n",
        "\n",
        "x_label = 'Wave length '\n",
        "y_label = 'Radiation'\n",
        "plt_title = 'Black Body Radiation'\n",
        "fig = plt.figure()\n",
        "ax = fig.add_subplot(111, xlabel=x_label, ylabel=y_label, title=plt_title)\n",
        "\n",
        "ax.scatter(data_bbr[0][::n_s_rate], 10**20*data_bbr['T'][::n_s_rate])\n",
        "ax.scatter(data_bbr[0][::n_s_rate], 10**20*data_bbr['T/2'][::n_s_rate])\n",
        "plt.show()"
      ],
      "execution_count": null,
      "outputs": [
        {
          "output_type": "display_data",
          "data": {
            "image/png": "[encoded data removed]",
            "text/plain": [
              "<Figure size 432x288 with 1 Axes>"
            ]
          },
          "metadata": {
            "tags": [],
            "needs_background": "light"
          }
        }
      ]
    },
    {
      "cell_type": "code",
      "metadata": {
        "id": "3QvS9eJh-PTg",
        "colab": {
          "base_uri": "https://localhost:8080/",
          "height": 111
        },
        "outputId": "08ededf5-ccf3-4712-a4d4-c9202e857ea0"
      },
      "source": [
        "data_bbr.head(2)"
      ],
      "execution_count": null,
      "outputs": [
        {
          "output_type": "execute_result",
          "data": {
            "text/html": [
              "<div>\n",
              "<style scoped>\n",
              "    .dataframe tbody tr th:only-of-type {\n",
              "        vertical-align: middle;\n",
              "    }\n",
              "\n",
              "    .dataframe tbody tr th {\n",
              "        vertical-align: top;\n",
              "    }\n",
              "\n",
              "    .dataframe thead th {\n",
              "        text-align: right;\n",
              "    }\n",
              "</style>\n",
              "<table border=\"1\" class=\"dataframe\">\n",
              "  <thead>\n",
              "    <tr style=\"text-align: right;\">\n",
              "      <th></th>\n",
              "      <th>0</th>\n",
              "      <th>T</th>\n",
              "      <th>0.1</th>\n",
              "      <th>T/2</th>\n",
              "      <th>0.2</th>\n",
              "    </tr>\n",
              "  </thead>\n",
              "  <tbody>\n",
              "    <tr>\n",
              "      <th>0</th>\n",
              "      <td>88182000000</td>\n",
              "      <td>2.978514e-23</td>\n",
              "      <td>2.997673e-23</td>\n",
              "      <td>1.478758e-23</td>\n",
              "      <td>1.498837e-23</td>\n",
              "    </tr>\n",
              "    <tr>\n",
              "      <th>1</th>\n",
              "      <td>176364000000</td>\n",
              "      <td>1.183007e-22</td>\n",
              "      <td>1.199069e-22</td>\n",
              "      <td>5.831636e-23</td>\n",
              "      <td>5.995346e-23</td>\n",
              "    </tr>\n",
              "  </tbody>\n",
              "</table>\n",
              "</div>"
            ],
            "text/plain": [
              "              0             T           0.1           T/2           0.2\n",
              "0   88182000000  2.978514e-23  2.997673e-23  1.478758e-23  1.498837e-23\n",
              "1  176364000000  1.183007e-22  1.199069e-22  5.831636e-23  5.995346e-23"
            ]
          },
          "metadata": {
            "tags": []
          },
          "execution_count": 5
        }
      ]
    },
    {
      "cell_type": "code",
      "metadata": {
        "id": "zPyH7Wy_cw6f"
      },
      "source": [
        "'''\n",
        "Exercise:\n",
        "Find a fit and plot them along side the data. \n",
        "\n",
        "- Use X and Y defined here. \n",
        "- Build a model\n",
        "- Plot your model with the data\n",
        "\n",
        "Can you use the simple model we had before?\n",
        "Is it easy to guess the parameters of the model?\n",
        "'''"
      ],
      "execution_count": null,
      "outputs": []
    },
    {
      "cell_type": "code",
      "metadata": {
        "id": "zFNBv3a26zhQ"
      },
      "source": [
        "X = data_bbr[0].values.reshape(-1,1)\n",
        "Y = 10**17*data_bbr['T']"
      ],
      "execution_count": null,
      "outputs": []
    },
    {
      "cell_type": "code",
      "metadata": {
        "id": "z1kK6MDt6Vh6",
        "colab": {
          "base_uri": "https://localhost:8080/"
        },
        "outputId": "046d9411-3dfd-4509-e739-208c416d7bbf"
      },
      "source": [
        "### Let's try a simple model to see how this works:\n",
        "from sklearn.linear_model import SGDRegressor\n",
        "sgd_rg = SGDRegressor( loss='squared_loss'  )\n",
        "sgd_rg.fit(X,Y)\n",
        "sgd_rg.score(X,Y)"
      ],
      "execution_count": null,
      "outputs": [
        {
          "output_type": "execute_result",
          "data": {
            "text/plain": [
              "-1.3734728557935933e+76"
            ]
          },
          "metadata": {
            "tags": []
          },
          "execution_count": 21
        }
      ]
    },
    {
      "cell_type": "code",
      "metadata": {
        "id": "0ANdmtT6-uQG",
        "colab": {
          "base_uri": "https://localhost:8080/"
        },
        "outputId": "287aaf79-b6b8-408a-a0d1-6507ed033097"
      },
      "source": [
        "### Calcualte the distance between the predicted Y and the actual Y, how good is it?\n",
        "Y_pred = sgd_rg.predict(X)\n",
        "from sklearn.metrics import mean_squared_error\n",
        "print(f'The MSE is {mean_squared_error(Y, Y_pred)}')"
      ],
      "execution_count": null,
      "outputs": [
        {
          "output_type": "stream",
          "text": [
            "The MSE is 7.576863105576173e+71\n"
          ],
          "name": "stdout"
        }
      ]
    },
    {
      "cell_type": "code",
      "metadata": {
        "id": "M-RX4guX-tsq",
        "colab": {
          "base_uri": "https://localhost:8080/",
          "height": 320
        },
        "outputId": "4dabc3a3-1022-455a-99e3-8673e220cb60"
      },
      "source": [
        "plt.plot(X,Y)\n",
        "plt.plot(X,Y_pred)\n",
        "## Not a good fit, how can we improve this?"
      ],
      "execution_count": null,
      "outputs": [
        {
          "output_type": "execute_result",
          "data": {
            "text/plain": [
              "[<matplotlib.lines.Line2D at 0x7f29fb6db2b0>]"
            ]
          },
          "metadata": {
            "tags": []
          },
          "execution_count": 17
        },
        {
          "output_type": "display_data",
          "data": {
            "image/png": "[encoded data removed]",
            "text/plain": [
              "<Figure size 432x288 with 1 Axes>"
            ]
          },
          "metadata": {
            "tags": [],
            "needs_background": "light"
          }
        }
      ]
    },
    {
      "cell_type": "markdown",
      "metadata": {
        "id": "Oy_T6ZKWdn2L"
      },
      "source": [
        "## Multi-feature data\n",
        "\n",
        "Do the same for the following data."
      ]
    },
    {
      "cell_type": "code",
      "metadata": {
        "colab": {
          "base_uri": "https://localhost:8080/",
          "height": 253
        },
        "id": "xqGki_e5drXV",
        "outputId": "3105a7cb-ea96-4b5a-d804-0aa3eee3172f"
      },
      "source": [
        "'''\n",
        "We need to first import the data. I took the data from the following kaggle dataset. \n",
        "\n",
        "https://www.kaggle.com/burakhmmtgl/energy-molecule\n",
        "\n",
        "These are the ground state energies of some molecules based on their different \n",
        "chemical bounds. \n",
        "'''\n",
        "import io, requests\n",
        "url = 'https://www.dropbox.com/s/das9t6vwp7t4b7f/roboBohr.csv.zip?dl=1'\n",
        "s=requests.get(url, stream=True).content\n",
        "data=pd.read_csv(io.BytesIO(s) , compression='zip' , index_col=0)\n",
        " \n",
        "'''\n",
        "Alternatively, you can download the file into your computer and run the following code. \n",
        "You need to uncomment it first. \n",
        "'''    \n",
        "# data = pd.read_csv('roboBohr.csv.zip', compression='zip', index_col=0)\n",
        "\n",
        "data.head()"
      ],
      "execution_count": null,
      "outputs": [
        {
          "output_type": "execute_result",
          "data": {
            "text/html": [
              "<div>\n",
              "<style scoped>\n",
              "    .dataframe tbody tr th:only-of-type {\n",
              "        vertical-align: middle;\n",
              "    }\n",
              "\n",
              "    .dataframe tbody tr th {\n",
              "        vertical-align: top;\n",
              "    }\n",
              "\n",
              "    .dataframe thead th {\n",
              "        text-align: right;\n",
              "    }\n",
              "</style>\n",
              "<table border=\"1\" class=\"dataframe\">\n",
              "  <thead>\n",
              "    <tr style=\"text-align: right;\">\n",
              "      <th></th>\n",
              "      <th>0</th>\n",
              "      <th>1</th>\n",
              "      <th>2</th>\n",
              "      <th>3</th>\n",
              "      <th>4</th>\n",
              "      <th>5</th>\n",
              "      <th>6</th>\n",
              "      <th>7</th>\n",
              "      <th>8</th>\n",
              "      <th>9</th>\n",
              "      <th>10</th>\n",
              "      <th>11</th>\n",
              "      <th>12</th>\n",
              "      <th>13</th>\n",
              "      <th>14</th>\n",
              "      <th>15</th>\n",
              "      <th>16</th>\n",
              "      <th>17</th>\n",
              "      <th>18</th>\n",
              "      <th>19</th>\n",
              "      <th>20</th>\n",
              "      <th>21</th>\n",
              "      <th>22</th>\n",
              "      <th>23</th>\n",
              "      <th>24</th>\n",
              "      <th>25</th>\n",
              "      <th>26</th>\n",
              "      <th>27</th>\n",
              "      <th>28</th>\n",
              "      <th>29</th>\n",
              "      <th>30</th>\n",
              "      <th>31</th>\n",
              "      <th>32</th>\n",
              "      <th>33</th>\n",
              "      <th>34</th>\n",
              "      <th>35</th>\n",
              "      <th>36</th>\n",
              "      <th>37</th>\n",
              "      <th>38</th>\n",
              "      <th>39</th>\n",
              "      <th>...</th>\n",
              "      <th>1237</th>\n",
              "      <th>1238</th>\n",
              "      <th>1239</th>\n",
              "      <th>1240</th>\n",
              "      <th>1241</th>\n",
              "      <th>1242</th>\n",
              "      <th>1243</th>\n",
              "      <th>1244</th>\n",
              "      <th>1245</th>\n",
              "      <th>1246</th>\n",
              "      <th>1247</th>\n",
              "      <th>1248</th>\n",
              "      <th>1249</th>\n",
              "      <th>1250</th>\n",
              "      <th>1251</th>\n",
              "      <th>1252</th>\n",
              "      <th>1253</th>\n",
              "      <th>1254</th>\n",
              "      <th>1255</th>\n",
              "      <th>1256</th>\n",
              "      <th>1257</th>\n",
              "      <th>1258</th>\n",
              "      <th>1259</th>\n",
              "      <th>1260</th>\n",
              "      <th>1261</th>\n",
              "      <th>1262</th>\n",
              "      <th>1263</th>\n",
              "      <th>1264</th>\n",
              "      <th>1265</th>\n",
              "      <th>1266</th>\n",
              "      <th>1267</th>\n",
              "      <th>1268</th>\n",
              "      <th>1269</th>\n",
              "      <th>1270</th>\n",
              "      <th>1271</th>\n",
              "      <th>1272</th>\n",
              "      <th>1273</th>\n",
              "      <th>1274</th>\n",
              "      <th>pubchem_id</th>\n",
              "      <th>Eat</th>\n",
              "    </tr>\n",
              "  </thead>\n",
              "  <tbody>\n",
              "    <tr>\n",
              "      <th>0</th>\n",
              "      <td>73.516695</td>\n",
              "      <td>17.817765</td>\n",
              "      <td>12.469551</td>\n",
              "      <td>12.458130</td>\n",
              "      <td>12.454607</td>\n",
              "      <td>12.447345</td>\n",
              "      <td>12.433065</td>\n",
              "      <td>12.426926</td>\n",
              "      <td>12.387474</td>\n",
              "      <td>12.365984</td>\n",
              "      <td>12.342823</td>\n",
              "      <td>12.335925</td>\n",
              "      <td>12.328055</td>\n",
              "      <td>12.284265</td>\n",
              "      <td>12.269844</td>\n",
              "      <td>12.247357</td>\n",
              "      <td>10.557967</td>\n",
              "      <td>10.473721</td>\n",
              "      <td>9.225262</td>\n",
              "      <td>8.448526</td>\n",
              "      <td>7.611145</td>\n",
              "      <td>7.610874</td>\n",
              "      <td>7.580510</td>\n",
              "      <td>7.579386</td>\n",
              "      <td>7.576929</td>\n",
              "      <td>7.536001</td>\n",
              "      <td>7.517317</td>\n",
              "      <td>7.462578</td>\n",
              "      <td>7.459865</td>\n",
              "      <td>7.456214</td>\n",
              "      <td>7.447581</td>\n",
              "      <td>7.443458</td>\n",
              "      <td>7.423496</td>\n",
              "      <td>7.345785</td>\n",
              "      <td>7.323741</td>\n",
              "      <td>7.247088</td>\n",
              "      <td>7.230886</td>\n",
              "      <td>6.662523</td>\n",
              "      <td>6.286251</td>\n",
              "      <td>6.134338</td>\n",
              "      <td>...</td>\n",
              "      <td>0.0</td>\n",
              "      <td>0.0</td>\n",
              "      <td>0.5</td>\n",
              "      <td>0.0</td>\n",
              "      <td>0.0</td>\n",
              "      <td>0.0</td>\n",
              "      <td>0.0</td>\n",
              "      <td>0.0</td>\n",
              "      <td>0.0</td>\n",
              "      <td>0.0</td>\n",
              "      <td>0.5</td>\n",
              "      <td>0.0</td>\n",
              "      <td>0.0</td>\n",
              "      <td>0.0</td>\n",
              "      <td>0.0</td>\n",
              "      <td>0.0</td>\n",
              "      <td>0.0</td>\n",
              "      <td>0.5</td>\n",
              "      <td>0.0</td>\n",
              "      <td>0.0</td>\n",
              "      <td>0.0</td>\n",
              "      <td>0.0</td>\n",
              "      <td>0.0</td>\n",
              "      <td>0.5</td>\n",
              "      <td>0.0</td>\n",
              "      <td>0.0</td>\n",
              "      <td>0.0</td>\n",
              "      <td>0.0</td>\n",
              "      <td>0.5</td>\n",
              "      <td>0.0</td>\n",
              "      <td>0.0</td>\n",
              "      <td>0.0</td>\n",
              "      <td>0.5</td>\n",
              "      <td>0.0</td>\n",
              "      <td>0.0</td>\n",
              "      <td>0.0</td>\n",
              "      <td>0.0</td>\n",
              "      <td>0.0</td>\n",
              "      <td>25004</td>\n",
              "      <td>-19.013763</td>\n",
              "    </tr>\n",
              "    <tr>\n",
              "      <th>1</th>\n",
              "      <td>73.516695</td>\n",
              "      <td>20.649126</td>\n",
              "      <td>18.527789</td>\n",
              "      <td>17.891535</td>\n",
              "      <td>17.887995</td>\n",
              "      <td>17.871731</td>\n",
              "      <td>17.852586</td>\n",
              "      <td>17.729842</td>\n",
              "      <td>15.864270</td>\n",
              "      <td>15.227643</td>\n",
              "      <td>15.202985</td>\n",
              "      <td>14.800045</td>\n",
              "      <td>12.855629</td>\n",
              "      <td>12.728858</td>\n",
              "      <td>12.618058</td>\n",
              "      <td>12.589962</td>\n",
              "      <td>12.557323</td>\n",
              "      <td>12.074893</td>\n",
              "      <td>10.607138</td>\n",
              "      <td>10.572061</td>\n",
              "      <td>10.464293</td>\n",
              "      <td>9.816674</td>\n",
              "      <td>9.456914</td>\n",
              "      <td>9.455816</td>\n",
              "      <td>8.865704</td>\n",
              "      <td>8.104048</td>\n",
              "      <td>8.006855</td>\n",
              "      <td>7.968817</td>\n",
              "      <td>7.946644</td>\n",
              "      <td>7.932943</td>\n",
              "      <td>7.922656</td>\n",
              "      <td>7.888724</td>\n",
              "      <td>7.885692</td>\n",
              "      <td>7.783220</td>\n",
              "      <td>7.637477</td>\n",
              "      <td>7.636586</td>\n",
              "      <td>7.631457</td>\n",
              "      <td>7.336591</td>\n",
              "      <td>7.127698</td>\n",
              "      <td>6.974135</td>\n",
              "      <td>...</td>\n",
              "      <td>0.0</td>\n",
              "      <td>0.0</td>\n",
              "      <td>0.0</td>\n",
              "      <td>0.0</td>\n",
              "      <td>0.0</td>\n",
              "      <td>0.0</td>\n",
              "      <td>0.0</td>\n",
              "      <td>0.0</td>\n",
              "      <td>0.0</td>\n",
              "      <td>0.0</td>\n",
              "      <td>0.0</td>\n",
              "      <td>0.0</td>\n",
              "      <td>0.0</td>\n",
              "      <td>0.0</td>\n",
              "      <td>0.0</td>\n",
              "      <td>0.0</td>\n",
              "      <td>0.0</td>\n",
              "      <td>0.0</td>\n",
              "      <td>0.0</td>\n",
              "      <td>0.0</td>\n",
              "      <td>0.0</td>\n",
              "      <td>0.0</td>\n",
              "      <td>0.0</td>\n",
              "      <td>0.0</td>\n",
              "      <td>0.0</td>\n",
              "      <td>0.0</td>\n",
              "      <td>0.0</td>\n",
              "      <td>0.0</td>\n",
              "      <td>0.0</td>\n",
              "      <td>0.0</td>\n",
              "      <td>0.0</td>\n",
              "      <td>0.0</td>\n",
              "      <td>0.0</td>\n",
              "      <td>0.0</td>\n",
              "      <td>0.0</td>\n",
              "      <td>0.0</td>\n",
              "      <td>0.0</td>\n",
              "      <td>0.0</td>\n",
              "      <td>25005</td>\n",
              "      <td>-10.161019</td>\n",
              "    </tr>\n",
              "    <tr>\n",
              "      <th>2</th>\n",
              "      <td>73.516695</td>\n",
              "      <td>17.830377</td>\n",
              "      <td>12.512263</td>\n",
              "      <td>12.404775</td>\n",
              "      <td>12.394493</td>\n",
              "      <td>12.391564</td>\n",
              "      <td>12.324461</td>\n",
              "      <td>12.238106</td>\n",
              "      <td>10.423249</td>\n",
              "      <td>8.698826</td>\n",
              "      <td>7.607776</td>\n",
              "      <td>7.550253</td>\n",
              "      <td>7.446675</td>\n",
              "      <td>7.398848</td>\n",
              "      <td>7.381532</td>\n",
              "      <td>7.355045</td>\n",
              "      <td>7.321944</td>\n",
              "      <td>6.625986</td>\n",
              "      <td>6.116315</td>\n",
              "      <td>6.106397</td>\n",
              "      <td>6.098066</td>\n",
              "      <td>5.989868</td>\n",
              "      <td>5.731750</td>\n",
              "      <td>5.700963</td>\n",
              "      <td>5.371527</td>\n",
              "      <td>5.008911</td>\n",
              "      <td>4.894453</td>\n",
              "      <td>4.826545</td>\n",
              "      <td>4.352232</td>\n",
              "      <td>4.270598</td>\n",
              "      <td>2.902330</td>\n",
              "      <td>2.902220</td>\n",
              "      <td>2.901834</td>\n",
              "      <td>2.901089</td>\n",
              "      <td>2.900168</td>\n",
              "      <td>2.900151</td>\n",
              "      <td>2.899983</td>\n",
              "      <td>2.898772</td>\n",
              "      <td>2.898551</td>\n",
              "      <td>2.897620</td>\n",
              "      <td>...</td>\n",
              "      <td>0.0</td>\n",
              "      <td>0.0</td>\n",
              "      <td>0.0</td>\n",
              "      <td>0.0</td>\n",
              "      <td>0.0</td>\n",
              "      <td>0.0</td>\n",
              "      <td>0.0</td>\n",
              "      <td>0.0</td>\n",
              "      <td>0.0</td>\n",
              "      <td>0.0</td>\n",
              "      <td>0.0</td>\n",
              "      <td>0.0</td>\n",
              "      <td>0.0</td>\n",
              "      <td>0.0</td>\n",
              "      <td>0.0</td>\n",
              "      <td>0.0</td>\n",
              "      <td>0.0</td>\n",
              "      <td>0.0</td>\n",
              "      <td>0.0</td>\n",
              "      <td>0.0</td>\n",
              "      <td>0.0</td>\n",
              "      <td>0.0</td>\n",
              "      <td>0.0</td>\n",
              "      <td>0.0</td>\n",
              "      <td>0.0</td>\n",
              "      <td>0.0</td>\n",
              "      <td>0.0</td>\n",
              "      <td>0.0</td>\n",
              "      <td>0.0</td>\n",
              "      <td>0.0</td>\n",
              "      <td>0.0</td>\n",
              "      <td>0.0</td>\n",
              "      <td>0.0</td>\n",
              "      <td>0.0</td>\n",
              "      <td>0.0</td>\n",
              "      <td>0.0</td>\n",
              "      <td>0.0</td>\n",
              "      <td>0.0</td>\n",
              "      <td>25006</td>\n",
              "      <td>-9.376619</td>\n",
              "    </tr>\n",
              "    <tr>\n",
              "      <th>3</th>\n",
              "      <td>73.516695</td>\n",
              "      <td>17.875810</td>\n",
              "      <td>17.871259</td>\n",
              "      <td>17.862402</td>\n",
              "      <td>17.850920</td>\n",
              "      <td>17.850440</td>\n",
              "      <td>12.558105</td>\n",
              "      <td>12.557645</td>\n",
              "      <td>12.517583</td>\n",
              "      <td>12.444141</td>\n",
              "      <td>12.420665</td>\n",
              "      <td>12.410312</td>\n",
              "      <td>12.346845</td>\n",
              "      <td>12.175480</td>\n",
              "      <td>12.098758</td>\n",
              "      <td>10.612802</td>\n",
              "      <td>10.610273</td>\n",
              "      <td>10.606738</td>\n",
              "      <td>10.606702</td>\n",
              "      <td>10.433290</td>\n",
              "      <td>8.694957</td>\n",
              "      <td>8.421582</td>\n",
              "      <td>8.103569</td>\n",
              "      <td>8.103345</td>\n",
              "      <td>7.595619</td>\n",
              "      <td>7.566897</td>\n",
              "      <td>7.555411</td>\n",
              "      <td>7.413109</td>\n",
              "      <td>7.403199</td>\n",
              "      <td>7.185256</td>\n",
              "      <td>6.915425</td>\n",
              "      <td>6.198245</td>\n",
              "      <td>6.191266</td>\n",
              "      <td>6.181797</td>\n",
              "      <td>6.152544</td>\n",
              "      <td>5.252689</td>\n",
              "      <td>5.244354</td>\n",
              "      <td>5.176740</td>\n",
              "      <td>5.176314</td>\n",
              "      <td>5.175577</td>\n",
              "      <td>...</td>\n",
              "      <td>0.0</td>\n",
              "      <td>0.0</td>\n",
              "      <td>0.0</td>\n",
              "      <td>0.0</td>\n",
              "      <td>0.0</td>\n",
              "      <td>0.0</td>\n",
              "      <td>0.0</td>\n",
              "      <td>0.0</td>\n",
              "      <td>0.0</td>\n",
              "      <td>0.0</td>\n",
              "      <td>0.0</td>\n",
              "      <td>0.0</td>\n",
              "      <td>0.0</td>\n",
              "      <td>0.0</td>\n",
              "      <td>0.0</td>\n",
              "      <td>0.0</td>\n",
              "      <td>0.0</td>\n",
              "      <td>0.0</td>\n",
              "      <td>0.0</td>\n",
              "      <td>0.0</td>\n",
              "      <td>0.0</td>\n",
              "      <td>0.0</td>\n",
              "      <td>0.0</td>\n",
              "      <td>0.0</td>\n",
              "      <td>0.0</td>\n",
              "      <td>0.0</td>\n",
              "      <td>0.0</td>\n",
              "      <td>0.0</td>\n",
              "      <td>0.0</td>\n",
              "      <td>0.0</td>\n",
              "      <td>0.0</td>\n",
              "      <td>0.0</td>\n",
              "      <td>0.0</td>\n",
              "      <td>0.0</td>\n",
              "      <td>0.0</td>\n",
              "      <td>0.0</td>\n",
              "      <td>0.0</td>\n",
              "      <td>0.0</td>\n",
              "      <td>25009</td>\n",
              "      <td>-13.776438</td>\n",
              "    </tr>\n",
              "    <tr>\n",
              "      <th>4</th>\n",
              "      <td>73.516695</td>\n",
              "      <td>17.883818</td>\n",
              "      <td>17.868256</td>\n",
              "      <td>17.864221</td>\n",
              "      <td>17.818540</td>\n",
              "      <td>12.508657</td>\n",
              "      <td>12.490519</td>\n",
              "      <td>12.450098</td>\n",
              "      <td>10.597068</td>\n",
              "      <td>10.595914</td>\n",
              "      <td>10.485270</td>\n",
              "      <td>8.595823</td>\n",
              "      <td>8.103880</td>\n",
              "      <td>8.103567</td>\n",
              "      <td>7.975189</td>\n",
              "      <td>7.546413</td>\n",
              "      <td>7.503300</td>\n",
              "      <td>6.803380</td>\n",
              "      <td>6.738768</td>\n",
              "      <td>5.169492</td>\n",
              "      <td>5.161869</td>\n",
              "      <td>5.145972</td>\n",
              "      <td>4.924911</td>\n",
              "      <td>4.899245</td>\n",
              "      <td>4.534996</td>\n",
              "      <td>4.486310</td>\n",
              "      <td>3.897466</td>\n",
              "      <td>3.081523</td>\n",
              "      <td>2.957823</td>\n",
              "      <td>2.903069</td>\n",
              "      <td>2.902178</td>\n",
              "      <td>2.900610</td>\n",
              "      <td>2.900542</td>\n",
              "      <td>2.900306</td>\n",
              "      <td>2.899368</td>\n",
              "      <td>2.899113</td>\n",
              "      <td>2.897739</td>\n",
              "      <td>2.896793</td>\n",
              "      <td>2.896063</td>\n",
              "      <td>2.895051</td>\n",
              "      <td>...</td>\n",
              "      <td>0.0</td>\n",
              "      <td>0.0</td>\n",
              "      <td>0.0</td>\n",
              "      <td>0.0</td>\n",
              "      <td>0.0</td>\n",
              "      <td>0.0</td>\n",
              "      <td>0.0</td>\n",
              "      <td>0.0</td>\n",
              "      <td>0.0</td>\n",
              "      <td>0.0</td>\n",
              "      <td>0.0</td>\n",
              "      <td>0.0</td>\n",
              "      <td>0.0</td>\n",
              "      <td>0.0</td>\n",
              "      <td>0.0</td>\n",
              "      <td>0.0</td>\n",
              "      <td>0.0</td>\n",
              "      <td>0.0</td>\n",
              "      <td>0.0</td>\n",
              "      <td>0.0</td>\n",
              "      <td>0.0</td>\n",
              "      <td>0.0</td>\n",
              "      <td>0.0</td>\n",
              "      <td>0.0</td>\n",
              "      <td>0.0</td>\n",
              "      <td>0.0</td>\n",
              "      <td>0.0</td>\n",
              "      <td>0.0</td>\n",
              "      <td>0.0</td>\n",
              "      <td>0.0</td>\n",
              "      <td>0.0</td>\n",
              "      <td>0.0</td>\n",
              "      <td>0.0</td>\n",
              "      <td>0.0</td>\n",
              "      <td>0.0</td>\n",
              "      <td>0.0</td>\n",
              "      <td>0.0</td>\n",
              "      <td>0.0</td>\n",
              "      <td>25011</td>\n",
              "      <td>-8.537140</td>\n",
              "    </tr>\n",
              "  </tbody>\n",
              "</table>\n",
              "<p>5 rows × 1277 columns</p>\n",
              "</div>"
            ],
            "text/plain": [
              "           0          1          2  ...  1274  pubchem_id        Eat\n",
              "0  73.516695  17.817765  12.469551  ...   0.0       25004 -19.013763\n",
              "1  73.516695  20.649126  18.527789  ...   0.0       25005 -10.161019\n",
              "2  73.516695  17.830377  12.512263  ...   0.0       25006  -9.376619\n",
              "3  73.516695  17.875810  17.871259  ...   0.0       25009 -13.776438\n",
              "4  73.516695  17.883818  17.868256  ...   0.0       25011  -8.537140\n",
              "\n",
              "[5 rows x 1277 columns]"
            ]
          },
          "metadata": {
            "tags": []
          },
          "execution_count": 72
        }
      ]
    },
    {
      "cell_type": "markdown",
      "metadata": {
        "id": "07-CAWbBeoly"
      },
      "source": [
        "Exercise \n",
        "\n",
        "Do the same, find a model and find a way to compare your results against actual ground state energies. \n"
      ]
    },
    {
      "cell_type": "code",
      "metadata": {
        "id": "5CoCtG2yd6Ix"
      },
      "source": [
        "'''\n",
        "Do the same, find a model and find a way to compare your results against actual ground state energies. \n",
        "'''\n",
        "\n",
        "\n"
      ],
      "execution_count": null,
      "outputs": []
    },
    {
      "cell_type": "code",
      "metadata": {
        "id": "losfTs6BeieT"
      },
      "source": [
        ""
      ],
      "execution_count": null,
      "outputs": []
    }
  ]
}