{
  "nbformat": 4,
  "nbformat_minor": 0,
  "metadata": {
    "colab": {
      "name": "MLP_lec1_Basics_Regression.ipynb",
      "provenance": [],
      "collapsed_sections": [
        "1gyfloy9BVjG"
      ],
      "include_colab_link": true
    },
    "kernelspec": {
      "display_name": "Python 3",
      "language": "python",
      "name": "python3"
    },
    "widgets": {
      "application/vnd.jupyter.widget-state+json": {
        "329f422efdb644e7a0b3569a29c3fd87": {
          "model_module": "@jupyter-widgets/controls",
          "model_name": "VBoxModel",
          "model_module_version": "1.5.0",
          "state": {
            "_view_name": "VBoxView",
            "_dom_classes": [
              "widget-interact"
            ],
            "_model_name": "VBoxModel",
            "_view_module": "@jupyter-widgets/controls",
            "_model_module_version": "1.5.0",
            "_view_count": null,
            "_view_module_version": "1.5.0",
            "box_style": "",
            "layout": "IPY_MODEL_f47198d226d14192bc0ef53571fd7c7a",
            "_model_module": "@jupyter-widgets/controls",
            "children": [
              "IPY_MODEL_b6f3a1a5e17142db94c829d6c066f9dc",
              "IPY_MODEL_34a098d5c8da4a4a884577c9de4fc525"
            ]
          }
        },
        "f47198d226d14192bc0ef53571fd7c7a": {
          "model_module": "@jupyter-widgets/base",
          "model_name": "LayoutModel",
          "model_module_version": "1.2.0",
          "state": {
            "_view_name": "LayoutView",
            "grid_template_rows": null,
            "right": null,
            "justify_content": null,
            "_view_module": "@jupyter-widgets/base",
            "overflow": null,
            "_model_module_version": "1.2.0",
            "_view_count": null,
            "flex_flow": null,
            "width": null,
            "min_width": null,
            "border": null,
            "align_items": null,
            "bottom": null,
            "_model_module": "@jupyter-widgets/base",
            "top": null,
            "grid_column": null,
            "overflow_y": null,
            "overflow_x": null,
            "grid_auto_flow": null,
            "grid_area": null,
            "grid_template_columns": null,
            "flex": null,
            "_model_name": "LayoutModel",
            "justify_items": null,
            "grid_row": null,
            "max_height": null,
            "align_content": null,
            "visibility": null,
            "align_self": null,
            "height": null,
            "min_height": null,
            "padding": null,
            "grid_auto_rows": null,
            "grid_gap": null,
            "max_width": null,
            "order": null,
            "_view_module_version": "1.2.0",
            "grid_template_areas": null,
            "object_position": null,
            "object_fit": null,
            "grid_auto_columns": null,
            "margin": null,
            "display": null,
            "left": null
          }
        },
        "b6f3a1a5e17142db94c829d6c066f9dc": {
          "model_module": "@jupyter-widgets/controls",
          "model_name": "FloatSliderModel",
          "model_module_version": "1.5.0",
          "state": {
            "_view_name": "FloatSliderView",
            "style": "IPY_MODEL_2321174feea544a8b58c98c9cc56949f",
            "_dom_classes": [],
            "description": "w",
            "step": 0.0001,
            "_model_name": "FloatSliderModel",
            "orientation": "horizontal",
            "max": 0.07,
            "_view_module": "@jupyter-widgets/controls",
            "_model_module_version": "1.5.0",
            "value": 0.01,
            "_view_count": null,
            "disabled": false,
            "_view_module_version": "1.5.0",
            "min": 0,
            "continuous_update": true,
            "readout_format": ".2f",
            "description_tooltip": null,
            "readout": true,
            "_model_module": "@jupyter-widgets/controls",
            "layout": "IPY_MODEL_42087ccd432a426e86a5b2eda7fe5900"
          }
        },
        "34a098d5c8da4a4a884577c9de4fc525": {
          "model_module": "@jupyter-widgets/output",
          "model_name": "OutputModel",
          "model_module_version": "1.0.0",
          "state": {
            "_view_name": "OutputView",
            "msg_id": "",
            "_dom_classes": [],
            "_model_name": "OutputModel",
            "outputs": [
              {
                "output_type": "display_data",
                "data": {
                  "image/png": "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\n",
                  "text/plain": "<Figure size 720x360 with 1 Axes>"
                },
                "metadata": {}
              }
            ],
            "_view_module": "@jupyter-widgets/output",
            "_model_module_version": "1.0.0",
            "_view_count": null,
            "_view_module_version": "1.0.0",
            "layout": "IPY_MODEL_69e15bc0ca884ad5a1e34f72e1ee0adf",
            "_model_module": "@jupyter-widgets/output"
          }
        },
        "2321174feea544a8b58c98c9cc56949f": {
          "model_module": "@jupyter-widgets/controls",
          "model_name": "SliderStyleModel",
          "model_module_version": "1.5.0",
          "state": {
            "_view_name": "StyleView",
            "handle_color": null,
            "_model_name": "SliderStyleModel",
            "description_width": "",
            "_view_module": "@jupyter-widgets/base",
            "_model_module_version": "1.5.0",
            "_view_count": null,
            "_view_module_version": "1.2.0",
            "_model_module": "@jupyter-widgets/controls"
          }
        },
        "42087ccd432a426e86a5b2eda7fe5900": {
          "model_module": "@jupyter-widgets/base",
          "model_name": "LayoutModel",
          "model_module_version": "1.2.0",
          "state": {
            "_view_name": "LayoutView",
            "grid_template_rows": null,
            "right": null,
            "justify_content": null,
            "_view_module": "@jupyter-widgets/base",
            "overflow": null,
            "_model_module_version": "1.2.0",
            "_view_count": null,
            "flex_flow": null,
            "width": null,
            "min_width": null,
            "border": null,
            "align_items": null,
            "bottom": null,
            "_model_module": "@jupyter-widgets/base",
            "top": null,
            "grid_column": null,
            "overflow_y": null,
            "overflow_x": null,
            "grid_auto_flow": null,
            "grid_area": null,
            "grid_template_columns": null,
            "flex": null,
            "_model_name": "LayoutModel",
            "justify_items": null,
            "grid_row": null,
            "max_height": null,
            "align_content": null,
            "visibility": null,
            "align_self": null,
            "height": null,
            "min_height": null,
            "padding": null,
            "grid_auto_rows": null,
            "grid_gap": null,
            "max_width": null,
            "order": null,
            "_view_module_version": "1.2.0",
            "grid_template_areas": null,
            "object_position": null,
            "object_fit": null,
            "grid_auto_columns": null,
            "margin": null,
            "display": null,
            "left": null
          }
        },
        "69e15bc0ca884ad5a1e34f72e1ee0adf": {
          "model_module": "@jupyter-widgets/base",
          "model_name": "LayoutModel",
          "model_module_version": "1.2.0",
          "state": {
            "_view_name": "LayoutView",
            "grid_template_rows": null,
            "right": null,
            "justify_content": null,
            "_view_module": "@jupyter-widgets/base",
            "overflow": null,
            "_model_module_version": "1.2.0",
            "_view_count": null,
            "flex_flow": null,
            "width": null,
            "min_width": null,
            "border": null,
            "align_items": null,
            "bottom": null,
            "_model_module": "@jupyter-widgets/base",
            "top": null,
            "grid_column": null,
            "overflow_y": null,
            "overflow_x": null,
            "grid_auto_flow": null,
            "grid_area": null,
            "grid_template_columns": null,
            "flex": null,
            "_model_name": "LayoutModel",
            "justify_items": null,
            "grid_row": null,
            "max_height": null,
            "align_content": null,
            "visibility": null,
            "align_self": null,
            "height": null,
            "min_height": null,
            "padding": null,
            "grid_auto_rows": null,
            "grid_gap": null,
            "max_width": null,
            "order": null,
            "_view_module_version": "1.2.0",
            "grid_template_areas": null,
            "object_position": null,
            "object_fit": null,
            "grid_auto_columns": null,
            "margin": null,
            "display": null,
            "left": null
          }
        },
        "d80d2e5734084758af785df95296e2ea": {
          "model_module": "@jupyter-widgets/controls",
          "model_name": "VBoxModel",
          "model_module_version": "1.5.0",
          "state": {
            "_view_name": "VBoxView",
            "_dom_classes": [
              "widget-interact"
            ],
            "_model_name": "VBoxModel",
            "_view_module": "@jupyter-widgets/controls",
            "_model_module_version": "1.5.0",
            "_view_count": null,
            "_view_module_version": "1.5.0",
            "box_style": "",
            "layout": "IPY_MODEL_d6800b312f36458798b59ae2a68916bb",
            "_model_module": "@jupyter-widgets/controls",
            "children": [
              "IPY_MODEL_7e04c1b4ec9345cf907b3ef768d13e98",
              "IPY_MODEL_e243b19b06934d2cb959e605b1190208",
              "IPY_MODEL_b028b8d76d81433bb8e41fe91222ed9a"
            ]
          }
        },
        "d6800b312f36458798b59ae2a68916bb": {
          "model_module": "@jupyter-widgets/base",
          "model_name": "LayoutModel",
          "model_module_version": "1.2.0",
          "state": {
            "_view_name": "LayoutView",
            "grid_template_rows": null,
            "right": null,
            "justify_content": null,
            "_view_module": "@jupyter-widgets/base",
            "overflow": null,
            "_model_module_version": "1.2.0",
            "_view_count": null,
            "flex_flow": null,
            "width": null,
            "min_width": null,
            "border": null,
            "align_items": null,
            "bottom": null,
            "_model_module": "@jupyter-widgets/base",
            "top": null,
            "grid_column": null,
            "overflow_y": null,
            "overflow_x": null,
            "grid_auto_flow": null,
            "grid_area": null,
            "grid_template_columns": null,
            "flex": null,
            "_model_name": "LayoutModel",
            "justify_items": null,
            "grid_row": null,
            "max_height": null,
            "align_content": null,
            "visibility": null,
            "align_self": null,
            "height": null,
            "min_height": null,
            "padding": null,
            "grid_auto_rows": null,
            "grid_gap": null,
            "max_width": null,
            "order": null,
            "_view_module_version": "1.2.0",
            "grid_template_areas": null,
            "object_position": null,
            "object_fit": null,
            "grid_auto_columns": null,
            "margin": null,
            "display": null,
            "left": null
          }
        },
        "7e04c1b4ec9345cf907b3ef768d13e98": {
          "model_module": "@jupyter-widgets/controls",
          "model_name": "FloatSliderModel",
          "model_module_version": "1.5.0",
          "state": {
            "_view_name": "FloatSliderView",
            "style": "IPY_MODEL_c0dcd786e8a24fd3a747179d0434de78",
            "_dom_classes": [],
            "description": "w",
            "step": 0.0001,
            "_model_name": "FloatSliderModel",
            "orientation": "horizontal",
            "max": 0.05,
            "_view_module": "@jupyter-widgets/controls",
            "_model_module_version": "1.5.0",
            "value": 0.024,
            "_view_count": null,
            "disabled": false,
            "_view_module_version": "1.5.0",
            "min": 0,
            "continuous_update": true,
            "readout_format": ".2f",
            "description_tooltip": null,
            "readout": true,
            "_model_module": "@jupyter-widgets/controls",
            "layout": "IPY_MODEL_3d50c327c05b4e939b17488f157106e8"
          }
        },
        "e243b19b06934d2cb959e605b1190208": {
          "model_module": "@jupyter-widgets/controls",
          "model_name": "FloatSliderModel",
          "model_module_version": "1.5.0",
          "state": {
            "_view_name": "FloatSliderView",
            "style": "IPY_MODEL_b3a971953deb41818c1f80ec0216a383",
            "_dom_classes": [],
            "description": "b",
            "step": 0.0001,
            "_model_name": "FloatSliderModel",
            "orientation": "horizontal",
            "max": 1,
            "_view_module": "@jupyter-widgets/controls",
            "_model_module_version": "1.5.0",
            "value": -0.2327,
            "_view_count": null,
            "disabled": false,
            "_view_module_version": "1.5.0",
            "min": -1,
            "continuous_update": true,
            "readout_format": ".2f",
            "description_tooltip": null,
            "readout": true,
            "_model_module": "@jupyter-widgets/controls",
            "layout": "IPY_MODEL_2e2dcd71f1d44fff8948a4b5569d9f4c"
          }
        },
        "b028b8d76d81433bb8e41fe91222ed9a": {
          "model_module": "@jupyter-widgets/output",
          "model_name": "OutputModel",
          "model_module_version": "1.0.0",
          "state": {
            "_view_name": "OutputView",
            "msg_id": "",
            "_dom_classes": [],
            "_model_name": "OutputModel",
            "outputs": [
              {
                "output_type": "display_data",
                "data": {
                  "image/png": "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\n",
                  "text/plain": "<Figure size 720x360 with 1 Axes>"
                },
                "metadata": {}
              }
            ],
            "_view_module": "@jupyter-widgets/output",
            "_model_module_version": "1.0.0",
            "_view_count": null,
            "_view_module_version": "1.0.0",
            "layout": "IPY_MODEL_9e6813ff858d4f29ab875a045b530bf1",
            "_model_module": "@jupyter-widgets/output"
          }
        },
        "c0dcd786e8a24fd3a747179d0434de78": {
          "model_module": "@jupyter-widgets/controls",
          "model_name": "SliderStyleModel",
          "model_module_version": "1.5.0",
          "state": {
            "_view_name": "StyleView",
            "handle_color": null,
            "_model_name": "SliderStyleModel",
            "description_width": "",
            "_view_module": "@jupyter-widgets/base",
            "_model_module_version": "1.5.0",
            "_view_count": null,
            "_view_module_version": "1.2.0",
            "_model_module": "@jupyter-widgets/controls"
          }
        },
        "3d50c327c05b4e939b17488f157106e8": {
          "model_module": "@jupyter-widgets/base",
          "model_name": "LayoutModel",
          "model_module_version": "1.2.0",
          "state": {
            "_view_name": "LayoutView",
            "grid_template_rows": null,
            "right": null,
            "justify_content": null,
            "_view_module": "@jupyter-widgets/base",
            "overflow": null,
            "_model_module_version": "1.2.0",
            "_view_count": null,
            "flex_flow": null,
            "width": null,
            "min_width": null,
            "border": null,
            "align_items": null,
            "bottom": null,
            "_model_module": "@jupyter-widgets/base",
            "top": null,
            "grid_column": null,
            "overflow_y": null,
            "overflow_x": null,
            "grid_auto_flow": null,
            "grid_area": null,
            "grid_template_columns": null,
            "flex": null,
            "_model_name": "LayoutModel",
            "justify_items": null,
            "grid_row": null,
            "max_height": null,
            "align_content": null,
            "visibility": null,
            "align_self": null,
            "height": null,
            "min_height": null,
            "padding": null,
            "grid_auto_rows": null,
            "grid_gap": null,
            "max_width": null,
            "order": null,
            "_view_module_version": "1.2.0",
            "grid_template_areas": null,
            "object_position": null,
            "object_fit": null,
            "grid_auto_columns": null,
            "margin": null,
            "display": null,
            "left": null
          }
        },
        "b3a971953deb41818c1f80ec0216a383": {
          "model_module": "@jupyter-widgets/controls",
          "model_name": "SliderStyleModel",
          "model_module_version": "1.5.0",
          "state": {
            "_view_name": "StyleView",
            "handle_color": null,
            "_model_name": "SliderStyleModel",
            "description_width": "",
            "_view_module": "@jupyter-widgets/base",
            "_model_module_version": "1.5.0",
            "_view_count": null,
            "_view_module_version": "1.2.0",
            "_model_module": "@jupyter-widgets/controls"
          }
        },
        "2e2dcd71f1d44fff8948a4b5569d9f4c": {
          "model_module": "@jupyter-widgets/base",
          "model_name": "LayoutModel",
          "model_module_version": "1.2.0",
          "state": {
            "_view_name": "LayoutView",
            "grid_template_rows": null,
            "right": null,
            "justify_content": null,
            "_view_module": "@jupyter-widgets/base",
            "overflow": null,
            "_model_module_version": "1.2.0",
            "_view_count": null,
            "flex_flow": null,
            "width": null,
            "min_width": null,
            "border": null,
            "align_items": null,
            "bottom": null,
            "_model_module": "@jupyter-widgets/base",
            "top": null,
            "grid_column": null,
            "overflow_y": null,
            "overflow_x": null,
            "grid_auto_flow": null,
            "grid_area": null,
            "grid_template_columns": null,
            "flex": null,
            "_model_name": "LayoutModel",
            "justify_items": null,
            "grid_row": null,
            "max_height": null,
            "align_content": null,
            "visibility": null,
            "align_self": null,
            "height": null,
            "min_height": null,
            "padding": null,
            "grid_auto_rows": null,
            "grid_gap": null,
            "max_width": null,
            "order": null,
            "_view_module_version": "1.2.0",
            "grid_template_areas": null,
            "object_position": null,
            "object_fit": null,
            "grid_auto_columns": null,
            "margin": null,
            "display": null,
            "left": null
          }
        },
        "9e6813ff858d4f29ab875a045b530bf1": {
          "model_module": "@jupyter-widgets/base",
          "model_name": "LayoutModel",
          "model_module_version": "1.2.0",
          "state": {
            "_view_name": "LayoutView",
            "grid_template_rows": null,
            "right": null,
            "justify_content": null,
            "_view_module": "@jupyter-widgets/base",
            "overflow": null,
            "_model_module_version": "1.2.0",
            "_view_count": null,
            "flex_flow": null,
            "width": null,
            "min_width": null,
            "border": null,
            "align_items": null,
            "bottom": null,
            "_model_module": "@jupyter-widgets/base",
            "top": null,
            "grid_column": null,
            "overflow_y": null,
            "overflow_x": null,
            "grid_auto_flow": null,
            "grid_area": null,
            "grid_template_columns": null,
            "flex": null,
            "_model_name": "LayoutModel",
            "justify_items": null,
            "grid_row": null,
            "max_height": null,
            "align_content": null,
            "visibility": null,
            "align_self": null,
            "height": null,
            "min_height": null,
            "padding": null,
            "grid_auto_rows": null,
            "grid_gap": null,
            "max_width": null,
            "order": null,
            "_view_module_version": "1.2.0",
            "grid_template_areas": null,
            "object_position": null,
            "object_fit": null,
            "grid_auto_columns": null,
            "margin": null,
            "display": null,
            "left": null
          }
        }
      }
    }
  },
  "cells": [
    {
      "cell_type": "markdown",
      "metadata": {
        "id": "view-in-github",
        "colab_type": "text"
      },
      "source": [
        "<a href=\"https://colab.research.google.com/github/sraeisi/MachineLearning_Physics/blob/master/1/MLP_Basics_Intro.ipynb\" target=\"_parent\"><img src=\"https://colab.research.google.com/assets/colab-badge.svg\" alt=\"Open In Colab\"/></a>"
      ]
    },
    {
      "cell_type": "markdown",
      "metadata": {
        "id": "9LF5jKQTBViw"
      },
      "source": [
        "Lecture 1, 2: Introduction\n",
        "======\n",
        "\n",
        "\n",
        "\n",
        "*   What is Machine Learning?\n",
        "*   Unsupervised ML vs Supervised ML\n",
        "*   Introduction to Supervised ML\n",
        "\n"
      ]
    },
    {
      "cell_type": "markdown",
      "metadata": {
        "id": "Jh0Fb3qAaEkS"
      },
      "source": [
        "## Preliminaries"
      ]
    },
    {
      "cell_type": "code",
      "metadata": {
        "id": "Mgcv9i0PaEkW"
      },
      "source": [
        "import numpy as np\n",
        "import pandas as pd\n",
        "import matplotlib.pyplot as plt\n",
        "plt.style.use('seaborn-talk')\n",
        "\n",
        "import seaborn as sns\n",
        "\n",
        "\n",
        "import warnings\n",
        "warnings.filterwarnings('ignore')\n",
        "\n",
        "import requests, io"
      ],
      "execution_count": 1,
      "outputs": []
    },
    {
      "cell_type": "code",
      "metadata": {
        "id": "fwaL-MKseR3d"
      },
      "source": [
        "'''Set the defaults for your plots.'''\n",
        "# plt.rcParams.update({'font.size': 20, 'figsize':(8,6)})\n",
        "SMALL_SIZE = 12\n",
        "MEDIUM_SIZE = 15\n",
        "BIGGER_SIZE = 18\n",
        "\n",
        "plt.rc('font', size=BIGGER_SIZE)          # controls default text sizes\n",
        "plt.rc('axes', titlesize=MEDIUM_SIZE)     # fontsize of the axes title\n",
        "plt.rc('axes', labelsize=BIGGER_SIZE)    # fontsize of the x and y labels\n",
        "plt.rc('xtick', labelsize=SMALL_SIZE)    # fontsize of the tick labels\n",
        "plt.rc('ytick', labelsize=SMALL_SIZE)    # fontsize of the tick labels\n",
        "plt.rc('legend', fontsize=MEDIUM_SIZE)    # legend fontsize\n",
        "plt.rc('figure', titlesize=BIGGER_SIZE)  # fontsize of the figure title\n",
        "\n",
        "plt.rc('axes', linewidth = 3 )\n",
        "plt.rc('lines', linewidth = 5 )\n",
        "\n",
        "plt.rc('lines', markersize = 10 )\n",
        "\n",
        "plt.rc('figure', figsize=(10,5) )         # Image size"
      ],
      "execution_count": 2,
      "outputs": []
    },
    {
      "cell_type": "markdown",
      "metadata": {
        "id": "k6rYUnkUbp1o"
      },
      "source": [
        "# Unsupervised ML"
      ]
    },
    {
      "cell_type": "markdown",
      "metadata": {
        "id": "z5ebYfSfbux6"
      },
      "source": [
        "## Clustering"
      ]
    },
    {
      "cell_type": "markdown",
      "metadata": {
        "id": "EC5BDMhVbzWm"
      },
      "source": [
        "### Data\n",
        "\n",
        "We first generate some data"
      ]
    },
    {
      "cell_type": "code",
      "metadata": {
        "id": "z7BtTrK9bobE"
      },
      "source": [
        "from sklearn.datasets import make_biclusters\n",
        "X_cls = make_biclusters(shape=(100, 2), n_clusters=2 , noise=10 )[0]"
      ],
      "execution_count": null,
      "outputs": []
    },
    {
      "cell_type": "markdown",
      "metadata": {
        "id": "vHUL8buadecd"
      },
      "source": [
        "### Visualization of a clustering problem"
      ]
    },
    {
      "cell_type": "code",
      "metadata": {
        "colab": {
          "base_uri": "https://localhost:8080/",
          "height": 350
        },
        "id": "SrvNBxBBcYL8",
        "outputId": "a4299567-55ed-4ef3-a274-c078508af741"
      },
      "source": [
        "plt.scatter(*X.T)\n",
        "plt.xlabel('Feature 1')\n",
        "plt.ylabel('Feature 2');"
      ],
      "execution_count": null,
      "outputs": [
        {
          "output_type": "display_data",
          "data": {
            "image/png": "[encoded data removed]",
            "text/plain": [
              "<Figure size 720x360 with 1 Axes>"
            ]
          },
          "metadata": {
            "needs_background": "light"
          }
        }
      ]
    },
    {
      "cell_type": "markdown",
      "metadata": {
        "id": "5fYfzxtLe30I"
      },
      "source": [
        "What do you see in this plot?"
      ]
    },
    {
      "cell_type": "markdown",
      "metadata": {
        "id": "OkY9ZZdEfEPH"
      },
      "source": [
        "### A real example"
      ]
    },
    {
      "cell_type": "code",
      "metadata": {
        "colab": {
          "base_uri": "https://localhost:8080/",
          "height": 346
        },
        "cellView": "form",
        "id": "v3H1kheIdiGY",
        "outputId": "d6c64ad0-3db7-4b1b-90df-f20c0db15572"
      },
      "source": [
        "#@title Data for Particle identification (Binary)\n",
        "\n",
        "\n",
        "url = 'https://raw.githubusercontent.com/sraeisi/Machine_Learning_Physics_Winter20/master/Lec1/particle_mini.npz'\n",
        "s=requests.get(url, stream=True).content\n",
        "data=np.load(io.BytesIO(s) )\n",
        "\n",
        "\n",
        "## If want to run locally\n",
        "# data= np.load('particle_mini.npz')\n",
        "\n",
        "X, Y = data['X'], data['Y']\n",
        "\n",
        "x_label='p'\n",
        "y_label = 'beta'\n",
        "fig = plt.figure(figsize=(8,5))\n",
        "ax = fig.add_subplot(111, xlabel = 'p', ylabel='beta')\n",
        "ax.scatter(X[:,0], X[:,1], \n",
        "           #c= Y , cmap=plt.cm.coolwarm, \n",
        "           s=20)\n",
        "\n",
        "plt.show()"
      ],
      "execution_count": null,
      "outputs": [
        {
          "output_type": "display_data",
          "data": {
            "image/png": "[encoded data removed]",
            "text/plain": [
              "<Figure size 576x360 with 1 Axes>"
            ]
          },
          "metadata": {
            "needs_background": "light"
          }
        }
      ]
    },
    {
      "cell_type": "markdown",
      "metadata": {
        "id": "gn07zmCEfwXk"
      },
      "source": [
        "## Dimensionality reduction"
      ]
    },
    {
      "cell_type": "code",
      "metadata": {
        "colab": {
          "base_uri": "https://localhost:8080/",
          "height": 346
        },
        "cellView": "form",
        "id": "Pit1jA4jgCqJ",
        "outputId": "e217e8f4-059c-433a-efdd-d1d8e0848ab4"
      },
      "source": [
        "#@title Constant velocity motion\n",
        "\n",
        "#@markdown How many degrees of freedom are there? \n",
        "\n",
        "#@markdown Do we need both time and position?\n",
        "\n",
        "v = 5\n",
        "t_list = np.arange(0,10,.5)\n",
        "x_list = v * np.arange(0,10,.5)\n",
        "\n",
        "\n",
        "x_label='Time'\n",
        "y_label = 'Position'\n",
        "fig = plt.figure(figsize=(8,5))\n",
        "ax = fig.add_subplot(111, xlabel = x_label, ylabel=y_label)\n",
        "ax.scatter(t_list, x_list, marker='*',\n",
        "           s=50)\n",
        "\n",
        "plt.show()"
      ],
      "execution_count": null,
      "outputs": [
        {
          "output_type": "display_data",
          "data": {
            "image/png": "[encoded data removed]",
            "text/plain": [
              "<Figure size 576x360 with 1 Axes>"
            ]
          },
          "metadata": {
            "needs_background": "light"
          }
        }
      ]
    },
    {
      "cell_type": "markdown",
      "metadata": {
        "id": "80nmc276hTil"
      },
      "source": [
        "This is a 2D example that can be mapped into 1D (just time). "
      ]
    },
    {
      "cell_type": "markdown",
      "metadata": {
        "id": "40ZUyFK8hYlQ"
      },
      "source": [
        "## Annomoly detection"
      ]
    },
    {
      "cell_type": "code",
      "metadata": {
        "colab": {
          "base_uri": "https://localhost:8080/",
          "height": 346
        },
        "id": "nQxiBPDLiW-G",
        "cellView": "form",
        "outputId": "e1615a24-e21b-46d7-ff86-908a76816bce"
      },
      "source": [
        "#@title Data for Particle identification (Binary)\n",
        "\n",
        "\n",
        "url = 'https://raw.githubusercontent.com/sraeisi/Machine_Learning_Physics_Winter20/master/Lec1/particle_mini.npz'\n",
        "s=requests.get(url, stream=True).content\n",
        "data=np.load(io.BytesIO(s) )\n",
        "\n",
        "\n",
        "## If want to run locally\n",
        "# data= np.load('particle_mini.npz')\n",
        "\n",
        "X, Y = data['X'], data['Y']\n",
        "\n",
        "x_label='p'\n",
        "y_label = 'beta'\n",
        "fig = plt.figure(figsize=(8,5))\n",
        "ax = fig.add_subplot(111, xlabel = 'p', ylabel='beta')\n",
        "ax.scatter(X[Y==1,0], X[Y==1,1], \n",
        "           #c= Y , cmap=plt.cm.coolwarm, \n",
        "           s=20)\n",
        "\n",
        "plt.show()"
      ],
      "execution_count": null,
      "outputs": [
        {
          "output_type": "display_data",
          "data": {
            "image/png": "[encoded data removed]",
            "text/plain": [
              "<Figure size 576x360 with 1 Axes>"
            ]
          },
          "metadata": {
            "needs_background": "light"
          }
        }
      ]
    },
    {
      "cell_type": "code",
      "metadata": {
        "colab": {
          "base_uri": "https://localhost:8080/",
          "height": 346
        },
        "cellView": "form",
        "id": "Lg2uKYZSjIBT",
        "outputId": "d0bfaa7e-1eba-42b1-dbe3-3d697b3a36de"
      },
      "source": [
        "#@title Let's color the outliers \n",
        "\n",
        "from sklearn.covariance import EllipticEnvelope\n",
        "clf = EllipticEnvelope( contamination=.3)\n",
        "clf.fit(X)\n",
        "\n",
        "fig = plt.figure(figsize=(8,5))\n",
        "ax = fig.add_subplot(111, xlabel = 'p', ylabel='beta')\n",
        "ax.scatter(X[Y==1,0], X[Y==1,1], \n",
        "           c= clf.predict(X[Y==1]) , \n",
        "           cmap=plt.cm.coolwarm, \n",
        "           s=20)\n",
        "\n",
        "plt.show()"
      ],
      "execution_count": null,
      "outputs": [
        {
          "output_type": "display_data",
          "data": {
            "image/png": "[encoded data removed]",
            "text/plain": [
              "<Figure size 576x360 with 1 Axes>"
            ]
          },
          "metadata": {
            "needs_background": "light"
          }
        }
      ]
    },
    {
      "cell_type": "markdown",
      "metadata": {
        "id": "Q9BU1r3H2-d4"
      },
      "source": [
        "# Supervised ML"
      ]
    },
    {
      "cell_type": "code",
      "metadata": {
        "colab": {
          "base_uri": "https://localhost:8080/",
          "height": 481
        },
        "id": "6NFysrr1jZ8m",
        "cellView": "form",
        "outputId": "cfe1fcd7-fc62-487d-b081-9da68c41f4da"
      },
      "source": [
        "#@title Black-body radition\n",
        "\n",
        "\n",
        "#####BBR###### \n",
        "## This data is collected from galileo.phys.virginia.edu/classes/252\n",
        "url = \"https://github.com/sraeisi/MachineLearning_Physics/blob/master/Data/bbr.xls?raw=true\"\n",
        "data_bbr = pd.read_excel(url)\n",
        "\n",
        "##Scaling the data\n",
        "data_bbr['T'] = 10**20 * data_bbr['T']\n",
        "data_bbr[0] = 10**(-13) * data_bbr[0]\n",
        "\n",
        "from matplotlib.patches import Rectangle\n",
        "\n",
        "x_label = 'Frequency'\n",
        "y_label = 'Radiation'\n",
        "plt_title = 'Black Body Radiation'\n",
        "fig = plt.figure()\n",
        "ax = fig.add_subplot(111, xlabel=x_label, ylabel=y_label, title=plt_title)\n",
        "ax.scatter(data_bbr[0], data_bbr['T'])\n",
        "ax.add_patch(Rectangle((3.5, 0), 1, 21,\n",
        "            #  edgecolor = 'pink',\n",
        "             facecolor = 'gray',\n",
        "             fill=True,\n",
        "             lw=5))\n",
        "\n",
        "# ax.scatter(data_bbr[0][::n_s_rate], 10**20*data_bbr['T/2'][::n_s_rate])\n",
        "plt.show()"
      ],
      "execution_count": null,
      "outputs": [
        {
          "output_type": "display_data",
          "data": {
            "image/png": "[encoded data removed]",
            "text/plain": [
              "<Figure size 748.8x514.8 with 1 Axes>"
            ]
          },
          "metadata": {
            "needs_background": "light"
          }
        }
      ]
    },
    {
      "cell_type": "markdown",
      "metadata": {
        "id": "F7G6vbJp6y2v"
      },
      "source": [
        "Two types of questions:\n",
        "\n",
        "\n",
        "\n",
        "*   What is the value (radiation) at X (or frequency) = 4?\n",
        "*   How does the radition depend on the frequency? Or what is f in Y = f(X) ?\n",
        "\n"
      ]
    },
    {
      "cell_type": "markdown",
      "metadata": {
        "id": "wIkKtblV-bFV"
      },
      "source": [
        "## Classification"
      ]
    },
    {
      "cell_type": "code",
      "metadata": {
        "colab": {
          "base_uri": "https://localhost:8080/",
          "height": 346
        },
        "id": "o_sLk7XT-dG7",
        "cellView": "form",
        "outputId": "141d6d65-ae66-4665-9e59-552487eda519"
      },
      "source": [
        "#@title Data for Particle identification (Binary)\n",
        "\n",
        "\n",
        "url = 'https://raw.githubusercontent.com/sraeisi/Machine_Learning_Physics_Winter20/master/Lec1/particle_mini.npz'\n",
        "s=requests.get(url, stream=True).content\n",
        "data=np.load(io.BytesIO(s) )\n",
        "\n",
        "\n",
        "## If want to run locally\n",
        "# data= np.load('particle_mini.npz')\n",
        "\n",
        "X, Y = data['X'], data['Y']\n",
        "\n",
        "x_label='p'\n",
        "y_label = 'beta'\n",
        "fig = plt.figure(figsize=(8,5))\n",
        "ax = fig.add_subplot(111, xlabel = 'p', ylabel='beta')\n",
        "ax.scatter(X[:,0], X[:,1], \n",
        "           c= Y , cmap=plt.cm.coolwarm, \n",
        "           s=20, alpha = .3)\n",
        "plt.scatter(1.5,1, c='black',  s=100)\n",
        "plt.show()"
      ],
      "execution_count": null,
      "outputs": [
        {
          "output_type": "display_data",
          "data": {
            "image/png": "[encoded data removed]",
            "text/plain": [
              "<Figure size 576x360 with 1 Axes>"
            ]
          },
          "metadata": {
            "needs_background": "light"
          }
        }
      ]
    },
    {
      "cell_type": "markdown",
      "metadata": {
        "id": "Q6JfuQgRBVkE"
      },
      "source": [
        "# Introduction to Supervised ML\n",
        "\n",
        "Consider the spring example in the notes. \n",
        "Let's see how the actual data would look like. \n"
      ]
    },
    {
      "cell_type": "code",
      "metadata": {
        "id": "o5lst5OZBVoW",
        "colab": {
          "base_uri": "https://localhost:8080/",
          "height": 235
        },
        "outputId": "f4122a12-327c-4bc3-ccbb-753ce42fbb2a"
      },
      "source": [
        "'''This data is taken from lab report of students in Phys_Lab 3.'''\n",
        "\n",
        "import io, requests\n",
        "\n",
        "url = 'https://raw.githubusercontent.com/sraeisi/MachineLearning_Physics/master/Data/Spring.csv'\n",
        "s = requests.get(url).content\n",
        "exp_data = pd.read_csv(io.StringIO(s.decode('utf-8')))\n",
        "\n",
        "\n",
        "exp_data"
      ],
      "execution_count": 3,
      "outputs": [
        {
          "output_type": "execute_result",
          "data": {
            "text/html": [
              "<div>\n",
              "<style scoped>\n",
              "    .dataframe tbody tr th:only-of-type {\n",
              "        vertical-align: middle;\n",
              "    }\n",
              "\n",
              "    .dataframe tbody tr th {\n",
              "        vertical-align: top;\n",
              "    }\n",
              "\n",
              "    .dataframe thead th {\n",
              "        text-align: right;\n",
              "    }\n",
              "</style>\n",
              "<table border=\"1\" class=\"dataframe\">\n",
              "  <thead>\n",
              "    <tr style=\"text-align: right;\">\n",
              "      <th></th>\n",
              "      <th>Displacement</th>\n",
              "      <th>Force</th>\n",
              "    </tr>\n",
              "  </thead>\n",
              "  <tbody>\n",
              "    <tr>\n",
              "      <th>0</th>\n",
              "      <td>11.5</td>\n",
              "      <td>0.0</td>\n",
              "    </tr>\n",
              "    <tr>\n",
              "      <th>1</th>\n",
              "      <td>14.7</td>\n",
              "      <td>0.1</td>\n",
              "    </tr>\n",
              "    <tr>\n",
              "      <th>2</th>\n",
              "      <td>18.0</td>\n",
              "      <td>0.2</td>\n",
              "    </tr>\n",
              "    <tr>\n",
              "      <th>3</th>\n",
              "      <td>21.3</td>\n",
              "      <td>0.3</td>\n",
              "    </tr>\n",
              "    <tr>\n",
              "      <th>4</th>\n",
              "      <td>24.5</td>\n",
              "      <td>0.4</td>\n",
              "    </tr>\n",
              "    <tr>\n",
              "      <th>5</th>\n",
              "      <td>27.6</td>\n",
              "      <td>0.5</td>\n",
              "    </tr>\n",
              "  </tbody>\n",
              "</table>\n",
              "</div>"
            ],
            "text/plain": [
              "   Displacement  Force\n",
              "0          11.5    0.0\n",
              "1          14.7    0.1\n",
              "2          18.0    0.2\n",
              "3          21.3    0.3\n",
              "4          24.5    0.4\n",
              "5          27.6    0.5"
            ]
          },
          "metadata": {},
          "execution_count": 3
        }
      ]
    },
    {
      "cell_type": "code",
      "metadata": {
        "colab": {
          "base_uri": "https://localhost:8080/",
          "height": 367
        },
        "id": "TEQaRcnWFRFI",
        "outputId": "b09bc83a-0b8b-46b5-d2f9-73bc4cb9a80f"
      },
      "source": [
        "sns.scatterplot(data=exp_data, x='Displacement', y='Force')"
      ],
      "execution_count": 4,
      "outputs": [
        {
          "output_type": "execute_result",
          "data": {
            "text/plain": [
              "<matplotlib.axes._subplots.AxesSubplot at 0x7f2c33aac750>"
            ]
          },
          "metadata": {},
          "execution_count": 4
        },
        {
          "output_type": "display_data",
          "data": {
            "image/png": "[encoded data removed]",
            "text/plain": [
              "<Figure size 720x360 with 1 Axes>"
            ]
          },
          "metadata": {
            "needs_background": "light"
          }
        }
      ]
    },
    {
      "cell_type": "code",
      "metadata": {
        "id": "nezrGlCTG0oA"
      },
      "source": [
        "## Build a simple model\n",
        "\n",
        "def model(displacement):\n",
        "  ## design your model here\n",
        "  f= .01*(displacement - 11.5)\n",
        "  return f"
      ],
      "execution_count": 22,
      "outputs": []
    },
    {
      "cell_type": "code",
      "metadata": {
        "colab": {
          "base_uri": "https://localhost:8080/",
          "height": 235
        },
        "id": "gSeLN4pmIcUm",
        "outputId": "a7144803-c99f-4397-fe57-821c653b9172"
      },
      "source": [
        "exp_data['Model_Prediction'] = exp_data.Displacement.apply(model)\n",
        "exp_data"
      ],
      "execution_count": 23,
      "outputs": [
        {
          "output_type": "execute_result",
          "data": {
            "text/html": [
              "<div>\n",
              "<style scoped>\n",
              "    .dataframe tbody tr th:only-of-type {\n",
              "        vertical-align: middle;\n",
              "    }\n",
              "\n",
              "    .dataframe tbody tr th {\n",
              "        vertical-align: top;\n",
              "    }\n",
              "\n",
              "    .dataframe thead th {\n",
              "        text-align: right;\n",
              "    }\n",
              "</style>\n",
              "<table border=\"1\" class=\"dataframe\">\n",
              "  <thead>\n",
              "    <tr style=\"text-align: right;\">\n",
              "      <th></th>\n",
              "      <th>Displacement</th>\n",
              "      <th>Force</th>\n",
              "      <th>Model_Prediction</th>\n",
              "    </tr>\n",
              "  </thead>\n",
              "  <tbody>\n",
              "    <tr>\n",
              "      <th>0</th>\n",
              "      <td>11.5</td>\n",
              "      <td>0.0</td>\n",
              "      <td>0.000</td>\n",
              "    </tr>\n",
              "    <tr>\n",
              "      <th>1</th>\n",
              "      <td>14.7</td>\n",
              "      <td>0.1</td>\n",
              "      <td>0.032</td>\n",
              "    </tr>\n",
              "    <tr>\n",
              "      <th>2</th>\n",
              "      <td>18.0</td>\n",
              "      <td>0.2</td>\n",
              "      <td>0.065</td>\n",
              "    </tr>\n",
              "    <tr>\n",
              "      <th>3</th>\n",
              "      <td>21.3</td>\n",
              "      <td>0.3</td>\n",
              "      <td>0.098</td>\n",
              "    </tr>\n",
              "    <tr>\n",
              "      <th>4</th>\n",
              "      <td>24.5</td>\n",
              "      <td>0.4</td>\n",
              "      <td>0.130</td>\n",
              "    </tr>\n",
              "    <tr>\n",
              "      <th>5</th>\n",
              "      <td>27.6</td>\n",
              "      <td>0.5</td>\n",
              "      <td>0.161</td>\n",
              "    </tr>\n",
              "  </tbody>\n",
              "</table>\n",
              "</div>"
            ],
            "text/plain": [
              "   Displacement  Force  Model_Prediction\n",
              "0          11.5    0.0             0.000\n",
              "1          14.7    0.1             0.032\n",
              "2          18.0    0.2             0.065\n",
              "3          21.3    0.3             0.098\n",
              "4          24.5    0.4             0.130\n",
              "5          27.6    0.5             0.161"
            ]
          },
          "metadata": {},
          "execution_count": 23
        }
      ]
    },
    {
      "cell_type": "code",
      "metadata": {
        "colab": {
          "base_uri": "https://localhost:8080/",
          "height": 368
        },
        "id": "luw80rJpHKOU",
        "outputId": "a7ce8ba7-afe4-4bd6-9a4c-67b7069a6e51"
      },
      "source": [
        "fig = plt.figure()\n",
        "ax = fig.add_subplot(111, xlabel='Displacement', ylabel='Force', title='Force vs Displacement')\n",
        "\n",
        "plt.scatter(exp_data.Displacement, exp_data.Force, label='Real data')\n",
        "plt.plot(exp_data.Displacement, exp_data.Model_Prediction, label='Prediction', c='r')\n",
        "plt.legend(loc=0)\n",
        "plt.show()\n"
      ],
      "execution_count": 24,
      "outputs": [
        {
          "output_type": "display_data",
          "data": {
            "image/png": "[encoded data removed]",
            "text/plain": [
              "<Figure size 720x360 with 1 Axes>"
            ]
          },
          "metadata": {
            "needs_background": "light"
          }
        }
      ]
    },
    {
      "cell_type": "code",
      "metadata": {
        "id": "zKEgg_kbJym8",
        "colab": {
          "base_uri": "https://localhost:8080/"
        },
        "outputId": "ff33417d-9f2e-47e3-f16b-e6b86e25b78e"
      },
      "source": [
        "## Calculate the distance between the prediction and the real data  => Loss\n",
        "\n",
        "def dist(Y, Y_pred):\n",
        "\n",
        "  d = np.sum(np.abs( Y - Y_pred ))  ## replace this with what you think is good for the loss\n",
        "\n",
        "  return d \n",
        "\n",
        "## now calculate the distance between your prediction and the actual force. \n",
        "dist( exp_data.Force , exp_data.Model_Prediction )  "
      ],
      "execution_count": 25,
      "outputs": [
        {
          "output_type": "execute_result",
          "data": {
            "text/plain": [
              "1.014"
            ]
          },
          "metadata": {},
          "execution_count": 25
        }
      ]
    },
    {
      "cell_type": "markdown",
      "metadata": {
        "id": "s8RQxgVGLSvy"
      },
      "source": [
        "## Finding a better model\n",
        "\n",
        "Try to play with your model to improve it. \n",
        "\n",
        "What does it mean to improve the model?\n",
        "\n"
      ]
    },
    {
      "cell_type": "code",
      "metadata": {
        "id": "C6CN-qX9Lh_c"
      },
      "source": [
        "'''\n",
        "Parametric Model:\n",
        "Here I make a model that has some parameters that we can play with. \n",
        "'''\n",
        "\n",
        "def model(displacement, w=0):\n",
        "  ## Let's make a linear model with 0 interception. \n",
        "  f = w * (displacement -11.5)\n",
        "\n",
        "  return f\n"
      ],
      "execution_count": 26,
      "outputs": []
    },
    {
      "cell_type": "code",
      "metadata": {
        "colab": {
          "base_uri": "https://localhost:8080/",
          "height": 235
        },
        "id": "MvkPAjR8MbaH",
        "outputId": "b62d9b2e-2250-47a3-8ad8-44c234775606"
      },
      "source": [
        "## Let's see what the predictions are:\n",
        "exp_data['Model_Prediction'] = exp_data.Displacement.apply(lambda x: model(x, .01))\n",
        "exp_data\n"
      ],
      "execution_count": 27,
      "outputs": [
        {
          "output_type": "execute_result",
          "data": {
            "text/html": [
              "<div>\n",
              "<style scoped>\n",
              "    .dataframe tbody tr th:only-of-type {\n",
              "        vertical-align: middle;\n",
              "    }\n",
              "\n",
              "    .dataframe tbody tr th {\n",
              "        vertical-align: top;\n",
              "    }\n",
              "\n",
              "    .dataframe thead th {\n",
              "        text-align: right;\n",
              "    }\n",
              "</style>\n",
              "<table border=\"1\" class=\"dataframe\">\n",
              "  <thead>\n",
              "    <tr style=\"text-align: right;\">\n",
              "      <th></th>\n",
              "      <th>Displacement</th>\n",
              "      <th>Force</th>\n",
              "      <th>Model_Prediction</th>\n",
              "    </tr>\n",
              "  </thead>\n",
              "  <tbody>\n",
              "    <tr>\n",
              "      <th>0</th>\n",
              "      <td>11.5</td>\n",
              "      <td>0.0</td>\n",
              "      <td>0.000</td>\n",
              "    </tr>\n",
              "    <tr>\n",
              "      <th>1</th>\n",
              "      <td>14.7</td>\n",
              "      <td>0.1</td>\n",
              "      <td>0.032</td>\n",
              "    </tr>\n",
              "    <tr>\n",
              "      <th>2</th>\n",
              "      <td>18.0</td>\n",
              "      <td>0.2</td>\n",
              "      <td>0.065</td>\n",
              "    </tr>\n",
              "    <tr>\n",
              "      <th>3</th>\n",
              "      <td>21.3</td>\n",
              "      <td>0.3</td>\n",
              "      <td>0.098</td>\n",
              "    </tr>\n",
              "    <tr>\n",
              "      <th>4</th>\n",
              "      <td>24.5</td>\n",
              "      <td>0.4</td>\n",
              "      <td>0.130</td>\n",
              "    </tr>\n",
              "    <tr>\n",
              "      <th>5</th>\n",
              "      <td>27.6</td>\n",
              "      <td>0.5</td>\n",
              "      <td>0.161</td>\n",
              "    </tr>\n",
              "  </tbody>\n",
              "</table>\n",
              "</div>"
            ],
            "text/plain": [
              "   Displacement  Force  Model_Prediction\n",
              "0          11.5    0.0             0.000\n",
              "1          14.7    0.1             0.032\n",
              "2          18.0    0.2             0.065\n",
              "3          21.3    0.3             0.098\n",
              "4          24.5    0.4             0.130\n",
              "5          27.6    0.5             0.161"
            ]
          },
          "metadata": {},
          "execution_count": 27
        }
      ]
    },
    {
      "cell_type": "code",
      "metadata": {
        "colab": {
          "base_uri": "https://localhost:8080/",
          "height": 385
        },
        "id": "baGtia4sMGIY",
        "outputId": "4c3e1845-dd61-40e7-f9f1-b854e774b422"
      },
      "source": [
        "\n",
        "fig = plt.figure()\n",
        "ax = fig.add_subplot(111, xlabel='Displacement', ylabel='Force', title='Force vs Displacement')\n",
        "\n",
        "plt.scatter(exp_data.Displacement, exp_data.Force, label='Real data')\n",
        "plt.plot(exp_data.Displacement, exp_data.Model_Prediction, label='Prediction',c='r')\n",
        "plt.legend(loc=0)\n",
        "plt.show()\n",
        "print(f'The distance between prediction and real data is {dist( exp_data.Force , exp_data.Model_Prediction )   }.')"
      ],
      "execution_count": 28,
      "outputs": [
        {
          "output_type": "display_data",
          "data": {
            "image/png": "[encoded data removed]",
            "text/plain": [
              "<Figure size 720x360 with 1 Axes>"
            ]
          },
          "metadata": {
            "needs_background": "light"
          }
        },
        {
          "output_type": "stream",
          "name": "stdout",
          "text": [
            "The distance between prediction and real data is 1.014.\n"
          ]
        }
      ]
    },
    {
      "cell_type": "code",
      "metadata": {
        "colab": {
          "base_uri": "https://localhost:8080/",
          "height": 417,
          "referenced_widgets": [
            "329f422efdb644e7a0b3569a29c3fd87",
            "f47198d226d14192bc0ef53571fd7c7a",
            "b6f3a1a5e17142db94c829d6c066f9dc",
            "34a098d5c8da4a4a884577c9de4fc525",
            "2321174feea544a8b58c98c9cc56949f",
            "42087ccd432a426e86a5b2eda7fe5900",
            "69e15bc0ca884ad5a1e34f72e1ee0adf"
          ]
        },
        "id": "2m1jPUjjPswQ",
        "cellView": "form",
        "outputId": "d8cfc269-2fb3-43d5-f4af-e1c823edfed0"
      },
      "source": [
        "#@title let's play with the parameter and find a good model!\n",
        "\n",
        "from ipywidgets import interact, fixed, FloatSlider\n",
        "\n",
        "def plot_both(w):\n",
        "  exp_data['Model_Prediction'] = exp_data.Displacement.apply(lambda x: model(x, w))\n",
        "  \n",
        "  fig = plt.figure()\n",
        "  ax = fig.add_subplot(111, xlabel='Displacement', ylabel='Force', title='Force vs Displacement')\n",
        "\n",
        "  plt.scatter(exp_data.Displacement, exp_data.Force, label='Real data')\n",
        "  plt.plot(exp_data.Displacement, exp_data.Model_Prediction, label='Prediction', c='r')\n",
        "  # plt.ylim(-.1,.7)\n",
        "  plt.legend(loc=0)\n",
        "  # plt.show()\n",
        "  plt.close(fig)\n",
        "  return fig\n",
        "\n",
        "interact(plot_both, w=FloatSlider(min=0.0, max=.07, step=.0001, value=0.01))"
      ],
      "execution_count": 32,
      "outputs": [
        {
          "output_type": "display_data",
          "data": {
            "application/vnd.jupyter.widget-view+json": {
              "model_id": "329f422efdb644e7a0b3569a29c3fd87",
              "version_minor": 0,
              "version_major": 2
            },
            "text/plain": [
              "interactive(children=(FloatSlider(value=0.01, description='w', max=0.07, step=0.0001), Output()), _dom_classes…"
            ]
          },
          "metadata": {}
        },
        {
          "output_type": "execute_result",
          "data": {
            "text/plain": [
              "<function __main__.plot_both>"
            ]
          },
          "metadata": {},
          "execution_count": 32
        }
      ]
    },
    {
      "cell_type": "markdown",
      "metadata": {
        "id": "V4Opf9aRBVor"
      },
      "source": [
        "### Learning\n",
        "\n",
        "Find the best model that you can!\n",
        "\n",
        "Explain the process!\n"
      ]
    },
    {
      "cell_type": "code",
      "metadata": {
        "id": "pHJgTkgbythK",
        "colab": {
          "base_uri": "https://localhost:8080/",
          "height": 308
        },
        "outputId": "61a4de48-3230-4460-dd1a-0b3c14526e06"
      },
      "source": [
        "%%time\n",
        "## Plot distance vs param\n",
        "dparam = .001\n",
        "dist_list = [dist( exp_data.Force , model(exp_data.Displacement , p) )  for p in np.arange(-1,1,dparam)  ]\n",
        "plt.plot(np.arange(-1,1,dparam), dist_list )"
      ],
      "execution_count": null,
      "outputs": [
        {
          "output_type": "stream",
          "text": [
            "CPU times: user 1.72 s, sys: 0 ns, total: 1.72 s\n",
            "Wall time: 1.78 s\n"
          ],
          "name": "stdout"
        },
        {
          "output_type": "display_data",
          "data": {
            "image/png": "[encoded data removed]",
            "text/plain": [
              "<Figure size 576x288 with 1 Axes>"
            ]
          },
          "metadata": {
            "tags": [],
            "needs_background": "light"
          }
        }
      ]
    },
    {
      "cell_type": "code",
      "metadata": {
        "colab": {
          "base_uri": "https://localhost:8080/"
        },
        "id": "cKSjybkgBWk5",
        "outputId": "3d22c3f0-628e-4fa0-abb8-42bd1c6536f9"
      },
      "source": [
        "print(f'The optimal value for w seems to be around {np.arange(-1,1,.0001)[np.argmin(dist_list)]}.\\n')\n",
        "print(f'For this value of w, the loss is {dist( exp_data.Force , model(exp_data.Displacement , 0.0141) )}.' )\n"
      ],
      "execution_count": null,
      "outputs": [
        {
          "output_type": "stream",
          "text": [
            "The optimal value for w seems to be around -0.8986000000000112.\n",
            "\n",
            "For this value of w, the loss is 0.48894.\n"
          ],
          "name": "stdout"
        }
      ]
    },
    {
      "cell_type": "code",
      "metadata": {
        "id": "GvgIvSwhOhkx"
      },
      "source": [
        "### Two parameter model:\n",
        "\n",
        "'''\n",
        "Parametric Model:\n",
        "Here I make a model that has some parameters that we can play with. \n",
        "'''\n",
        "\n",
        "def model(displacement, w=0, b=0):\n",
        "  ## Let's make a linear model with 0 interception. \n",
        "  f = w * displacement + b\n",
        "\n",
        "  return f\n"
      ],
      "execution_count": 34,
      "outputs": []
    },
    {
      "cell_type": "code",
      "metadata": {
        "colab": {
          "base_uri": "https://localhost:8080/",
          "height": 235
        },
        "id": "M1fCR6tPOhk_",
        "outputId": "5a1edf47-cefa-45b5-d39e-b629b2ce3846"
      },
      "source": [
        "## Let's see what the predictions are:\n",
        "exp_data['Model_Prediction'] = exp_data.Displacement.apply(lambda x: model(x, .01, .1))\n",
        "exp_data"
      ],
      "execution_count": 35,
      "outputs": [
        {
          "output_type": "execute_result",
          "data": {
            "text/html": [
              "<div>\n",
              "<style scoped>\n",
              "    .dataframe tbody tr th:only-of-type {\n",
              "        vertical-align: middle;\n",
              "    }\n",
              "\n",
              "    .dataframe tbody tr th {\n",
              "        vertical-align: top;\n",
              "    }\n",
              "\n",
              "    .dataframe thead th {\n",
              "        text-align: right;\n",
              "    }\n",
              "</style>\n",
              "<table border=\"1\" class=\"dataframe\">\n",
              "  <thead>\n",
              "    <tr style=\"text-align: right;\">\n",
              "      <th></th>\n",
              "      <th>Displacement</th>\n",
              "      <th>Force</th>\n",
              "      <th>Model_Prediction</th>\n",
              "    </tr>\n",
              "  </thead>\n",
              "  <tbody>\n",
              "    <tr>\n",
              "      <th>0</th>\n",
              "      <td>11.5</td>\n",
              "      <td>0.0</td>\n",
              "      <td>0.215</td>\n",
              "    </tr>\n",
              "    <tr>\n",
              "      <th>1</th>\n",
              "      <td>14.7</td>\n",
              "      <td>0.1</td>\n",
              "      <td>0.247</td>\n",
              "    </tr>\n",
              "    <tr>\n",
              "      <th>2</th>\n",
              "      <td>18.0</td>\n",
              "      <td>0.2</td>\n",
              "      <td>0.280</td>\n",
              "    </tr>\n",
              "    <tr>\n",
              "      <th>3</th>\n",
              "      <td>21.3</td>\n",
              "      <td>0.3</td>\n",
              "      <td>0.313</td>\n",
              "    </tr>\n",
              "    <tr>\n",
              "      <th>4</th>\n",
              "      <td>24.5</td>\n",
              "      <td>0.4</td>\n",
              "      <td>0.345</td>\n",
              "    </tr>\n",
              "    <tr>\n",
              "      <th>5</th>\n",
              "      <td>27.6</td>\n",
              "      <td>0.5</td>\n",
              "      <td>0.376</td>\n",
              "    </tr>\n",
              "  </tbody>\n",
              "</table>\n",
              "</div>"
            ],
            "text/plain": [
              "   Displacement  Force  Model_Prediction\n",
              "0          11.5    0.0             0.215\n",
              "1          14.7    0.1             0.247\n",
              "2          18.0    0.2             0.280\n",
              "3          21.3    0.3             0.313\n",
              "4          24.5    0.4             0.345\n",
              "5          27.6    0.5             0.376"
            ]
          },
          "metadata": {},
          "execution_count": 35
        }
      ]
    },
    {
      "cell_type": "code",
      "metadata": {
        "colab": {
          "base_uri": "https://localhost:8080/",
          "height": 385
        },
        "id": "MsId10fyOhlB",
        "outputId": "dfffe05e-9327-4837-a6f8-77ea6b8dcd49"
      },
      "source": [
        "fig = plt.figure()\n",
        "ax = fig.add_subplot(111, xlabel='Displacement', ylabel='Force', title='Force vs Displacement')\n",
        "\n",
        "plt.scatter(exp_data.Displacement, exp_data.Force, label='Real data')\n",
        "plt.plot(exp_data.Displacement, exp_data.Model_Prediction, label='Prediction', c='r')\n",
        "plt.legend(loc=0)\n",
        "plt.show()\n",
        "print(f'The distance between prediction and real data is {dist( exp_data.Force , exp_data.Model_Prediction )   }.')"
      ],
      "execution_count": 36,
      "outputs": [
        {
          "output_type": "display_data",
          "data": {
            "image/png": "[encoded data removed]",
            "text/plain": [
              "<Figure size 720x360 with 1 Axes>"
            ]
          },
          "metadata": {
            "needs_background": "light"
          }
        },
        {
          "output_type": "stream",
          "name": "stdout",
          "text": [
            "The distance between prediction and real data is 0.6340000000000001.\n"
          ]
        }
      ]
    },
    {
      "cell_type": "code",
      "metadata": {
        "colab": {
          "base_uri": "https://localhost:8080/",
          "height": 449,
          "referenced_widgets": [
            "d80d2e5734084758af785df95296e2ea",
            "d6800b312f36458798b59ae2a68916bb",
            "7e04c1b4ec9345cf907b3ef768d13e98",
            "e243b19b06934d2cb959e605b1190208",
            "b028b8d76d81433bb8e41fe91222ed9a",
            "c0dcd786e8a24fd3a747179d0434de78",
            "3d50c327c05b4e939b17488f157106e8",
            "b3a971953deb41818c1f80ec0216a383",
            "2e2dcd71f1d44fff8948a4b5569d9f4c",
            "9e6813ff858d4f29ab875a045b530bf1"
          ]
        },
        "id": "NwuC6Sn0OhlC",
        "outputId": "d60227bf-1cc6-42c3-988c-7915c156aff5"
      },
      "source": [
        "from ipywidgets import interact, fixed, FloatSlider\n",
        "\n",
        "def plot_both(w,b):\n",
        "  exp_data['Model_Prediction'] = exp_data.Displacement.apply(lambda x: model(x, w,b))\n",
        "  \n",
        "  fig = plt.figure()\n",
        "  ax = fig.add_subplot(111, xlabel='Displacement', ylabel='Force', title='Force vs Displacement')\n",
        "\n",
        "  plt.scatter(exp_data.Displacement, exp_data.Force, label='Real data')\n",
        "  plt.plot(exp_data.Displacement, exp_data.Model_Prediction, label='Prediction', c='r')\n",
        "  # plt.ylim(-.1,.7)\n",
        "  plt.legend(loc=0)\n",
        "  # plt.show()\n",
        "  plt.close(fig)\n",
        "  return fig\n",
        "\n",
        "interact(plot_both, w=FloatSlider(min=0.0, max=.05, step=.0001, value=0),\n",
        "         b=FloatSlider(min=-1, max=1.0, step=.0001, value=0))"
      ],
      "execution_count": 37,
      "outputs": [
        {
          "output_type": "display_data",
          "data": {
            "application/vnd.jupyter.widget-view+json": {
              "model_id": "d80d2e5734084758af785df95296e2ea",
              "version_minor": 0,
              "version_major": 2
            },
            "text/plain": [
              "interactive(children=(FloatSlider(value=0.0, description='w', max=0.05, step=0.0001), FloatSlider(value=0.0, d…"
            ]
          },
          "metadata": {}
        },
        {
          "output_type": "execute_result",
          "data": {
            "text/plain": [
              "<function __main__.plot_both>"
            ]
          },
          "metadata": {},
          "execution_count": 37
        }
      ]
    },
    {
      "cell_type": "code",
      "metadata": {
        "colab": {
          "base_uri": "https://localhost:8080/",
          "height": 470
        },
        "id": "NIjFDmRPOhlD",
        "outputId": "2bfad490-dc71-4e04-df5b-f3035c3991b7"
      },
      "source": [
        "## Plot distance vs param\n",
        "dist_list = np.array([[dist( exp_data.Force , \n",
        "                   model(exp_data.Displacement , w,b) )  for w in np.arange(-.1,.1,.01)  ] for b in np.arange(-1,1,.01)])\n",
        "\n",
        "## The index for the optimal values are:\n",
        "opt_ind = np.unravel_index( np.argmin(dist_list ), dist_list.shape )\n",
        "print(f'The index for the optimal values are {opt_ind[::-1]}.\\n')\n",
        "\n",
        "## The optimal values are :\n",
        "opt_param = np.round(np.arange(-.1,.1,.01)[opt_ind[1]], 3), np.round(np.arange(-1,1,.01)[opt_ind[0]], 3)\n",
        "print(f'The optimal values are {opt_param}.\\n')\n",
        "\n",
        "# The min loss values is :\n",
        "print(f'The min loss values is {dist_list[opt_ind]:.4f}.\\n')\n",
        "\n",
        "\n",
        "fig = plt.figure(figsize=(15,5))\n",
        "ax = fig.add_subplot(121, xlabel='w', ylabel='b', title='Loss vs w and b')\n",
        "\n",
        "plt.imshow(dist_list, extent=[-.1,.1,-1,1], aspect=.10, origin='lower')\n",
        "plt.scatter(*opt_param, c='r')\n",
        "plt.colorbar()\n",
        "\n",
        "ax = fig.add_subplot(122, xlabel='Displacement', ylabel='Force', title='Force vs Displacement')\n",
        "plt.scatter(exp_data.Displacement, exp_data.Force, label='Real data')\n",
        "plt.plot(exp_data.Displacement, model(exp_data.Displacement , opt_param[0], opt_param[1]) , label='Prediction', c='r')\n",
        "plt.legend(loc=0)\n",
        "plt.show()"
      ],
      "execution_count": 42,
      "outputs": [
        {
          "output_type": "stream",
          "name": "stdout",
          "text": [
            "The index for the optimal values are (13, 66).\n",
            "\n",
            "The optimal values are (0.03, -0.34).\n",
            "\n",
            "The min loss values is 0.0240.\n",
            "\n"
          ]
        },
        {
          "output_type": "display_data",
          "data": {
            "image/png": "[encoded data removed]",
            "text/plain": [
              "<Figure size 1080x360 with 3 Axes>"
            ]
          },
          "metadata": {
            "needs_background": "light"
          }
        }
      ]
    },
    {
      "cell_type": "markdown",
      "metadata": {
        "id": "PXW6Q3vvgT9H"
      },
      "source": [
        "Why is the point in the left panel not right in the middle of the blue region? \n",
        "\n",
        "In other words, why does it seem to deviate from the actual optimal point?"
      ]
    },
    {
      "cell_type": "markdown",
      "metadata": {
        "id": "JznhhH_uBVnh"
      },
      "source": [
        "### Using sklearn\n",
        "\n",
        "https://scikit-learn.org/stable/\n",
        "\n",
        "This is one of the widely used libraries in ML, specially for traditional ML techniques, evaluation and model selection. "
      ]
    },
    {
      "cell_type": "code",
      "metadata": {
        "id": "bGVHl7LHBVnm",
        "colab": {
          "base_uri": "https://localhost:8080/"
        },
        "outputId": "36f79493-e1ad-4fdd-e6e5-03415379f5ad"
      },
      "source": [
        "from sklearn.linear_model import LinearRegression\n",
        "\n",
        "'''\n",
        "We first train an estimator which  finds a good fit to the data.\n",
        "'''\n",
        "\n",
        "reg = LinearRegression()  ## Defines/Constructs the estimator\n",
        "reg.fit(exp_data.Displacement.values.reshape(-1,1), exp_data.Force)  ##Trains the estimator\n"
      ],
      "execution_count": 43,
      "outputs": [
        {
          "output_type": "execute_result",
          "data": {
            "text/plain": [
              "LinearRegression(copy_X=True, fit_intercept=True, n_jobs=None, normalize=False)"
            ]
          },
          "metadata": {},
          "execution_count": 43
        }
      ]
    },
    {
      "cell_type": "code",
      "metadata": {
        "id": "3PkqzfqlBVn5",
        "colab": {
          "base_uri": "https://localhost:8080/",
          "height": 368
        },
        "cellView": "form",
        "outputId": "88f39920-3959-4b60-c896-e08c069f4bcb"
      },
      "source": [
        "#@title The model found by sklearn. \n",
        "\n",
        "x = np.arange(0,5,.1).reshape(50,1)  \n",
        "\n",
        "### Now we plot the \n",
        "fig = plt.figure()\n",
        "ax = fig.add_subplot(111, xlabel='Displacement', ylabel='Force', title='Force vs Displacement')\n",
        "\n",
        "plt.scatter(exp_data.Displacement, exp_data.Force, label='Real data')\n",
        "ax.plot(exp_data.Displacement, reg.predict( exp_data.Displacement.values.reshape(-1,1) ) ,  \n",
        "        label='Linear Regression Fit' , c= 'r')\n",
        "plt.legend(loc=0)\n",
        "plt.show()\n"
      ],
      "execution_count": 44,
      "outputs": [
        {
          "output_type": "display_data",
          "data": {
            "image/png": "[encoded data removed]",
            "text/plain": [
              "<Figure size 720x360 with 1 Axes>"
            ]
          },
          "metadata": {
            "needs_background": "light"
          }
        }
      ]
    },
    {
      "cell_type": "code",
      "metadata": {
        "id": "Uh_W3Yir1AlZ",
        "colab": {
          "base_uri": "https://localhost:8080/"
        },
        "outputId": "e7dff870-bf73-4efb-f305-234a22e24609"
      },
      "source": [
        "print(f'The optimal w is {reg.coef_[0]:.4f} and the optimal b is {reg.intercept_:.4f}.\\n')\n",
        "print('This is in reasonable agreement with the ones we got.')"
      ],
      "execution_count": 51,
      "outputs": [
        {
          "output_type": "stream",
          "name": "stdout",
          "text": [
            "The optimal w is 0.0309 and the optimal b is -0.3559.\n",
            "\n",
            "This is in reasonable agreement with the ones we got.\n"
          ]
        }
      ]
    },
    {
      "cell_type": "markdown",
      "metadata": {
        "id": "txfdCNUBcZ00"
      },
      "source": [
        "#Exercise \n",
        "\n",
        "\n",
        "## Balck Body Radiation\n",
        "Do the same for the black body radiation. "
      ]
    },
    {
      "cell_type": "code",
      "metadata": {
        "colab": {
          "base_uri": "https://localhost:8080/",
          "height": 368
        },
        "id": "zBCiN0ivcYsD",
        "outputId": "fbb6cca4-5d2b-494e-8bdd-aeba050139a8"
      },
      "source": [
        "#####BBR###### \n",
        "## This data is collected from galileo.phys.virginia.edu/classes/252\n",
        "url = \"https://github.com/sraeisi/MachineLearning_Physics/blob/master/Data/bbr.xls?raw=true\"\n",
        "data_bbr = pd.read_excel(url)\n",
        "\n",
        "n_s_rate=1\n",
        "\n",
        "x_label = 'Wave length '\n",
        "y_label = 'Radiation'\n",
        "plt_title = 'Black Body Radiation'\n",
        "fig = plt.figure()\n",
        "ax = fig.add_subplot(111, xlabel=x_label, ylabel=y_label, title=plt_title)\n",
        "\n",
        "ax.scatter(data_bbr[0][::n_s_rate], 10**20*data_bbr['T'][::n_s_rate])\n",
        "ax.scatter(data_bbr[0][::n_s_rate], 10**20*data_bbr['T/2'][::n_s_rate])\n",
        "plt.show()"
      ],
      "execution_count": 52,
      "outputs": [
        {
          "output_type": "display_data",
          "data": {
            "image/png": "[encoded data removed]",
            "text/plain": [
              "<Figure size 720x360 with 1 Axes>"
            ]
          },
          "metadata": {
            "needs_background": "light"
          }
        }
      ]
    },
    {
      "cell_type": "code",
      "metadata": {
        "id": "3QvS9eJh-PTg",
        "colab": {
          "base_uri": "https://localhost:8080/",
          "height": 111
        },
        "outputId": "0f4bda01-eb45-40bd-8e72-bb232f37e6fe"
      },
      "source": [
        "data_bbr.head(2)"
      ],
      "execution_count": 53,
      "outputs": [
        {
          "output_type": "execute_result",
          "data": {
            "text/html": [
              "<div>\n",
              "<style scoped>\n",
              "    .dataframe tbody tr th:only-of-type {\n",
              "        vertical-align: middle;\n",
              "    }\n",
              "\n",
              "    .dataframe tbody tr th {\n",
              "        vertical-align: top;\n",
              "    }\n",
              "\n",
              "    .dataframe thead th {\n",
              "        text-align: right;\n",
              "    }\n",
              "</style>\n",
              "<table border=\"1\" class=\"dataframe\">\n",
              "  <thead>\n",
              "    <tr style=\"text-align: right;\">\n",
              "      <th></th>\n",
              "      <th>0</th>\n",
              "      <th>T</th>\n",
              "      <th>0.1</th>\n",
              "      <th>T/2</th>\n",
              "      <th>0.2</th>\n",
              "    </tr>\n",
              "  </thead>\n",
              "  <tbody>\n",
              "    <tr>\n",
              "      <th>0</th>\n",
              "      <td>88182000000</td>\n",
              "      <td>2.978514e-23</td>\n",
              "      <td>2.997673e-23</td>\n",
              "      <td>1.478758e-23</td>\n",
              "      <td>1.498837e-23</td>\n",
              "    </tr>\n",
              "    <tr>\n",
              "      <th>1</th>\n",
              "      <td>176364000000</td>\n",
              "      <td>1.183007e-22</td>\n",
              "      <td>1.199069e-22</td>\n",
              "      <td>5.831636e-23</td>\n",
              "      <td>5.995346e-23</td>\n",
              "    </tr>\n",
              "  </tbody>\n",
              "</table>\n",
              "</div>"
            ],
            "text/plain": [
              "              0             T           0.1           T/2           0.2\n",
              "0   88182000000  2.978514e-23  2.997673e-23  1.478758e-23  1.498837e-23\n",
              "1  176364000000  1.183007e-22  1.199069e-22  5.831636e-23  5.995346e-23"
            ]
          },
          "metadata": {},
          "execution_count": 53
        }
      ]
    },
    {
      "cell_type": "code",
      "metadata": {
        "id": "zPyH7Wy_cw6f"
      },
      "source": [
        "'''\n",
        "Exercise:\n",
        "Find a fit and plot them along side the data. \n",
        "\n",
        "- Use X and Y defined here. \n",
        "- Build a model\n",
        "- Plot your model with the data\n",
        "\n",
        "Can you use the simple model we had before?\n",
        "Is it easy to guess the parameters of the model?\n",
        "'''"
      ],
      "execution_count": null,
      "outputs": []
    },
    {
      "cell_type": "code",
      "metadata": {
        "id": "zFNBv3a26zhQ"
      },
      "source": [
        "X = 10**(-13)*data_bbr[0].values.reshape(-1,1)\n",
        "Y = 10**20*data_bbr['T']"
      ],
      "execution_count": 55,
      "outputs": []
    },
    {
      "cell_type": "markdown",
      "metadata": {
        "id": "oAMiQjauiCDC"
      },
      "source": [
        "### Sample Solution\n",
        "\n",
        "Look into the sklearn library and try a few different techniques. "
      ]
    },
    {
      "cell_type": "code",
      "metadata": {
        "id": "z1kK6MDt6Vh6",
        "colab": {
          "base_uri": "https://localhost:8080/"
        },
        "outputId": "676da311-4d45-4158-e4fe-e14e7850e867"
      },
      "source": [
        "### Let's try a simple model to see how this works:\n",
        "from sklearn.linear_model import SGDRegressor\n",
        "sgd_rg = SGDRegressor( loss='squared_loss'  )\n",
        "sgd_rg.fit(X,Y)\n",
        "sgd_rg.score(X,Y)"
      ],
      "execution_count": 60,
      "outputs": [
        {
          "output_type": "execute_result",
          "data": {
            "text/plain": [
              "0.4030237655988653"
            ]
          },
          "metadata": {},
          "execution_count": 60
        }
      ]
    },
    {
      "cell_type": "code",
      "metadata": {
        "id": "0ANdmtT6-uQG",
        "colab": {
          "base_uri": "https://localhost:8080/"
        },
        "outputId": "f4af4557-3a4b-48cb-bc30-4911e1b6745d"
      },
      "source": [
        "### Calcualte the distance between the predicted Y and the actual Y, how good is it?\n",
        "Y_pred = sgd_rg.predict(X)\n",
        "from sklearn.metrics import mean_squared_error\n",
        "print(f'The MSE is {mean_squared_error(Y, Y_pred)}')"
      ],
      "execution_count": 61,
      "outputs": [
        {
          "output_type": "stream",
          "name": "stdout",
          "text": [
            "The MSE is 32.932629037843185\n"
          ]
        }
      ]
    },
    {
      "cell_type": "code",
      "metadata": {
        "id": "M-RX4guX-tsq",
        "colab": {
          "base_uri": "https://localhost:8080/",
          "height": 345
        },
        "outputId": "91fd7e3e-c4dd-43e3-f083-d2c20c86d03d"
      },
      "source": [
        "plt.plot(X,Y)\n",
        "plt.plot(X,Y_pred)\n",
        "## Not a good fit, how can we improve this?"
      ],
      "execution_count": 62,
      "outputs": [
        {
          "output_type": "execute_result",
          "data": {
            "text/plain": [
              "[<matplotlib.lines.Line2D at 0x7f2c2b608890>]"
            ]
          },
          "metadata": {},
          "execution_count": 62
        },
        {
          "output_type": "display_data",
          "data": {
            "image/png": "[encoded data removed]",
            "text/plain": [
              "<Figure size 720x360 with 1 Axes>"
            ]
          },
          "metadata": {
            "needs_background": "light"
          }
        }
      ]
    },
    {
      "cell_type": "markdown",
      "metadata": {
        "id": "Oy_T6ZKWdn2L"
      },
      "source": [
        "## Multi-feature data\n",
        "\n",
        "Do the same for the following data."
      ]
    },
    {
      "cell_type": "code",
      "metadata": {
        "colab": {
          "base_uri": "https://localhost:8080/",
          "height": 253
        },
        "id": "xqGki_e5drXV",
        "outputId": "80675ac7-d9b5-4475-8f9c-e050a28789fc"
      },
      "source": [
        "'''\n",
        "We need to first import the data. I took the data from the following kaggle dataset. \n",
        "\n",
        "https://www.kaggle.com/burakhmmtgl/energy-molecule\n",
        "\n",
        "These are the ground state energies of some molecules based on their different \n",
        "chemical bounds. \n",
        "'''\n",
        "import io, requests\n",
        "url = 'https://www.dropbox.com/s/das9t6vwp7t4b7f/roboBohr.csv.zip?dl=1'\n",
        "s=requests.get(url, stream=True).content\n",
        "data=pd.read_csv(io.BytesIO(s) , compression='zip' , index_col=0)\n",
        " \n",
        "'''\n",
        "Alternatively, you can download the file into your computer and run the following code. \n",
        "You need to uncomment it first. \n",
        "'''    \n",
        "# data = pd.read_csv('roboBohr.csv.zip', compression='zip', index_col=0)\n",
        "\n",
        "data.head()"
      ],
      "execution_count": 63,
      "outputs": [
        {
          "output_type": "execute_result",
          "data": {
            "text/html": [
              "<div>\n",
              "<style scoped>\n",
              "    .dataframe tbody tr th:only-of-type {\n",
              "        vertical-align: middle;\n",
              "    }\n",
              "\n",
              "    .dataframe tbody tr th {\n",
              "        vertical-align: top;\n",
              "    }\n",
              "\n",
              "    .dataframe thead th {\n",
              "        text-align: right;\n",
              "    }\n",
              "</style>\n",
              "<table border=\"1\" class=\"dataframe\">\n",
              "  <thead>\n",
              "    <tr style=\"text-align: right;\">\n",
              "      <th></th>\n",
              "      <th>0</th>\n",
              "      <th>1</th>\n",
              "      <th>2</th>\n",
              "      <th>3</th>\n",
              "      <th>4</th>\n",
              "      <th>5</th>\n",
              "      <th>6</th>\n",
              "      <th>7</th>\n",
              "      <th>8</th>\n",
              "      <th>9</th>\n",
              "      <th>10</th>\n",
              "      <th>11</th>\n",
              "      <th>12</th>\n",
              "      <th>13</th>\n",
              "      <th>14</th>\n",
              "      <th>15</th>\n",
              "      <th>16</th>\n",
              "      <th>17</th>\n",
              "      <th>18</th>\n",
              "      <th>19</th>\n",
              "      <th>20</th>\n",
              "      <th>21</th>\n",
              "      <th>22</th>\n",
              "      <th>23</th>\n",
              "      <th>24</th>\n",
              "      <th>25</th>\n",
              "      <th>26</th>\n",
              "      <th>27</th>\n",
              "      <th>28</th>\n",
              "      <th>29</th>\n",
              "      <th>30</th>\n",
              "      <th>31</th>\n",
              "      <th>32</th>\n",
              "      <th>33</th>\n",
              "      <th>34</th>\n",
              "      <th>35</th>\n",
              "      <th>36</th>\n",
              "      <th>37</th>\n",
              "      <th>38</th>\n",
              "      <th>39</th>\n",
              "      <th>...</th>\n",
              "      <th>1237</th>\n",
              "      <th>1238</th>\n",
              "      <th>1239</th>\n",
              "      <th>1240</th>\n",
              "      <th>1241</th>\n",
              "      <th>1242</th>\n",
              "      <th>1243</th>\n",
              "      <th>1244</th>\n",
              "      <th>1245</th>\n",
              "      <th>1246</th>\n",
              "      <th>1247</th>\n",
              "      <th>1248</th>\n",
              "      <th>1249</th>\n",
              "      <th>1250</th>\n",
              "      <th>1251</th>\n",
              "      <th>1252</th>\n",
              "      <th>1253</th>\n",
              "      <th>1254</th>\n",
              "      <th>1255</th>\n",
              "      <th>1256</th>\n",
              "      <th>1257</th>\n",
              "      <th>1258</th>\n",
              "      <th>1259</th>\n",
              "      <th>1260</th>\n",
              "      <th>1261</th>\n",
              "      <th>1262</th>\n",
              "      <th>1263</th>\n",
              "      <th>1264</th>\n",
              "      <th>1265</th>\n",
              "      <th>1266</th>\n",
              "      <th>1267</th>\n",
              "      <th>1268</th>\n",
              "      <th>1269</th>\n",
              "      <th>1270</th>\n",
              "      <th>1271</th>\n",
              "      <th>1272</th>\n",
              "      <th>1273</th>\n",
              "      <th>1274</th>\n",
              "      <th>pubchem_id</th>\n",
              "      <th>Eat</th>\n",
              "    </tr>\n",
              "  </thead>\n",
              "  <tbody>\n",
              "    <tr>\n",
              "      <th>0</th>\n",
              "      <td>73.516695</td>\n",
              "      <td>17.817765</td>\n",
              "      <td>12.469551</td>\n",
              "      <td>12.458130</td>\n",
              "      <td>12.454607</td>\n",
              "      <td>12.447345</td>\n",
              "      <td>12.433065</td>\n",
              "      <td>12.426926</td>\n",
              "      <td>12.387474</td>\n",
              "      <td>12.365984</td>\n",
              "      <td>12.342823</td>\n",
              "      <td>12.335925</td>\n",
              "      <td>12.328055</td>\n",
              "      <td>12.284265</td>\n",
              "      <td>12.269844</td>\n",
              "      <td>12.247357</td>\n",
              "      <td>10.557967</td>\n",
              "      <td>10.473721</td>\n",
              "      <td>9.225262</td>\n",
              "      <td>8.448526</td>\n",
              "      <td>7.611145</td>\n",
              "      <td>7.610874</td>\n",
              "      <td>7.580510</td>\n",
              "      <td>7.579386</td>\n",
              "      <td>7.576929</td>\n",
              "      <td>7.536001</td>\n",
              "      <td>7.517317</td>\n",
              "      <td>7.462578</td>\n",
              "      <td>7.459865</td>\n",
              "      <td>7.456214</td>\n",
              "      <td>7.447581</td>\n",
              "      <td>7.443458</td>\n",
              "      <td>7.423496</td>\n",
              "      <td>7.345785</td>\n",
              "      <td>7.323741</td>\n",
              "      <td>7.247088</td>\n",
              "      <td>7.230886</td>\n",
              "      <td>6.662523</td>\n",
              "      <td>6.286251</td>\n",
              "      <td>6.134338</td>\n",
              "      <td>...</td>\n",
              "      <td>0.0</td>\n",
              "      <td>0.0</td>\n",
              "      <td>0.5</td>\n",
              "      <td>0.0</td>\n",
              "      <td>0.0</td>\n",
              "      <td>0.0</td>\n",
              "      <td>0.0</td>\n",
              "      <td>0.0</td>\n",
              "      <td>0.0</td>\n",
              "      <td>0.0</td>\n",
              "      <td>0.5</td>\n",
              "      <td>0.0</td>\n",
              "      <td>0.0</td>\n",
              "      <td>0.0</td>\n",
              "      <td>0.0</td>\n",
              "      <td>0.0</td>\n",
              "      <td>0.0</td>\n",
              "      <td>0.5</td>\n",
              "      <td>0.0</td>\n",
              "      <td>0.0</td>\n",
              "      <td>0.0</td>\n",
              "      <td>0.0</td>\n",
              "      <td>0.0</td>\n",
              "      <td>0.5</td>\n",
              "      <td>0.0</td>\n",
              "      <td>0.0</td>\n",
              "      <td>0.0</td>\n",
              "      <td>0.0</td>\n",
              "      <td>0.5</td>\n",
              "      <td>0.0</td>\n",
              "      <td>0.0</td>\n",
              "      <td>0.0</td>\n",
              "      <td>0.5</td>\n",
              "      <td>0.0</td>\n",
              "      <td>0.0</td>\n",
              "      <td>0.0</td>\n",
              "      <td>0.0</td>\n",
              "      <td>0.0</td>\n",
              "      <td>25004</td>\n",
              "      <td>-19.013763</td>\n",
              "    </tr>\n",
              "    <tr>\n",
              "      <th>1</th>\n",
              "      <td>73.516695</td>\n",
              "      <td>20.649126</td>\n",
              "      <td>18.527789</td>\n",
              "      <td>17.891535</td>\n",
              "      <td>17.887995</td>\n",
              "      <td>17.871731</td>\n",
              "      <td>17.852586</td>\n",
              "      <td>17.729842</td>\n",
              "      <td>15.864270</td>\n",
              "      <td>15.227643</td>\n",
              "      <td>15.202985</td>\n",
              "      <td>14.800045</td>\n",
              "      <td>12.855629</td>\n",
              "      <td>12.728858</td>\n",
              "      <td>12.618058</td>\n",
              "      <td>12.589962</td>\n",
              "      <td>12.557323</td>\n",
              "      <td>12.074893</td>\n",
              "      <td>10.607138</td>\n",
              "      <td>10.572061</td>\n",
              "      <td>10.464293</td>\n",
              "      <td>9.816674</td>\n",
              "      <td>9.456914</td>\n",
              "      <td>9.455816</td>\n",
              "      <td>8.865704</td>\n",
              "      <td>8.104048</td>\n",
              "      <td>8.006855</td>\n",
              "      <td>7.968817</td>\n",
              "      <td>7.946644</td>\n",
              "      <td>7.932943</td>\n",
              "      <td>7.922656</td>\n",
              "      <td>7.888724</td>\n",
              "      <td>7.885692</td>\n",
              "      <td>7.783220</td>\n",
              "      <td>7.637477</td>\n",
              "      <td>7.636586</td>\n",
              "      <td>7.631457</td>\n",
              "      <td>7.336591</td>\n",
              "      <td>7.127698</td>\n",
              "      <td>6.974135</td>\n",
              "      <td>...</td>\n",
              "      <td>0.0</td>\n",
              "      <td>0.0</td>\n",
              "      <td>0.0</td>\n",
              "      <td>0.0</td>\n",
              "      <td>0.0</td>\n",
              "      <td>0.0</td>\n",
              "      <td>0.0</td>\n",
              "      <td>0.0</td>\n",
              "      <td>0.0</td>\n",
              "      <td>0.0</td>\n",
              "      <td>0.0</td>\n",
              "      <td>0.0</td>\n",
              "      <td>0.0</td>\n",
              "      <td>0.0</td>\n",
              "      <td>0.0</td>\n",
              "      <td>0.0</td>\n",
              "      <td>0.0</td>\n",
              "      <td>0.0</td>\n",
              "      <td>0.0</td>\n",
              "      <td>0.0</td>\n",
              "      <td>0.0</td>\n",
              "      <td>0.0</td>\n",
              "      <td>0.0</td>\n",
              "      <td>0.0</td>\n",
              "      <td>0.0</td>\n",
              "      <td>0.0</td>\n",
              "      <td>0.0</td>\n",
              "      <td>0.0</td>\n",
              "      <td>0.0</td>\n",
              "      <td>0.0</td>\n",
              "      <td>0.0</td>\n",
              "      <td>0.0</td>\n",
              "      <td>0.0</td>\n",
              "      <td>0.0</td>\n",
              "      <td>0.0</td>\n",
              "      <td>0.0</td>\n",
              "      <td>0.0</td>\n",
              "      <td>0.0</td>\n",
              "      <td>25005</td>\n",
              "      <td>-10.161019</td>\n",
              "    </tr>\n",
              "    <tr>\n",
              "      <th>2</th>\n",
              "      <td>73.516695</td>\n",
              "      <td>17.830377</td>\n",
              "      <td>12.512263</td>\n",
              "      <td>12.404775</td>\n",
              "      <td>12.394493</td>\n",
              "      <td>12.391564</td>\n",
              "      <td>12.324461</td>\n",
              "      <td>12.238106</td>\n",
              "      <td>10.423249</td>\n",
              "      <td>8.698826</td>\n",
              "      <td>7.607776</td>\n",
              "      <td>7.550253</td>\n",
              "      <td>7.446675</td>\n",
              "      <td>7.398848</td>\n",
              "      <td>7.381532</td>\n",
              "      <td>7.355045</td>\n",
              "      <td>7.321944</td>\n",
              "      <td>6.625986</td>\n",
              "      <td>6.116315</td>\n",
              "      <td>6.106397</td>\n",
              "      <td>6.098066</td>\n",
              "      <td>5.989868</td>\n",
              "      <td>5.731750</td>\n",
              "      <td>5.700963</td>\n",
              "      <td>5.371527</td>\n",
              "      <td>5.008911</td>\n",
              "      <td>4.894453</td>\n",
              "      <td>4.826545</td>\n",
              "      <td>4.352232</td>\n",
              "      <td>4.270598</td>\n",
              "      <td>2.902330</td>\n",
              "      <td>2.902220</td>\n",
              "      <td>2.901834</td>\n",
              "      <td>2.901089</td>\n",
              "      <td>2.900168</td>\n",
              "      <td>2.900151</td>\n",
              "      <td>2.899983</td>\n",
              "      <td>2.898772</td>\n",
              "      <td>2.898551</td>\n",
              "      <td>2.897620</td>\n",
              "      <td>...</td>\n",
              "      <td>0.0</td>\n",
              "      <td>0.0</td>\n",
              "      <td>0.0</td>\n",
              "      <td>0.0</td>\n",
              "      <td>0.0</td>\n",
              "      <td>0.0</td>\n",
              "      <td>0.0</td>\n",
              "      <td>0.0</td>\n",
              "      <td>0.0</td>\n",
              "      <td>0.0</td>\n",
              "      <td>0.0</td>\n",
              "      <td>0.0</td>\n",
              "      <td>0.0</td>\n",
              "      <td>0.0</td>\n",
              "      <td>0.0</td>\n",
              "      <td>0.0</td>\n",
              "      <td>0.0</td>\n",
              "      <td>0.0</td>\n",
              "      <td>0.0</td>\n",
              "      <td>0.0</td>\n",
              "      <td>0.0</td>\n",
              "      <td>0.0</td>\n",
              "      <td>0.0</td>\n",
              "      <td>0.0</td>\n",
              "      <td>0.0</td>\n",
              "      <td>0.0</td>\n",
              "      <td>0.0</td>\n",
              "      <td>0.0</td>\n",
              "      <td>0.0</td>\n",
              "      <td>0.0</td>\n",
              "      <td>0.0</td>\n",
              "      <td>0.0</td>\n",
              "      <td>0.0</td>\n",
              "      <td>0.0</td>\n",
              "      <td>0.0</td>\n",
              "      <td>0.0</td>\n",
              "      <td>0.0</td>\n",
              "      <td>0.0</td>\n",
              "      <td>25006</td>\n",
              "      <td>-9.376619</td>\n",
              "    </tr>\n",
              "    <tr>\n",
              "      <th>3</th>\n",
              "      <td>73.516695</td>\n",
              "      <td>17.875810</td>\n",
              "      <td>17.871259</td>\n",
              "      <td>17.862402</td>\n",
              "      <td>17.850920</td>\n",
              "      <td>17.850440</td>\n",
              "      <td>12.558105</td>\n",
              "      <td>12.557645</td>\n",
              "      <td>12.517583</td>\n",
              "      <td>12.444141</td>\n",
              "      <td>12.420665</td>\n",
              "      <td>12.410312</td>\n",
              "      <td>12.346845</td>\n",
              "      <td>12.175480</td>\n",
              "      <td>12.098758</td>\n",
              "      <td>10.612802</td>\n",
              "      <td>10.610273</td>\n",
              "      <td>10.606738</td>\n",
              "      <td>10.606702</td>\n",
              "      <td>10.433290</td>\n",
              "      <td>8.694957</td>\n",
              "      <td>8.421582</td>\n",
              "      <td>8.103569</td>\n",
              "      <td>8.103345</td>\n",
              "      <td>7.595619</td>\n",
              "      <td>7.566897</td>\n",
              "      <td>7.555411</td>\n",
              "      <td>7.413109</td>\n",
              "      <td>7.403199</td>\n",
              "      <td>7.185256</td>\n",
              "      <td>6.915425</td>\n",
              "      <td>6.198245</td>\n",
              "      <td>6.191266</td>\n",
              "      <td>6.181797</td>\n",
              "      <td>6.152544</td>\n",
              "      <td>5.252689</td>\n",
              "      <td>5.244354</td>\n",
              "      <td>5.176740</td>\n",
              "      <td>5.176314</td>\n",
              "      <td>5.175577</td>\n",
              "      <td>...</td>\n",
              "      <td>0.0</td>\n",
              "      <td>0.0</td>\n",
              "      <td>0.0</td>\n",
              "      <td>0.0</td>\n",
              "      <td>0.0</td>\n",
              "      <td>0.0</td>\n",
              "      <td>0.0</td>\n",
              "      <td>0.0</td>\n",
              "      <td>0.0</td>\n",
              "      <td>0.0</td>\n",
              "      <td>0.0</td>\n",
              "      <td>0.0</td>\n",
              "      <td>0.0</td>\n",
              "      <td>0.0</td>\n",
              "      <td>0.0</td>\n",
              "      <td>0.0</td>\n",
              "      <td>0.0</td>\n",
              "      <td>0.0</td>\n",
              "      <td>0.0</td>\n",
              "      <td>0.0</td>\n",
              "      <td>0.0</td>\n",
              "      <td>0.0</td>\n",
              "      <td>0.0</td>\n",
              "      <td>0.0</td>\n",
              "      <td>0.0</td>\n",
              "      <td>0.0</td>\n",
              "      <td>0.0</td>\n",
              "      <td>0.0</td>\n",
              "      <td>0.0</td>\n",
              "      <td>0.0</td>\n",
              "      <td>0.0</td>\n",
              "      <td>0.0</td>\n",
              "      <td>0.0</td>\n",
              "      <td>0.0</td>\n",
              "      <td>0.0</td>\n",
              "      <td>0.0</td>\n",
              "      <td>0.0</td>\n",
              "      <td>0.0</td>\n",
              "      <td>25009</td>\n",
              "      <td>-13.776438</td>\n",
              "    </tr>\n",
              "    <tr>\n",
              "      <th>4</th>\n",
              "      <td>73.516695</td>\n",
              "      <td>17.883818</td>\n",
              "      <td>17.868256</td>\n",
              "      <td>17.864221</td>\n",
              "      <td>17.818540</td>\n",
              "      <td>12.508657</td>\n",
              "      <td>12.490519</td>\n",
              "      <td>12.450098</td>\n",
              "      <td>10.597068</td>\n",
              "      <td>10.595914</td>\n",
              "      <td>10.485270</td>\n",
              "      <td>8.595823</td>\n",
              "      <td>8.103880</td>\n",
              "      <td>8.103567</td>\n",
              "      <td>7.975189</td>\n",
              "      <td>7.546413</td>\n",
              "      <td>7.503300</td>\n",
              "      <td>6.803380</td>\n",
              "      <td>6.738768</td>\n",
              "      <td>5.169492</td>\n",
              "      <td>5.161869</td>\n",
              "      <td>5.145972</td>\n",
              "      <td>4.924911</td>\n",
              "      <td>4.899245</td>\n",
              "      <td>4.534996</td>\n",
              "      <td>4.486310</td>\n",
              "      <td>3.897466</td>\n",
              "      <td>3.081523</td>\n",
              "      <td>2.957823</td>\n",
              "      <td>2.903069</td>\n",
              "      <td>2.902178</td>\n",
              "      <td>2.900610</td>\n",
              "      <td>2.900542</td>\n",
              "      <td>2.900306</td>\n",
              "      <td>2.899368</td>\n",
              "      <td>2.899113</td>\n",
              "      <td>2.897739</td>\n",
              "      <td>2.896793</td>\n",
              "      <td>2.896063</td>\n",
              "      <td>2.895051</td>\n",
              "      <td>...</td>\n",
              "      <td>0.0</td>\n",
              "      <td>0.0</td>\n",
              "      <td>0.0</td>\n",
              "      <td>0.0</td>\n",
              "      <td>0.0</td>\n",
              "      <td>0.0</td>\n",
              "      <td>0.0</td>\n",
              "      <td>0.0</td>\n",
              "      <td>0.0</td>\n",
              "      <td>0.0</td>\n",
              "      <td>0.0</td>\n",
              "      <td>0.0</td>\n",
              "      <td>0.0</td>\n",
              "      <td>0.0</td>\n",
              "      <td>0.0</td>\n",
              "      <td>0.0</td>\n",
              "      <td>0.0</td>\n",
              "      <td>0.0</td>\n",
              "      <td>0.0</td>\n",
              "      <td>0.0</td>\n",
              "      <td>0.0</td>\n",
              "      <td>0.0</td>\n",
              "      <td>0.0</td>\n",
              "      <td>0.0</td>\n",
              "      <td>0.0</td>\n",
              "      <td>0.0</td>\n",
              "      <td>0.0</td>\n",
              "      <td>0.0</td>\n",
              "      <td>0.0</td>\n",
              "      <td>0.0</td>\n",
              "      <td>0.0</td>\n",
              "      <td>0.0</td>\n",
              "      <td>0.0</td>\n",
              "      <td>0.0</td>\n",
              "      <td>0.0</td>\n",
              "      <td>0.0</td>\n",
              "      <td>0.0</td>\n",
              "      <td>0.0</td>\n",
              "      <td>25011</td>\n",
              "      <td>-8.537140</td>\n",
              "    </tr>\n",
              "  </tbody>\n",
              "</table>\n",
              "<p>5 rows × 1277 columns</p>\n",
              "</div>"
            ],
            "text/plain": [
              "           0          1          2  ...  1274  pubchem_id        Eat\n",
              "0  73.516695  17.817765  12.469551  ...   0.0       25004 -19.013763\n",
              "1  73.516695  20.649126  18.527789  ...   0.0       25005 -10.161019\n",
              "2  73.516695  17.830377  12.512263  ...   0.0       25006  -9.376619\n",
              "3  73.516695  17.875810  17.871259  ...   0.0       25009 -13.776438\n",
              "4  73.516695  17.883818  17.868256  ...   0.0       25011  -8.537140\n",
              "\n",
              "[5 rows x 1277 columns]"
            ]
          },
          "metadata": {},
          "execution_count": 63
        }
      ]
    },
    {
      "cell_type": "markdown",
      "metadata": {
        "id": "07-CAWbBeoly"
      },
      "source": [
        "Exercise \n",
        "\n",
        "Do the same, find a model and find a way to compare your results against actual ground state energies. \n"
      ]
    },
    {
      "cell_type": "code",
      "metadata": {
        "id": "5CoCtG2yd6Ix"
      },
      "source": [
        "'''\n",
        "Do the same, find a model and find a way to compare your results against actual ground state energies. \n",
        "'''\n",
        "\n",
        "\n"
      ],
      "execution_count": null,
      "outputs": []
    }
  ]
}