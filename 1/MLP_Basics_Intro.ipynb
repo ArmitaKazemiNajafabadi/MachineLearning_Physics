{
  "nbformat": 4,
  "nbformat_minor": 0,
  "metadata": {
    "colab": {
      "name": "MLP_lec1_Basics_Regression.ipynb",
      "provenance": [],
      "collapsed_sections": [
        "1gyfloy9BVjG"
      ],
      "include_colab_link": true
    },
    "kernelspec": {
      "display_name": "Python 3",
      "language": "python",
      "name": "python3"
    },
    "widgets": {
      "application/vnd.jupyter.widget-state+json": {
        "fcd624f2ddf94ee5b0338b12c14ea0e1": {
          "model_module": "@jupyter-widgets/controls",
          "model_name": "VBoxModel",
          "state": {
            "_view_name": "VBoxView",
            "_dom_classes": [
              "widget-interact"
            ],
            "_model_name": "VBoxModel",
            "_view_module": "@jupyter-widgets/controls",
            "_model_module_version": "1.5.0",
            "_view_count": null,
            "_view_module_version": "1.5.0",
            "box_style": "",
            "layout": "IPY_MODEL_f53d2eb05c174facb5fb189f59b8553f",
            "_model_module": "@jupyter-widgets/controls",
            "children": [
              "IPY_MODEL_973a9a9523524df3a57c34ead1ad4b7c",
              "IPY_MODEL_cc6df106afad491995bf0468a5e1d5b6"
            ]
          }
        },
        "f53d2eb05c174facb5fb189f59b8553f": {
          "model_module": "@jupyter-widgets/base",
          "model_name": "LayoutModel",
          "state": {
            "_view_name": "LayoutView",
            "grid_template_rows": null,
            "right": null,
            "justify_content": null,
            "_view_module": "@jupyter-widgets/base",
            "overflow": null,
            "_model_module_version": "1.2.0",
            "_view_count": null,
            "flex_flow": null,
            "width": null,
            "min_width": null,
            "border": null,
            "align_items": null,
            "bottom": null,
            "_model_module": "@jupyter-widgets/base",
            "top": null,
            "grid_column": null,
            "overflow_y": null,
            "overflow_x": null,
            "grid_auto_flow": null,
            "grid_area": null,
            "grid_template_columns": null,
            "flex": null,
            "_model_name": "LayoutModel",
            "justify_items": null,
            "grid_row": null,
            "max_height": null,
            "align_content": null,
            "visibility": null,
            "align_self": null,
            "height": null,
            "min_height": null,
            "padding": null,
            "grid_auto_rows": null,
            "grid_gap": null,
            "max_width": null,
            "order": null,
            "_view_module_version": "1.2.0",
            "grid_template_areas": null,
            "object_position": null,
            "object_fit": null,
            "grid_auto_columns": null,
            "margin": null,
            "display": null,
            "left": null
          }
        },
        "973a9a9523524df3a57c34ead1ad4b7c": {
          "model_module": "@jupyter-widgets/controls",
          "model_name": "FloatSliderModel",
          "state": {
            "_view_name": "FloatSliderView",
            "style": "IPY_MODEL_2889848c8b3b42b5b350c6d5bb393ec5",
            "_dom_classes": [],
            "description": "param",
            "step": 0.001,
            "_model_name": "FloatSliderModel",
            "orientation": "horizontal",
            "max": 1,
            "_view_module": "@jupyter-widgets/controls",
            "_model_module_version": "1.5.0",
            "value": 0,
            "_view_count": null,
            "disabled": false,
            "_view_module_version": "1.5.0",
            "min": 0,
            "continuous_update": true,
            "readout_format": ".2f",
            "description_tooltip": null,
            "readout": true,
            "_model_module": "@jupyter-widgets/controls",
            "layout": "IPY_MODEL_81c1b7dadb8c47a8a2650af9dbde5868"
          }
        },
        "cc6df106afad491995bf0468a5e1d5b6": {
          "model_module": "@jupyter-widgets/output",
          "model_name": "OutputModel",
          "state": {
            "_view_name": "OutputView",
            "msg_id": "",
            "_dom_classes": [],
            "_model_name": "OutputModel",
            "outputs": [
              {
                "output_type": "display_data",
                "metadata": {
                  "tags": []
                },
                "image/png": "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\n",
                "text/plain": "<Figure size 576x288 with 1 Axes>"
              }
            ],
            "_view_module": "@jupyter-widgets/output",
            "_model_module_version": "1.0.0",
            "_view_count": null,
            "_view_module_version": "1.0.0",
            "layout": "IPY_MODEL_387691c817ba41b8a9fbbb98b6df6069",
            "_model_module": "@jupyter-widgets/output"
          }
        },
        "2889848c8b3b42b5b350c6d5bb393ec5": {
          "model_module": "@jupyter-widgets/controls",
          "model_name": "SliderStyleModel",
          "state": {
            "_view_name": "StyleView",
            "handle_color": null,
            "_model_name": "SliderStyleModel",
            "description_width": "",
            "_view_module": "@jupyter-widgets/base",
            "_model_module_version": "1.5.0",
            "_view_count": null,
            "_view_module_version": "1.2.0",
            "_model_module": "@jupyter-widgets/controls"
          }
        },
        "81c1b7dadb8c47a8a2650af9dbde5868": {
          "model_module": "@jupyter-widgets/base",
          "model_name": "LayoutModel",
          "state": {
            "_view_name": "LayoutView",
            "grid_template_rows": null,
            "right": null,
            "justify_content": null,
            "_view_module": "@jupyter-widgets/base",
            "overflow": null,
            "_model_module_version": "1.2.0",
            "_view_count": null,
            "flex_flow": null,
            "width": null,
            "min_width": null,
            "border": null,
            "align_items": null,
            "bottom": null,
            "_model_module": "@jupyter-widgets/base",
            "top": null,
            "grid_column": null,
            "overflow_y": null,
            "overflow_x": null,
            "grid_auto_flow": null,
            "grid_area": null,
            "grid_template_columns": null,
            "flex": null,
            "_model_name": "LayoutModel",
            "justify_items": null,
            "grid_row": null,
            "max_height": null,
            "align_content": null,
            "visibility": null,
            "align_self": null,
            "height": null,
            "min_height": null,
            "padding": null,
            "grid_auto_rows": null,
            "grid_gap": null,
            "max_width": null,
            "order": null,
            "_view_module_version": "1.2.0",
            "grid_template_areas": null,
            "object_position": null,
            "object_fit": null,
            "grid_auto_columns": null,
            "margin": null,
            "display": null,
            "left": null
          }
        },
        "387691c817ba41b8a9fbbb98b6df6069": {
          "model_module": "@jupyter-widgets/base",
          "model_name": "LayoutModel",
          "state": {
            "_view_name": "LayoutView",
            "grid_template_rows": null,
            "right": null,
            "justify_content": null,
            "_view_module": "@jupyter-widgets/base",
            "overflow": null,
            "_model_module_version": "1.2.0",
            "_view_count": null,
            "flex_flow": null,
            "width": null,
            "min_width": null,
            "border": null,
            "align_items": null,
            "bottom": null,
            "_model_module": "@jupyter-widgets/base",
            "top": null,
            "grid_column": null,
            "overflow_y": null,
            "overflow_x": null,
            "grid_auto_flow": null,
            "grid_area": null,
            "grid_template_columns": null,
            "flex": null,
            "_model_name": "LayoutModel",
            "justify_items": null,
            "grid_row": null,
            "max_height": null,
            "align_content": null,
            "visibility": null,
            "align_self": null,
            "height": null,
            "min_height": null,
            "padding": null,
            "grid_auto_rows": null,
            "grid_gap": null,
            "max_width": null,
            "order": null,
            "_view_module_version": "1.2.0",
            "grid_template_areas": null,
            "object_position": null,
            "object_fit": null,
            "grid_auto_columns": null,
            "margin": null,
            "display": null,
            "left": null
          }
        }
      }
    }
  },
  "cells": [
    {
      "cell_type": "markdown",
      "metadata": {
        "id": "view-in-github",
        "colab_type": "text"
      },
      "source": [
        "<a href=\"https://colab.research.google.com/github/sraeisi/MachineLearning_Physics/blob/master/1/MLP_Basics_Intro.ipynb\" target=\"_parent\"><img src=\"https://colab.research.google.com/assets/colab-badge.svg\" alt=\"Open In Colab\"/></a>"
      ]
    },
    {
      "cell_type": "markdown",
      "metadata": {
        "id": "9LF5jKQTBViw"
      },
      "source": [
        "Lecture 1: What is Machine Learning and how is it related to Physics? \n",
        "======"
      ]
    },
    {
      "cell_type": "markdown",
      "metadata": {
        "id": "1gyfloy9BVjG"
      },
      "source": [
        "## Preliminaries"
      ]
    },
    {
      "cell_type": "code",
      "metadata": {
        "id": "HVU71w5qBVjP"
      },
      "source": [
        "import numpy as np\n",
        "import pandas as pd\n",
        "import matplotlib.pyplot as plt\n",
        "plt.style.use('seaborn-talk')\n",
        "plt.rc('figure', figsize=(8,4) )         # Image size\n",
        "\n",
        "import seaborn as sns\n"
      ],
      "execution_count": 56,
      "outputs": []
    },
    {
      "cell_type": "markdown",
      "metadata": {
        "id": "Q6JfuQgRBVkE"
      },
      "source": [
        "# Simple Regression problem\n",
        "What do you think \"Machine Learning (ML)\" is?\n",
        "\n",
        "\n",
        "Consider the spring example in the notes. \n",
        "Let's see how the actual data would look like. \n"
      ]
    },
    {
      "cell_type": "code",
      "metadata": {
        "id": "o5lst5OZBVoW",
        "colab": {
          "base_uri": "https://localhost:8080/",
          "height": 233
        },
        "outputId": "2b4dfba4-ad4d-49b3-ea6d-d276f4040fe7"
      },
      "source": [
        "'''This data is taken from lab report of students in Phys_Lab 3.'''\n",
        "\n",
        "import io, requests\n",
        "\n",
        "url = 'https://raw.githubusercontent.com/sraeisi/MachineLearning_Physics/master/Data/Spring.csv'\n",
        "s=requests.get(url).content\n",
        "exp_data=pd.read_csv(io.StringIO(s.decode('utf-8')))\n",
        "\n",
        "\n",
        "exp_data"
      ],
      "execution_count": 57,
      "outputs": [
        {
          "output_type": "execute_result",
          "data": {
            "text/html": [
              "<div>\n",
              "<style scoped>\n",
              "    .dataframe tbody tr th:only-of-type {\n",
              "        vertical-align: middle;\n",
              "    }\n",
              "\n",
              "    .dataframe tbody tr th {\n",
              "        vertical-align: top;\n",
              "    }\n",
              "\n",
              "    .dataframe thead th {\n",
              "        text-align: right;\n",
              "    }\n",
              "</style>\n",
              "<table border=\"1\" class=\"dataframe\">\n",
              "  <thead>\n",
              "    <tr style=\"text-align: right;\">\n",
              "      <th></th>\n",
              "      <th>Displacement</th>\n",
              "      <th>Force</th>\n",
              "    </tr>\n",
              "  </thead>\n",
              "  <tbody>\n",
              "    <tr>\n",
              "      <th>0</th>\n",
              "      <td>11.5</td>\n",
              "      <td>0.0</td>\n",
              "    </tr>\n",
              "    <tr>\n",
              "      <th>1</th>\n",
              "      <td>14.7</td>\n",
              "      <td>0.1</td>\n",
              "    </tr>\n",
              "    <tr>\n",
              "      <th>2</th>\n",
              "      <td>18.0</td>\n",
              "      <td>0.2</td>\n",
              "    </tr>\n",
              "    <tr>\n",
              "      <th>3</th>\n",
              "      <td>21.3</td>\n",
              "      <td>0.3</td>\n",
              "    </tr>\n",
              "    <tr>\n",
              "      <th>4</th>\n",
              "      <td>24.5</td>\n",
              "      <td>0.4</td>\n",
              "    </tr>\n",
              "    <tr>\n",
              "      <th>5</th>\n",
              "      <td>27.6</td>\n",
              "      <td>0.5</td>\n",
              "    </tr>\n",
              "  </tbody>\n",
              "</table>\n",
              "</div>"
            ],
            "text/plain": [
              "   Displacement  Force\n",
              "0          11.5    0.0\n",
              "1          14.7    0.1\n",
              "2          18.0    0.2\n",
              "3          21.3    0.3\n",
              "4          24.5    0.4\n",
              "5          27.6    0.5"
            ]
          },
          "metadata": {
            "tags": []
          },
          "execution_count": 57
        }
      ]
    },
    {
      "cell_type": "code",
      "metadata": {
        "colab": {
          "base_uri": "https://localhost:8080/",
          "height": 309
        },
        "id": "TEQaRcnWFRFI",
        "outputId": "6635c2d1-4e6f-4f69-c66b-a4628e459f2a"
      },
      "source": [
        "sns.scatterplot(data=exp_data, x='Displacement', y='Force')"
      ],
      "execution_count": 58,
      "outputs": [
        {
          "output_type": "execute_result",
          "data": {
            "text/plain": [
              "<matplotlib.axes._subplots.AxesSubplot at 0x7f4ba6ab5438>"
            ]
          },
          "metadata": {
            "tags": []
          },
          "execution_count": 58
        },
        {
          "output_type": "display_data",
          "data": {
            "image/png": "[encoded data removed]",
            "text/plain": [
              "<Figure size 576x288 with 1 Axes>"
            ]
          },
          "metadata": {
            "tags": [],
            "needs_background": "light"
          }
        }
      ]
    },
    {
      "cell_type": "code",
      "metadata": {
        "id": "nezrGlCTG0oA"
      },
      "source": [
        "## Build a simple model\r\n",
        "\r\n",
        "def model(displacement):\r\n",
        "  ## design your model here\r\n",
        "  f=0\r\n",
        "  return f"
      ],
      "execution_count": 59,
      "outputs": []
    },
    {
      "cell_type": "code",
      "metadata": {
        "colab": {
          "base_uri": "https://localhost:8080/",
          "height": 233
        },
        "id": "gSeLN4pmIcUm",
        "outputId": "dc947000-5741-439b-b3f2-2f3eb2a079de"
      },
      "source": [
        "exp_data['Model_Prediction'] = exp_data.Displacement.apply(model)\r\n",
        "exp_data"
      ],
      "execution_count": 60,
      "outputs": [
        {
          "output_type": "execute_result",
          "data": {
            "text/html": [
              "<div>\n",
              "<style scoped>\n",
              "    .dataframe tbody tr th:only-of-type {\n",
              "        vertical-align: middle;\n",
              "    }\n",
              "\n",
              "    .dataframe tbody tr th {\n",
              "        vertical-align: top;\n",
              "    }\n",
              "\n",
              "    .dataframe thead th {\n",
              "        text-align: right;\n",
              "    }\n",
              "</style>\n",
              "<table border=\"1\" class=\"dataframe\">\n",
              "  <thead>\n",
              "    <tr style=\"text-align: right;\">\n",
              "      <th></th>\n",
              "      <th>Displacement</th>\n",
              "      <th>Force</th>\n",
              "      <th>Model_Prediction</th>\n",
              "    </tr>\n",
              "  </thead>\n",
              "  <tbody>\n",
              "    <tr>\n",
              "      <th>0</th>\n",
              "      <td>11.5</td>\n",
              "      <td>0.0</td>\n",
              "      <td>0</td>\n",
              "    </tr>\n",
              "    <tr>\n",
              "      <th>1</th>\n",
              "      <td>14.7</td>\n",
              "      <td>0.1</td>\n",
              "      <td>0</td>\n",
              "    </tr>\n",
              "    <tr>\n",
              "      <th>2</th>\n",
              "      <td>18.0</td>\n",
              "      <td>0.2</td>\n",
              "      <td>0</td>\n",
              "    </tr>\n",
              "    <tr>\n",
              "      <th>3</th>\n",
              "      <td>21.3</td>\n",
              "      <td>0.3</td>\n",
              "      <td>0</td>\n",
              "    </tr>\n",
              "    <tr>\n",
              "      <th>4</th>\n",
              "      <td>24.5</td>\n",
              "      <td>0.4</td>\n",
              "      <td>0</td>\n",
              "    </tr>\n",
              "    <tr>\n",
              "      <th>5</th>\n",
              "      <td>27.6</td>\n",
              "      <td>0.5</td>\n",
              "      <td>0</td>\n",
              "    </tr>\n",
              "  </tbody>\n",
              "</table>\n",
              "</div>"
            ],
            "text/plain": [
              "   Displacement  Force  Model_Prediction\n",
              "0          11.5    0.0                 0\n",
              "1          14.7    0.1                 0\n",
              "2          18.0    0.2                 0\n",
              "3          21.3    0.3                 0\n",
              "4          24.5    0.4                 0\n",
              "5          27.6    0.5                 0"
            ]
          },
          "metadata": {
            "tags": []
          },
          "execution_count": 60
        }
      ]
    },
    {
      "cell_type": "code",
      "metadata": {
        "colab": {
          "base_uri": "https://localhost:8080/",
          "height": 310
        },
        "id": "luw80rJpHKOU",
        "outputId": "105ce4b3-f348-44e2-c793-1568d884dd6d"
      },
      "source": [
        "fig = plt.figure()\r\n",
        "ax = fig.add_subplot(111, xlabel='Displacement', ylabel='Force', title='Force vs Displacement')\r\n",
        "\r\n",
        "plt.scatter(exp_data.Displacement, exp_data.Force, label='Real data')\r\n",
        "plt.scatter(exp_data.Displacement, exp_data.Model_Prediction, label='Prediction')\r\n",
        "plt.legend(loc=0)\r\n",
        "plt.show()\r\n"
      ],
      "execution_count": 61,
      "outputs": [
        {
          "output_type": "display_data",
          "data": {
            "image/png": "[encoded data removed]",
            "text/plain": [
              "<Figure size 576x288 with 1 Axes>"
            ]
          },
          "metadata": {
            "tags": [],
            "needs_background": "light"
          }
        }
      ]
    },
    {
      "cell_type": "code",
      "metadata": {
        "id": "zKEgg_kbJym8"
      },
      "source": [
        "## Calculate the distance between the prediction and the real data  => Loss\r\n",
        "\r\n",
        "def dist(Y, Y_pred):\r\n",
        "\r\n",
        "  d = 0  ## replace this with what you think is good for the loss\r\n",
        "\r\n",
        "  return d \r\n",
        "\r\n",
        "## now calculate the distance between your prediction and the actual force. \r\n",
        "# dist(  ,  )  "
      ],
      "execution_count": 62,
      "outputs": []
    },
    {
      "cell_type": "markdown",
      "metadata": {
        "id": "s8RQxgVGLSvy"
      },
      "source": [
        "## Finding a better model\r\n",
        "\r\n",
        "Try to play with your model to improve it. \r\n",
        "\r\n",
        "What does it mean to improve the model?\r\n",
        "\r\n"
      ]
    },
    {
      "cell_type": "code",
      "metadata": {
        "id": "C6CN-qX9Lh_c"
      },
      "source": [
        "'''\r\n",
        "Parametric Model:\r\n",
        "Here I make a model that has some parameters that we can play with. \r\n",
        "'''\r\n",
        "def model(displacement, param=0):\r\n",
        "  ## Let's make a linear model with 0 interception. \r\n",
        "  f = param * displacement\r\n",
        "\r\n",
        "  return f\r\n"
      ],
      "execution_count": 63,
      "outputs": []
    },
    {
      "cell_type": "code",
      "metadata": {
        "colab": {
          "base_uri": "https://localhost:8080/"
        },
        "id": "MvkPAjR8MbaH",
        "outputId": "b54ad5c1-cd87-404e-da7b-441767fea88b"
      },
      "source": [
        "## Let's see what the predictions are:\r\n",
        "[model(x, 1) for x in exp_data.Displacement]"
      ],
      "execution_count": 64,
      "outputs": [
        {
          "output_type": "execute_result",
          "data": {
            "text/plain": [
              "[11.5, 14.7, 18.0, 21.3, 24.5, 27.6]"
            ]
          },
          "metadata": {
            "tags": []
          },
          "execution_count": 64
        }
      ]
    },
    {
      "cell_type": "code",
      "metadata": {
        "colab": {
          "base_uri": "https://localhost:8080/",
          "height": 310
        },
        "id": "baGtia4sMGIY",
        "outputId": "7a700137-8648-49fa-ebf8-349eba99a7a7"
      },
      "source": [
        "exp_data['Model_Prediction'] = exp_data.Displacement.apply(lambda x: model(x, 1))\r\n",
        "exp_data\r\n",
        "\r\n",
        "fig = plt.figure()\r\n",
        "ax = fig.add_subplot(111, xlabel='Displacement', ylabel='Force', title='Force vs Displacement')\r\n",
        "\r\n",
        "plt.scatter(exp_data.Displacement, exp_data.Force, label='Real data')\r\n",
        "plt.scatter(exp_data.Displacement, exp_data.Model_Prediction, label='Prediction')\r\n",
        "plt.legend(loc=0)\r\n",
        "plt.show()\r\n"
      ],
      "execution_count": 65,
      "outputs": [
        {
          "output_type": "display_data",
          "data": {
            "image/png": "[encoded data removed]",
            "text/plain": [
              "<Figure size 576x288 with 1 Axes>"
            ]
          },
          "metadata": {
            "tags": [],
            "needs_background": "light"
          }
        }
      ]
    },
    {
      "cell_type": "code",
      "metadata": {
        "colab": {
          "base_uri": "https://localhost:8080/",
          "height": 360,
          "referenced_widgets": [
            "fcd624f2ddf94ee5b0338b12c14ea0e1",
            "f53d2eb05c174facb5fb189f59b8553f",
            "973a9a9523524df3a57c34ead1ad4b7c",
            "cc6df106afad491995bf0468a5e1d5b6",
            "2889848c8b3b42b5b350c6d5bb393ec5",
            "81c1b7dadb8c47a8a2650af9dbde5868",
            "387691c817ba41b8a9fbbb98b6df6069"
          ]
        },
        "id": "2m1jPUjjPswQ",
        "outputId": "f726a7e6-dcd9-48c7-ccdd-b71110725c14"
      },
      "source": [
        "from ipywidgets import interact, fixed, FloatSlider\r\n",
        "\r\n",
        "# @interact\r\n",
        "def plot_both(param):\r\n",
        "  exp_data['Model_Prediction'] = exp_data.Displacement.apply(lambda x: model(x, param))\r\n",
        "  \r\n",
        "  fig = plt.figure()\r\n",
        "  ax = fig.add_subplot(111, xlabel='Displacement', ylabel='Force', title='Force vs Displacement')\r\n",
        "\r\n",
        "  plt.scatter(exp_data.Displacement, exp_data.Force, label='Real data')\r\n",
        "  plt.plot(exp_data.Displacement, exp_data.Model_Prediction, label='Prediction', c='r')\r\n",
        "  # plt.ylim(-.1,.7)\r\n",
        "  plt.legend(loc=0)\r\n",
        "  # plt.show()\r\n",
        "  plt.close(fig)\r\n",
        "  return fig\r\n",
        "\r\n",
        "interact(plot_both, param=FloatSlider(min=0.0, max=1.0, step=.001, value=0))"
      ],
      "execution_count": 66,
      "outputs": [
        {
          "output_type": "display_data",
          "data": {
            "application/vnd.jupyter.widget-view+json": {
              "model_id": "fcd624f2ddf94ee5b0338b12c14ea0e1",
              "version_minor": 0,
              "version_major": 2
            },
            "text/plain": [
              "interactive(children=(FloatSlider(value=0.0, description='param', max=1.0, step=0.001), Output()), _dom_classe…"
            ]
          },
          "metadata": {
            "tags": []
          }
        },
        {
          "output_type": "execute_result",
          "data": {
            "text/plain": [
              "<function __main__.plot_both>"
            ]
          },
          "metadata": {
            "tags": []
          },
          "execution_count": 66
        }
      ]
    },
    {
      "cell_type": "markdown",
      "metadata": {
        "id": "V4Opf9aRBVor"
      },
      "source": [
        "### Learning\n",
        "\n",
        "Find the best model that you can!\n",
        "\n",
        "Explain the process!\n"
      ]
    },
    {
      "cell_type": "code",
      "metadata": {
        "id": "pHJgTkgbythK"
      },
      "source": [
        "## Plot distance vs param"
      ],
      "execution_count": null,
      "outputs": []
    },
    {
      "cell_type": "markdown",
      "metadata": {
        "id": "JznhhH_uBVnh"
      },
      "source": [
        "### Using sklearn"
      ]
    },
    {
      "cell_type": "code",
      "metadata": {
        "id": "bGVHl7LHBVnm"
      },
      "source": [
        "from sklearn.linear_model import LinearRegression"
      ],
      "execution_count": 67,
      "outputs": []
    },
    {
      "cell_type": "code",
      "metadata": {
        "id": "3PkqzfqlBVn5",
        "colab": {
          "base_uri": "https://localhost:8080/",
          "height": 310
        },
        "outputId": "d80b6c93-720b-452b-eb83-66460b6c8f62"
      },
      "source": [
        "'''\n",
        "We first train an estimator which  finds a good fit to the data.\n",
        "'''\n",
        "\n",
        "reg = LinearRegression()  ## Defines/Constructs the estimator\n",
        "reg.fit(exp_data.Displacement.values.reshape(-1,1), exp_data.Force)  ##Trains the estimator\n",
        "\n",
        "x = np.arange(0,5,.1).reshape(50,1)  \n",
        "\n",
        "### Now we plot the \n",
        "fig = plt.figure()\n",
        "ax = fig.add_subplot(111, xlabel='Displacement', ylabel='Force', title='Force vs Displacement')\n",
        "\n",
        "plt.scatter(exp_data.Displacement, exp_data.Force, label='Real data')\n",
        "ax.plot(exp_data.Displacement, reg.predict( exp_data.Displacement.values.reshape(-1,1) ) ,  \n",
        "        label='Linear Regression Fit' , c= 'r')\n",
        "plt.legend(loc=0)\n",
        "plt.show()\n",
        "\n",
        "\n",
        "# ax = fig.add_subplot(111, xlabel=x_label, ylabel=y_label, title=plt_title + \n",
        "                    #  '\\n score=' + str( reg.score(x_list, spring_force_list) ) )\n",
        "\n"
      ],
      "execution_count": 73,
      "outputs": [
        {
          "output_type": "display_data",
          "data": {
            "image/png": "[encoded data removed]",
            "text/plain": [
              "<Figure size 576x288 with 1 Axes>"
            ]
          },
          "metadata": {
            "tags": [],
            "needs_background": "light"
          }
        }
      ]
    },
    {
      "cell_type": "code",
      "metadata": {
        "id": "Uh_W3Yir1AlZ"
      },
      "source": [
        ""
      ],
      "execution_count": null,
      "outputs": []
    }
  ]
}