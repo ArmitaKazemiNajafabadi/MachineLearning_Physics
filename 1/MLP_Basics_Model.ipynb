{
  "nbformat": 4,
  "nbformat_minor": 0,
  "metadata": {
    "colab": {
      "name": "MLP_Basics_Model.ipynb",
      "provenance": [],
      "collapsed_sections": [],
      "toc_visible": true,
      "authorship_tag": "ABX9TyP9Y1w/zB6Ok3Jk+CUc/GZt",
      "include_colab_link": true
    },
    "kernelspec": {
      "name": "python3",
      "display_name": "Python 3"
    },
    "widgets": {
      "application/vnd.jupyter.widget-state+json": {
        "e9ffd58584d04091a8c7dabd9c10bc31": {
          "model_module": "@jupyter-widgets/controls",
          "model_name": "VBoxModel",
          "state": {
            "_view_name": "VBoxView",
            "_dom_classes": [
              "widget-interact"
            ],
            "_model_name": "VBoxModel",
            "_view_module": "@jupyter-widgets/controls",
            "_model_module_version": "1.5.0",
            "_view_count": null,
            "_view_module_version": "1.5.0",
            "box_style": "",
            "layout": "IPY_MODEL_1735d3ab48b24d66b1710ea555100eb0",
            "_model_module": "@jupyter-widgets/controls",
            "children": [
              "IPY_MODEL_824d9d221b0048d0a68c55708326e12e",
              "IPY_MODEL_898ee7cbc3754089a7ef83ccd725bfa7",
              "IPY_MODEL_58f3ef13f00644e3a48f7ea6a3d79c9b"
            ]
          }
        },
        "1735d3ab48b24d66b1710ea555100eb0": {
          "model_module": "@jupyter-widgets/base",
          "model_name": "LayoutModel",
          "state": {
            "_view_name": "LayoutView",
            "grid_template_rows": null,
            "right": null,
            "justify_content": null,
            "_view_module": "@jupyter-widgets/base",
            "overflow": null,
            "_model_module_version": "1.2.0",
            "_view_count": null,
            "flex_flow": null,
            "width": null,
            "min_width": null,
            "border": null,
            "align_items": null,
            "bottom": null,
            "_model_module": "@jupyter-widgets/base",
            "top": null,
            "grid_column": null,
            "overflow_y": null,
            "overflow_x": null,
            "grid_auto_flow": null,
            "grid_area": null,
            "grid_template_columns": null,
            "flex": null,
            "_model_name": "LayoutModel",
            "justify_items": null,
            "grid_row": null,
            "max_height": null,
            "align_content": null,
            "visibility": null,
            "align_self": null,
            "height": null,
            "min_height": null,
            "padding": null,
            "grid_auto_rows": null,
            "grid_gap": null,
            "max_width": null,
            "order": null,
            "_view_module_version": "1.2.0",
            "grid_template_areas": null,
            "object_position": null,
            "object_fit": null,
            "grid_auto_columns": null,
            "margin": null,
            "display": null,
            "left": null
          }
        },
        "824d9d221b0048d0a68c55708326e12e": {
          "model_module": "@jupyter-widgets/controls",
          "model_name": "FloatSliderModel",
          "state": {
            "_view_name": "FloatSliderView",
            "style": "IPY_MODEL_69fc9e898d6640a0b545a5b6c0c86012",
            "_dom_classes": [],
            "description": "a",
            "step": 0.5,
            "_model_name": "FloatSliderModel",
            "orientation": "horizontal",
            "max": 5,
            "_view_module": "@jupyter-widgets/controls",
            "_model_module_version": "1.5.0",
            "value": 2,
            "_view_count": null,
            "disabled": false,
            "_view_module_version": "1.5.0",
            "min": -5,
            "continuous_update": true,
            "readout_format": ".2f",
            "description_tooltip": null,
            "readout": true,
            "_model_module": "@jupyter-widgets/controls",
            "layout": "IPY_MODEL_b76c2781d0f245f8977fedf28958ccd1"
          }
        },
        "898ee7cbc3754089a7ef83ccd725bfa7": {
          "model_module": "@jupyter-widgets/controls",
          "model_name": "FloatSliderModel",
          "state": {
            "_view_name": "FloatSliderView",
            "style": "IPY_MODEL_ab0fc86d0fcd424084cdc5349d5afc69",
            "_dom_classes": [],
            "description": "b",
            "step": 0.5,
            "_model_name": "FloatSliderModel",
            "orientation": "horizontal",
            "max": 10,
            "_view_module": "@jupyter-widgets/controls",
            "_model_module_version": "1.5.0",
            "value": 2,
            "_view_count": null,
            "disabled": false,
            "_view_module_version": "1.5.0",
            "min": -10,
            "continuous_update": true,
            "readout_format": ".2f",
            "description_tooltip": null,
            "readout": true,
            "_model_module": "@jupyter-widgets/controls",
            "layout": "IPY_MODEL_0e2e177cc1694e8a9e6903f19eb2c5f1"
          }
        },
        "58f3ef13f00644e3a48f7ea6a3d79c9b": {
          "model_module": "@jupyter-widgets/output",
          "model_name": "OutputModel",
          "state": {
            "_view_name": "OutputView",
            "msg_id": "",
            "_dom_classes": [],
            "_model_name": "OutputModel",
            "outputs": [
              {
                "output_type": "display_data",
                "metadata": {
                  "tags": [],
                  "needs_background": "light"
                },
                "image/png": "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\n",
                "text/plain": "<Figure size 720x360 with 1 Axes>"
              }
            ],
            "_view_module": "@jupyter-widgets/output",
            "_model_module_version": "1.0.0",
            "_view_count": null,
            "_view_module_version": "1.0.0",
            "layout": "IPY_MODEL_3163d2a4282f46b7a3292c724ce0333f",
            "_model_module": "@jupyter-widgets/output"
          }
        },
        "69fc9e898d6640a0b545a5b6c0c86012": {
          "model_module": "@jupyter-widgets/controls",
          "model_name": "SliderStyleModel",
          "state": {
            "_view_name": "StyleView",
            "handle_color": null,
            "_model_name": "SliderStyleModel",
            "description_width": "",
            "_view_module": "@jupyter-widgets/base",
            "_model_module_version": "1.5.0",
            "_view_count": null,
            "_view_module_version": "1.2.0",
            "_model_module": "@jupyter-widgets/controls"
          }
        },
        "b76c2781d0f245f8977fedf28958ccd1": {
          "model_module": "@jupyter-widgets/base",
          "model_name": "LayoutModel",
          "state": {
            "_view_name": "LayoutView",
            "grid_template_rows": null,
            "right": null,
            "justify_content": null,
            "_view_module": "@jupyter-widgets/base",
            "overflow": null,
            "_model_module_version": "1.2.0",
            "_view_count": null,
            "flex_flow": null,
            "width": null,
            "min_width": null,
            "border": null,
            "align_items": null,
            "bottom": null,
            "_model_module": "@jupyter-widgets/base",
            "top": null,
            "grid_column": null,
            "overflow_y": null,
            "overflow_x": null,
            "grid_auto_flow": null,
            "grid_area": null,
            "grid_template_columns": null,
            "flex": null,
            "_model_name": "LayoutModel",
            "justify_items": null,
            "grid_row": null,
            "max_height": null,
            "align_content": null,
            "visibility": null,
            "align_self": null,
            "height": null,
            "min_height": null,
            "padding": null,
            "grid_auto_rows": null,
            "grid_gap": null,
            "max_width": null,
            "order": null,
            "_view_module_version": "1.2.0",
            "grid_template_areas": null,
            "object_position": null,
            "object_fit": null,
            "grid_auto_columns": null,
            "margin": null,
            "display": null,
            "left": null
          }
        },
        "ab0fc86d0fcd424084cdc5349d5afc69": {
          "model_module": "@jupyter-widgets/controls",
          "model_name": "SliderStyleModel",
          "state": {
            "_view_name": "StyleView",
            "handle_color": null,
            "_model_name": "SliderStyleModel",
            "description_width": "",
            "_view_module": "@jupyter-widgets/base",
            "_model_module_version": "1.5.0",
            "_view_count": null,
            "_view_module_version": "1.2.0",
            "_model_module": "@jupyter-widgets/controls"
          }
        },
        "0e2e177cc1694e8a9e6903f19eb2c5f1": {
          "model_module": "@jupyter-widgets/base",
          "model_name": "LayoutModel",
          "state": {
            "_view_name": "LayoutView",
            "grid_template_rows": null,
            "right": null,
            "justify_content": null,
            "_view_module": "@jupyter-widgets/base",
            "overflow": null,
            "_model_module_version": "1.2.0",
            "_view_count": null,
            "flex_flow": null,
            "width": null,
            "min_width": null,
            "border": null,
            "align_items": null,
            "bottom": null,
            "_model_module": "@jupyter-widgets/base",
            "top": null,
            "grid_column": null,
            "overflow_y": null,
            "overflow_x": null,
            "grid_auto_flow": null,
            "grid_area": null,
            "grid_template_columns": null,
            "flex": null,
            "_model_name": "LayoutModel",
            "justify_items": null,
            "grid_row": null,
            "max_height": null,
            "align_content": null,
            "visibility": null,
            "align_self": null,
            "height": null,
            "min_height": null,
            "padding": null,
            "grid_auto_rows": null,
            "grid_gap": null,
            "max_width": null,
            "order": null,
            "_view_module_version": "1.2.0",
            "grid_template_areas": null,
            "object_position": null,
            "object_fit": null,
            "grid_auto_columns": null,
            "margin": null,
            "display": null,
            "left": null
          }
        },
        "3163d2a4282f46b7a3292c724ce0333f": {
          "model_module": "@jupyter-widgets/base",
          "model_name": "LayoutModel",
          "state": {
            "_view_name": "LayoutView",
            "grid_template_rows": null,
            "right": null,
            "justify_content": null,
            "_view_module": "@jupyter-widgets/base",
            "overflow": null,
            "_model_module_version": "1.2.0",
            "_view_count": null,
            "flex_flow": null,
            "width": null,
            "min_width": null,
            "border": null,
            "align_items": null,
            "bottom": null,
            "_model_module": "@jupyter-widgets/base",
            "top": null,
            "grid_column": null,
            "overflow_y": null,
            "overflow_x": null,
            "grid_auto_flow": null,
            "grid_area": null,
            "grid_template_columns": null,
            "flex": null,
            "_model_name": "LayoutModel",
            "justify_items": null,
            "grid_row": null,
            "max_height": null,
            "align_content": null,
            "visibility": null,
            "align_self": null,
            "height": null,
            "min_height": null,
            "padding": null,
            "grid_auto_rows": null,
            "grid_gap": null,
            "max_width": null,
            "order": null,
            "_view_module_version": "1.2.0",
            "grid_template_areas": null,
            "object_position": null,
            "object_fit": null,
            "grid_auto_columns": null,
            "margin": null,
            "display": null,
            "left": null
          }
        }
      }
    }
  },
  "cells": [
    {
      "cell_type": "markdown",
      "metadata": {
        "id": "view-in-github",
        "colab_type": "text"
      },
      "source": [
        "<a href=\"https://colab.research.google.com/github/sraeisi/MachineLearning_Physics/blob/master/1/MLP_Basics_Model.ipynb\" target=\"_parent\"><img src=\"https://colab.research.google.com/assets/colab-badge.svg\" alt=\"Open In Colab\"/></a>"
      ]
    },
    {
      "cell_type": "markdown",
      "metadata": {
        "heading_collapsed": true,
        "id": "1gyfloy9BVjG"
      },
      "source": [
        "## Preliminaries"
      ]
    },
    {
      "cell_type": "code",
      "metadata": {
        "ExecuteTime": {
          "end_time": "2020-03-09T13:19:32.211750Z",
          "start_time": "2020-03-09T13:19:31.373752Z"
        },
        "hidden": true,
        "id": "HVU71w5qBVjP"
      },
      "source": [
        "import numpy as np\n",
        "import pandas as pd\n",
        "import matplotlib.pyplot as plt\n",
        "plt.style.use('seaborn-talk')\n",
        "\n",
        "from matplotlib import rcParams\n",
        "# rcParams['figure.figsize'] = 15,7\n",
        "plt.rc('figure', figsize=(12,7) )         # Image size\n",
        "\n",
        "import seaborn as sns\n",
        "\n",
        "import warnings\n",
        "warnings.filterwarnings('ignore')"
      ],
      "execution_count": 38,
      "outputs": []
    },
    {
      "cell_type": "code",
      "metadata": {
        "ExecuteTime": {
          "end_time": "2020-03-09T13:19:32.238751Z",
          "start_time": "2020-03-09T13:19:32.227753Z"
        },
        "hidden": true,
        "id": "5dqh4SiLBVjs"
      },
      "source": [
        "'''Set the defaults for your plots.'''\n",
        "# plt.rcParams.update({'font.size': 20, 'figsize':(8,6)})\n",
        "SMALL_SIZE = 12\n",
        "MEDIUM_SIZE = 15\n",
        "BIGGER_SIZE = 18\n",
        "\n",
        "plt.rc('font', size=BIGGER_SIZE)          # controls default text sizes\n",
        "plt.rc('axes', titlesize=MEDIUM_SIZE)     # fontsize of the axes title\n",
        "plt.rc('axes', labelsize=BIGGER_SIZE)    # fontsize of the x and y labels\n",
        "plt.rc('xtick', labelsize=SMALL_SIZE)    # fontsize of the tick labels\n",
        "plt.rc('ytick', labelsize=SMALL_SIZE)    # fontsize of the tick labels\n",
        "plt.rc('legend', fontsize=MEDIUM_SIZE)    # legend fontsize\n",
        "plt.rc('figure', titlesize=BIGGER_SIZE)  # fontsize of the figure title\n",
        "\n",
        "plt.rc('axes', linewidth = 3 )\n",
        "plt.rc('lines', linewidth = 5 )\n",
        "\n",
        "plt.rc('lines', markersize = 10 )\n",
        "\n",
        "plt.rc('figure', figsize=(10,5) )         # Image size"
      ],
      "execution_count": 49,
      "outputs": []
    },
    {
      "cell_type": "code",
      "metadata": {
        "ExecuteTime": {
          "end_time": "2020-03-09T13:19:32.268754Z",
          "start_time": "2020-03-09T13:19:32.259754Z"
        },
        "hidden": true,
        "id": "laz6eQ9TZ24i"
      },
      "source": [
        "def grid(x1, x2, off_set = .1, n_points = 100):\n",
        "    ## d s show the range in the two varible. \n",
        "    d1 = x1.max() - x1.min()\n",
        "    d2 = x2.max() - x2.min()\n",
        "    \n",
        "    x1_min, x1_max = x1.min() - off_set * d1 , x1.max() + off_set * d1\n",
        "    x2_min, x2_max = x2.min() - off_set * d2 , x2.max() + off_set * d2\n",
        "\n",
        "    ## This function from numpy gives a list of coordinates that are the points on the grid. \n",
        "    x, y = np.meshgrid(np.arange(x1_min, x1_max , d1/n_points), np.arange(x2_min, x2_max , d2/n_points) )\n",
        "\n",
        "    return x , y "
      ],
      "execution_count": 33,
      "outputs": []
    },
    {
      "cell_type": "code",
      "metadata": {
        "id": "ia1iKpdz11dx"
      },
      "source": [
        "import io, requests\r\n",
        "\r\n",
        "#####BBR###### \r\n",
        "## This data is collected from galileo.phys.virginia.edu/classes/252\r\n",
        "url = \"https://github.com/sraeisi/MachineLearning_Physics/blob/master/Data/bbr.xls?raw=true\"\r\n",
        "data_bbr = pd.read_excel(url)\r\n",
        "\r\n",
        "########Particles#######\r\n",
        "# Data taken from https://www.kaggle.com/naharrison/particle-identification-from-detector-responses\r\n",
        "\r\n",
        "url = 'https://www.dropbox.com/s/66dbhxl93y41coe/particle-identification-from-detector-responses.zip?dl=1'\r\n",
        "s=requests.get(url, stream=True).content\r\n",
        "data_prtcl=pd.read_csv(io.BytesIO(s) , compression='zip' )\r\n",
        "data_prtcl = data_prtcl.sample(1000)\r\n",
        "data_prtcl.id = data_prtcl.id.astype('category').cat.codes \r\n",
        "\r\n",
        "# data_prtcl.head()\r\n",
        "\r\n",
        "########GS energy#######\r\n",
        "'''\r\n",
        "We need to first import the data. I took the data from the following kaggle dataset. \r\n",
        "\r\n",
        "https://www.kaggle.com/burakhmmtgl/energy-molecule\r\n",
        "\r\n",
        "These are the ground state energies of some molecules based on their different \r\n",
        "chemical bounds. \r\n",
        "'''\r\n",
        "url = 'https://www.dropbox.com/s/das9t6vwp7t4b7f/roboBohr.csv.zip?dl=1'\r\n",
        "s=requests.get(url, stream=True).content\r\n",
        "data_gse=pd.read_csv(io.BytesIO(s) , compression='zip' , index_col=0)\r\n"
      ],
      "execution_count": 3,
      "outputs": []
    },
    {
      "cell_type": "markdown",
      "metadata": {
        "id": "0Es3h_Fg2uYK"
      },
      "source": [
        "## Classification vs Regression\r\n",
        "\r\n",
        "Which one is a regression problem and which one is a classificatin problem?"
      ]
    },
    {
      "cell_type": "code",
      "metadata": {
        "colab": {
          "base_uri": "https://localhost:8080/",
          "height": 204
        },
        "id": "S2rGyDqN178r",
        "outputId": "616ff006-d438-499e-b9de-81900392c989"
      },
      "source": [
        "data_bbr.head()"
      ],
      "execution_count": 6,
      "outputs": [
        {
          "output_type": "execute_result",
          "data": {
            "text/html": [
              "<div>\n",
              "<style scoped>\n",
              "    .dataframe tbody tr th:only-of-type {\n",
              "        vertical-align: middle;\n",
              "    }\n",
              "\n",
              "    .dataframe tbody tr th {\n",
              "        vertical-align: top;\n",
              "    }\n",
              "\n",
              "    .dataframe thead th {\n",
              "        text-align: right;\n",
              "    }\n",
              "</style>\n",
              "<table border=\"1\" class=\"dataframe\">\n",
              "  <thead>\n",
              "    <tr style=\"text-align: right;\">\n",
              "      <th></th>\n",
              "      <th>0</th>\n",
              "      <th>T</th>\n",
              "      <th>0.1</th>\n",
              "      <th>T/2</th>\n",
              "      <th>0.2</th>\n",
              "    </tr>\n",
              "  </thead>\n",
              "  <tbody>\n",
              "    <tr>\n",
              "      <th>0</th>\n",
              "      <td>88182000000</td>\n",
              "      <td>2.978514e-23</td>\n",
              "      <td>2.997673e-23</td>\n",
              "      <td>1.478758e-23</td>\n",
              "      <td>1.498837e-23</td>\n",
              "    </tr>\n",
              "    <tr>\n",
              "      <th>1</th>\n",
              "      <td>176364000000</td>\n",
              "      <td>1.183007e-22</td>\n",
              "      <td>1.199069e-22</td>\n",
              "      <td>5.831636e-23</td>\n",
              "      <td>5.995346e-23</td>\n",
              "    </tr>\n",
              "    <tr>\n",
              "      <th>2</th>\n",
              "      <td>264546000000</td>\n",
              "      <td>2.642956e-22</td>\n",
              "      <td>2.697906e-22</td>\n",
              "      <td>1.293533e-22</td>\n",
              "      <td>1.348953e-22</td>\n",
              "    </tr>\n",
              "    <tr>\n",
              "      <th>3</th>\n",
              "      <td>352728000000</td>\n",
              "      <td>4.665309e-22</td>\n",
              "      <td>4.796277e-22</td>\n",
              "      <td>2.266891e-22</td>\n",
              "      <td>2.398138e-22</td>\n",
              "    </tr>\n",
              "    <tr>\n",
              "      <th>4</th>\n",
              "      <td>440910000000</td>\n",
              "      <td>7.237795e-22</td>\n",
              "      <td>7.494183e-22</td>\n",
              "      <td>3.491384e-22</td>\n",
              "      <td>3.747091e-22</td>\n",
              "    </tr>\n",
              "  </tbody>\n",
              "</table>\n",
              "</div>"
            ],
            "text/plain": [
              "              0             T           0.1           T/2           0.2\n",
              "0   88182000000  2.978514e-23  2.997673e-23  1.478758e-23  1.498837e-23\n",
              "1  176364000000  1.183007e-22  1.199069e-22  5.831636e-23  5.995346e-23\n",
              "2  264546000000  2.642956e-22  2.697906e-22  1.293533e-22  1.348953e-22\n",
              "3  352728000000  4.665309e-22  4.796277e-22  2.266891e-22  2.398138e-22\n",
              "4  440910000000  7.237795e-22  7.494183e-22  3.491384e-22  3.747091e-22"
            ]
          },
          "metadata": {
            "tags": []
          },
          "execution_count": 6
        }
      ]
    },
    {
      "cell_type": "code",
      "metadata": {
        "colab": {
          "base_uri": "https://localhost:8080/",
          "height": 204
        },
        "id": "NYYjBNQn4Opu",
        "outputId": "f6ca59f7-fb83-4f90-8128-74056e708e15"
      },
      "source": [
        "data_prtcl.head()"
      ],
      "execution_count": 7,
      "outputs": [
        {
          "output_type": "execute_result",
          "data": {
            "text/html": [
              "<div>\n",
              "<style scoped>\n",
              "    .dataframe tbody tr th:only-of-type {\n",
              "        vertical-align: middle;\n",
              "    }\n",
              "\n",
              "    .dataframe tbody tr th {\n",
              "        vertical-align: top;\n",
              "    }\n",
              "\n",
              "    .dataframe thead th {\n",
              "        text-align: right;\n",
              "    }\n",
              "</style>\n",
              "<table border=\"1\" class=\"dataframe\">\n",
              "  <thead>\n",
              "    <tr style=\"text-align: right;\">\n",
              "      <th></th>\n",
              "      <th>id</th>\n",
              "      <th>p</th>\n",
              "      <th>theta</th>\n",
              "      <th>beta</th>\n",
              "      <th>nphe</th>\n",
              "      <th>ein</th>\n",
              "      <th>eout</th>\n",
              "    </tr>\n",
              "  </thead>\n",
              "  <tbody>\n",
              "    <tr>\n",
              "      <th>224188</th>\n",
              "      <td>3</td>\n",
              "      <td>1.360490</td>\n",
              "      <td>0.171384</td>\n",
              "      <td>0.829078</td>\n",
              "      <td>0</td>\n",
              "      <td>0.372259</td>\n",
              "      <td>0.131746</td>\n",
              "    </tr>\n",
              "    <tr>\n",
              "      <th>2077448</th>\n",
              "      <td>3</td>\n",
              "      <td>3.488520</td>\n",
              "      <td>0.301153</td>\n",
              "      <td>0.959036</td>\n",
              "      <td>0</td>\n",
              "      <td>0.242847</td>\n",
              "      <td>0.349508</td>\n",
              "    </tr>\n",
              "    <tr>\n",
              "      <th>3630305</th>\n",
              "      <td>1</td>\n",
              "      <td>1.441210</td>\n",
              "      <td>0.524412</td>\n",
              "      <td>0.985650</td>\n",
              "      <td>0</td>\n",
              "      <td>0.353948</td>\n",
              "      <td>0.070588</td>\n",
              "    </tr>\n",
              "    <tr>\n",
              "      <th>2357195</th>\n",
              "      <td>1</td>\n",
              "      <td>0.414282</td>\n",
              "      <td>0.869839</td>\n",
              "      <td>0.938976</td>\n",
              "      <td>0</td>\n",
              "      <td>0.000000</td>\n",
              "      <td>0.000000</td>\n",
              "    </tr>\n",
              "    <tr>\n",
              "      <th>2762330</th>\n",
              "      <td>2</td>\n",
              "      <td>2.531170</td>\n",
              "      <td>0.142540</td>\n",
              "      <td>0.997228</td>\n",
              "      <td>0</td>\n",
              "      <td>0.292149</td>\n",
              "      <td>0.135180</td>\n",
              "    </tr>\n",
              "  </tbody>\n",
              "</table>\n",
              "</div>"
            ],
            "text/plain": [
              "         id         p     theta      beta  nphe       ein      eout\n",
              "224188    3  1.360490  0.171384  0.829078     0  0.372259  0.131746\n",
              "2077448   3  3.488520  0.301153  0.959036     0  0.242847  0.349508\n",
              "3630305   1  1.441210  0.524412  0.985650     0  0.353948  0.070588\n",
              "2357195   1  0.414282  0.869839  0.938976     0  0.000000  0.000000\n",
              "2762330   2  2.531170  0.142540  0.997228     0  0.292149  0.135180"
            ]
          },
          "metadata": {
            "tags": []
          },
          "execution_count": 7
        }
      ]
    },
    {
      "cell_type": "code",
      "metadata": {
        "colab": {
          "base_uri": "https://localhost:8080/",
          "height": 253
        },
        "id": "Icy9Gkty4IqU",
        "outputId": "234e8a4f-d68c-4844-a498-d57a21ed57cc"
      },
      "source": [
        "data_gse.head()"
      ],
      "execution_count": 5,
      "outputs": [
        {
          "output_type": "execute_result",
          "data": {
            "text/html": [
              "<div>\n",
              "<style scoped>\n",
              "    .dataframe tbody tr th:only-of-type {\n",
              "        vertical-align: middle;\n",
              "    }\n",
              "\n",
              "    .dataframe tbody tr th {\n",
              "        vertical-align: top;\n",
              "    }\n",
              "\n",
              "    .dataframe thead th {\n",
              "        text-align: right;\n",
              "    }\n",
              "</style>\n",
              "<table border=\"1\" class=\"dataframe\">\n",
              "  <thead>\n",
              "    <tr style=\"text-align: right;\">\n",
              "      <th></th>\n",
              "      <th>0</th>\n",
              "      <th>1</th>\n",
              "      <th>2</th>\n",
              "      <th>3</th>\n",
              "      <th>4</th>\n",
              "      <th>5</th>\n",
              "      <th>6</th>\n",
              "      <th>7</th>\n",
              "      <th>8</th>\n",
              "      <th>9</th>\n",
              "      <th>10</th>\n",
              "      <th>11</th>\n",
              "      <th>12</th>\n",
              "      <th>13</th>\n",
              "      <th>14</th>\n",
              "      <th>15</th>\n",
              "      <th>16</th>\n",
              "      <th>17</th>\n",
              "      <th>18</th>\n",
              "      <th>19</th>\n",
              "      <th>20</th>\n",
              "      <th>21</th>\n",
              "      <th>22</th>\n",
              "      <th>23</th>\n",
              "      <th>24</th>\n",
              "      <th>25</th>\n",
              "      <th>26</th>\n",
              "      <th>27</th>\n",
              "      <th>28</th>\n",
              "      <th>29</th>\n",
              "      <th>30</th>\n",
              "      <th>31</th>\n",
              "      <th>32</th>\n",
              "      <th>33</th>\n",
              "      <th>34</th>\n",
              "      <th>35</th>\n",
              "      <th>36</th>\n",
              "      <th>37</th>\n",
              "      <th>38</th>\n",
              "      <th>39</th>\n",
              "      <th>...</th>\n",
              "      <th>1237</th>\n",
              "      <th>1238</th>\n",
              "      <th>1239</th>\n",
              "      <th>1240</th>\n",
              "      <th>1241</th>\n",
              "      <th>1242</th>\n",
              "      <th>1243</th>\n",
              "      <th>1244</th>\n",
              "      <th>1245</th>\n",
              "      <th>1246</th>\n",
              "      <th>1247</th>\n",
              "      <th>1248</th>\n",
              "      <th>1249</th>\n",
              "      <th>1250</th>\n",
              "      <th>1251</th>\n",
              "      <th>1252</th>\n",
              "      <th>1253</th>\n",
              "      <th>1254</th>\n",
              "      <th>1255</th>\n",
              "      <th>1256</th>\n",
              "      <th>1257</th>\n",
              "      <th>1258</th>\n",
              "      <th>1259</th>\n",
              "      <th>1260</th>\n",
              "      <th>1261</th>\n",
              "      <th>1262</th>\n",
              "      <th>1263</th>\n",
              "      <th>1264</th>\n",
              "      <th>1265</th>\n",
              "      <th>1266</th>\n",
              "      <th>1267</th>\n",
              "      <th>1268</th>\n",
              "      <th>1269</th>\n",
              "      <th>1270</th>\n",
              "      <th>1271</th>\n",
              "      <th>1272</th>\n",
              "      <th>1273</th>\n",
              "      <th>1274</th>\n",
              "      <th>pubchem_id</th>\n",
              "      <th>Eat</th>\n",
              "    </tr>\n",
              "  </thead>\n",
              "  <tbody>\n",
              "    <tr>\n",
              "      <th>0</th>\n",
              "      <td>73.516695</td>\n",
              "      <td>17.817765</td>\n",
              "      <td>12.469551</td>\n",
              "      <td>12.458130</td>\n",
              "      <td>12.454607</td>\n",
              "      <td>12.447345</td>\n",
              "      <td>12.433065</td>\n",
              "      <td>12.426926</td>\n",
              "      <td>12.387474</td>\n",
              "      <td>12.365984</td>\n",
              "      <td>12.342823</td>\n",
              "      <td>12.335925</td>\n",
              "      <td>12.328055</td>\n",
              "      <td>12.284265</td>\n",
              "      <td>12.269844</td>\n",
              "      <td>12.247357</td>\n",
              "      <td>10.557967</td>\n",
              "      <td>10.473721</td>\n",
              "      <td>9.225262</td>\n",
              "      <td>8.448526</td>\n",
              "      <td>7.611145</td>\n",
              "      <td>7.610874</td>\n",
              "      <td>7.580510</td>\n",
              "      <td>7.579386</td>\n",
              "      <td>7.576929</td>\n",
              "      <td>7.536001</td>\n",
              "      <td>7.517317</td>\n",
              "      <td>7.462578</td>\n",
              "      <td>7.459865</td>\n",
              "      <td>7.456214</td>\n",
              "      <td>7.447581</td>\n",
              "      <td>7.443458</td>\n",
              "      <td>7.423496</td>\n",
              "      <td>7.345785</td>\n",
              "      <td>7.323741</td>\n",
              "      <td>7.247088</td>\n",
              "      <td>7.230886</td>\n",
              "      <td>6.662523</td>\n",
              "      <td>6.286251</td>\n",
              "      <td>6.134338</td>\n",
              "      <td>...</td>\n",
              "      <td>0.0</td>\n",
              "      <td>0.0</td>\n",
              "      <td>0.5</td>\n",
              "      <td>0.0</td>\n",
              "      <td>0.0</td>\n",
              "      <td>0.0</td>\n",
              "      <td>0.0</td>\n",
              "      <td>0.0</td>\n",
              "      <td>0.0</td>\n",
              "      <td>0.0</td>\n",
              "      <td>0.5</td>\n",
              "      <td>0.0</td>\n",
              "      <td>0.0</td>\n",
              "      <td>0.0</td>\n",
              "      <td>0.0</td>\n",
              "      <td>0.0</td>\n",
              "      <td>0.0</td>\n",
              "      <td>0.5</td>\n",
              "      <td>0.0</td>\n",
              "      <td>0.0</td>\n",
              "      <td>0.0</td>\n",
              "      <td>0.0</td>\n",
              "      <td>0.0</td>\n",
              "      <td>0.5</td>\n",
              "      <td>0.0</td>\n",
              "      <td>0.0</td>\n",
              "      <td>0.0</td>\n",
              "      <td>0.0</td>\n",
              "      <td>0.5</td>\n",
              "      <td>0.0</td>\n",
              "      <td>0.0</td>\n",
              "      <td>0.0</td>\n",
              "      <td>0.5</td>\n",
              "      <td>0.0</td>\n",
              "      <td>0.0</td>\n",
              "      <td>0.0</td>\n",
              "      <td>0.0</td>\n",
              "      <td>0.0</td>\n",
              "      <td>25004</td>\n",
              "      <td>-19.013763</td>\n",
              "    </tr>\n",
              "    <tr>\n",
              "      <th>1</th>\n",
              "      <td>73.516695</td>\n",
              "      <td>20.649126</td>\n",
              "      <td>18.527789</td>\n",
              "      <td>17.891535</td>\n",
              "      <td>17.887995</td>\n",
              "      <td>17.871731</td>\n",
              "      <td>17.852586</td>\n",
              "      <td>17.729842</td>\n",
              "      <td>15.864270</td>\n",
              "      <td>15.227643</td>\n",
              "      <td>15.202985</td>\n",
              "      <td>14.800045</td>\n",
              "      <td>12.855629</td>\n",
              "      <td>12.728858</td>\n",
              "      <td>12.618058</td>\n",
              "      <td>12.589962</td>\n",
              "      <td>12.557323</td>\n",
              "      <td>12.074893</td>\n",
              "      <td>10.607138</td>\n",
              "      <td>10.572061</td>\n",
              "      <td>10.464293</td>\n",
              "      <td>9.816674</td>\n",
              "      <td>9.456914</td>\n",
              "      <td>9.455816</td>\n",
              "      <td>8.865704</td>\n",
              "      <td>8.104048</td>\n",
              "      <td>8.006855</td>\n",
              "      <td>7.968817</td>\n",
              "      <td>7.946644</td>\n",
              "      <td>7.932943</td>\n",
              "      <td>7.922656</td>\n",
              "      <td>7.888724</td>\n",
              "      <td>7.885692</td>\n",
              "      <td>7.783220</td>\n",
              "      <td>7.637477</td>\n",
              "      <td>7.636586</td>\n",
              "      <td>7.631457</td>\n",
              "      <td>7.336591</td>\n",
              "      <td>7.127698</td>\n",
              "      <td>6.974135</td>\n",
              "      <td>...</td>\n",
              "      <td>0.0</td>\n",
              "      <td>0.0</td>\n",
              "      <td>0.0</td>\n",
              "      <td>0.0</td>\n",
              "      <td>0.0</td>\n",
              "      <td>0.0</td>\n",
              "      <td>0.0</td>\n",
              "      <td>0.0</td>\n",
              "      <td>0.0</td>\n",
              "      <td>0.0</td>\n",
              "      <td>0.0</td>\n",
              "      <td>0.0</td>\n",
              "      <td>0.0</td>\n",
              "      <td>0.0</td>\n",
              "      <td>0.0</td>\n",
              "      <td>0.0</td>\n",
              "      <td>0.0</td>\n",
              "      <td>0.0</td>\n",
              "      <td>0.0</td>\n",
              "      <td>0.0</td>\n",
              "      <td>0.0</td>\n",
              "      <td>0.0</td>\n",
              "      <td>0.0</td>\n",
              "      <td>0.0</td>\n",
              "      <td>0.0</td>\n",
              "      <td>0.0</td>\n",
              "      <td>0.0</td>\n",
              "      <td>0.0</td>\n",
              "      <td>0.0</td>\n",
              "      <td>0.0</td>\n",
              "      <td>0.0</td>\n",
              "      <td>0.0</td>\n",
              "      <td>0.0</td>\n",
              "      <td>0.0</td>\n",
              "      <td>0.0</td>\n",
              "      <td>0.0</td>\n",
              "      <td>0.0</td>\n",
              "      <td>0.0</td>\n",
              "      <td>25005</td>\n",
              "      <td>-10.161019</td>\n",
              "    </tr>\n",
              "    <tr>\n",
              "      <th>2</th>\n",
              "      <td>73.516695</td>\n",
              "      <td>17.830377</td>\n",
              "      <td>12.512263</td>\n",
              "      <td>12.404775</td>\n",
              "      <td>12.394493</td>\n",
              "      <td>12.391564</td>\n",
              "      <td>12.324461</td>\n",
              "      <td>12.238106</td>\n",
              "      <td>10.423249</td>\n",
              "      <td>8.698826</td>\n",
              "      <td>7.607776</td>\n",
              "      <td>7.550253</td>\n",
              "      <td>7.446675</td>\n",
              "      <td>7.398848</td>\n",
              "      <td>7.381532</td>\n",
              "      <td>7.355045</td>\n",
              "      <td>7.321944</td>\n",
              "      <td>6.625986</td>\n",
              "      <td>6.116315</td>\n",
              "      <td>6.106397</td>\n",
              "      <td>6.098066</td>\n",
              "      <td>5.989868</td>\n",
              "      <td>5.731750</td>\n",
              "      <td>5.700963</td>\n",
              "      <td>5.371527</td>\n",
              "      <td>5.008911</td>\n",
              "      <td>4.894453</td>\n",
              "      <td>4.826545</td>\n",
              "      <td>4.352232</td>\n",
              "      <td>4.270598</td>\n",
              "      <td>2.902330</td>\n",
              "      <td>2.902220</td>\n",
              "      <td>2.901834</td>\n",
              "      <td>2.901089</td>\n",
              "      <td>2.900168</td>\n",
              "      <td>2.900151</td>\n",
              "      <td>2.899983</td>\n",
              "      <td>2.898772</td>\n",
              "      <td>2.898551</td>\n",
              "      <td>2.897620</td>\n",
              "      <td>...</td>\n",
              "      <td>0.0</td>\n",
              "      <td>0.0</td>\n",
              "      <td>0.0</td>\n",
              "      <td>0.0</td>\n",
              "      <td>0.0</td>\n",
              "      <td>0.0</td>\n",
              "      <td>0.0</td>\n",
              "      <td>0.0</td>\n",
              "      <td>0.0</td>\n",
              "      <td>0.0</td>\n",
              "      <td>0.0</td>\n",
              "      <td>0.0</td>\n",
              "      <td>0.0</td>\n",
              "      <td>0.0</td>\n",
              "      <td>0.0</td>\n",
              "      <td>0.0</td>\n",
              "      <td>0.0</td>\n",
              "      <td>0.0</td>\n",
              "      <td>0.0</td>\n",
              "      <td>0.0</td>\n",
              "      <td>0.0</td>\n",
              "      <td>0.0</td>\n",
              "      <td>0.0</td>\n",
              "      <td>0.0</td>\n",
              "      <td>0.0</td>\n",
              "      <td>0.0</td>\n",
              "      <td>0.0</td>\n",
              "      <td>0.0</td>\n",
              "      <td>0.0</td>\n",
              "      <td>0.0</td>\n",
              "      <td>0.0</td>\n",
              "      <td>0.0</td>\n",
              "      <td>0.0</td>\n",
              "      <td>0.0</td>\n",
              "      <td>0.0</td>\n",
              "      <td>0.0</td>\n",
              "      <td>0.0</td>\n",
              "      <td>0.0</td>\n",
              "      <td>25006</td>\n",
              "      <td>-9.376619</td>\n",
              "    </tr>\n",
              "    <tr>\n",
              "      <th>3</th>\n",
              "      <td>73.516695</td>\n",
              "      <td>17.875810</td>\n",
              "      <td>17.871259</td>\n",
              "      <td>17.862402</td>\n",
              "      <td>17.850920</td>\n",
              "      <td>17.850440</td>\n",
              "      <td>12.558105</td>\n",
              "      <td>12.557645</td>\n",
              "      <td>12.517583</td>\n",
              "      <td>12.444141</td>\n",
              "      <td>12.420665</td>\n",
              "      <td>12.410312</td>\n",
              "      <td>12.346845</td>\n",
              "      <td>12.175480</td>\n",
              "      <td>12.098758</td>\n",
              "      <td>10.612802</td>\n",
              "      <td>10.610273</td>\n",
              "      <td>10.606738</td>\n",
              "      <td>10.606702</td>\n",
              "      <td>10.433290</td>\n",
              "      <td>8.694957</td>\n",
              "      <td>8.421582</td>\n",
              "      <td>8.103569</td>\n",
              "      <td>8.103345</td>\n",
              "      <td>7.595619</td>\n",
              "      <td>7.566897</td>\n",
              "      <td>7.555411</td>\n",
              "      <td>7.413109</td>\n",
              "      <td>7.403199</td>\n",
              "      <td>7.185256</td>\n",
              "      <td>6.915425</td>\n",
              "      <td>6.198245</td>\n",
              "      <td>6.191266</td>\n",
              "      <td>6.181797</td>\n",
              "      <td>6.152544</td>\n",
              "      <td>5.252689</td>\n",
              "      <td>5.244354</td>\n",
              "      <td>5.176740</td>\n",
              "      <td>5.176314</td>\n",
              "      <td>5.175577</td>\n",
              "      <td>...</td>\n",
              "      <td>0.0</td>\n",
              "      <td>0.0</td>\n",
              "      <td>0.0</td>\n",
              "      <td>0.0</td>\n",
              "      <td>0.0</td>\n",
              "      <td>0.0</td>\n",
              "      <td>0.0</td>\n",
              "      <td>0.0</td>\n",
              "      <td>0.0</td>\n",
              "      <td>0.0</td>\n",
              "      <td>0.0</td>\n",
              "      <td>0.0</td>\n",
              "      <td>0.0</td>\n",
              "      <td>0.0</td>\n",
              "      <td>0.0</td>\n",
              "      <td>0.0</td>\n",
              "      <td>0.0</td>\n",
              "      <td>0.0</td>\n",
              "      <td>0.0</td>\n",
              "      <td>0.0</td>\n",
              "      <td>0.0</td>\n",
              "      <td>0.0</td>\n",
              "      <td>0.0</td>\n",
              "      <td>0.0</td>\n",
              "      <td>0.0</td>\n",
              "      <td>0.0</td>\n",
              "      <td>0.0</td>\n",
              "      <td>0.0</td>\n",
              "      <td>0.0</td>\n",
              "      <td>0.0</td>\n",
              "      <td>0.0</td>\n",
              "      <td>0.0</td>\n",
              "      <td>0.0</td>\n",
              "      <td>0.0</td>\n",
              "      <td>0.0</td>\n",
              "      <td>0.0</td>\n",
              "      <td>0.0</td>\n",
              "      <td>0.0</td>\n",
              "      <td>25009</td>\n",
              "      <td>-13.776438</td>\n",
              "    </tr>\n",
              "    <tr>\n",
              "      <th>4</th>\n",
              "      <td>73.516695</td>\n",
              "      <td>17.883818</td>\n",
              "      <td>17.868256</td>\n",
              "      <td>17.864221</td>\n",
              "      <td>17.818540</td>\n",
              "      <td>12.508657</td>\n",
              "      <td>12.490519</td>\n",
              "      <td>12.450098</td>\n",
              "      <td>10.597068</td>\n",
              "      <td>10.595914</td>\n",
              "      <td>10.485270</td>\n",
              "      <td>8.595823</td>\n",
              "      <td>8.103880</td>\n",
              "      <td>8.103567</td>\n",
              "      <td>7.975189</td>\n",
              "      <td>7.546413</td>\n",
              "      <td>7.503300</td>\n",
              "      <td>6.803380</td>\n",
              "      <td>6.738768</td>\n",
              "      <td>5.169492</td>\n",
              "      <td>5.161869</td>\n",
              "      <td>5.145972</td>\n",
              "      <td>4.924911</td>\n",
              "      <td>4.899245</td>\n",
              "      <td>4.534996</td>\n",
              "      <td>4.486310</td>\n",
              "      <td>3.897466</td>\n",
              "      <td>3.081523</td>\n",
              "      <td>2.957823</td>\n",
              "      <td>2.903069</td>\n",
              "      <td>2.902178</td>\n",
              "      <td>2.900610</td>\n",
              "      <td>2.900542</td>\n",
              "      <td>2.900306</td>\n",
              "      <td>2.899368</td>\n",
              "      <td>2.899113</td>\n",
              "      <td>2.897739</td>\n",
              "      <td>2.896793</td>\n",
              "      <td>2.896063</td>\n",
              "      <td>2.895051</td>\n",
              "      <td>...</td>\n",
              "      <td>0.0</td>\n",
              "      <td>0.0</td>\n",
              "      <td>0.0</td>\n",
              "      <td>0.0</td>\n",
              "      <td>0.0</td>\n",
              "      <td>0.0</td>\n",
              "      <td>0.0</td>\n",
              "      <td>0.0</td>\n",
              "      <td>0.0</td>\n",
              "      <td>0.0</td>\n",
              "      <td>0.0</td>\n",
              "      <td>0.0</td>\n",
              "      <td>0.0</td>\n",
              "      <td>0.0</td>\n",
              "      <td>0.0</td>\n",
              "      <td>0.0</td>\n",
              "      <td>0.0</td>\n",
              "      <td>0.0</td>\n",
              "      <td>0.0</td>\n",
              "      <td>0.0</td>\n",
              "      <td>0.0</td>\n",
              "      <td>0.0</td>\n",
              "      <td>0.0</td>\n",
              "      <td>0.0</td>\n",
              "      <td>0.0</td>\n",
              "      <td>0.0</td>\n",
              "      <td>0.0</td>\n",
              "      <td>0.0</td>\n",
              "      <td>0.0</td>\n",
              "      <td>0.0</td>\n",
              "      <td>0.0</td>\n",
              "      <td>0.0</td>\n",
              "      <td>0.0</td>\n",
              "      <td>0.0</td>\n",
              "      <td>0.0</td>\n",
              "      <td>0.0</td>\n",
              "      <td>0.0</td>\n",
              "      <td>0.0</td>\n",
              "      <td>25011</td>\n",
              "      <td>-8.537140</td>\n",
              "    </tr>\n",
              "  </tbody>\n",
              "</table>\n",
              "<p>5 rows × 1277 columns</p>\n",
              "</div>"
            ],
            "text/plain": [
              "           0          1          2  ...  1274  pubchem_id        Eat\n",
              "0  73.516695  17.817765  12.469551  ...   0.0       25004 -19.013763\n",
              "1  73.516695  20.649126  18.527789  ...   0.0       25005 -10.161019\n",
              "2  73.516695  17.830377  12.512263  ...   0.0       25006  -9.376619\n",
              "3  73.516695  17.875810  17.871259  ...   0.0       25009 -13.776438\n",
              "4  73.516695  17.883818  17.868256  ...   0.0       25011  -8.537140\n",
              "\n",
              "[5 rows x 1277 columns]"
            ]
          },
          "metadata": {
            "tags": []
          },
          "execution_count": 5
        }
      ]
    },
    {
      "cell_type": "code",
      "metadata": {
        "id": "6VN9Ust64Lxz"
      },
      "source": [
        ""
      ],
      "execution_count": null,
      "outputs": []
    },
    {
      "cell_type": "markdown",
      "metadata": {
        "id": "PxlQoxCR4T4M"
      },
      "source": [
        "# Linear Models"
      ]
    },
    {
      "cell_type": "markdown",
      "metadata": {
        "id": "hGoFyCzW4ujE"
      },
      "source": [
        "## Regression"
      ]
    },
    {
      "cell_type": "code",
      "metadata": {
        "colab": {
          "base_uri": "https://localhost:8080/",
          "height": 384
        },
        "id": "sNcDoXcf4V2n",
        "outputId": "8cfe5035-6d6a-4c67-b342-cfd018b7ce38"
      },
      "source": [
        "w, b = np.random.uniform(-5,5, 2)\r\n",
        "print(f'The slope is {w:.2f} and the intercept is {b:.2f}.\\n')\r\n",
        "\r\n",
        "ns = 10\r\n",
        "\r\n",
        "noise = 10\r\n",
        "\r\n",
        "X_synth = np.sort(np.random.uniform(0,100,ns))\r\n",
        "Y_synth = w*X_synth + b + np.random.normal(0,noise, ns)\r\n",
        "\r\n",
        "fig = plt.figure()\r\n",
        "ax = fig.add_subplot(111, xlabel='X1', ylabel='Y')\r\n",
        "plt.scatter(X_synth, Y_synth)\r\n",
        "plt.plot(X_synth, w*X_synth + b , c='r')\r\n",
        "plt.show()"
      ],
      "execution_count": 40,
      "outputs": [
        {
          "output_type": "stream",
          "text": [
            "The slope is 2.88 and the intercept is -1.36.\n",
            "\n"
          ],
          "name": "stdout"
        },
        {
          "output_type": "display_data",
          "data": {
            "image/png": "[encoded data removed]",
            "text/plain": [
              "<Figure size 720x360 with 1 Axes>"
            ]
          },
          "metadata": {
            "tags": [],
            "needs_background": "light"
          }
        }
      ]
    },
    {
      "cell_type": "code",
      "metadata": {
        "colab": {
          "base_uri": "https://localhost:8080/",
          "height": 350
        },
        "id": "TImJZv_I5Tik",
        "outputId": "a7b0204e-42c2-464a-bff3-2eb6eab9df99"
      },
      "source": [
        "# Let's try some random linear model\r\n",
        "def test_model(w_list, bias = 0):\r\n",
        "    '''\r\n",
        "    This model returns a function f = w.X. \r\n",
        "    Note that the assumption is \r\n",
        "    X is [n_s, n_f ]\r\n",
        "    w is [n_f] (is a vector). \r\n",
        "    '''\r\n",
        "    n_f = len(w_list)\r\n",
        "    def f(x):\r\n",
        "        return x.reshape(-1,n_f) @ w_random + bias\r\n",
        "    return f\r\n",
        "\r\n",
        "w_random = np.random.uniform(-1,1, (1,1))\r\n",
        "b_random = np.random.uniform(-1,1, 1)\r\n",
        "model = test_model(w_random, b_random)\r\n",
        "\r\n",
        "\r\n",
        "\r\n",
        "fig = plt.figure(figsize=(10,5))\r\n",
        "ax = fig.add_subplot(111, xlabel='X1', ylabel='Y')\r\n",
        "plt.scatter(X_synth, Y_synth)\r\n",
        "plt.plot(X_synth, w*X_synth + b , c='r', label= 'Actual model')\r\n",
        "plt.plot(X_synth, model(X_synth) , c='blue', label= 'Random model')\r\n",
        "plt.legend(loc=0)\r\n",
        "plt.show()"
      ],
      "execution_count": 41,
      "outputs": [
        {
          "output_type": "display_data",
          "data": {
            "image/png": "[encoded data removed]",
            "text/plain": [
              "<Figure size 720x360 with 1 Axes>"
            ]
          },
          "metadata": {
            "tags": [],
            "needs_background": "light"
          }
        }
      ]
    },
    {
      "cell_type": "code",
      "metadata": {
        "id": "KR8ZGAzW4x9B"
      },
      "source": [
        "## Is this a good model?\r\n",
        "## Write a function that characterizes the quality of the fit. \r\n",
        "\r\n",
        "def reg_quality(Y,Y_pred):\r\n",
        "  # Fill this up\r\n",
        "\r\n",
        "  return 0"
      ],
      "execution_count": 8,
      "outputs": []
    },
    {
      "cell_type": "code",
      "metadata": {
        "id": "3LOeuf8u6osI"
      },
      "source": [
        "'''\r\n",
        "Find a random linear fit for the GSE data. \r\n",
        "\r\n",
        "How would you optimize the fit?\r\n",
        "'''\r\n",
        "\r\n"
      ],
      "execution_count": null,
      "outputs": []
    },
    {
      "cell_type": "code",
      "metadata": {
        "id": "kVX4ZhF38Wj_"
      },
      "source": [
        "'''\r\n",
        "Find a random linear fit for the BBR data. \r\n",
        "\r\n",
        "Does it seem right?\r\n",
        "'''\r\n"
      ],
      "execution_count": null,
      "outputs": []
    },
    {
      "cell_type": "markdown",
      "metadata": {
        "id": "z5N1eDyM8oVq"
      },
      "source": [
        "### Using sklearn"
      ]
    },
    {
      "cell_type": "code",
      "metadata": {
        "id": "6kVr07Zj8qYA"
      },
      "source": [
        "from sklearn.linear_model import Ridge\r\n",
        "from sklearn.neighbors import KNeighborsRegressor\r\n"
      ],
      "execution_count": 27,
      "outputs": []
    },
    {
      "cell_type": "code",
      "metadata": {
        "colab": {
          "base_uri": "https://localhost:8080/",
          "height": 350
        },
        "id": "ZIc9Lz5G80cA",
        "outputId": "fe338bd4-99dd-4fcb-c132-f3c747cc9a9c"
      },
      "source": [
        "x_range = np.arange(X_synth[0], X_synth[-1]+1)\r\n",
        "\r\n",
        "fig = plt.figure(figsize=(10,5))\r\n",
        "ax = fig.add_subplot(111, xlabel='X1', ylabel='Y')\r\n",
        "plt.scatter(X_synth, Y_synth)\r\n",
        "plt.plot(X_synth, w*X_synth + b , c='r', label= 'Actual model')\r\n",
        "\r\n",
        "\r\n",
        "rg = Ridge()\r\n",
        "rg.fit( X_synth.reshape(-1,1), Y_synth)  ## Training  ## X: ns*nf\r\n",
        "plt.plot(x_range, rg.predict(x_range.reshape(-1,1) ) , c='gray', label='Ridge fit')\r\n",
        "\r\n",
        "\r\n",
        "rg = KNeighborsRegressor(n_neighbors=2).fit(X_synth.reshape(-1,1), Y_synth)\r\n",
        "plt.plot(x_range, rg.predict(x_range.reshape(-1,1) ) , c='g', label='KNN fit')\r\n",
        "\r\n",
        "# plt.ylim(0,180)\r\n",
        "plt.legend(loc=0)\r\n",
        "plt.show()\r\n"
      ],
      "execution_count": 28,
      "outputs": [
        {
          "output_type": "display_data",
          "data": {
            "image/png": "[encoded data removed]",
            "text/plain": [
              "<Figure size 720x360 with 1 Axes>"
            ]
          },
          "metadata": {
            "tags": [],
            "needs_background": "light"
          }
        }
      ]
    },
    {
      "cell_type": "markdown",
      "metadata": {
        "id": "sQXZKllW9kFv"
      },
      "source": [
        "## Classification"
      ]
    },
    {
      "cell_type": "markdown",
      "metadata": {
        "heading_collapsed": true,
        "id": "G7d_itwHKRIS"
      },
      "source": [
        "### The concept"
      ]
    },
    {
      "cell_type": "code",
      "metadata": {
        "ExecuteTime": {
          "end_time": "2020-03-03T08:28:36.768977Z",
          "start_time": "2020-03-03T08:28:36.749720Z"
        },
        "hidden": true,
        "id": "xqWVgmYmZ24u",
        "colab": {
          "base_uri": "https://localhost:8080/",
          "height": 345
        },
        "outputId": "eb24f888-37b4-487c-e25a-6cf65650773f"
      },
      "source": [
        "'''\n",
        "Just as we did for clustering, we generate a set points in 2D but \n",
        "this time we are going to use the labels, Y for training a classifer. \n",
        "'''\n",
        "from sklearn.datasets import make_blobs\n",
        "X, Y = make_blobs(n_samples=100,centers=[[1,2], [10,5]])\n",
        "\n",
        "plt.scatter(*X.T, c=Y)"
      ],
      "execution_count": 50,
      "outputs": [
        {
          "output_type": "execute_result",
          "data": {
            "text/plain": [
              "<matplotlib.collections.PathCollection at 0x7fbcf7cd7d50>"
            ]
          },
          "metadata": {
            "tags": []
          },
          "execution_count": 50
        },
        {
          "output_type": "display_data",
          "data": {
            "image/png": "[encoded data removed]",
            "text/plain": [
              "<Figure size 720x360 with 1 Axes>"
            ]
          },
          "metadata": {
            "tags": [],
            "needs_background": "light"
          }
        }
      ]
    },
    {
      "cell_type": "markdown",
      "metadata": {
        "hidden": true,
        "id": "2qmySKLkZ247"
      },
      "source": [
        "What does a CLF do and how does it work? \n",
        "\n",
        "We are looking for f(X) such that for class 1, f(X) > 0 and for class 2, f(X) < 0. \n",
        "\n",
        "Let's try some models\n"
      ]
    },
    {
      "cell_type": "code",
      "metadata": {
        "colab": {
          "base_uri": "https://localhost:8080/",
          "height": 350
        },
        "id": "0d2_sFDsAVWQ",
        "outputId": "6c32a8cf-6c21-4d4a-8aa9-4efa043ab2e4"
      },
      "source": [
        "def test_model(w_list, bias = 0):\r\n",
        "    '''\r\n",
        "    This model returns a function f = w.X. \r\n",
        "    Note that the assumption is \r\n",
        "    X is [n_s, n_f = 2]\r\n",
        "    w is [n_f] (is a vector). \r\n",
        "    '''\r\n",
        "    def f(x):\r\n",
        "        return np.dot(x,w_list) + bias\r\n",
        "    return f\r\n",
        "\r\n",
        "w_random = np.random.uniform(-1,1,2)\r\n",
        "model = test_model(w_random)\r\n",
        "\r\n",
        "model = test_model([2, 1],bias = -10)\r\n",
        "\r\n",
        "x1_list, x2_list = grid(X[:,0], X[:,1], n_points=70)\r\n",
        "X_grid = np.vstack([x1_list.reshape(-1),x2_list.reshape(-1)]).T\r\n",
        "Y_grid = model( X_grid ).reshape(x1_list.shape ) > 0\r\n",
        "\r\n",
        "\r\n",
        "fig = plt.figure(figsize=(10,5))\r\n",
        "ax = fig.add_subplot(111, xlabel='X1', ylabel='X2')\r\n",
        "\r\n",
        "ax.contourf(x1_list, x2_list, Y_grid, alpha=.4, cmap=plt.cm.autumn_r)\r\n",
        "ax.scatter(*X.T, c=Y)\r\n",
        "plt.show()"
      ],
      "execution_count": 58,
      "outputs": [
        {
          "output_type": "display_data",
          "data": {
            "image/png": "[encoded data removed]",
            "text/plain": [
              "<Figure size 720x360 with 1 Axes>"
            ]
          },
          "metadata": {
            "tags": [],
            "needs_background": "light"
          }
        }
      ]
    },
    {
      "cell_type": "code",
      "metadata": {
        "ExecuteTime": {
          "end_time": "2020-03-02T17:58:39.563939Z",
          "start_time": "2020-03-02T17:58:39.523050Z"
        },
        "hidden": true,
        "id": "A3GdINlUZ25G",
        "colab": {
          "base_uri": "https://localhost:8080/",
          "height": 409,
          "referenced_widgets": [
            "e9ffd58584d04091a8c7dabd9c10bc31",
            "1735d3ab48b24d66b1710ea555100eb0",
            "824d9d221b0048d0a68c55708326e12e",
            "898ee7cbc3754089a7ef83ccd725bfa7",
            "58f3ef13f00644e3a48f7ea6a3d79c9b",
            "69fc9e898d6640a0b545a5b6c0c86012",
            "b76c2781d0f245f8977fedf28958ccd1",
            "ab0fc86d0fcd424084cdc5349d5afc69",
            "0e2e177cc1694e8a9e6903f19eb2c5f1",
            "3163d2a4282f46b7a3292c724ce0333f"
          ]
        },
        "outputId": "33b3455a-38a6-4fbc-dd24-189b064e3baa"
      },
      "source": [
        "from matplotlib.widgets import Slider, Button, RadioButtons\n",
        "from ipywidgets import interact, IntSlider, FloatSlider\n",
        "\n",
        "\n",
        "\n",
        "def test_model_plot(a, b):\n",
        "    w_list = [1,a]\n",
        "    clf = test_model(w_list, b  )\n",
        "    Y_grid = clf( X_grid ).reshape(x1_list.shape ) > 0\n",
        "\n",
        "    fig = plt.figure()\n",
        "    ax = fig.add_subplot(111)\n",
        "    ax.scatter(*X.T, c=Y)\n",
        "    ax.contourf(x1_list, x2_list, Y_grid, alpha=.4, cmap=plt.cm.autumn)\n",
        "    plt.show()\n",
        "\n",
        "    return None\n",
        "\n",
        "interact(test_model_plot, a=FloatSlider(min=-5, max=5, step=.5, value=2), b=FloatSlider(min=-10, max=10, step=.5, value=2))"
      ],
      "execution_count": 59,
      "outputs": [
        {
          "output_type": "display_data",
          "data": {
            "application/vnd.jupyter.widget-view+json": {
              "model_id": "e9ffd58584d04091a8c7dabd9c10bc31",
              "version_minor": 0,
              "version_major": 2
            },
            "text/plain": [
              "interactive(children=(FloatSlider(value=2.0, description='a', max=5.0, min=-5.0, step=0.5), FloatSlider(value=…"
            ]
          },
          "metadata": {
            "tags": []
          }
        },
        {
          "output_type": "execute_result",
          "data": {
            "text/plain": [
              "<function __main__.test_model_plot>"
            ]
          },
          "metadata": {
            "tags": []
          },
          "execution_count": 59
        }
      ]
    },
    {
      "cell_type": "markdown",
      "metadata": {
        "hidden": true,
        "id": "8s8t9ULXcin0"
      },
      "source": [
        "**Question: Find a way to optimize this!**\n",
        "\n",
        "Write a function that given the X and Y, finds a linear classification for this problem. "
      ]
    },
    {
      "cell_type": "markdown",
      "metadata": {
        "id": "twd2CG1IAzK9"
      },
      "source": [
        "### Classification with sklearn"
      ]
    },
    {
      "cell_type": "code",
      "metadata": {
        "colab": {
          "base_uri": "https://localhost:8080/",
          "height": 328
        },
        "id": "tzAOyNBRA2J5",
        "outputId": "ec427e2d-2d16-4d76-9406-87470c7bd9f8"
      },
      "source": [
        "\r\n",
        "'''\r\n",
        "We can use sklearn to implement some of the well-known classification algorithms. \r\n",
        "'''\r\n",
        "\r\n",
        "from sklearn.linear_model import SGDClassifier\r\n",
        "from sklearn.svm import  SVC\r\n",
        "\r\n",
        "# clf = SGDClassifier()\r\n",
        "clf = SVC()\r\n",
        "clf.fit(X, Y)\r\n",
        "\r\n",
        "x1_list, x2_list = grid(X[:,0], X[:,1], n_points=70)\r\n",
        "X_grid = np.vstack([x1_list.reshape(-1),x2_list.reshape(-1)]).T\r\n",
        "\r\n",
        "Y_grid = clf.predict( X_grid ).reshape(x1_list.shape )\r\n",
        "\r\n",
        "fig = plt.figure()\r\n",
        "ax = fig.add_subplot(111)\r\n",
        "\r\n",
        "ax.contourf(x1_list, x2_list, Y_grid, alpha=.4, cmap=plt.cm.autumn_r)\r\n",
        "ax.scatter(*X.T, c=Y)\r\n",
        "plt.show()"
      ],
      "execution_count": 62,
      "outputs": [
        {
          "output_type": "display_data",
          "data": {
            "image/png": "[encoded data removed]",
            "text/plain": [
              "<Figure size 720x360 with 1 Axes>"
            ]
          },
          "metadata": {
            "tags": [],
            "needs_background": "light"
          }
        }
      ]
    },
    {
      "cell_type": "code",
      "metadata": {
        "id": "s55xxAvIA3eq"
      },
      "source": [
        "'''\r\n",
        "Do the same for the data_prtcl\r\n",
        "'''"
      ],
      "execution_count": null,
      "outputs": []
    },
    {
      "cell_type": "code",
      "metadata": {
        "id": "lZ5rHHthBC5L"
      },
      "source": [
        "'''\r\n",
        "For the BBR data, train a polynomial model using what you learned today.\r\n",
        "Hint: use polynomial features to generate polynomial features. \r\n",
        "Hint: It might help to first scale both X and Y into a range of [0-1].\r\n",
        "'''\r\n",
        "from sklearn.preprocessing import PolynomialFeatures"
      ],
      "execution_count": 63,
      "outputs": []
    },
    {
      "cell_type": "code",
      "metadata": {
        "id": "-cD0YggKBT4y"
      },
      "source": [
        ""
      ],
      "execution_count": null,
      "outputs": []
    }
  ]
}