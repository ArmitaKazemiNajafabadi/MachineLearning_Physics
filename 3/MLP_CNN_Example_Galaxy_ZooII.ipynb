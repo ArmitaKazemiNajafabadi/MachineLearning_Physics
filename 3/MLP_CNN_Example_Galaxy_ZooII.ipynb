{
  "nbformat": 4,
  "nbformat_minor": 0,
  "metadata": {
    "accelerator": "GPU",
    "colab": {
      "name": "Galaxy_ZooII.ipynb",
      "provenance": [],
      "collapsed_sections": [
        "0Gnzy3XxhhpO",
        "ln5Xb_CU6Khl"
      ],
      "include_colab_link": true
    },
    "kernelspec": {
      "display_name": "Python 3",
      "language": "python",
      "name": "python3"
    },
    "language_info": {
      "codemirror_mode": {
        "name": "ipython",
        "version": 3
      },
      "file_extension": ".py",
      "mimetype": "text/x-python",
      "name": "python",
      "nbconvert_exporter": "python",
      "pygments_lexer": "ipython3",
      "version": "3.6.10"
    },
    "latex_envs": {
      "LaTeX_envs_menu_present": true,
      "autoclose": false,
      "autocomplete": true,
      "bibliofile": "biblio.bib",
      "cite_by": "apalike",
      "current_citInitial": 1,
      "eqLabelWithNumbers": true,
      "eqNumInitial": 1,
      "hotkeys": {
        "equation": "Ctrl-E",
        "itemize": "Ctrl-I"
      },
      "labels_anchors": false,
      "latex_user_defs": false,
      "report_style_numbering": false,
      "user_envs_cfg": false
    },
    "toc": {
      "base_numbering": 1,
      "nav_menu": {},
      "number_sections": true,
      "sideBar": true,
      "skip_h1_title": false,
      "title_cell": "Table of Contents",
      "title_sidebar": "Contents",
      "toc_cell": false,
      "toc_position": {},
      "toc_section_display": true,
      "toc_window_display": false
    },
    "varInspector": {
      "cols": {
        "lenName": 16,
        "lenType": 16,
        "lenVar": 40
      },
      "kernels_config": {
        "python": {
          "delete_cmd_postfix": "",
          "delete_cmd_prefix": "del ",
          "library": "var_list.py",
          "varRefreshCmd": "print(var_dic_list())"
        },
        "r": {
          "delete_cmd_postfix": ") ",
          "delete_cmd_prefix": "rm(",
          "library": "var_list.r",
          "varRefreshCmd": "cat(var_dic_list()) "
        }
      },
      "types_to_exclude": [
        "module",
        "function",
        "builtin_function_or_method",
        "instance",
        "_Feature"
      ],
      "window_display": false
    }
  },
  "cells": [
    {
      "cell_type": "markdown",
      "metadata": {
        "id": "view-in-github",
        "colab_type": "text"
      },
      "source": [
        "<a href=\"https://colab.research.google.com/github/sraeisi/MachineLearning_Physics/blob/master/3/MLP_CNN_Example_Galaxy_ZooII.ipynb\" target=\"_parent\"><img src=\"https://colab.research.google.com/assets/colab-badge.svg\" alt=\"Open In Colab\"/></a>"
      ]
    },
    {
      "cell_type": "code",
      "metadata": {
        "ExecuteTime": {
          "end_time": "2020-05-19T22:24:16.872818Z",
          "start_time": "2020-05-19T22:24:07.651759Z"
        },
        "colab": {
          "base_uri": "https://localhost:8080/"
        },
        "id": "NBWm-FZCDEne",
        "outputId": "7550180c-b081-4201-b07a-a0213d897a10"
      },
      "source": [
        "import numpy as np\n",
        "import pandas as pd\n",
        "import matplotlib.pyplot as plt\n",
        "plt.style.use('seaborn-talk')\n",
        "\n",
        "from urllib.request import urlopen\n",
        "from imageio import imread\n",
        "import requests\n",
        "import io\n",
        "from time import time\n",
        "\n",
        "import cv2 \n",
        "import os, shutil\n",
        "\n",
        "\n",
        "import warnings\n",
        "warnings.filterwarnings('ignore')\n",
        "\n",
        "# TensorFlow and tf.keras\n",
        "import tensorflow as tf\n",
        "from tensorflow import keras\n",
        "from tensorflow.keras import layers, models\n",
        "\n",
        "%load_ext tensorboard\n",
        "\n",
        "\n",
        "gpus = tf.config.experimental.list_physical_devices('GPU')\n",
        "if len(gpus)>0:\n",
        "    tf.config.experimental.set_memory_growth(gpus[0] , True)\n",
        "    print('Running on GPU ...')\n",
        "else:\n",
        "    print('Running on CPU ...')\n",
        "\n"
      ],
      "execution_count": 2,
      "outputs": [
        {
          "output_type": "stream",
          "text": [
            "Running on GPU ...\n"
          ],
          "name": "stdout"
        }
      ]
    },
    {
      "cell_type": "code",
      "metadata": {
        "ExecuteTime": {
          "end_time": "2020-05-19T08:19:32.031147Z",
          "start_time": "2020-05-19T08:19:32.024119Z"
        },
        "id": "OsR49J_tLk5l"
      },
      "source": [
        "my_callbacks = [\n",
        "    tf.keras.callbacks.EarlyStopping(patience=5, monitor=\"val_loss\"),\n",
        "    tf.keras.callbacks.ModelCheckpoint(filepath='model.{epoch:02d}-{val_loss:.2f}.h5', \n",
        "                                       monitor='val_acc',\n",
        "                                       mode='max',\n",
        "                                       save_best_only=True),\n",
        "    tf.keras.callbacks.TensorBoard(log_dir=f'logs', update_freq=100),\n",
        "]"
      ],
      "execution_count": 3,
      "outputs": []
    },
    {
      "cell_type": "code",
      "metadata": {
        "ExecuteTime": {
          "end_time": "2020-05-19T22:24:19.815808Z",
          "start_time": "2020-05-19T22:24:19.802930Z"
        },
        "colab": {
          "base_uri": "https://localhost:8080/"
        },
        "id": "TKA-M35HLk5n",
        "outputId": "be0e4a35-930b-4b61-ff74-1fd8e1334aab"
      },
      "source": [
        "batch_size = 128\n",
        "n_w = 200\n",
        "n_h = 200\n",
        "n_c = 1\n",
        "n_classes = 3 # This is only for the first question. \n",
        "\n",
        "# The number of steps in each epoch\n",
        "stp_epch =100#  int(61578/ batch_size)+1\n",
        "stp_epch"
      ],
      "execution_count": 4,
      "outputs": [
        {
          "output_type": "execute_result",
          "data": {
            "text/plain": [
              "100"
            ]
          },
          "metadata": {
            "tags": []
          },
          "execution_count": 4
        }
      ]
    },
    {
      "cell_type": "markdown",
      "metadata": {
        "id": "vC5wyTyagk8m"
      },
      "source": [
        "# Data: Galaxy Zoo\n",
        "\n",
        "The data here is take from the Galaxy Zoo II survey. For detailed information, see\n",
        "\n",
        "https://arxiv.org/pdf/1308.3496.pdf\n",
        "\n",
        "The labels are more involved. Here I simplified the classification problem in the sense that the labels here are only the answers to the first question in the survey, i.e. Is the galaxy simply smooth, and rounded, with no sign of a disk? \n",
        "\n",
        "answers: \n",
        "\n",
        "1. smooth, \n",
        "\n",
        "2. features or disk, \n",
        "\n",
        "3. star or artifact)."
      ]
    },
    {
      "cell_type": "code",
      "metadata": {
        "ExecuteTime": {
          "end_time": "2020-05-19T22:24:24.583195Z",
          "start_time": "2020-05-19T22:24:22.660937Z"
        },
        "colab": {
          "base_uri": "https://localhost:8080/"
        },
        "id": "F5bfew7uDX1w",
        "outputId": "f3afa337-5e78-453a-9566-e55f800c42d1"
      },
      "source": [
        "import io, requests, zipfile\n",
        "import pandas as pd\n",
        "\n",
        "url_x = \"https://www.dropbox.com/s/optw30o55q6mxlw/Cropped%26resized_GS_100_10000_withlabels.npz?dl=1\"\n",
        "url_y = 'https://www.dropbox.com/s/ctjjap42qilhu9s/Y_1.csv?dl=1'\n",
        "\n",
        "### This file contains classes and the ids. \n",
        "s=requests.get(url_y, stream=True).content\n",
        "df = pd.read_csv(io.BytesIO(s), index_col=0) \n",
        "\n",
        "# ### This file contains images and the ids. \n",
        "s=requests.get(url_x, stream=True).content\n",
        "d = np.load(io.BytesIO(s))\n",
        "\n",
        "# path = 'C:\\\\Users\\\\sraeisi\\\\Documents\\\\Datasets\\\\Physics\\\\Galaxies\\\\Kaggle\\\\'\n",
        "\n",
        "# d = np.load(path+'Cropped&resized_GS_100_10000_withlabels.npz')\n",
        "# df = pd.read_csv(path+'Y_1.csv', index_col=0) \n",
        "\n",
        "X, ids = [d[f] for f in ['imgs','ids']]\n",
        "ids = ids.astype('float')\n",
        "\n",
        "### We can make the labels based on the ids in the X file.\n",
        "Y = df.loc[ids].values\n",
        "print(Y.shape)"
      ],
      "execution_count": 5,
      "outputs": [
        {
          "output_type": "stream",
          "text": [
            "(10000, 3)\n"
          ],
          "name": "stdout"
        }
      ]
    },
    {
      "cell_type": "code",
      "metadata": {
        "ExecuteTime": {
          "end_time": "2020-05-19T08:51:42.794809Z",
          "start_time": "2020-05-19T08:51:42.547254Z"
        },
        "colab": {
          "base_uri": "https://localhost:8080/",
          "height": 364
        },
        "id": "3tXHbT9tgc7n",
        "outputId": "31166f79-e710-4e64-ed7f-d165efadc2fe"
      },
      "source": [
        "rand_ind = np.random.randint(0,len(Y) )\n",
        "\n",
        "fig = plt.figure(figsize=(10, 5))\n",
        "ax = fig.add_subplot(1,1,1, title =f'For this sample, the label is:\\n {Y[rand_ind]}' )\n",
        "ax.imshow(X[rand_ind])\n",
        "plt.show()"
      ],
      "execution_count": 6,
      "outputs": [
        {
          "output_type": "display_data",
          "data": {
            "image/png": "[encoded data removed]",
            "text/plain": [
              "<Figure size 720x360 with 1 Axes>"
            ]
          },
          "metadata": {
            "tags": [],
            "needs_background": "light"
          }
        }
      ]
    },
    {
      "cell_type": "code",
      "metadata": {
        "ExecuteTime": {
          "end_time": "2020-05-19T22:24:45.840445Z",
          "start_time": "2020-05-19T22:24:44.781087Z"
        },
        "id": "HcYNdSvyFn3m"
      },
      "source": [
        "# For the data we have:\n",
        "n_w, n_h = X[0].shape\n",
        "n_f = n_w*n_h\n",
        "n_c = 1 # number of channles\n",
        "n_out= 3\n",
        "\n",
        "from sklearn.model_selection import train_test_split\n",
        "X_train, X_test, Y_train, Y_test = train_test_split(X,Y, random_state=0, test_size=.25 )\n",
        "\n",
        "\n",
        "# To one hot\n",
        "# from tensorflow.keras import utils\n",
        "# Y_train = utils.to_categorical(Y_train, n_out)\n",
        "# Y_test = utils.to_categorical(Y_test, n_out)\n",
        "\n",
        "## To classes\n",
        "# Y_train = Y_train.argmax(axis=1)\n",
        "# Y_test = Y_test.argmax(axis=1)\n"
      ],
      "execution_count": 7,
      "outputs": []
    },
    {
      "cell_type": "code",
      "metadata": {
        "ExecuteTime": {
          "end_time": "2020-05-19T21:01:55.459241Z",
          "start_time": "2020-05-19T21:01:54.819862Z"
        },
        "id": "QqcaiSyaLk54"
      },
      "source": [
        "from tensorflow.keras.preprocessing.image import ImageDataGenerator\n"
      ],
      "execution_count": 8,
      "outputs": []
    },
    {
      "cell_type": "markdown",
      "metadata": {
        "heading_collapsed": true,
        "id": "0Gnzy3XxhhpO"
      },
      "source": [
        "## Let's start with a non-conv net"
      ]
    },
    {
      "cell_type": "code",
      "metadata": {
        "ExecuteTime": {
          "end_time": "2020-05-19T21:18:20.383327Z",
          "start_time": "2020-05-19T21:18:20.246086Z"
        },
        "colab": {
          "base_uri": "https://localhost:8080/"
        },
        "hidden": true,
        "id": "bI7llRaZjb-L",
        "outputId": "3e87349e-c40b-4ad3-e446-f46937e7bd89"
      },
      "source": [
        "from tensorflow.keras import layers\n",
        "from tensorflow.keras import models\n",
        "from tensorflow.keras import regularizers\n",
        "\n",
        "\n",
        "model = models.Sequential()\n",
        "\n",
        "model.add(layers.Flatten(input_shape=(n_w , n_h) ))\n",
        "\n",
        "model.add(layers.Dense(128, activation='relu', kernel_regularizer=regularizers.l2(.001)))\n",
        "model.add(layers.Dropout(.1))\n",
        "\n",
        "model.add(layers.Dense(3, activation='softmax'))\n",
        "\n",
        "model.compile(optimizer='adam', \n",
        "              loss='categorical_crossentropy',\n",
        "              metrics=['accuracy'])\n",
        "\n",
        "model.summary()\n"
      ],
      "execution_count": 10,
      "outputs": [
        {
          "output_type": "stream",
          "text": [
            "Model: \"sequential_1\"\n",
            "_________________________________________________________________\n",
            "Layer (type)                 Output Shape              Param #   \n",
            "=================================================================\n",
            "flatten_1 (Flatten)          (None, 10000)             0         \n",
            "_________________________________________________________________\n",
            "dense_2 (Dense)              (None, 128)               1280128   \n",
            "_________________________________________________________________\n",
            "dropout_1 (Dropout)          (None, 128)               0         \n",
            "_________________________________________________________________\n",
            "dense_3 (Dense)              (None, 3)                 387       \n",
            "=================================================================\n",
            "Total params: 1,280,515\n",
            "Trainable params: 1,280,515\n",
            "Non-trainable params: 0\n",
            "_________________________________________________________________\n"
          ],
          "name": "stdout"
        }
      ]
    },
    {
      "cell_type": "code",
      "metadata": {
        "ExecuteTime": {
          "end_time": "2020-05-19T21:20:03.088468Z",
          "start_time": "2020-05-19T21:18:25.655315Z"
        },
        "hidden": true,
        "id": "E9_wk8HQhhK0"
      },
      "source": [
        "history = model.fit(X_train,Y_train, \n",
        "                    epochs=50, batch_size = 64, \n",
        "                    verbose=0 , \n",
        "                    callbacks=my_callbacks, \n",
        "                    validation_data = (X_test, Y_test))"
      ],
      "execution_count": null,
      "outputs": []
    },
    {
      "cell_type": "code",
      "metadata": {
        "hidden": true,
        "id": "fGAIKG1HlcGY"
      },
      "source": [
        "### If on colab, you can run this to get the tensorboard \n",
        "%tensorboard --logdir 'logs_{model.name}'"
      ],
      "execution_count": null,
      "outputs": []
    },
    {
      "cell_type": "code",
      "metadata": {
        "ExecuteTime": {
          "end_time": "2020-05-19T21:20:04.240745Z",
          "start_time": "2020-05-19T21:20:03.290165Z"
        },
        "colab": {
          "base_uri": "https://localhost:8080/",
          "height": 369
        },
        "hidden": true,
        "id": "xhFxIXhkqDug",
        "outputId": "f06a1710-bee1-4d6c-90ba-a5fe2da26437"
      },
      "source": [
        "# Plot training & validation accuracy values\n",
        "fig = plt.figure(figsize=(10,5))\n",
        "ax = fig.add_subplot(1,2,1, title = 'Model accuracy', ylabel= 'Accuracy')\n",
        "plt.plot(history.history['accuracy'])\n",
        "plt.plot(history.history['val_accuracy'])\n",
        "plt.legend(['Train', 'Test'], loc='upper left')\n",
        "\n",
        "# Plot training & validation loss values\n",
        "ax = fig.add_subplot(1,2,2, title = 'Model loss', ylabel= 'Loss')\n",
        "plt.plot(history.history['loss'])\n",
        "plt.plot(history.history['val_loss'])\n",
        "plt.legend(['Train', 'Test'], loc='upper left')\n",
        "\n",
        "plt.tight_layout()\n",
        "plt.show()"
      ],
      "execution_count": 16,
      "outputs": [
        {
          "output_type": "display_data",
          "data": {
            "image/png": "[encoded data removed]",
            "text/plain": [
              "<Figure size 720x360 with 2 Axes>"
            ]
          },
          "metadata": {
            "tags": [],
            "needs_background": "light"
          }
        }
      ]
    },
    {
      "cell_type": "markdown",
      "metadata": {
        "hidden": true,
        "id": "aRQi_vG9Lk6M"
      },
      "source": [
        "***Question:*** What does these plot tell you? How can you improve this model?\n",
        "\n",
        "It took 1 min 40 sec to train this model and the acc on the test set is less .7 . "
      ]
    },
    {
      "cell_type": "markdown",
      "metadata": {
        "heading_collapsed": true,
        "id": "6Aa__LrhhnOt"
      },
      "source": [
        "## Simple conv net"
      ]
    },
    {
      "cell_type": "code",
      "metadata": {
        "ExecuteTime": {
          "end_time": "2020-05-19T21:22:13.883945Z",
          "start_time": "2020-05-19T21:22:13.875898Z"
        },
        "hidden": true,
        "id": "H5CEk6mQdPH_"
      },
      "source": [
        "# The convolutional layer expects an index for the number of channels, \n",
        "# So we need ot reshape the input. \n",
        "# The one at the end indicates the channel. \n",
        "# in this case, there is only one channel. \n",
        "\n",
        "X_train = X_train.reshape(-1, n_w, n_h, 1)\n",
        "X_test = X_test.reshape(-1, n_w, n_h, 1)"
      ],
      "execution_count": 9,
      "outputs": []
    },
    {
      "cell_type": "code",
      "metadata": {
        "ExecuteTime": {
          "end_time": "2020-05-19T21:29:28.890115Z",
          "start_time": "2020-05-19T21:29:28.457519Z"
        },
        "colab": {
          "base_uri": "https://localhost:8080/"
        },
        "hidden": true,
        "id": "AZHBAeAKnAk9",
        "outputId": "4fc694d2-5f8c-41e6-944a-752ef669491e"
      },
      "source": [
        "model = models.Sequential()\n",
        "\n",
        "model.add(layers.Conv2D(16, (3, 3), activation='relu', input_shape=(n_w , n_h, 1)))\n",
        "model.add(layers.MaxPooling2D((2, 2)))\n",
        "\n",
        "model.add(layers.Conv2D(32, (3, 3), activation='relu'))\n",
        "model.add(layers.MaxPooling2D((3, 3)))\n",
        "\n",
        "model.add(layers.Conv2D(64, (3, 3), activation='relu'))\n",
        "model.add(layers.MaxPooling2D((2, 2)))\n",
        "\n",
        "model.add(layers.Flatten())\n",
        "\n",
        "model.add(layers.Dense(64, activation='relu'))\n",
        "model.add(layers.Dense(n_out, activation='softmax'))\n",
        "\n",
        "\n",
        "model.compile(optimizer='adam', \n",
        "              loss='categorical_crossentropy',\n",
        "              metrics=['accuracy'])\n",
        "\n",
        "model.summary()"
      ],
      "execution_count": 10,
      "outputs": [
        {
          "output_type": "stream",
          "text": [
            "Model: \"sequential\"\n",
            "_________________________________________________________________\n",
            "Layer (type)                 Output Shape              Param #   \n",
            "=================================================================\n",
            "conv2d (Conv2D)              (None, 98, 98, 16)        160       \n",
            "_________________________________________________________________\n",
            "max_pooling2d (MaxPooling2D) (None, 49, 49, 16)        0         \n",
            "_________________________________________________________________\n",
            "conv2d_1 (Conv2D)            (None, 47, 47, 32)        4640      \n",
            "_________________________________________________________________\n",
            "max_pooling2d_1 (MaxPooling2 (None, 15, 15, 32)        0         \n",
            "_________________________________________________________________\n",
            "conv2d_2 (Conv2D)            (None, 13, 13, 64)        18496     \n",
            "_________________________________________________________________\n",
            "max_pooling2d_2 (MaxPooling2 (None, 6, 6, 64)          0         \n",
            "_________________________________________________________________\n",
            "flatten (Flatten)            (None, 2304)              0         \n",
            "_________________________________________________________________\n",
            "dense (Dense)                (None, 64)                147520    \n",
            "_________________________________________________________________\n",
            "dense_1 (Dense)              (None, 3)                 195       \n",
            "=================================================================\n",
            "Total params: 171,011\n",
            "Trainable params: 171,011\n",
            "Non-trainable params: 0\n",
            "_________________________________________________________________\n"
          ],
          "name": "stdout"
        }
      ]
    },
    {
      "cell_type": "code",
      "metadata": {
        "id": "qoY2LwaxIcmg",
        "outputId": "5ebe9083-cfa1-4c86-d6bb-24aeaab3d5b3",
        "colab": {
          "base_uri": "https://localhost:8080/"
        }
      },
      "source": [
        "X_train.shape"
      ],
      "execution_count": 11,
      "outputs": [
        {
          "output_type": "execute_result",
          "data": {
            "text/plain": [
              "(7500, 100, 100, 1)"
            ]
          },
          "metadata": {
            "tags": []
          },
          "execution_count": 11
        }
      ]
    },
    {
      "cell_type": "code",
      "metadata": {
        "ExecuteTime": {
          "end_time": "2020-05-19T21:31:28.694126Z",
          "start_time": "2020-05-19T21:29:38.892403Z"
        },
        "colab": {
          "base_uri": "https://localhost:8080/"
        },
        "hidden": true,
        "id": "e1ySWoUYnAhd",
        "outputId": "79588e5f-65c9-44ca-9894-ac0cc0bab13e"
      },
      "source": [
        "history = model.fit(X_train,Y_train, \n",
        "                    epochs=40, batch_size = 256, \n",
        "                    verbose=0 , \n",
        "                    callbacks=my_callbacks, \n",
        "                    validation_data = (X_test, Y_test))"
      ],
      "execution_count": 12,
      "outputs": [
        {
          "output_type": "stream",
          "text": [
            "WARNING:tensorflow:Can save best model only with val_acc available, skipping.\n",
            "WARNING:tensorflow:Can save best model only with val_acc available, skipping.\n",
            "WARNING:tensorflow:Can save best model only with val_acc available, skipping.\n",
            "WARNING:tensorflow:Can save best model only with val_acc available, skipping.\n",
            "WARNING:tensorflow:Can save best model only with val_acc available, skipping.\n",
            "WARNING:tensorflow:Can save best model only with val_acc available, skipping.\n",
            "WARNING:tensorflow:Can save best model only with val_acc available, skipping.\n",
            "WARNING:tensorflow:Can save best model only with val_acc available, skipping.\n",
            "WARNING:tensorflow:Can save best model only with val_acc available, skipping.\n",
            "WARNING:tensorflow:Can save best model only with val_acc available, skipping.\n",
            "WARNING:tensorflow:Can save best model only with val_acc available, skipping.\n",
            "WARNING:tensorflow:Can save best model only with val_acc available, skipping.\n",
            "WARNING:tensorflow:Can save best model only with val_acc available, skipping.\n",
            "WARNING:tensorflow:Can save best model only with val_acc available, skipping.\n",
            "WARNING:tensorflow:Can save best model only with val_acc available, skipping.\n",
            "WARNING:tensorflow:Can save best model only with val_acc available, skipping.\n",
            "WARNING:tensorflow:Can save best model only with val_acc available, skipping.\n",
            "WARNING:tensorflow:Can save best model only with val_acc available, skipping.\n",
            "WARNING:tensorflow:Can save best model only with val_acc available, skipping.\n"
          ],
          "name": "stdout"
        }
      ]
    },
    {
      "cell_type": "code",
      "metadata": {
        "ExecuteTime": {
          "end_time": "2020-05-19T21:32:00.047767Z",
          "start_time": "2020-05-19T21:31:59.310008Z"
        },
        "colab": {
          "base_uri": "https://localhost:8080/",
          "height": 369
        },
        "hidden": true,
        "id": "BOuGKmeppWK8",
        "outputId": "24ce2be2-f710-49ff-eb1d-39435233eb7a"
      },
      "source": [
        "# Plot training & validation accuracy values\n",
        "fig = plt.figure(figsize=(10,5))\n",
        "ax = fig.add_subplot(1,2,1, title = 'Model accuracy', ylabel= 'Accuracy')\n",
        "plt.plot(history.history['accuracy'])\n",
        "plt.plot(history.history['val_accuracy'])\n",
        "plt.legend(['Train', 'Test'], loc='upper left')\n",
        "\n",
        "# Plot training & validation loss values\n",
        "ax = fig.add_subplot(1,2,2, title = 'Model loss', ylabel= 'Loss')\n",
        "plt.plot(history.history['loss'])\n",
        "plt.plot(history.history['val_loss'])\n",
        "plt.legend(['Train', 'Test'], loc='upper left')\n",
        "\n",
        "plt.tight_layout()\n",
        "plt.show()"
      ],
      "execution_count": 13,
      "outputs": [
        {
          "output_type": "display_data",
          "data": {
            "image/png": "[encoded data removed]",
            "text/plain": [
              "<Figure size 720x360 with 2 Axes>"
            ]
          },
          "metadata": {
            "tags": [],
            "needs_background": "light"
          }
        }
      ]
    },
    {
      "cell_type": "markdown",
      "metadata": {
        "heading_collapsed": true,
        "id": "MxjP46FthtOb"
      },
      "source": [
        "## Convnet based on some of the famous designs"
      ]
    },
    {
      "cell_type": "markdown",
      "metadata": {
        "hidden": true,
        "id": "MsbF_ecBLk6Y"
      },
      "source": [
        "Look at the link here for a visual introduction to the differnt networks for computer vision applications.\n",
        "\n",
        "https://arxiv.org/ftp/arxiv/papers/1901/1901.06032.pdf\n",
        "\n",
        "https://microscope.openai.com/models\n",
        "\n",
        "https://dataconomy.com/2017/04/history-neural-networks/\n",
        "\n",
        "![alt text](https://cdn-images-1.medium.com/max/800/1*kBpEOy4fzLiFxRLjpxAX6A.png)\n",
        "\n"
      ]
    },
    {
      "cell_type": "code",
      "metadata": {
        "ExecuteTime": {
          "end_time": "2020-05-19T22:08:48.531036Z",
          "start_time": "2020-05-19T22:08:48.523466Z"
        },
        "hidden": true,
        "id": "8rgqmWlTLk6Z"
      },
      "source": [
        "from tensorflow.keras.applications.vgg16 import preprocess_input"
      ],
      "execution_count": 14,
      "outputs": []
    },
    {
      "cell_type": "code",
      "metadata": {
        "ExecuteTime": {
          "end_time": "2020-05-19T22:11:06.067286Z",
          "start_time": "2020-05-19T22:11:05.435809Z"
        },
        "hidden": true,
        "colab": {
          "base_uri": "https://localhost:8080/"
        },
        "id": "dMSteIV2Lk6a",
        "outputId": "cbc4c842-7c7d-4574-9690-fb6019b132c2"
      },
      "source": [
        "X_vgg16 = preprocess_input(X)\n",
        "X_vgg16.shape"
      ],
      "execution_count": 15,
      "outputs": [
        {
          "output_type": "execute_result",
          "data": {
            "text/plain": [
              "(10000, 100, 100)"
            ]
          },
          "metadata": {
            "tags": []
          },
          "execution_count": 15
        }
      ]
    },
    {
      "cell_type": "code",
      "metadata": {
        "ExecuteTime": {
          "end_time": "2020-05-19T22:12:46.861517Z",
          "start_time": "2020-05-19T22:12:46.133106Z"
        },
        "hidden": true,
        "id": "IseeU0KCLk6b"
      },
      "source": [
        "from sklearn.model_selection import train_test_split\n",
        "X_train, X_test, Y_train, Y_test = train_test_split(X_vgg16.reshape(-1, n_w, n_h, 1 ),\n",
        "                                                    Y, random_state=0, test_size=.25 )"
      ],
      "execution_count": 16,
      "outputs": []
    },
    {
      "cell_type": "code",
      "metadata": {
        "ExecuteTime": {
          "end_time": "2020-05-19T22:13:01.332376Z",
          "start_time": "2020-05-19T22:13:00.630533Z"
        },
        "colab": {
          "base_uri": "https://localhost:8080/"
        },
        "hidden": true,
        "id": "59dppwon4LBM",
        "outputId": "c4e94a2d-ffcb-4ccf-fbab-57177a521e50"
      },
      "source": [
        "from tensorflow.keras.applications import VGG16\n",
        "from tensorflow.keras.preprocessing import image\n",
        "from tensorflow.keras import layers\n",
        "from tensorflow.keras import models\n",
        "from tensorflow.keras import optimizers\n",
        "\n",
        "# create the base pre-trained model\n",
        "model = VGG16(weights=None, include_top=True, \n",
        "              input_shape=(n_w, n_h,1),\n",
        "              classes=3)\n",
        "model.summary()"
      ],
      "execution_count": 22,
      "outputs": [
        {
          "output_type": "stream",
          "text": [
            "Model: \"vgg16\"\n",
            "_________________________________________________________________\n",
            "Layer (type)                 Output Shape              Param #   \n",
            "=================================================================\n",
            "input_2 (InputLayer)         [(None, 100, 100, 1)]     0         \n",
            "_________________________________________________________________\n",
            "block1_conv1 (Conv2D)        (None, 100, 100, 64)      640       \n",
            "_________________________________________________________________\n",
            "block1_conv2 (Conv2D)        (None, 100, 100, 64)      36928     \n",
            "_________________________________________________________________\n",
            "block1_pool (MaxPooling2D)   (None, 50, 50, 64)        0         \n",
            "_________________________________________________________________\n",
            "block2_conv1 (Conv2D)        (None, 50, 50, 128)       73856     \n",
            "_________________________________________________________________\n",
            "block2_conv2 (Conv2D)        (None, 50, 50, 128)       147584    \n",
            "_________________________________________________________________\n",
            "block2_pool (MaxPooling2D)   (None, 25, 25, 128)       0         \n",
            "_________________________________________________________________\n",
            "block3_conv1 (Conv2D)        (None, 25, 25, 256)       295168    \n",
            "_________________________________________________________________\n",
            "block3_conv2 (Conv2D)        (None, 25, 25, 256)       590080    \n",
            "_________________________________________________________________\n",
            "block3_conv3 (Conv2D)        (None, 25, 25, 256)       590080    \n",
            "_________________________________________________________________\n",
            "block3_pool (MaxPooling2D)   (None, 12, 12, 256)       0         \n",
            "_________________________________________________________________\n",
            "block4_conv1 (Conv2D)        (None, 12, 12, 512)       1180160   \n",
            "_________________________________________________________________\n",
            "block4_conv2 (Conv2D)        (None, 12, 12, 512)       2359808   \n",
            "_________________________________________________________________\n",
            "block4_conv3 (Conv2D)        (None, 12, 12, 512)       2359808   \n",
            "_________________________________________________________________\n",
            "block4_pool (MaxPooling2D)   (None, 6, 6, 512)         0         \n",
            "_________________________________________________________________\n",
            "block5_conv1 (Conv2D)        (None, 6, 6, 512)         2359808   \n",
            "_________________________________________________________________\n",
            "block5_conv2 (Conv2D)        (None, 6, 6, 512)         2359808   \n",
            "_________________________________________________________________\n",
            "block5_conv3 (Conv2D)        (None, 6, 6, 512)         2359808   \n",
            "_________________________________________________________________\n",
            "block5_pool (MaxPooling2D)   (None, 3, 3, 512)         0         \n",
            "_________________________________________________________________\n",
            "flatten (Flatten)            (None, 4608)              0         \n",
            "_________________________________________________________________\n",
            "fc1 (Dense)                  (None, 4096)              18878464  \n",
            "_________________________________________________________________\n",
            "fc2 (Dense)                  (None, 4096)              16781312  \n",
            "_________________________________________________________________\n",
            "predictions (Dense)          (None, 3)                 12291     \n",
            "=================================================================\n",
            "Total params: 50,385,603\n",
            "Trainable params: 50,385,603\n",
            "Non-trainable params: 0\n",
            "_________________________________________________________________\n"
          ],
          "name": "stdout"
        }
      ]
    },
    {
      "cell_type": "code",
      "metadata": {
        "ExecuteTime": {
          "end_time": "2020-05-19T22:13:05.636317Z",
          "start_time": "2020-05-19T22:13:05.514281Z"
        },
        "hidden": true,
        "id": "wgAs3b9h8l_Q"
      },
      "source": [
        "model.compile(optimizer=optimizers.RMSprop(lr=2e-5),\n",
        "              loss='categorical_crossentropy',\n",
        "              metrics=['accuracy'])\n"
      ],
      "execution_count": 23,
      "outputs": []
    },
    {
      "cell_type": "code",
      "metadata": {
        "hidden": true,
        "id": "5sa5lQ5H82F7"
      },
      "source": [
        "X_train = X_train.reshape(-1, n_w, n_h, 1)\n",
        "X_test = X_test.reshape(-1, n_w, n_h, 1)\n",
        "\n",
        "# X_c_train = X_c_train.reshape(-1, n_w, n_h, 1)\n",
        "# X_c_test = X_c_test.reshape(-1, n_w, n_h, 1)"
      ],
      "execution_count": 24,
      "outputs": []
    },
    {
      "cell_type": "code",
      "metadata": {
        "ExecuteTime": {
          "end_time": "2020-05-19T22:18:45.979775Z",
          "start_time": "2020-05-19T22:18:35.044170Z"
        },
        "colab": {
          "base_uri": "https://localhost:8080/"
        },
        "hidden": true,
        "id": "gnV62kZ_6zkG",
        "outputId": "994adced-fc6f-48ba-b9a1-b0bb1c9d6ff5"
      },
      "source": [
        "# model.optimizer = optimizers.Adam(learning_rate=.1)\n",
        "history = model.fit(X_train,Y_train, \n",
        "                    epochs=10, batch_size = 128, \n",
        "                    validation_data = (X_test, Y_test), \n",
        "#                     callbacks=my_callbacks, \n",
        "                    verbose=1)"
      ],
      "execution_count": 25,
      "outputs": [
        {
          "output_type": "stream",
          "text": [
            "Epoch 1/10\n",
            "59/59 [==============================] - 29s 471ms/step - loss: 0.8304 - accuracy: 0.5341 - val_loss: 0.7919 - val_accuracy: 0.5620\n",
            "Epoch 2/10\n",
            "59/59 [==============================] - 28s 480ms/step - loss: 0.7591 - accuracy: 0.6731 - val_loss: 0.7599 - val_accuracy: 0.6696\n",
            "Epoch 3/10\n",
            "59/59 [==============================] - 27s 458ms/step - loss: 0.7359 - accuracy: 0.7339 - val_loss: 0.7490 - val_accuracy: 0.7012\n",
            "Epoch 4/10\n",
            "59/59 [==============================] - 27s 467ms/step - loss: 0.7226 - accuracy: 0.7509 - val_loss: 0.7424 - val_accuracy: 0.7472\n",
            "Epoch 5/10\n",
            "59/59 [==============================] - 28s 472ms/step - loss: 0.7193 - accuracy: 0.7606 - val_loss: 0.7084 - val_accuracy: 0.7796\n",
            "Epoch 6/10\n",
            "59/59 [==============================] - 27s 466ms/step - loss: 0.7072 - accuracy: 0.7843 - val_loss: 0.7084 - val_accuracy: 0.7784\n",
            "Epoch 7/10\n",
            "59/59 [==============================] - 28s 468ms/step - loss: 0.7002 - accuracy: 0.7943 - val_loss: 0.6930 - val_accuracy: 0.8000\n",
            "Epoch 8/10\n",
            "59/59 [==============================] - 28s 472ms/step - loss: 0.6920 - accuracy: 0.7933 - val_loss: 0.7454 - val_accuracy: 0.7264\n",
            "Epoch 9/10\n",
            "59/59 [==============================] - 28s 471ms/step - loss: 0.6962 - accuracy: 0.7972 - val_loss: 0.7015 - val_accuracy: 0.7820\n",
            "Epoch 10/10\n",
            "59/59 [==============================] - 28s 471ms/step - loss: 0.6838 - accuracy: 0.8041 - val_loss: 0.6825 - val_accuracy: 0.8160\n"
          ],
          "name": "stdout"
        }
      ]
    },
    {
      "cell_type": "code",
      "metadata": {
        "colab": {
          "base_uri": "https://localhost:8080/",
          "height": 369
        },
        "hidden": true,
        "id": "AwMrOy8Qqtu3",
        "scrolled": true,
        "outputId": "2fa8f019-e843-4511-8f37-ee6df9c22f09"
      },
      "source": [
        "# Plot training & validation accuracy values\n",
        "fig = plt.figure(figsize=(10,5))\n",
        "ax = fig.add_subplot(1,2,1, title = 'Model accuracy', ylabel= 'Accuracy')\n",
        "plt.plot(history.history['accuracy'])\n",
        "plt.plot(history.history['val_accuracy'])\n",
        "plt.legend(['Train', 'Test'], loc='upper left')\n",
        "\n",
        "# Plot training & validation loss values\n",
        "ax = fig.add_subplot(1,2,2, title = 'Model loss', ylabel= 'Loss')\n",
        "plt.plot(history.history['loss'])\n",
        "plt.plot(history.history['val_loss'])\n",
        "plt.legend(['Train', 'Test'], loc='upper left')\n",
        "\n",
        "plt.tight_layout()\n",
        "plt.show()"
      ],
      "execution_count": 26,
      "outputs": [
        {
          "output_type": "display_data",
          "data": {
            "image/png": "[encoded data removed]",
            "text/plain": [
              "<Figure size 720x360 with 2 Axes>"
            ]
          },
          "metadata": {
            "tags": [],
            "needs_background": "light"
          }
        }
      ]
    },
    {
      "cell_type": "markdown",
      "metadata": {
        "id": "4Mo383KWh4Th"
      },
      "source": [
        "# Transfer learning: Pre-trained Models"
      ]
    },
    {
      "cell_type": "code",
      "metadata": {
        "hidden": true,
        "id": "OdnZx7KsLk6p"
      },
      "source": [
        "X = X.reshape(-1, n_w, n_h, n_c)\n",
        "\n",
        "from sklearn.model_selection import train_test_split\n",
        "X_train, X_test, Y_train, Y_test = train_test_split(X,Y, random_state=0, test_size=.25 )\n",
        "# X_c_train, X_c_test, Y_c_train, Y_c_test = train_test_split(X,Y_c, random_state=0, test_size=.25 )"
      ],
      "execution_count": 27,
      "outputs": []
    },
    {
      "cell_type": "code",
      "metadata": {
        "ExecuteTime": {
          "end_time": "2020-05-19T22:30:14.538522Z",
          "start_time": "2020-05-19T22:30:12.054941Z"
        },
        "id": "Qg78ROnKLk6v"
      },
      "source": [
        "# We need to format the data according to the inputs of VGG16\n",
        "\n",
        "from tensorflow.keras.preprocessing.image import ImageDataGenerator\n",
        "from tensorflow.keras.applications.vgg16 import preprocess_input, VGG16\n",
        "\n",
        "X_3c = np.dstack([X]*3).reshape(-1, n_w, n_h, 3)\n",
        "X_vgg16_3c = preprocess_input(X_3c)\n",
        "Y_c = np.argmax(Y,axis=1)\n",
        "\n",
        "train_datagen = ImageDataGenerator(rescale=1./255.,\n",
        "                                   shear_range=0.2,\n",
        "                                   zoom_range=0.2,\n",
        "                                   horizontal_flip=True, \n",
        "                                   vertical_flip=True, \n",
        "                                   rotation_range=180, \n",
        "                                   validation_split=0.5)\n",
        "\n",
        "train_generator = train_datagen.flow( X_vgg16_3c, Y_c, \n",
        "                                     batch_size=batch_size,\n",
        "                                     shuffle=True, \n",
        "                                     subset='training')\n",
        "\n",
        "validation_generator = train_datagen.flow( X_vgg16_3c, Y_c, \n",
        "                                     batch_size=batch_size,\n",
        "                                     shuffle=True, \n",
        "                                     subset='validation')"
      ],
      "execution_count": 29,
      "outputs": []
    },
    {
      "cell_type": "markdown",
      "metadata": {
        "heading_collapsed": true,
        "id": "FKhvM6r4Lk6y"
      },
      "source": [
        "## Pretrained VGG16 as a feature extractor"
      ]
    },
    {
      "cell_type": "code",
      "metadata": {
        "ExecuteTime": {
          "end_time": "2020-05-19T22:26:41.804615Z",
          "start_time": "2020-05-19T22:26:38.214542Z"
        },
        "colab": {
          "base_uri": "https://localhost:8080/"
        },
        "hidden": true,
        "id": "xI2uP8tT-gSG",
        "outputId": "bd5188a7-d2e0-49bb-a0a7-9a42837688ae"
      },
      "source": [
        "from tensorflow.keras.applications import VGG16\n",
        "from tensorflow.keras.preprocessing import image\n",
        "from tensorflow.keras import layers, models, optimizers, losses\n",
        "\n",
        "# create the base pre-trained model\n",
        "vgg16_base = VGG16(weights='imagenet', include_top=False, \n",
        "              input_shape=(n_w, n_h,3), \n",
        "              )\n",
        "\n",
        "vgg16_base.trainable = False\n",
        "vgg16_base.trainable"
      ],
      "execution_count": 30,
      "outputs": [
        {
          "output_type": "stream",
          "text": [
            "Downloading data from https://storage.googleapis.com/tensorflow/keras-applications/vgg16/vgg16_weights_tf_dim_ordering_tf_kernels_notop.h5\n",
            "58892288/58889256 [==============================] - 0s 0us/step\n"
          ],
          "name": "stdout"
        },
        {
          "output_type": "execute_result",
          "data": {
            "text/plain": [
              "False"
            ]
          },
          "metadata": {
            "tags": []
          },
          "execution_count": 30
        }
      ]
    },
    {
      "cell_type": "code",
      "metadata": {
        "ExecuteTime": {
          "end_time": "2020-05-19T22:26:52.425066Z",
          "start_time": "2020-05-19T22:26:52.412819Z"
        },
        "hidden": true,
        "colab": {
          "base_uri": "https://localhost:8080/"
        },
        "id": "wJprDy5NLk62",
        "outputId": "25e0e1f9-511a-4b5c-fd6e-8d51a7ec2189"
      },
      "source": [
        "vgg16_base_out = vgg16_base.layers[-1].output_shape[1:]\n",
        "n_features = np.prod(vgg16_base_out)\n",
        "vgg16_base_out"
      ],
      "execution_count": 31,
      "outputs": [
        {
          "output_type": "execute_result",
          "data": {
            "text/plain": [
              "(3, 3, 512)"
            ]
          },
          "metadata": {
            "tags": []
          },
          "execution_count": 31
        }
      ]
    },
    {
      "cell_type": "code",
      "metadata": {
        "ExecuteTime": {
          "end_time": "2020-05-19T22:27:40.746557Z",
          "start_time": "2020-05-19T22:27:40.733665Z"
        },
        "hidden": true,
        "id": "S6GmNzQaLk66"
      },
      "source": [
        "'''\n",
        "This function is to exctract features from the images. \n",
        "This is done based on VGG16 convnet. \n",
        "This function does the following\n",
        "\n",
        "X, Y => f(X), Y\n",
        "\n",
        "where f(x) is the feasures extracted from the images. \n",
        "\n",
        "'''\n",
        "\n",
        "def extract_features(network, generator, sample_count):\n",
        "    ## This is set based on the shape of the last layer of the VGG16\n",
        "    features = np.zeros(shape=(sample_count, vgg16_base_out[0], vgg16_base_out[1], vgg16_base_out[2] ))\n",
        "    labels = np.zeros(shape=(sample_count))\n",
        "\n",
        "    i = 0\n",
        "    for inputs_batch, labels_batch in generator:\n",
        "        features_batch = network.predict(inputs_batch)\n",
        "#         print(labels_batch.shape)\n",
        "        features[i * batch_size : (i + 1) * batch_size] = features_batch\n",
        "        labels[i * batch_size : (i + 1) * batch_size] = labels_batch\n",
        "        i += 1\n",
        "#         print(i)\n",
        "        if i * batch_size >= sample_count:\n",
        "            break\n",
        "    return features, labels"
      ],
      "execution_count": 32,
      "outputs": []
    },
    {
      "cell_type": "code",
      "metadata": {
        "ExecuteTime": {
          "end_time": "2020-05-19T22:28:34.250234Z",
          "start_time": "2020-05-19T22:27:54.597822Z"
        },
        "hidden": true,
        "colab": {
          "base_uri": "https://localhost:8080/"
        },
        "id": "nSID_2PLLk68",
        "outputId": "5d200785-3838-4d93-c683-b7b77c0a4ba9"
      },
      "source": [
        "%%time \n",
        "train_features, train_labels = extract_features(vgg16_base, train_generator, 20*batch_size)\n",
        "validation_features, validation_labels = extract_features(vgg16_base, validation_generator, 10*batch_size)\n",
        "\n",
        "## The data needs to be flattened. \n",
        "train_features = np.reshape(train_features, (20*batch_size, n_features))\n",
        "validation_features = np.reshape(validation_features, (10*batch_size, n_features ))"
      ],
      "execution_count": 33,
      "outputs": [
        {
          "output_type": "stream",
          "text": [
            "CPU times: user 13.3 s, sys: 195 ms, total: 13.5 s\n",
            "Wall time: 13.3 s\n"
          ],
          "name": "stdout"
        }
      ]
    },
    {
      "cell_type": "code",
      "metadata": {
        "ExecuteTime": {
          "end_time": "2020-05-19T22:36:27.973849Z",
          "start_time": "2020-05-19T22:36:27.615771Z"
        },
        "hidden": true,
        "colab": {
          "base_uri": "https://localhost:8080/"
        },
        "id": "ENbVeIy9Lk6_",
        "outputId": "aab8317f-d009-4fa1-88da-44deb8db258a"
      },
      "source": [
        "'''\n",
        "Now let's make our new model.\n",
        "'''\n",
        "feature_based_model = models.Sequential()\n",
        "\n",
        "feature_based_model.add(layers.Dense(256, activation='relu', input_dim=3 * 3 * 512))\n",
        "# feature_based_model.add(layers.Dropout(0.5))\n",
        "\n",
        "feature_based_model.add(layers.Dense(3, activation='softmax'))\n",
        "\n",
        "feature_based_model.compile(loss=tf.keras.losses.sparse_categorical_crossentropy, \n",
        "             optimizer=tf.keras.optimizers.SGD(lr=0.01, decay=1e-6, momentum=0.9, nesterov=True), \n",
        "             metrics=['accuracy'])\n",
        "\n",
        "feature_based_model.summary()"
      ],
      "execution_count": 38,
      "outputs": [
        {
          "output_type": "stream",
          "text": [
            "Model: \"sequential_3\"\n",
            "_________________________________________________________________\n",
            "Layer (type)                 Output Shape              Param #   \n",
            "=================================================================\n",
            "dense_6 (Dense)              (None, 256)               1179904   \n",
            "_________________________________________________________________\n",
            "dense_7 (Dense)              (None, 3)                 771       \n",
            "=================================================================\n",
            "Total params: 1,180,675\n",
            "Trainable params: 1,180,675\n",
            "Non-trainable params: 0\n",
            "_________________________________________________________________\n"
          ],
          "name": "stdout"
        }
      ]
    },
    {
      "cell_type": "code",
      "metadata": {
        "ExecuteTime": {
          "end_time": "2020-05-19T22:36:57.054148Z",
          "start_time": "2020-05-19T22:36:28.553092Z"
        },
        "hidden": true,
        "id": "KoUtZqScLk7B"
      },
      "source": [
        "history = feature_based_model.fit(train_features, train_labels, \n",
        "                                epochs=100, \n",
        "                                batch_size=batch_size, \n",
        "                                validation_data= (validation_features, validation_labels), \n",
        "#                                 callbacks=my_callbacks, \n",
        "                                verbose=0 )"
      ],
      "execution_count": 39,
      "outputs": []
    },
    {
      "cell_type": "code",
      "metadata": {
        "ExecuteTime": {
          "end_time": "2020-05-19T22:36:59.774546Z",
          "start_time": "2020-05-19T22:36:58.940140Z"
        },
        "hidden": true,
        "colab": {
          "base_uri": "https://localhost:8080/",
          "height": 369
        },
        "id": "XFWsG6KLLk7C",
        "outputId": "da7eac52-2e15-4e5d-80d7-e8c4b2032590"
      },
      "source": [
        "fig = plt.figure(figsize=(13, 5))\n",
        "ax  = fig.add_subplot(1,2,1, title='Accuracy')\n",
        "plt.plot(history.history['val_accuracy'], label = 'test accuracy')\n",
        "plt.plot(history.history['accuracy'], label = 'train accuracy')\n",
        "plt.legend(loc=0)\n",
        "\n",
        "ax  = fig.add_subplot(1,2,2, title='Loss')\n",
        "plt.plot(history.history['val_loss'], label = 'test loss')\n",
        "plt.plot(history.history['loss'], label = 'train loss')\n",
        "plt.legend(loc=0)\n",
        "\n",
        "plt.tight_layout()\n",
        "plt.show()\n"
      ],
      "execution_count": 40,
      "outputs": [
        {
          "output_type": "display_data",
          "data": {
            "image/png": "[encoded data removed]",
            "text/plain": [
              "<Figure size 936x360 with 2 Axes>"
            ]
          },
          "metadata": {
            "tags": [],
            "needs_background": "light"
          }
        }
      ]
    },
    {
      "cell_type": "markdown",
      "metadata": {
        "heading_collapsed": true,
        "id": "v0o77ZOiLk7D"
      },
      "source": [
        "## Pretrained VGG16 + classifier at the end"
      ]
    },
    {
      "cell_type": "code",
      "metadata": {
        "ExecuteTime": {
          "end_time": "2020-05-19T22:37:46.503221Z",
          "start_time": "2020-05-19T22:37:45.653888Z"
        },
        "hidden": true,
        "id": "0sNr9-O_Lk7E"
      },
      "source": [
        "from tensorflow.keras.applications import VGG16\n",
        "from tensorflow.keras.preprocessing import image\n",
        "from tensorflow.keras import layers, models, optimizers, losses\n",
        "\n",
        "# create the base pre-trained model\n",
        "vgg16_base = VGG16(weights='imagenet', include_top=False, \n",
        "              input_shape=(n_w, n_h,3), \n",
        "              )\n",
        "\n",
        "vgg16_base.trainable = False\n"
      ],
      "execution_count": 41,
      "outputs": []
    },
    {
      "cell_type": "code",
      "metadata": {
        "ExecuteTime": {
          "end_time": "2020-05-19T22:45:08.872560Z",
          "start_time": "2020-05-19T22:45:08.411936Z"
        },
        "hidden": true,
        "colab": {
          "base_uri": "https://localhost:8080/"
        },
        "id": "DRD7_uc_Lk7G",
        "outputId": "811f18c6-6f08-4bf4-d9db-a84660ddf0dd"
      },
      "source": [
        "'''\n",
        "Now let's make our new model.\n",
        "'''\n",
        "pre_trained_model = models.Sequential()\n",
        "\n",
        "pre_trained_model.add(vgg16_base)\n",
        "\n",
        "pre_trained_model.add(layers.Flatten())\n",
        "\n",
        "pre_trained_model.add(layers.Dense(256, activation='relu' ))\n",
        "# pre_trained_model.add(layers.Dropout(0.5))\n",
        "\n",
        "pre_trained_model.add(layers.Dense(3, activation='softmax'))\n",
        "\n",
        "pre_trained_model.compile(loss=tf.keras.losses.mean_squared_error, \n",
        "             optimizer=tf.keras.optimizers.SGD(lr=0.01, decay=1e-6, momentum=0.9, nesterov=True), \n",
        "             metrics=['accuracy'])\n",
        "\n",
        "pre_trained_model.summary()"
      ],
      "execution_count": 47,
      "outputs": [
        {
          "output_type": "stream",
          "text": [
            "Model: \"sequential_7\"\n",
            "_________________________________________________________________\n",
            "Layer (type)                 Output Shape              Param #   \n",
            "=================================================================\n",
            "vgg16 (Functional)           (None, 3, 3, 512)         14714688  \n",
            "_________________________________________________________________\n",
            "flatten_4 (Flatten)          (None, 4608)              0         \n",
            "_________________________________________________________________\n",
            "dense_14 (Dense)             (None, 256)               1179904   \n",
            "_________________________________________________________________\n",
            "dense_15 (Dense)             (None, 3)                 771       \n",
            "=================================================================\n",
            "Total params: 15,895,363\n",
            "Trainable params: 1,180,675\n",
            "Non-trainable params: 14,714,688\n",
            "_________________________________________________________________\n"
          ],
          "name": "stdout"
        }
      ]
    },
    {
      "cell_type": "code",
      "metadata": {
        "ExecuteTime": {
          "end_time": "2020-05-19T22:40:10.237524Z",
          "start_time": "2020-05-19T22:40:09.708464Z"
        },
        "colab": {
          "base_uri": "https://localhost:8080/"
        },
        "hidden": true,
        "id": "YlO8LDNTCGkw",
        "outputId": "edc7e6d8-c4ea-469f-c16e-a0c8ca483925"
      },
      "source": [
        "model = models.Sequential()\n",
        "model.add(vgg16_base)\n",
        "model.add(layers.Flatten())\n",
        "model.add(layers.Dense(256, activation='relu'))\n",
        "pre_trained_model.add(layers.Dropout(0.5))\n",
        "model.add(layers.Dense(3, activation='sigmoid'))\n",
        "\n",
        "model.compile(optimizer=optimizers.RMSprop(lr=2e-5), \n",
        "              loss='categorical_crossentropy',\n",
        "              metrics=['accuracy'])\n",
        "\n",
        "\n",
        "model.summary()"
      ],
      "execution_count": 51,
      "outputs": [
        {
          "output_type": "stream",
          "text": [
            "Model: \"sequential_8\"\n",
            "_________________________________________________________________\n",
            "Layer (type)                 Output Shape              Param #   \n",
            "=================================================================\n",
            "vgg16 (Functional)           (None, 3, 3, 512)         14714688  \n",
            "_________________________________________________________________\n",
            "flatten_5 (Flatten)          (None, 4608)              0         \n",
            "_________________________________________________________________\n",
            "dense_16 (Dense)             (None, 256)               1179904   \n",
            "_________________________________________________________________\n",
            "dense_17 (Dense)             (None, 3)                 771       \n",
            "=================================================================\n",
            "Total params: 15,895,363\n",
            "Trainable params: 1,180,675\n",
            "Non-trainable params: 14,714,688\n",
            "_________________________________________________________________\n"
          ],
          "name": "stdout"
        }
      ]
    },
    {
      "cell_type": "code",
      "metadata": {
        "ExecuteTime": {
          "end_time": "2020-05-19T22:40:23.979284Z",
          "start_time": "2020-05-19T22:40:23.971191Z"
        },
        "hidden": true,
        "id": "C-9eQ4X4Lk7M",
        "outputId": "7ea63c9d-c7fc-4911-e331-8241abbb5c2d"
      },
      "source": [
        "print(vgg16_base.trainable)"
      ],
      "execution_count": null,
      "outputs": [
        {
          "output_type": "stream",
          "text": [
            "False\n"
          ],
          "name": "stdout"
        }
      ]
    },
    {
      "cell_type": "code",
      "metadata": {
        "ExecuteTime": {
          "end_time": "2020-05-19T22:43:19.543704Z",
          "start_time": "2020-05-19T22:43:18.761281Z"
        },
        "hidden": true,
        "id": "HvSKExIBLk7N",
        "outputId": "20db3169-5b51-4769-ca67-823123bdcd8b"
      },
      "source": [
        "train_generator[0][0].shape"
      ],
      "execution_count": null,
      "outputs": [
        {
          "output_type": "execute_result",
          "data": {
            "text/plain": [
              "(128, 100, 100, 3)"
            ]
          },
          "metadata": {
            "tags": []
          },
          "execution_count": 45
        }
      ]
    },
    {
      "cell_type": "code",
      "metadata": {
        "ExecuteTime": {
          "end_time": "2020-05-19T22:46:15.031851Z",
          "start_time": "2020-05-19T22:45:34.787657Z"
        },
        "colab": {
          "base_uri": "https://localhost:8080/"
        },
        "hidden": true,
        "id": "aBWuEbd-EZjT",
        "outputId": "2ea5fc10-c366-4cf6-ea81-527a40089565"
      },
      "source": [
        "%%time\n",
        "############### Training the model\n",
        "\n",
        "history = pre_trained_model.fit(train_generator, \n",
        "                    # steps_per_epoch  = stp_epch, \n",
        "                    validation_data  = validation_generator,\n",
        "                    validation_steps = 5, \n",
        "#                     callbacks = my_callbacks, \n",
        "                    verbose = 1, \n",
        "                    epochs = 50)"
      ],
      "execution_count": 52,
      "outputs": [
        {
          "output_type": "stream",
          "text": [
            "Epoch 1/50\n",
            "40/40 [==============================] - 13s 318ms/step - loss: 0.3010 - accuracy: 0.3328 - val_loss: 0.2961 - val_accuracy: 0.3250\n",
            "Epoch 2/50\n",
            "40/40 [==============================] - 13s 319ms/step - loss: 0.3010 - accuracy: 0.3352 - val_loss: 0.2904 - val_accuracy: 0.2891\n",
            "Epoch 3/50\n",
            "40/40 [==============================] - 13s 320ms/step - loss: 0.3010 - accuracy: 0.3382 - val_loss: 0.2894 - val_accuracy: 0.3094\n",
            "Epoch 4/50\n",
            "40/40 [==============================] - 13s 320ms/step - loss: 0.3010 - accuracy: 0.3336 - val_loss: 0.2925 - val_accuracy: 0.3641\n",
            "Epoch 5/50\n",
            "40/40 [==============================] - 13s 320ms/step - loss: 0.3010 - accuracy: 0.3476 - val_loss: 0.3045 - val_accuracy: 0.3266\n",
            "Epoch 6/50\n",
            "40/40 [==============================] - 13s 322ms/step - loss: 0.3010 - accuracy: 0.3358 - val_loss: 0.2915 - val_accuracy: 0.3719\n",
            "Epoch 7/50\n",
            "40/40 [==============================] - 13s 321ms/step - loss: 0.3010 - accuracy: 0.3414 - val_loss: 0.3003 - val_accuracy: 0.3734\n",
            "Epoch 8/50\n",
            "40/40 [==============================] - 13s 321ms/step - loss: 0.3010 - accuracy: 0.3288 - val_loss: 0.3097 - val_accuracy: 0.3609\n",
            "Epoch 9/50\n",
            "40/40 [==============================] - 13s 324ms/step - loss: 0.3010 - accuracy: 0.3332 - val_loss: 0.3039 - val_accuracy: 0.3172\n",
            "Epoch 10/50\n",
            "40/40 [==============================] - 13s 320ms/step - loss: 0.3010 - accuracy: 0.3270 - val_loss: 0.3128 - val_accuracy: 0.2969\n",
            "Epoch 11/50\n",
            "40/40 [==============================] - 13s 323ms/step - loss: 0.3010 - accuracy: 0.3382 - val_loss: 0.3029 - val_accuracy: 0.3516\n",
            "Epoch 12/50\n",
            "40/40 [==============================] - 13s 321ms/step - loss: 0.3010 - accuracy: 0.3370 - val_loss: 0.3029 - val_accuracy: 0.3672\n",
            "Epoch 13/50\n",
            "40/40 [==============================] - 13s 322ms/step - loss: 0.3010 - accuracy: 0.3372 - val_loss: 0.2993 - val_accuracy: 0.3578\n",
            "Epoch 14/50\n",
            "40/40 [==============================] - 13s 323ms/step - loss: 0.3010 - accuracy: 0.3326 - val_loss: 0.3065 - val_accuracy: 0.3484\n",
            "Epoch 15/50\n",
            "40/40 [==============================] - 13s 321ms/step - loss: 0.3010 - accuracy: 0.3442 - val_loss: 0.2993 - val_accuracy: 0.3187\n",
            "Epoch 16/50\n",
            "40/40 [==============================] - 13s 322ms/step - loss: 0.3010 - accuracy: 0.3304 - val_loss: 0.2998 - val_accuracy: 0.3750\n",
            "Epoch 17/50\n",
            "40/40 [==============================] - 13s 323ms/step - loss: 0.3010 - accuracy: 0.3366 - val_loss: 0.2888 - val_accuracy: 0.3359\n",
            "Epoch 18/50\n",
            "40/40 [==============================] - 13s 320ms/step - loss: 0.3010 - accuracy: 0.3336 - val_loss: 0.2935 - val_accuracy: 0.3578\n",
            "Epoch 19/50\n",
            "40/40 [==============================] - 13s 321ms/step - loss: 0.3010 - accuracy: 0.3298 - val_loss: 0.2940 - val_accuracy: 0.3703\n",
            "Epoch 20/50\n",
            "40/40 [==============================] - 13s 321ms/step - loss: 0.3010 - accuracy: 0.3384 - val_loss: 0.3060 - val_accuracy: 0.3391\n",
            "Epoch 21/50\n",
            "40/40 [==============================] - 13s 327ms/step - loss: 0.3010 - accuracy: 0.3364 - val_loss: 0.2982 - val_accuracy: 0.3594\n",
            "Epoch 22/50\n",
            "40/40 [==============================] - 13s 320ms/step - loss: 0.3010 - accuracy: 0.3358 - val_loss: 0.2925 - val_accuracy: 0.3281\n",
            "Epoch 23/50\n",
            "40/40 [==============================] - 13s 321ms/step - loss: 0.3010 - accuracy: 0.3390 - val_loss: 0.2893 - val_accuracy: 0.3250\n",
            "Epoch 24/50\n",
            "40/40 [==============================] - 13s 322ms/step - loss: 0.3010 - accuracy: 0.3278 - val_loss: 0.2940 - val_accuracy: 0.3531\n",
            "Epoch 25/50\n",
            "40/40 [==============================] - 13s 325ms/step - loss: 0.3010 - accuracy: 0.3464 - val_loss: 0.2982 - val_accuracy: 0.3031\n",
            "Epoch 26/50\n",
            "40/40 [==============================] - 13s 320ms/step - loss: 0.3010 - accuracy: 0.3352 - val_loss: 0.3013 - val_accuracy: 0.3703\n",
            "Epoch 27/50\n",
            "40/40 [==============================] - 13s 320ms/step - loss: 0.3009 - accuracy: 0.3312 - val_loss: 0.3024 - val_accuracy: 0.3562\n",
            "Epoch 28/50\n",
            "40/40 [==============================] - 13s 319ms/step - loss: 0.3010 - accuracy: 0.3536 - val_loss: 0.3018 - val_accuracy: 0.3359\n",
            "Epoch 29/50\n",
            "40/40 [==============================] - 13s 320ms/step - loss: 0.3010 - accuracy: 0.3302 - val_loss: 0.3050 - val_accuracy: 0.3594\n",
            "Epoch 30/50\n",
            "40/40 [==============================] - 13s 320ms/step - loss: 0.3009 - accuracy: 0.3366 - val_loss: 0.3060 - val_accuracy: 0.3594\n",
            "Epoch 31/50\n",
            "40/40 [==============================] - 13s 321ms/step - loss: 0.3009 - accuracy: 0.3372 - val_loss: 0.2888 - val_accuracy: 0.3313\n",
            "Epoch 32/50\n",
            "40/40 [==============================] - 13s 320ms/step - loss: 0.3009 - accuracy: 0.3426 - val_loss: 0.3050 - val_accuracy: 0.3344\n",
            "Epoch 33/50\n",
            "40/40 [==============================] - 13s 319ms/step - loss: 0.3010 - accuracy: 0.3350 - val_loss: 0.2935 - val_accuracy: 0.2750\n",
            "Epoch 34/50\n",
            "40/40 [==============================] - 13s 321ms/step - loss: 0.3009 - accuracy: 0.3332 - val_loss: 0.2951 - val_accuracy: 0.2812\n",
            "Epoch 35/50\n",
            "40/40 [==============================] - 13s 320ms/step - loss: 0.3009 - accuracy: 0.3328 - val_loss: 0.3071 - val_accuracy: 0.2984\n",
            "Epoch 36/50\n",
            "40/40 [==============================] - 13s 318ms/step - loss: 0.3009 - accuracy: 0.3404 - val_loss: 0.3065 - val_accuracy: 0.3297\n",
            "Epoch 37/50\n",
            "40/40 [==============================] - 13s 322ms/step - loss: 0.3009 - accuracy: 0.3292 - val_loss: 0.2998 - val_accuracy: 0.3187\n",
            "Epoch 38/50\n",
            "40/40 [==============================] - 13s 322ms/step - loss: 0.3009 - accuracy: 0.3408 - val_loss: 0.3143 - val_accuracy: 0.2812\n",
            "Epoch 39/50\n",
            "40/40 [==============================] - 13s 320ms/step - loss: 0.3009 - accuracy: 0.3302 - val_loss: 0.2971 - val_accuracy: 0.3750\n",
            "Epoch 40/50\n",
            "40/40 [==============================] - 13s 319ms/step - loss: 0.3009 - accuracy: 0.3410 - val_loss: 0.2971 - val_accuracy: 0.3562\n",
            "Epoch 41/50\n",
            "40/40 [==============================] - 13s 318ms/step - loss: 0.3009 - accuracy: 0.3424 - val_loss: 0.2935 - val_accuracy: 0.3234\n",
            "Epoch 42/50\n",
            "40/40 [==============================] - 13s 319ms/step - loss: 0.3009 - accuracy: 0.3460 - val_loss: 0.2930 - val_accuracy: 0.3203\n",
            "Epoch 43/50\n",
            "40/40 [==============================] - 13s 320ms/step - loss: 0.3009 - accuracy: 0.3346 - val_loss: 0.2982 - val_accuracy: 0.3297\n",
            "Epoch 44/50\n",
            "40/40 [==============================] - 13s 328ms/step - loss: 0.3009 - accuracy: 0.3380 - val_loss: 0.2878 - val_accuracy: 0.3187\n",
            "Epoch 45/50\n",
            "40/40 [==============================] - 13s 319ms/step - loss: 0.3009 - accuracy: 0.3388 - val_loss: 0.2961 - val_accuracy: 0.3500\n",
            "Epoch 46/50\n",
            "40/40 [==============================] - 13s 317ms/step - loss: 0.3009 - accuracy: 0.3474 - val_loss: 0.3003 - val_accuracy: 0.3359\n",
            "Epoch 47/50\n",
            "40/40 [==============================] - 13s 318ms/step - loss: 0.3009 - accuracy: 0.3370 - val_loss: 0.2966 - val_accuracy: 0.3469\n",
            "Epoch 48/50\n",
            "40/40 [==============================] - 13s 318ms/step - loss: 0.3009 - accuracy: 0.3458 - val_loss: 0.2919 - val_accuracy: 0.3516\n",
            "Epoch 49/50\n",
            "40/40 [==============================] - 13s 319ms/step - loss: 0.3009 - accuracy: 0.3378 - val_loss: 0.3034 - val_accuracy: 0.3109\n",
            "Epoch 50/50\n",
            "40/40 [==============================] - 13s 320ms/step - loss: 0.3009 - accuracy: 0.3350 - val_loss: 0.2987 - val_accuracy: 0.3688\n",
            "CPU times: user 11min 8s, sys: 10.8 s, total: 11min 19s\n",
            "Wall time: 10min 43s\n"
          ],
          "name": "stdout"
        }
      ]
    },
    {
      "cell_type": "code",
      "metadata": {
        "ExecuteTime": {
          "end_time": "2020-05-19T22:47:28.440443Z",
          "start_time": "2020-05-19T22:47:27.723297Z"
        },
        "hidden": true,
        "id": "xx3XWvgJ-42A"
      },
      "source": [
        "# Plot training & validation accuracy values\n",
        "fig = plt.figure(figsize=(10,5))\n",
        "ax = fig.add_subplot(1,2,1, title = 'Model accuracy', ylabel= 'Accuracy')\n",
        "plt.plot(history.history['accuracy'])\n",
        "plt.plot(history.history['val_accuracy'])\n",
        "plt.legend(['Train', 'Test'], loc='upper left')\n",
        "\n",
        "# Plot training & validation loss values\n",
        "ax = fig.add_subplot(1,2,2, title = 'Model loss', ylabel= 'Loss')\n",
        "plt.plot(history.history['loss'])\n",
        "plt.plot(history.history['val_loss'])\n",
        "plt.legend(['Train', 'Test'], loc='upper left')\n",
        "\n",
        "plt.tight_layout()\n",
        "plt.show()"
      ],
      "execution_count": null,
      "outputs": []
    },
    {
      "cell_type": "code",
      "metadata": {
        "hidden": true,
        "id": "zTIhJTQ-Lk7Q"
      },
      "source": [
        ""
      ],
      "execution_count": null,
      "outputs": []
    },
    {
      "cell_type": "markdown",
      "metadata": {
        "heading_collapsed": true,
        "id": "60d6-1U1Lk7R"
      },
      "source": [
        "## Partially Freezed conv_base"
      ]
    },
    {
      "cell_type": "code",
      "metadata": {
        "ExecuteTime": {
          "end_time": "2020-05-19T22:49:45.015021Z",
          "start_time": "2020-05-19T22:49:45.002744Z"
        },
        "hidden": true,
        "id": "ftKAVlhDLk7S",
        "outputId": "4d98b415-6d4d-4a8b-faea-f38d67e76013"
      },
      "source": [
        "for layer in model.layers[:-1]:\n",
        "    layer.trainable = False\n",
        "\n",
        "for layer in model.layers:\n",
        "    print(layer.name, layer.trainable  )"
      ],
      "execution_count": null,
      "outputs": [
        {
          "output_type": "stream",
          "text": [
            "vgg16 False\n",
            "flatten False\n",
            "dense_20 False\n",
            "dense_21 True\n"
          ],
          "name": "stdout"
        }
      ]
    },
    {
      "cell_type": "code",
      "metadata": {
        "ExecuteTime": {
          "end_time": "2020-05-19T22:50:06.995540Z",
          "start_time": "2020-05-19T22:50:06.980947Z"
        },
        "colab": {
          "base_uri": "https://localhost:8080/",
          "height": 564
        },
        "hidden": true,
        "id": "hS7t4efbb38u",
        "outputId": "8cebcb3a-9635-4952-bf37-f9abba834be3"
      },
      "source": [
        "vgg16_base.trainble = False\n",
        "\n",
        "# We can freeze all bu the last two layers. \n",
        "for layer in vgg16_base.layers[-3:]:\n",
        "    layer.trainable = True\n",
        "\n",
        "## We can check which layers are traible. \n",
        "i=0    \n",
        "for layer in vgg16_base.layers:\n",
        "    i+=1\n",
        "    print('Layer {} is trainable: {}'.format(i,layer.trainable)  )    "
      ],
      "execution_count": null,
      "outputs": [
        {
          "output_type": "stream",
          "text": [
            "Layer 1 is trainable: False\n",
            "Layer 2 is trainable: False\n",
            "Layer 3 is trainable: False\n",
            "Layer 4 is trainable: False\n",
            "Layer 5 is trainable: False\n",
            "Layer 6 is trainable: False\n",
            "Layer 7 is trainable: False\n",
            "Layer 8 is trainable: False\n",
            "Layer 9 is trainable: False\n",
            "Layer 10 is trainable: False\n",
            "Layer 11 is trainable: False\n",
            "Layer 12 is trainable: False\n",
            "Layer 13 is trainable: False\n",
            "Layer 14 is trainable: False\n",
            "Layer 15 is trainable: False\n",
            "Layer 16 is trainable: False\n",
            "Layer 17 is trainable: True\n",
            "Layer 18 is trainable: True\n",
            "Layer 19 is trainable: True\n"
          ],
          "name": "stdout"
        }
      ]
    },
    {
      "cell_type": "code",
      "metadata": {
        "colab": {
          "base_uri": "https://localhost:8080/",
          "height": 34
        },
        "hidden": true,
        "id": "4yjjWmd1s9YU",
        "outputId": "4f8354f6-54b6-43a2-ec84-462d23f52c37"
      },
      "source": [
        "pre_trained_model = models.Sequential()\n",
        "pre_trained_model.add(conv_base)\n",
        "pre_trained_model.add(layers.Flatten())\n",
        "pre_trained_model.add(feature_based_model)\n",
        "\n",
        "pre_trained_model.compile(loss=tf.keras.losses.mean_squared_error, \n",
        "             optimizer=tf.keras.optimizers.SGD(lr=0.01, decay=1e-6, momentum=0.9, nesterov=True), \n",
        "             metrics=['accuracy'])\n",
        "\n",
        "\n",
        "pre_trained_model.summary()"
      ],
      "execution_count": null,
      "outputs": [
        {
          "output_type": "execute_result",
          "data": {
            "text/plain": [
              "(2500,)"
            ]
          },
          "metadata": {
            "tags": []
          },
          "execution_count": 7
        }
      ]
    },
    {
      "cell_type": "code",
      "metadata": {
        "hidden": true,
        "id": "PaML0JDpLk7V"
      },
      "source": [
        "# Even without training, this returns high accuracy. \n",
        "from tensorflow.keras.losses import mean_squared_error\n",
        "from sklearn.metrics import accuracy_score\n",
        "\n",
        "loss = 0\n",
        "acc = 0\n",
        "n_val =10\n",
        "\n",
        "for i in range(n_val):\n",
        "    d = validation_generator[i]\n",
        "    y_prd = pre_trained_model.predict(d[0])\n",
        "\n",
        "    loss += mean_squared_error(y_prd, d[1]).numpy().mean()/n_val\n",
        "    acc += accuracy_score( y_prd.argmax(axis=1),   d[1].argmax(axis=1) )/n_val\n",
        "\n",
        "\n",
        "print(f'The score before training is {acc}.')"
      ],
      "execution_count": null,
      "outputs": []
    },
    {
      "cell_type": "code",
      "metadata": {
        "hidden": true,
        "id": "Gs7s_CLqLk7W"
      },
      "source": [
        "history = pre_trained_model.fit(train_generator, \n",
        "                    steps_per_epoch  = stp_epch, \n",
        "                    validation_data  = validation_generator,\n",
        "                    validation_steps = 5, \n",
        "                    callbacks = my_callbacks, \n",
        "                    verbose = 1, \n",
        "                    epochs = 1)"
      ],
      "execution_count": null,
      "outputs": []
    },
    {
      "cell_type": "code",
      "metadata": {
        "hidden": true,
        "id": "SaiZEeDpLk7W"
      },
      "source": [
        "##############Plotting the result\n",
        "fig = plt.figure(figsize=(13, 5))\n",
        "ax  = fig.add_subplot(1,2,1, title='Accuracy')\n",
        "plt.plot(history.history['val_accuracy'], label = 'test accuracy')\n",
        "plt.plot(history.history['accuracy'], label = 'train accuracy')\n",
        "plt.legend(loc=0)\n",
        "\n",
        "ax  = fig.add_subplot(1,2,2, title='Loss')\n",
        "plt.plot(history.history['val_loss'], label = 'test loss')\n",
        "plt.plot(history.history['loss'], label = 'train loss')\n",
        "plt.legend(loc=0)\n",
        "\n",
        "plt.tight_layout()\n",
        "plt.show()\n"
      ],
      "execution_count": null,
      "outputs": []
    },
    {
      "cell_type": "markdown",
      "metadata": {
        "heading_collapsed": true,
        "id": "wVZ8KtJfLk7X"
      },
      "source": [
        "## Adding more trainable layers\n",
        "Now we can unfreeze more layers and gradually fine tune the conv-base too. "
      ]
    },
    {
      "cell_type": "code",
      "metadata": {
        "ExecuteTime": {
          "end_time": "2020-05-19T22:55:26.438188Z",
          "start_time": "2020-05-19T22:55:26.417945Z"
        },
        "hidden": true,
        "id": "ikaD5bXOLk7Z",
        "outputId": "9f00a61d-c1ec-49d9-9aeb-a4db87d6382a"
      },
      "source": [
        "vgg16_base.trainble = False\n",
        "\n",
        "# We can freeze all bu the last two layers. \n",
        "for layer in vgg16_base.layers[-6:]:\n",
        "    layer.trainable = True\n",
        "\n",
        "## We can check which layers are traible. \n",
        "i=0    \n",
        "for layer in vgg16_base.layers:\n",
        "    i+=1\n",
        "    print('Layer {} is trainable: {}'.format(i,layer.trainable)  )    "
      ],
      "execution_count": null,
      "outputs": [
        {
          "output_type": "stream",
          "text": [
            "Layer 1 is trainable: False\n",
            "Layer 2 is trainable: False\n",
            "Layer 3 is trainable: False\n",
            "Layer 4 is trainable: False\n",
            "Layer 5 is trainable: False\n",
            "Layer 6 is trainable: False\n",
            "Layer 7 is trainable: False\n",
            "Layer 8 is trainable: False\n",
            "Layer 9 is trainable: False\n",
            "Layer 10 is trainable: False\n",
            "Layer 11 is trainable: False\n",
            "Layer 12 is trainable: False\n",
            "Layer 13 is trainable: False\n",
            "Layer 14 is trainable: True\n",
            "Layer 15 is trainable: True\n",
            "Layer 16 is trainable: True\n",
            "Layer 17 is trainable: True\n",
            "Layer 18 is trainable: True\n",
            "Layer 19 is trainable: True\n"
          ],
          "name": "stdout"
        }
      ]
    },
    {
      "cell_type": "code",
      "metadata": {
        "hidden": true,
        "id": "NCfoAgB6Lk7b"
      },
      "source": [
        "pre_trained_model = models.Sequential()\n",
        "pre_trained_model.add(conv_base)\n",
        "pre_trained_model.add(layers.Flatten())\n",
        "pre_trained_model.add(feature_based_model)\n",
        "\n",
        "pre_trained_model.compile(loss=tf.keras.losses.mean_squared_error, \n",
        "             optimizer=tf.keras.optimizers.SGD(lr=0.01, decay=1e-6, momentum=0.9, nesterov=True), \n",
        "             metrics=['accuracy'])\n",
        "\n",
        "\n",
        "# pre_trained_model.summary()\n",
        "\n",
        "history = pre_trained_model.fit(train_generator, \n",
        "                    steps_per_epoch  = stp_epch, \n",
        "                    validation_data  = validation_generator,\n",
        "                    validation_steps = 5, \n",
        "                    callbacks = my_callbacks, \n",
        "                    verbose = 1, \n",
        "                    epochs = 1)"
      ],
      "execution_count": null,
      "outputs": []
    },
    {
      "cell_type": "code",
      "metadata": {
        "hidden": true,
        "id": "PnUEL_7Shn1a"
      },
      "source": [
        "model.save('sample_model.h5')"
      ],
      "execution_count": null,
      "outputs": []
    }
  ]
}