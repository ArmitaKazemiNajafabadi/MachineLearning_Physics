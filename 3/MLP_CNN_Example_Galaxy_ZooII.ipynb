{
  "nbformat": 4,
  "nbformat_minor": 0,
  "metadata": {
    "accelerator": "GPU",
    "colab": {
      "name": "Galaxy_ZooII.ipynb",
      "provenance": [],
      "collapsed_sections": [
        "0Gnzy3XxhhpO",
        "ln5Xb_CU6Khl"
      ],
      "include_colab_link": true
    },
    "kernelspec": {
      "display_name": "Python 3",
      "language": "python",
      "name": "python3"
    },
    "language_info": {
      "codemirror_mode": {
        "name": "ipython",
        "version": 3
      },
      "file_extension": ".py",
      "mimetype": "text/x-python",
      "name": "python",
      "nbconvert_exporter": "python",
      "pygments_lexer": "ipython3",
      "version": "3.6.10"
    },
    "latex_envs": {
      "LaTeX_envs_menu_present": true,
      "autoclose": false,
      "autocomplete": true,
      "bibliofile": "biblio.bib",
      "cite_by": "apalike",
      "current_citInitial": 1,
      "eqLabelWithNumbers": true,
      "eqNumInitial": 1,
      "hotkeys": {
        "equation": "Ctrl-E",
        "itemize": "Ctrl-I"
      },
      "labels_anchors": false,
      "latex_user_defs": false,
      "report_style_numbering": false,
      "user_envs_cfg": false
    },
    "toc": {
      "base_numbering": 1,
      "nav_menu": {},
      "number_sections": true,
      "sideBar": true,
      "skip_h1_title": false,
      "title_cell": "Table of Contents",
      "title_sidebar": "Contents",
      "toc_cell": false,
      "toc_position": {},
      "toc_section_display": true,
      "toc_window_display": false
    },
    "varInspector": {
      "cols": {
        "lenName": 16,
        "lenType": 16,
        "lenVar": 40
      },
      "kernels_config": {
        "python": {
          "delete_cmd_postfix": "",
          "delete_cmd_prefix": "del ",
          "library": "var_list.py",
          "varRefreshCmd": "print(var_dic_list())"
        },
        "r": {
          "delete_cmd_postfix": ") ",
          "delete_cmd_prefix": "rm(",
          "library": "var_list.r",
          "varRefreshCmd": "cat(var_dic_list()) "
        }
      },
      "types_to_exclude": [
        "module",
        "function",
        "builtin_function_or_method",
        "instance",
        "_Feature"
      ],
      "window_display": false
    }
  },
  "cells": [
    {
      "cell_type": "markdown",
      "metadata": {
        "id": "view-in-github",
        "colab_type": "text"
      },
      "source": [
        "<a href=\"https://colab.research.google.com/github/sraeisi/MachineLearning_Physics/blob/master/3/MLP_CNN_Example_Galaxy_ZooII.ipynb\" target=\"_parent\"><img src=\"https://colab.research.google.com/assets/colab-badge.svg\" alt=\"Open In Colab\"/></a>"
      ]
    },
    {
      "cell_type": "code",
      "metadata": {
        "ExecuteTime": {
          "end_time": "2020-05-19T22:24:16.872818Z",
          "start_time": "2020-05-19T22:24:07.651759Z"
        },
        "colab": {
          "base_uri": "https://localhost:8080/"
        },
        "id": "NBWm-FZCDEne",
        "outputId": "9478ef85-7e58-457f-fae4-e1e796c752ca"
      },
      "source": [
        "import numpy as np\n",
        "import pandas as pd\n",
        "import matplotlib.pyplot as plt\n",
        "plt.style.use('seaborn-talk')\n",
        "\n",
        "from urllib.request import urlopen\n",
        "from imageio import imread\n",
        "import requests\n",
        "import io\n",
        "from time import time\n",
        "\n",
        "import cv2 \n",
        "import os, shutil\n",
        "\n",
        "\n",
        "import warnings\n",
        "warnings.filterwarnings('ignore')\n",
        "\n",
        "# TensorFlow and tf.keras\n",
        "import tensorflow as tf\n",
        "from tensorflow import keras\n",
        "from tensorflow.keras import layers, models\n",
        "# %load_ext tensorboard\n",
        "\n",
        "gpus = tf.config.experimental.list_physical_devices('GPU')\n",
        "if len(gpus)>0:\n",
        "    tf.config.experimental.set_memory_growth(gpus[0] , True)\n",
        "    print('Running on GPU ...')\n",
        "else:\n",
        "    print('Running on CPU ...')\n",
        "\n"
      ],
      "execution_count": 2,
      "outputs": [
        {
          "output_type": "stream",
          "text": [
            "Running on GPU ...\n"
          ],
          "name": "stdout"
        }
      ]
    },
    {
      "cell_type": "code",
      "metadata": {
        "ExecuteTime": {
          "end_time": "2020-05-19T08:19:32.031147Z",
          "start_time": "2020-05-19T08:19:32.024119Z"
        },
        "id": "OsR49J_tLk5l"
      },
      "source": [
        "my_callbacks = [\n",
        "    tf.keras.callbacks.EarlyStopping(patience=5, monitor=\"val_loss\"),\n",
        "    tf.keras.callbacks.ModelCheckpoint(filepath='model.{epoch:02d}-{val_loss:.2f}.h5', \n",
        "                                       monitor='val_acc',\n",
        "                                       mode='max',\n",
        "                                       save_best_only=True),\n",
        "    tf.keras.callbacks.TensorBoard(log_dir=f'logs', update_freq=100),\n",
        "]"
      ],
      "execution_count": 3,
      "outputs": []
    },
    {
      "cell_type": "code",
      "metadata": {
        "ExecuteTime": {
          "end_time": "2020-05-19T22:24:19.815808Z",
          "start_time": "2020-05-19T22:24:19.802930Z"
        },
        "id": "TKA-M35HLk5n",
        "outputId": "50381855-b5a9-4c91-90f5-a98df19948f1",
        "colab": {
          "base_uri": "https://localhost:8080/"
        }
      },
      "source": [
        "batch_size = 128\n",
        "n_w = 200\n",
        "n_h = 200\n",
        "n_c = 1\n",
        "n_classes = 3 # This is only for the first question. \n",
        "\n",
        "# The number of steps in each epoch\n",
        "stp_epch =100#  int(61578/ batch_size)+1\n",
        "stp_epch"
      ],
      "execution_count": 4,
      "outputs": [
        {
          "output_type": "execute_result",
          "data": {
            "text/plain": [
              "100"
            ]
          },
          "metadata": {
            "tags": []
          },
          "execution_count": 4
        }
      ]
    },
    {
      "cell_type": "markdown",
      "metadata": {
        "id": "vC5wyTyagk8m"
      },
      "source": [
        "# Data: Galaxy Zoo\n",
        "\n",
        "The data here is take from the Galaxy Zoo II survey. For detailed information, see\n",
        "\n",
        "https://arxiv.org/pdf/1308.3496.pdf\n",
        "\n",
        "The labels are more involved. Here I simplified the classification problem in the sense that the labels here are only the answers to the first question in the survey, i.e. Is the galaxy simply smooth, and rounded, with no sign of a disk? \n",
        "\n",
        "answers: \n",
        "\n",
        "1. smooth, \n",
        "\n",
        "2. features or disk, \n",
        "\n",
        "3. star or artifact)."
      ]
    },
    {
      "cell_type": "code",
      "metadata": {
        "ExecuteTime": {
          "end_time": "2020-05-19T22:24:24.583195Z",
          "start_time": "2020-05-19T22:24:22.660937Z"
        },
        "colab": {
          "base_uri": "https://localhost:8080/"
        },
        "id": "F5bfew7uDX1w",
        "outputId": "9373c089-4e42-4840-dd45-44f701fdb505"
      },
      "source": [
        "import io, requests, zipfile\n",
        "import pandas as pd\n",
        "\n",
        "url_x = \"https://www.dropbox.com/s/optw30o55q6mxlw/Cropped%26resized_GS_100_10000_withlabels.npz?dl=1\"\n",
        "url_y = 'https://www.dropbox.com/s/ctjjap42qilhu9s/Y_1.csv?dl=1'\n",
        "\n",
        "### This file contains classes and the ids. \n",
        "s=requests.get(url_y, stream=True).content\n",
        "df = pd.read_csv(io.BytesIO(s), index_col=0) \n",
        "\n",
        "# ### This file contains images and the ids. \n",
        "s=requests.get(url_x, stream=True).content\n",
        "d = np.load(io.BytesIO(s))\n",
        "\n",
        "# path = 'C:\\\\Users\\\\sraeisi\\\\Documents\\\\Datasets\\\\Physics\\\\Galaxies\\\\Kaggle\\\\'\n",
        "\n",
        "# d = np.load(path+'Cropped&resized_GS_100_10000_withlabels.npz')\n",
        "# df = pd.read_csv(path+'Y_1.csv', index_col=0) \n",
        "\n",
        "X, ids = [d[f] for f in ['imgs','ids']]\n",
        "ids = ids.astype('float')\n",
        "\n",
        "### We can make the labels based on the ids in the X file.\n",
        "Y = df.loc[ids].values\n",
        "print(Y.shape)"
      ],
      "execution_count": 5,
      "outputs": [
        {
          "output_type": "stream",
          "text": [
            "(10000, 3)\n"
          ],
          "name": "stdout"
        }
      ]
    },
    {
      "cell_type": "code",
      "metadata": {
        "id": "rRgx1Msw_MyS",
        "outputId": "36104bfb-4cdd-4ccf-b268-4bc6a8dee93f",
        "colab": {
          "base_uri": "https://localhost:8080/",
          "height": 450
        }
      },
      "source": [
        "df"
      ],
      "execution_count": 30,
      "outputs": [
        {
          "output_type": "execute_result",
          "data": {
            "text/html": [
              "<div>\n",
              "<style scoped>\n",
              "    .dataframe tbody tr th:only-of-type {\n",
              "        vertical-align: middle;\n",
              "    }\n",
              "\n",
              "    .dataframe tbody tr th {\n",
              "        vertical-align: top;\n",
              "    }\n",
              "\n",
              "    .dataframe thead th {\n",
              "        text-align: right;\n",
              "    }\n",
              "</style>\n",
              "<table border=\"1\" class=\"dataframe\">\n",
              "  <thead>\n",
              "    <tr style=\"text-align: right;\">\n",
              "      <th></th>\n",
              "      <th>Class1.1</th>\n",
              "      <th>Class1.2</th>\n",
              "      <th>Class1.3</th>\n",
              "    </tr>\n",
              "    <tr>\n",
              "      <th>GalaxyID</th>\n",
              "      <th></th>\n",
              "      <th></th>\n",
              "      <th></th>\n",
              "    </tr>\n",
              "  </thead>\n",
              "  <tbody>\n",
              "    <tr>\n",
              "      <th>100008</th>\n",
              "      <td>0.383147</td>\n",
              "      <td>0.616853</td>\n",
              "      <td>0.000000</td>\n",
              "    </tr>\n",
              "    <tr>\n",
              "      <th>100023</th>\n",
              "      <td>0.327001</td>\n",
              "      <td>0.663777</td>\n",
              "      <td>0.009222</td>\n",
              "    </tr>\n",
              "    <tr>\n",
              "      <th>100053</th>\n",
              "      <td>0.765717</td>\n",
              "      <td>0.177352</td>\n",
              "      <td>0.056931</td>\n",
              "    </tr>\n",
              "    <tr>\n",
              "      <th>100078</th>\n",
              "      <td>0.693377</td>\n",
              "      <td>0.238564</td>\n",
              "      <td>0.068059</td>\n",
              "    </tr>\n",
              "    <tr>\n",
              "      <th>100090</th>\n",
              "      <td>0.933839</td>\n",
              "      <td>0.000000</td>\n",
              "      <td>0.066161</td>\n",
              "    </tr>\n",
              "    <tr>\n",
              "      <th>...</th>\n",
              "      <td>...</td>\n",
              "      <td>...</td>\n",
              "      <td>...</td>\n",
              "    </tr>\n",
              "    <tr>\n",
              "      <th>999948</th>\n",
              "      <td>0.510379</td>\n",
              "      <td>0.489621</td>\n",
              "      <td>0.000000</td>\n",
              "    </tr>\n",
              "    <tr>\n",
              "      <th>999950</th>\n",
              "      <td>0.901216</td>\n",
              "      <td>0.098784</td>\n",
              "      <td>0.000000</td>\n",
              "    </tr>\n",
              "    <tr>\n",
              "      <th>999958</th>\n",
              "      <td>0.202841</td>\n",
              "      <td>0.777376</td>\n",
              "      <td>0.019783</td>\n",
              "    </tr>\n",
              "    <tr>\n",
              "      <th>999964</th>\n",
              "      <td>0.091000</td>\n",
              "      <td>0.909000</td>\n",
              "      <td>0.000000</td>\n",
              "    </tr>\n",
              "    <tr>\n",
              "      <th>999967</th>\n",
              "      <td>0.767000</td>\n",
              "      <td>0.140000</td>\n",
              "      <td>0.093000</td>\n",
              "    </tr>\n",
              "  </tbody>\n",
              "</table>\n",
              "<p>61578 rows × 3 columns</p>\n",
              "</div>"
            ],
            "text/plain": [
              "          Class1.1  Class1.2  Class1.3\n",
              "GalaxyID                              \n",
              "100008    0.383147  0.616853  0.000000\n",
              "100023    0.327001  0.663777  0.009222\n",
              "100053    0.765717  0.177352  0.056931\n",
              "100078    0.693377  0.238564  0.068059\n",
              "100090    0.933839  0.000000  0.066161\n",
              "...            ...       ...       ...\n",
              "999948    0.510379  0.489621  0.000000\n",
              "999950    0.901216  0.098784  0.000000\n",
              "999958    0.202841  0.777376  0.019783\n",
              "999964    0.091000  0.909000  0.000000\n",
              "999967    0.767000  0.140000  0.093000\n",
              "\n",
              "[61578 rows x 3 columns]"
            ]
          },
          "metadata": {
            "tags": []
          },
          "execution_count": 30
        }
      ]
    },
    {
      "cell_type": "code",
      "metadata": {
        "ExecuteTime": {
          "end_time": "2020-05-19T08:51:42.794809Z",
          "start_time": "2020-05-19T08:51:42.547254Z"
        },
        "colab": {
          "base_uri": "https://localhost:8080/",
          "height": 364
        },
        "id": "3tXHbT9tgc7n",
        "outputId": "499c96fe-c786-41f8-bb47-5cf56f5eb908"
      },
      "source": [
        "rand_ind = np.random.randint(0,len(Y) )\n",
        "\n",
        "fig = plt.figure(figsize=(10, 5))\n",
        "ax = fig.add_subplot(1,1,1, title =f'For this sample, the label is:\\n {Y[rand_ind]}' )\n",
        "ax.imshow(X[rand_ind])\n",
        "plt.show()"
      ],
      "execution_count": 6,
      "outputs": [
        {
          "output_type": "display_data",
          "data": {
            "image/png": "[encoded data removed]",
            "text/plain": [
              "<Figure size 720x360 with 1 Axes>"
            ]
          },
          "metadata": {
            "tags": [],
            "needs_background": "light"
          }
        }
      ]
    },
    {
      "cell_type": "code",
      "metadata": {
        "ExecuteTime": {
          "end_time": "2020-05-19T22:24:45.840445Z",
          "start_time": "2020-05-19T22:24:44.781087Z"
        },
        "id": "HcYNdSvyFn3m"
      },
      "source": [
        "# For the data we have:\n",
        "n_w, n_h = X[0].shape\n",
        "n_f = n_w*n_h\n",
        "n_c = 1 # number of channles\n",
        "n_out= 3\n",
        "\n",
        "from sklearn.model_selection import train_test_split\n",
        "X_train, X_test, Y_train, Y_test = train_test_split(X,Y, random_state=0, test_size=.25 )\n",
        "\n",
        "\n",
        "# To one hot\n",
        "# from tensorflow.keras import utils\n",
        "# Y_train = utils.to_categorical(Y_train, n_out)\n",
        "# Y_test = utils.to_categorical(Y_test, n_out)\n",
        "\n",
        "## To classes\n",
        "# Y_train = Y_train.argmax(axis=1)\n",
        "# Y_test = Y_test.argmax(axis=1)\n"
      ],
      "execution_count": 34,
      "outputs": []
    },
    {
      "cell_type": "code",
      "metadata": {
        "id": "ab3mTOd08ye8",
        "outputId": "625b014d-3df3-4955-9b85-dd9c21290f70",
        "colab": {
          "base_uri": "https://localhost:8080/"
        }
      },
      "source": [
        "print(set(Y_train))\n",
        "set(Y_test)\n",
        "X.shape"
      ],
      "execution_count": 29,
      "outputs": [
        {
          "output_type": "stream",
          "text": [
            "{0, 1, 2}\n"
          ],
          "name": "stdout"
        },
        {
          "output_type": "execute_result",
          "data": {
            "text/plain": [
              "(10000, 100, 100)"
            ]
          },
          "metadata": {
            "tags": []
          },
          "execution_count": 29
        }
      ]
    },
    {
      "cell_type": "code",
      "metadata": {
        "ExecuteTime": {
          "end_time": "2020-05-19T21:01:55.459241Z",
          "start_time": "2020-05-19T21:01:54.819862Z"
        },
        "id": "QqcaiSyaLk54"
      },
      "source": [
        "from tensorflow.keras.preprocessing.image import ImageDataGenerator\n",
        "\n",
        "train_datagen = ImageDataGenerator(rescale=1./255.,\n",
        "                                   shear_range=0.2,\n",
        "                                   zoom_range=0.2,\n",
        "                                   horizontal_flip=True, \n",
        "                                   vertical_flip=True, \n",
        "                                   rotation_range=180, \n",
        "                                   validation_split=0.5)\n",
        "\n",
        "\n",
        "train_generator = train_datagen.flow( X_train, Y_train, \n",
        "                                     batch_size=batch_size,\n",
        "                                     shuffle=True, \n",
        "                                     subset='training')\n",
        "\n",
        "validation_generator = train_datagen.flow( X_train, Y_train, \n",
        "                                     batch_size=batch_size,\n",
        "                                     shuffle=True, \n",
        "                                     subset='validation')"
      ],
      "execution_count": null,
      "outputs": []
    },
    {
      "cell_type": "markdown",
      "metadata": {
        "heading_collapsed": true,
        "id": "0Gnzy3XxhhpO"
      },
      "source": [
        "## Let's start with a non-conv net"
      ]
    },
    {
      "cell_type": "code",
      "metadata": {
        "ExecuteTime": {
          "end_time": "2020-05-19T21:18:20.383327Z",
          "start_time": "2020-05-19T21:18:20.246086Z"
        },
        "colab": {
          "base_uri": "https://localhost:8080/"
        },
        "hidden": true,
        "id": "bI7llRaZjb-L",
        "outputId": "cc8f782b-2170-468f-fb6b-a638eea32e12"
      },
      "source": [
        "from tensorflow.keras import layers\n",
        "from tensorflow.keras import models\n",
        "\n",
        "model = models.Sequential()\n",
        "model.add(layers.Flatten(input_shape=(n_w , n_h) ))\n",
        "model.add(layers.Dense(128, activation='relu'))\n",
        "model.add(layers.Dense(3, activation='softmax'))\n",
        "\n",
        "model.compile(optimizer='adam', \n",
        "              loss='categorical_crossentropy',\n",
        "              metrics=['accuracy'])\n",
        "\n",
        "model.summary()\n"
      ],
      "execution_count": 35,
      "outputs": [
        {
          "output_type": "stream",
          "text": [
            "Model: \"sequential\"\n",
            "_________________________________________________________________\n",
            "Layer (type)                 Output Shape              Param #   \n",
            "=================================================================\n",
            "flatten (Flatten)            (None, 10000)             0         \n",
            "_________________________________________________________________\n",
            "dense (Dense)                (None, 128)               1280128   \n",
            "_________________________________________________________________\n",
            "dense_1 (Dense)              (None, 3)                 387       \n",
            "=================================================================\n",
            "Total params: 1,280,515\n",
            "Trainable params: 1,280,515\n",
            "Non-trainable params: 0\n",
            "_________________________________________________________________\n"
          ],
          "name": "stdout"
        }
      ]
    },
    {
      "cell_type": "code",
      "metadata": {
        "ExecuteTime": {
          "end_time": "2020-05-19T21:20:03.088468Z",
          "start_time": "2020-05-19T21:18:25.655315Z"
        },
        "hidden": true,
        "id": "E9_wk8HQhhK0"
      },
      "source": [
        "history = model.fit(X_train,Y_train, \n",
        "                    epochs=100, batch_size = 64, \n",
        "                    verbose=0 , \n",
        "#                     callbacks=my_callbacks, \n",
        "                    validation_data = (X_test, Y_test))"
      ],
      "execution_count": 36,
      "outputs": []
    },
    {
      "cell_type": "code",
      "metadata": {
        "hidden": true,
        "id": "fGAIKG1HlcGY"
      },
      "source": [
        "### If on colab, you can run this to get the tensorboard \n",
        "%tensorboard --logdir 'logs_{model.name}'"
      ],
      "execution_count": null,
      "outputs": []
    },
    {
      "cell_type": "code",
      "metadata": {
        "ExecuteTime": {
          "end_time": "2020-05-19T21:20:04.240745Z",
          "start_time": "2020-05-19T21:20:03.290165Z"
        },
        "colab": {
          "base_uri": "https://localhost:8080/",
          "height": 369
        },
        "hidden": true,
        "id": "xhFxIXhkqDug",
        "outputId": "d10c38d7-6830-44b2-e522-7363ee8b45c8"
      },
      "source": [
        "# Plot training & validation accuracy values\n",
        "fig = plt.figure(figsize=(10,5))\n",
        "ax = fig.add_subplot(1,2,1, title = 'Model accuracy', ylabel= 'Accuracy')\n",
        "plt.plot(history.history['accuracy'])\n",
        "plt.plot(history.history['val_accuracy'])\n",
        "plt.legend(['Train', 'Test'], loc='upper left')\n",
        "\n",
        "# Plot training & validation loss values\n",
        "ax = fig.add_subplot(1,2,2, title = 'Model loss', ylabel= 'Loss')\n",
        "plt.plot(history.history['loss'])\n",
        "plt.plot(history.history['val_loss'])\n",
        "plt.legend(['Train', 'Test'], loc='upper left')\n",
        "\n",
        "plt.tight_layout()\n",
        "plt.show()"
      ],
      "execution_count": 37,
      "outputs": [
        {
          "output_type": "display_data",
          "data": {
            "image/png": "[encoded data removed]",
            "text/plain": [
              "<Figure size 720x360 with 2 Axes>"
            ]
          },
          "metadata": {
            "tags": [],
            "needs_background": "light"
          }
        }
      ]
    },
    {
      "cell_type": "markdown",
      "metadata": {
        "hidden": true,
        "id": "aRQi_vG9Lk6M"
      },
      "source": [
        "***Question:*** What does these plot tell you? How can you improve this model?\n",
        "\n",
        "It took 1 min 40 sec to train this model and the acc on the test set is less .7 . "
      ]
    },
    {
      "cell_type": "markdown",
      "metadata": {
        "heading_collapsed": true,
        "id": "6Aa__LrhhnOt"
      },
      "source": [
        "## Simple conv net"
      ]
    },
    {
      "cell_type": "code",
      "metadata": {
        "ExecuteTime": {
          "end_time": "2020-05-19T21:22:13.883945Z",
          "start_time": "2020-05-19T21:22:13.875898Z"
        },
        "hidden": true,
        "id": "H5CEk6mQdPH_"
      },
      "source": [
        "# The convolutional layer expects an index for the number of channels, \n",
        "# So we need ot reshape the input. \n",
        "# The one at the end indicates the channel. \n",
        "# in this case, there is only one channel. \n",
        "\n",
        "X_train = X_train.reshape(-1, n_w, n_h, 1)\n",
        "X_test = X_test.reshape(-1, n_w, n_h, 1)"
      ],
      "execution_count": null,
      "outputs": []
    },
    {
      "cell_type": "code",
      "metadata": {
        "ExecuteTime": {
          "end_time": "2020-05-19T21:29:28.890115Z",
          "start_time": "2020-05-19T21:29:28.457519Z"
        },
        "colab": {
          "base_uri": "https://localhost:8080/",
          "height": 459
        },
        "hidden": true,
        "id": "AZHBAeAKnAk9",
        "outputId": "aa8cc324-4354-4b3d-b483-c36940da6163"
      },
      "source": [
        "model = models.Sequential()\n",
        "\n",
        "model.add(layers.Conv2D(16, (3, 3), activation='relu', input_shape=(n_w , n_h, 1)))\n",
        "model.add(layers.MaxPooling2D((2, 2)))\n",
        "\n",
        "model.add(layers.Conv2D(32, (3, 3), activation='relu'))\n",
        "model.add(layers.MaxPooling2D((3, 3)))\n",
        "\n",
        "model.add(layers.Conv2D(64, (3, 3), activation='relu'))\n",
        "model.add(layers.MaxPooling2D((2, 2)))\n",
        "\n",
        "model.add(layers.Flatten())\n",
        "\n",
        "model.add(layers.Dense(64, activation='relu'))\n",
        "model.add(layers.Dense(n_out, activation='softmax'))\n",
        "\n",
        "\n",
        "model.compile(optimizer='adam', \n",
        "              loss='categorical_crossentropy',\n",
        "              metrics=['accuracy'])\n",
        "\n",
        "model.summary()"
      ],
      "execution_count": null,
      "outputs": [
        {
          "output_type": "stream",
          "text": [
            "Model: \"sequential_6\"\n",
            "_________________________________________________________________\n",
            "Layer (type)                 Output Shape              Param #   \n",
            "=================================================================\n",
            "conv2d_6 (Conv2D)            (None, 98, 98, 16)        160       \n",
            "_________________________________________________________________\n",
            "max_pooling2d_6 (MaxPooling2 (None, 49, 49, 16)        0         \n",
            "_________________________________________________________________\n",
            "conv2d_7 (Conv2D)            (None, 47, 47, 32)        4640      \n",
            "_________________________________________________________________\n",
            "max_pooling2d_7 (MaxPooling2 (None, 15, 15, 32)        0         \n",
            "_________________________________________________________________\n",
            "conv2d_8 (Conv2D)            (None, 13, 13, 64)        18496     \n",
            "_________________________________________________________________\n",
            "max_pooling2d_8 (MaxPooling2 (None, 6, 6, 64)          0         \n",
            "_________________________________________________________________\n",
            "flatten_6 (Flatten)          (None, 2304)              0         \n",
            "_________________________________________________________________\n",
            "dense_12 (Dense)             (None, 64)                147520    \n",
            "_________________________________________________________________\n",
            "dense_13 (Dense)             (None, 3)                 195       \n",
            "=================================================================\n",
            "Total params: 171,011\n",
            "Trainable params: 171,011\n",
            "Non-trainable params: 0\n",
            "_________________________________________________________________\n"
          ],
          "name": "stdout"
        }
      ]
    },
    {
      "cell_type": "code",
      "metadata": {
        "ExecuteTime": {
          "end_time": "2020-05-19T21:31:28.694126Z",
          "start_time": "2020-05-19T21:29:38.892403Z"
        },
        "hidden": true,
        "id": "e1ySWoUYnAhd"
      },
      "source": [
        "history = model.fit(X_train,Y_train, \n",
        "                    epochs=40, batch_size = 256, \n",
        "                    verbose=0 , \n",
        "#                     callbacks=my_callbacks, \n",
        "                    validation_data = (X_test, Y_test))"
      ],
      "execution_count": null,
      "outputs": []
    },
    {
      "cell_type": "code",
      "metadata": {
        "hidden": true,
        "id": "K3FZO-TPpMhh"
      },
      "source": [
        "%tensorboard --logdir 'logs_{model.name}'"
      ],
      "execution_count": null,
      "outputs": []
    },
    {
      "cell_type": "code",
      "metadata": {
        "ExecuteTime": {
          "end_time": "2020-05-19T21:32:00.047767Z",
          "start_time": "2020-05-19T21:31:59.310008Z"
        },
        "colab": {
          "base_uri": "https://localhost:8080/",
          "height": 327
        },
        "hidden": true,
        "id": "BOuGKmeppWK8",
        "outputId": "610b159f-53c5-4e33-8038-fa00f2b0033e"
      },
      "source": [
        "# Plot training & validation accuracy values\n",
        "fig = plt.figure(figsize=(10,5))\n",
        "ax = fig.add_subplot(1,2,1, title = 'Model accuracy', ylabel= 'Accuracy')\n",
        "plt.plot(history.history['accuracy'])\n",
        "plt.plot(history.history['val_accuracy'])\n",
        "plt.legend(['Train', 'Test'], loc='upper left')\n",
        "\n",
        "# Plot training & validation loss values\n",
        "ax = fig.add_subplot(1,2,2, title = 'Model loss', ylabel= 'Loss')\n",
        "plt.plot(history.history['loss'])\n",
        "plt.plot(history.history['val_loss'])\n",
        "plt.legend(['Train', 'Test'], loc='upper left')\n",
        "\n",
        "plt.tight_layout()\n",
        "plt.show()"
      ],
      "execution_count": null,
      "outputs": [
        {
          "output_type": "display_data",
          "data": {
            "image/png": "[encoded data removed]",
            "text/plain": [
              "<Figure size 720x360 with 2 Axes>"
            ]
          },
          "metadata": {
            "tags": [],
            "needs_background": "light"
          }
        }
      ]
    },
    {
      "cell_type": "markdown",
      "metadata": {
        "heading_collapsed": true,
        "id": "MxjP46FthtOb"
      },
      "source": [
        "## Convnet based on some of the famous designs"
      ]
    },
    {
      "cell_type": "markdown",
      "metadata": {
        "hidden": true,
        "id": "MsbF_ecBLk6Y"
      },
      "source": [
        "Look at the link here for a visual introduction to the differnt networks for computer vision applications.\n",
        "\n",
        "(https://microscope.openai.com/models)"
      ]
    },
    {
      "cell_type": "code",
      "metadata": {
        "ExecuteTime": {
          "end_time": "2020-05-19T22:08:48.531036Z",
          "start_time": "2020-05-19T22:08:48.523466Z"
        },
        "hidden": true,
        "id": "8rgqmWlTLk6Z"
      },
      "source": [
        "from tensorflow.keras.applications.vgg16 import preprocess_input"
      ],
      "execution_count": null,
      "outputs": []
    },
    {
      "cell_type": "code",
      "metadata": {
        "ExecuteTime": {
          "end_time": "2020-05-19T22:11:06.067286Z",
          "start_time": "2020-05-19T22:11:05.435809Z"
        },
        "hidden": true,
        "id": "dMSteIV2Lk6a",
        "outputId": "039158a3-8622-4a9c-8d3e-3eb435bda481"
      },
      "source": [
        "X_vgg16 = preprocess_input(X)\n",
        "X_vgg16.shape"
      ],
      "execution_count": null,
      "outputs": [
        {
          "output_type": "execute_result",
          "data": {
            "text/plain": [
              "(10000, 100, 100)"
            ]
          },
          "metadata": {
            "tags": []
          },
          "execution_count": 44
        }
      ]
    },
    {
      "cell_type": "code",
      "metadata": {
        "ExecuteTime": {
          "end_time": "2020-05-19T22:12:46.861517Z",
          "start_time": "2020-05-19T22:12:46.133106Z"
        },
        "hidden": true,
        "id": "IseeU0KCLk6b"
      },
      "source": [
        "from sklearn.model_selection import train_test_split\n",
        "X_train, X_test, Y_train, Y_test = train_test_split(X_vgg16.reshape(-1, n_w, n_h, 1 ),\n",
        "                                                    Y, random_state=0, test_size=.25 )"
      ],
      "execution_count": null,
      "outputs": []
    },
    {
      "cell_type": "code",
      "metadata": {
        "ExecuteTime": {
          "end_time": "2020-05-19T22:13:01.332376Z",
          "start_time": "2020-05-19T22:13:00.630533Z"
        },
        "colab": {
          "base_uri": "https://localhost:8080/",
          "height": 935
        },
        "hidden": true,
        "id": "59dppwon4LBM",
        "outputId": "a0b1dd60-0d43-4d07-f21d-4ce2d906bcf3"
      },
      "source": [
        "from tensorflow.keras.applications import VGG16\n",
        "from tensorflow.keras.preprocessing import image\n",
        "from tensorflow.keras import layers\n",
        "from tensorflow.keras import models\n",
        "from tensorflow.keras import optimizers\n",
        "\n",
        "# create the base pre-trained model\n",
        "model = VGG16(weights=None, include_top=True, \n",
        "              input_shape=(n_w, n_h,1),\n",
        "              classes=3)\n",
        "model.summary()"
      ],
      "execution_count": null,
      "outputs": [
        {
          "output_type": "stream",
          "text": [
            "Model: \"vgg16\"\n",
            "_________________________________________________________________\n",
            "Layer (type)                 Output Shape              Param #   \n",
            "=================================================================\n",
            "input_1 (InputLayer)         [(None, 100, 100, 1)]     0         \n",
            "_________________________________________________________________\n",
            "block1_conv1 (Conv2D)        (None, 100, 100, 64)      640       \n",
            "_________________________________________________________________\n",
            "block1_conv2 (Conv2D)        (None, 100, 100, 64)      36928     \n",
            "_________________________________________________________________\n",
            "block1_pool (MaxPooling2D)   (None, 50, 50, 64)        0         \n",
            "_________________________________________________________________\n",
            "block2_conv1 (Conv2D)        (None, 50, 50, 128)       73856     \n",
            "_________________________________________________________________\n",
            "block2_conv2 (Conv2D)        (None, 50, 50, 128)       147584    \n",
            "_________________________________________________________________\n",
            "block2_pool (MaxPooling2D)   (None, 25, 25, 128)       0         \n",
            "_________________________________________________________________\n",
            "block3_conv1 (Conv2D)        (None, 25, 25, 256)       295168    \n",
            "_________________________________________________________________\n",
            "block3_conv2 (Conv2D)        (None, 25, 25, 256)       590080    \n",
            "_________________________________________________________________\n",
            "block3_conv3 (Conv2D)        (None, 25, 25, 256)       590080    \n",
            "_________________________________________________________________\n",
            "block3_pool (MaxPooling2D)   (None, 12, 12, 256)       0         \n",
            "_________________________________________________________________\n",
            "block4_conv1 (Conv2D)        (None, 12, 12, 512)       1180160   \n",
            "_________________________________________________________________\n",
            "block4_conv2 (Conv2D)        (None, 12, 12, 512)       2359808   \n",
            "_________________________________________________________________\n",
            "block4_conv3 (Conv2D)        (None, 12, 12, 512)       2359808   \n",
            "_________________________________________________________________\n",
            "block4_pool (MaxPooling2D)   (None, 6, 6, 512)         0         \n",
            "_________________________________________________________________\n",
            "block5_conv1 (Conv2D)        (None, 6, 6, 512)         2359808   \n",
            "_________________________________________________________________\n",
            "block5_conv2 (Conv2D)        (None, 6, 6, 512)         2359808   \n",
            "_________________________________________________________________\n",
            "block5_conv3 (Conv2D)        (None, 6, 6, 512)         2359808   \n",
            "_________________________________________________________________\n",
            "block5_pool (MaxPooling2D)   (None, 3, 3, 512)         0         \n",
            "_________________________________________________________________\n",
            "flatten (Flatten)            (None, 4608)              0         \n",
            "_________________________________________________________________\n",
            "fc1 (Dense)                  (None, 4096)              18878464  \n",
            "_________________________________________________________________\n",
            "fc2 (Dense)                  (None, 4096)              16781312  \n",
            "_________________________________________________________________\n",
            "predictions (Dense)          (None, 3)                 12291     \n",
            "=================================================================\n",
            "Total params: 50,385,603\n",
            "Trainable params: 50,385,603\n",
            "Non-trainable params: 0\n",
            "_________________________________________________________________\n"
          ],
          "name": "stdout"
        }
      ]
    },
    {
      "cell_type": "code",
      "metadata": {
        "ExecuteTime": {
          "end_time": "2020-05-19T22:13:05.636317Z",
          "start_time": "2020-05-19T22:13:05.514281Z"
        },
        "hidden": true,
        "id": "wgAs3b9h8l_Q"
      },
      "source": [
        "model.compile(optimizer=optimizers.RMSprop(lr=2e-5),\n",
        "              loss='categorical_crossentropy',\n",
        "              metrics=['accuracy'])\n"
      ],
      "execution_count": null,
      "outputs": []
    },
    {
      "cell_type": "code",
      "metadata": {
        "hidden": true,
        "id": "5sa5lQ5H82F7"
      },
      "source": [
        "X_train = X_train.reshape(-1, n_w, n_h, 1)\n",
        "X_test = X_test.reshape(-1, n_w, n_h, 1)\n",
        "\n",
        "X_c_train = X_c_train.reshape(-1, n_w, n_h, 1)\n",
        "X_c_test = X_c_test.reshape(-1, n_w, n_h, 1)"
      ],
      "execution_count": null,
      "outputs": []
    },
    {
      "cell_type": "code",
      "metadata": {
        "ExecuteTime": {
          "end_time": "2020-05-19T22:18:45.979775Z",
          "start_time": "2020-05-19T22:18:35.044170Z"
        },
        "colab": {
          "base_uri": "https://localhost:8080/",
          "height": 547
        },
        "hidden": true,
        "id": "gnV62kZ_6zkG",
        "outputId": "227b1170-5365-4f92-b12c-2484dc210810"
      },
      "source": [
        "# model.optimizer = optimizers.Adam(learning_rate=.1)\n",
        "history = model.fit(X_train,Y_train, \n",
        "                    epochs=1, batch_size = 128, \n",
        "                    validation_data = (X_test, Y_test), \n",
        "#                     callbacks=my_callbacks, \n",
        "                    verbose=1)"
      ],
      "execution_count": null,
      "outputs": [
        {
          "output_type": "stream",
          "text": [
            "Train on 7500 samples, validate on 2500 samples\n",
            " 640/7500 [=>............................] - ETA: 1:55 - loss: 0.7503 - accuracy: 0.6699"
          ],
          "name": "stdout"
        },
        {
          "output_type": "error",
          "ename": "KeyboardInterrupt",
          "evalue": "",
          "traceback": [
            "\u001b[1;31m---------------------------------------------------------------------------\u001b[0m",
            "\u001b[1;31mKeyboardInterrupt\u001b[0m                         Traceback (most recent call last)",
            "\u001b[1;32m<ipython-input-50-54920fa5a06e>\u001b[0m in \u001b[0;36m<module>\u001b[1;34m\u001b[0m\n\u001b[0;32m      4\u001b[0m                     \u001b[0mvalidation_data\u001b[0m \u001b[1;33m=\u001b[0m \u001b[1;33m(\u001b[0m\u001b[0mX_test\u001b[0m\u001b[1;33m,\u001b[0m \u001b[0mY_test\u001b[0m\u001b[1;33m)\u001b[0m\u001b[1;33m,\u001b[0m\u001b[1;33m\u001b[0m\u001b[1;33m\u001b[0m\u001b[0m\n\u001b[0;32m      5\u001b[0m \u001b[1;31m#                     callbacks=my_callbacks,\u001b[0m\u001b[1;33m\u001b[0m\u001b[1;33m\u001b[0m\u001b[1;33m\u001b[0m\u001b[0m\n\u001b[1;32m----> 6\u001b[1;33m                     verbose=1)\n\u001b[0m",
            "\u001b[1;32m~\\.conda\\envs\\keras-gpu\\lib\\site-packages\\tensorflow_core\\python\\keras\\engine\\training.py\u001b[0m in \u001b[0;36mfit\u001b[1;34m(self, x, y, batch_size, epochs, verbose, callbacks, validation_split, validation_data, shuffle, class_weight, sample_weight, initial_epoch, steps_per_epoch, validation_steps, validation_freq, max_queue_size, workers, use_multiprocessing, **kwargs)\u001b[0m\n\u001b[0;32m    817\u001b[0m         \u001b[0mmax_queue_size\u001b[0m\u001b[1;33m=\u001b[0m\u001b[0mmax_queue_size\u001b[0m\u001b[1;33m,\u001b[0m\u001b[1;33m\u001b[0m\u001b[1;33m\u001b[0m\u001b[0m\n\u001b[0;32m    818\u001b[0m         \u001b[0mworkers\u001b[0m\u001b[1;33m=\u001b[0m\u001b[0mworkers\u001b[0m\u001b[1;33m,\u001b[0m\u001b[1;33m\u001b[0m\u001b[1;33m\u001b[0m\u001b[0m\n\u001b[1;32m--> 819\u001b[1;33m         use_multiprocessing=use_multiprocessing)\n\u001b[0m\u001b[0;32m    820\u001b[0m \u001b[1;33m\u001b[0m\u001b[0m\n\u001b[0;32m    821\u001b[0m   def evaluate(self,\n",
            "\u001b[1;32m~\\.conda\\envs\\keras-gpu\\lib\\site-packages\\tensorflow_core\\python\\keras\\engine\\training_v2.py\u001b[0m in \u001b[0;36mfit\u001b[1;34m(self, model, x, y, batch_size, epochs, verbose, callbacks, validation_split, validation_data, shuffle, class_weight, sample_weight, initial_epoch, steps_per_epoch, validation_steps, validation_freq, max_queue_size, workers, use_multiprocessing, **kwargs)\u001b[0m\n\u001b[0;32m    340\u001b[0m                 \u001b[0mmode\u001b[0m\u001b[1;33m=\u001b[0m\u001b[0mModeKeys\u001b[0m\u001b[1;33m.\u001b[0m\u001b[0mTRAIN\u001b[0m\u001b[1;33m,\u001b[0m\u001b[1;33m\u001b[0m\u001b[1;33m\u001b[0m\u001b[0m\n\u001b[0;32m    341\u001b[0m                 \u001b[0mtraining_context\u001b[0m\u001b[1;33m=\u001b[0m\u001b[0mtraining_context\u001b[0m\u001b[1;33m,\u001b[0m\u001b[1;33m\u001b[0m\u001b[1;33m\u001b[0m\u001b[0m\n\u001b[1;32m--> 342\u001b[1;33m                 total_epochs=epochs)\n\u001b[0m\u001b[0;32m    343\u001b[0m             \u001b[0mcbks\u001b[0m\u001b[1;33m.\u001b[0m\u001b[0mmake_logs\u001b[0m\u001b[1;33m(\u001b[0m\u001b[0mmodel\u001b[0m\u001b[1;33m,\u001b[0m \u001b[0mepoch_logs\u001b[0m\u001b[1;33m,\u001b[0m \u001b[0mtraining_result\u001b[0m\u001b[1;33m,\u001b[0m \u001b[0mModeKeys\u001b[0m\u001b[1;33m.\u001b[0m\u001b[0mTRAIN\u001b[0m\u001b[1;33m)\u001b[0m\u001b[1;33m\u001b[0m\u001b[1;33m\u001b[0m\u001b[0m\n\u001b[0;32m    344\u001b[0m \u001b[1;33m\u001b[0m\u001b[0m\n",
            "\u001b[1;32m~\\.conda\\envs\\keras-gpu\\lib\\site-packages\\tensorflow_core\\python\\keras\\engine\\training_v2.py\u001b[0m in \u001b[0;36mrun_one_epoch\u001b[1;34m(model, iterator, execution_function, dataset_size, batch_size, strategy, steps_per_epoch, num_samples, mode, training_context, total_epochs)\u001b[0m\n\u001b[0;32m    126\u001b[0m         step=step, mode=mode, size=current_batch_size) as batch_logs:\n\u001b[0;32m    127\u001b[0m       \u001b[1;32mtry\u001b[0m\u001b[1;33m:\u001b[0m\u001b[1;33m\u001b[0m\u001b[1;33m\u001b[0m\u001b[0m\n\u001b[1;32m--> 128\u001b[1;33m         \u001b[0mbatch_outs\u001b[0m \u001b[1;33m=\u001b[0m \u001b[0mexecution_function\u001b[0m\u001b[1;33m(\u001b[0m\u001b[0miterator\u001b[0m\u001b[1;33m)\u001b[0m\u001b[1;33m\u001b[0m\u001b[1;33m\u001b[0m\u001b[0m\n\u001b[0m\u001b[0;32m    129\u001b[0m       \u001b[1;32mexcept\u001b[0m \u001b[1;33m(\u001b[0m\u001b[0mStopIteration\u001b[0m\u001b[1;33m,\u001b[0m \u001b[0merrors\u001b[0m\u001b[1;33m.\u001b[0m\u001b[0mOutOfRangeError\u001b[0m\u001b[1;33m)\u001b[0m\u001b[1;33m:\u001b[0m\u001b[1;33m\u001b[0m\u001b[1;33m\u001b[0m\u001b[0m\n\u001b[0;32m    130\u001b[0m         \u001b[1;31m# TODO(kaftan): File bug about tf function and errors.OutOfRangeError?\u001b[0m\u001b[1;33m\u001b[0m\u001b[1;33m\u001b[0m\u001b[1;33m\u001b[0m\u001b[0m\n",
            "\u001b[1;32m~\\.conda\\envs\\keras-gpu\\lib\\site-packages\\tensorflow_core\\python\\keras\\engine\\training_v2_utils.py\u001b[0m in \u001b[0;36mexecution_function\u001b[1;34m(input_fn)\u001b[0m\n\u001b[0;32m     96\u001b[0m     \u001b[1;31m# `numpy` translates Tensors to values in Eager mode.\u001b[0m\u001b[1;33m\u001b[0m\u001b[1;33m\u001b[0m\u001b[1;33m\u001b[0m\u001b[0m\n\u001b[0;32m     97\u001b[0m     return nest.map_structure(_non_none_constant_value,\n\u001b[1;32m---> 98\u001b[1;33m                               distributed_function(input_fn))\n\u001b[0m\u001b[0;32m     99\u001b[0m \u001b[1;33m\u001b[0m\u001b[0m\n\u001b[0;32m    100\u001b[0m   \u001b[1;32mreturn\u001b[0m \u001b[0mexecution_function\u001b[0m\u001b[1;33m\u001b[0m\u001b[1;33m\u001b[0m\u001b[0m\n",
            "\u001b[1;32m~\\.conda\\envs\\keras-gpu\\lib\\site-packages\\tensorflow_core\\python\\util\\nest.py\u001b[0m in \u001b[0;36mmap_structure\u001b[1;34m(func, *structure, **kwargs)\u001b[0m\n\u001b[0;32m    566\u001b[0m \u001b[1;33m\u001b[0m\u001b[0m\n\u001b[0;32m    567\u001b[0m   return pack_sequence_as(\n\u001b[1;32m--> 568\u001b[1;33m       \u001b[0mstructure\u001b[0m\u001b[1;33m[\u001b[0m\u001b[1;36m0\u001b[0m\u001b[1;33m]\u001b[0m\u001b[1;33m,\u001b[0m \u001b[1;33m[\u001b[0m\u001b[0mfunc\u001b[0m\u001b[1;33m(\u001b[0m\u001b[1;33m*\u001b[0m\u001b[0mx\u001b[0m\u001b[1;33m)\u001b[0m \u001b[1;32mfor\u001b[0m \u001b[0mx\u001b[0m \u001b[1;32min\u001b[0m \u001b[0mentries\u001b[0m\u001b[1;33m]\u001b[0m\u001b[1;33m,\u001b[0m\u001b[1;33m\u001b[0m\u001b[1;33m\u001b[0m\u001b[0m\n\u001b[0m\u001b[0;32m    569\u001b[0m       expand_composites=expand_composites)\n\u001b[0;32m    570\u001b[0m \u001b[1;33m\u001b[0m\u001b[0m\n",
            "\u001b[1;32m~\\.conda\\envs\\keras-gpu\\lib\\site-packages\\tensorflow_core\\python\\util\\nest.py\u001b[0m in \u001b[0;36m<listcomp>\u001b[1;34m(.0)\u001b[0m\n\u001b[0;32m    566\u001b[0m \u001b[1;33m\u001b[0m\u001b[0m\n\u001b[0;32m    567\u001b[0m   return pack_sequence_as(\n\u001b[1;32m--> 568\u001b[1;33m       \u001b[0mstructure\u001b[0m\u001b[1;33m[\u001b[0m\u001b[1;36m0\u001b[0m\u001b[1;33m]\u001b[0m\u001b[1;33m,\u001b[0m \u001b[1;33m[\u001b[0m\u001b[0mfunc\u001b[0m\u001b[1;33m(\u001b[0m\u001b[1;33m*\u001b[0m\u001b[0mx\u001b[0m\u001b[1;33m)\u001b[0m \u001b[1;32mfor\u001b[0m \u001b[0mx\u001b[0m \u001b[1;32min\u001b[0m \u001b[0mentries\u001b[0m\u001b[1;33m]\u001b[0m\u001b[1;33m,\u001b[0m\u001b[1;33m\u001b[0m\u001b[1;33m\u001b[0m\u001b[0m\n\u001b[0m\u001b[0;32m    569\u001b[0m       expand_composites=expand_composites)\n\u001b[0;32m    570\u001b[0m \u001b[1;33m\u001b[0m\u001b[0m\n",
            "\u001b[1;32m~\\.conda\\envs\\keras-gpu\\lib\\site-packages\\tensorflow_core\\python\\keras\\engine\\training_v2_utils.py\u001b[0m in \u001b[0;36m_non_none_constant_value\u001b[1;34m(v)\u001b[0m\n\u001b[0;32m    128\u001b[0m \u001b[1;33m\u001b[0m\u001b[0m\n\u001b[0;32m    129\u001b[0m \u001b[1;32mdef\u001b[0m \u001b[0m_non_none_constant_value\u001b[0m\u001b[1;33m(\u001b[0m\u001b[0mv\u001b[0m\u001b[1;33m)\u001b[0m\u001b[1;33m:\u001b[0m\u001b[1;33m\u001b[0m\u001b[1;33m\u001b[0m\u001b[0m\n\u001b[1;32m--> 130\u001b[1;33m   \u001b[0mconstant_value\u001b[0m \u001b[1;33m=\u001b[0m \u001b[0mtensor_util\u001b[0m\u001b[1;33m.\u001b[0m\u001b[0mconstant_value\u001b[0m\u001b[1;33m(\u001b[0m\u001b[0mv\u001b[0m\u001b[1;33m)\u001b[0m\u001b[1;33m\u001b[0m\u001b[1;33m\u001b[0m\u001b[0m\n\u001b[0m\u001b[0;32m    131\u001b[0m   \u001b[1;32mreturn\u001b[0m \u001b[0mconstant_value\u001b[0m \u001b[1;32mif\u001b[0m \u001b[0mconstant_value\u001b[0m \u001b[1;32mis\u001b[0m \u001b[1;32mnot\u001b[0m \u001b[1;32mNone\u001b[0m \u001b[1;32melse\u001b[0m \u001b[0mv\u001b[0m\u001b[1;33m\u001b[0m\u001b[1;33m\u001b[0m\u001b[0m\n\u001b[0;32m    132\u001b[0m \u001b[1;33m\u001b[0m\u001b[0m\n",
            "\u001b[1;32m~\\.conda\\envs\\keras-gpu\\lib\\site-packages\\tensorflow_core\\python\\framework\\tensor_util.py\u001b[0m in \u001b[0;36mconstant_value\u001b[1;34m(tensor, partial)\u001b[0m\n\u001b[0;32m    820\u001b[0m   \"\"\"\n\u001b[0;32m    821\u001b[0m   \u001b[1;32mif\u001b[0m \u001b[0misinstance\u001b[0m\u001b[1;33m(\u001b[0m\u001b[0mtensor\u001b[0m\u001b[1;33m,\u001b[0m \u001b[0mops\u001b[0m\u001b[1;33m.\u001b[0m\u001b[0mEagerTensor\u001b[0m\u001b[1;33m)\u001b[0m\u001b[1;33m:\u001b[0m\u001b[1;33m\u001b[0m\u001b[1;33m\u001b[0m\u001b[0m\n\u001b[1;32m--> 822\u001b[1;33m     \u001b[1;32mreturn\u001b[0m \u001b[0mtensor\u001b[0m\u001b[1;33m.\u001b[0m\u001b[0mnumpy\u001b[0m\u001b[1;33m(\u001b[0m\u001b[1;33m)\u001b[0m\u001b[1;33m\u001b[0m\u001b[1;33m\u001b[0m\u001b[0m\n\u001b[0m\u001b[0;32m    823\u001b[0m   \u001b[1;32mif\u001b[0m \u001b[1;32mnot\u001b[0m \u001b[0mis_tensor\u001b[0m\u001b[1;33m(\u001b[0m\u001b[0mtensor\u001b[0m\u001b[1;33m)\u001b[0m\u001b[1;33m:\u001b[0m\u001b[1;33m\u001b[0m\u001b[1;33m\u001b[0m\u001b[0m\n\u001b[0;32m    824\u001b[0m     \u001b[1;32mreturn\u001b[0m \u001b[0mtensor\u001b[0m\u001b[1;33m\u001b[0m\u001b[1;33m\u001b[0m\u001b[0m\n",
            "\u001b[1;32m~\\.conda\\envs\\keras-gpu\\lib\\site-packages\\tensorflow_core\\python\\framework\\ops.py\u001b[0m in \u001b[0;36mnumpy\u001b[1;34m(self)\u001b[0m\n\u001b[0;32m    940\u001b[0m     \"\"\"\n\u001b[0;32m    941\u001b[0m     \u001b[1;31m# TODO(slebedev): Consider avoiding a copy for non-CPU or remote tensors.\u001b[0m\u001b[1;33m\u001b[0m\u001b[1;33m\u001b[0m\u001b[1;33m\u001b[0m\u001b[0m\n\u001b[1;32m--> 942\u001b[1;33m     \u001b[0mmaybe_arr\u001b[0m \u001b[1;33m=\u001b[0m \u001b[0mself\u001b[0m\u001b[1;33m.\u001b[0m\u001b[0m_numpy\u001b[0m\u001b[1;33m(\u001b[0m\u001b[1;33m)\u001b[0m  \u001b[1;31m# pylint: disable=protected-access\u001b[0m\u001b[1;33m\u001b[0m\u001b[1;33m\u001b[0m\u001b[0m\n\u001b[0m\u001b[0;32m    943\u001b[0m     \u001b[1;32mreturn\u001b[0m \u001b[0mmaybe_arr\u001b[0m\u001b[1;33m.\u001b[0m\u001b[0mcopy\u001b[0m\u001b[1;33m(\u001b[0m\u001b[1;33m)\u001b[0m \u001b[1;32mif\u001b[0m \u001b[0misinstance\u001b[0m\u001b[1;33m(\u001b[0m\u001b[0mmaybe_arr\u001b[0m\u001b[1;33m,\u001b[0m \u001b[0mnp\u001b[0m\u001b[1;33m.\u001b[0m\u001b[0mndarray\u001b[0m\u001b[1;33m)\u001b[0m \u001b[1;32melse\u001b[0m \u001b[0mmaybe_arr\u001b[0m\u001b[1;33m\u001b[0m\u001b[1;33m\u001b[0m\u001b[0m\n\u001b[0;32m    944\u001b[0m \u001b[1;33m\u001b[0m\u001b[0m\n",
            "\u001b[1;32m~\\.conda\\envs\\keras-gpu\\lib\\site-packages\\tensorflow_core\\python\\framework\\ops.py\u001b[0m in \u001b[0;36m_numpy\u001b[1;34m(self)\u001b[0m\n\u001b[0;32m    906\u001b[0m     \u001b[1;31m# pylint: disable=protected-access\u001b[0m\u001b[1;33m\u001b[0m\u001b[1;33m\u001b[0m\u001b[1;33m\u001b[0m\u001b[0m\n\u001b[0;32m    907\u001b[0m     \u001b[1;32mtry\u001b[0m\u001b[1;33m:\u001b[0m\u001b[1;33m\u001b[0m\u001b[1;33m\u001b[0m\u001b[0m\n\u001b[1;32m--> 908\u001b[1;33m       \u001b[1;32mreturn\u001b[0m \u001b[0mself\u001b[0m\u001b[1;33m.\u001b[0m\u001b[0m_numpy_internal\u001b[0m\u001b[1;33m(\u001b[0m\u001b[1;33m)\u001b[0m\u001b[1;33m\u001b[0m\u001b[1;33m\u001b[0m\u001b[0m\n\u001b[0m\u001b[0;32m    909\u001b[0m     \u001b[1;32mexcept\u001b[0m \u001b[0mcore\u001b[0m\u001b[1;33m.\u001b[0m\u001b[0m_NotOkStatusException\u001b[0m \u001b[1;32mas\u001b[0m \u001b[0me\u001b[0m\u001b[1;33m:\u001b[0m\u001b[1;33m\u001b[0m\u001b[1;33m\u001b[0m\u001b[0m\n\u001b[0;32m    910\u001b[0m       \u001b[0msix\u001b[0m\u001b[1;33m.\u001b[0m\u001b[0mraise_from\u001b[0m\u001b[1;33m(\u001b[0m\u001b[0mcore\u001b[0m\u001b[1;33m.\u001b[0m\u001b[0m_status_to_exception\u001b[0m\u001b[1;33m(\u001b[0m\u001b[0me\u001b[0m\u001b[1;33m.\u001b[0m\u001b[0mcode\u001b[0m\u001b[1;33m,\u001b[0m \u001b[0me\u001b[0m\u001b[1;33m.\u001b[0m\u001b[0mmessage\u001b[0m\u001b[1;33m)\u001b[0m\u001b[1;33m,\u001b[0m \u001b[1;32mNone\u001b[0m\u001b[1;33m)\u001b[0m\u001b[1;33m\u001b[0m\u001b[1;33m\u001b[0m\u001b[0m\n",
            "\u001b[1;31mKeyboardInterrupt\u001b[0m: "
          ]
        }
      ]
    },
    {
      "cell_type": "code",
      "metadata": {
        "colab": {
          "base_uri": "https://localhost:8080/",
          "height": 369
        },
        "hidden": true,
        "id": "AwMrOy8Qqtu3",
        "scrolled": true,
        "outputId": "ca916af5-040d-4d61-8639-ff0574e1ff71"
      },
      "source": [
        "# Plot training & validation accuracy values\n",
        "fig = plt.figure(figsize=(10,5))\n",
        "ax = fig.add_subplot(1,2,1, title = 'Model accuracy', ylabel= 'Accuracy')\n",
        "plt.plot(history.history['accuracy'])\n",
        "plt.plot(history.history['val_accuracy'])\n",
        "plt.legend(['Train', 'Test'], loc='upper left')\n",
        "\n",
        "# Plot training & validation loss values\n",
        "ax = fig.add_subplot(1,2,2, title = 'Model loss', ylabel= 'Loss')\n",
        "plt.plot(history.history['loss'])\n",
        "plt.plot(history.history['val_loss'])\n",
        "plt.legend(['Train', 'Test'], loc='upper left')\n",
        "\n",
        "plt.tight_layout()\n",
        "plt.show()"
      ],
      "execution_count": null,
      "outputs": [
        {
          "output_type": "display_data",
          "data": {
            "image/png": "[encoded data removed]",
            "text/plain": [
              "<Figure size 720x360 with 2 Axes>"
            ]
          },
          "metadata": {
            "tags": [],
            "needs_background": "light"
          }
        }
      ]
    },
    {
      "cell_type": "code",
      "metadata": {
        "hidden": true,
        "id": "OdnZx7KsLk6p"
      },
      "source": [
        "X = X.reshape(-1, n_w, n_h, n_c)\n",
        "\n",
        "from sklearn.model_selection import train_test_split\n",
        "X_train, X_test, Y_train, Y_test = train_test_split(X,Y, random_state=0, test_size=.25 )\n",
        "# X_c_train, X_c_test, Y_c_train, Y_c_test = train_test_split(X,Y_c, random_state=0, test_size=.25 )"
      ],
      "execution_count": null,
      "outputs": []
    },
    {
      "cell_type": "markdown",
      "metadata": {
        "id": "4Mo383KWh4Th"
      },
      "source": [
        "# Transfer learning: Pre-trained Models"
      ]
    },
    {
      "cell_type": "code",
      "metadata": {
        "ExecuteTime": {
          "end_time": "2020-05-19T22:30:14.538522Z",
          "start_time": "2020-05-19T22:30:12.054941Z"
        },
        "id": "Qg78ROnKLk6v"
      },
      "source": [
        "# We need to format the data according to the inputs of VGG16\n",
        "\n",
        "from tensorflow.keras.preprocessing.image import ImageDataGenerator\n",
        "from tensorflow.keras.applications.vgg16 import preprocess_input, VGG16\n",
        "X_3c = np.dstack([X]*3).reshape(-1, n_w, n_h, 3)\n",
        "X_vgg16_3c = preprocess_input(X_3c)\n",
        "Y_c = np.argmax(Y,axis=1)\n",
        "\n",
        "train_datagen = ImageDataGenerator(rescale=1./255.,\n",
        "                                   shear_range=0.2,\n",
        "                                   zoom_range=0.2,\n",
        "                                   horizontal_flip=True, \n",
        "                                   vertical_flip=True, \n",
        "                                   rotation_range=180, \n",
        "                                   validation_split=0.5)\n",
        "\n",
        "train_generator = train_datagen.flow( X_vgg16_3c, Y_c, \n",
        "                                     batch_size=batch_size,\n",
        "                                     shuffle=True, \n",
        "                                     subset='training')\n",
        "\n",
        "validation_generator = train_datagen.flow( X_vgg16_3c, Y_c, \n",
        "                                     batch_size=batch_size,\n",
        "                                     shuffle=True, \n",
        "                                     subset='validation')"
      ],
      "execution_count": null,
      "outputs": []
    },
    {
      "cell_type": "markdown",
      "metadata": {
        "heading_collapsed": true,
        "id": "FKhvM6r4Lk6y"
      },
      "source": [
        "## Pretrained VGG16 as a feature extractor"
      ]
    },
    {
      "cell_type": "code",
      "metadata": {
        "ExecuteTime": {
          "end_time": "2020-05-19T22:26:41.804615Z",
          "start_time": "2020-05-19T22:26:38.214542Z"
        },
        "colab": {
          "base_uri": "https://localhost:8080/",
          "height": 34
        },
        "hidden": true,
        "id": "xI2uP8tT-gSG",
        "outputId": "47f92916-3034-4291-8040-3efc1c3a15d7"
      },
      "source": [
        "from tensorflow.keras.applications import VGG16\n",
        "from tensorflow.keras.preprocessing import image\n",
        "from tensorflow.keras import layers, models, optimizers, losses\n",
        "\n",
        "# create the base pre-trained model\n",
        "vgg16_base = VGG16(weights='imagenet', include_top=False, \n",
        "              input_shape=(n_w, n_h,3), \n",
        "              )\n",
        "\n",
        "vgg16_base.trainable = False\n",
        "vgg16_base.trainable"
      ],
      "execution_count": null,
      "outputs": [
        {
          "output_type": "execute_result",
          "data": {
            "text/plain": [
              "False"
            ]
          },
          "metadata": {
            "tags": []
          },
          "execution_count": 9
        }
      ]
    },
    {
      "cell_type": "code",
      "metadata": {
        "ExecuteTime": {
          "end_time": "2020-05-19T22:26:52.425066Z",
          "start_time": "2020-05-19T22:26:52.412819Z"
        },
        "hidden": true,
        "id": "wJprDy5NLk62",
        "outputId": "d9c4fce0-6ca0-4af4-a59a-37487a8e0ee1"
      },
      "source": [
        "vgg16_base_out = vgg16_base.layers[-1].output_shape[1:]\n",
        "n_features = np.prod(vgg16_base_out)\n",
        "vgg16_base_out"
      ],
      "execution_count": null,
      "outputs": [
        {
          "output_type": "execute_result",
          "data": {
            "text/plain": [
              "(3, 3, 512)"
            ]
          },
          "metadata": {
            "tags": []
          },
          "execution_count": 10
        }
      ]
    },
    {
      "cell_type": "code",
      "metadata": {
        "ExecuteTime": {
          "end_time": "2020-05-19T22:27:40.746557Z",
          "start_time": "2020-05-19T22:27:40.733665Z"
        },
        "hidden": true,
        "id": "S6GmNzQaLk66"
      },
      "source": [
        "'''\n",
        "This function is to exctract features from the images. \n",
        "This is done based VGG16 convnet. \n",
        "This function does the following\n",
        "\n",
        "X, Y => f(X), Y\n",
        "\n",
        "where f(x) is the feasures extracted from the images. \n",
        "\n",
        "'''\n",
        "\n",
        "def extract_features(network, generator, sample_count):\n",
        "    ## This is set based on the shape of the last layer of the VGG16\n",
        "    features = np.zeros(shape=(sample_count, vgg16_base_out[0], vgg16_base_out[1], vgg16_base_out[2] ))\n",
        "    labels = np.zeros(shape=(sample_count))\n",
        "\n",
        "    i = 0\n",
        "    for inputs_batch, labels_batch in generator:\n",
        "        features_batch = network.predict(inputs_batch)\n",
        "#         print(labels_batch.shape)\n",
        "        features[i * batch_size : (i + 1) * batch_size] = features_batch\n",
        "        labels[i * batch_size : (i + 1) * batch_size] = labels_batch\n",
        "        i += 1\n",
        "#         print(i)\n",
        "        if i * batch_size >= sample_count:\n",
        "            break\n",
        "    return features, labels"
      ],
      "execution_count": null,
      "outputs": []
    },
    {
      "cell_type": "code",
      "metadata": {
        "ExecuteTime": {
          "end_time": "2020-05-19T22:28:34.250234Z",
          "start_time": "2020-05-19T22:27:54.597822Z"
        },
        "hidden": true,
        "id": "nSID_2PLLk68",
        "outputId": "d424bf46-8107-42fd-feca-af94b84fe00a"
      },
      "source": [
        "%%time \n",
        "train_features, train_labels = extract_features(vgg16_base, train_generator, 20*batch_size)\n",
        "validation_features, validation_labels = extract_features(vgg16_base, validation_generator, 10*batch_size)\n",
        "\n",
        "## The data needs to be flattened. \n",
        "train_features = np.reshape(train_features, (20*batch_size, n_features))\n",
        "validation_features = np.reshape(validation_features, (10*batch_size, n_features ))"
      ],
      "execution_count": null,
      "outputs": [
        {
          "output_type": "stream",
          "text": [
            "Wall time: 39.6 s\n"
          ],
          "name": "stdout"
        }
      ]
    },
    {
      "cell_type": "code",
      "metadata": {
        "ExecuteTime": {
          "end_time": "2020-05-19T22:36:27.973849Z",
          "start_time": "2020-05-19T22:36:27.615771Z"
        },
        "hidden": true,
        "id": "ENbVeIy9Lk6_",
        "outputId": "6fcee5aa-ca97-4a10-df13-8f5ec0da4509"
      },
      "source": [
        "'''\n",
        "Now let's make our new model.\n",
        "'''\n",
        "feature_based_model = models.Sequential()\n",
        "\n",
        "# feature_based_model.add(conv_base)\n",
        "\n",
        "# feature_based_model.add(layers.Flatten())\n",
        "\n",
        "feature_based_model.add(layers.Dense(256, activation='relu', input_dim=3 * 3 * 512))\n",
        "# feature_based_model.add(layers.Dropout(0.5))\n",
        "\n",
        "feature_based_model.add(layers.Dense(3, activation='softmax'))\n",
        "\n",
        "feature_based_model.compile(loss=tf.keras.losses.sparse_categorical_crossentropy, \n",
        "             optimizer=tf.keras.optimizers.SGD(lr=0.01, decay=1e-6, momentum=0.9, nesterov=True), \n",
        "             metrics=['accuracy'])\n",
        "\n",
        "pre_trained_model.summary()"
      ],
      "execution_count": null,
      "outputs": [
        {
          "output_type": "stream",
          "text": [
            "Model: \"sequential_9\"\n",
            "_________________________________________________________________\n",
            "Layer (type)                 Output Shape              Param #   \n",
            "=================================================================\n",
            "dense_18 (Dense)             (None, 256)               1179904   \n",
            "_________________________________________________________________\n",
            "dense_19 (Dense)             (None, 3)                 771       \n",
            "=================================================================\n",
            "Total params: 1,180,675\n",
            "Trainable params: 1,180,675\n",
            "Non-trainable params: 0\n",
            "_________________________________________________________________\n"
          ],
          "name": "stdout"
        }
      ]
    },
    {
      "cell_type": "code",
      "metadata": {
        "ExecuteTime": {
          "end_time": "2020-05-19T22:36:57.054148Z",
          "start_time": "2020-05-19T22:36:28.553092Z"
        },
        "hidden": true,
        "id": "KoUtZqScLk7B"
      },
      "source": [
        "history = feature_based_model.fit(train_features, train_labels, \n",
        "                                epochs=100, \n",
        "                                batch_size=batch_size, \n",
        "                                validation_data= (validation_features, validation_labels), \n",
        "#                                 callbacks=my_callbacks, \n",
        "                                verbose=0 )"
      ],
      "execution_count": null,
      "outputs": []
    },
    {
      "cell_type": "code",
      "metadata": {
        "ExecuteTime": {
          "end_time": "2020-05-19T22:36:59.774546Z",
          "start_time": "2020-05-19T22:36:58.940140Z"
        },
        "hidden": true,
        "id": "XFWsG6KLLk7C",
        "outputId": "e6de8434-528f-4d59-85fe-144785913026"
      },
      "source": [
        "fig = plt.figure(figsize=(13, 5))\n",
        "ax  = fig.add_subplot(1,2,1, title='Accuracy')\n",
        "plt.plot(history.history['val_accuracy'], label = 'test accuracy')\n",
        "plt.plot(history.history['accuracy'], label = 'train accuracy')\n",
        "plt.legend(loc=0)\n",
        "\n",
        "ax  = fig.add_subplot(1,2,2, title='Loss')\n",
        "plt.plot(history.history['val_loss'], label = 'test loss')\n",
        "plt.plot(history.history['loss'], label = 'train loss')\n",
        "plt.legend(loc=0)\n",
        "\n",
        "plt.tight_layout()\n",
        "plt.show()\n"
      ],
      "execution_count": null,
      "outputs": [
        {
          "output_type": "display_data",
          "data": {
            "image/png": "[encoded data removed]",
            "text/plain": [
              "<Figure size 936x360 with 2 Axes>"
            ]
          },
          "metadata": {
            "tags": [],
            "needs_background": "light"
          }
        }
      ]
    },
    {
      "cell_type": "markdown",
      "metadata": {
        "heading_collapsed": true,
        "id": "v0o77ZOiLk7D"
      },
      "source": [
        "## Pretrained VGG16 + classifier at the end"
      ]
    },
    {
      "cell_type": "code",
      "metadata": {
        "ExecuteTime": {
          "end_time": "2020-05-19T22:37:46.503221Z",
          "start_time": "2020-05-19T22:37:45.653888Z"
        },
        "hidden": true,
        "id": "0sNr9-O_Lk7E"
      },
      "source": [
        "from tensorflow.keras.applications import VGG16\n",
        "from tensorflow.keras.preprocessing import image\n",
        "from tensorflow.keras import layers, models, optimizers, losses\n",
        "\n",
        "# create the base pre-trained model\n",
        "vgg16_base = VGG16(weights='imagenet', include_top=False, \n",
        "              input_shape=(n_w, n_h,3), \n",
        "              )\n",
        "\n",
        "vgg16_base.trainable = False\n"
      ],
      "execution_count": null,
      "outputs": []
    },
    {
      "cell_type": "code",
      "metadata": {
        "ExecuteTime": {
          "end_time": "2020-05-19T22:45:08.872560Z",
          "start_time": "2020-05-19T22:45:08.411936Z"
        },
        "hidden": true,
        "id": "DRD7_uc_Lk7G",
        "outputId": "02789a24-ae79-4244-8b08-b9e4f43852a4"
      },
      "source": [
        "'''\n",
        "Now let's make our new model.\n",
        "'''\n",
        "pre_trained_model = models.Sequential()\n",
        "\n",
        "pre_trained_model.add(vgg16_base)\n",
        "\n",
        "pre_trained_model.add(layers.Flatten())\n",
        "\n",
        "pre_trained_model.add(layers.Dense(256, activation='relu' ))\n",
        "# pre_trained_model.add(layers.Dropout(0.5))\n",
        "\n",
        "pre_trained_model.add(layers.Dense(3, activation='softmax'))\n",
        "\n",
        "pre_trained_model.compile(loss=tf.keras.losses.mean_squared_error, \n",
        "             optimizer=tf.keras.optimizers.SGD(lr=0.01, decay=1e-6, momentum=0.9, nesterov=True), \n",
        "             metrics=['accuracy'])\n",
        "\n",
        "pre_trained_model.summary()"
      ],
      "execution_count": null,
      "outputs": [
        {
          "output_type": "stream",
          "text": [
            "Model: \"sequential_12\"\n",
            "_________________________________________________________________\n",
            "Layer (type)                 Output Shape              Param #   \n",
            "=================================================================\n",
            "vgg16 (Model)                (None, 3, 3, 512)         14714688  \n",
            "_________________________________________________________________\n",
            "flatten_1 (Flatten)          (None, 4608)              0         \n",
            "_________________________________________________________________\n",
            "dense_22 (Dense)             (None, 256)               1179904   \n",
            "_________________________________________________________________\n",
            "dense_23 (Dense)             (None, 3)                 771       \n",
            "=================================================================\n",
            "Total params: 15,895,363\n",
            "Trainable params: 1,180,675\n",
            "Non-trainable params: 14,714,688\n",
            "_________________________________________________________________\n"
          ],
          "name": "stdout"
        }
      ]
    },
    {
      "cell_type": "code",
      "metadata": {
        "ExecuteTime": {
          "end_time": "2020-05-19T22:40:10.237524Z",
          "start_time": "2020-05-19T22:40:09.708464Z"
        },
        "colab": {
          "base_uri": "https://localhost:8080/",
          "height": 289
        },
        "hidden": true,
        "id": "YlO8LDNTCGkw",
        "outputId": "2b261dc8-fa2e-4b33-e2c8-38dc866fe768"
      },
      "source": [
        "model = models.Sequential()\n",
        "model.add(vgg16_base)\n",
        "model.add(layers.Flatten())\n",
        "model.add(layers.Dense(256, activation='relu'))\n",
        "pre_trained_model.add(layers.Dropout(0.5))\n",
        "model.add(layers.Dense(3, activation='sigmoid'))\n",
        "\n",
        "model.compile(optimizer=optimizers.RMSprop(lr=2e-5), \n",
        "              loss='categorical_crossentropy',\n",
        "              metrics=['accuracy'])\n",
        "\n",
        "\n",
        "model.summary()"
      ],
      "execution_count": null,
      "outputs": [
        {
          "output_type": "stream",
          "text": [
            "Model: \"sequential_10\"\n",
            "_________________________________________________________________\n",
            "Layer (type)                 Output Shape              Param #   \n",
            "=================================================================\n",
            "vgg16 (Model)                (None, 3, 3, 512)         14714688  \n",
            "_________________________________________________________________\n",
            "flatten (Flatten)            (None, 4608)              0         \n",
            "_________________________________________________________________\n",
            "dense_20 (Dense)             (None, 256)               1179904   \n",
            "_________________________________________________________________\n",
            "dense_21 (Dense)             (None, 3)                 771       \n",
            "=================================================================\n",
            "Total params: 15,895,363\n",
            "Trainable params: 1,180,675\n",
            "Non-trainable params: 14,714,688\n",
            "_________________________________________________________________\n"
          ],
          "name": "stdout"
        }
      ]
    },
    {
      "cell_type": "code",
      "metadata": {
        "ExecuteTime": {
          "end_time": "2020-05-19T22:40:23.979284Z",
          "start_time": "2020-05-19T22:40:23.971191Z"
        },
        "hidden": true,
        "id": "C-9eQ4X4Lk7M",
        "outputId": "7ea63c9d-c7fc-4911-e331-8241abbb5c2d"
      },
      "source": [
        "print(vgg16_base.trainable)"
      ],
      "execution_count": null,
      "outputs": [
        {
          "output_type": "stream",
          "text": [
            "False\n"
          ],
          "name": "stdout"
        }
      ]
    },
    {
      "cell_type": "code",
      "metadata": {
        "ExecuteTime": {
          "end_time": "2020-05-19T22:43:19.543704Z",
          "start_time": "2020-05-19T22:43:18.761281Z"
        },
        "hidden": true,
        "id": "HvSKExIBLk7N",
        "outputId": "20db3169-5b51-4769-ca67-823123bdcd8b"
      },
      "source": [
        "train_generator[0][0].shape"
      ],
      "execution_count": null,
      "outputs": [
        {
          "output_type": "execute_result",
          "data": {
            "text/plain": [
              "(128, 100, 100, 3)"
            ]
          },
          "metadata": {
            "tags": []
          },
          "execution_count": 45
        }
      ]
    },
    {
      "cell_type": "code",
      "metadata": {
        "ExecuteTime": {
          "end_time": "2020-05-19T22:46:15.031851Z",
          "start_time": "2020-05-19T22:45:34.787657Z"
        },
        "hidden": true,
        "id": "aBWuEbd-EZjT",
        "outputId": "f1b9964a-849f-4d9a-f0f7-117065edd6f8"
      },
      "source": [
        "%%time\n",
        "############### Training the model\n",
        "\n",
        "history = pre_trained_model.fit(train_generator, \n",
        "                    steps_per_epoch  = stp_epch, \n",
        "                    validation_data  = validation_generator,\n",
        "                    validation_steps = 5, \n",
        "#                     callbacks = my_callbacks, \n",
        "                    verbose = 1, \n",
        "                    epochs = 5)"
      ],
      "execution_count": null,
      "outputs": [
        {
          "output_type": "stream",
          "text": [
            "WARNING:tensorflow:sample_weight modes were coerced from\n",
            "  ...\n",
            "    to  \n",
            "  ['...']\n",
            "WARNING:tensorflow:sample_weight modes were coerced from\n",
            "  ...\n",
            "    to  \n",
            "  ['...']\n",
            "Train for 100 steps, validate for 5 steps\n",
            "Epoch 1/5\n",
            " 40/100 [===========>..................] - ETA: 57s - loss: 0.3014 - accuracy: 0.3344WARNING:tensorflow:Your input ran out of data; interrupting training. Make sure that your dataset or generator can generate at least `steps_per_epoch * epochs` batches (in this case, 500 batches). You may need to use the repeat() function when building your dataset.\n",
            " 40/100 [===========>..................] - ETA: 57s - loss: 0.3014 - accuracy: 0.3344Wall time: 40.2 s\n"
          ],
          "name": "stdout"
        }
      ]
    },
    {
      "cell_type": "code",
      "metadata": {
        "ExecuteTime": {
          "end_time": "2020-05-19T22:47:28.440443Z",
          "start_time": "2020-05-19T22:47:27.723297Z"
        },
        "hidden": true,
        "id": "xx3XWvgJ-42A",
        "outputId": "70333871-f403-4eed-ee4c-49f6419e44ec"
      },
      "source": [
        "# Plot training & validation accuracy values\n",
        "fig = plt.figure(figsize=(10,5))\n",
        "ax = fig.add_subplot(1,2,1, title = 'Model accuracy', ylabel= 'Accuracy')\n",
        "plt.plot(history.history['accuracy'])\n",
        "plt.plot(history.history['val_accuracy'])\n",
        "plt.legend(['Train', 'Test'], loc='upper left')\n",
        "\n",
        "# Plot training & validation loss values\n",
        "ax = fig.add_subplot(1,2,2, title = 'Model loss', ylabel= 'Loss')\n",
        "plt.plot(history.history['loss'])\n",
        "plt.plot(history.history['val_loss'])\n",
        "plt.legend(['Train', 'Test'], loc='upper left')\n",
        "\n",
        "plt.tight_layout()\n",
        "plt.show()"
      ],
      "execution_count": null,
      "outputs": [
        {
          "output_type": "display_data",
          "data": {
            "image/png": "[encoded data removed]",
            "text/plain": [
              "<Figure size 720x360 with 2 Axes>"
            ]
          },
          "metadata": {
            "tags": [],
            "needs_background": "light"
          }
        }
      ]
    },
    {
      "cell_type": "code",
      "metadata": {
        "hidden": true,
        "id": "zTIhJTQ-Lk7Q"
      },
      "source": [
        ""
      ],
      "execution_count": null,
      "outputs": []
    },
    {
      "cell_type": "markdown",
      "metadata": {
        "heading_collapsed": true,
        "id": "60d6-1U1Lk7R"
      },
      "source": [
        "## Partially Freezed conv_base"
      ]
    },
    {
      "cell_type": "code",
      "metadata": {
        "ExecuteTime": {
          "end_time": "2020-05-19T22:49:45.015021Z",
          "start_time": "2020-05-19T22:49:45.002744Z"
        },
        "hidden": true,
        "id": "ftKAVlhDLk7S",
        "outputId": "4d98b415-6d4d-4a8b-faea-f38d67e76013"
      },
      "source": [
        "for layer in model.layers[:-1]:\n",
        "    layer.trainable = False\n",
        "\n",
        "for layer in model.layers:\n",
        "    print(layer.name, layer.trainable  )"
      ],
      "execution_count": null,
      "outputs": [
        {
          "output_type": "stream",
          "text": [
            "vgg16 False\n",
            "flatten False\n",
            "dense_20 False\n",
            "dense_21 True\n"
          ],
          "name": "stdout"
        }
      ]
    },
    {
      "cell_type": "code",
      "metadata": {
        "ExecuteTime": {
          "end_time": "2020-05-19T22:50:06.995540Z",
          "start_time": "2020-05-19T22:50:06.980947Z"
        },
        "colab": {
          "base_uri": "https://localhost:8080/",
          "height": 564
        },
        "hidden": true,
        "id": "hS7t4efbb38u",
        "outputId": "8cebcb3a-9635-4952-bf37-f9abba834be3"
      },
      "source": [
        "vgg16_base.trainble = False\n",
        "\n",
        "# We can freeze all bu the last two layers. \n",
        "for layer in vgg16_base.layers[-3:]:\n",
        "    layer.trainable = True\n",
        "\n",
        "## We can check which layers are traible. \n",
        "i=0    \n",
        "for layer in vgg16_base.layers:\n",
        "    i+=1\n",
        "    print('Layer {} is trainable: {}'.format(i,layer.trainable)  )    "
      ],
      "execution_count": null,
      "outputs": [
        {
          "output_type": "stream",
          "text": [
            "Layer 1 is trainable: False\n",
            "Layer 2 is trainable: False\n",
            "Layer 3 is trainable: False\n",
            "Layer 4 is trainable: False\n",
            "Layer 5 is trainable: False\n",
            "Layer 6 is trainable: False\n",
            "Layer 7 is trainable: False\n",
            "Layer 8 is trainable: False\n",
            "Layer 9 is trainable: False\n",
            "Layer 10 is trainable: False\n",
            "Layer 11 is trainable: False\n",
            "Layer 12 is trainable: False\n",
            "Layer 13 is trainable: False\n",
            "Layer 14 is trainable: False\n",
            "Layer 15 is trainable: False\n",
            "Layer 16 is trainable: False\n",
            "Layer 17 is trainable: True\n",
            "Layer 18 is trainable: True\n",
            "Layer 19 is trainable: True\n"
          ],
          "name": "stdout"
        }
      ]
    },
    {
      "cell_type": "code",
      "metadata": {
        "colab": {
          "base_uri": "https://localhost:8080/",
          "height": 34
        },
        "hidden": true,
        "id": "4yjjWmd1s9YU",
        "outputId": "4f8354f6-54b6-43a2-ec84-462d23f52c37"
      },
      "source": [
        "pre_trained_model = models.Sequential()\n",
        "pre_trained_model.add(conv_base)\n",
        "pre_trained_model.add(layers.Flatten())\n",
        "pre_trained_model.add(feature_based_model)\n",
        "\n",
        "pre_trained_model.compile(loss=tf.keras.losses.mean_squared_error, \n",
        "             optimizer=tf.keras.optimizers.SGD(lr=0.01, decay=1e-6, momentum=0.9, nesterov=True), \n",
        "             metrics=['accuracy'])\n",
        "\n",
        "\n",
        "pre_trained_model.summary()"
      ],
      "execution_count": null,
      "outputs": [
        {
          "output_type": "execute_result",
          "data": {
            "text/plain": [
              "(2500,)"
            ]
          },
          "metadata": {
            "tags": []
          },
          "execution_count": 7
        }
      ]
    },
    {
      "cell_type": "code",
      "metadata": {
        "hidden": true,
        "id": "PaML0JDpLk7V"
      },
      "source": [
        "# Even without training, this returns high accuracy. \n",
        "from tensorflow.keras.losses import mean_squared_error\n",
        "from sklearn.metrics import accuracy_score\n",
        "\n",
        "loss = 0\n",
        "acc = 0\n",
        "n_val =10\n",
        "\n",
        "for i in range(n_val):\n",
        "    d = validation_generator[i]\n",
        "    y_prd = pre_trained_model.predict(d[0])\n",
        "\n",
        "    loss += mean_squared_error(y_prd, d[1]).numpy().mean()/n_val\n",
        "    acc += accuracy_score( y_prd.argmax(axis=1),   d[1].argmax(axis=1) )/n_val\n",
        "\n",
        "\n",
        "print(f'The score before training is {acc}.')"
      ],
      "execution_count": null,
      "outputs": []
    },
    {
      "cell_type": "code",
      "metadata": {
        "hidden": true,
        "id": "Gs7s_CLqLk7W"
      },
      "source": [
        "history = pre_trained_model.fit(train_generator, \n",
        "                    steps_per_epoch  = stp_epch, \n",
        "                    validation_data  = validation_generator,\n",
        "                    validation_steps = 5, \n",
        "                    callbacks = my_callbacks, \n",
        "                    verbose = 1, \n",
        "                    epochs = 1)"
      ],
      "execution_count": null,
      "outputs": []
    },
    {
      "cell_type": "code",
      "metadata": {
        "hidden": true,
        "id": "SaiZEeDpLk7W"
      },
      "source": [
        "##############Plotting the result\n",
        "fig = plt.figure(figsize=(13, 5))\n",
        "ax  = fig.add_subplot(1,2,1, title='Accuracy')\n",
        "plt.plot(history.history['val_accuracy'], label = 'test accuracy')\n",
        "plt.plot(history.history['accuracy'], label = 'train accuracy')\n",
        "plt.legend(loc=0)\n",
        "\n",
        "ax  = fig.add_subplot(1,2,2, title='Loss')\n",
        "plt.plot(history.history['val_loss'], label = 'test loss')\n",
        "plt.plot(history.history['loss'], label = 'train loss')\n",
        "plt.legend(loc=0)\n",
        "\n",
        "plt.tight_layout()\n",
        "plt.show()\n"
      ],
      "execution_count": null,
      "outputs": []
    },
    {
      "cell_type": "markdown",
      "metadata": {
        "heading_collapsed": true,
        "id": "wVZ8KtJfLk7X"
      },
      "source": [
        "## Adding more trainable layers\n",
        "Now we can unfreeze more layers and gradually fine tune the conv-base too. "
      ]
    },
    {
      "cell_type": "code",
      "metadata": {
        "ExecuteTime": {
          "end_time": "2020-05-19T22:55:26.438188Z",
          "start_time": "2020-05-19T22:55:26.417945Z"
        },
        "hidden": true,
        "id": "ikaD5bXOLk7Z",
        "outputId": "9f00a61d-c1ec-49d9-9aeb-a4db87d6382a"
      },
      "source": [
        "vgg16_base.trainble = False\n",
        "\n",
        "# We can freeze all bu the last two layers. \n",
        "for layer in vgg16_base.layers[-6:]:\n",
        "    layer.trainable = True\n",
        "\n",
        "## We can check which layers are traible. \n",
        "i=0    \n",
        "for layer in vgg16_base.layers:\n",
        "    i+=1\n",
        "    print('Layer {} is trainable: {}'.format(i,layer.trainable)  )    "
      ],
      "execution_count": null,
      "outputs": [
        {
          "output_type": "stream",
          "text": [
            "Layer 1 is trainable: False\n",
            "Layer 2 is trainable: False\n",
            "Layer 3 is trainable: False\n",
            "Layer 4 is trainable: False\n",
            "Layer 5 is trainable: False\n",
            "Layer 6 is trainable: False\n",
            "Layer 7 is trainable: False\n",
            "Layer 8 is trainable: False\n",
            "Layer 9 is trainable: False\n",
            "Layer 10 is trainable: False\n",
            "Layer 11 is trainable: False\n",
            "Layer 12 is trainable: False\n",
            "Layer 13 is trainable: False\n",
            "Layer 14 is trainable: True\n",
            "Layer 15 is trainable: True\n",
            "Layer 16 is trainable: True\n",
            "Layer 17 is trainable: True\n",
            "Layer 18 is trainable: True\n",
            "Layer 19 is trainable: True\n"
          ],
          "name": "stdout"
        }
      ]
    },
    {
      "cell_type": "code",
      "metadata": {
        "hidden": true,
        "id": "NCfoAgB6Lk7b"
      },
      "source": [
        "pre_trained_model = models.Sequential()\n",
        "pre_trained_model.add(conv_base)\n",
        "pre_trained_model.add(layers.Flatten())\n",
        "pre_trained_model.add(feature_based_model)\n",
        "\n",
        "pre_trained_model.compile(loss=tf.keras.losses.mean_squared_error, \n",
        "             optimizer=tf.keras.optimizers.SGD(lr=0.01, decay=1e-6, momentum=0.9, nesterov=True), \n",
        "             metrics=['accuracy'])\n",
        "\n",
        "\n",
        "# pre_trained_model.summary()\n",
        "\n",
        "history = pre_trained_model.fit(train_generator, \n",
        "                    steps_per_epoch  = stp_epch, \n",
        "                    validation_data  = validation_generator,\n",
        "                    validation_steps = 5, \n",
        "                    callbacks = my_callbacks, \n",
        "                    verbose = 1, \n",
        "                    epochs = 1)"
      ],
      "execution_count": null,
      "outputs": []
    },
    {
      "cell_type": "code",
      "metadata": {
        "hidden": true,
        "id": "PnUEL_7Shn1a"
      },
      "source": [
        "model.save('sample_model.h5')"
      ],
      "execution_count": null,
      "outputs": []
    }
  ]
}