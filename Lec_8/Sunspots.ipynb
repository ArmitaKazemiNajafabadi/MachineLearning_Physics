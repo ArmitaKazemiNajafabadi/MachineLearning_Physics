{
  "nbformat": 4,
  "nbformat_minor": 0,
  "metadata": {
    "colab": {
      "name": "Sunspots.ipynb",
      "version": "0.3.2",
      "provenance": [],
      "include_colab_link": true
    },
    "language_info": {
      "codemirror_mode": {
        "name": "ipython",
        "version": 3
      },
      "file_extension": ".py",
      "mimetype": "text/x-python",
      "name": "python",
      "nbconvert_exporter": "python",
      "pygments_lexer": "ipython3",
      "version": "3.6.8"
    },
    "kernelspec": {
      "name": "python3",
      "display_name": "Python 3"
    },
    "accelerator": "GPU"
  },
  "cells": [
    {
      "cell_type": "markdown",
      "metadata": {
        "id": "view-in-github",
        "colab_type": "text"
      },
      "source": [
        "<a href=\"https://colab.research.google.com/github/sraeisi/MachineLearning_Physics/blob/master/Lec_8/Sunspots.ipynb\" target=\"_parent\"><img src=\"https://colab.research.google.com/assets/colab-badge.svg\" alt=\"Open In Colab\"/></a>"
      ]
    },
    {
      "cell_type": "code",
      "metadata": {
        "ExecuteTime": {
          "end_time": "2019-05-26T08:52:40.004050Z",
          "start_time": "2019-05-26T08:52:26.499502Z"
        },
        "init_cell": true,
        "id": "H7-2Udr4gCLs",
        "colab_type": "code",
        "colab": {}
      },
      "source": [
        "import numpy as np\n",
        "import tensorflow as tf\n",
        "from tensorflow import keras\n",
        "import matplotlib.pyplot as plt\n",
        "import pandas as pd\n",
        "\n",
        "from tensorflow.keras.layers import LSTM, RNN, CuDNNLSTM, GRU, Dense"
      ],
      "execution_count": 0,
      "outputs": []
    },
    {
      "cell_type": "code",
      "metadata": {
        "ExecuteTime": {
          "end_time": "2019-05-26T08:52:40.009026Z",
          "start_time": "2019-05-26T08:52:40.006022Z"
        },
        "init_cell": true,
        "id": "-0kEFBVUgCLw",
        "colab_type": "code",
        "colab": {}
      },
      "source": [
        "n_ts = 6  ## Length of each time sequence or the forcast window\n",
        "n_f = 1\n",
        "n_prediction = 60"
      ],
      "execution_count": 0,
      "outputs": []
    },
    {
      "cell_type": "markdown",
      "metadata": {
        "id": "UFfSLFwHgCLy",
        "colab_type": "text"
      },
      "source": [
        "# Data\n",
        "For this part, we use the sunspot data. You can find more information about this dataset from \n",
        "???\n",
        ". "
      ]
    },
    {
      "cell_type": "code",
      "metadata": {
        "ExecuteTime": {
          "end_time": "2019-05-26T09:07:15.602990Z",
          "start_time": "2019-05-26T09:07:14.988977Z"
        },
        "init_cell": true,
        "id": "kNIkfWN2gCLz",
        "colab_type": "code",
        "colab": {
          "base_uri": "https://localhost:8080/",
          "height": 232
        },
        "outputId": "c7127c5a-85aa-4734-dfca-cd82cb0976dd"
      },
      "source": [
        "# data = pd.read_csv('monthly-sunspots.csv', index_col = 0)\n",
        "import requests, io\n",
        "url = 'https://raw.githubusercontent.com/sraeisi/MachineLearning_Physics/master/Lec_8/monthly-sunspots.csv'\n",
        "c = requests.get(url, stream=True).content\n",
        "data = pd.read_csv(io.BytesIO(c), index_col = 0)\n",
        "data.head()"
      ],
      "execution_count": 53,
      "outputs": [
        {
          "output_type": "execute_result",
          "data": {
            "text/html": [
              "<div>\n",
              "<style scoped>\n",
              "    .dataframe tbody tr th:only-of-type {\n",
              "        vertical-align: middle;\n",
              "    }\n",
              "\n",
              "    .dataframe tbody tr th {\n",
              "        vertical-align: top;\n",
              "    }\n",
              "\n",
              "    .dataframe thead th {\n",
              "        text-align: right;\n",
              "    }\n",
              "</style>\n",
              "<table border=\"1\" class=\"dataframe\">\n",
              "  <thead>\n",
              "    <tr style=\"text-align: right;\">\n",
              "      <th></th>\n",
              "      <th>Sunspots</th>\n",
              "    </tr>\n",
              "    <tr>\n",
              "      <th>Month</th>\n",
              "      <th></th>\n",
              "    </tr>\n",
              "  </thead>\n",
              "  <tbody>\n",
              "    <tr>\n",
              "      <th>1749-01</th>\n",
              "      <td>58.0</td>\n",
              "    </tr>\n",
              "    <tr>\n",
              "      <th>1749-02</th>\n",
              "      <td>62.6</td>\n",
              "    </tr>\n",
              "    <tr>\n",
              "      <th>1749-03</th>\n",
              "      <td>70.0</td>\n",
              "    </tr>\n",
              "    <tr>\n",
              "      <th>1749-04</th>\n",
              "      <td>55.7</td>\n",
              "    </tr>\n",
              "    <tr>\n",
              "      <th>1749-05</th>\n",
              "      <td>85.0</td>\n",
              "    </tr>\n",
              "  </tbody>\n",
              "</table>\n",
              "</div>"
            ],
            "text/plain": [
              "         Sunspots\n",
              "Month            \n",
              "1749-01      58.0\n",
              "1749-02      62.6\n",
              "1749-03      70.0\n",
              "1749-04      55.7\n",
              "1749-05      85.0"
            ]
          },
          "metadata": {
            "tags": []
          },
          "execution_count": 53
        }
      ]
    },
    {
      "cell_type": "code",
      "metadata": {
        "id": "KVmydEwl4Qxq",
        "colab_type": "code",
        "colab": {
          "base_uri": "https://localhost:8080/",
          "height": 51
        },
        "outputId": "aea3d039-a795-4358-b6b1-6af6187e2209"
      },
      "source": [
        "data.iloc[-1]"
      ],
      "execution_count": 54,
      "outputs": [
        {
          "output_type": "execute_result",
          "data": {
            "text/plain": [
              "Sunspots    33.4\n",
              "Name: 1983-12, dtype: float64"
            ]
          },
          "metadata": {
            "tags": []
          },
          "execution_count": 54
        }
      ]
    },
    {
      "cell_type": "code",
      "metadata": {
        "ExecuteTime": {
          "end_time": "2019-05-26T09:09:46.823120Z",
          "start_time": "2019-05-26T09:08:48.398110Z"
        },
        "id": "1oPnIq4zgCL4",
        "colab_type": "code",
        "colab": {
          "base_uri": "https://localhost:8080/",
          "height": 269
        },
        "outputId": "e1062530-130b-4164-c8f9-35e6f694d335"
      },
      "source": [
        "'''\n",
        "Let's first plot the data to see if it does have a trend. \n",
        "'''\n",
        "plt.plot(data.Sunspots)\n",
        "plt.title = 'Sunspots in time'\n",
        "plt.xlabel = 'Time (in month)'\n",
        "plt.ylabel = 'Sunspots'\n",
        "plt.show()"
      ],
      "execution_count": 4,
      "outputs": [
        {
          "output_type": "display_data",
          "data": {
            "image/png": "[encoded data removed]",
            "text/plain": [
              "<Figure size 432x288 with 1 Axes>"
            ]
          },
          "metadata": {
            "tags": []
          }
        }
      ]
    },
    {
      "cell_type": "code",
      "metadata": {
        "ExecuteTime": {
          "end_time": "2019-05-26T09:09:46.892120Z",
          "start_time": "2019-05-26T09:09:46.867126Z"
        },
        "init_cell": true,
        "id": "umRDiS-WgCL7",
        "colab_type": "code",
        "colab": {
          "base_uri": "https://localhost:8080/",
          "height": 34
        },
        "outputId": "077860b6-056c-4d12-d9f1-03eae493ac24"
      },
      "source": [
        "'''\n",
        "As usuall, it is important to standardize/normalize the data. \n",
        "'''\n",
        "\n",
        "print(f'The maximum value is {data.Sunspots.max()}')\n",
        "data.Sunspots = data.Sunspots/data.Sunspots.max()"
      ],
      "execution_count": 57,
      "outputs": [
        {
          "output_type": "stream",
          "text": [
            "The maximum value is 253.8\n"
          ],
          "name": "stdout"
        }
      ]
    },
    {
      "cell_type": "markdown",
      "metadata": {
        "id": "Olv33-QwgCL-",
        "colab_type": "text"
      },
      "source": [
        "## Generating the time-sequences"
      ]
    },
    {
      "cell_type": "code",
      "metadata": {
        "ExecuteTime": {
          "end_time": "2019-05-26T08:52:40.091035Z",
          "start_time": "2019-05-26T08:52:40.085033Z"
        },
        "init_cell": true,
        "id": "c_ewfHi1gCL_",
        "colab_type": "code",
        "colab": {}
      },
      "source": [
        "'''\n",
        "The data in its current format, is not suitable for training a NN. \n",
        "We need to make the time-sequeces. \n",
        "For this, we add new columns to the dataframe and each new col \n",
        "is the same data but shifted. We create n_ts cols to collect\n",
        "all the past n_ts data for each row. \n",
        "The output is a square matrix where each row is a time sequence. \n",
        "We also use the actual value as the target. \n",
        "'''\n",
        "def prepare_time_seqs(data):\n",
        "    output_df = pd.DataFrame()\n",
        "    for i in range(n_ts):\n",
        "        output_df[i] = data.Sunspots.shift(n_ts-i)\n",
        "    output_df['target'] = data.Sunspots        \n",
        "    return output_df\n"
      ],
      "execution_count": 0,
      "outputs": []
    },
    {
      "cell_type": "code",
      "metadata": {
        "ExecuteTime": {
          "end_time": "2019-05-26T09:09:46.964132Z",
          "start_time": "2019-05-26T09:09:46.935165Z"
        },
        "init_cell": true,
        "id": "f3vVsFdGgCMB",
        "colab_type": "code",
        "colab": {
          "base_uri": "https://localhost:8080/",
          "height": 385
        },
        "outputId": "0d268711-637a-4b2a-e334-a99e03170f13"
      },
      "source": [
        "df = prepare_time_seqs(data)\n",
        "df.head(10)"
      ],
      "execution_count": 58,
      "outputs": [
        {
          "output_type": "execute_result",
          "data": {
            "text/html": [
              "<div>\n",
              "<style scoped>\n",
              "    .dataframe tbody tr th:only-of-type {\n",
              "        vertical-align: middle;\n",
              "    }\n",
              "\n",
              "    .dataframe tbody tr th {\n",
              "        vertical-align: top;\n",
              "    }\n",
              "\n",
              "    .dataframe thead th {\n",
              "        text-align: right;\n",
              "    }\n",
              "</style>\n",
              "<table border=\"1\" class=\"dataframe\">\n",
              "  <thead>\n",
              "    <tr style=\"text-align: right;\">\n",
              "      <th></th>\n",
              "      <th>0</th>\n",
              "      <th>1</th>\n",
              "      <th>2</th>\n",
              "      <th>3</th>\n",
              "      <th>4</th>\n",
              "      <th>5</th>\n",
              "      <th>target</th>\n",
              "    </tr>\n",
              "    <tr>\n",
              "      <th>Month</th>\n",
              "      <th></th>\n",
              "      <th></th>\n",
              "      <th></th>\n",
              "      <th></th>\n",
              "      <th></th>\n",
              "      <th></th>\n",
              "      <th></th>\n",
              "    </tr>\n",
              "  </thead>\n",
              "  <tbody>\n",
              "    <tr>\n",
              "      <th>1749-01</th>\n",
              "      <td>NaN</td>\n",
              "      <td>NaN</td>\n",
              "      <td>NaN</td>\n",
              "      <td>NaN</td>\n",
              "      <td>NaN</td>\n",
              "      <td>NaN</td>\n",
              "      <td>0.228526</td>\n",
              "    </tr>\n",
              "    <tr>\n",
              "      <th>1749-02</th>\n",
              "      <td>NaN</td>\n",
              "      <td>NaN</td>\n",
              "      <td>NaN</td>\n",
              "      <td>NaN</td>\n",
              "      <td>NaN</td>\n",
              "      <td>0.228526</td>\n",
              "      <td>0.246651</td>\n",
              "    </tr>\n",
              "    <tr>\n",
              "      <th>1749-03</th>\n",
              "      <td>NaN</td>\n",
              "      <td>NaN</td>\n",
              "      <td>NaN</td>\n",
              "      <td>NaN</td>\n",
              "      <td>0.228526</td>\n",
              "      <td>0.246651</td>\n",
              "      <td>0.275808</td>\n",
              "    </tr>\n",
              "    <tr>\n",
              "      <th>1749-04</th>\n",
              "      <td>NaN</td>\n",
              "      <td>NaN</td>\n",
              "      <td>NaN</td>\n",
              "      <td>0.228526</td>\n",
              "      <td>0.246651</td>\n",
              "      <td>0.275808</td>\n",
              "      <td>0.219464</td>\n",
              "    </tr>\n",
              "    <tr>\n",
              "      <th>1749-05</th>\n",
              "      <td>NaN</td>\n",
              "      <td>NaN</td>\n",
              "      <td>0.228526</td>\n",
              "      <td>0.246651</td>\n",
              "      <td>0.275808</td>\n",
              "      <td>0.219464</td>\n",
              "      <td>0.334909</td>\n",
              "    </tr>\n",
              "    <tr>\n",
              "      <th>1749-06</th>\n",
              "      <td>NaN</td>\n",
              "      <td>0.228526</td>\n",
              "      <td>0.246651</td>\n",
              "      <td>0.275808</td>\n",
              "      <td>0.219464</td>\n",
              "      <td>0.334909</td>\n",
              "      <td>0.328999</td>\n",
              "    </tr>\n",
              "    <tr>\n",
              "      <th>1749-07</th>\n",
              "      <td>0.228526</td>\n",
              "      <td>0.246651</td>\n",
              "      <td>0.275808</td>\n",
              "      <td>0.219464</td>\n",
              "      <td>0.334909</td>\n",
              "      <td>0.328999</td>\n",
              "      <td>0.373522</td>\n",
              "    </tr>\n",
              "    <tr>\n",
              "      <th>1749-08</th>\n",
              "      <td>0.246651</td>\n",
              "      <td>0.275808</td>\n",
              "      <td>0.219464</td>\n",
              "      <td>0.334909</td>\n",
              "      <td>0.328999</td>\n",
              "      <td>0.373522</td>\n",
              "      <td>0.261229</td>\n",
              "    </tr>\n",
              "    <tr>\n",
              "      <th>1749-09</th>\n",
              "      <td>0.275808</td>\n",
              "      <td>0.219464</td>\n",
              "      <td>0.334909</td>\n",
              "      <td>0.328999</td>\n",
              "      <td>0.373522</td>\n",
              "      <td>0.261229</td>\n",
              "      <td>0.299054</td>\n",
              "    </tr>\n",
              "    <tr>\n",
              "      <th>1749-10</th>\n",
              "      <td>0.219464</td>\n",
              "      <td>0.334909</td>\n",
              "      <td>0.328999</td>\n",
              "      <td>0.373522</td>\n",
              "      <td>0.261229</td>\n",
              "      <td>0.299054</td>\n",
              "      <td>0.297478</td>\n",
              "    </tr>\n",
              "  </tbody>\n",
              "</table>\n",
              "</div>"
            ],
            "text/plain": [
              "                0         1         2         3         4         5    target\n",
              "Month                                                                        \n",
              "1749-01       NaN       NaN       NaN       NaN       NaN       NaN  0.228526\n",
              "1749-02       NaN       NaN       NaN       NaN       NaN  0.228526  0.246651\n",
              "1749-03       NaN       NaN       NaN       NaN  0.228526  0.246651  0.275808\n",
              "1749-04       NaN       NaN       NaN  0.228526  0.246651  0.275808  0.219464\n",
              "1749-05       NaN       NaN  0.228526  0.246651  0.275808  0.219464  0.334909\n",
              "1749-06       NaN  0.228526  0.246651  0.275808  0.219464  0.334909  0.328999\n",
              "1749-07  0.228526  0.246651  0.275808  0.219464  0.334909  0.328999  0.373522\n",
              "1749-08  0.246651  0.275808  0.219464  0.334909  0.328999  0.373522  0.261229\n",
              "1749-09  0.275808  0.219464  0.334909  0.328999  0.373522  0.261229  0.299054\n",
              "1749-10  0.219464  0.334909  0.328999  0.373522  0.261229  0.299054  0.297478"
            ]
          },
          "metadata": {
            "tags": []
          },
          "execution_count": 58
        }
      ]
    },
    {
      "cell_type": "code",
      "metadata": {
        "ExecuteTime": {
          "end_time": "2019-05-26T09:09:47.024126Z",
          "start_time": "2019-05-26T09:09:47.001119Z"
        },
        "init_cell": true,
        "id": "UQpmP-CagCME",
        "colab_type": "code",
        "colab": {
          "base_uri": "https://localhost:8080/",
          "height": 232
        },
        "outputId": "baefc50b-0bfe-4edf-9367-7dfcd3599d1f"
      },
      "source": [
        "'''\n",
        "The shift operator creates some NAN values since for the boundary, \n",
        "there's no value to be shifted forward. \n",
        "We can simply drop them. \n",
        "Note that if you want to increase n_ts, dropping the NaN values \n",
        "could result in significant data loss. \n",
        "'''\n",
        "df.dropna(axis=0, inplace=True)\n",
        "df.head()"
      ],
      "execution_count": 60,
      "outputs": [
        {
          "output_type": "execute_result",
          "data": {
            "text/html": [
              "<div>\n",
              "<style scoped>\n",
              "    .dataframe tbody tr th:only-of-type {\n",
              "        vertical-align: middle;\n",
              "    }\n",
              "\n",
              "    .dataframe tbody tr th {\n",
              "        vertical-align: top;\n",
              "    }\n",
              "\n",
              "    .dataframe thead th {\n",
              "        text-align: right;\n",
              "    }\n",
              "</style>\n",
              "<table border=\"1\" class=\"dataframe\">\n",
              "  <thead>\n",
              "    <tr style=\"text-align: right;\">\n",
              "      <th></th>\n",
              "      <th>0</th>\n",
              "      <th>1</th>\n",
              "      <th>2</th>\n",
              "      <th>3</th>\n",
              "      <th>4</th>\n",
              "      <th>5</th>\n",
              "      <th>target</th>\n",
              "    </tr>\n",
              "    <tr>\n",
              "      <th>Month</th>\n",
              "      <th></th>\n",
              "      <th></th>\n",
              "      <th></th>\n",
              "      <th></th>\n",
              "      <th></th>\n",
              "      <th></th>\n",
              "      <th></th>\n",
              "    </tr>\n",
              "  </thead>\n",
              "  <tbody>\n",
              "    <tr>\n",
              "      <th>1749-07</th>\n",
              "      <td>0.228526</td>\n",
              "      <td>0.246651</td>\n",
              "      <td>0.275808</td>\n",
              "      <td>0.219464</td>\n",
              "      <td>0.334909</td>\n",
              "      <td>0.328999</td>\n",
              "      <td>0.373522</td>\n",
              "    </tr>\n",
              "    <tr>\n",
              "      <th>1749-08</th>\n",
              "      <td>0.246651</td>\n",
              "      <td>0.275808</td>\n",
              "      <td>0.219464</td>\n",
              "      <td>0.334909</td>\n",
              "      <td>0.328999</td>\n",
              "      <td>0.373522</td>\n",
              "      <td>0.261229</td>\n",
              "    </tr>\n",
              "    <tr>\n",
              "      <th>1749-09</th>\n",
              "      <td>0.275808</td>\n",
              "      <td>0.219464</td>\n",
              "      <td>0.334909</td>\n",
              "      <td>0.328999</td>\n",
              "      <td>0.373522</td>\n",
              "      <td>0.261229</td>\n",
              "      <td>0.299054</td>\n",
              "    </tr>\n",
              "    <tr>\n",
              "      <th>1749-10</th>\n",
              "      <td>0.219464</td>\n",
              "      <td>0.334909</td>\n",
              "      <td>0.328999</td>\n",
              "      <td>0.373522</td>\n",
              "      <td>0.261229</td>\n",
              "      <td>0.299054</td>\n",
              "      <td>0.297478</td>\n",
              "    </tr>\n",
              "    <tr>\n",
              "      <th>1749-11</th>\n",
              "      <td>0.334909</td>\n",
              "      <td>0.328999</td>\n",
              "      <td>0.373522</td>\n",
              "      <td>0.261229</td>\n",
              "      <td>0.299054</td>\n",
              "      <td>0.297478</td>\n",
              "      <td>0.624901</td>\n",
              "    </tr>\n",
              "  </tbody>\n",
              "</table>\n",
              "</div>"
            ],
            "text/plain": [
              "                0         1         2         3         4         5    target\n",
              "Month                                                                        \n",
              "1749-07  0.228526  0.246651  0.275808  0.219464  0.334909  0.328999  0.373522\n",
              "1749-08  0.246651  0.275808  0.219464  0.334909  0.328999  0.373522  0.261229\n",
              "1749-09  0.275808  0.219464  0.334909  0.328999  0.373522  0.261229  0.299054\n",
              "1749-10  0.219464  0.334909  0.328999  0.373522  0.261229  0.299054  0.297478\n",
              "1749-11  0.334909  0.328999  0.373522  0.261229  0.299054  0.297478  0.624901"
            ]
          },
          "metadata": {
            "tags": []
          },
          "execution_count": 60
        }
      ]
    },
    {
      "cell_type": "code",
      "metadata": {
        "ExecuteTime": {
          "end_time": "2019-05-26T09:10:16.519548Z",
          "start_time": "2019-05-26T09:10:16.510549Z"
        },
        "init_cell": true,
        "id": "MMlanpwRgCMH",
        "colab_type": "code",
        "colab": {
          "base_uri": "https://localhost:8080/",
          "height": 51
        },
        "outputId": "9b2f808b-6343-47d8-96d8-400db3a8a846"
      },
      "source": [
        "'''\n",
        "Next we form the X and Y. \n",
        "It is important to shape X to \n",
        "(n_s, n_ts, n_f)\n",
        "\n",
        "For this example. n_f is one. \n",
        "'''\n",
        "\n",
        "Y = df.target.values\n",
        "X = df.drop('target', axis=1).values\n",
        "print(X.shape)\n",
        "X = X.reshape(-1, n_ts, n_f)\n",
        "X.shape"
      ],
      "execution_count": 61,
      "outputs": [
        {
          "output_type": "stream",
          "text": [
            "(2814, 6)\n"
          ],
          "name": "stdout"
        },
        {
          "output_type": "execute_result",
          "data": {
            "text/plain": [
              "(2814, 6, 1)"
            ]
          },
          "metadata": {
            "tags": []
          },
          "execution_count": 61
        }
      ]
    },
    {
      "cell_type": "code",
      "metadata": {
        "ExecuteTime": {
          "end_time": "2019-05-26T09:10:16.925544Z",
          "start_time": "2019-05-26T09:10:16.921548Z"
        },
        "init_cell": true,
        "id": "t3HG8DoJgCMK",
        "colab_type": "code",
        "colab": {}
      },
      "source": [
        "'''\n",
        "Before generating the train and validation sets, let's \n",
        "hold a portion of the data for prediction. \n",
        "We seperate the data for the last n_prediction \n",
        "months and later test to see how well our model \n",
        "can predict the target for these months. \n",
        "'''\n",
        "X_future = X[-n_prediction:]\n",
        "Y_future = Y[-n_prediction:]\n",
        "\n",
        "X = X[:-n_prediction]\n",
        "Y = Y[:-n_prediction]"
      ],
      "execution_count": 0,
      "outputs": []
    },
    {
      "cell_type": "code",
      "metadata": {
        "ExecuteTime": {
          "end_time": "2019-05-26T09:10:17.315549Z",
          "start_time": "2019-05-26T09:10:17.307553Z"
        },
        "init_cell": true,
        "id": "cFpSnYl6gCMN",
        "colab_type": "code",
        "colab": {
          "base_uri": "https://localhost:8080/",
          "height": 34
        },
        "outputId": "0d6e49b1-89e8-4f66-a595-0e0996d716f9"
      },
      "source": [
        "from sklearn.model_selection import train_test_split\n",
        "X_train, X_test, Y_train, Y_test = train_test_split(X, Y, random_state = 0)\n",
        "print(X_train.shape)"
      ],
      "execution_count": 63,
      "outputs": [
        {
          "output_type": "stream",
          "text": [
            "(2065, 6, 1)\n"
          ],
          "name": "stdout"
        }
      ]
    },
    {
      "cell_type": "markdown",
      "metadata": {
        "id": "-Zi5qcLOgCMQ",
        "colab_type": "text"
      },
      "source": [
        "# Model\n",
        "\n",
        "We train a LSTM model. It is as easy to use the other kind of RNN layers. "
      ]
    },
    {
      "cell_type": "code",
      "metadata": {
        "ExecuteTime": {
          "end_time": "2019-05-26T09:10:46.914541Z",
          "start_time": "2019-05-26T09:10:46.848555Z"
        },
        "id": "uTk8qU6LgCMQ",
        "colab_type": "code",
        "colab": {}
      },
      "source": [
        "model = keras.models.Sequential()"
      ],
      "execution_count": 0,
      "outputs": []
    },
    {
      "cell_type": "code",
      "metadata": {
        "ExecuteTime": {
          "end_time": "2019-05-26T09:10:48.083581Z",
          "start_time": "2019-05-26T09:10:48.078583Z"
        },
        "id": "BhVdKuVmgCMW",
        "colab_type": "code",
        "colab": {}
      },
      "source": [
        "from tensorflow.keras.layers import LSTM, RNN, CuDNNLSTM, GRU, Dense, Dropout"
      ],
      "execution_count": 0,
      "outputs": []
    },
    {
      "cell_type": "code",
      "metadata": {
        "ExecuteTime": {
          "end_time": "2019-05-26T09:10:50.217582Z",
          "start_time": "2019-05-26T09:10:49.544553Z"
        },
        "id": "d9izjDHPgCMY",
        "colab_type": "code",
        "colab": {}
      },
      "source": [
        "\n",
        "# clear(model)\n",
        "model = keras.models.Sequential()\n",
        "model.add(LSTM(64, input_shape =(n_ts, n_f) , \n",
        "               activation='relu', \n",
        "               return_sequences=True) \n",
        "         )\n",
        "\n",
        "model.add(LSTM(32,  activation='relu')  )\n",
        "\n",
        "model.add(Dense(32,  activation='relu')  )\n",
        "\n",
        "model.add(Dense(1,  activation='linear')  )\n",
        "\n",
        "\n",
        "model.compile(loss = keras.losses.mean_squared_error, \n",
        "              optimizer=keras.optimizers.Adam(lr = .001) )\n"
      ],
      "execution_count": 0,
      "outputs": []
    },
    {
      "cell_type": "code",
      "metadata": {
        "ExecuteTime": {
          "end_time": "2019-05-26T09:10:51.082543Z",
          "start_time": "2019-05-26T09:10:51.074554Z"
        },
        "id": "sjcp4LPAgCMc",
        "colab_type": "code",
        "colab": {
          "base_uri": "https://localhost:8080/",
          "height": 274
        },
        "outputId": "4a34504e-5fa7-40ab-90a6-f41b70221f1b"
      },
      "source": [
        "model.summary()"
      ],
      "execution_count": 65,
      "outputs": [
        {
          "output_type": "stream",
          "text": [
            "_________________________________________________________________\n",
            "Layer (type)                 Output Shape              Param #   \n",
            "=================================================================\n",
            "lstm (LSTM)                  (None, 6, 64)             16896     \n",
            "_________________________________________________________________\n",
            "lstm_1 (LSTM)                (None, 32)                12416     \n",
            "_________________________________________________________________\n",
            "dense_2 (Dense)              (None, 32)                1056      \n",
            "_________________________________________________________________\n",
            "dense_3 (Dense)              (None, 1)                 33        \n",
            "=================================================================\n",
            "Total params: 30,401\n",
            "Trainable params: 30,401\n",
            "Non-trainable params: 0\n",
            "_________________________________________________________________\n"
          ],
          "name": "stdout"
        }
      ]
    },
    {
      "cell_type": "code",
      "metadata": {
        "ExecuteTime": {
          "end_time": "2019-05-26T09:11:42.265385Z",
          "start_time": "2019-05-26T09:10:52.199552Z"
        },
        "id": "VJHN_q7vgCMh",
        "colab_type": "code",
        "colab": {
          "base_uri": "https://localhost:8080/",
          "height": 448
        },
        "outputId": "40b81f94-d3d7-4221-852b-70943923c288"
      },
      "source": [
        "history = model.fit(X_train, Y_train, \n",
        "                    epochs=10, batch_size=16, \n",
        "                    verbose=1, validation_data=(X_test, Y_test))"
      ],
      "execution_count": 67,
      "outputs": [
        {
          "output_type": "stream",
          "text": [
            "Train on 2065 samples, validate on 689 samples\n",
            "WARNING:tensorflow:From /usr/local/lib/python3.6/dist-packages/tensorflow/python/ops/math_ops.py:3066: to_int32 (from tensorflow.python.ops.math_ops) is deprecated and will be removed in a future version.\n",
            "Instructions for updating:\n",
            "Use tf.cast instead.\n",
            "Epoch 1/10\n",
            "2065/2065 [==============================] - 5s 2ms/sample - loss: 0.0117 - val_loss: 0.0054\n",
            "Epoch 2/10\n",
            "2065/2065 [==============================] - 4s 2ms/sample - loss: 0.0052 - val_loss: 0.0054\n",
            "Epoch 3/10\n",
            "2065/2065 [==============================] - 4s 2ms/sample - loss: 0.0049 - val_loss: 0.0048\n",
            "Epoch 4/10\n",
            "2065/2065 [==============================] - 4s 2ms/sample - loss: 0.0046 - val_loss: 0.0046\n",
            "Epoch 5/10\n",
            "2065/2065 [==============================] - 4s 2ms/sample - loss: 0.0046 - val_loss: 0.0055\n",
            "Epoch 6/10\n",
            "2065/2065 [==============================] - 4s 2ms/sample - loss: 0.0043 - val_loss: 0.0046\n",
            "Epoch 7/10\n",
            "2065/2065 [==============================] - 4s 2ms/sample - loss: 0.0043 - val_loss: 0.0043\n",
            "Epoch 8/10\n",
            "2065/2065 [==============================] - 4s 2ms/sample - loss: 0.0044 - val_loss: 0.0043\n",
            "Epoch 9/10\n",
            "2065/2065 [==============================] - 4s 2ms/sample - loss: 0.0041 - val_loss: 0.0043\n",
            "Epoch 10/10\n",
            "2065/2065 [==============================] - 4s 2ms/sample - loss: 0.0041 - val_loss: 0.0045\n"
          ],
          "name": "stdout"
        }
      ]
    },
    {
      "cell_type": "code",
      "metadata": {
        "ExecuteTime": {
          "end_time": "2019-05-26T09:16:04.433840Z",
          "start_time": "2019-05-26T09:16:04.295848Z"
        },
        "id": "aEkoUU6hgCMk",
        "colab_type": "code",
        "colab": {
          "base_uri": "https://localhost:8080/",
          "height": 269
        },
        "outputId": "7afb3446-6d06-4a03-f748-fa96690aba18"
      },
      "source": [
        "plt.plot(history.history['loss'], label='in_error')\n",
        "plt.plot(history.history['val_loss'], label='out_error')\n",
        "plt.title = 'Loss of the model'\n",
        "plt.xlabel = 'Time (Epochs)'\n",
        "plt.ylabel = 'Loss'\n",
        "plt.legend(loc=0)\n",
        "plt.show()"
      ],
      "execution_count": 68,
      "outputs": [
        {
          "output_type": "display_data",
          "data": {
            "image/png": "[encoded data removed]",
            "text/plain": [
              "<Figure size 432x288 with 1 Axes>"
            ]
          },
          "metadata": {
            "tags": []
          }
        }
      ]
    },
    {
      "cell_type": "code",
      "metadata": {
        "ExecuteTime": {
          "end_time": "2019-05-26T09:12:38.874660Z",
          "start_time": "2019-05-26T09:12:38.314228Z"
        },
        "id": "92Kai65QgCMp",
        "colab_type": "code",
        "colab": {
          "base_uri": "https://localhost:8080/",
          "height": 286
        },
        "outputId": "70b91938-219d-4fd4-91b8-c42a5861a168"
      },
      "source": [
        "'''\n",
        "Now we use the model to predict the sunspots for the missing month \n",
        "and then compare to the actual values. \n",
        "From the plot it is clear that the predicted values follow the trend, \n",
        "however, there seems to be a delay. \n",
        "'''\n",
        "Y_fut_predicted = model.predict(X_future)\n",
        "plt.plot(Y_future)\n",
        "plt.plot(Y_fut_predicted)\n",
        "plt.legend(loc=0)\n",
        "plt.show()"
      ],
      "execution_count": 69,
      "outputs": [
        {
          "output_type": "stream",
          "text": [
            "No handles with labels found to put in legend.\n"
          ],
          "name": "stderr"
        },
        {
          "output_type": "display_data",
          "data": {
            "image/png": "[encoded data removed]",
            "text/plain": [
              "<Figure size 432x288 with 1 Axes>"
            ]
          },
          "metadata": {
            "tags": []
          }
        }
      ]
    },
    {
      "cell_type": "markdown",
      "metadata": {
        "id": "2ycanrp3gCMt",
        "colab_type": "text"
      },
      "source": [
        "## Faster LSTM\n",
        "\n",
        "Here we use CuDnnLSTM which is much faster and gives similar results."
      ]
    },
    {
      "cell_type": "code",
      "metadata": {
        "ExecuteTime": {
          "end_time": "2019-05-25T08:40:22.668051Z",
          "start_time": "2019-05-25T08:38:44.435957Z"
        },
        "id": "G9ooU_sXgCMu",
        "colab_type": "code",
        "colab": {},
        "outputId": "e75357c0-f7b0-4fc9-e998-c9190987c004"
      },
      "source": [
        "model2 = keras.models.Sequential()\n",
        "model2.add(CuDNNLSTM(64, input_shape =(n_ts, n_f) , \n",
        "                     return_sequences=True)  )\n",
        "\n",
        "model2.add(CuDNNLSTM(32)  )\n",
        "\n",
        "model2.add(Dense(32,  activation='relu')  )\n",
        "\n",
        "model2.add(Dense(1,  activation='linear')  )\n",
        "\n",
        "\n",
        "model2.compile(loss = keras.losses.mean_squared_error, \n",
        "              optimizer=keras.optimizers.Adam(lr = .001) )\n",
        "history2 = model2.fit(X_train, Y_train, epochs=100, \n",
        "                      batch_size=16, verbose=0, \n",
        "                      validation_data=(X_test, Y_test))\n",
        "\n",
        "plt.plot(history2.history['loss'], label='in_error')\n",
        "plt.plot(history2.history['val_loss'], label='out_error')\n",
        "plt.legend(loc=0)\n",
        "plt.title = 'Loss of the model'\n",
        "plt.xlabel = 'Time (Epochs)'\n",
        "plt.ylabel = 'Loss'\n",
        "plt.show()"
      ],
      "execution_count": 0,
      "outputs": [
        {
          "output_type": "display_data",
          "data": {
            "image/png": "[encoded data removed]",
            "text/plain": [
              "<Figure size 432x288 with 1 Axes>"
            ]
          },
          "metadata": {
            "tags": [],
            "needs_background": "light"
          }
        }
      ]
    },
    {
      "cell_type": "code",
      "metadata": {
        "ExecuteTime": {
          "end_time": "2019-05-25T08:42:46.009004Z",
          "start_time": "2019-05-25T08:42:45.267852Z"
        },
        "id": "axdn7odbgCMw",
        "colab_type": "code",
        "colab": {},
        "outputId": "7c8064f7-e614-4bc4-ca3e-a008fecd1c19"
      },
      "source": [
        "Y_fut_predicted = model.predict(X_future)\n",
        "Y_fut_predicted2 = model2.predict(X_future)\n",
        "plt.plot(Y_future, label = 'actual data')\n",
        "plt.plot(Y_fut_predicted, label = 'predicted with 10 epochs')\n",
        "plt.plot(Y_fut_predicted2, label = 'predicted with 100 epochs')\n",
        "plt.legend(loc=0)\n",
        "plt.show()"
      ],
      "execution_count": 0,
      "outputs": [
        {
          "output_type": "display_data",
          "data": {
            "image/png": "[encoded data removed]",
            "text/plain": [
              "<Figure size 432x288 with 1 Axes>"
            ]
          },
          "metadata": {
            "tags": [],
            "needs_background": "light"
          }
        }
      ]
    },
    {
      "cell_type": "markdown",
      "metadata": {
        "id": "4tjKvs6NgCMz",
        "colab_type": "text"
      },
      "source": [
        "## Overfitting \n",
        "\n",
        "It is clear from the loss above that the model is overfitting. We add some dropout to reduce that."
      ]
    },
    {
      "cell_type": "code",
      "metadata": {
        "id": "QAjcAdHEgCMz",
        "colab_type": "code",
        "colab": {}
      },
      "source": [
        "model2 = keras.models.Sequential()\n",
        "model2.add(CuDNNLSTM(64, input_shape =(n_ts, n_f) , \n",
        "                     return_sequences=True)  )\n",
        "#model2.add(Dropout(.1))\n",
        "\n",
        "model2.add(CuDNNLSTM(32)  )\n",
        "model2.add(Dropout(.1))\n",
        "\n",
        "model2.add(Dense(32,  activation='relu')  )\n",
        "model2.add(Dropout(.1))\n",
        "\n",
        "model2.add(Dense(1,  activation='linear')  )\n",
        "\n",
        "\n",
        "model2.compile(loss = keras.losses.mean_squared_error, \n",
        "              optimizer=keras.optimizers.Adam(lr = .001) )\n",
        "history2 = model2.fit(X_train, Y_train, epochs=100, \n",
        "                      batch_size=16, verbose=0, \n",
        "                      validation_data=(X_test, Y_test))\n",
        "\n",
        "plt.plot(history2.history['loss'], label='in_error')\n",
        "plt.plot(history2.history['val_loss'], label='out_error')\n",
        "plt.legend(loc=0)\n",
        "plt.show()"
      ],
      "execution_count": 0,
      "outputs": []
    },
    {
      "cell_type": "code",
      "metadata": {
        "ExecuteTime": {
          "end_time": "2019-05-25T08:52:13.720727Z",
          "start_time": "2019-05-25T08:52:12.866268Z"
        },
        "id": "M_7wNdTRgCM1",
        "colab_type": "code",
        "colab": {},
        "outputId": "7e5d253b-05de-46fb-95a0-9b5f4b3b96bc"
      },
      "source": [
        "Y_fut_predicted = model.predict(X_future)\n",
        "Y_fut_predicted2 = model2.predict(X_future)\n",
        "plt.plot(Y_future, label = 'actual data')\n",
        "plt.plot(Y_fut_predicted, label = 'predicted with 10 epochs')\n",
        "plt.plot(Y_fut_predicted2, label = 'predicted with 100 epochs')\n",
        "plt.legend(loc=0)\n",
        "plt.show()"
      ],
      "execution_count": 0,
      "outputs": [
        {
          "output_type": "display_data",
          "data": {
            "image/png": "[encoded data removed]",
            "text/plain": [
              "<Figure size 432x288 with 1 Axes>"
            ]
          },
          "metadata": {
            "tags": [],
            "needs_background": "light"
          }
        }
      ]
    },
    {
      "cell_type": "code",
      "metadata": {
        "id": "S3nofvo9gCM4",
        "colab_type": "code",
        "colab": {}
      },
      "source": [
        ""
      ],
      "execution_count": 0,
      "outputs": []
    },
    {
      "cell_type": "markdown",
      "metadata": {
        "id": "4DK5cZOygim-",
        "colab_type": "text"
      },
      "source": [
        "# Exercise"
      ]
    },
    {
      "cell_type": "code",
      "metadata": {
        "id": "II9qL8zsglxT",
        "colab_type": "code",
        "colab": {
          "base_uri": "https://localhost:8080/",
          "height": 234
        },
        "outputId": "1e93aa2e-187a-412c-d3fe-5e6649d20749"
      },
      "source": [
        "'''\n",
        "Here's the data for air pollution in Beijing, taken from \n",
        "http://archive.ics.uci.edu/ml/datasets/Beijing+PM2.5+Data#\n",
        "\n",
        "Use LSTM RNN models to predict the air pollution. \n",
        "\n",
        "'''\n",
        "url = 'http://archive.ics.uci.edu/ml/machine-learning-databases/00381/PRSA_data_2010.1.1-2014.12.31.csv'\n",
        "import requests, io\n",
        "\n",
        "c = requests.get(url, stream=True).content\n",
        "data = pd.read_csv(io.BytesIO(c), index_col = 0)\n",
        "data.head()"
      ],
      "execution_count": 71,
      "outputs": [
        {
          "output_type": "execute_result",
          "data": {
            "text/html": [
              "<div>\n",
              "<style scoped>\n",
              "    .dataframe tbody tr th:only-of-type {\n",
              "        vertical-align: middle;\n",
              "    }\n",
              "\n",
              "    .dataframe tbody tr th {\n",
              "        vertical-align: top;\n",
              "    }\n",
              "\n",
              "    .dataframe thead th {\n",
              "        text-align: right;\n",
              "    }\n",
              "</style>\n",
              "<table border=\"1\" class=\"dataframe\">\n",
              "  <thead>\n",
              "    <tr style=\"text-align: right;\">\n",
              "      <th></th>\n",
              "      <th>year</th>\n",
              "      <th>month</th>\n",
              "      <th>day</th>\n",
              "      <th>hour</th>\n",
              "      <th>pm2.5</th>\n",
              "      <th>DEWP</th>\n",
              "      <th>TEMP</th>\n",
              "      <th>PRES</th>\n",
              "      <th>cbwd</th>\n",
              "      <th>Iws</th>\n",
              "      <th>Is</th>\n",
              "      <th>Ir</th>\n",
              "    </tr>\n",
              "    <tr>\n",
              "      <th>No</th>\n",
              "      <th></th>\n",
              "      <th></th>\n",
              "      <th></th>\n",
              "      <th></th>\n",
              "      <th></th>\n",
              "      <th></th>\n",
              "      <th></th>\n",
              "      <th></th>\n",
              "      <th></th>\n",
              "      <th></th>\n",
              "      <th></th>\n",
              "      <th></th>\n",
              "    </tr>\n",
              "  </thead>\n",
              "  <tbody>\n",
              "    <tr>\n",
              "      <th>1</th>\n",
              "      <td>2010</td>\n",
              "      <td>1</td>\n",
              "      <td>1</td>\n",
              "      <td>0</td>\n",
              "      <td>NaN</td>\n",
              "      <td>-21</td>\n",
              "      <td>-11.0</td>\n",
              "      <td>1021.0</td>\n",
              "      <td>NW</td>\n",
              "      <td>1.79</td>\n",
              "      <td>0</td>\n",
              "      <td>0</td>\n",
              "    </tr>\n",
              "    <tr>\n",
              "      <th>2</th>\n",
              "      <td>2010</td>\n",
              "      <td>1</td>\n",
              "      <td>1</td>\n",
              "      <td>1</td>\n",
              "      <td>NaN</td>\n",
              "      <td>-21</td>\n",
              "      <td>-12.0</td>\n",
              "      <td>1020.0</td>\n",
              "      <td>NW</td>\n",
              "      <td>4.92</td>\n",
              "      <td>0</td>\n",
              "      <td>0</td>\n",
              "    </tr>\n",
              "    <tr>\n",
              "      <th>3</th>\n",
              "      <td>2010</td>\n",
              "      <td>1</td>\n",
              "      <td>1</td>\n",
              "      <td>2</td>\n",
              "      <td>NaN</td>\n",
              "      <td>-21</td>\n",
              "      <td>-11.0</td>\n",
              "      <td>1019.0</td>\n",
              "      <td>NW</td>\n",
              "      <td>6.71</td>\n",
              "      <td>0</td>\n",
              "      <td>0</td>\n",
              "    </tr>\n",
              "    <tr>\n",
              "      <th>4</th>\n",
              "      <td>2010</td>\n",
              "      <td>1</td>\n",
              "      <td>1</td>\n",
              "      <td>3</td>\n",
              "      <td>NaN</td>\n",
              "      <td>-21</td>\n",
              "      <td>-14.0</td>\n",
              "      <td>1019.0</td>\n",
              "      <td>NW</td>\n",
              "      <td>9.84</td>\n",
              "      <td>0</td>\n",
              "      <td>0</td>\n",
              "    </tr>\n",
              "    <tr>\n",
              "      <th>5</th>\n",
              "      <td>2010</td>\n",
              "      <td>1</td>\n",
              "      <td>1</td>\n",
              "      <td>4</td>\n",
              "      <td>NaN</td>\n",
              "      <td>-20</td>\n",
              "      <td>-12.0</td>\n",
              "      <td>1018.0</td>\n",
              "      <td>NW</td>\n",
              "      <td>12.97</td>\n",
              "      <td>0</td>\n",
              "      <td>0</td>\n",
              "    </tr>\n",
              "  </tbody>\n",
              "</table>\n",
              "</div>"
            ],
            "text/plain": [
              "    year  month  day  hour  pm2.5  DEWP  TEMP    PRES cbwd    Iws  Is  Ir\n",
              "No                                                                       \n",
              "1   2010      1    1     0    NaN   -21 -11.0  1021.0   NW   1.79   0   0\n",
              "2   2010      1    1     1    NaN   -21 -12.0  1020.0   NW   4.92   0   0\n",
              "3   2010      1    1     2    NaN   -21 -11.0  1019.0   NW   6.71   0   0\n",
              "4   2010      1    1     3    NaN   -21 -14.0  1019.0   NW   9.84   0   0\n",
              "5   2010      1    1     4    NaN   -20 -12.0  1018.0   NW  12.97   0   0"
            ]
          },
          "metadata": {
            "tags": []
          },
          "execution_count": 71
        }
      ]
    },
    {
      "cell_type": "code",
      "metadata": {
        "id": "gu8OCG3qmT7e",
        "colab_type": "code",
        "colab": {
          "base_uri": "https://localhost:8080/",
          "height": 122
        },
        "outputId": "74026860-abd2-4bcd-ed81-211ae394b746"
      },
      "source": [
        "'''\n",
        "We probably don't need year, month, day and hour if hour is always increasing by one. \n",
        "It should be enough to keep only the index. \n",
        "'''\n",
        "data.drop(['year', 'month', 'day', 'hour'], axis=1, inplace=True)\n",
        "data.index"
      ],
      "execution_count": 72,
      "outputs": [
        {
          "output_type": "execute_result",
          "data": {
            "text/plain": [
              "Int64Index([    1,     2,     3,     4,     5,     6,     7,     8,     9,\n",
              "               10,\n",
              "            ...\n",
              "            43815, 43816, 43817, 43818, 43819, 43820, 43821, 43822, 43823,\n",
              "            43824],\n",
              "           dtype='int64', name='No', length=43824)"
            ]
          },
          "metadata": {
            "tags": []
          },
          "execution_count": 72
        }
      ]
    },
    {
      "cell_type": "markdown",
      "metadata": {
        "id": "RlkgpXVdh499",
        "colab_type": "text"
      },
      "source": [
        "## Dealing with non-numeric values"
      ]
    },
    {
      "cell_type": "code",
      "metadata": {
        "id": "Kgz6J3tLhUwm",
        "colab_type": "code",
        "colab": {
          "base_uri": "https://localhost:8080/",
          "height": 174
        },
        "outputId": "b51daaf3-d3c2-499d-e08d-f1995ce3bb74"
      },
      "source": [
        "data.isna().any()"
      ],
      "execution_count": 73,
      "outputs": [
        {
          "output_type": "execute_result",
          "data": {
            "text/plain": [
              "pm2.5     True\n",
              "DEWP     False\n",
              "TEMP     False\n",
              "PRES     False\n",
              "cbwd     False\n",
              "Iws      False\n",
              "Is       False\n",
              "Ir       False\n",
              "dtype: bool"
            ]
          },
          "metadata": {
            "tags": []
          },
          "execution_count": 73
        }
      ]
    },
    {
      "cell_type": "code",
      "metadata": {
        "id": "7aJtTlBkhctc",
        "colab_type": "code",
        "colab": {
          "base_uri": "https://localhost:8080/",
          "height": 34
        },
        "outputId": "c5d14f53-8111-46a4-ed88-f1bb3dd55e5f"
      },
      "source": [
        "data['pm2.5'].isna().sum()"
      ],
      "execution_count": 74,
      "outputs": [
        {
          "output_type": "execute_result",
          "data": {
            "text/plain": [
              "2067"
            ]
          },
          "metadata": {
            "tags": []
          },
          "execution_count": 74
        }
      ]
    },
    {
      "cell_type": "code",
      "metadata": {
        "id": "UAresmLbhrcZ",
        "colab_type": "code",
        "colab": {
          "base_uri": "https://localhost:8080/",
          "height": 34
        },
        "outputId": "c528f5b8-5c28-4ea4-ef31-5590ea3efbca"
      },
      "source": [
        "print(len(data))"
      ],
      "execution_count": 75,
      "outputs": [
        {
          "output_type": "stream",
          "text": [
            "43824\n"
          ],
          "name": "stdout"
        }
      ]
    },
    {
      "cell_type": "code",
      "metadata": {
        "id": "PoLxtsamhy52",
        "colab_type": "code",
        "colab": {}
      },
      "source": [
        "'''\n",
        "There are two many of them and we can't just remove those rows. \n",
        "So we replace the NaN values with the mean of the col. \n",
        "'''\n",
        "\n",
        "data.fillna(data.mean(), inplace=True)"
      ],
      "execution_count": 0,
      "outputs": []
    },
    {
      "cell_type": "code",
      "metadata": {
        "id": "4551f-9qiUXD",
        "colab_type": "code",
        "colab": {
          "base_uri": "https://localhost:8080/",
          "height": 234
        },
        "outputId": "03ad1ce0-9a99-400f-e1bd-8d2f9baef621"
      },
      "source": [
        "data.head()"
      ],
      "execution_count": 77,
      "outputs": [
        {
          "output_type": "execute_result",
          "data": {
            "text/html": [
              "<div>\n",
              "<style scoped>\n",
              "    .dataframe tbody tr th:only-of-type {\n",
              "        vertical-align: middle;\n",
              "    }\n",
              "\n",
              "    .dataframe tbody tr th {\n",
              "        vertical-align: top;\n",
              "    }\n",
              "\n",
              "    .dataframe thead th {\n",
              "        text-align: right;\n",
              "    }\n",
              "</style>\n",
              "<table border=\"1\" class=\"dataframe\">\n",
              "  <thead>\n",
              "    <tr style=\"text-align: right;\">\n",
              "      <th></th>\n",
              "      <th>pm2.5</th>\n",
              "      <th>DEWP</th>\n",
              "      <th>TEMP</th>\n",
              "      <th>PRES</th>\n",
              "      <th>cbwd</th>\n",
              "      <th>Iws</th>\n",
              "      <th>Is</th>\n",
              "      <th>Ir</th>\n",
              "    </tr>\n",
              "    <tr>\n",
              "      <th>No</th>\n",
              "      <th></th>\n",
              "      <th></th>\n",
              "      <th></th>\n",
              "      <th></th>\n",
              "      <th></th>\n",
              "      <th></th>\n",
              "      <th></th>\n",
              "      <th></th>\n",
              "    </tr>\n",
              "  </thead>\n",
              "  <tbody>\n",
              "    <tr>\n",
              "      <th>1</th>\n",
              "      <td>98.613215</td>\n",
              "      <td>-21</td>\n",
              "      <td>-11.0</td>\n",
              "      <td>1021.0</td>\n",
              "      <td>NW</td>\n",
              "      <td>1.79</td>\n",
              "      <td>0</td>\n",
              "      <td>0</td>\n",
              "    </tr>\n",
              "    <tr>\n",
              "      <th>2</th>\n",
              "      <td>98.613215</td>\n",
              "      <td>-21</td>\n",
              "      <td>-12.0</td>\n",
              "      <td>1020.0</td>\n",
              "      <td>NW</td>\n",
              "      <td>4.92</td>\n",
              "      <td>0</td>\n",
              "      <td>0</td>\n",
              "    </tr>\n",
              "    <tr>\n",
              "      <th>3</th>\n",
              "      <td>98.613215</td>\n",
              "      <td>-21</td>\n",
              "      <td>-11.0</td>\n",
              "      <td>1019.0</td>\n",
              "      <td>NW</td>\n",
              "      <td>6.71</td>\n",
              "      <td>0</td>\n",
              "      <td>0</td>\n",
              "    </tr>\n",
              "    <tr>\n",
              "      <th>4</th>\n",
              "      <td>98.613215</td>\n",
              "      <td>-21</td>\n",
              "      <td>-14.0</td>\n",
              "      <td>1019.0</td>\n",
              "      <td>NW</td>\n",
              "      <td>9.84</td>\n",
              "      <td>0</td>\n",
              "      <td>0</td>\n",
              "    </tr>\n",
              "    <tr>\n",
              "      <th>5</th>\n",
              "      <td>98.613215</td>\n",
              "      <td>-20</td>\n",
              "      <td>-12.0</td>\n",
              "      <td>1018.0</td>\n",
              "      <td>NW</td>\n",
              "      <td>12.97</td>\n",
              "      <td>0</td>\n",
              "      <td>0</td>\n",
              "    </tr>\n",
              "  </tbody>\n",
              "</table>\n",
              "</div>"
            ],
            "text/plain": [
              "        pm2.5  DEWP  TEMP    PRES cbwd    Iws  Is  Ir\n",
              "No                                                   \n",
              "1   98.613215   -21 -11.0  1021.0   NW   1.79   0   0\n",
              "2   98.613215   -21 -12.0  1020.0   NW   4.92   0   0\n",
              "3   98.613215   -21 -11.0  1019.0   NW   6.71   0   0\n",
              "4   98.613215   -21 -14.0  1019.0   NW   9.84   0   0\n",
              "5   98.613215   -20 -12.0  1018.0   NW  12.97   0   0"
            ]
          },
          "metadata": {
            "tags": []
          },
          "execution_count": 77
        }
      ]
    },
    {
      "cell_type": "code",
      "metadata": {
        "id": "y_YVd6uQixeT",
        "colab_type": "code",
        "colab": {
          "base_uri": "https://localhost:8080/",
          "height": 698
        },
        "outputId": "b0c71a99-a7f5-40ad-8d21-7b4e66c640a5"
      },
      "source": [
        "'''\n",
        "Next we need to turn categorical values to numerical ones. \n",
        "'''\n",
        "data.cbwd = data.cbwd.astype(\"category\").cat.codes\n",
        "data.head(20)"
      ],
      "execution_count": 78,
      "outputs": [
        {
          "output_type": "execute_result",
          "data": {
            "text/html": [
              "<div>\n",
              "<style scoped>\n",
              "    .dataframe tbody tr th:only-of-type {\n",
              "        vertical-align: middle;\n",
              "    }\n",
              "\n",
              "    .dataframe tbody tr th {\n",
              "        vertical-align: top;\n",
              "    }\n",
              "\n",
              "    .dataframe thead th {\n",
              "        text-align: right;\n",
              "    }\n",
              "</style>\n",
              "<table border=\"1\" class=\"dataframe\">\n",
              "  <thead>\n",
              "    <tr style=\"text-align: right;\">\n",
              "      <th></th>\n",
              "      <th>pm2.5</th>\n",
              "      <th>DEWP</th>\n",
              "      <th>TEMP</th>\n",
              "      <th>PRES</th>\n",
              "      <th>cbwd</th>\n",
              "      <th>Iws</th>\n",
              "      <th>Is</th>\n",
              "      <th>Ir</th>\n",
              "    </tr>\n",
              "    <tr>\n",
              "      <th>No</th>\n",
              "      <th></th>\n",
              "      <th></th>\n",
              "      <th></th>\n",
              "      <th></th>\n",
              "      <th></th>\n",
              "      <th></th>\n",
              "      <th></th>\n",
              "      <th></th>\n",
              "    </tr>\n",
              "  </thead>\n",
              "  <tbody>\n",
              "    <tr>\n",
              "      <th>1</th>\n",
              "      <td>98.613215</td>\n",
              "      <td>-21</td>\n",
              "      <td>-11.0</td>\n",
              "      <td>1021.0</td>\n",
              "      <td>1</td>\n",
              "      <td>1.79</td>\n",
              "      <td>0</td>\n",
              "      <td>0</td>\n",
              "    </tr>\n",
              "    <tr>\n",
              "      <th>2</th>\n",
              "      <td>98.613215</td>\n",
              "      <td>-21</td>\n",
              "      <td>-12.0</td>\n",
              "      <td>1020.0</td>\n",
              "      <td>1</td>\n",
              "      <td>4.92</td>\n",
              "      <td>0</td>\n",
              "      <td>0</td>\n",
              "    </tr>\n",
              "    <tr>\n",
              "      <th>3</th>\n",
              "      <td>98.613215</td>\n",
              "      <td>-21</td>\n",
              "      <td>-11.0</td>\n",
              "      <td>1019.0</td>\n",
              "      <td>1</td>\n",
              "      <td>6.71</td>\n",
              "      <td>0</td>\n",
              "      <td>0</td>\n",
              "    </tr>\n",
              "    <tr>\n",
              "      <th>4</th>\n",
              "      <td>98.613215</td>\n",
              "      <td>-21</td>\n",
              "      <td>-14.0</td>\n",
              "      <td>1019.0</td>\n",
              "      <td>1</td>\n",
              "      <td>9.84</td>\n",
              "      <td>0</td>\n",
              "      <td>0</td>\n",
              "    </tr>\n",
              "    <tr>\n",
              "      <th>5</th>\n",
              "      <td>98.613215</td>\n",
              "      <td>-20</td>\n",
              "      <td>-12.0</td>\n",
              "      <td>1018.0</td>\n",
              "      <td>1</td>\n",
              "      <td>12.97</td>\n",
              "      <td>0</td>\n",
              "      <td>0</td>\n",
              "    </tr>\n",
              "    <tr>\n",
              "      <th>6</th>\n",
              "      <td>98.613215</td>\n",
              "      <td>-19</td>\n",
              "      <td>-10.0</td>\n",
              "      <td>1017.0</td>\n",
              "      <td>1</td>\n",
              "      <td>16.10</td>\n",
              "      <td>0</td>\n",
              "      <td>0</td>\n",
              "    </tr>\n",
              "    <tr>\n",
              "      <th>7</th>\n",
              "      <td>98.613215</td>\n",
              "      <td>-19</td>\n",
              "      <td>-9.0</td>\n",
              "      <td>1017.0</td>\n",
              "      <td>1</td>\n",
              "      <td>19.23</td>\n",
              "      <td>0</td>\n",
              "      <td>0</td>\n",
              "    </tr>\n",
              "    <tr>\n",
              "      <th>8</th>\n",
              "      <td>98.613215</td>\n",
              "      <td>-19</td>\n",
              "      <td>-9.0</td>\n",
              "      <td>1017.0</td>\n",
              "      <td>1</td>\n",
              "      <td>21.02</td>\n",
              "      <td>0</td>\n",
              "      <td>0</td>\n",
              "    </tr>\n",
              "    <tr>\n",
              "      <th>9</th>\n",
              "      <td>98.613215</td>\n",
              "      <td>-19</td>\n",
              "      <td>-9.0</td>\n",
              "      <td>1017.0</td>\n",
              "      <td>1</td>\n",
              "      <td>24.15</td>\n",
              "      <td>0</td>\n",
              "      <td>0</td>\n",
              "    </tr>\n",
              "    <tr>\n",
              "      <th>10</th>\n",
              "      <td>98.613215</td>\n",
              "      <td>-20</td>\n",
              "      <td>-8.0</td>\n",
              "      <td>1017.0</td>\n",
              "      <td>1</td>\n",
              "      <td>27.28</td>\n",
              "      <td>0</td>\n",
              "      <td>0</td>\n",
              "    </tr>\n",
              "    <tr>\n",
              "      <th>11</th>\n",
              "      <td>98.613215</td>\n",
              "      <td>-19</td>\n",
              "      <td>-7.0</td>\n",
              "      <td>1017.0</td>\n",
              "      <td>1</td>\n",
              "      <td>31.30</td>\n",
              "      <td>0</td>\n",
              "      <td>0</td>\n",
              "    </tr>\n",
              "    <tr>\n",
              "      <th>12</th>\n",
              "      <td>98.613215</td>\n",
              "      <td>-18</td>\n",
              "      <td>-5.0</td>\n",
              "      <td>1017.0</td>\n",
              "      <td>1</td>\n",
              "      <td>34.43</td>\n",
              "      <td>0</td>\n",
              "      <td>0</td>\n",
              "    </tr>\n",
              "    <tr>\n",
              "      <th>13</th>\n",
              "      <td>98.613215</td>\n",
              "      <td>-19</td>\n",
              "      <td>-5.0</td>\n",
              "      <td>1015.0</td>\n",
              "      <td>1</td>\n",
              "      <td>37.56</td>\n",
              "      <td>0</td>\n",
              "      <td>0</td>\n",
              "    </tr>\n",
              "    <tr>\n",
              "      <th>14</th>\n",
              "      <td>98.613215</td>\n",
              "      <td>-18</td>\n",
              "      <td>-3.0</td>\n",
              "      <td>1015.0</td>\n",
              "      <td>1</td>\n",
              "      <td>40.69</td>\n",
              "      <td>0</td>\n",
              "      <td>0</td>\n",
              "    </tr>\n",
              "    <tr>\n",
              "      <th>15</th>\n",
              "      <td>98.613215</td>\n",
              "      <td>-18</td>\n",
              "      <td>-2.0</td>\n",
              "      <td>1014.0</td>\n",
              "      <td>1</td>\n",
              "      <td>43.82</td>\n",
              "      <td>0</td>\n",
              "      <td>0</td>\n",
              "    </tr>\n",
              "    <tr>\n",
              "      <th>16</th>\n",
              "      <td>98.613215</td>\n",
              "      <td>-18</td>\n",
              "      <td>-1.0</td>\n",
              "      <td>1014.0</td>\n",
              "      <td>3</td>\n",
              "      <td>0.89</td>\n",
              "      <td>0</td>\n",
              "      <td>0</td>\n",
              "    </tr>\n",
              "    <tr>\n",
              "      <th>17</th>\n",
              "      <td>98.613215</td>\n",
              "      <td>-19</td>\n",
              "      <td>-2.0</td>\n",
              "      <td>1015.0</td>\n",
              "      <td>1</td>\n",
              "      <td>1.79</td>\n",
              "      <td>0</td>\n",
              "      <td>0</td>\n",
              "    </tr>\n",
              "    <tr>\n",
              "      <th>18</th>\n",
              "      <td>98.613215</td>\n",
              "      <td>-18</td>\n",
              "      <td>-3.0</td>\n",
              "      <td>1015.0</td>\n",
              "      <td>1</td>\n",
              "      <td>2.68</td>\n",
              "      <td>0</td>\n",
              "      <td>0</td>\n",
              "    </tr>\n",
              "    <tr>\n",
              "      <th>19</th>\n",
              "      <td>98.613215</td>\n",
              "      <td>-18</td>\n",
              "      <td>-5.0</td>\n",
              "      <td>1016.0</td>\n",
              "      <td>0</td>\n",
              "      <td>1.79</td>\n",
              "      <td>0</td>\n",
              "      <td>0</td>\n",
              "    </tr>\n",
              "    <tr>\n",
              "      <th>20</th>\n",
              "      <td>98.613215</td>\n",
              "      <td>-17</td>\n",
              "      <td>-4.0</td>\n",
              "      <td>1017.0</td>\n",
              "      <td>1</td>\n",
              "      <td>1.79</td>\n",
              "      <td>0</td>\n",
              "      <td>0</td>\n",
              "    </tr>\n",
              "  </tbody>\n",
              "</table>\n",
              "</div>"
            ],
            "text/plain": [
              "        pm2.5  DEWP  TEMP    PRES  cbwd    Iws  Is  Ir\n",
              "No                                                    \n",
              "1   98.613215   -21 -11.0  1021.0     1   1.79   0   0\n",
              "2   98.613215   -21 -12.0  1020.0     1   4.92   0   0\n",
              "3   98.613215   -21 -11.0  1019.0     1   6.71   0   0\n",
              "4   98.613215   -21 -14.0  1019.0     1   9.84   0   0\n",
              "5   98.613215   -20 -12.0  1018.0     1  12.97   0   0\n",
              "6   98.613215   -19 -10.0  1017.0     1  16.10   0   0\n",
              "7   98.613215   -19  -9.0  1017.0     1  19.23   0   0\n",
              "8   98.613215   -19  -9.0  1017.0     1  21.02   0   0\n",
              "9   98.613215   -19  -9.0  1017.0     1  24.15   0   0\n",
              "10  98.613215   -20  -8.0  1017.0     1  27.28   0   0\n",
              "11  98.613215   -19  -7.0  1017.0     1  31.30   0   0\n",
              "12  98.613215   -18  -5.0  1017.0     1  34.43   0   0\n",
              "13  98.613215   -19  -5.0  1015.0     1  37.56   0   0\n",
              "14  98.613215   -18  -3.0  1015.0     1  40.69   0   0\n",
              "15  98.613215   -18  -2.0  1014.0     1  43.82   0   0\n",
              "16  98.613215   -18  -1.0  1014.0     3   0.89   0   0\n",
              "17  98.613215   -19  -2.0  1015.0     1   1.79   0   0\n",
              "18  98.613215   -18  -3.0  1015.0     1   2.68   0   0\n",
              "19  98.613215   -18  -5.0  1016.0     0   1.79   0   0\n",
              "20  98.613215   -17  -4.0  1017.0     1   1.79   0   0"
            ]
          },
          "metadata": {
            "tags": []
          },
          "execution_count": 78
        }
      ]
    },
    {
      "cell_type": "code",
      "metadata": {
        "id": "O37L7o8ekGaQ",
        "colab_type": "code",
        "colab": {}
      },
      "source": [
        "'''\n",
        "We also need to normalize the data. \n",
        "'''\n",
        "normalized_data=(data-data.mean())/data.std()"
      ],
      "execution_count": 0,
      "outputs": []
    },
    {
      "cell_type": "code",
      "metadata": {
        "id": "vTdkN0H3k1-d",
        "colab_type": "code",
        "colab": {
          "base_uri": "https://localhost:8080/",
          "height": 34
        },
        "outputId": "2f73f99e-eb2f-455a-c576-aa979ce06282"
      },
      "source": [
        "n_f = data.shape[1] \n",
        "n_f"
      ],
      "execution_count": 94,
      "outputs": [
        {
          "output_type": "execute_result",
          "data": {
            "text/plain": [
              "8"
            ]
          },
          "metadata": {
            "tags": []
          },
          "execution_count": 94
        }
      ]
    },
    {
      "cell_type": "code",
      "metadata": {
        "id": "g5yGTHTmqHO-",
        "colab_type": "code",
        "colab": {
          "base_uri": "https://localhost:8080/",
          "height": 288
        },
        "outputId": "ef6da9dd-d0f0-4d79-e9ae-878782029d1d"
      },
      "source": [
        "hist = range(1,n_ts+1)\n",
        "\n",
        "df = data.assign(**{\n",
        "    '{} (h-{})'.format(col, t): data[col].shift(t)\n",
        "    for t in hist\n",
        "    for col in data\n",
        "})\n",
        "\n",
        "df.head()"
      ],
      "execution_count": 82,
      "outputs": [
        {
          "output_type": "execute_result",
          "data": {
            "text/html": [
              "<div>\n",
              "<style scoped>\n",
              "    .dataframe tbody tr th:only-of-type {\n",
              "        vertical-align: middle;\n",
              "    }\n",
              "\n",
              "    .dataframe tbody tr th {\n",
              "        vertical-align: top;\n",
              "    }\n",
              "\n",
              "    .dataframe thead th {\n",
              "        text-align: right;\n",
              "    }\n",
              "</style>\n",
              "<table border=\"1\" class=\"dataframe\">\n",
              "  <thead>\n",
              "    <tr style=\"text-align: right;\">\n",
              "      <th></th>\n",
              "      <th>pm2.5</th>\n",
              "      <th>DEWP</th>\n",
              "      <th>TEMP</th>\n",
              "      <th>PRES</th>\n",
              "      <th>cbwd</th>\n",
              "      <th>Iws</th>\n",
              "      <th>Is</th>\n",
              "      <th>Ir</th>\n",
              "      <th>pm2.5 (h-1)</th>\n",
              "      <th>DEWP (h-1)</th>\n",
              "      <th>TEMP (h-1)</th>\n",
              "      <th>PRES (h-1)</th>\n",
              "      <th>cbwd (h-1)</th>\n",
              "      <th>Iws (h-1)</th>\n",
              "      <th>Is (h-1)</th>\n",
              "      <th>Ir (h-1)</th>\n",
              "      <th>pm2.5 (h-2)</th>\n",
              "      <th>DEWP (h-2)</th>\n",
              "      <th>TEMP (h-2)</th>\n",
              "      <th>PRES (h-2)</th>\n",
              "      <th>cbwd (h-2)</th>\n",
              "      <th>Iws (h-2)</th>\n",
              "      <th>Is (h-2)</th>\n",
              "      <th>Ir (h-2)</th>\n",
              "      <th>pm2.5 (h-3)</th>\n",
              "      <th>DEWP (h-3)</th>\n",
              "      <th>TEMP (h-3)</th>\n",
              "      <th>PRES (h-3)</th>\n",
              "      <th>cbwd (h-3)</th>\n",
              "      <th>Iws (h-3)</th>\n",
              "      <th>Is (h-3)</th>\n",
              "      <th>Ir (h-3)</th>\n",
              "      <th>pm2.5 (h-4)</th>\n",
              "      <th>DEWP (h-4)</th>\n",
              "      <th>TEMP (h-4)</th>\n",
              "      <th>PRES (h-4)</th>\n",
              "      <th>cbwd (h-4)</th>\n",
              "      <th>Iws (h-4)</th>\n",
              "      <th>Is (h-4)</th>\n",
              "      <th>Ir (h-4)</th>\n",
              "      <th>pm2.5 (h-5)</th>\n",
              "      <th>DEWP (h-5)</th>\n",
              "      <th>TEMP (h-5)</th>\n",
              "      <th>PRES (h-5)</th>\n",
              "      <th>cbwd (h-5)</th>\n",
              "      <th>Iws (h-5)</th>\n",
              "      <th>Is (h-5)</th>\n",
              "      <th>Ir (h-5)</th>\n",
              "      <th>pm2.5 (h-6)</th>\n",
              "      <th>DEWP (h-6)</th>\n",
              "      <th>TEMP (h-6)</th>\n",
              "      <th>PRES (h-6)</th>\n",
              "      <th>cbwd (h-6)</th>\n",
              "      <th>Iws (h-6)</th>\n",
              "      <th>Is (h-6)</th>\n",
              "      <th>Ir (h-6)</th>\n",
              "    </tr>\n",
              "    <tr>\n",
              "      <th>No</th>\n",
              "      <th></th>\n",
              "      <th></th>\n",
              "      <th></th>\n",
              "      <th></th>\n",
              "      <th></th>\n",
              "      <th></th>\n",
              "      <th></th>\n",
              "      <th></th>\n",
              "      <th></th>\n",
              "      <th></th>\n",
              "      <th></th>\n",
              "      <th></th>\n",
              "      <th></th>\n",
              "      <th></th>\n",
              "      <th></th>\n",
              "      <th></th>\n",
              "      <th></th>\n",
              "      <th></th>\n",
              "      <th></th>\n",
              "      <th></th>\n",
              "      <th></th>\n",
              "      <th></th>\n",
              "      <th></th>\n",
              "      <th></th>\n",
              "      <th></th>\n",
              "      <th></th>\n",
              "      <th></th>\n",
              "      <th></th>\n",
              "      <th></th>\n",
              "      <th></th>\n",
              "      <th></th>\n",
              "      <th></th>\n",
              "      <th></th>\n",
              "      <th></th>\n",
              "      <th></th>\n",
              "      <th></th>\n",
              "      <th></th>\n",
              "      <th></th>\n",
              "      <th></th>\n",
              "      <th></th>\n",
              "      <th></th>\n",
              "      <th></th>\n",
              "      <th></th>\n",
              "      <th></th>\n",
              "      <th></th>\n",
              "      <th></th>\n",
              "      <th></th>\n",
              "      <th></th>\n",
              "      <th></th>\n",
              "      <th></th>\n",
              "      <th></th>\n",
              "      <th></th>\n",
              "      <th></th>\n",
              "      <th></th>\n",
              "      <th></th>\n",
              "      <th></th>\n",
              "    </tr>\n",
              "  </thead>\n",
              "  <tbody>\n",
              "    <tr>\n",
              "      <th>1</th>\n",
              "      <td>98.613215</td>\n",
              "      <td>-21</td>\n",
              "      <td>-11.0</td>\n",
              "      <td>1021.0</td>\n",
              "      <td>1</td>\n",
              "      <td>1.79</td>\n",
              "      <td>0</td>\n",
              "      <td>0</td>\n",
              "      <td>NaN</td>\n",
              "      <td>NaN</td>\n",
              "      <td>NaN</td>\n",
              "      <td>NaN</td>\n",
              "      <td>NaN</td>\n",
              "      <td>NaN</td>\n",
              "      <td>NaN</td>\n",
              "      <td>NaN</td>\n",
              "      <td>NaN</td>\n",
              "      <td>NaN</td>\n",
              "      <td>NaN</td>\n",
              "      <td>NaN</td>\n",
              "      <td>NaN</td>\n",
              "      <td>NaN</td>\n",
              "      <td>NaN</td>\n",
              "      <td>NaN</td>\n",
              "      <td>NaN</td>\n",
              "      <td>NaN</td>\n",
              "      <td>NaN</td>\n",
              "      <td>NaN</td>\n",
              "      <td>NaN</td>\n",
              "      <td>NaN</td>\n",
              "      <td>NaN</td>\n",
              "      <td>NaN</td>\n",
              "      <td>NaN</td>\n",
              "      <td>NaN</td>\n",
              "      <td>NaN</td>\n",
              "      <td>NaN</td>\n",
              "      <td>NaN</td>\n",
              "      <td>NaN</td>\n",
              "      <td>NaN</td>\n",
              "      <td>NaN</td>\n",
              "      <td>NaN</td>\n",
              "      <td>NaN</td>\n",
              "      <td>NaN</td>\n",
              "      <td>NaN</td>\n",
              "      <td>NaN</td>\n",
              "      <td>NaN</td>\n",
              "      <td>NaN</td>\n",
              "      <td>NaN</td>\n",
              "      <td>NaN</td>\n",
              "      <td>NaN</td>\n",
              "      <td>NaN</td>\n",
              "      <td>NaN</td>\n",
              "      <td>NaN</td>\n",
              "      <td>NaN</td>\n",
              "      <td>NaN</td>\n",
              "      <td>NaN</td>\n",
              "    </tr>\n",
              "    <tr>\n",
              "      <th>2</th>\n",
              "      <td>98.613215</td>\n",
              "      <td>-21</td>\n",
              "      <td>-12.0</td>\n",
              "      <td>1020.0</td>\n",
              "      <td>1</td>\n",
              "      <td>4.92</td>\n",
              "      <td>0</td>\n",
              "      <td>0</td>\n",
              "      <td>98.613215</td>\n",
              "      <td>-21.0</td>\n",
              "      <td>-11.0</td>\n",
              "      <td>1021.0</td>\n",
              "      <td>1.0</td>\n",
              "      <td>1.79</td>\n",
              "      <td>0.0</td>\n",
              "      <td>0.0</td>\n",
              "      <td>NaN</td>\n",
              "      <td>NaN</td>\n",
              "      <td>NaN</td>\n",
              "      <td>NaN</td>\n",
              "      <td>NaN</td>\n",
              "      <td>NaN</td>\n",
              "      <td>NaN</td>\n",
              "      <td>NaN</td>\n",
              "      <td>NaN</td>\n",
              "      <td>NaN</td>\n",
              "      <td>NaN</td>\n",
              "      <td>NaN</td>\n",
              "      <td>NaN</td>\n",
              "      <td>NaN</td>\n",
              "      <td>NaN</td>\n",
              "      <td>NaN</td>\n",
              "      <td>NaN</td>\n",
              "      <td>NaN</td>\n",
              "      <td>NaN</td>\n",
              "      <td>NaN</td>\n",
              "      <td>NaN</td>\n",
              "      <td>NaN</td>\n",
              "      <td>NaN</td>\n",
              "      <td>NaN</td>\n",
              "      <td>NaN</td>\n",
              "      <td>NaN</td>\n",
              "      <td>NaN</td>\n",
              "      <td>NaN</td>\n",
              "      <td>NaN</td>\n",
              "      <td>NaN</td>\n",
              "      <td>NaN</td>\n",
              "      <td>NaN</td>\n",
              "      <td>NaN</td>\n",
              "      <td>NaN</td>\n",
              "      <td>NaN</td>\n",
              "      <td>NaN</td>\n",
              "      <td>NaN</td>\n",
              "      <td>NaN</td>\n",
              "      <td>NaN</td>\n",
              "      <td>NaN</td>\n",
              "    </tr>\n",
              "    <tr>\n",
              "      <th>3</th>\n",
              "      <td>98.613215</td>\n",
              "      <td>-21</td>\n",
              "      <td>-11.0</td>\n",
              "      <td>1019.0</td>\n",
              "      <td>1</td>\n",
              "      <td>6.71</td>\n",
              "      <td>0</td>\n",
              "      <td>0</td>\n",
              "      <td>98.613215</td>\n",
              "      <td>-21.0</td>\n",
              "      <td>-12.0</td>\n",
              "      <td>1020.0</td>\n",
              "      <td>1.0</td>\n",
              "      <td>4.92</td>\n",
              "      <td>0.0</td>\n",
              "      <td>0.0</td>\n",
              "      <td>98.613215</td>\n",
              "      <td>-21.0</td>\n",
              "      <td>-11.0</td>\n",
              "      <td>1021.0</td>\n",
              "      <td>1.0</td>\n",
              "      <td>1.79</td>\n",
              "      <td>0.0</td>\n",
              "      <td>0.0</td>\n",
              "      <td>NaN</td>\n",
              "      <td>NaN</td>\n",
              "      <td>NaN</td>\n",
              "      <td>NaN</td>\n",
              "      <td>NaN</td>\n",
              "      <td>NaN</td>\n",
              "      <td>NaN</td>\n",
              "      <td>NaN</td>\n",
              "      <td>NaN</td>\n",
              "      <td>NaN</td>\n",
              "      <td>NaN</td>\n",
              "      <td>NaN</td>\n",
              "      <td>NaN</td>\n",
              "      <td>NaN</td>\n",
              "      <td>NaN</td>\n",
              "      <td>NaN</td>\n",
              "      <td>NaN</td>\n",
              "      <td>NaN</td>\n",
              "      <td>NaN</td>\n",
              "      <td>NaN</td>\n",
              "      <td>NaN</td>\n",
              "      <td>NaN</td>\n",
              "      <td>NaN</td>\n",
              "      <td>NaN</td>\n",
              "      <td>NaN</td>\n",
              "      <td>NaN</td>\n",
              "      <td>NaN</td>\n",
              "      <td>NaN</td>\n",
              "      <td>NaN</td>\n",
              "      <td>NaN</td>\n",
              "      <td>NaN</td>\n",
              "      <td>NaN</td>\n",
              "    </tr>\n",
              "    <tr>\n",
              "      <th>4</th>\n",
              "      <td>98.613215</td>\n",
              "      <td>-21</td>\n",
              "      <td>-14.0</td>\n",
              "      <td>1019.0</td>\n",
              "      <td>1</td>\n",
              "      <td>9.84</td>\n",
              "      <td>0</td>\n",
              "      <td>0</td>\n",
              "      <td>98.613215</td>\n",
              "      <td>-21.0</td>\n",
              "      <td>-11.0</td>\n",
              "      <td>1019.0</td>\n",
              "      <td>1.0</td>\n",
              "      <td>6.71</td>\n",
              "      <td>0.0</td>\n",
              "      <td>0.0</td>\n",
              "      <td>98.613215</td>\n",
              "      <td>-21.0</td>\n",
              "      <td>-12.0</td>\n",
              "      <td>1020.0</td>\n",
              "      <td>1.0</td>\n",
              "      <td>4.92</td>\n",
              "      <td>0.0</td>\n",
              "      <td>0.0</td>\n",
              "      <td>98.613215</td>\n",
              "      <td>-21.0</td>\n",
              "      <td>-11.0</td>\n",
              "      <td>1021.0</td>\n",
              "      <td>1.0</td>\n",
              "      <td>1.79</td>\n",
              "      <td>0.0</td>\n",
              "      <td>0.0</td>\n",
              "      <td>NaN</td>\n",
              "      <td>NaN</td>\n",
              "      <td>NaN</td>\n",
              "      <td>NaN</td>\n",
              "      <td>NaN</td>\n",
              "      <td>NaN</td>\n",
              "      <td>NaN</td>\n",
              "      <td>NaN</td>\n",
              "      <td>NaN</td>\n",
              "      <td>NaN</td>\n",
              "      <td>NaN</td>\n",
              "      <td>NaN</td>\n",
              "      <td>NaN</td>\n",
              "      <td>NaN</td>\n",
              "      <td>NaN</td>\n",
              "      <td>NaN</td>\n",
              "      <td>NaN</td>\n",
              "      <td>NaN</td>\n",
              "      <td>NaN</td>\n",
              "      <td>NaN</td>\n",
              "      <td>NaN</td>\n",
              "      <td>NaN</td>\n",
              "      <td>NaN</td>\n",
              "      <td>NaN</td>\n",
              "    </tr>\n",
              "    <tr>\n",
              "      <th>5</th>\n",
              "      <td>98.613215</td>\n",
              "      <td>-20</td>\n",
              "      <td>-12.0</td>\n",
              "      <td>1018.0</td>\n",
              "      <td>1</td>\n",
              "      <td>12.97</td>\n",
              "      <td>0</td>\n",
              "      <td>0</td>\n",
              "      <td>98.613215</td>\n",
              "      <td>-21.0</td>\n",
              "      <td>-14.0</td>\n",
              "      <td>1019.0</td>\n",
              "      <td>1.0</td>\n",
              "      <td>9.84</td>\n",
              "      <td>0.0</td>\n",
              "      <td>0.0</td>\n",
              "      <td>98.613215</td>\n",
              "      <td>-21.0</td>\n",
              "      <td>-11.0</td>\n",
              "      <td>1019.0</td>\n",
              "      <td>1.0</td>\n",
              "      <td>6.71</td>\n",
              "      <td>0.0</td>\n",
              "      <td>0.0</td>\n",
              "      <td>98.613215</td>\n",
              "      <td>-21.0</td>\n",
              "      <td>-12.0</td>\n",
              "      <td>1020.0</td>\n",
              "      <td>1.0</td>\n",
              "      <td>4.92</td>\n",
              "      <td>0.0</td>\n",
              "      <td>0.0</td>\n",
              "      <td>98.613215</td>\n",
              "      <td>-21.0</td>\n",
              "      <td>-11.0</td>\n",
              "      <td>1021.0</td>\n",
              "      <td>1.0</td>\n",
              "      <td>1.79</td>\n",
              "      <td>0.0</td>\n",
              "      <td>0.0</td>\n",
              "      <td>NaN</td>\n",
              "      <td>NaN</td>\n",
              "      <td>NaN</td>\n",
              "      <td>NaN</td>\n",
              "      <td>NaN</td>\n",
              "      <td>NaN</td>\n",
              "      <td>NaN</td>\n",
              "      <td>NaN</td>\n",
              "      <td>NaN</td>\n",
              "      <td>NaN</td>\n",
              "      <td>NaN</td>\n",
              "      <td>NaN</td>\n",
              "      <td>NaN</td>\n",
              "      <td>NaN</td>\n",
              "      <td>NaN</td>\n",
              "      <td>NaN</td>\n",
              "    </tr>\n",
              "  </tbody>\n",
              "</table>\n",
              "</div>"
            ],
            "text/plain": [
              "        pm2.5  DEWP  TEMP    PRES  ...  cbwd (h-6)  Iws (h-6)  Is (h-6)  Ir (h-6)\n",
              "No                                 ...                                           \n",
              "1   98.613215   -21 -11.0  1021.0  ...         NaN        NaN       NaN       NaN\n",
              "2   98.613215   -21 -12.0  1020.0  ...         NaN        NaN       NaN       NaN\n",
              "3   98.613215   -21 -11.0  1019.0  ...         NaN        NaN       NaN       NaN\n",
              "4   98.613215   -21 -14.0  1019.0  ...         NaN        NaN       NaN       NaN\n",
              "5   98.613215   -20 -12.0  1018.0  ...         NaN        NaN       NaN       NaN\n",
              "\n",
              "[5 rows x 56 columns]"
            ]
          },
          "metadata": {
            "tags": []
          },
          "execution_count": 82
        }
      ]
    },
    {
      "cell_type": "code",
      "metadata": {
        "id": "KvFYLV-iE31q",
        "colab_type": "code",
        "colab": {}
      },
      "source": [
        "### Next we get rid of the first n_ts rows that have nan values. \n",
        "df.dropna(axis=0, inplace=True)"
      ],
      "execution_count": 0,
      "outputs": []
    },
    {
      "cell_type": "code",
      "metadata": {
        "id": "QI8eiHmKoArg",
        "colab_type": "code",
        "colab": {
          "base_uri": "https://localhost:8080/",
          "height": 52
        },
        "outputId": "14557a8b-c940-4a13-c208-9fe086bd244c"
      },
      "source": [
        "### The target is the pollution of the day\n",
        "Y = df['pm2.5'].values\n",
        "\n",
        "### Then we get rid of all the measurements of that day. \n",
        "X = df.drop(data.columns, axis=1).values\n",
        "\n",
        "print(X.shape)\n",
        "X = X.reshape(-1, n_ts, n_f)\n",
        "X.shape"
      ],
      "execution_count": 100,
      "outputs": [
        {
          "output_type": "stream",
          "text": [
            "(43818, 48)\n"
          ],
          "name": "stdout"
        },
        {
          "output_type": "execute_result",
          "data": {
            "text/plain": [
              "(43818, 6, 8)"
            ]
          },
          "metadata": {
            "tags": []
          },
          "execution_count": 100
        }
      ]
    },
    {
      "cell_type": "code",
      "metadata": {
        "id": "ebCOzx2SlEau",
        "colab_type": "code",
        "colab": {}
      },
      "source": [
        "'''\n",
        "Before generating the train and validation sets, let's \n",
        "hold a portion of the data for prediction. \n",
        "We seperate the data for the last n_prediction \n",
        "months and later test to see how well our model \n",
        "can predict the target for these months. \n",
        "'''\n",
        "X_future = X[-n_prediction:]\n",
        "Y_future = Y[-n_prediction:]\n",
        "\n",
        "X = X[:-n_prediction]\n",
        "Y = Y[:-n_prediction]"
      ],
      "execution_count": 0,
      "outputs": []
    },
    {
      "cell_type": "code",
      "metadata": {
        "id": "qB-xEha1pNap",
        "colab_type": "code",
        "colab": {
          "base_uri": "https://localhost:8080/",
          "height": 34
        },
        "outputId": "2d03e598-0b46-4b05-9bf3-4e891fabd5e1"
      },
      "source": [
        "from sklearn.model_selection import train_test_split\n",
        "X_train, X_test, Y_train, Y_test = train_test_split(X, Y, random_state = 0)\n",
        "print(X_train.shape)"
      ],
      "execution_count": 102,
      "outputs": [
        {
          "output_type": "stream",
          "text": [
            "(32818, 6, 8)\n"
          ],
          "name": "stdout"
        }
      ]
    },
    {
      "cell_type": "code",
      "metadata": {
        "id": "LH7v0xZeozdl",
        "colab_type": "code",
        "colab": {}
      },
      "source": [
        "from tensorflow.keras.layers import LSTM, RNN, CuDNNLSTM, GRU, Dense, Dropout"
      ],
      "execution_count": 0,
      "outputs": []
    },
    {
      "cell_type": "code",
      "metadata": {
        "id": "l-ZxlbtFo37z",
        "colab_type": "code",
        "colab": {}
      },
      "source": [
        "model2 = keras.models.Sequential()\n",
        "model2.add(CuDNNLSTM(64, input_shape =(n_ts, n_f) , \n",
        "                     return_sequences=True)  )\n",
        "#model2.add(Dropout(.1))\n",
        "\n",
        "model2.add(CuDNNLSTM(32)  )\n",
        "model2.add(Dropout(.1))\n",
        "\n",
        "model2.add(Dense(32,  activation='relu')  )\n",
        "model2.add(Dropout(.1))\n",
        "\n",
        "model2.add(Dense(1,  activation='linear')  )\n",
        "\n",
        "\n",
        "model2.compile(loss = keras.losses.mean_squared_error, \n",
        "              optimizer=keras.optimizers.Adam(lr = .001) )\n",
        "history2 = model2.fit(X_train, Y_train, epochs=100, \n",
        "                      batch_size=16, verbose=0, \n",
        "                      validation_data=(X_test, Y_test))\n",
        "\n",
        "plt.plot(history2.history['loss'], label='in_error')\n",
        "plt.plot(history2.history['val_loss'], label='out_error')\n",
        "plt.legend(loc=0)\n",
        "plt.show()"
      ],
      "execution_count": 0,
      "outputs": []
    },
    {
      "cell_type": "code",
      "metadata": {
        "id": "48EL28jVo3tJ",
        "colab_type": "code",
        "colab": {}
      },
      "source": [
        "Y_fut_predicted2 = model2.predict(X_future)\n",
        "plt.plot(Y_future, label = 'actual data')\n",
        "plt.plot(Y_fut_predicted2, label = 'predicted with 100 epochs')\n",
        "plt.legend(loc=0)\n",
        "plt.show()"
      ],
      "execution_count": 0,
      "outputs": []
    }
  ]
}