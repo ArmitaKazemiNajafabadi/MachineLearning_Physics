{
 "cells": [
  {
   "cell_type": "code",
   "execution_count": 1,
   "metadata": {
    "ExecuteTime": {
     "end_time": "2019-05-26T08:52:40.004050Z",
     "start_time": "2019-05-26T08:52:26.499502Z"
    },
    "init_cell": true
   },
   "outputs": [],
   "source": [
    "import numpy as np\n",
    "import tensorflow as tf\n",
    "from tensorflow import keras\n",
    "import matplotlib.pyplot as plt\n",
    "import pandas as pd\n",
    "\n",
    "from tensorflow.keras.layers import LSTM, RNN, CuDNNLSTM, GRU, Dense"
   ]
  },
  {
   "cell_type": "code",
   "execution_count": 2,
   "metadata": {
    "ExecuteTime": {
     "end_time": "2019-05-26T08:52:40.009026Z",
     "start_time": "2019-05-26T08:52:40.006022Z"
    },
    "init_cell": true
   },
   "outputs": [],
   "source": [
    "n_ts = 6  ## Length of each time sequence or the forcast window\n",
    "n_f = 1\n",
    "n_prediction = 60"
   ]
  },
  {
   "cell_type": "markdown",
   "metadata": {},
   "source": [
    "# Data\n",
    "For this part, we use the sunspot data. You can find more information about this dataset from \n",
    "???\n",
    ". "
   ]
  },
  {
   "cell_type": "code",
   "execution_count": 11,
   "metadata": {
    "ExecuteTime": {
     "end_time": "2019-05-26T09:07:15.602990Z",
     "start_time": "2019-05-26T09:07:14.988977Z"
    },
    "init_cell": true
   },
   "outputs": [
    {
     "data": {
      "text/html": [
       "<div>\n",
       "<style scoped>\n",
       "    .dataframe tbody tr th:only-of-type {\n",
       "        vertical-align: middle;\n",
       "    }\n",
       "\n",
       "    .dataframe tbody tr th {\n",
       "        vertical-align: top;\n",
       "    }\n",
       "\n",
       "    .dataframe thead th {\n",
       "        text-align: right;\n",
       "    }\n",
       "</style>\n",
       "<table border=\"1\" class=\"dataframe\">\n",
       "  <thead>\n",
       "    <tr style=\"text-align: right;\">\n",
       "      <th></th>\n",
       "      <th>Sunspots</th>\n",
       "    </tr>\n",
       "    <tr>\n",
       "      <th>Month</th>\n",
       "      <th></th>\n",
       "    </tr>\n",
       "  </thead>\n",
       "  <tbody>\n",
       "    <tr>\n",
       "      <th>1749-01</th>\n",
       "      <td>58.0</td>\n",
       "    </tr>\n",
       "    <tr>\n",
       "      <th>1749-02</th>\n",
       "      <td>62.6</td>\n",
       "    </tr>\n",
       "    <tr>\n",
       "      <th>1749-03</th>\n",
       "      <td>70.0</td>\n",
       "    </tr>\n",
       "    <tr>\n",
       "      <th>1749-04</th>\n",
       "      <td>55.7</td>\n",
       "    </tr>\n",
       "    <tr>\n",
       "      <th>1749-05</th>\n",
       "      <td>85.0</td>\n",
       "    </tr>\n",
       "  </tbody>\n",
       "</table>\n",
       "</div>"
      ],
      "text/plain": [
       "         Sunspots\n",
       "Month            \n",
       "1749-01      58.0\n",
       "1749-02      62.6\n",
       "1749-03      70.0\n",
       "1749-04      55.7\n",
       "1749-05      85.0"
      ]
     },
     "execution_count": 11,
     "metadata": {},
     "output_type": "execute_result"
    }
   ],
   "source": [
    "# data = pd.read_csv('monthly-sunspots.csv', index_col = 0)\n",
    "import requests, io\n",
    "url = 'https://raw.githubusercontent.com/sraeisi/MachineLearning_Physics/master/Lec_8/monthly-sunspots.csv'\n",
    "c = requests.get(url, stream=True).content\n",
    "data = pd.read_csv(io.BytesIO(c), index_col = 0)\n",
    "data.head()"
   ]
  },
  {
   "cell_type": "code",
   "execution_count": 12,
   "metadata": {
    "ExecuteTime": {
     "end_time": "2019-05-26T09:09:46.823120Z",
     "start_time": "2019-05-26T09:08:48.398110Z"
    }
   },
   "outputs": [
    {
     "data": {
      "image/png": "[encoded data removed]",
      "text/plain": [
       "<Figure size 432x288 with 1 Axes>"
      ]
     },
     "metadata": {
      "needs_background": "light"
     },
     "output_type": "display_data"
    }
   ],
   "source": [
    "'''\n",
    "Let's first plot the data to see if it does have a trend. \n",
    "'''\n",
    "plt.plot(data.Sunspots)\n",
    "plt.title = 'Sunspots in time'\n",
    "plt.xlabel = 'Time (in month)'\n",
    "plt.ylabel = 'Sunspots'\n",
    "plt.show()"
   ]
  },
  {
   "cell_type": "code",
   "execution_count": 13,
   "metadata": {
    "ExecuteTime": {
     "end_time": "2019-05-26T09:09:46.892120Z",
     "start_time": "2019-05-26T09:09:46.867126Z"
    },
    "init_cell": true
   },
   "outputs": [
    {
     "name": "stdout",
     "output_type": "stream",
     "text": [
      "The maximum value is 253.8\n"
     ]
    }
   ],
   "source": [
    "'''\n",
    "As usuall, it is important to standardize/normalize the data. \n",
    "'''\n",
    "\n",
    "print(f'The maximum value is {data.Sunspots.max()}')\n",
    "data.Sunspots = data.Sunspots/data.Sunspots.max()"
   ]
  },
  {
   "cell_type": "markdown",
   "metadata": {},
   "source": [
    "## Generating the time-sequences"
   ]
  },
  {
   "cell_type": "code",
   "execution_count": 4,
   "metadata": {
    "ExecuteTime": {
     "end_time": "2019-05-26T08:52:40.091035Z",
     "start_time": "2019-05-26T08:52:40.085033Z"
    },
    "init_cell": true
   },
   "outputs": [],
   "source": [
    "'''\n",
    "The data in its current format, is not suitable for training a NN. \n",
    "We need to make the time-sequeces. \n",
    "For this, we add new columns to the dataframe and each new col \n",
    "is the same data but shifted. We create n_ts cols to collect\n",
    "all the past n_ts data for each row. \n",
    "The output is a square matrix where each row is a time sequence. \n",
    "We also use the actual value as the target. \n",
    "'''\n",
    "def prepare_time_seqs(data):\n",
    "    output_df = pd.DataFrame()\n",
    "    for i in range(n_ts):\n",
    "        output_df[i] = data.Sunspots.shift(n_ts-i)\n",
    "    output_df['target'] = data.Sunspots        \n",
    "    return output_df\n"
   ]
  },
  {
   "cell_type": "code",
   "execution_count": 14,
   "metadata": {
    "ExecuteTime": {
     "end_time": "2019-05-26T09:09:46.964132Z",
     "start_time": "2019-05-26T09:09:46.935165Z"
    },
    "init_cell": true
   },
   "outputs": [
    {
     "data": {
      "text/html": [
       "<div>\n",
       "<style scoped>\n",
       "    .dataframe tbody tr th:only-of-type {\n",
       "        vertical-align: middle;\n",
       "    }\n",
       "\n",
       "    .dataframe tbody tr th {\n",
       "        vertical-align: top;\n",
       "    }\n",
       "\n",
       "    .dataframe thead th {\n",
       "        text-align: right;\n",
       "    }\n",
       "</style>\n",
       "<table border=\"1\" class=\"dataframe\">\n",
       "  <thead>\n",
       "    <tr style=\"text-align: right;\">\n",
       "      <th></th>\n",
       "      <th>0</th>\n",
       "      <th>1</th>\n",
       "      <th>2</th>\n",
       "      <th>3</th>\n",
       "      <th>4</th>\n",
       "      <th>5</th>\n",
       "      <th>target</th>\n",
       "    </tr>\n",
       "    <tr>\n",
       "      <th>Month</th>\n",
       "      <th></th>\n",
       "      <th></th>\n",
       "      <th></th>\n",
       "      <th></th>\n",
       "      <th></th>\n",
       "      <th></th>\n",
       "      <th></th>\n",
       "    </tr>\n",
       "  </thead>\n",
       "  <tbody>\n",
       "    <tr>\n",
       "      <th>1749-01</th>\n",
       "      <td>NaN</td>\n",
       "      <td>NaN</td>\n",
       "      <td>NaN</td>\n",
       "      <td>NaN</td>\n",
       "      <td>NaN</td>\n",
       "      <td>NaN</td>\n",
       "      <td>0.228526</td>\n",
       "    </tr>\n",
       "    <tr>\n",
       "      <th>1749-02</th>\n",
       "      <td>NaN</td>\n",
       "      <td>NaN</td>\n",
       "      <td>NaN</td>\n",
       "      <td>NaN</td>\n",
       "      <td>NaN</td>\n",
       "      <td>0.228526</td>\n",
       "      <td>0.246651</td>\n",
       "    </tr>\n",
       "    <tr>\n",
       "      <th>1749-03</th>\n",
       "      <td>NaN</td>\n",
       "      <td>NaN</td>\n",
       "      <td>NaN</td>\n",
       "      <td>NaN</td>\n",
       "      <td>0.228526</td>\n",
       "      <td>0.246651</td>\n",
       "      <td>0.275808</td>\n",
       "    </tr>\n",
       "    <tr>\n",
       "      <th>1749-04</th>\n",
       "      <td>NaN</td>\n",
       "      <td>NaN</td>\n",
       "      <td>NaN</td>\n",
       "      <td>0.228526</td>\n",
       "      <td>0.246651</td>\n",
       "      <td>0.275808</td>\n",
       "      <td>0.219464</td>\n",
       "    </tr>\n",
       "    <tr>\n",
       "      <th>1749-05</th>\n",
       "      <td>NaN</td>\n",
       "      <td>NaN</td>\n",
       "      <td>0.228526</td>\n",
       "      <td>0.246651</td>\n",
       "      <td>0.275808</td>\n",
       "      <td>0.219464</td>\n",
       "      <td>0.334909</td>\n",
       "    </tr>\n",
       "    <tr>\n",
       "      <th>1749-06</th>\n",
       "      <td>NaN</td>\n",
       "      <td>0.228526</td>\n",
       "      <td>0.246651</td>\n",
       "      <td>0.275808</td>\n",
       "      <td>0.219464</td>\n",
       "      <td>0.334909</td>\n",
       "      <td>0.328999</td>\n",
       "    </tr>\n",
       "    <tr>\n",
       "      <th>1749-07</th>\n",
       "      <td>0.228526</td>\n",
       "      <td>0.246651</td>\n",
       "      <td>0.275808</td>\n",
       "      <td>0.219464</td>\n",
       "      <td>0.334909</td>\n",
       "      <td>0.328999</td>\n",
       "      <td>0.373522</td>\n",
       "    </tr>\n",
       "    <tr>\n",
       "      <th>1749-08</th>\n",
       "      <td>0.246651</td>\n",
       "      <td>0.275808</td>\n",
       "      <td>0.219464</td>\n",
       "      <td>0.334909</td>\n",
       "      <td>0.328999</td>\n",
       "      <td>0.373522</td>\n",
       "      <td>0.261229</td>\n",
       "    </tr>\n",
       "    <tr>\n",
       "      <th>1749-09</th>\n",
       "      <td>0.275808</td>\n",
       "      <td>0.219464</td>\n",
       "      <td>0.334909</td>\n",
       "      <td>0.328999</td>\n",
       "      <td>0.373522</td>\n",
       "      <td>0.261229</td>\n",
       "      <td>0.299054</td>\n",
       "    </tr>\n",
       "    <tr>\n",
       "      <th>1749-10</th>\n",
       "      <td>0.219464</td>\n",
       "      <td>0.334909</td>\n",
       "      <td>0.328999</td>\n",
       "      <td>0.373522</td>\n",
       "      <td>0.261229</td>\n",
       "      <td>0.299054</td>\n",
       "      <td>0.297478</td>\n",
       "    </tr>\n",
       "  </tbody>\n",
       "</table>\n",
       "</div>"
      ],
      "text/plain": [
       "                0         1         2         3         4         5    target\n",
       "Month                                                                        \n",
       "1749-01       NaN       NaN       NaN       NaN       NaN       NaN  0.228526\n",
       "1749-02       NaN       NaN       NaN       NaN       NaN  0.228526  0.246651\n",
       "1749-03       NaN       NaN       NaN       NaN  0.228526  0.246651  0.275808\n",
       "1749-04       NaN       NaN       NaN  0.228526  0.246651  0.275808  0.219464\n",
       "1749-05       NaN       NaN  0.228526  0.246651  0.275808  0.219464  0.334909\n",
       "1749-06       NaN  0.228526  0.246651  0.275808  0.219464  0.334909  0.328999\n",
       "1749-07  0.228526  0.246651  0.275808  0.219464  0.334909  0.328999  0.373522\n",
       "1749-08  0.246651  0.275808  0.219464  0.334909  0.328999  0.373522  0.261229\n",
       "1749-09  0.275808  0.219464  0.334909  0.328999  0.373522  0.261229  0.299054\n",
       "1749-10  0.219464  0.334909  0.328999  0.373522  0.261229  0.299054  0.297478"
      ]
     },
     "execution_count": 14,
     "metadata": {},
     "output_type": "execute_result"
    }
   ],
   "source": [
    "df = prepare_time_seqs(data)\n",
    "df.head(10)"
   ]
  },
  {
   "cell_type": "code",
   "execution_count": 15,
   "metadata": {
    "ExecuteTime": {
     "end_time": "2019-05-26T09:09:47.024126Z",
     "start_time": "2019-05-26T09:09:47.001119Z"
    },
    "init_cell": true
   },
   "outputs": [
    {
     "data": {
      "text/html": [
       "<div>\n",
       "<style scoped>\n",
       "    .dataframe tbody tr th:only-of-type {\n",
       "        vertical-align: middle;\n",
       "    }\n",
       "\n",
       "    .dataframe tbody tr th {\n",
       "        vertical-align: top;\n",
       "    }\n",
       "\n",
       "    .dataframe thead th {\n",
       "        text-align: right;\n",
       "    }\n",
       "</style>\n",
       "<table border=\"1\" class=\"dataframe\">\n",
       "  <thead>\n",
       "    <tr style=\"text-align: right;\">\n",
       "      <th></th>\n",
       "      <th>0</th>\n",
       "      <th>1</th>\n",
       "      <th>2</th>\n",
       "      <th>3</th>\n",
       "      <th>4</th>\n",
       "      <th>5</th>\n",
       "      <th>target</th>\n",
       "    </tr>\n",
       "    <tr>\n",
       "      <th>Month</th>\n",
       "      <th></th>\n",
       "      <th></th>\n",
       "      <th></th>\n",
       "      <th></th>\n",
       "      <th></th>\n",
       "      <th></th>\n",
       "      <th></th>\n",
       "    </tr>\n",
       "  </thead>\n",
       "  <tbody>\n",
       "    <tr>\n",
       "      <th>1749-07</th>\n",
       "      <td>0.228526</td>\n",
       "      <td>0.246651</td>\n",
       "      <td>0.275808</td>\n",
       "      <td>0.219464</td>\n",
       "      <td>0.334909</td>\n",
       "      <td>0.328999</td>\n",
       "      <td>0.373522</td>\n",
       "    </tr>\n",
       "    <tr>\n",
       "      <th>1749-08</th>\n",
       "      <td>0.246651</td>\n",
       "      <td>0.275808</td>\n",
       "      <td>0.219464</td>\n",
       "      <td>0.334909</td>\n",
       "      <td>0.328999</td>\n",
       "      <td>0.373522</td>\n",
       "      <td>0.261229</td>\n",
       "    </tr>\n",
       "    <tr>\n",
       "      <th>1749-09</th>\n",
       "      <td>0.275808</td>\n",
       "      <td>0.219464</td>\n",
       "      <td>0.334909</td>\n",
       "      <td>0.328999</td>\n",
       "      <td>0.373522</td>\n",
       "      <td>0.261229</td>\n",
       "      <td>0.299054</td>\n",
       "    </tr>\n",
       "    <tr>\n",
       "      <th>1749-10</th>\n",
       "      <td>0.219464</td>\n",
       "      <td>0.334909</td>\n",
       "      <td>0.328999</td>\n",
       "      <td>0.373522</td>\n",
       "      <td>0.261229</td>\n",
       "      <td>0.299054</td>\n",
       "      <td>0.297478</td>\n",
       "    </tr>\n",
       "    <tr>\n",
       "      <th>1749-11</th>\n",
       "      <td>0.334909</td>\n",
       "      <td>0.328999</td>\n",
       "      <td>0.373522</td>\n",
       "      <td>0.261229</td>\n",
       "      <td>0.299054</td>\n",
       "      <td>0.297478</td>\n",
       "      <td>0.624901</td>\n",
       "    </tr>\n",
       "  </tbody>\n",
       "</table>\n",
       "</div>"
      ],
      "text/plain": [
       "                0         1         2         3         4         5    target\n",
       "Month                                                                        \n",
       "1749-07  0.228526  0.246651  0.275808  0.219464  0.334909  0.328999  0.373522\n",
       "1749-08  0.246651  0.275808  0.219464  0.334909  0.328999  0.373522  0.261229\n",
       "1749-09  0.275808  0.219464  0.334909  0.328999  0.373522  0.261229  0.299054\n",
       "1749-10  0.219464  0.334909  0.328999  0.373522  0.261229  0.299054  0.297478\n",
       "1749-11  0.334909  0.328999  0.373522  0.261229  0.299054  0.297478  0.624901"
      ]
     },
     "execution_count": 15,
     "metadata": {},
     "output_type": "execute_result"
    }
   ],
   "source": [
    "'''\n",
    "The shift operator creates some NAN values since for the boundary, \n",
    "there's no value to be shifted forward. \n",
    "We can simply drop them. \n",
    "Note that if you want to increase n_ts, dropping the NaN values \n",
    "could result in significant data loss. \n",
    "'''\n",
    "df.dropna(axis=0, inplace=True)\n",
    "df.head()"
   ]
  },
  {
   "cell_type": "code",
   "execution_count": 20,
   "metadata": {
    "ExecuteTime": {
     "end_time": "2019-05-26T09:10:16.519548Z",
     "start_time": "2019-05-26T09:10:16.510549Z"
    },
    "init_cell": true
   },
   "outputs": [
    {
     "name": "stdout",
     "output_type": "stream",
     "text": [
      "(2814, 6)\n"
     ]
    },
    {
     "data": {
      "text/plain": [
       "(2814, 6, 1)"
      ]
     },
     "execution_count": 20,
     "metadata": {},
     "output_type": "execute_result"
    }
   ],
   "source": [
    "'''\n",
    "Next we form the X and Y. \n",
    "It is important to shape X to \n",
    "(n_s, n_ts, n_f)\n",
    "\n",
    "For this example. n_f is one. \n",
    "'''\n",
    "\n",
    "Y = df.target.values\n",
    "X = df.drop('target', axis=1).values\n",
    "print(X.shape)\n",
    "X = X.reshape(-1, n_ts, n_f)\n",
    "X.shape"
   ]
  },
  {
   "cell_type": "code",
   "execution_count": 21,
   "metadata": {
    "ExecuteTime": {
     "end_time": "2019-05-26T09:10:16.925544Z",
     "start_time": "2019-05-26T09:10:16.921548Z"
    },
    "init_cell": true
   },
   "outputs": [],
   "source": [
    "'''\n",
    "Before generating the train and validation sets, let's \n",
    "hold a portion of the data for prediction. \n",
    "We seperate the data for the last n_prediction \n",
    "months and later test to see how well our model \n",
    "can predict the target for these months. \n",
    "'''\n",
    "X_future = X[-n_prediction:]\n",
    "Y_future = Y[-n_prediction:]\n",
    "\n",
    "X = X[:-n_prediction]\n",
    "Y = Y[:-n_prediction]"
   ]
  },
  {
   "cell_type": "code",
   "execution_count": 22,
   "metadata": {
    "ExecuteTime": {
     "end_time": "2019-05-26T09:10:17.315549Z",
     "start_time": "2019-05-26T09:10:17.307553Z"
    },
    "init_cell": true
   },
   "outputs": [
    {
     "name": "stdout",
     "output_type": "stream",
     "text": [
      "(2065, 6, 1)\n"
     ]
    }
   ],
   "source": [
    "from sklearn.model_selection import train_test_split\n",
    "X_train, X_test, Y_train, Y_test = train_test_split(X, Y, random_state = 0)\n",
    "print(X_train.shape)"
   ]
  },
  {
   "cell_type": "markdown",
   "metadata": {},
   "source": [
    "# Model\n",
    "\n",
    "We train a LSTM model. It is as easy to use the other kind of RNN layers. "
   ]
  },
  {
   "cell_type": "code",
   "execution_count": 23,
   "metadata": {
    "ExecuteTime": {
     "end_time": "2019-05-26T09:10:46.914541Z",
     "start_time": "2019-05-26T09:10:46.848555Z"
    }
   },
   "outputs": [],
   "source": [
    "model = keras.models.Sequential()"
   ]
  },
  {
   "cell_type": "code",
   "execution_count": 24,
   "metadata": {
    "ExecuteTime": {
     "end_time": "2019-05-26T09:10:48.083581Z",
     "start_time": "2019-05-26T09:10:48.078583Z"
    }
   },
   "outputs": [],
   "source": [
    "from tensorflow.keras.layers import LSTM, RNN, CuDNNLSTM, GRU, Dense, Dropout"
   ]
  },
  {
   "cell_type": "code",
   "execution_count": 25,
   "metadata": {
    "ExecuteTime": {
     "end_time": "2019-05-26T09:10:50.217582Z",
     "start_time": "2019-05-26T09:10:49.544553Z"
    }
   },
   "outputs": [
    {
     "name": "stdout",
     "output_type": "stream",
     "text": [
      "WARNING:tensorflow:From C:\\Users\\sraeisi\\.conda\\envs\\keras-gpu\\lib\\site-packages\\tensorflow\\python\\ops\\resource_variable_ops.py:435: colocate_with (from tensorflow.python.framework.ops) is deprecated and will be removed in a future version.\n",
      "Instructions for updating:\n",
      "Colocations handled automatically by placer.\n"
     ]
    }
   ],
   "source": [
    "\n",
    "# clear(model)\n",
    "model = keras.models.Sequential()\n",
    "model.add(LSTM(64, input_shape =(n_ts, n_f) , \n",
    "               activation='relu', \n",
    "               return_sequences=True) \n",
    "         )\n",
    "\n",
    "model.add(LSTM(32,  activation='relu')  )\n",
    "\n",
    "model.add(Dense(32,  activation='relu')  )\n",
    "\n",
    "model.add(Dense(1,  activation='linear')  )\n",
    "\n",
    "\n",
    "model.compile(loss = keras.losses.mean_squared_error, \n",
    "              optimizer=keras.optimizers.Adam(lr = .001) )\n"
   ]
  },
  {
   "cell_type": "code",
   "execution_count": 26,
   "metadata": {
    "ExecuteTime": {
     "end_time": "2019-05-26T09:10:51.082543Z",
     "start_time": "2019-05-26T09:10:51.074554Z"
    }
   },
   "outputs": [
    {
     "name": "stdout",
     "output_type": "stream",
     "text": [
      "_________________________________________________________________\n",
      "Layer (type)                 Output Shape              Param #   \n",
      "=================================================================\n",
      "lstm (LSTM)                  (None, 6, 64)             16896     \n",
      "_________________________________________________________________\n",
      "lstm_1 (LSTM)                (None, 32)                12416     \n",
      "_________________________________________________________________\n",
      "dense (Dense)                (None, 32)                1056      \n",
      "_________________________________________________________________\n",
      "dense_1 (Dense)              (None, 1)                 33        \n",
      "=================================================================\n",
      "Total params: 30,401\n",
      "Trainable params: 30,401\n",
      "Non-trainable params: 0\n",
      "_________________________________________________________________\n"
     ]
    }
   ],
   "source": [
    "model.summary()"
   ]
  },
  {
   "cell_type": "code",
   "execution_count": 27,
   "metadata": {
    "ExecuteTime": {
     "end_time": "2019-05-26T09:11:42.265385Z",
     "start_time": "2019-05-26T09:10:52.199552Z"
    }
   },
   "outputs": [
    {
     "name": "stdout",
     "output_type": "stream",
     "text": [
      "Train on 2065 samples, validate on 689 samples\n",
      "WARNING:tensorflow:From C:\\Users\\sraeisi\\.conda\\envs\\keras-gpu\\lib\\site-packages\\tensorflow\\python\\ops\\math_ops.py:3066: to_int32 (from tensorflow.python.ops.math_ops) is deprecated and will be removed in a future version.\n",
      "Instructions for updating:\n",
      "Use tf.cast instead.\n",
      "Epoch 1/10\n",
      "2065/2065 [==============================] - 11s 5ms/sample - loss: 0.0136 - val_loss: 0.0064\n",
      "Epoch 2/10\n",
      "2065/2065 [==============================] - 4s 2ms/sample - loss: 0.0054 - val_loss: 0.0055\n",
      "Epoch 3/10\n",
      "2065/2065 [==============================] - 4s 2ms/sample - loss: 0.0051 - val_loss: 0.0051\n",
      "Epoch 4/10\n",
      "2065/2065 [==============================] - 4s 2ms/sample - loss: 0.0050 - val_loss: 0.0065\n",
      "Epoch 5/10\n",
      "2065/2065 [==============================] - 4s 2ms/sample - loss: 0.0048 - val_loss: 0.0047\n",
      "Epoch 6/10\n",
      "2065/2065 [==============================] - 4s 2ms/sample - loss: 0.0046 - val_loss: 0.0048\n",
      "Epoch 7/10\n",
      "2065/2065 [==============================] - 4s 2ms/sample - loss: 0.0045 - val_loss: 0.0045\n",
      "Epoch 8/10\n",
      "2065/2065 [==============================] - 5s 2ms/sample - loss: 0.0043 - val_loss: 0.0044\n",
      "Epoch 9/10\n",
      "2065/2065 [==============================] - 4s 2ms/sample - loss: 0.0042 - val_loss: 0.0046\n",
      "Epoch 10/10\n",
      "2065/2065 [==============================] - 4s 2ms/sample - loss: 0.0043 - val_loss: 0.0056\n"
     ]
    }
   ],
   "source": [
    "history = model.fit(X_train, Y_train, \n",
    "                    epochs=10, batch_size=16, \n",
    "                    verbose=1, validation_data=(X_test, Y_test))"
   ]
  },
  {
   "cell_type": "code",
   "execution_count": 31,
   "metadata": {
    "ExecuteTime": {
     "end_time": "2019-05-26T09:16:04.433840Z",
     "start_time": "2019-05-26T09:16:04.295848Z"
    }
   },
   "outputs": [
    {
     "data": {
      "image/png": "[encoded data removed]",
      "text/plain": [
       "<Figure size 432x288 with 1 Axes>"
      ]
     },
     "metadata": {
      "needs_background": "light"
     },
     "output_type": "display_data"
    }
   ],
   "source": [
    "plt.plot(history.history['loss'], label='in_error')\n",
    "plt.plot(history.history['val_loss'], label='out_error')\n",
    "plt.title = 'Loss of the model'\n",
    "plt.xlabel = 'Time (Epochs)'\n",
    "plt.ylabel = 'Loss'\n",
    "plt.legend(loc=0)\n",
    "plt.show()"
   ]
  },
  {
   "cell_type": "code",
   "execution_count": 29,
   "metadata": {
    "ExecuteTime": {
     "end_time": "2019-05-26T09:12:38.874660Z",
     "start_time": "2019-05-26T09:12:38.314228Z"
    }
   },
   "outputs": [
    {
     "data": {
      "text/plain": [
       "[<matplotlib.lines.Line2D at 0x22d51bf7550>]"
      ]
     },
     "execution_count": 29,
     "metadata": {},
     "output_type": "execute_result"
    },
    {
     "data": {
      "image/png": "[encoded data removed]",
      "text/plain": [
       "<Figure size 432x288 with 1 Axes>"
      ]
     },
     "metadata": {
      "needs_background": "light"
     },
     "output_type": "display_data"
    }
   ],
   "source": [
    "'''\n",
    "Now we use the model to predict the sunspots for the missing month \n",
    "and then compare to the actual values. \n",
    "From the plot it is clear that the predicted values follow the trend, \n",
    "however, there seems to be a delay. \n",
    "'''\n",
    "Y_fut_predicted = model.predict(X_future)\n",
    "plt.plot(Y_future)\n",
    "plt.plot(Y_fut_predicted)"
   ]
  },
  {
   "cell_type": "markdown",
   "metadata": {},
   "source": [
    "## Faster LSTM\n",
    "\n",
    "Here we use CuDnnLSTM which is much faster and gives similar results."
   ]
  },
  {
   "cell_type": "code",
   "execution_count": 68,
   "metadata": {
    "ExecuteTime": {
     "end_time": "2019-05-25T08:40:22.668051Z",
     "start_time": "2019-05-25T08:38:44.435957Z"
    }
   },
   "outputs": [
    {
     "data": {
      "image/png": "[encoded data removed]",
      "text/plain": [
       "<Figure size 432x288 with 1 Axes>"
      ]
     },
     "metadata": {
      "needs_background": "light"
     },
     "output_type": "display_data"
    }
   ],
   "source": [
    "model2 = keras.models.Sequential()\n",
    "model2.add(CuDNNLSTM(64, input_shape =(n_ts, n_f) , \n",
    "                     return_sequences=True)  )\n",
    "\n",
    "model2.add(CuDNNLSTM(32)  )\n",
    "\n",
    "model2.add(Dense(32,  activation='relu')  )\n",
    "\n",
    "model2.add(Dense(1,  activation='linear')  )\n",
    "\n",
    "\n",
    "model2.compile(loss = keras.losses.mean_squared_error, \n",
    "              optimizer=keras.optimizers.Adam(lr = .001) )\n",
    "history2 = model2.fit(X_train, Y_train, epochs=100, \n",
    "                      batch_size=16, verbose=0, \n",
    "                      validation_data=(X_test, Y_test))\n",
    "\n",
    "plt.plot(history2.history['loss'], label='in_error')\n",
    "plt.plot(history2.history['val_loss'], label='out_error')\n",
    "plt.legend(loc=0)\n",
    "plt.title = 'Loss of the model'\n",
    "plt.xlabel = 'Time (Epochs)'\n",
    "plt.ylabel = 'Loss'\n",
    "plt.show()"
   ]
  },
  {
   "cell_type": "code",
   "execution_count": 70,
   "metadata": {
    "ExecuteTime": {
     "end_time": "2019-05-25T08:42:46.009004Z",
     "start_time": "2019-05-25T08:42:45.267852Z"
    }
   },
   "outputs": [
    {
     "data": {
      "image/png": "[encoded data removed]",
      "text/plain": [
       "<Figure size 432x288 with 1 Axes>"
      ]
     },
     "metadata": {
      "needs_background": "light"
     },
     "output_type": "display_data"
    }
   ],
   "source": [
    "Y_fut_predicted = model.predict(X_future)\n",
    "Y_fut_predicted2 = model2.predict(X_future)\n",
    "plt.plot(Y_future, label = 'actual data')\n",
    "plt.plot(Y_fut_predicted, label = 'predicted with 10 epochs')\n",
    "plt.plot(Y_fut_predicted2, label = 'predicted with 100 epochs')\n",
    "plt.legend(loc=0)\n",
    "plt.show()"
   ]
  },
  {
   "cell_type": "markdown",
   "metadata": {},
   "source": [
    "## Overfitting \n",
    "\n",
    "It is clear from the loss above that the model is overfitting. We add some dropout to reduce that."
   ]
  },
  {
   "cell_type": "code",
   "execution_count": null,
   "metadata": {},
   "outputs": [],
   "source": [
    "model2 = keras.models.Sequential()\n",
    "model2.add(CuDNNLSTM(64, input_shape =(n_ts, n_f) , \n",
    "                     return_sequences=True)  )\n",
    "#model2.add(Dropout(.1))\n",
    "\n",
    "model2.add(CuDNNLSTM(32)  )\n",
    "model2.add(Dropout(.1))\n",
    "\n",
    "model2.add(Dense(32,  activation='relu')  )\n",
    "model2.add(Dropout(.1))\n",
    "\n",
    "model2.add(Dense(1,  activation='linear')  )\n",
    "\n",
    "\n",
    "model2.compile(loss = keras.losses.mean_squared_error, \n",
    "              optimizer=keras.optimizers.Adam(lr = .001) )\n",
    "history2 = model2.fit(X_train, Y_train, epochs=100, \n",
    "                      batch_size=16, verbose=0, \n",
    "                      validation_data=(X_test, Y_test))\n",
    "\n",
    "plt.plot(history2.history['loss'], label='in_error')\n",
    "plt.plot(history2.history['val_loss'], label='out_error')\n",
    "plt.legend(loc=0)\n",
    "plt.show()"
   ]
  },
  {
   "cell_type": "code",
   "execution_count": 75,
   "metadata": {
    "ExecuteTime": {
     "end_time": "2019-05-25T08:52:13.720727Z",
     "start_time": "2019-05-25T08:52:12.866268Z"
    }
   },
   "outputs": [
    {
     "data": {
      "image/png": "[encoded data removed]",
      "text/plain": [
       "<Figure size 432x288 with 1 Axes>"
      ]
     },
     "metadata": {
      "needs_background": "light"
     },
     "output_type": "display_data"
    }
   ],
   "source": [
    "Y_fut_predicted = model.predict(X_future)\n",
    "Y_fut_predicted2 = model2.predict(X_future)\n",
    "plt.plot(Y_future, label = 'actual data')\n",
    "plt.plot(Y_fut_predicted, label = 'predicted with 10 epochs')\n",
    "plt.plot(Y_fut_predicted2, label = 'predicted with 100 epochs')\n",
    "plt.legend(loc=0)\n",
    "plt.show()"
   ]
  },
  {
   "cell_type": "code",
   "execution_count": null,
   "metadata": {},
   "outputs": [],
   "source": []
  }
 ],
 "metadata": {
  "celltoolbar": "Initialization Cell",
  "kernelspec": {
   "display_name": "Python 3",
   "language": "python",
   "name": "python3"
  },
  "language_info": {
   "codemirror_mode": {
    "name": "ipython",
    "version": 3
   },
   "file_extension": ".py",
   "mimetype": "text/x-python",
   "name": "python",
   "nbconvert_exporter": "python",
   "pygments_lexer": "ipython3",
   "version": "3.6.8"
  },
  "latex_envs": {
   "LaTeX_envs_menu_present": true,
   "autoclose": false,
   "autocomplete": true,
   "bibliofile": "biblio.bib",
   "cite_by": "apalike",
   "current_citInitial": 1,
   "eqLabelWithNumbers": true,
   "eqNumInitial": 1,
   "hotkeys": {
    "equation": "Ctrl-E",
    "itemize": "Ctrl-I"
   },
   "labels_anchors": false,
   "latex_user_defs": false,
   "report_style_numbering": false,
   "user_envs_cfg": false
  },
  "toc": {
   "base_numbering": 1,
   "nav_menu": {},
   "number_sections": true,
   "sideBar": true,
   "skip_h1_title": false,
   "title_cell": "Table of Contents",
   "title_sidebar": "Contents",
   "toc_cell": false,
   "toc_position": {},
   "toc_section_display": true,
   "toc_window_display": false
  },
  "varInspector": {
   "cols": {
    "lenName": 16,
    "lenType": 16,
    "lenVar": 40
   },
   "kernels_config": {
    "python": {
     "delete_cmd_postfix": "",
     "delete_cmd_prefix": "del ",
     "library": "var_list.py",
     "varRefreshCmd": "print(var_dic_list())"
    },
    "r": {
     "delete_cmd_postfix": ") ",
     "delete_cmd_prefix": "rm(",
     "library": "var_list.r",
     "varRefreshCmd": "cat(var_dic_list()) "
    }
   },
   "types_to_exclude": [
    "module",
    "function",
    "builtin_function_or_method",
    "instance",
    "_Feature"
   ],
   "window_display": false
  }
 },
 "nbformat": 4,
 "nbformat_minor": 2
}
